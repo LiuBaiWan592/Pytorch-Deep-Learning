{
 "cells": [
  {
   "cell_type": "markdown",
   "metadata": {},
   "source": [
    "# 多分类问题与通用训练函数"
   ]
  },
  {
   "cell_type": "markdown",
   "metadata": {},
   "source": [
    "**Softmax函数：** 将输出值映射到0-1之间，并且所有输出的和为1，常用于多分类问题。当只有两个类别时，对数几率函数和softmax函数是等价的。\n",
    "\n",
    "**pytorch交叉熵：** 对于多分类问题，pytorch提供了交叉熵函数（nn.CrossEntropyLoss和nn.NLLLoss），其中nn.CrossEntropyLoss内部实现了softmax函数，并且对标签值进行了one-hot编码，而nn.NLLLoss需要手动添加softmax函数。"
   ]
  },
  {
   "cell_type": "code",
   "execution_count": 1,
   "metadata": {},
   "outputs": [],
   "source": [
    "import torch\n",
    "import pandas as pd\n",
    "import numpy as np\n",
    "import matplotlib.pyplot as plt"
   ]
  },
  {
   "cell_type": "markdown",
   "metadata": {},
   "source": [
    "## 预处理数据"
   ]
  },
  {
   "cell_type": "code",
   "execution_count": 2,
   "metadata": {},
   "outputs": [
    {
     "data": {
      "text/html": [
       "<div>\n",
       "<style scoped>\n",
       "    .dataframe tbody tr th:only-of-type {\n",
       "        vertical-align: middle;\n",
       "    }\n",
       "\n",
       "    .dataframe tbody tr th {\n",
       "        vertical-align: top;\n",
       "    }\n",
       "\n",
       "    .dataframe thead th {\n",
       "        text-align: right;\n",
       "    }\n",
       "</style>\n",
       "<table border=\"1\" class=\"dataframe\">\n",
       "  <thead>\n",
       "    <tr style=\"text-align: right;\">\n",
       "      <th></th>\n",
       "      <th>Unnamed: 0</th>\n",
       "      <th>Sepal.Length</th>\n",
       "      <th>Sepal.Width</th>\n",
       "      <th>Petal.Length</th>\n",
       "      <th>Petal.Width</th>\n",
       "      <th>Species</th>\n",
       "    </tr>\n",
       "  </thead>\n",
       "  <tbody>\n",
       "    <tr>\n",
       "      <th>0</th>\n",
       "      <td>1</td>\n",
       "      <td>5.1</td>\n",
       "      <td>3.5</td>\n",
       "      <td>1.4</td>\n",
       "      <td>0.2</td>\n",
       "      <td>setosa</td>\n",
       "    </tr>\n",
       "    <tr>\n",
       "      <th>1</th>\n",
       "      <td>2</td>\n",
       "      <td>4.9</td>\n",
       "      <td>3.0</td>\n",
       "      <td>1.4</td>\n",
       "      <td>0.2</td>\n",
       "      <td>setosa</td>\n",
       "    </tr>\n",
       "    <tr>\n",
       "      <th>2</th>\n",
       "      <td>3</td>\n",
       "      <td>4.7</td>\n",
       "      <td>3.2</td>\n",
       "      <td>1.3</td>\n",
       "      <td>0.2</td>\n",
       "      <td>setosa</td>\n",
       "    </tr>\n",
       "    <tr>\n",
       "      <th>3</th>\n",
       "      <td>4</td>\n",
       "      <td>4.6</td>\n",
       "      <td>3.1</td>\n",
       "      <td>1.5</td>\n",
       "      <td>0.2</td>\n",
       "      <td>setosa</td>\n",
       "    </tr>\n",
       "    <tr>\n",
       "      <th>4</th>\n",
       "      <td>5</td>\n",
       "      <td>5.0</td>\n",
       "      <td>3.6</td>\n",
       "      <td>1.4</td>\n",
       "      <td>0.2</td>\n",
       "      <td>setosa</td>\n",
       "    </tr>\n",
       "  </tbody>\n",
       "</table>\n",
       "</div>"
      ],
      "text/plain": [
       "   Unnamed: 0  Sepal.Length  Sepal.Width  Petal.Length  Petal.Width Species\n",
       "0           1           5.1          3.5           1.4          0.2  setosa\n",
       "1           2           4.9          3.0           1.4          0.2  setosa\n",
       "2           3           4.7          3.2           1.3          0.2  setosa\n",
       "3           4           4.6          3.1           1.5          0.2  setosa\n",
       "4           5           5.0          3.6           1.4          0.2  setosa"
      ]
     },
     "execution_count": 2,
     "metadata": {},
     "output_type": "execute_result"
    }
   ],
   "source": [
    "# 数据集，鸢尾花数据集\n",
    "data = pd.read_csv('./dataset/iris.csv')\n",
    "data.head()"
   ]
  },
  {
   "cell_type": "code",
   "execution_count": 3,
   "metadata": {},
   "outputs": [
    {
     "name": "stdout",
     "output_type": "stream",
     "text": [
      "['setosa' 'versicolor' 'virginica']\n",
      "(array([0, 0, 0, 0, 0, 0, 0, 0, 0, 0, 0, 0, 0, 0, 0, 0, 0, 0, 0, 0, 0, 0,\n",
      "       0, 0, 0, 0, 0, 0, 0, 0, 0, 0, 0, 0, 0, 0, 0, 0, 0, 0, 0, 0, 0, 0,\n",
      "       0, 0, 0, 0, 0, 0, 1, 1, 1, 1, 1, 1, 1, 1, 1, 1, 1, 1, 1, 1, 1, 1,\n",
      "       1, 1, 1, 1, 1, 1, 1, 1, 1, 1, 1, 1, 1, 1, 1, 1, 1, 1, 1, 1, 1, 1,\n",
      "       1, 1, 1, 1, 1, 1, 1, 1, 1, 1, 1, 1, 2, 2, 2, 2, 2, 2, 2, 2, 2, 2,\n",
      "       2, 2, 2, 2, 2, 2, 2, 2, 2, 2, 2, 2, 2, 2, 2, 2, 2, 2, 2, 2, 2, 2,\n",
      "       2, 2, 2, 2, 2, 2, 2, 2, 2, 2, 2, 2, 2, 2, 2, 2, 2, 2], dtype=int64), Index(['setosa', 'versicolor', 'virginica'], dtype='object'))\n"
     ]
    }
   ],
   "source": [
    "print(data.Species.unique())\n",
    "print(pd.factorize(data.Species))"
   ]
  },
  {
   "cell_type": "code",
   "execution_count": 4,
   "metadata": {},
   "outputs": [
    {
     "data": {
      "text/html": [
       "<div>\n",
       "<style scoped>\n",
       "    .dataframe tbody tr th:only-of-type {\n",
       "        vertical-align: middle;\n",
       "    }\n",
       "\n",
       "    .dataframe tbody tr th {\n",
       "        vertical-align: top;\n",
       "    }\n",
       "\n",
       "    .dataframe thead th {\n",
       "        text-align: right;\n",
       "    }\n",
       "</style>\n",
       "<table border=\"1\" class=\"dataframe\">\n",
       "  <thead>\n",
       "    <tr style=\"text-align: right;\">\n",
       "      <th></th>\n",
       "      <th>Unnamed: 0</th>\n",
       "      <th>Sepal.Length</th>\n",
       "      <th>Sepal.Width</th>\n",
       "      <th>Petal.Length</th>\n",
       "      <th>Petal.Width</th>\n",
       "      <th>Species</th>\n",
       "    </tr>\n",
       "  </thead>\n",
       "  <tbody>\n",
       "    <tr>\n",
       "      <th>0</th>\n",
       "      <td>1</td>\n",
       "      <td>5.1</td>\n",
       "      <td>3.5</td>\n",
       "      <td>1.4</td>\n",
       "      <td>0.2</td>\n",
       "      <td>0</td>\n",
       "    </tr>\n",
       "    <tr>\n",
       "      <th>1</th>\n",
       "      <td>2</td>\n",
       "      <td>4.9</td>\n",
       "      <td>3.0</td>\n",
       "      <td>1.4</td>\n",
       "      <td>0.2</td>\n",
       "      <td>0</td>\n",
       "    </tr>\n",
       "    <tr>\n",
       "      <th>2</th>\n",
       "      <td>3</td>\n",
       "      <td>4.7</td>\n",
       "      <td>3.2</td>\n",
       "      <td>1.3</td>\n",
       "      <td>0.2</td>\n",
       "      <td>0</td>\n",
       "    </tr>\n",
       "    <tr>\n",
       "      <th>3</th>\n",
       "      <td>4</td>\n",
       "      <td>4.6</td>\n",
       "      <td>3.1</td>\n",
       "      <td>1.5</td>\n",
       "      <td>0.2</td>\n",
       "      <td>0</td>\n",
       "    </tr>\n",
       "    <tr>\n",
       "      <th>4</th>\n",
       "      <td>5</td>\n",
       "      <td>5.0</td>\n",
       "      <td>3.6</td>\n",
       "      <td>1.4</td>\n",
       "      <td>0.2</td>\n",
       "      <td>0</td>\n",
       "    </tr>\n",
       "    <tr>\n",
       "      <th>...</th>\n",
       "      <td>...</td>\n",
       "      <td>...</td>\n",
       "      <td>...</td>\n",
       "      <td>...</td>\n",
       "      <td>...</td>\n",
       "      <td>...</td>\n",
       "    </tr>\n",
       "    <tr>\n",
       "      <th>145</th>\n",
       "      <td>146</td>\n",
       "      <td>6.7</td>\n",
       "      <td>3.0</td>\n",
       "      <td>5.2</td>\n",
       "      <td>2.3</td>\n",
       "      <td>2</td>\n",
       "    </tr>\n",
       "    <tr>\n",
       "      <th>146</th>\n",
       "      <td>147</td>\n",
       "      <td>6.3</td>\n",
       "      <td>2.5</td>\n",
       "      <td>5.0</td>\n",
       "      <td>1.9</td>\n",
       "      <td>2</td>\n",
       "    </tr>\n",
       "    <tr>\n",
       "      <th>147</th>\n",
       "      <td>148</td>\n",
       "      <td>6.5</td>\n",
       "      <td>3.0</td>\n",
       "      <td>5.2</td>\n",
       "      <td>2.0</td>\n",
       "      <td>2</td>\n",
       "    </tr>\n",
       "    <tr>\n",
       "      <th>148</th>\n",
       "      <td>149</td>\n",
       "      <td>6.2</td>\n",
       "      <td>3.4</td>\n",
       "      <td>5.4</td>\n",
       "      <td>2.3</td>\n",
       "      <td>2</td>\n",
       "    </tr>\n",
       "    <tr>\n",
       "      <th>149</th>\n",
       "      <td>150</td>\n",
       "      <td>5.9</td>\n",
       "      <td>3.0</td>\n",
       "      <td>5.1</td>\n",
       "      <td>1.8</td>\n",
       "      <td>2</td>\n",
       "    </tr>\n",
       "  </tbody>\n",
       "</table>\n",
       "<p>150 rows × 6 columns</p>\n",
       "</div>"
      ],
      "text/plain": [
       "     Unnamed: 0  Sepal.Length  Sepal.Width  Petal.Length  Petal.Width  Species\n",
       "0             1           5.1          3.5           1.4          0.2        0\n",
       "1             2           4.9          3.0           1.4          0.2        0\n",
       "2             3           4.7          3.2           1.3          0.2        0\n",
       "3             4           4.6          3.1           1.5          0.2        0\n",
       "4             5           5.0          3.6           1.4          0.2        0\n",
       "..          ...           ...          ...           ...          ...      ...\n",
       "145         146           6.7          3.0           5.2          2.3        2\n",
       "146         147           6.3          2.5           5.0          1.9        2\n",
       "147         148           6.5          3.0           5.2          2.0        2\n",
       "148         149           6.2          3.4           5.4          2.3        2\n",
       "149         150           5.9          3.0           5.1          1.8        2\n",
       "\n",
       "[150 rows x 6 columns]"
      ]
     },
     "execution_count": 4,
     "metadata": {},
     "output_type": "execute_result"
    }
   ],
   "source": [
    "data['Species'] = pd.factorize(data.Species)[0] # 将标签值转换为数字\n",
    "data"
   ]
  },
  {
   "cell_type": "code",
   "execution_count": 5,
   "metadata": {},
   "outputs": [
    {
     "name": "stdout",
     "output_type": "stream",
     "text": [
      "(150, 4)\n",
      "(150,)\n"
     ]
    }
   ],
   "source": [
    "# 分离特征值和标签值\n",
    "X = data.iloc[:, 1: -1].values # 特征值\n",
    "print(X.shape)\n",
    "Y = data.Species.values # 标签值\n",
    "print(Y.shape)"
   ]
  },
  {
   "cell_type": "code",
   "execution_count": 6,
   "metadata": {},
   "outputs": [],
   "source": [
    "# 划分训练集和测试集\n",
    "from sklearn.model_selection import train_test_split\n",
    "train_x, test_x, train_y, test_y = train_test_split(X, Y)\n",
    "# 数据归一化，ndarray转换为tensor\n",
    "train_x = torch.from_numpy(train_x).type(torch.FloatTensor)\n",
    "train_y = torch.from_numpy(train_y).type(torch.LongTensor)\n",
    "test_x = torch.from_numpy(test_x).type(torch.FloatTensor)\n",
    "test_y = torch.from_numpy(test_y).type(torch.LongTensor)"
   ]
  },
  {
   "cell_type": "code",
   "execution_count": 7,
   "metadata": {},
   "outputs": [
    {
     "name": "stdout",
     "output_type": "stream",
     "text": [
      "data_len = 150\n",
      "train_len = 112\n"
     ]
    }
   ],
   "source": [
    "from torch.utils.data import TensorDataset\n",
    "from torch.utils.data import DataLoader\n",
    "\n",
    "print(\"data_len = \" + str(len(data)))\n",
    "batch = 8\n",
    "\n",
    "train_ds = TensorDataset(train_x, train_y)\n",
    "train_dl = DataLoader(train_ds, batch_size=batch, shuffle=True)\n",
    "\n",
    "test_ds = TensorDataset(test_x, test_y)\n",
    "test_dl = DataLoader(test_ds, batch_size=batch)\n",
    "\n",
    "print(\"train_len = \" + str(len(train_dl.dataset)))"
   ]
  },
  {
   "cell_type": "markdown",
   "metadata": {},
   "source": [
    "## 创建模型"
   ]
  },
  {
   "cell_type": "code",
   "execution_count": 8,
   "metadata": {},
   "outputs": [
    {
     "data": {
      "text/plain": [
       "Model(\n",
       "  (lin_1): Linear(in_features=4, out_features=32, bias=True)\n",
       "  (lin_2): Linear(in_features=32, out_features=32, bias=True)\n",
       "  (lin_3): Linear(in_features=32, out_features=3, bias=True)\n",
       ")"
      ]
     },
     "execution_count": 8,
     "metadata": {},
     "output_type": "execute_result"
    }
   ],
   "source": [
    "from torch import nn\n",
    "import torch.nn.functional as F # 函数式API，调用方便使代码更简洁\n",
    "class Model(nn.Module):  # 继承nn.Module\n",
    "    def __init__(self):     # 初始化所有的层\n",
    "        super().__init__()  # 继承父类中所有的属性和方法\n",
    "        self.lin_1 = nn.Linear(4, 32)  # 定义第一层线性层，输入维度为4，输出维度为32\n",
    "        self.lin_2 = nn.Linear(32, 32)  # 定义第二层线性层，输入维度为32，输出维度为32\n",
    "        self.lin_3 = nn.Linear(32, 3)   # 定义第三层线性层，输入维度为32，输出维度为3\n",
    "    def forward(self, input):   # 前向传播函数，定义模型的运算过程，覆盖父类中的forward方法\n",
    "        x = F.relu(self.lin_1(input))   # 将输入数据传入第一层线性层，并使用ReLU激活函数\n",
    "        x = F.relu(self.lin_2(x))       # 将激活后的数据传入第二层线性层，并使用ReLU激活函数\n",
    "        x = self.lin_3(x)               # 多分类问题，最后一层不需要激活函数\n",
    "        return x\n",
    "\n",
    "# 实例化模型\n",
    "model = Model()\n",
    "model"
   ]
  },
  {
   "cell_type": "code",
   "execution_count": 9,
   "metadata": {},
   "outputs": [],
   "source": [
    "# 损失函数\n",
    "loss_fn = nn.CrossEntropyLoss()"
   ]
  },
  {
   "cell_type": "code",
   "execution_count": 15,
   "metadata": {},
   "outputs": [
    {
     "name": "stdout",
     "output_type": "stream",
     "text": [
      "torch.Size([8, 4]) torch.Size([8])\n",
      "torch.Size([8, 3])\n",
      "tensor([[-3.5126,  0.8600,  2.2828],\n",
      "        [ 3.9616, -0.2142, -3.3877],\n",
      "        [-0.0846,  1.2052, -0.5922],\n",
      "        [ 3.0951,  0.0735, -2.7298],\n",
      "        [ 3.1886,  0.0096, -2.7393],\n",
      "        [ 3.2279,  0.0816, -2.8108],\n",
      "        [ 2.7968,  0.1525, -2.5136],\n",
      "        [ 3.2942,  0.1279, -2.9345]], grad_fn=<AddmmBackward0>)\n",
      "tensor([2, 0, 1, 0, 0, 0, 0, 0])\n"
     ]
    }
   ],
   "source": [
    "# 理解模型的预测结果\n",
    "# 获取一个batch的数据\n",
    "input_batch, label_batch = next(iter(train_dl)) # iter()函数返回一个迭代器，next()函数返回一个批次的张量\n",
    "print(input_batch.shape, label_batch.shape)\n",
    "# 前向传播\n",
    "y_pred = model(input_batch)\n",
    "print(y_pred.shape)\n",
    "print(y_pred)\n",
    "# 查看预测结果\n",
    "print(torch.argmax(y_pred, dim=1)) # argmax()函数返回张量中最大值的索引，dim=1表示在每一行中找到最大值的索引"
   ]
  },
  {
   "cell_type": "markdown",
   "metadata": {},
   "source": [
    "## 创建训练函数"
   ]
  },
  {
   "cell_type": "code",
   "execution_count": 11,
   "metadata": {},
   "outputs": [],
   "source": [
    "# 准确率计算函数，用于计算预测值和真实值之间的准确率\n",
    "def accuracy(y_pred, y_true):\n",
    "    # 按照行取最大值，返回最大值的索引，即预测值\n",
    "    y_pred = torch.argmax(y_pred, dim=1)\n",
    "    # 计算预测值和真实值相等的数量的均值，并转换为浮点数\n",
    "    return (y_pred == y_true).float().mean()"
   ]
  },
  {
   "cell_type": "code",
   "execution_count": 12,
   "metadata": {},
   "outputs": [
    {
     "name": "stdout",
     "output_type": "stream",
     "text": [
      "epoch: 0     loss: 1.062     accuracy: 0.509     test_loss: 1.068     test_accuracy: 0.5\n",
      "epoch: 1     loss: 1.051     accuracy: 0.536     test_loss: 1.056     test_accuracy: 0.5\n",
      "epoch: 2     loss: 1.04     accuracy: 0.509     test_loss: 1.044     test_accuracy: 0.5\n",
      "epoch: 3     loss: 1.03     accuracy: 0.536     test_loss: 1.034     test_accuracy: 0.526\n",
      "epoch: 4     loss: 1.02     accuracy: 0.643     test_loss: 1.023     test_accuracy: 0.684\n",
      "epoch: 5     loss: 1.01     accuracy: 0.714     test_loss: 1.013     test_accuracy: 0.711\n",
      "epoch: 6     loss: 1.0     accuracy: 0.768     test_loss: 1.002     test_accuracy: 0.763\n",
      "epoch: 7     loss: 0.99     accuracy: 0.795     test_loss: 0.993     test_accuracy: 0.789\n",
      "epoch: 8     loss: 0.979     accuracy: 0.777     test_loss: 0.981     test_accuracy: 0.816\n",
      "epoch: 9     loss: 0.969     accuracy: 0.768     test_loss: 0.97     test_accuracy: 0.842\n",
      "epoch: 10     loss: 0.958     accuracy: 0.786     test_loss: 0.959     test_accuracy: 0.842\n",
      "epoch: 11     loss: 0.947     accuracy: 0.786     test_loss: 0.948     test_accuracy: 0.842\n",
      "epoch: 12     loss: 0.936     accuracy: 0.795     test_loss: 0.936     test_accuracy: 0.842\n",
      "epoch: 13     loss: 0.924     accuracy: 0.795     test_loss: 0.923     test_accuracy: 0.842\n",
      "epoch: 14     loss: 0.912     accuracy: 0.786     test_loss: 0.91     test_accuracy: 0.816\n",
      "epoch: 15     loss: 0.9     accuracy: 0.795     test_loss: 0.898     test_accuracy: 0.842\n",
      "epoch: 16     loss: 0.887     accuracy: 0.795     test_loss: 0.885     test_accuracy: 0.842\n",
      "epoch: 17     loss: 0.875     accuracy: 0.804     test_loss: 0.872     test_accuracy: 0.842\n",
      "epoch: 18     loss: 0.863     accuracy: 0.804     test_loss: 0.859     test_accuracy: 0.816\n",
      "epoch: 19     loss: 0.85     accuracy: 0.821     test_loss: 0.846     test_accuracy: 0.868\n",
      "epoch: 20     loss: 0.837     accuracy: 0.83     test_loss: 0.833     test_accuracy: 0.868\n",
      "epoch: 21     loss: 0.825     accuracy: 0.893     test_loss: 0.821     test_accuracy: 0.895\n",
      "epoch: 22     loss: 0.811     accuracy: 0.839     test_loss: 0.805     test_accuracy: 0.868\n",
      "epoch: 23     loss: 0.798     accuracy: 0.866     test_loss: 0.793     test_accuracy: 0.895\n",
      "epoch: 24     loss: 0.785     accuracy: 0.839     test_loss: 0.777     test_accuracy: 0.895\n",
      "epoch: 25     loss: 0.771     accuracy: 0.875     test_loss: 0.764     test_accuracy: 0.895\n",
      "epoch: 26     loss: 0.758     accuracy: 0.857     test_loss: 0.749     test_accuracy: 0.895\n",
      "epoch: 27     loss: 0.744     accuracy: 0.848     test_loss: 0.735     test_accuracy: 0.895\n",
      "epoch: 28     loss: 0.731     accuracy: 0.902     test_loss: 0.723     test_accuracy: 0.895\n",
      "epoch: 29     loss: 0.716     accuracy: 0.875     test_loss: 0.706     test_accuracy: 0.895\n",
      "epoch: 30     loss: 0.701     accuracy: 0.893     test_loss: 0.691     test_accuracy: 0.895\n",
      "epoch: 31     loss: 0.687     accuracy: 0.893     test_loss: 0.676     test_accuracy: 0.895\n",
      "epoch: 32     loss: 0.673     accuracy: 0.875     test_loss: 0.66     test_accuracy: 0.895\n",
      "epoch: 33     loss: 0.659     accuracy: 0.893     test_loss: 0.647     test_accuracy: 0.895\n",
      "epoch: 34     loss: 0.647     accuracy: 0.902     test_loss: 0.634     test_accuracy: 0.895\n",
      "epoch: 35     loss: 0.634     accuracy: 0.902     test_loss: 0.621     test_accuracy: 0.895\n",
      "epoch: 36     loss: 0.621     accuracy: 0.893     test_loss: 0.606     test_accuracy: 0.895\n",
      "epoch: 37     loss: 0.61     accuracy: 0.911     test_loss: 0.595     test_accuracy: 0.895\n",
      "epoch: 38     loss: 0.598     accuracy: 0.911     test_loss: 0.584     test_accuracy: 0.895\n",
      "epoch: 39     loss: 0.586     accuracy: 0.911     test_loss: 0.57     test_accuracy: 0.895\n",
      "epoch: 40     loss: 0.576     accuracy: 0.911     test_loss: 0.559     test_accuracy: 0.895\n",
      "epoch: 41     loss: 0.565     accuracy: 0.911     test_loss: 0.549     test_accuracy: 0.895\n",
      "epoch: 42     loss: 0.555     accuracy: 0.911     test_loss: 0.538     test_accuracy: 0.895\n",
      "epoch: 43     loss: 0.545     accuracy: 0.911     test_loss: 0.528     test_accuracy: 0.921\n",
      "epoch: 44     loss: 0.535     accuracy: 0.938     test_loss: 0.519     test_accuracy: 0.947\n",
      "epoch: 45     loss: 0.526     accuracy: 0.92     test_loss: 0.508     test_accuracy: 0.921\n",
      "epoch: 46     loss: 0.517     accuracy: 0.92     test_loss: 0.499     test_accuracy: 0.921\n",
      "epoch: 47     loss: 0.508     accuracy: 0.938     test_loss: 0.49     test_accuracy: 0.947\n",
      "epoch: 48     loss: 0.499     accuracy: 0.938     test_loss: 0.481     test_accuracy: 0.947\n",
      "epoch: 49     loss: 0.491     accuracy: 0.938     test_loss: 0.473     test_accuracy: 0.947\n",
      "epoch: 50     loss: 0.483     accuracy: 0.929     test_loss: 0.463     test_accuracy: 0.947\n",
      "epoch: 51     loss: 0.474     accuracy: 0.946     test_loss: 0.456     test_accuracy: 0.947\n",
      "epoch: 52     loss: 0.466     accuracy: 0.938     test_loss: 0.447     test_accuracy: 0.947\n",
      "epoch: 53     loss: 0.458     accuracy: 0.964     test_loss: 0.44     test_accuracy: 0.974\n",
      "epoch: 54     loss: 0.451     accuracy: 0.946     test_loss: 0.432     test_accuracy: 0.947\n",
      "epoch: 55     loss: 0.444     accuracy: 0.946     test_loss: 0.424     test_accuracy: 0.947\n",
      "epoch: 56     loss: 0.437     accuracy: 0.964     test_loss: 0.419     test_accuracy: 0.974\n",
      "epoch: 57     loss: 0.431     accuracy: 0.964     test_loss: 0.412     test_accuracy: 0.974\n",
      "epoch: 58     loss: 0.425     accuracy: 0.964     test_loss: 0.407     test_accuracy: 0.974\n",
      "epoch: 59     loss: 0.419     accuracy: 0.964     test_loss: 0.401     test_accuracy: 0.974\n",
      "epoch: 60     loss: 0.413     accuracy: 0.964     test_loss: 0.395     test_accuracy: 0.974\n",
      "epoch: 61     loss: 0.408     accuracy: 0.964     test_loss: 0.389     test_accuracy: 0.974\n",
      "epoch: 62     loss: 0.402     accuracy: 0.964     test_loss: 0.384     test_accuracy: 0.974\n",
      "epoch: 63     loss: 0.397     accuracy: 0.964     test_loss: 0.379     test_accuracy: 0.974\n",
      "epoch: 64     loss: 0.391     accuracy: 0.964     test_loss: 0.375     test_accuracy: 0.974\n",
      "epoch: 65     loss: 0.386     accuracy: 0.964     test_loss: 0.369     test_accuracy: 0.974\n",
      "epoch: 66     loss: 0.381     accuracy: 0.964     test_loss: 0.365     test_accuracy: 0.974\n",
      "epoch: 67     loss: 0.376     accuracy: 0.964     test_loss: 0.359     test_accuracy: 0.974\n",
      "epoch: 68     loss: 0.371     accuracy: 0.964     test_loss: 0.355     test_accuracy: 0.974\n",
      "epoch: 69     loss: 0.366     accuracy: 0.964     test_loss: 0.351     test_accuracy: 0.974\n",
      "epoch: 70     loss: 0.361     accuracy: 0.964     test_loss: 0.345     test_accuracy: 0.974\n",
      "epoch: 71     loss: 0.356     accuracy: 0.964     test_loss: 0.339     test_accuracy: 0.974\n",
      "epoch: 72     loss: 0.35     accuracy: 0.964     test_loss: 0.335     test_accuracy: 1.0\n",
      "epoch: 73     loss: 0.345     accuracy: 0.964     test_loss: 0.329     test_accuracy: 0.974\n",
      "epoch: 74     loss: 0.339     accuracy: 0.964     test_loss: 0.325     test_accuracy: 1.0\n",
      "epoch: 75     loss: 0.334     accuracy: 0.964     test_loss: 0.32     test_accuracy: 1.0\n",
      "epoch: 76     loss: 0.329     accuracy: 0.964     test_loss: 0.314     test_accuracy: 1.0\n",
      "epoch: 77     loss: 0.324     accuracy: 0.964     test_loss: 0.311     test_accuracy: 1.0\n",
      "epoch: 78     loss: 0.32     accuracy: 0.964     test_loss: 0.307     test_accuracy: 1.0\n",
      "epoch: 79     loss: 0.315     accuracy: 0.964     test_loss: 0.301     test_accuracy: 1.0\n",
      "epoch: 80     loss: 0.311     accuracy: 0.964     test_loss: 0.298     test_accuracy: 1.0\n",
      "epoch: 81     loss: 0.307     accuracy: 0.964     test_loss: 0.293     test_accuracy: 1.0\n",
      "epoch: 82     loss: 0.303     accuracy: 0.964     test_loss: 0.289     test_accuracy: 1.0\n",
      "epoch: 83     loss: 0.299     accuracy: 0.964     test_loss: 0.286     test_accuracy: 1.0\n",
      "epoch: 84     loss: 0.295     accuracy: 0.964     test_loss: 0.284     test_accuracy: 1.0\n",
      "epoch: 85     loss: 0.291     accuracy: 0.964     test_loss: 0.278     test_accuracy: 1.0\n",
      "epoch: 86     loss: 0.287     accuracy: 0.964     test_loss: 0.275     test_accuracy: 1.0\n",
      "epoch: 87     loss: 0.284     accuracy: 0.964     test_loss: 0.271     test_accuracy: 1.0\n",
      "epoch: 88     loss: 0.28     accuracy: 0.964     test_loss: 0.268     test_accuracy: 1.0\n",
      "epoch: 89     loss: 0.276     accuracy: 0.964     test_loss: 0.265     test_accuracy: 1.0\n",
      "epoch: 90     loss: 0.273     accuracy: 0.964     test_loss: 0.262     test_accuracy: 1.0\n",
      "epoch: 91     loss: 0.27     accuracy: 0.964     test_loss: 0.259     test_accuracy: 1.0\n",
      "epoch: 92     loss: 0.266     accuracy: 0.964     test_loss: 0.256     test_accuracy: 1.0\n",
      "epoch: 93     loss: 0.263     accuracy: 0.964     test_loss: 0.254     test_accuracy: 1.0\n",
      "epoch: 94     loss: 0.26     accuracy: 0.973     test_loss: 0.253     test_accuracy: 1.0\n",
      "epoch: 95     loss: 0.257     accuracy: 0.964     test_loss: 0.247     test_accuracy: 1.0\n",
      "epoch: 96     loss: 0.254     accuracy: 0.964     test_loss: 0.246     test_accuracy: 1.0\n",
      "epoch: 97     loss: 0.251     accuracy: 0.964     test_loss: 0.242     test_accuracy: 1.0\n",
      "epoch: 98     loss: 0.249     accuracy: 0.964     test_loss: 0.24     test_accuracy: 1.0\n",
      "epoch: 99     loss: 0.246     accuracy: 0.964     test_loss: 0.237     test_accuracy: 1.0\n"
     ]
    }
   ],
   "source": [
    "# 训练模型\n",
    "# 定义结果存放列表\n",
    "train_loss = []\n",
    "train_acc = []\n",
    "test_loss = []\n",
    "test_acc = []\n",
    "\n",
    "# 设置训练的轮数\n",
    "epochs = 100\n",
    "\n",
    "# 定义优化器\n",
    "opt = torch.optim.Adam(model.parameters(), lr=0.0001)\n",
    "\n",
    "for epoch in range(epochs):\n",
    "    for x, y in train_dl:\n",
    "        y_pred = model(x)\n",
    "        loss = loss_fn(y_pred, y)\n",
    "        opt.zero_grad()\n",
    "        loss.backward()\n",
    "        opt.step()\n",
    "    with torch.no_grad():\n",
    "        epoch_accuracy = accuracy(model(train_x), train_y).data.item()\n",
    "        epoch_loss = loss_fn(model(train_x), train_y).data.item()\n",
    "\n",
    "        epoch_test_accuracy = accuracy(model(test_x), test_y).data.item()\n",
    "        epoch_test_loss = loss_fn(model(test_x), test_y).data.item()\n",
    "        print('epoch:', epoch, '   ', 'loss:', round(epoch_loss, 3),\n",
    "                               '   ', 'accuracy:', round(epoch_accuracy, 3),\n",
    "                               '   ', 'test_loss:', round(epoch_test_loss, 3),\n",
    "                               '   ', 'test_accuracy:', round(epoch_test_accuracy, 3))\n",
    "        # 将结果存入列表\n",
    "        train_loss.append(epoch_loss)\n",
    "        train_acc.append(epoch_accuracy)\n",
    "        test_loss.append(epoch_test_loss)\n",
    "        test_acc.append(epoch_test_accuracy)"
   ]
  },
  {
   "cell_type": "code",
   "execution_count": 13,
   "metadata": {},
   "outputs": [
    {
     "data": {
      "text/plain": [
       "<matplotlib.legend.Legend at 0x2a6a36bfbe0>"
      ]
     },
     "execution_count": 13,
     "metadata": {},
     "output_type": "execute_result"
    },
    {
     "data": {
      "image/png": "[encoded data removed]",
      "text/plain": [
       "<Figure size 640x480 with 1 Axes>"
      ]
     },
     "metadata": {},
     "output_type": "display_data"
    }
   ],
   "source": [
    "plt.plot(range(1, epochs+1), train_loss, label='train_loss') # 绘制训练损失曲线\n",
    "plt.plot(range(1, epochs+1), test_loss, label='test_loss') # 绘制测试损失曲线\n",
    "plt.legend() # 显示图例"
   ]
  },
  {
   "cell_type": "code",
   "execution_count": 14,
   "metadata": {},
   "outputs": [
    {
     "data": {
      "text/plain": [
       "<matplotlib.legend.Legend at 0x2a6a0bcdcd0>"
      ]
     },
     "execution_count": 14,
     "metadata": {},
     "output_type": "execute_result"
    },
    {
     "data": {
      "image/png": "[encoded data removed]",
      "text/plain": [
       "<Figure size 640x480 with 1 Axes>"
      ]
     },
     "metadata": {},
     "output_type": "display_data"
    }
   ],
   "source": [
    "plt.plot(range(1, epochs+1), train_acc, label='train_acc')\n",
    "plt.plot(range(1, epochs+1), test_acc, label='test_acc')\n",
    "plt.legend()"
   ]
  },
  {
   "cell_type": "markdown",
   "metadata": {},
   "source": [
    "## 模板代码"
   ]
  },
  {
   "cell_type": "code",
   "execution_count": null,
   "metadata": {},
   "outputs": [],
   "source": [
    "# 1. 创建输入（dataloader）\n",
    "# 2. 创建模型（model）\n",
    "# 3  创建损失函数"
   ]
  },
  {
   "cell_type": "markdown",
   "metadata": {},
   "source": [
    "编写一个fit，输入模型、输入数据（train_dl, test_dl）， 对数据输入在模型上训练，并且返回loss和acc变化"
   ]
  },
  {
   "cell_type": "code",
   "execution_count": 55,
   "metadata": {},
   "outputs": [],
   "source": [
    "def fit(epoch, model, trainloader, testloader):\n",
    "    correct = 0\n",
    "    total = 0\n",
    "    running_loss = 0\n",
    "    for x, y in trainloader:\n",
    "        y_pred = model(x)\n",
    "        loss = loss_fn(y_pred, y)\n",
    "        opt.zero_grad()\n",
    "        loss.backward()\n",
    "        opt.step()\n",
    "        with torch.no_grad():\n",
    "            y_pred = torch.argmax(y_pred, dim=1)\n",
    "            correct += (y_pred == y).sum().item()\n",
    "            total += y.size(0)\n",
    "            running_loss += loss.item()\n",
    "        \n",
    "    epoch_loss = running_loss / len(trainloader.dataset)\n",
    "    epoch_acc = correct / total\n",
    "        \n",
    "        \n",
    "    test_correct = 0\n",
    "    test_total = 0\n",
    "    test_running_loss = 0 \n",
    "    \n",
    "    with torch.no_grad():\n",
    "        for x, y in testloader:\n",
    "            y_pred = model(x)\n",
    "            loss = loss_fn(y_pred, y)\n",
    "            y_pred = torch.argmax(y_pred, dim=1)\n",
    "            test_correct += (y_pred == y).sum().item()\n",
    "            test_total += y.size(0)\n",
    "            test_running_loss += loss.item()\n",
    "    \n",
    "    epoch_test_loss = test_running_loss / len(testloader.dataset)\n",
    "    epoch_test_acc = test_correct / test_total\n",
    "    \n",
    "        \n",
    "    print('epoch: ', epoch, \n",
    "          'loss: ', round(epoch_loss, 3),\n",
    "          'accuracy:', round(epoch_acc, 3),\n",
    "          'test_loss: ', round(epoch_test_loss, 3),\n",
    "          'test_accuracy:', round(epoch_test_acc, 3)\n",
    "             )\n",
    "        \n",
    "    return epoch_loss, epoch_acc, epoch_test_loss, epoch_test_acc"
   ]
  },
  {
   "cell_type": "code",
   "execution_count": 56,
   "metadata": {},
   "outputs": [],
   "source": [
    "model = Model()\n",
    "optim = torch.optim.Adam(model.parameters(), lr=0.0001)"
   ]
  },
  {
   "cell_type": "code",
   "execution_count": 57,
   "metadata": {},
   "outputs": [],
   "source": [
    "epochs = 20"
   ]
  },
  {
   "cell_type": "code",
   "execution_count": null,
   "metadata": {},
   "outputs": [],
   "source": [
    "train_loss = []\n",
    "train_acc = []\n",
    "test_loss = []\n",
    "test_acc = []\n",
    "\n",
    "for epoch in range(epochs):\n",
    "    epoch_loss, epoch_acc, epoch_test_loss, epoch_test_acc = fit(epoch,\n",
    "                                                                 model,\n",
    "                                                                 train_dl,\n",
    "                                                                 test_dl)\n",
    "    train_loss.append(epoch_loss)\n",
    "    train_acc.append(epoch_acc)\n",
    "    test_loss.append(epoch_test_loss)\n",
    "    test_acc.append(epoch_test_acc)"
   ]
  },
  {
   "cell_type": "code",
   "execution_count": null,
   "metadata": {},
   "outputs": [],
   "source": [
    "plt.plot(range(1, epochs+1), train_loss, label='train_loss')\n",
    "plt.plot(range(1, epochs+1), test_loss, label='test_loss')\n",
    "plt.legend()"
   ]
  },
  {
   "cell_type": "code",
   "execution_count": null,
   "metadata": {},
   "outputs": [],
   "source": [
    "plt.plot(range(1, epochs+1), train_acc, label='train_acc')\n",
    "plt.plot(range(1, epochs+1), test_acc, label='test_acc')\n",
    "plt.legend()"
   ]
  },
  {
   "cell_type": "code",
   "execution_count": null,
   "metadata": {},
   "outputs": [],
   "source": []
  }
 ],
 "metadata": {
  "kernelspec": {
   "display_name": "pytorch2.2.2",
   "language": "python",
   "name": "python3"
  },
  "language_info": {
   "codemirror_mode": {
    "name": "ipython",
    "version": 3
   },
   "file_extension": ".py",
   "mimetype": "text/x-python",
   "name": "python",
   "nbconvert_exporter": "python",
   "pygments_lexer": "ipython3",
   "version": "3.9.21"
  }
 },
 "nbformat": 4,
 "nbformat_minor": 2
}
