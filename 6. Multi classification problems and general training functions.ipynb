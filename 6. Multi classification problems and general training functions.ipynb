{
 "cells": [
  {
   "cell_type": "markdown",
   "metadata": {},
   "source": [
    "# 多分类问题与通用训练函数"
   ]
  },
  {
   "cell_type": "markdown",
   "metadata": {},
   "source": [
    "**Softmax函数：** 将输出值映射到0-1之间，并且所有输出的和为1，常用于多分类问题。当只有两个类别时，对数几率函数和softmax函数是等价的。\n",
    "\n",
    "**pytorch交叉熵：** 对于多分类问题，pytorch提供了交叉熵函数（nn.CrossEntropyLoss和nn.NLLLoss），其中nn.CrossEntropyLoss内部实现了softmax函数，并且对标签值进行了one-hot编码，而nn.NLLLoss需要手动添加softmax函数。"
   ]
  },
  {
   "cell_type": "code",
   "execution_count": 1,
   "metadata": {},
   "outputs": [],
   "source": [
    "import torch\n",
    "import pandas as pd\n",
    "import numpy as np\n",
    "import matplotlib.pyplot as plt"
   ]
  },
  {
   "cell_type": "markdown",
   "metadata": {},
   "source": [
    "## 预处理数据"
   ]
  },
  {
   "cell_type": "code",
   "execution_count": 2,
   "metadata": {},
   "outputs": [
    {
     "data": {
      "text/html": [
       "<div>\n",
       "<style scoped>\n",
       "    .dataframe tbody tr th:only-of-type {\n",
       "        vertical-align: middle;\n",
       "    }\n",
       "\n",
       "    .dataframe tbody tr th {\n",
       "        vertical-align: top;\n",
       "    }\n",
       "\n",
       "    .dataframe thead th {\n",
       "        text-align: right;\n",
       "    }\n",
       "</style>\n",
       "<table border=\"1\" class=\"dataframe\">\n",
       "  <thead>\n",
       "    <tr style=\"text-align: right;\">\n",
       "      <th></th>\n",
       "      <th>Unnamed: 0</th>\n",
       "      <th>Sepal.Length</th>\n",
       "      <th>Sepal.Width</th>\n",
       "      <th>Petal.Length</th>\n",
       "      <th>Petal.Width</th>\n",
       "      <th>Species</th>\n",
       "    </tr>\n",
       "  </thead>\n",
       "  <tbody>\n",
       "    <tr>\n",
       "      <th>0</th>\n",
       "      <td>1</td>\n",
       "      <td>5.1</td>\n",
       "      <td>3.5</td>\n",
       "      <td>1.4</td>\n",
       "      <td>0.2</td>\n",
       "      <td>setosa</td>\n",
       "    </tr>\n",
       "    <tr>\n",
       "      <th>1</th>\n",
       "      <td>2</td>\n",
       "      <td>4.9</td>\n",
       "      <td>3.0</td>\n",
       "      <td>1.4</td>\n",
       "      <td>0.2</td>\n",
       "      <td>setosa</td>\n",
       "    </tr>\n",
       "    <tr>\n",
       "      <th>2</th>\n",
       "      <td>3</td>\n",
       "      <td>4.7</td>\n",
       "      <td>3.2</td>\n",
       "      <td>1.3</td>\n",
       "      <td>0.2</td>\n",
       "      <td>setosa</td>\n",
       "    </tr>\n",
       "    <tr>\n",
       "      <th>3</th>\n",
       "      <td>4</td>\n",
       "      <td>4.6</td>\n",
       "      <td>3.1</td>\n",
       "      <td>1.5</td>\n",
       "      <td>0.2</td>\n",
       "      <td>setosa</td>\n",
       "    </tr>\n",
       "    <tr>\n",
       "      <th>4</th>\n",
       "      <td>5</td>\n",
       "      <td>5.0</td>\n",
       "      <td>3.6</td>\n",
       "      <td>1.4</td>\n",
       "      <td>0.2</td>\n",
       "      <td>setosa</td>\n",
       "    </tr>\n",
       "  </tbody>\n",
       "</table>\n",
       "</div>"
      ],
      "text/plain": [
       "   Unnamed: 0  Sepal.Length  Sepal.Width  Petal.Length  Petal.Width Species\n",
       "0           1           5.1          3.5           1.4          0.2  setosa\n",
       "1           2           4.9          3.0           1.4          0.2  setosa\n",
       "2           3           4.7          3.2           1.3          0.2  setosa\n",
       "3           4           4.6          3.1           1.5          0.2  setosa\n",
       "4           5           5.0          3.6           1.4          0.2  setosa"
      ]
     },
     "execution_count": 2,
     "metadata": {},
     "output_type": "execute_result"
    }
   ],
   "source": [
    "# 数据集，鸢尾花数据集\n",
    "data = pd.read_csv('./dataset/iris.csv')\n",
    "data.head()"
   ]
  },
  {
   "cell_type": "code",
   "execution_count": 3,
   "metadata": {},
   "outputs": [
    {
     "name": "stdout",
     "output_type": "stream",
     "text": [
      "['setosa' 'versicolor' 'virginica']\n",
      "(array([0, 0, 0, 0, 0, 0, 0, 0, 0, 0, 0, 0, 0, 0, 0, 0, 0, 0, 0, 0, 0, 0,\n",
      "       0, 0, 0, 0, 0, 0, 0, 0, 0, 0, 0, 0, 0, 0, 0, 0, 0, 0, 0, 0, 0, 0,\n",
      "       0, 0, 0, 0, 0, 0, 1, 1, 1, 1, 1, 1, 1, 1, 1, 1, 1, 1, 1, 1, 1, 1,\n",
      "       1, 1, 1, 1, 1, 1, 1, 1, 1, 1, 1, 1, 1, 1, 1, 1, 1, 1, 1, 1, 1, 1,\n",
      "       1, 1, 1, 1, 1, 1, 1, 1, 1, 1, 1, 1, 2, 2, 2, 2, 2, 2, 2, 2, 2, 2,\n",
      "       2, 2, 2, 2, 2, 2, 2, 2, 2, 2, 2, 2, 2, 2, 2, 2, 2, 2, 2, 2, 2, 2,\n",
      "       2, 2, 2, 2, 2, 2, 2, 2, 2, 2, 2, 2, 2, 2, 2, 2, 2, 2], dtype=int64), Index(['setosa', 'versicolor', 'virginica'], dtype='object'))\n"
     ]
    }
   ],
   "source": [
    "print(data.Species.unique())\n",
    "print(pd.factorize(data.Species))"
   ]
  },
  {
   "cell_type": "code",
   "execution_count": 4,
   "metadata": {},
   "outputs": [
    {
     "data": {
      "text/html": [
       "<div>\n",
       "<style scoped>\n",
       "    .dataframe tbody tr th:only-of-type {\n",
       "        vertical-align: middle;\n",
       "    }\n",
       "\n",
       "    .dataframe tbody tr th {\n",
       "        vertical-align: top;\n",
       "    }\n",
       "\n",
       "    .dataframe thead th {\n",
       "        text-align: right;\n",
       "    }\n",
       "</style>\n",
       "<table border=\"1\" class=\"dataframe\">\n",
       "  <thead>\n",
       "    <tr style=\"text-align: right;\">\n",
       "      <th></th>\n",
       "      <th>Unnamed: 0</th>\n",
       "      <th>Sepal.Length</th>\n",
       "      <th>Sepal.Width</th>\n",
       "      <th>Petal.Length</th>\n",
       "      <th>Petal.Width</th>\n",
       "      <th>Species</th>\n",
       "    </tr>\n",
       "  </thead>\n",
       "  <tbody>\n",
       "    <tr>\n",
       "      <th>0</th>\n",
       "      <td>1</td>\n",
       "      <td>5.1</td>\n",
       "      <td>3.5</td>\n",
       "      <td>1.4</td>\n",
       "      <td>0.2</td>\n",
       "      <td>0</td>\n",
       "    </tr>\n",
       "    <tr>\n",
       "      <th>1</th>\n",
       "      <td>2</td>\n",
       "      <td>4.9</td>\n",
       "      <td>3.0</td>\n",
       "      <td>1.4</td>\n",
       "      <td>0.2</td>\n",
       "      <td>0</td>\n",
       "    </tr>\n",
       "    <tr>\n",
       "      <th>2</th>\n",
       "      <td>3</td>\n",
       "      <td>4.7</td>\n",
       "      <td>3.2</td>\n",
       "      <td>1.3</td>\n",
       "      <td>0.2</td>\n",
       "      <td>0</td>\n",
       "    </tr>\n",
       "    <tr>\n",
       "      <th>3</th>\n",
       "      <td>4</td>\n",
       "      <td>4.6</td>\n",
       "      <td>3.1</td>\n",
       "      <td>1.5</td>\n",
       "      <td>0.2</td>\n",
       "      <td>0</td>\n",
       "    </tr>\n",
       "    <tr>\n",
       "      <th>4</th>\n",
       "      <td>5</td>\n",
       "      <td>5.0</td>\n",
       "      <td>3.6</td>\n",
       "      <td>1.4</td>\n",
       "      <td>0.2</td>\n",
       "      <td>0</td>\n",
       "    </tr>\n",
       "    <tr>\n",
       "      <th>...</th>\n",
       "      <td>...</td>\n",
       "      <td>...</td>\n",
       "      <td>...</td>\n",
       "      <td>...</td>\n",
       "      <td>...</td>\n",
       "      <td>...</td>\n",
       "    </tr>\n",
       "    <tr>\n",
       "      <th>145</th>\n",
       "      <td>146</td>\n",
       "      <td>6.7</td>\n",
       "      <td>3.0</td>\n",
       "      <td>5.2</td>\n",
       "      <td>2.3</td>\n",
       "      <td>2</td>\n",
       "    </tr>\n",
       "    <tr>\n",
       "      <th>146</th>\n",
       "      <td>147</td>\n",
       "      <td>6.3</td>\n",
       "      <td>2.5</td>\n",
       "      <td>5.0</td>\n",
       "      <td>1.9</td>\n",
       "      <td>2</td>\n",
       "    </tr>\n",
       "    <tr>\n",
       "      <th>147</th>\n",
       "      <td>148</td>\n",
       "      <td>6.5</td>\n",
       "      <td>3.0</td>\n",
       "      <td>5.2</td>\n",
       "      <td>2.0</td>\n",
       "      <td>2</td>\n",
       "    </tr>\n",
       "    <tr>\n",
       "      <th>148</th>\n",
       "      <td>149</td>\n",
       "      <td>6.2</td>\n",
       "      <td>3.4</td>\n",
       "      <td>5.4</td>\n",
       "      <td>2.3</td>\n",
       "      <td>2</td>\n",
       "    </tr>\n",
       "    <tr>\n",
       "      <th>149</th>\n",
       "      <td>150</td>\n",
       "      <td>5.9</td>\n",
       "      <td>3.0</td>\n",
       "      <td>5.1</td>\n",
       "      <td>1.8</td>\n",
       "      <td>2</td>\n",
       "    </tr>\n",
       "  </tbody>\n",
       "</table>\n",
       "<p>150 rows × 6 columns</p>\n",
       "</div>"
      ],
      "text/plain": [
       "     Unnamed: 0  Sepal.Length  Sepal.Width  Petal.Length  Petal.Width  Species\n",
       "0             1           5.1          3.5           1.4          0.2        0\n",
       "1             2           4.9          3.0           1.4          0.2        0\n",
       "2             3           4.7          3.2           1.3          0.2        0\n",
       "3             4           4.6          3.1           1.5          0.2        0\n",
       "4             5           5.0          3.6           1.4          0.2        0\n",
       "..          ...           ...          ...           ...          ...      ...\n",
       "145         146           6.7          3.0           5.2          2.3        2\n",
       "146         147           6.3          2.5           5.0          1.9        2\n",
       "147         148           6.5          3.0           5.2          2.0        2\n",
       "148         149           6.2          3.4           5.4          2.3        2\n",
       "149         150           5.9          3.0           5.1          1.8        2\n",
       "\n",
       "[150 rows x 6 columns]"
      ]
     },
     "execution_count": 4,
     "metadata": {},
     "output_type": "execute_result"
    }
   ],
   "source": [
    "data['Species'] = pd.factorize(data.Species)[0] # 将标签值转换为数字\n",
    "data"
   ]
  },
  {
   "cell_type": "code",
   "execution_count": 5,
   "metadata": {},
   "outputs": [
    {
     "name": "stdout",
     "output_type": "stream",
     "text": [
      "(150, 4)\n",
      "(150,)\n"
     ]
    }
   ],
   "source": [
    "# 分离特征值和标签值\n",
    "X = data.iloc[:, 1: -1].values # 特征值\n",
    "print(X.shape)\n",
    "Y = data.Species.values # 标签值\n",
    "print(Y.shape)"
   ]
  },
  {
   "cell_type": "code",
   "execution_count": 6,
   "metadata": {},
   "outputs": [],
   "source": [
    "# 划分训练集和测试集\n",
    "from sklearn.model_selection import train_test_split\n",
    "train_x, test_x, train_y, test_y = train_test_split(X, Y)\n",
    "# 数据归一化，ndarray转换为tensor\n",
    "train_x = torch.from_numpy(train_x).type(torch.FloatTensor)\n",
    "train_y = torch.from_numpy(train_y).type(torch.LongTensor)\n",
    "test_x = torch.from_numpy(test_x).type(torch.FloatTensor)\n",
    "test_y = torch.from_numpy(test_y).type(torch.LongTensor)"
   ]
  },
  {
   "cell_type": "code",
   "execution_count": 7,
   "metadata": {},
   "outputs": [
    {
     "name": "stdout",
     "output_type": "stream",
     "text": [
      "data_len = 150\n",
      "train_len = 112\n"
     ]
    }
   ],
   "source": [
    "from torch.utils.data import TensorDataset\n",
    "from torch.utils.data import DataLoader\n",
    "\n",
    "print(\"data_len = \" + str(len(data)))\n",
    "batch = 8\n",
    "\n",
    "train_ds = TensorDataset(train_x, train_y)\n",
    "train_dl = DataLoader(train_ds, batch_size=batch, shuffle=True)\n",
    "\n",
    "test_ds = TensorDataset(test_x, test_y)\n",
    "test_dl = DataLoader(test_ds, batch_size=batch)\n",
    "\n",
    "print(\"train_len = \" + str(len(train_dl.dataset)))"
   ]
  },
  {
   "cell_type": "markdown",
   "metadata": {},
   "source": [
    "## 创建模型"
   ]
  },
  {
   "cell_type": "code",
   "execution_count": 8,
   "metadata": {},
   "outputs": [
    {
     "data": {
      "text/plain": [
       "Model(\n",
       "  (lin_1): Linear(in_features=4, out_features=32, bias=True)\n",
       "  (lin_2): Linear(in_features=32, out_features=32, bias=True)\n",
       "  (lin_3): Linear(in_features=32, out_features=3, bias=True)\n",
       ")"
      ]
     },
     "execution_count": 8,
     "metadata": {},
     "output_type": "execute_result"
    }
   ],
   "source": [
    "from torch import nn\n",
    "import torch.nn.functional as F # 函数式API，调用方便使代码更简洁\n",
    "class Model(nn.Module):  # 继承nn.Module\n",
    "    def __init__(self):     # 初始化所有的层\n",
    "        super().__init__()  # 继承父类中所有的属性和方法\n",
    "        self.lin_1 = nn.Linear(4, 32)  # 定义第一层线性层，输入维度为4，输出维度为32\n",
    "        self.lin_2 = nn.Linear(32, 32)  # 定义第二层线性层，输入维度为32，输出维度为32\n",
    "        self.lin_3 = nn.Linear(32, 3)   # 定义第三层线性层，输入维度为32，输出维度为3\n",
    "    def forward(self, input):   # 前向传播函数，定义模型的运算过程，覆盖父类中的forward方法\n",
    "        x = F.relu(self.lin_1(input))   # 将输入数据传入第一层线性层，并使用ReLU激活函数\n",
    "        x = F.relu(self.lin_2(x))       # 将激活后的数据传入第二层线性层，并使用ReLU激活函数\n",
    "        x = self.lin_3(x)               # 多分类问题，最后一层不需要激活函数\n",
    "        return x\n",
    "\n",
    "# 实例化模型\n",
    "model = Model()\n",
    "model"
   ]
  },
  {
   "cell_type": "code",
   "execution_count": 9,
   "metadata": {},
   "outputs": [],
   "source": [
    "# 损失函数\n",
    "loss_fn = nn.CrossEntropyLoss()"
   ]
  },
  {
   "cell_type": "code",
   "execution_count": 10,
   "metadata": {},
   "outputs": [
    {
     "name": "stdout",
     "output_type": "stream",
     "text": [
      "torch.Size([8, 4]) torch.Size([8])\n",
      "torch.Size([8, 3])\n",
      "tensor([[ 0.1757, -0.1786, -0.1753],\n",
      "        [ 0.1669, -0.1380, -0.1407],\n",
      "        [ 0.2091, -0.3070, -0.2567],\n",
      "        [ 0.1826, -0.1821, -0.1720],\n",
      "        [ 0.2275, -0.2655, -0.2068],\n",
      "        [ 0.2229, -0.2603, -0.2097],\n",
      "        [ 0.2298, -0.2643, -0.2157],\n",
      "        [ 0.2476, -0.3070, -0.2238]], grad_fn=<AddmmBackward0>)\n",
      "tensor([0, 0, 0, 0, 0, 0, 0, 0])\n"
     ]
    }
   ],
   "source": [
    "# 理解模型的预测结果\n",
    "# 获取一个batch的数据\n",
    "input_batch, label_batch = next(iter(train_dl)) # iter()函数返回一个迭代器，next()函数返回一个批次的张量\n",
    "print(input_batch.shape, label_batch.shape)\n",
    "# 前向传播\n",
    "y_pred = model(input_batch)\n",
    "print(y_pred.shape)\n",
    "print(y_pred)\n",
    "# 查看预测结果\n",
    "print(torch.argmax(y_pred, dim=1)) # argmax()函数返回张量中最大值的索引，dim=1表示在每一行中找到最大值的索引"
   ]
  },
  {
   "cell_type": "markdown",
   "metadata": {},
   "source": [
    "## 创建训练函数"
   ]
  },
  {
   "cell_type": "code",
   "execution_count": 11,
   "metadata": {},
   "outputs": [],
   "source": [
    "# 准确率计算函数，用于计算预测值和真实值之间的准确率\n",
    "def accuracy(y_pred, y_true):\n",
    "    # 按照行取最大值，返回最大值的索引，即预测值\n",
    "    y_pred = torch.argmax(y_pred, dim=1)\n",
    "    # 计算预测值和真实值相等的数量的均值，并转换为浮点数\n",
    "    return (y_pred == y_true).float().mean()"
   ]
  },
  {
   "cell_type": "code",
   "execution_count": 12,
   "metadata": {},
   "outputs": [
    {
     "name": "stdout",
     "output_type": "stream",
     "text": [
      "epoch: 0     loss: 1.136     acc: 0.321     test_loss: 1.128     test_acc: 0.368\n",
      "epoch: 1     loss: 1.117     acc: 0.321     test_loss: 1.111     test_acc: 0.368\n",
      "epoch: 2     loss: 1.098     acc: 0.321     test_loss: 1.097     test_acc: 0.368\n",
      "epoch: 3     loss: 1.08     acc: 0.321     test_loss: 1.082     test_acc: 0.368\n",
      "epoch: 4     loss: 1.064     acc: 0.402     test_loss: 1.067     test_acc: 0.421\n",
      "epoch: 5     loss: 1.049     acc: 0.741     test_loss: 1.054     test_acc: 0.632\n",
      "epoch: 6     loss: 1.036     acc: 0.732     test_loss: 1.041     test_acc: 0.605\n",
      "epoch: 7     loss: 1.025     acc: 0.696     test_loss: 1.033     test_acc: 0.579\n",
      "epoch: 8     loss: 1.016     acc: 0.696     test_loss: 1.025     test_acc: 0.579\n",
      "epoch: 9     loss: 1.007     acc: 0.696     test_loss: 1.017     test_acc: 0.579\n",
      "epoch: 10     loss: 0.998     acc: 0.696     test_loss: 1.011     test_acc: 0.579\n",
      "epoch: 11     loss: 0.989     acc: 0.696     test_loss: 1.001     test_acc: 0.579\n",
      "epoch: 12     loss: 0.981     acc: 0.696     test_loss: 0.994     test_acc: 0.579\n",
      "epoch: 13     loss: 0.972     acc: 0.696     test_loss: 0.988     test_acc: 0.579\n",
      "epoch: 14     loss: 0.964     acc: 0.696     test_loss: 0.979     test_acc: 0.579\n",
      "epoch: 15     loss: 0.955     acc: 0.696     test_loss: 0.969     test_acc: 0.579\n",
      "epoch: 16     loss: 0.946     acc: 0.696     test_loss: 0.96     test_acc: 0.579\n",
      "epoch: 17     loss: 0.938     acc: 0.696     test_loss: 0.952     test_acc: 0.579\n",
      "epoch: 18     loss: 0.929     acc: 0.696     test_loss: 0.943     test_acc: 0.579\n",
      "epoch: 19     loss: 0.92     acc: 0.696     test_loss: 0.934     test_acc: 0.579\n",
      "epoch: 20     loss: 0.911     acc: 0.696     test_loss: 0.925     test_acc: 0.579\n",
      "epoch: 21     loss: 0.901     acc: 0.696     test_loss: 0.913     test_acc: 0.579\n",
      "epoch: 22     loss: 0.892     acc: 0.696     test_loss: 0.903     test_acc: 0.579\n",
      "epoch: 23     loss: 0.882     acc: 0.696     test_loss: 0.896     test_acc: 0.579\n",
      "epoch: 24     loss: 0.873     acc: 0.696     test_loss: 0.885     test_acc: 0.579\n",
      "epoch: 25     loss: 0.863     acc: 0.696     test_loss: 0.874     test_acc: 0.579\n",
      "epoch: 26     loss: 0.854     acc: 0.696     test_loss: 0.864     test_acc: 0.579\n",
      "epoch: 27     loss: 0.844     acc: 0.696     test_loss: 0.852     test_acc: 0.579\n",
      "epoch: 28     loss: 0.834     acc: 0.696     test_loss: 0.842     test_acc: 0.579\n",
      "epoch: 29     loss: 0.825     acc: 0.696     test_loss: 0.832     test_acc: 0.579\n",
      "epoch: 30     loss: 0.815     acc: 0.696     test_loss: 0.823     test_acc: 0.579\n",
      "epoch: 31     loss: 0.805     acc: 0.696     test_loss: 0.812     test_acc: 0.579\n",
      "epoch: 32     loss: 0.796     acc: 0.696     test_loss: 0.802     test_acc: 0.579\n",
      "epoch: 33     loss: 0.786     acc: 0.696     test_loss: 0.791     test_acc: 0.579\n",
      "epoch: 34     loss: 0.776     acc: 0.696     test_loss: 0.78     test_acc: 0.579\n",
      "epoch: 35     loss: 0.767     acc: 0.696     test_loss: 0.77     test_acc: 0.579\n",
      "epoch: 36     loss: 0.758     acc: 0.696     test_loss: 0.759     test_acc: 0.579\n",
      "epoch: 37     loss: 0.749     acc: 0.696     test_loss: 0.749     test_acc: 0.579\n",
      "epoch: 38     loss: 0.74     acc: 0.705     test_loss: 0.739     test_acc: 0.579\n",
      "epoch: 39     loss: 0.73     acc: 0.741     test_loss: 0.726     test_acc: 0.605\n",
      "epoch: 40     loss: 0.722     acc: 0.741     test_loss: 0.717     test_acc: 0.632\n",
      "epoch: 41     loss: 0.713     acc: 0.759     test_loss: 0.708     test_acc: 0.632\n",
      "epoch: 42     loss: 0.704     acc: 0.723     test_loss: 0.7     test_acc: 0.579\n",
      "epoch: 43     loss: 0.696     acc: 0.75     test_loss: 0.691     test_acc: 0.632\n",
      "epoch: 44     loss: 0.687     acc: 0.759     test_loss: 0.681     test_acc: 0.658\n",
      "epoch: 45     loss: 0.679     acc: 0.759     test_loss: 0.673     test_acc: 0.632\n",
      "epoch: 46     loss: 0.671     acc: 0.812     test_loss: 0.662     test_acc: 0.763\n",
      "epoch: 47     loss: 0.663     acc: 0.848     test_loss: 0.652     test_acc: 0.816\n",
      "epoch: 48     loss: 0.655     acc: 0.866     test_loss: 0.643     test_acc: 0.842\n",
      "epoch: 49     loss: 0.647     acc: 0.866     test_loss: 0.635     test_acc: 0.842\n",
      "epoch: 50     loss: 0.64     acc: 0.839     test_loss: 0.629     test_acc: 0.816\n",
      "epoch: 51     loss: 0.633     acc: 0.83     test_loss: 0.623     test_acc: 0.816\n",
      "epoch: 52     loss: 0.625     acc: 0.866     test_loss: 0.614     test_acc: 0.842\n",
      "epoch: 53     loss: 0.618     acc: 0.911     test_loss: 0.605     test_acc: 0.895\n",
      "epoch: 54     loss: 0.611     acc: 0.92     test_loss: 0.596     test_acc: 0.895\n",
      "epoch: 55     loss: 0.605     acc: 0.92     test_loss: 0.59     test_acc: 0.895\n",
      "epoch: 56     loss: 0.599     acc: 0.955     test_loss: 0.581     test_acc: 0.921\n",
      "epoch: 57     loss: 0.592     acc: 0.929     test_loss: 0.576     test_acc: 0.895\n",
      "epoch: 58     loss: 0.586     acc: 0.955     test_loss: 0.569     test_acc: 0.921\n",
      "epoch: 59     loss: 0.58     acc: 0.946     test_loss: 0.564     test_acc: 0.895\n",
      "epoch: 60     loss: 0.575     acc: 0.955     test_loss: 0.556     test_acc: 0.921\n",
      "epoch: 61     loss: 0.569     acc: 0.955     test_loss: 0.551     test_acc: 0.921\n",
      "epoch: 62     loss: 0.564     acc: 0.955     test_loss: 0.543     test_acc: 0.921\n",
      "epoch: 63     loss: 0.558     acc: 0.955     test_loss: 0.538     test_acc: 0.921\n",
      "epoch: 64     loss: 0.553     acc: 0.955     test_loss: 0.533     test_acc: 0.921\n",
      "epoch: 65     loss: 0.548     acc: 0.955     test_loss: 0.527     test_acc: 0.921\n",
      "epoch: 66     loss: 0.543     acc: 0.955     test_loss: 0.523     test_acc: 0.921\n",
      "epoch: 67     loss: 0.539     acc: 0.964     test_loss: 0.516     test_acc: 0.974\n",
      "epoch: 68     loss: 0.534     acc: 0.982     test_loss: 0.51     test_acc: 0.974\n",
      "epoch: 69     loss: 0.53     acc: 0.964     test_loss: 0.507     test_acc: 0.974\n",
      "epoch: 70     loss: 0.525     acc: 0.955     test_loss: 0.504     test_acc: 0.921\n",
      "epoch: 71     loss: 0.521     acc: 0.973     test_loss: 0.497     test_acc: 0.974\n",
      "epoch: 72     loss: 0.517     acc: 0.973     test_loss: 0.492     test_acc: 0.974\n",
      "epoch: 73     loss: 0.512     acc: 0.964     test_loss: 0.49     test_acc: 0.947\n",
      "epoch: 74     loss: 0.508     acc: 0.964     test_loss: 0.485     test_acc: 0.974\n",
      "epoch: 75     loss: 0.504     acc: 0.964     test_loss: 0.481     test_acc: 0.974\n",
      "epoch: 76     loss: 0.501     acc: 0.964     test_loss: 0.478     test_acc: 0.974\n",
      "epoch: 77     loss: 0.497     acc: 0.973     test_loss: 0.473     test_acc: 0.974\n",
      "epoch: 78     loss: 0.493     acc: 0.964     test_loss: 0.47     test_acc: 0.974\n",
      "epoch: 79     loss: 0.49     acc: 0.964     test_loss: 0.467     test_acc: 0.974\n",
      "epoch: 80     loss: 0.486     acc: 0.964     test_loss: 0.463     test_acc: 0.974\n",
      "epoch: 81     loss: 0.483     acc: 0.973     test_loss: 0.458     test_acc: 1.0\n",
      "epoch: 82     loss: 0.479     acc: 0.982     test_loss: 0.453     test_acc: 1.0\n",
      "epoch: 83     loss: 0.476     acc: 0.973     test_loss: 0.452     test_acc: 0.974\n",
      "epoch: 84     loss: 0.473     acc: 0.982     test_loss: 0.445     test_acc: 1.0\n",
      "epoch: 85     loss: 0.47     acc: 0.973     test_loss: 0.443     test_acc: 1.0\n",
      "epoch: 86     loss: 0.466     acc: 0.973     test_loss: 0.442     test_acc: 0.974\n",
      "epoch: 87     loss: 0.463     acc: 0.973     test_loss: 0.437     test_acc: 1.0\n",
      "epoch: 88     loss: 0.46     acc: 0.973     test_loss: 0.435     test_acc: 1.0\n",
      "epoch: 89     loss: 0.457     acc: 0.973     test_loss: 0.433     test_acc: 0.974\n",
      "epoch: 90     loss: 0.454     acc: 0.982     test_loss: 0.428     test_acc: 1.0\n",
      "epoch: 91     loss: 0.451     acc: 0.982     test_loss: 0.425     test_acc: 1.0\n",
      "epoch: 92     loss: 0.448     acc: 0.964     test_loss: 0.427     test_acc: 0.974\n",
      "epoch: 93     loss: 0.446     acc: 0.973     test_loss: 0.421     test_acc: 0.974\n",
      "epoch: 94     loss: 0.443     acc: 0.973     test_loss: 0.418     test_acc: 1.0\n",
      "epoch: 95     loss: 0.44     acc: 0.973     test_loss: 0.415     test_acc: 1.0\n",
      "epoch: 96     loss: 0.437     acc: 0.982     test_loss: 0.411     test_acc: 1.0\n",
      "epoch: 97     loss: 0.435     acc: 0.973     test_loss: 0.41     test_acc: 1.0\n",
      "epoch: 98     loss: 0.432     acc: 0.982     test_loss: 0.406     test_acc: 1.0\n",
      "epoch: 99     loss: 0.43     acc: 0.982     test_loss: 0.403     test_acc: 1.0\n"
     ]
    }
   ],
   "source": [
    "# 训练模型\n",
    "# 定义结果存放列表\n",
    "train_loss = []\n",
    "train_acc = []\n",
    "test_loss = []\n",
    "test_acc = []\n",
    "\n",
    "# 设置训练的轮数\n",
    "epochs = 100\n",
    "\n",
    "# 定义优化器\n",
    "opt = torch.optim.Adam(model.parameters(), lr=0.0001)\n",
    "\n",
    "for epoch in range(epochs):\n",
    "    for x, y in train_dl:\n",
    "        y_pred = model(x)\n",
    "        loss = loss_fn(y_pred, y)\n",
    "        opt.zero_grad()\n",
    "        loss.backward()\n",
    "        opt.step()\n",
    "    with torch.no_grad():\n",
    "        epoch_acc = accuracy(model(train_x), train_y).data.item()\n",
    "        epoch_loss = loss_fn(model(train_x), train_y).data.item()\n",
    "\n",
    "        epoch_test_acc = accuracy(model(test_x), test_y).data.item()\n",
    "        epoch_test_loss = loss_fn(model(test_x), test_y).data.item()\n",
    "        print('epoch:', epoch, '   ', 'loss:', round(epoch_loss, 3),\n",
    "                               '   ', 'acc:', round(epoch_acc, 3),\n",
    "                               '   ', 'test_loss:', round(epoch_test_loss, 3),\n",
    "                               '   ', 'test_acc:', round(epoch_test_acc, 3))\n",
    "        # 将结果存入列表\n",
    "        train_loss.append(epoch_loss)\n",
    "        train_acc.append(epoch_acc)\n",
    "        test_loss.append(epoch_test_loss)\n",
    "        test_acc.append(epoch_test_acc)"
   ]
  },
  {
   "cell_type": "code",
   "execution_count": 13,
   "metadata": {},
   "outputs": [
    {
     "data": {
      "text/plain": [
       "<matplotlib.legend.Legend at 0x21bb398fb80>"
      ]
     },
     "execution_count": 13,
     "metadata": {},
     "output_type": "execute_result"
    },
    {
     "data": {
      "image/png": "[encoded data removed]",
      "text/plain": [
       "<Figure size 640x480 with 1 Axes>"
      ]
     },
     "metadata": {},
     "output_type": "display_data"
    }
   ],
   "source": [
    "plt.plot(range(1, epochs+1), train_loss, label='train_loss') # 绘制训练损失曲线\n",
    "plt.plot(range(1, epochs+1), test_loss, label='test_loss') # 绘制测试损失曲线\n",
    "plt.legend() # 显示图例"
   ]
  },
  {
   "cell_type": "code",
   "execution_count": 14,
   "metadata": {},
   "outputs": [
    {
     "data": {
      "text/plain": [
       "<matplotlib.legend.Legend at 0x21bb0e8a460>"
      ]
     },
     "execution_count": 14,
     "metadata": {},
     "output_type": "execute_result"
    },
    {
     "data": {
      "image/png": "[encoded data removed]",
      "text/plain": [
       "<Figure size 640x480 with 1 Axes>"
      ]
     },
     "metadata": {},
     "output_type": "display_data"
    }
   ],
   "source": [
    "plt.plot(range(1, epochs+1), train_acc, label='train_acc')\n",
    "plt.plot(range(1, epochs+1), test_acc, label='test_acc')\n",
    "plt.legend()"
   ]
  },
  {
   "cell_type": "markdown",
   "metadata": {},
   "source": [
    "## 通用训练模板"
   ]
  },
  {
   "cell_type": "markdown",
   "metadata": {},
   "source": [
    "编写一个fit函数，输入模型、输入数据（train_dl, test_dl），对数据输入在模型上训练，并且返回loss和acc变化"
   ]
  },
  {
   "cell_type": "code",
   "execution_count": 15,
   "metadata": {},
   "outputs": [],
   "source": [
    "# 训练函数，输入模型、训练数据、测试数据，返回loss和acc变化\n",
    "def fit(epoch, model, trainloader, testloader):\n",
    "    # 模型训练，记录模型在训练集上的loss和acc\n",
    "    correct = 0\n",
    "    total = 0\n",
    "    running_loss = 0\n",
    "    for x, y in trainloader:\n",
    "        y_pred = model(x)\n",
    "        loss = loss_fn(y_pred, y)\n",
    "        opt.zero_grad()\n",
    "        loss.backward()\n",
    "        opt.step()\n",
    "        with torch.no_grad():\n",
    "            y_pred = torch.argmax(y_pred, dim=1)    # 按照行取最大值，返回最大值的索引，即预测值\n",
    "            correct += (y_pred == y).sum().item()   # 计算每个batch中预测正确的数量，并累加到correct变量中得到每个epoch中预测正确的数量\n",
    "            total += y.size(0)                      # 计算每个batch中样本的数量，并累加到total变量中得到每个epoch中样本的总数\n",
    "            running_loss += loss.item()             # 计算每个batch中损失，并累加到running_loss变量中得到每个epoch中损失的总和\n",
    "        \n",
    "    epoch_loss = running_loss / len(trainloader.dataset)    # 每个epoch中损失的总和除以总样本数，得到每个epoch的平均损失\n",
    "    epoch_acc = correct / total                             # 计算每个epoch中预测正确的数量占总数的比例，即准确率\n",
    "        \n",
    "    # 模型测试，记录模型在测试集上的loss和acc\n",
    "    test_correct = 0\n",
    "    test_total = 0\n",
    "    test_running_loss = 0\n",
    "    with torch.no_grad():\n",
    "        for x, y in testloader:\n",
    "            y_pred = model(x)\n",
    "            loss = loss_fn(y_pred, y)\n",
    "            y_pred = torch.argmax(y_pred, dim=1)\n",
    "            test_correct += (y_pred == y).sum().item()\n",
    "            test_total += y.size(0)\n",
    "            test_running_loss += loss.item()\n",
    "    \n",
    "    epoch_test_loss = test_running_loss / len(testloader.dataset)\n",
    "    epoch_test_acc = test_correct / test_total\n",
    "    \n",
    "        \n",
    "    print('epoch: ', epoch, \n",
    "   '   ', 'loss: ', round(epoch_loss, 3),\n",
    "   '   ', 'acc:', round(epoch_acc, 3),\n",
    "   '   ', 'test_loss: ', round(epoch_test_loss, 3),\n",
    "   '   ', 'test_acc:', round(epoch_test_acc, 3))\n",
    "        \n",
    "    return epoch_loss, epoch_acc, epoch_test_loss, epoch_test_acc"
   ]
  },
  {
   "cell_type": "markdown",
   "metadata": {},
   "source": [
    "1. 创建输入（dataloader）\n",
    "2. 创建模型（model）\n",
    "3. 创建损失函数\n",
    "4. 创建优化器"
   ]
  },
  {
   "cell_type": "code",
   "execution_count": 16,
   "metadata": {},
   "outputs": [
    {
     "name": "stdout",
     "output_type": "stream",
     "text": [
      "epoch:  0     loss:  0.139     acc: 0.375     test_loss:  0.151     test_acc: 0.211\n",
      "epoch:  1     loss:  0.137     acc: 0.375     test_loss:  0.149     test_acc: 0.211\n",
      "epoch:  2     loss:  0.136     acc: 0.375     test_loss:  0.147     test_acc: 0.211\n",
      "epoch:  3     loss:  0.135     acc: 0.375     test_loss:  0.144     test_acc: 0.211\n",
      "epoch:  4     loss:  0.133     acc: 0.375     test_loss:  0.143     test_acc: 0.211\n",
      "epoch:  5     loss:  0.132     acc: 0.375     test_loss:  0.141     test_acc: 0.211\n",
      "epoch:  6     loss:  0.131     acc: 0.375     test_loss:  0.14     test_acc: 0.211\n",
      "epoch:  7     loss:  0.13     acc: 0.375     test_loss:  0.138     test_acc: 0.211\n",
      "epoch:  8     loss:  0.129     acc: 0.375     test_loss:  0.137     test_acc: 0.263\n",
      "epoch:  9     loss:  0.128     acc: 0.393     test_loss:  0.136     test_acc: 0.289\n",
      "epoch:  10     loss:  0.127     acc: 0.411     test_loss:  0.134     test_acc: 0.421\n",
      "epoch:  11     loss:  0.126     acc: 0.571     test_loss:  0.132     test_acc: 0.474\n",
      "epoch:  12     loss:  0.125     acc: 0.634     test_loss:  0.131     test_acc: 0.605\n",
      "epoch:  13     loss:  0.124     acc: 0.679     test_loss:  0.13     test_acc: 0.605\n",
      "epoch:  14     loss:  0.123     acc: 0.696     test_loss:  0.129     test_acc: 0.684\n",
      "epoch:  15     loss:  0.122     acc: 0.723     test_loss:  0.127     test_acc: 0.789\n",
      "epoch:  16     loss:  0.121     acc: 0.759     test_loss:  0.126     test_acc: 0.868\n",
      "epoch:  17     loss:  0.12     acc: 0.812     test_loss:  0.125     test_acc: 0.842\n",
      "epoch:  18     loss:  0.119     acc: 0.812     test_loss:  0.124     test_acc: 0.868\n",
      "epoch:  19     loss:  0.117     acc: 0.821     test_loss:  0.122     test_acc: 0.868\n",
      "epoch:  20     loss:  0.116     acc: 0.866     test_loss:  0.121     test_acc: 0.868\n",
      "epoch:  21     loss:  0.115     acc: 0.732     test_loss:  0.119     test_acc: 0.842\n",
      "epoch:  22     loss:  0.114     acc: 0.777     test_loss:  0.118     test_acc: 0.921\n",
      "epoch:  23     loss:  0.113     acc: 0.821     test_loss:  0.117     test_acc: 0.921\n",
      "epoch:  24     loss:  0.112     acc: 0.804     test_loss:  0.115     test_acc: 0.921\n",
      "epoch:  25     loss:  0.111     acc: 0.812     test_loss:  0.114     test_acc: 0.868\n",
      "epoch:  26     loss:  0.109     acc: 0.777     test_loss:  0.112     test_acc: 0.868\n",
      "epoch:  27     loss:  0.108     acc: 0.777     test_loss:  0.111     test_acc: 0.868\n",
      "epoch:  28     loss:  0.107     acc: 0.786     test_loss:  0.109     test_acc: 0.868\n",
      "epoch:  29     loss:  0.105     acc: 0.795     test_loss:  0.108     test_acc: 0.868\n",
      "epoch:  30     loss:  0.104     acc: 0.83     test_loss:  0.107     test_acc: 0.868\n",
      "epoch:  31     loss:  0.103     acc: 0.786     test_loss:  0.105     test_acc: 0.868\n",
      "epoch:  32     loss:  0.102     acc: 0.795     test_loss:  0.104     test_acc: 0.868\n",
      "epoch:  33     loss:  0.101     acc: 0.812     test_loss:  0.102     test_acc: 0.868\n",
      "epoch:  34     loss:  0.1     acc: 0.804     test_loss:  0.101     test_acc: 0.868\n",
      "epoch:  35     loss:  0.099     acc: 0.839     test_loss:  0.1     test_acc: 0.868\n",
      "epoch:  36     loss:  0.097     acc: 0.866     test_loss:  0.099     test_acc: 0.868\n",
      "epoch:  37     loss:  0.096     acc: 0.884     test_loss:  0.098     test_acc: 0.895\n",
      "epoch:  38     loss:  0.095     acc: 0.875     test_loss:  0.096     test_acc: 0.868\n",
      "epoch:  39     loss:  0.094     acc: 0.875     test_loss:  0.095     test_acc: 0.895\n",
      "epoch:  40     loss:  0.093     acc: 0.884     test_loss:  0.094     test_acc: 0.895\n",
      "epoch:  41     loss:  0.092     acc: 0.884     test_loss:  0.093     test_acc: 0.921\n",
      "epoch:  42     loss:  0.091     acc: 0.866     test_loss:  0.091     test_acc: 0.895\n",
      "epoch:  43     loss:  0.09     acc: 0.875     test_loss:  0.09     test_acc: 0.895\n",
      "epoch:  44     loss:  0.089     acc: 0.875     test_loss:  0.089     test_acc: 0.895\n",
      "epoch:  45     loss:  0.088     acc: 0.893     test_loss:  0.088     test_acc: 0.895\n",
      "epoch:  46     loss:  0.087     acc: 0.893     test_loss:  0.087     test_acc: 0.921\n",
      "epoch:  47     loss:  0.086     acc: 0.902     test_loss:  0.086     test_acc: 0.921\n",
      "epoch:  48     loss:  0.085     acc: 0.911     test_loss:  0.085     test_acc: 0.921\n",
      "epoch:  49     loss:  0.084     acc: 0.92     test_loss:  0.084     test_acc: 0.921\n",
      "epoch:  50     loss:  0.083     acc: 0.92     test_loss:  0.083     test_acc: 0.921\n",
      "epoch:  51     loss:  0.082     acc: 0.911     test_loss:  0.082     test_acc: 0.921\n",
      "epoch:  52     loss:  0.081     acc: 0.875     test_loss:  0.08     test_acc: 0.895\n",
      "epoch:  53     loss:  0.08     acc: 0.902     test_loss:  0.08     test_acc: 0.921\n",
      "epoch:  54     loss:  0.079     acc: 0.938     test_loss:  0.079     test_acc: 0.921\n",
      "epoch:  55     loss:  0.079     acc: 0.902     test_loss:  0.078     test_acc: 0.921\n",
      "epoch:  56     loss:  0.078     acc: 0.929     test_loss:  0.077     test_acc: 0.947\n",
      "epoch:  57     loss:  0.077     acc: 0.955     test_loss:  0.076     test_acc: 0.947\n",
      "epoch:  58     loss:  0.076     acc: 0.946     test_loss:  0.075     test_acc: 0.947\n",
      "epoch:  59     loss:  0.075     acc: 0.955     test_loss:  0.075     test_acc: 0.947\n",
      "epoch:  60     loss:  0.075     acc: 0.938     test_loss:  0.073     test_acc: 0.947\n",
      "epoch:  61     loss:  0.074     acc: 0.938     test_loss:  0.073     test_acc: 0.947\n",
      "epoch:  62     loss:  0.073     acc: 0.946     test_loss:  0.072     test_acc: 0.947\n",
      "epoch:  63     loss:  0.072     acc: 0.946     test_loss:  0.071     test_acc: 0.947\n",
      "epoch:  64     loss:  0.072     acc: 0.955     test_loss:  0.071     test_acc: 0.947\n",
      "epoch:  65     loss:  0.071     acc: 0.946     test_loss:  0.07     test_acc: 0.947\n",
      "epoch:  66     loss:  0.07     acc: 0.964     test_loss:  0.069     test_acc: 0.947\n",
      "epoch:  67     loss:  0.07     acc: 0.964     test_loss:  0.068     test_acc: 0.947\n",
      "epoch:  68     loss:  0.069     acc: 0.964     test_loss:  0.068     test_acc: 0.947\n",
      "epoch:  69     loss:  0.068     acc: 0.964     test_loss:  0.067     test_acc: 0.947\n",
      "epoch:  70     loss:  0.068     acc: 0.964     test_loss:  0.066     test_acc: 0.947\n",
      "epoch:  71     loss:  0.067     acc: 0.964     test_loss:  0.066     test_acc: 0.947\n",
      "epoch:  72     loss:  0.066     acc: 0.964     test_loss:  0.065     test_acc: 0.947\n",
      "epoch:  73     loss:  0.066     acc: 0.973     test_loss:  0.065     test_acc: 0.974\n",
      "epoch:  74     loss:  0.065     acc: 0.964     test_loss:  0.064     test_acc: 0.947\n",
      "epoch:  75     loss:  0.065     acc: 0.964     test_loss:  0.063     test_acc: 0.947\n",
      "epoch:  76     loss:  0.064     acc: 0.964     test_loss:  0.063     test_acc: 0.947\n",
      "epoch:  77     loss:  0.063     acc: 0.973     test_loss:  0.062     test_acc: 0.974\n",
      "epoch:  78     loss:  0.063     acc: 0.964     test_loss:  0.062     test_acc: 0.947\n",
      "epoch:  79     loss:  0.062     acc: 0.973     test_loss:  0.061     test_acc: 0.974\n",
      "epoch:  80     loss:  0.062     acc: 0.973     test_loss:  0.061     test_acc: 0.974\n",
      "epoch:  81     loss:  0.061     acc: 0.964     test_loss:  0.06     test_acc: 0.947\n",
      "epoch:  82     loss:  0.061     acc: 0.973     test_loss:  0.059     test_acc: 0.974\n",
      "epoch:  83     loss:  0.06     acc: 0.973     test_loss:  0.059     test_acc: 0.974\n",
      "epoch:  84     loss:  0.06     acc: 0.973     test_loss:  0.059     test_acc: 0.974\n",
      "epoch:  85     loss:  0.059     acc: 0.973     test_loss:  0.058     test_acc: 0.974\n",
      "epoch:  86     loss:  0.059     acc: 0.973     test_loss:  0.057     test_acc: 0.974\n",
      "epoch:  87     loss:  0.058     acc: 0.973     test_loss:  0.057     test_acc: 0.974\n",
      "epoch:  88     loss:  0.058     acc: 0.973     test_loss:  0.056     test_acc: 0.974\n",
      "epoch:  89     loss:  0.057     acc: 0.973     test_loss:  0.056     test_acc: 0.974\n",
      "epoch:  90     loss:  0.057     acc: 0.973     test_loss:  0.056     test_acc: 0.974\n",
      "epoch:  91     loss:  0.057     acc: 0.973     test_loss:  0.055     test_acc: 0.974\n",
      "epoch:  92     loss:  0.056     acc: 0.973     test_loss:  0.055     test_acc: 1.0\n",
      "epoch:  93     loss:  0.056     acc: 0.973     test_loss:  0.055     test_acc: 1.0\n",
      "epoch:  94     loss:  0.055     acc: 0.973     test_loss:  0.054     test_acc: 1.0\n",
      "epoch:  95     loss:  0.055     acc: 0.973     test_loss:  0.053     test_acc: 0.974\n",
      "epoch:  96     loss:  0.054     acc: 0.973     test_loss:  0.053     test_acc: 1.0\n",
      "epoch:  97     loss:  0.054     acc: 0.973     test_loss:  0.052     test_acc: 1.0\n",
      "epoch:  98     loss:  0.053     acc: 0.973     test_loss:  0.053     test_acc: 1.0\n",
      "epoch:  99     loss:  0.053     acc: 0.973     test_loss:  0.052     test_acc: 1.0\n"
     ]
    }
   ],
   "source": [
    "model = Model()\n",
    "opt = torch.optim.Adam(model.parameters(), lr=0.0001)\n",
    "\n",
    "train_loss = []\n",
    "train_acc = []\n",
    "test_loss = []\n",
    "test_acc = []\n",
    "\n",
    "epochs = 100\n",
    "\n",
    "for epoch in range(epochs):\n",
    "    epoch_loss, epoch_acc, epoch_test_loss, epoch_test_acc = fit(epoch, model, train_dl, test_dl)\n",
    "    \n",
    "    train_loss.append(epoch_loss)\n",
    "    train_acc.append(epoch_acc)\n",
    "    test_loss.append(epoch_test_loss)\n",
    "    test_acc.append(epoch_test_acc)"
   ]
  },
  {
   "cell_type": "code",
   "execution_count": 17,
   "metadata": {},
   "outputs": [
    {
     "data": {
      "text/plain": [
       "<matplotlib.legend.Legend at 0x21bb3bd5ca0>"
      ]
     },
     "execution_count": 17,
     "metadata": {},
     "output_type": "execute_result"
    },
    {
     "data": {
      "image/png": "[encoded data removed]",
      "text/plain": [
       "<Figure size 640x480 with 1 Axes>"
      ]
     },
     "metadata": {},
     "output_type": "display_data"
    }
   ],
   "source": [
    "plt.plot(range(1, epochs+1), train_loss, label='train_loss')\n",
    "plt.plot(range(1, epochs+1), test_loss, label='test_loss')\n",
    "plt.legend()"
   ]
  },
  {
   "cell_type": "code",
   "execution_count": 18,
   "metadata": {},
   "outputs": [
    {
     "data": {
      "text/plain": [
       "<matplotlib.legend.Legend at 0x21bb3b8ed30>"
      ]
     },
     "execution_count": 18,
     "metadata": {},
     "output_type": "execute_result"
    },
    {
     "data": {
      "image/png": "[encoded data removed]",
      "text/plain": [
       "<Figure size 640x480 with 1 Axes>"
      ]
     },
     "metadata": {},
     "output_type": "display_data"
    }
   ],
   "source": [
    "plt.plot(range(1, epochs+1), train_acc, label='train_acc')\n",
    "plt.plot(range(1, epochs+1), test_acc, label='test_acc')\n",
    "plt.legend()"
   ]
  }
 ],
 "metadata": {
  "kernelspec": {
   "display_name": "pytorch2.2.2",
   "language": "python",
   "name": "python3"
  },
  "language_info": {
   "codemirror_mode": {
    "name": "ipython",
    "version": 3
   },
   "file_extension": ".py",
   "mimetype": "text/x-python",
   "name": "python",
   "nbconvert_exporter": "python",
   "pygments_lexer": "ipython3",
   "version": "3.9.21"
  }
 },
 "nbformat": 4,
 "nbformat_minor": 2
}
