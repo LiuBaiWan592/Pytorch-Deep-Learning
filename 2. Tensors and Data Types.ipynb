{
 "cells": [
  {
   "cell_type": "markdown",
   "metadata": {},
   "source": [
    "# 张量和数据类型"
   ]
  },
  {
   "cell_type": "code",
   "execution_count": 1,
   "metadata": {},
   "outputs": [],
   "source": [
    "import torch\n",
    "import numpy as np"
   ]
  },
  {
   "cell_type": "markdown",
   "metadata": {},
   "source": [
    "## 初始化张量"
   ]
  },
  {
   "cell_type": "markdown",
   "metadata": {},
   "source": [
    "### 从Python列表初始化张量"
   ]
  },
  {
   "cell_type": "code",
   "execution_count": 2,
   "metadata": {},
   "outputs": [
    {
     "name": "stdout",
     "output_type": "stream",
     "text": [
      "tensor([1, 2, 3])\n",
      "torch.int64\n"
     ]
    }
   ],
   "source": [
    "t = torch.tensor([1, 2, 3])\n",
    "print(t)\n",
    "print(t.dtype)"
   ]
  },
  {
   "cell_type": "code",
   "execution_count": 3,
   "metadata": {},
   "outputs": [
    {
     "name": "stdout",
     "output_type": "stream",
     "text": [
      "tensor([1., 2., 3.])\n",
      "torch.float32\n"
     ]
    }
   ],
   "source": [
    "t = torch.tensor([1., 2., 3.])\n",
    "print(t)\n",
    "print(t.dtype)"
   ]
  },
  {
   "cell_type": "code",
   "execution_count": 4,
   "metadata": {},
   "outputs": [
    {
     "name": "stdout",
     "output_type": "stream",
     "text": [
      "tensor([1., 2., 3.])\n",
      "torch.float32\n"
     ]
    }
   ],
   "source": [
    "t = torch.FloatTensor([1, 2, 3])\n",
    "print(t)\n",
    "print(t.dtype)"
   ]
  },
  {
   "cell_type": "code",
   "execution_count": 5,
   "metadata": {},
   "outputs": [
    {
     "name": "stdout",
     "output_type": "stream",
     "text": [
      "tensor([1, 2, 3])\n",
      "torch.int64\n"
     ]
    }
   ],
   "source": [
    "t = torch.LongTensor([1, 2, 3])\n",
    "print(t)\n",
    "print(t.dtype)"
   ]
  },
  {
   "cell_type": "markdown",
   "metadata": {},
   "source": [
    "### 从numpy的ndarray初始化"
   ]
  },
  {
   "cell_type": "code",
   "execution_count": 6,
   "metadata": {},
   "outputs": [
    {
     "data": {
      "text/plain": [
       "array([[ 0,  1,  2,  3],\n",
       "       [ 4,  5,  6,  7],\n",
       "       [ 8,  9, 10, 11]])"
      ]
     },
     "execution_count": 6,
     "metadata": {},
     "output_type": "execute_result"
    }
   ],
   "source": [
    "np_array = np.arange(12).reshape(3, 4)\n",
    "np_array"
   ]
  },
  {
   "cell_type": "code",
   "execution_count": 7,
   "metadata": {},
   "outputs": [
    {
     "name": "stdout",
     "output_type": "stream",
     "text": [
      "tensor([[ 0,  1,  2,  3],\n",
      "        [ 4,  5,  6,  7],\n",
      "        [ 8,  9, 10, 11]], dtype=torch.int32)\n",
      "torch.int32\n"
     ]
    }
   ],
   "source": [
    "t = torch.from_numpy(np_array)\n",
    "# 也可以使用下面的方式\n",
    "# t = torch.tensor(np_array)\n",
    "print(t)\n",
    "print(t.dtype)"
   ]
  },
  {
   "cell_type": "markdown",
   "metadata": {},
   "source": [
    "## 张量（Tensor）基本数据类型"
   ]
  },
  {
   "cell_type": "markdown",
   "metadata": {},
   "source": [
    "* 32位浮点型：torch.float32 / torch.float\n",
    "* 64位浮点型：torch.float64\n",
    "* 64位整型： torch.int64 / torch.long\n",
    "* 32位整型： torch.int32\n",
    "* 16位整型： torch.int16"
   ]
  },
  {
   "cell_type": "code",
   "execution_count": 8,
   "metadata": {},
   "outputs": [
    {
     "name": "stdout",
     "output_type": "stream",
     "text": [
      "tensor([1., 2., 3.])\n",
      "torch.float32\n"
     ]
    }
   ],
   "source": [
    "t = torch.tensor([1, 2, 3], dtype=torch.float32)\n",
    "print(t)\n",
    "print(t.dtype)"
   ]
  },
  {
   "cell_type": "code",
   "execution_count": 9,
   "metadata": {},
   "outputs": [
    {
     "name": "stdout",
     "output_type": "stream",
     "text": [
      "tensor([1., 2., 3.])\n",
      "torch.float32\n"
     ]
    }
   ],
   "source": [
    "t = torch.tensor([1, 2, 3], dtype=torch.float)\n",
    "print(t)\n",
    "print(t.dtype)"
   ]
  },
  {
   "cell_type": "code",
   "execution_count": 10,
   "metadata": {},
   "outputs": [
    {
     "name": "stdout",
     "output_type": "stream",
     "text": [
      "tensor([1, 2, 3])\n",
      "torch.int64\n"
     ]
    }
   ],
   "source": [
    "t = torch.tensor([1, 2, 3], dtype=torch.long)\n",
    "print(t)\n",
    "print(t.dtype)"
   ]
  },
  {
   "cell_type": "markdown",
   "metadata": {},
   "source": [
    "## 创建随机值张量"
   ]
  },
  {
   "cell_type": "code",
   "execution_count": 11,
   "metadata": {},
   "outputs": [
    {
     "name": "stdout",
     "output_type": "stream",
     "text": [
      "tensor([[0.1177, 0.6748, 0.9072, 0.0814],\n",
      "        [0.1240, 0.2105, 0.2115, 0.6189],\n",
      "        [0.2297, 0.3468, 0.1999, 0.2457]])\n",
      "torch.float32\n",
      "torch.Size([3, 4])\n"
     ]
    }
   ],
   "source": [
    "# 创建（0，1）之间均匀分布的随机数\n",
    "t = torch.rand(3, 4)\n",
    "print(t)\n",
    "print(t.dtype)\n",
    "print(t.shape)"
   ]
  },
  {
   "cell_type": "code",
   "execution_count": 12,
   "metadata": {},
   "outputs": [
    {
     "name": "stdout",
     "output_type": "stream",
     "text": [
      "tensor([[-1.8310,  1.3585, -0.4829, -1.7086],\n",
      "        [ 0.1540, -0.0939,  1.5591,  0.2789],\n",
      "        [-1.9121, -0.2894,  0.0938, -0.4290]])\n",
      "torch.float32\n",
      "torch.Size([3, 4])\n"
     ]
    }
   ],
   "source": [
    "# 创建标准正态分布的随机数\n",
    "t = torch.randn(3, 4)\n",
    "print(t)\n",
    "print(t.dtype)\n",
    "print(t.shape)"
   ]
  },
  {
   "cell_type": "code",
   "execution_count": 13,
   "metadata": {},
   "outputs": [
    {
     "name": "stdout",
     "output_type": "stream",
     "text": [
      "tensor([[0., 0., 0., 0.],\n",
      "        [0., 0., 0., 0.],\n",
      "        [0., 0., 0., 0.]])\n",
      "torch.float32\n",
      "torch.Size([3, 4])\n"
     ]
    }
   ],
   "source": [
    "# 创建全0的张量\n",
    "t = torch.zeros(3, 4)\n",
    "print(t)\n",
    "print(t.dtype)\n",
    "print(t.shape)"
   ]
  },
  {
   "cell_type": "code",
   "execution_count": 14,
   "metadata": {},
   "outputs": [
    {
     "name": "stdout",
     "output_type": "stream",
     "text": [
      "tensor([[1., 1., 1., 1.],\n",
      "        [1., 1., 1., 1.],\n",
      "        [1., 1., 1., 1.]])\n",
      "torch.float32\n",
      "torch.Size([3, 4])\n"
     ]
    }
   ],
   "source": [
    "# 创建全1的张量\n",
    "t = torch.ones(3, 4)\n",
    "print(t)\n",
    "print(t.dtype)\n",
    "print(t.shape)"
   ]
  },
  {
   "cell_type": "code",
   "execution_count": 15,
   "metadata": {},
   "outputs": [
    {
     "name": "stdout",
     "output_type": "stream",
     "text": [
      "tensor([[-0.5983,  0.6046, -0.3986,  0.2813],\n",
      "        [ 0.9636, -0.3125,  0.2171, -0.9225],\n",
      "        [-1.6047,  1.1522, -0.5084, -0.2563]])\n",
      "torch.float32\n",
      "torch.Size([3, 4])\n"
     ]
    }
   ],
   "source": [
    "# 创建一个与t形状相同的张量，但是值是正态分布的随机数\n",
    "t = torch.randn_like(t)\n",
    "print(t)\n",
    "print(t.dtype)\n",
    "print(t.shape)"
   ]
  },
  {
   "cell_type": "markdown",
   "metadata": {},
   "source": [
    "## 张量的属性"
   ]
  },
  {
   "cell_type": "code",
   "execution_count": 16,
   "metadata": {},
   "outputs": [
    {
     "name": "stdout",
     "output_type": "stream",
     "text": [
      "tensor([[0.5385, 0.3000, 0.1955, 0.9011],\n",
      "        [0.0987, 0.3806, 0.6554, 0.5518],\n",
      "        [0.7518, 0.0090, 0.0065, 0.1747]])\n",
      "torch.float32\n",
      "torch.Size([3, 4])\n",
      "size = torch.Size([3, 4])\n",
      "dim = 2\n",
      "size(0) = 3\n",
      "size(1) = 4\n",
      "numel= 12\n"
     ]
    }
   ],
   "source": [
    "# 创建一个与t形状相同的张量，但是值是在（0，1）均匀分布的随机数\n",
    "t = torch.rand_like(t)\n",
    "print(t)\n",
    "# 返回张量的数据类型\n",
    "print(t.dtype)\n",
    "# 返回张量的形状\n",
    "print(t.shape)\n",
    "print(\"size = \" + str(t.size()))\n",
    "# 返回张量的维度\n",
    "print(\"dim = \" + str(t.dim()))\n",
    "# 返回张量第一个维度的长度\n",
    "print(\"size(0) = \" + str(t.size(0)))\n",
    "# 返回张量第二个维度的长度\n",
    "print(\"size(1) = \" + str(t.size(1)))\n",
    "# 返回张量的元素个数\n",
    "print(\"numel= \" + str(t.numel()))\n"
   ]
  },
  {
   "cell_type": "markdown",
   "metadata": {},
   "source": [
    "## 张量存储设备及其转移"
   ]
  },
  {
   "cell_type": "code",
   "execution_count": 17,
   "metadata": {},
   "outputs": [
    {
     "name": "stdout",
     "output_type": "stream",
     "text": [
      "device = cpu\n",
      "torch.cuda.is_available() = True\n",
      "device = cuda:0\n"
     ]
    }
   ],
   "source": [
    "# 返回张量的存储设备\n",
    "print(\"device = \" + str(t.device))\n",
    "print(\"torch.cuda.is_available() = \" + str(torch.cuda.is_available()))\n",
    "# 将张量转移到GPU\n",
    "if torch.cuda.is_available():\n",
    "    t = t.to('cuda')\n",
    "    print(\"device = \" + str(t.device))"
   ]
  },
  {
   "cell_type": "code",
   "execution_count": 18,
   "metadata": {},
   "outputs": [
    {
     "name": "stdout",
     "output_type": "stream",
     "text": [
      "device = cpu\n"
     ]
    }
   ],
   "source": [
    "# 将张量转移到CPU\n",
    "t = t.to('cpu')\n",
    "print(\"device = \" + str(t.device))"
   ]
  },
  {
   "cell_type": "markdown",
   "metadata": {},
   "source": [
    "## 张量数据类型的转换"
   ]
  },
  {
   "cell_type": "code",
   "execution_count": 19,
   "metadata": {},
   "outputs": [
    {
     "name": "stdout",
     "output_type": "stream",
     "text": [
      "tensor([1., 2., 3.])\n",
      "torch.float32\n",
      "----------------\n",
      "tensor([1., 2., 3.], dtype=torch.float64)\n",
      "torch.float64\n",
      "----------------\n",
      "tensor([1, 2, 3])\n",
      "torch.int64\n"
     ]
    }
   ],
   "source": [
    "# 对张量进行数据类型转换\n",
    "t = torch.tensor([1, 2, 3], dtype=torch.float32)\n",
    "print(t)\n",
    "print(t.dtype)\n",
    "print(\"----------------\")\n",
    "t = t.type(torch.float64)\n",
    "print(t)\n",
    "print(t.dtype)\n",
    "print(\"----------------\")\n",
    "t = t.type(torch.int64)\n",
    "print(t)\n",
    "print(t.dtype)\n"
   ]
  },
  {
   "cell_type": "code",
   "execution_count": 20,
   "metadata": {},
   "outputs": [
    {
     "name": "stdout",
     "output_type": "stream",
     "text": [
      "tensor([[-1.6259,  0.4243,  0.0878,  0.7511],\n",
      "        [-2.0375, -0.1314,  2.0351, -0.1543],\n",
      "        [-0.9781,  0.7493,  0.0953, -0.6086]])\n",
      "torch.float32\n",
      "----------------\n",
      "tensor([[-1,  0,  0,  0],\n",
      "        [-2,  0,  2,  0],\n",
      "        [ 0,  0,  0,  0]])\n",
      "torch.int64\n",
      "----------------\n",
      "tensor([[-1.,  0.,  0.,  0.],\n",
      "        [-2.,  0.,  2.,  0.],\n",
      "        [ 0.,  0.,  0.,  0.]])\n",
      "torch.float32\n",
      "----------------\n"
     ]
    }
   ],
   "source": [
    "t = torch.randn(3, 4)\n",
    "print(t)\n",
    "print(t.dtype)\n",
    "print(\"----------------\")\n",
    "# .long()方法可以将张量转换为64位整型，即int64，与t.type(torch.int64)等价\n",
    "t = t.long()\n",
    "print(t)\n",
    "print(t.dtype)\n",
    "print(\"----------------\")\n",
    "# .int()方法可以将张量转换为32位整型\n",
    "# .short()方法可以将张量转换为16位整型\n",
    "# .char()方法可以将张量转换为8位整型\n",
    "# .byte()方法可以将张量转换为8位无符号整型\n",
    "\n",
    "# .double()方法可以将张量转换为64位浮点型\n",
    "# .float()方法可以将张量转换为32位浮点型\n",
    "t = t.float()\n",
    "print(t)\n",
    "print(t.dtype)\n",
    "print(\"----------------\")\n",
    "# .half()方法可以将张量转换为16位浮点型\n",
    "\n",
    "# .bool()方法可以将张量转换为布尔型"
   ]
  },
  {
   "cell_type": "markdown",
   "metadata": {},
   "source": [
    "## 张量运算"
   ]
  },
  {
   "cell_type": "code",
   "execution_count": 21,
   "metadata": {},
   "outputs": [
    {
     "name": "stdout",
     "output_type": "stream",
     "text": [
      "tensor([[-1.7161, -2.0000,  0.0601, -0.0810],\n",
      "        [ 1.4729,  1.7963,  1.6105, -1.2821],\n",
      "        [ 2.3197,  0.3561,  1.5493,  0.1468]])\n",
      "tensor([[1.2839, 1.0000, 3.0601, 2.9190],\n",
      "        [4.4729, 4.7963, 4.6105, 1.7179],\n",
      "        [5.3197, 3.3561, 4.5493, 3.1468]])\n",
      "----------------\n",
      "tensor([[ 0.7928,  0.1617,  0.6632,  0.4048],\n",
      "        [ 0.9433,  0.0438,  1.1499,  1.4722],\n",
      "        [-1.4397, -0.5393, -0.2915,  1.1260]])\n",
      "tensor([[-0.9233, -1.8383,  0.7233,  0.3238],\n",
      "        [ 2.4162,  1.8402,  2.7604,  0.1901],\n",
      "        [ 0.8800, -0.1832,  1.2579,  1.2728]])\n",
      "----------------\n",
      "tensor([[-1.7161, -2.0000,  0.0601, -0.0810],\n",
      "        [ 1.4729,  1.7963,  1.6105, -1.2821],\n",
      "        [ 2.3197,  0.3561,  1.5493,  0.1468]])\n",
      "tensor([[-0.9233, -1.8383,  0.7233,  0.3238],\n",
      "        [ 2.4162,  1.8402,  2.7604,  0.1901],\n",
      "        [ 0.8800, -0.1832,  1.2579,  1.2728]])\n",
      "tensor([[-0.9233, -1.8383,  0.7233,  0.3238],\n",
      "        [ 2.4162,  1.8402,  2.7604,  0.1901],\n",
      "        [ 0.8800, -0.1832,  1.2579,  1.2728]])\n",
      "----------------\n"
     ]
    }
   ],
   "source": [
    "# 加法：广播原则\n",
    "t1 = torch.randn(3, 4)\n",
    "print(t1)\n",
    "# 数值与t1相加，每个元素加3\n",
    "print(t1 + 3)\n",
    "print(\"----------------\")\n",
    "# 与相同形状的张量相加,对应元素相加；与不同形状的张量相加，会报错\n",
    "t2 = torch.randn(3, 4)\n",
    "print(t2)\n",
    "# print(t1 + t2)\n",
    "# print(torch.add(t1, t2))\n",
    "#等同于\n",
    "print(t1.add(t2))   # t1的值不变\n",
    "print(\"----------------\")\n",
    "print(t1)\n",
    "print(t1.add_(t2))      # t1 = t1 + t2\n",
    "# t1的值改变\n",
    "print(t1)\n",
    "print(\"----------------\")\n",
    "# 方法后面带下划线的方法会改变调用者的值\n",
    "# 类似的方法还有sub（减法）、mul（乘法）、div（除法）、pow（幂运算）、sqrt（开方）\n",
    "# log（对数运算）、exp（指数运算）、abs（绝对值）、neg（取负数）、reciprocal（取倒数）\n",
    "# mean（求均值）、std（求标准差）、var（求方差）、norm（求范数）\n",
    "# max（求最大值）、min（求最小值）、argmax（求最大值索引）、argmin（求最小值索引）\n",
    "# sum（求和）、prod（求积）、cumsum（求累加和）、cumprod（求累乘积）\n",
    "# round（四舍五入）、floor（向下取整）、ceil（向上取整）、trunc（取整数部分）、frac（取小数部分）等"
   ]
  },
  {
   "cell_type": "code",
   "execution_count": 22,
   "metadata": {},
   "outputs": [
    {
     "name": "stdout",
     "output_type": "stream",
     "text": [
      "tensor([[ 1.0902,  0.5554, -1.7102, -1.7215],\n",
      "        [ 0.0922,  0.4974,  0.3530,  0.3055],\n",
      "        [ 0.3642,  1.6786,  0.7084, -1.7233]])\n",
      "tensor([[ 1.0902,  0.0922,  0.3642],\n",
      "        [ 0.5554,  0.4974,  1.6786],\n",
      "        [-1.7102,  0.3530,  0.7084],\n",
      "        [-1.7215,  0.3055, -1.7233]])\n",
      "tensor([[ 7.3855, -0.7530,  3.0844],\n",
      "        [-0.7530,  0.4739,  0.5921],\n",
      "        [ 3.0844,  0.5921,  6.4219]])\n"
     ]
    }
   ],
   "source": [
    "# matmul（矩阵乘法）、@（矩阵乘法）、T（转置）、transpose（转置）、permute（维度交换）、reshape（形状变换）、view（形状变换）\n",
    "t1 = torch.randn(3, 4)\n",
    "print(t1)\n",
    "print(t1.T)\n",
    "print(t1.matmul(t1.T))"
   ]
  },
  {
   "cell_type": "markdown",
   "metadata": {},
   "source": [
    "## 从张量转换为python和numpy的数据类型"
   ]
  },
  {
   "cell_type": "code",
   "execution_count": 23,
   "metadata": {},
   "outputs": [
    {
     "name": "stdout",
     "output_type": "stream",
     "text": [
      "tensor(0.4899)\n",
      "0.4899040460586548\n",
      "[[1.0902432203292847, 0.5553516745567322, -1.7102121114730835, -1.721518874168396], [0.09216282516717911, 0.4974042773246765, 0.35304132103919983, 0.30552318692207336], [0.3641728460788727, 1.6786128282546997, 0.7084041237831116, -1.7232813835144043]]\n",
      "tensor(0.0408)\n",
      "0.040825337171554565\n"
     ]
    }
   ],
   "source": [
    "# 转换为Python数据类型\n",
    "t2 = t1.sum()\n",
    "print(t2)\n",
    "print(t2.item())        # 将张量的值转换为Python数值\n",
    "print(t1.tolist())      # 将张量的值转换为Python列表\n",
    "result = t1.mean()      # 求均值\n",
    "print(result)           # 返回一个张量\n",
    "print(result.item())    # 返回一个Python数值"
   ]
  },
  {
   "cell_type": "code",
   "execution_count": 24,
   "metadata": {},
   "outputs": [
    {
     "name": "stdout",
     "output_type": "stream",
     "text": [
      "[[ 1.41883279 -0.95257798 -0.18890659 -0.48641482]\n",
      " [ 0.42616922 -1.59641941 -1.76066375 -0.48706198]\n",
      " [ 0.26104462  0.24526234  0.56820306 -0.94299848]]\n",
      "tensor([[ 1.4188, -0.9526, -0.1889, -0.4864],\n",
      "        [ 0.4262, -1.5964, -1.7607, -0.4871],\n",
      "        [ 0.2610,  0.2453,  0.5682, -0.9430]], dtype=torch.float64)\n",
      "[[ 1.41883279 -0.95257798 -0.18890659 -0.48641482]\n",
      " [ 0.42616922 -1.59641941 -1.76066375 -0.48706198]\n",
      " [ 0.26104462  0.24526234  0.56820306 -0.94299848]]\n"
     ]
    }
   ],
   "source": [
    "# 转换为Numpy数据类型\n",
    "# 从Numpy数组创建张量\n",
    "np_array = np.random.randn(3, 4)\n",
    "print(np_array)\n",
    "t = torch.from_numpy(np_array)\n",
    "print(t)\n",
    "# 将张量转换为Numpy数组\n",
    "# .numpy()方法可以将张量转换为Numpy数组\n",
    "np_array = t.numpy()\n",
    "print(np_array)\n"
   ]
  },
  {
   "cell_type": "markdown",
   "metadata": {},
   "source": [
    "## 张量的变形"
   ]
  },
  {
   "cell_type": "code",
   "execution_count": 25,
   "metadata": {},
   "outputs": [
    {
     "name": "stdout",
     "output_type": "stream",
     "text": [
      "tensor([[-1.6793, -0.8542,  0.7689,  0.1314],\n",
      "        [-0.0092,  1.2937,  0.2664,  0.3984],\n",
      "        [ 1.5437, -0.2328, -0.2579,  1.8050]])\n",
      "torch.Size([3, 4])\n",
      "tensor([[-1.6793, -0.8542,  0.7689],\n",
      "        [ 0.1314, -0.0092,  1.2937],\n",
      "        [ 0.2664,  0.3984,  1.5437],\n",
      "        [-0.2328, -0.2579,  1.8050]])\n",
      "torch.Size([4, 3])\n"
     ]
    }
   ],
   "source": [
    "t = torch.randn(3, 4)\n",
    "print(t)\n",
    "print(t.shape)\n",
    "# .view()方法可以改变张量的形状，但是张量的元素个数不能改变\n",
    "t1 = t.view(4, 3)\n",
    "print(t1)\n",
    "print(t1.shape)\n",
    "# .reshape()方法与.view()方法功能相同"
   ]
  },
  {
   "cell_type": "code",
   "execution_count": 26,
   "metadata": {},
   "outputs": [
    {
     "name": "stdout",
     "output_type": "stream",
     "text": [
      "tensor([[ 0.7381, -0.2125, -0.3387,  0.6400],\n",
      "        [-0.8849, -0.0879, -0.1936, -1.4546],\n",
      "        [-1.1767,  1.2316, -0.4358, -0.4991]])\n",
      "torch.Size([3, 4])\n",
      "tensor([[ 0.7381],\n",
      "        [-0.2125],\n",
      "        [-0.3387],\n",
      "        [ 0.6400],\n",
      "        [-0.8849],\n",
      "        [-0.0879],\n",
      "        [-0.1936],\n",
      "        [-1.4546],\n",
      "        [-1.1767],\n",
      "        [ 1.2316],\n",
      "        [-0.4358],\n",
      "        [-0.4991]])\n",
      "torch.Size([12, 1])\n",
      "torch.Size([12, 3, 4, 4])\n",
      "torch.Size([12, 48])\n"
     ]
    }
   ],
   "source": [
    "# 常用于展平张量\n",
    "t = torch.randn(3, 4)\n",
    "print(t)\n",
    "print(t.shape)\n",
    "# 转换为第二维度为1的张量，-1表示自动计算\n",
    "t1 = t.view(-1, 1)  #即将t展平为 24 * 1 的张量\n",
    "print(t1)\n",
    "print(t1.shape)\n",
    "# 例如\n",
    "t = torch.randn(12, 3, 4, 4)\n",
    "print(t.shape)\n",
    "# 将t展平为 12 * 48 的张量\n",
    "t1 = t.view(12, -1)\n",
    "# 也可写为\n",
    "t1 = t.view(12, 48)  # 12 * 3 * 4 * 4 = 12 * 48\n",
    "print(t1.shape)"
   ]
  },
  {
   "cell_type": "code",
   "execution_count": 27,
   "metadata": {},
   "outputs": [
    {
     "name": "stdout",
     "output_type": "stream",
     "text": [
      "tensor([[-0.3296,  0.8689,  0.1442,  0.7353],\n",
      "        [ 0.2953,  0.1210, -0.6175,  0.8944],\n",
      "        [-0.2386,  1.3840,  0.0905,  0.8804]])\n",
      "torch.Size([3, 4])\n",
      "tensor([[[-0.3296,  0.8689,  0.1442,  0.7353],\n",
      "         [ 0.2953,  0.1210, -0.6175,  0.8944],\n",
      "         [-0.2386,  1.3840,  0.0905,  0.8804]]])\n",
      "torch.Size([1, 3, 4])\n",
      "tensor([[-0.3296,  0.8689,  0.1442,  0.7353],\n",
      "        [ 0.2953,  0.1210, -0.6175,  0.8944],\n",
      "        [-0.2386,  1.3840,  0.0905,  0.8804]])\n",
      "torch.Size([3, 4])\n"
     ]
    }
   ],
   "source": [
    "# 给张量增加一个维度，例如将形状为(3, 4)的张量增加一个维度，形状变为(1, 3, 4)\n",
    "t = torch.randn(3, 4)\n",
    "print(t)\n",
    "print(t.shape)\n",
    "# .unsqueeze()方法可以增加张量为1的维度\n",
    "t1 = t.unsqueeze(0) # 在第0维度增加一个维度\n",
    "print(t1)\n",
    "print(t1.shape)\n",
    "# 也可以写为\n",
    "# t1 = t.view(1, 3, 4)\n",
    "# print(t1)\n",
    "# print(t1.shape)\n",
    "\n",
    "# 给张量减少一个维度\n",
    "# .squeeze()方法可以减少张量为1的维度\n",
    "t2 = t1.squeeze()\n",
    "print(t2)\n",
    "print(t2.shape)"
   ]
  },
  {
   "cell_type": "markdown",
   "metadata": {},
   "source": [
    "## 张量的自动微分"
   ]
  },
  {
   "cell_type": "code",
   "execution_count": 28,
   "metadata": {},
   "outputs": [
    {
     "name": "stdout",
     "output_type": "stream",
     "text": [
      "False\n",
      "True\n"
     ]
    }
   ],
   "source": [
    "t = torch.randn(3, 4)\n",
    "print(t.requires_grad) # tensor的requires_grad属性默认为False， 表示不需要Pytorch自动跟踪\n",
    "t.requires_grad = True # 设置requires_grad属性为True，Pytorch将开始跟踪对此张量的所有操作\n",
    "print(t.requires_grad) "
   ]
  },
  {
   "cell_type": "markdown",
   "metadata": {},
   "source": [
    "1. 将Torch.Tensor属性 .requires_grad 设置为True，pytorch将开始跟踪对此张量的所有操作。\n",
    "\n",
    "2. 完成计算后，可以调用 .backward() 并自动计算所有梯度。该张量的梯度将累加到.grad属性中。"
   ]
  },
  {
   "cell_type": "code",
   "execution_count": 29,
   "metadata": {},
   "outputs": [
    {
     "name": "stdout",
     "output_type": "stream",
     "text": [
      "tensor([[1., 1., 1., 1.],\n",
      "        [1., 1., 1., 1.],\n",
      "        [1., 1., 1., 1.]], requires_grad=True)\n",
      "True\n",
      "tensor([[6., 6., 6., 6.],\n",
      "        [6., 6., 6., 6.],\n",
      "        [6., 6., 6., 6.]], grad_fn=<AddBackward0>)\n",
      "<AddBackward0 object at 0x00000203244C8370>\n",
      "True\n",
      "tensor([[12., 12., 12., 12.],\n",
      "        [12., 12., 12., 12.],\n",
      "        [12., 12., 12., 12.]], grad_fn=<MulBackward0>)\n",
      "<MulBackward0 object at 0x00000203244C8370>\n",
      "True\n",
      "tensor(12., grad_fn=<MeanBackward0>)\n",
      "<MeanBackward0 object at 0x00000203244C8370>\n",
      "True\n",
      "tensor([[0.1667, 0.1667, 0.1667, 0.1667],\n",
      "        [0.1667, 0.1667, 0.1667, 0.1667],\n",
      "        [0.1667, 0.1667, 0.1667, 0.1667]])\n",
      "None\n",
      "<MeanBackward0 object at 0x00000203244C8E50>\n"
     ]
    }
   ],
   "source": [
    "t = torch.ones(3, 4, requires_grad=True) # 创建一个requires_grad属性为True的张量\n",
    "print(t)\n",
    "print(t.requires_grad)\n",
    "x = t + 5\n",
    "print(x)\n",
    "print(x.grad_fn)        # grad_fn属性表示张量的创建方式，x是通过加法操作创建的\n",
    "print(x.requires_grad)  # x会继承t的requires_grad属性\n",
    "y = x * 2\n",
    "print(y)\n",
    "print(y.grad_fn)        # y是通过乘法操作创建的\n",
    "print(y.requires_grad)  # y会继承x的requires_grad属性\n",
    "z = y.mean()            # 求y的均值, z是一个标量值，维度为0\n",
    "print(z)\n",
    "print(z.grad_fn)        # z是通过mean操作创建的\n",
    "print(z.requires_grad)  # z会继承y的requires_grad属性\n",
    "z.backward()        # 反向传播，自动微分运算，计算梯度\n",
    "print(t.grad)       # t.grad属性保存了t的梯度，dz/dt = 1/12\n",
    "print(t.grad_fn)    # t.grad_fn属性为None，因为t是用户创建的张量，不是通过操作创建的\n",
    "print(z.grad_fn)    # z.grad_fn属性为MeanBackward0，表示z是通过mean操作创建的\n"
   ]
  },
  {
   "cell_type": "markdown",
   "metadata": {},
   "source": [
    "### 张量的自动微分"
   ]
  },
  {
   "cell_type": "markdown",
   "metadata": {},
   "source": [
    "将Torch.Tensor属性 .requires_grad 设置为True，\n",
    "\n",
    "pytorch将开始跟踪对此张量的所有操作。\n",
    "\n",
    "完成计算后，可以调用 .backward() 并自动计算所有梯度。\n",
    "\n",
    "该张量的梯度将累加到.grad属性中。"
   ]
  },
  {
   "cell_type": "code",
   "execution_count": null,
   "metadata": {},
   "outputs": [],
   "source": [
    "x = torch.ones(2, 2, requires_grad=True)\n",
    "print(x)"
   ]
  },
  {
   "cell_type": "code",
   "execution_count": null,
   "metadata": {},
   "outputs": [],
   "source": [
    "x.requires_grad"
   ]
  },
  {
   "cell_type": "code",
   "execution_count": 69,
   "metadata": {},
   "outputs": [],
   "source": [
    "x.grad"
   ]
  },
  {
   "cell_type": "code",
   "execution_count": 70,
   "metadata": {},
   "outputs": [],
   "source": [
    "x.grad_fn   # 指向运算生成此张量的方法"
   ]
  },
  {
   "cell_type": "code",
   "execution_count": null,
   "metadata": {},
   "outputs": [],
   "source": [
    "# 进行张量运算\n",
    "y = x + 2\n",
    "print(y)"
   ]
  },
  {
   "cell_type": "code",
   "execution_count": null,
   "metadata": {},
   "outputs": [],
   "source": [
    "# y是由于运算而创建的，因此具有grad_fn属性\n",
    "\n",
    "print(y.grad_fn)"
   ]
  },
  {
   "cell_type": "code",
   "execution_count": null,
   "metadata": {},
   "outputs": [],
   "source": [
    "# 进行更多操作\n",
    "\n",
    "z = y * 2\n",
    "out = z.mean()\n",
    "\n",
    "print(z, out)"
   ]
  },
  {
   "cell_type": "markdown",
   "metadata": {},
   "source": [
    "### 计算梯度"
   ]
  },
  {
   "cell_type": "code",
   "execution_count": null,
   "metadata": {},
   "outputs": [],
   "source": [
    "out.backward()    # 自动微分运算, 注意 out 是标量值"
   ]
  },
  {
   "cell_type": "markdown",
   "metadata": {},
   "source": [
    "打印梯度  d（out）/ dx   \n",
    "\n",
    "out = f(x)"
   ]
  },
  {
   "cell_type": "code",
   "execution_count": null,
   "metadata": {},
   "outputs": [],
   "source": [
    "print(x.grad)"
   ]
  },
  {
   "cell_type": "code",
   "execution_count": null,
   "metadata": {},
   "outputs": [],
   "source": [
    "x.data"
   ]
  },
  {
   "cell_type": "code",
   "execution_count": 77,
   "metadata": {},
   "outputs": [],
   "source": [
    "x.grad_fn"
   ]
  },
  {
   "cell_type": "markdown",
   "metadata": {},
   "source": [
    "当张量的 requires_grad 属性为 True 时， \n",
    "\n",
    "pytorch会一直跟踪记录此张量的运算\n",
    "\n",
    "当不需要跟踪计算时，可以通过将代码块包装在  with torch.no_grad(): 上下文中"
   ]
  },
  {
   "cell_type": "code",
   "execution_count": null,
   "metadata": {},
   "outputs": [],
   "source": [
    "print(x.requires_grad)\n",
    "print((x ** 2).requires_grad)\n",
    "\n",
    "with torch.no_grad():\n",
    "    print((x ** 2).requires_grad)"
   ]
  },
  {
   "cell_type": "markdown",
   "metadata": {},
   "source": [
    "也可使用 .detach() 来获得具有相同内容但不需要跟踪运算的新Tensor ："
   ]
  },
  {
   "cell_type": "code",
   "execution_count": null,
   "metadata": {},
   "outputs": [],
   "source": [
    "print(x.requires_grad)\n",
    "y = x.detach()\n",
    "print(y.requires_grad)"
   ]
  },
  {
   "cell_type": "code",
   "execution_count": null,
   "metadata": {},
   "outputs": [],
   "source": [
    "x.data"
   ]
  },
  {
   "cell_type": "code",
   "execution_count": null,
   "metadata": {},
   "outputs": [],
   "source": [
    "x.detach()"
   ]
  },
  {
   "cell_type": "markdown",
   "metadata": {},
   "source": [
    "使用 requires_grad_ 就地改变张量此属性"
   ]
  },
  {
   "cell_type": "code",
   "execution_count": null,
   "metadata": {},
   "outputs": [],
   "source": [
    "a = torch.randn(2, 2)\n",
    "a = a*3 + 2\n",
    "print(a.requires_grad)"
   ]
  },
  {
   "cell_type": "code",
   "execution_count": null,
   "metadata": {},
   "outputs": [],
   "source": [
    "a.requires_grad_(True)\n",
    "print(a.requires_grad)"
   ]
  },
  {
   "cell_type": "markdown",
   "metadata": {},
   "source": [
    "总结 pytorch 张量的数据结构形式"
   ]
  },
  {
   "cell_type": "code",
   "execution_count": null,
   "metadata": {},
   "outputs": [],
   "source": []
  }
 ],
 "metadata": {
  "kernelspec": {
   "display_name": "pytorch2.2.2",
   "language": "python",
   "name": "python3"
  },
  "language_info": {
   "codemirror_mode": {
    "name": "ipython",
    "version": 3
   },
   "file_extension": ".py",
   "mimetype": "text/x-python",
   "name": "python",
   "nbconvert_exporter": "python",
   "pygments_lexer": "ipython3",
   "version": "3.9.21"
  }
 },
 "nbformat": 4,
 "nbformat_minor": 4
}
