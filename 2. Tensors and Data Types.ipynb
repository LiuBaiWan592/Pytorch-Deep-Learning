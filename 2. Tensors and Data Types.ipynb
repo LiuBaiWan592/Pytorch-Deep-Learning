{
 "cells": [
  {
   "cell_type": "markdown",
   "metadata": {},
   "source": [
    "# 张量和数据类型"
   ]
  },
  {
   "cell_type": "code",
   "execution_count": 2,
   "metadata": {},
   "outputs": [],
   "source": [
    "import torch\n",
    "import numpy as np"
   ]
  },
  {
   "cell_type": "markdown",
   "metadata": {},
   "source": [
    "## 初始化张量"
   ]
  },
  {
   "cell_type": "markdown",
   "metadata": {},
   "source": [
    "### 从Python列表初始化张量"
   ]
  },
  {
   "cell_type": "code",
   "execution_count": 3,
   "metadata": {},
   "outputs": [
    {
     "name": "stdout",
     "output_type": "stream",
     "text": [
      "tensor([1, 2, 3])\n",
      "torch.int64\n"
     ]
    }
   ],
   "source": [
    "t = torch.tensor([1, 2, 3])\n",
    "print(t)\n",
    "print(t.dtype)"
   ]
  },
  {
   "cell_type": "code",
   "execution_count": 4,
   "metadata": {},
   "outputs": [
    {
     "name": "stdout",
     "output_type": "stream",
     "text": [
      "tensor([1., 2., 3.])\n",
      "torch.float32\n"
     ]
    }
   ],
   "source": [
    "t = torch.tensor([1., 2., 3.])\n",
    "print(t)\n",
    "print(t.dtype)"
   ]
  },
  {
   "cell_type": "code",
   "execution_count": 5,
   "metadata": {},
   "outputs": [
    {
     "name": "stdout",
     "output_type": "stream",
     "text": [
      "tensor([1., 2., 3.])\n",
      "torch.float32\n"
     ]
    }
   ],
   "source": [
    "t = torch.FloatTensor([1, 2, 3])\n",
    "print(t)\n",
    "print(t.dtype)"
   ]
  },
  {
   "cell_type": "code",
   "execution_count": 6,
   "metadata": {},
   "outputs": [
    {
     "name": "stdout",
     "output_type": "stream",
     "text": [
      "tensor([1, 2, 3])\n",
      "torch.int64\n"
     ]
    }
   ],
   "source": [
    "t = torch.LongTensor([1, 2, 3])\n",
    "print(t)\n",
    "print(t.dtype)"
   ]
  },
  {
   "cell_type": "markdown",
   "metadata": {},
   "source": [
    "### 从numpy的ndarray初始化"
   ]
  },
  {
   "cell_type": "code",
   "execution_count": 7,
   "metadata": {},
   "outputs": [
    {
     "data": {
      "text/plain": [
       "array([[ 0,  1,  2,  3],\n",
       "       [ 4,  5,  6,  7],\n",
       "       [ 8,  9, 10, 11]])"
      ]
     },
     "execution_count": 7,
     "metadata": {},
     "output_type": "execute_result"
    }
   ],
   "source": [
    "np_array = np.arange(12).reshape(3, 4)\n",
    "np_array"
   ]
  },
  {
   "cell_type": "code",
   "execution_count": 8,
   "metadata": {},
   "outputs": [
    {
     "name": "stdout",
     "output_type": "stream",
     "text": [
      "tensor([[ 0,  1,  2,  3],\n",
      "        [ 4,  5,  6,  7],\n",
      "        [ 8,  9, 10, 11]], dtype=torch.int32)\n",
      "torch.int32\n"
     ]
    }
   ],
   "source": [
    "t = torch.from_numpy(np_array)\n",
    "# 也可以使用下面的方式\n",
    "# t = torch.tensor(np_array)\n",
    "print(t)\n",
    "print(t.dtype)"
   ]
  },
  {
   "cell_type": "markdown",
   "metadata": {},
   "source": [
    "## 张量（Tensor）基本数据类型"
   ]
  },
  {
   "cell_type": "markdown",
   "metadata": {},
   "source": [
    "* 32位浮点型：torch.float32 / torch.float\n",
    "* 64位浮点型：torch.float64\n",
    "* 64位整型： torch.int64 / torch.long\n",
    "* 32位整型： torch.int32\n",
    "* 16位整型： torch.int16"
   ]
  },
  {
   "cell_type": "code",
   "execution_count": 9,
   "metadata": {},
   "outputs": [
    {
     "name": "stdout",
     "output_type": "stream",
     "text": [
      "tensor([1., 2., 3.])\n",
      "torch.float32\n"
     ]
    }
   ],
   "source": [
    "t = torch.tensor([1, 2, 3], dtype=torch.float32)\n",
    "print(t)\n",
    "print(t.dtype)"
   ]
  },
  {
   "cell_type": "code",
   "execution_count": 10,
   "metadata": {},
   "outputs": [
    {
     "name": "stdout",
     "output_type": "stream",
     "text": [
      "tensor([1., 2., 3.])\n",
      "torch.float32\n"
     ]
    }
   ],
   "source": [
    "t = torch.tensor([1, 2, 3], dtype=torch.float)\n",
    "print(t)\n",
    "print(t.dtype)"
   ]
  },
  {
   "cell_type": "code",
   "execution_count": 11,
   "metadata": {},
   "outputs": [
    {
     "name": "stdout",
     "output_type": "stream",
     "text": [
      "tensor([1, 2, 3])\n",
      "torch.int64\n"
     ]
    }
   ],
   "source": [
    "t = torch.tensor([1, 2, 3], dtype=torch.long)\n",
    "print(t)\n",
    "print(t.dtype)"
   ]
  },
  {
   "cell_type": "markdown",
   "metadata": {},
   "source": [
    "## 创建随机值张量"
   ]
  },
  {
   "cell_type": "code",
   "execution_count": 12,
   "metadata": {},
   "outputs": [
    {
     "name": "stdout",
     "output_type": "stream",
     "text": [
      "tensor([[3.3105e-01, 5.7900e-01, 6.5820e-01, 5.4869e-01],\n",
      "        [8.3923e-04, 8.7101e-01, 7.1390e-01, 9.6161e-01],\n",
      "        [8.8032e-01, 4.8163e-02, 1.0496e-01, 8.4463e-01]])\n",
      "torch.float32\n",
      "torch.Size([3, 4])\n"
     ]
    }
   ],
   "source": [
    "# 创建（0，1）之间均匀分布的随机数\n",
    "t = torch.rand(3, 4)\n",
    "print(t)\n",
    "print(t.dtype)\n",
    "print(t.shape)"
   ]
  },
  {
   "cell_type": "code",
   "execution_count": 13,
   "metadata": {},
   "outputs": [
    {
     "name": "stdout",
     "output_type": "stream",
     "text": [
      "tensor([[-0.7259, -0.1204, -1.7273, -0.3712],\n",
      "        [-0.5533, -0.0228,  1.0727, -1.1299],\n",
      "        [ 0.8597, -1.6165, -0.6357,  0.6271]])\n",
      "torch.float32\n",
      "torch.Size([3, 4])\n"
     ]
    }
   ],
   "source": [
    "# 创建标准正态分布的随机数\n",
    "t = torch.randn(3, 4)\n",
    "print(t)\n",
    "print(t.dtype)\n",
    "print(t.shape)"
   ]
  },
  {
   "cell_type": "code",
   "execution_count": 14,
   "metadata": {},
   "outputs": [
    {
     "name": "stdout",
     "output_type": "stream",
     "text": [
      "tensor([[0., 0., 0., 0.],\n",
      "        [0., 0., 0., 0.],\n",
      "        [0., 0., 0., 0.]])\n",
      "torch.float32\n",
      "torch.Size([3, 4])\n"
     ]
    }
   ],
   "source": [
    "# 创建全0的张量\n",
    "t = torch.zeros(3, 4)\n",
    "print(t)\n",
    "print(t.dtype)\n",
    "print(t.shape)"
   ]
  },
  {
   "cell_type": "code",
   "execution_count": 15,
   "metadata": {},
   "outputs": [
    {
     "name": "stdout",
     "output_type": "stream",
     "text": [
      "tensor([[1., 1., 1., 1.],\n",
      "        [1., 1., 1., 1.],\n",
      "        [1., 1., 1., 1.]])\n",
      "torch.float32\n",
      "torch.Size([3, 4])\n"
     ]
    }
   ],
   "source": [
    "# 创建全1的张量\n",
    "t = torch.ones(3, 4)\n",
    "print(t)\n",
    "print(t.dtype)\n",
    "print(t.shape)"
   ]
  },
  {
   "cell_type": "code",
   "execution_count": 16,
   "metadata": {},
   "outputs": [
    {
     "name": "stdout",
     "output_type": "stream",
     "text": [
      "tensor([[-0.4475, -0.2987, -1.1818, -0.8400],\n",
      "        [ 1.9000, -0.4951,  0.7524, -0.7127],\n",
      "        [ 1.7838, -0.8828,  0.4194, -0.6119]])\n",
      "torch.float32\n",
      "torch.Size([3, 4])\n"
     ]
    }
   ],
   "source": [
    "# 创建一个与t形状相同的张量，但是值是正态分布的随机数\n",
    "t = torch.randn_like(t)\n",
    "print(t)\n",
    "print(t.dtype)\n",
    "print(t.shape)"
   ]
  },
  {
   "cell_type": "markdown",
   "metadata": {},
   "source": [
    "## 张量的属性"
   ]
  },
  {
   "cell_type": "code",
   "execution_count": 17,
   "metadata": {},
   "outputs": [
    {
     "name": "stdout",
     "output_type": "stream",
     "text": [
      "tensor([[0.7601, 0.8023, 0.8020, 0.1646],\n",
      "        [0.8516, 0.5505, 0.6478, 0.9243],\n",
      "        [0.7059, 0.2616, 0.3295, 0.9709]])\n",
      "torch.float32\n",
      "torch.Size([3, 4])\n",
      "size = torch.Size([3, 4])\n",
      "dim = 2\n",
      "size(0) = 3\n",
      "size(1) = 4\n",
      "numel= 12\n"
     ]
    }
   ],
   "source": [
    "# 创建一个与t形状相同的张量，但是值是在（0，1）均匀分布的随机数\n",
    "t = torch.rand_like(t)\n",
    "print(t)\n",
    "# 返回张量的数据类型\n",
    "print(t.dtype)\n",
    "# 返回张量的形状\n",
    "print(t.shape)\n",
    "print(\"size = \" + str(t.size()))\n",
    "# 返回张量的维度\n",
    "print(\"dim = \" + str(t.dim()))\n",
    "# 返回张量第一个维度的长度\n",
    "print(\"size(0) = \" + str(t.size(0)))\n",
    "# 返回张量第二个维度的长度\n",
    "print(\"size(1) = \" + str(t.size(1)))\n",
    "# 返回张量的元素个数\n",
    "print(\"numel= \" + str(t.numel()))\n"
   ]
  },
  {
   "cell_type": "markdown",
   "metadata": {},
   "source": [
    "## 张量存储设备及其转移"
   ]
  },
  {
   "cell_type": "code",
   "execution_count": 18,
   "metadata": {},
   "outputs": [
    {
     "name": "stdout",
     "output_type": "stream",
     "text": [
      "device = cpu\n",
      "torch.cuda.is_available() = True\n",
      "device = cuda:0\n"
     ]
    }
   ],
   "source": [
    "# 返回张量的存储设备\n",
    "print(\"device = \" + str(t.device))\n",
    "print(\"torch.cuda.is_available() = \" + str(torch.cuda.is_available()))\n",
    "# 将张量转移到GPU\n",
    "if torch.cuda.is_available():\n",
    "    t = t.to('cuda')\n",
    "    print(\"device = \" + str(t.device))"
   ]
  },
  {
   "cell_type": "code",
   "execution_count": 19,
   "metadata": {},
   "outputs": [
    {
     "name": "stdout",
     "output_type": "stream",
     "text": [
      "device = cpu\n"
     ]
    }
   ],
   "source": [
    "# 将张量转移到CPU\n",
    "t = t.to('cpu')\n",
    "print(\"device = \" + str(t.device))"
   ]
  },
  {
   "cell_type": "markdown",
   "metadata": {},
   "source": [
    "## 张量数据类型的转换"
   ]
  },
  {
   "cell_type": "code",
   "execution_count": 20,
   "metadata": {},
   "outputs": [
    {
     "name": "stdout",
     "output_type": "stream",
     "text": [
      "tensor([1., 2., 3.])\n",
      "torch.float32\n",
      "----------------\n",
      "tensor([1., 2., 3.], dtype=torch.float64)\n",
      "torch.float64\n",
      "----------------\n",
      "tensor([1, 2, 3])\n",
      "torch.int64\n"
     ]
    }
   ],
   "source": [
    "# 对张量进行数据类型转换\n",
    "t = torch.tensor([1, 2, 3], dtype=torch.float32)\n",
    "print(t)\n",
    "print(t.dtype)\n",
    "print(\"----------------\")\n",
    "t = t.type(torch.float64)\n",
    "print(t)\n",
    "print(t.dtype)\n",
    "print(\"----------------\")\n",
    "t = t.type(torch.int64)\n",
    "print(t)\n",
    "print(t.dtype)\n"
   ]
  },
  {
   "cell_type": "code",
   "execution_count": 21,
   "metadata": {},
   "outputs": [
    {
     "name": "stdout",
     "output_type": "stream",
     "text": [
      "tensor([[ 0.3276, -0.7074, -0.9388,  1.3879],\n",
      "        [ 0.8291,  1.0274,  1.9375,  0.5639],\n",
      "        [ 0.4855, -0.9693, -1.3564,  0.2914]])\n",
      "torch.float32\n",
      "----------------\n",
      "tensor([[ 0,  0,  0,  1],\n",
      "        [ 0,  1,  1,  0],\n",
      "        [ 0,  0, -1,  0]])\n",
      "torch.int64\n",
      "----------------\n",
      "tensor([[ 0.,  0.,  0.,  1.],\n",
      "        [ 0.,  1.,  1.,  0.],\n",
      "        [ 0.,  0., -1.,  0.]])\n",
      "torch.float32\n",
      "----------------\n"
     ]
    }
   ],
   "source": [
    "t = torch.randn(3, 4)\n",
    "print(t)\n",
    "print(t.dtype)\n",
    "print(\"----------------\")\n",
    "# .long()方法可以将张量转换为64位整型，即int64，与t.type(torch.int64)等价\n",
    "t = t.long()\n",
    "print(t)\n",
    "print(t.dtype)\n",
    "print(\"----------------\")\n",
    "# .int()方法可以将张量转换为32位整型\n",
    "# .short()方法可以将张量转换为16位整型\n",
    "# .char()方法可以将张量转换为8位整型\n",
    "# .byte()方法可以将张量转换为8位无符号整型\n",
    "\n",
    "# .double()方法可以将张量转换为64位浮点型\n",
    "# .float()方法可以将张量转换为32位浮点型\n",
    "t = t.float()\n",
    "print(t)\n",
    "print(t.dtype)\n",
    "print(\"----------------\")\n",
    "# .half()方法可以将张量转换为16位浮点型\n",
    "\n",
    "# .bool()方法可以将张量转换为布尔型"
   ]
  },
  {
   "cell_type": "markdown",
   "metadata": {},
   "source": [
    "## 张量运算"
   ]
  },
  {
   "cell_type": "code",
   "execution_count": 22,
   "metadata": {},
   "outputs": [
    {
     "name": "stdout",
     "output_type": "stream",
     "text": [
      "tensor([[ 0.6854,  1.2489,  2.0136,  1.3021],\n",
      "        [ 0.0060, -0.0854,  0.3379, -0.5216],\n",
      "        [ 0.5676, -0.0357,  0.9664, -1.6810]])\n",
      "tensor([[3.6854, 4.2489, 5.0136, 4.3021],\n",
      "        [3.0060, 2.9146, 3.3379, 2.4784],\n",
      "        [3.5676, 2.9643, 3.9664, 1.3190]])\n",
      "----------------\n",
      "tensor([[ 1.3979e+00,  4.0749e-01, -5.2264e-01,  1.4389e+00],\n",
      "        [-6.2534e-01, -1.3638e+00, -4.0378e-01, -1.2230e-03],\n",
      "        [-4.9570e-01, -1.1387e+00, -8.1026e-01, -8.6842e-01]])\n",
      "tensor([[ 2.0833,  1.6564,  1.4910,  2.7409],\n",
      "        [-0.6193, -1.4492, -0.0659, -0.5228],\n",
      "        [ 0.0719, -1.1744,  0.1561, -2.5494]])\n",
      "----------------\n",
      "tensor([[ 0.6854,  1.2489,  2.0136,  1.3021],\n",
      "        [ 0.0060, -0.0854,  0.3379, -0.5216],\n",
      "        [ 0.5676, -0.0357,  0.9664, -1.6810]])\n",
      "tensor([[ 2.0833,  1.6564,  1.4910,  2.7409],\n",
      "        [-0.6193, -1.4492, -0.0659, -0.5228],\n",
      "        [ 0.0719, -1.1744,  0.1561, -2.5494]])\n",
      "tensor([[ 2.0833,  1.6564,  1.4910,  2.7409],\n",
      "        [-0.6193, -1.4492, -0.0659, -0.5228],\n",
      "        [ 0.0719, -1.1744,  0.1561, -2.5494]])\n",
      "----------------\n"
     ]
    }
   ],
   "source": [
    "# 加法：广播原则\n",
    "t1 = torch.randn(3, 4)\n",
    "print(t1)\n",
    "# 数值与t1相加，每个元素加3\n",
    "print(t1 + 3)\n",
    "print(\"----------------\")\n",
    "# 与相同形状的张量相加,对应元素相加；与不同形状的张量相加，会报错\n",
    "t2 = torch.randn(3, 4)\n",
    "print(t2)\n",
    "# print(t1 + t2)\n",
    "# print(torch.add(t1, t2))\n",
    "#等同于\n",
    "print(t1.add(t2))   # t1的值不变\n",
    "print(\"----------------\")\n",
    "print(t1)\n",
    "print(t1.add_(t2))      # t1 = t1 + t2\n",
    "# t1的值改变\n",
    "print(t1)\n",
    "print(\"----------------\")\n",
    "# 方法后面带下划线的方法会改变调用者的值\n",
    "# 类似的方法还有sub（减法）、mul（乘法）、div（除法）、pow（幂运算）、sqrt（开方）\n",
    "# log（对数运算）、exp（指数运算）、abs（绝对值）、neg（取负数）、reciprocal（取倒数）\n",
    "# mean（求均值）、std（求标准差）、var（求方差）、norm（求范数）\n",
    "# max（求最大值）、min（求最小值）、argmax（求最大值索引）、argmin（求最小值索引）\n",
    "# sum（求和）、prod（求积）、cumsum（求累加和）、cumprod（求累乘积）\n",
    "# round（四舍五入）、floor（向下取整）、ceil（向上取整）、trunc（取整数部分）、frac（取小数部分）等"
   ]
  },
  {
   "cell_type": "code",
   "execution_count": 23,
   "metadata": {},
   "outputs": [
    {
     "name": "stdout",
     "output_type": "stream",
     "text": [
      "tensor([[-0.7738,  0.0293,  2.3433,  0.7309],\n",
      "        [-0.9859, -0.5392,  0.9034,  1.0816],\n",
      "        [ 0.6468, -0.3874,  0.6935, -1.3035]])\n",
      "tensor([[-0.7738, -0.9859,  0.6468],\n",
      "        [ 0.0293, -0.5392, -0.3874],\n",
      "        [ 2.3433,  0.9034,  0.6935],\n",
      "        [ 0.7309,  1.0816, -1.3035]])\n",
      "tensor([[ 6.6251,  3.6547,  0.1606],\n",
      "        [ 3.6547,  3.2487, -1.2121],\n",
      "        [ 0.1606, -1.2121,  2.7486]])\n"
     ]
    }
   ],
   "source": [
    "# matmul（矩阵乘法）、@（矩阵乘法）、T（转置）、transpose（转置）、permute（维度交换）、reshape（形状变换）、view（形状变换）\n",
    "t1 = torch.randn(3, 4)\n",
    "print(t1)\n",
    "print(t1.T)\n",
    "print(t1.matmul(t1.T))"
   ]
  },
  {
   "cell_type": "markdown",
   "metadata": {},
   "source": [
    "## 从张量转换为python和numpy的数据类型"
   ]
  },
  {
   "cell_type": "code",
   "execution_count": 24,
   "metadata": {},
   "outputs": [
    {
     "name": "stdout",
     "output_type": "stream",
     "text": [
      "tensor(2.4390)\n",
      "2.4389853477478027\n",
      "[[-0.7738298177719116, 0.029250146821141243, 2.34333872795105, 0.730888843536377], [-0.9859098792076111, -0.5391919016838074, 0.9034125208854675, 1.0815544128417969], [0.6468090415000916, -0.38736653327941895, 0.6935497522354126, -1.30351984500885]]\n",
      "tensor(0.2032)\n",
      "0.2032487839460373\n"
     ]
    }
   ],
   "source": [
    "# 转换为Python数据类型\n",
    "t2 = t1.sum()\n",
    "print(t2)\n",
    "print(t2.item())        # 将张量的值转换为Python数值\n",
    "print(t1.tolist())      # 将张量的值转换为Python列表\n",
    "result = t1.mean()      # 求均值\n",
    "print(result)           # 返回一个张量\n",
    "print(result.item())    # 返回一个Python数值"
   ]
  },
  {
   "cell_type": "code",
   "execution_count": 25,
   "metadata": {},
   "outputs": [
    {
     "name": "stdout",
     "output_type": "stream",
     "text": [
      "[[ 1.18423523  0.2040645   0.71792539 -0.87057302]\n",
      " [ 0.60033821 -0.21742214 -0.95880386  0.57666865]\n",
      " [-0.17555106  0.67286956  0.0283364   0.10643364]]\n",
      "tensor([[ 1.1842,  0.2041,  0.7179, -0.8706],\n",
      "        [ 0.6003, -0.2174, -0.9588,  0.5767],\n",
      "        [-0.1756,  0.6729,  0.0283,  0.1064]], dtype=torch.float64)\n",
      "[[ 1.18423523  0.2040645   0.71792539 -0.87057302]\n",
      " [ 0.60033821 -0.21742214 -0.95880386  0.57666865]\n",
      " [-0.17555106  0.67286956  0.0283364   0.10643364]]\n"
     ]
    }
   ],
   "source": [
    "# 转换为Numpy数据类型\n",
    "# 从Numpy数组创建张量\n",
    "np_array = np.random.randn(3, 4)\n",
    "print(np_array)\n",
    "t = torch.from_numpy(np_array)\n",
    "print(t)\n",
    "# 将张量转换为Numpy数组\n",
    "# .numpy()方法可以将张量转换为Numpy数组\n",
    "np_array = t.numpy()\n",
    "print(np_array)\n"
   ]
  },
  {
   "cell_type": "markdown",
   "metadata": {},
   "source": [
    "## 张量的变形"
   ]
  },
  {
   "cell_type": "code",
   "execution_count": 26,
   "metadata": {},
   "outputs": [
    {
     "name": "stdout",
     "output_type": "stream",
     "text": [
      "tensor([[-0.7868,  3.2331,  0.7091, -1.0217],\n",
      "        [ 0.6799,  0.6114, -0.9859, -0.2480],\n",
      "        [ 0.0792,  1.5393,  0.9303, -0.1081]])\n",
      "torch.Size([3, 4])\n",
      "tensor([[-0.7868,  3.2331,  0.7091],\n",
      "        [-1.0217,  0.6799,  0.6114],\n",
      "        [-0.9859, -0.2480,  0.0792],\n",
      "        [ 1.5393,  0.9303, -0.1081]])\n",
      "torch.Size([4, 3])\n"
     ]
    }
   ],
   "source": [
    "t = torch.randn(3, 4)\n",
    "print(t)\n",
    "print(t.shape)\n",
    "# .view()方法可以改变张量的形状，但是张量的元素个数不能改变\n",
    "t1 = t.view(4, 3)\n",
    "print(t1)\n",
    "print(t1.shape)\n",
    "# .reshape()方法与.view()方法功能相同"
   ]
  },
  {
   "cell_type": "code",
   "execution_count": 27,
   "metadata": {},
   "outputs": [
    {
     "name": "stdout",
     "output_type": "stream",
     "text": [
      "tensor([[-0.5386,  0.9959, -0.3789,  1.1488],\n",
      "        [-0.8533, -1.4846, -0.7018,  0.7646],\n",
      "        [-0.6415,  0.3162,  0.2997, -0.8204]])\n",
      "torch.Size([3, 4])\n",
      "tensor([[-0.5386],\n",
      "        [ 0.9959],\n",
      "        [-0.3789],\n",
      "        [ 1.1488],\n",
      "        [-0.8533],\n",
      "        [-1.4846],\n",
      "        [-0.7018],\n",
      "        [ 0.7646],\n",
      "        [-0.6415],\n",
      "        [ 0.3162],\n",
      "        [ 0.2997],\n",
      "        [-0.8204]])\n",
      "torch.Size([12, 1])\n",
      "torch.Size([12, 3, 4, 4])\n",
      "torch.Size([12, 48])\n"
     ]
    }
   ],
   "source": [
    "# 常用于展平张量\n",
    "t = torch.randn(3, 4)\n",
    "print(t)\n",
    "print(t.shape)\n",
    "# 转换为第二维度为1的张量，-1表示自动计算\n",
    "t1 = t.view(-1, 1)  #即将t展平为 24 * 1 的张量\n",
    "print(t1)\n",
    "print(t1.shape)\n",
    "# 例如\n",
    "t = torch.randn(12, 3, 4, 4)\n",
    "print(t.shape)\n",
    "# 将t展平为 12 * 48 的张量\n",
    "t1 = t.view(12, -1)\n",
    "# 也可写为\n",
    "t1 = t.view(12, 48)  # 12 * 3 * 4 * 4 = 12 * 48\n",
    "print(t1.shape)"
   ]
  },
  {
   "cell_type": "code",
   "execution_count": 28,
   "metadata": {},
   "outputs": [
    {
     "name": "stdout",
     "output_type": "stream",
     "text": [
      "tensor([[ 0.3957,  0.8839, -0.1224,  0.6148],\n",
      "        [-1.4185, -1.4787,  1.1800,  2.1371],\n",
      "        [ 0.9390,  0.1178, -0.5285, -0.8593]])\n",
      "torch.Size([3, 4])\n",
      "tensor([[[ 0.3957,  0.8839, -0.1224,  0.6148],\n",
      "         [-1.4185, -1.4787,  1.1800,  2.1371],\n",
      "         [ 0.9390,  0.1178, -0.5285, -0.8593]]])\n",
      "torch.Size([1, 3, 4])\n",
      "tensor([[ 0.3957,  0.8839, -0.1224,  0.6148],\n",
      "        [-1.4185, -1.4787,  1.1800,  2.1371],\n",
      "        [ 0.9390,  0.1178, -0.5285, -0.8593]])\n",
      "torch.Size([3, 4])\n"
     ]
    }
   ],
   "source": [
    "# 给张量增加一个维度，例如将形状为(3, 4)的张量增加一个维度，形状变为(1, 3, 4)\n",
    "t = torch.randn(3, 4)\n",
    "print(t)\n",
    "print(t.shape)\n",
    "# .unsqueeze()方法可以增加张量为1的维度\n",
    "t1 = t.unsqueeze(0) # 在第0维度增加一个维度\n",
    "print(t1)\n",
    "print(t1.shape)\n",
    "# 也可以写为\n",
    "# t1 = t.view(1, 3, 4)\n",
    "# print(t1)\n",
    "# print(t1.shape)\n",
    "\n",
    "# 给张量减少一个维度\n",
    "# .squeeze()方法可以减少张量为1的维度\n",
    "t2 = t1.squeeze()\n",
    "print(t2)\n",
    "print(t2.shape)"
   ]
  },
  {
   "cell_type": "markdown",
   "metadata": {},
   "source": [
    "## 张量的自动微分"
   ]
  },
  {
   "cell_type": "code",
   "execution_count": 29,
   "metadata": {},
   "outputs": [
    {
     "name": "stdout",
     "output_type": "stream",
     "text": [
      "False\n",
      "True\n"
     ]
    }
   ],
   "source": [
    "t = torch.randn(3, 4)\n",
    "print(t.requires_grad) # tensor的requires_grad属性默认为False， 表示不需要Pytorch自动跟踪\n",
    "t.requires_grad = True # 设置requires_grad属性为True，Pytorch将开始跟踪对此张量的所有操作\n",
    "print(t.requires_grad) "
   ]
  },
  {
   "cell_type": "markdown",
   "metadata": {},
   "source": [
    "1. 将`Torch.Tensor`属性`.requires_grad`设置为`True`，Pytorch将开始跟踪对此张量的所有操作。\n",
    "\n",
    "2. 完成计算后，可以调用`.backward()`并自动计算所有梯度，该张量的梯度将累加到`.grad`属性中。"
   ]
  },
  {
   "cell_type": "code",
   "execution_count": 30,
   "metadata": {},
   "outputs": [
    {
     "name": "stdout",
     "output_type": "stream",
     "text": [
      "tensor([[1., 1., 1., 1.],\n",
      "        [1., 1., 1., 1.],\n",
      "        [1., 1., 1., 1.]], requires_grad=True)\n",
      "True\n",
      "tensor([[6., 6., 6., 6.],\n",
      "        [6., 6., 6., 6.],\n",
      "        [6., 6., 6., 6.]], grad_fn=<AddBackward0>)\n",
      "<AddBackward0 object at 0x000001840815EBE0>\n",
      "True\n",
      "tensor([[12., 12., 12., 12.],\n",
      "        [12., 12., 12., 12.],\n",
      "        [12., 12., 12., 12.]], grad_fn=<MulBackward0>)\n",
      "<MulBackward0 object at 0x000001840815EBE0>\n",
      "True\n",
      "tensor(12., grad_fn=<MeanBackward0>)\n",
      "<MeanBackward0 object at 0x000001840815EBE0>\n",
      "True\n",
      "tensor([[0.1667, 0.1667, 0.1667, 0.1667],\n",
      "        [0.1667, 0.1667, 0.1667, 0.1667],\n",
      "        [0.1667, 0.1667, 0.1667, 0.1667]])\n",
      "None\n",
      "<MeanBackward0 object at 0x0000018465591C70>\n"
     ]
    }
   ],
   "source": [
    "t = torch.ones(3, 4, requires_grad=True) # 创建一个requires_grad属性为True的张量\n",
    "print(t)\n",
    "print(t.requires_grad)\n",
    "x = t + 5\n",
    "print(x)\n",
    "print(x.grad_fn)        # grad_fn属性表示张量的创建方式，x是通过加法操作创建的\n",
    "print(x.requires_grad)  # x会继承t的requires_grad属性\n",
    "y = x * 2\n",
    "print(y)\n",
    "print(y.grad_fn)        # y是通过乘法操作创建的\n",
    "print(y.requires_grad)  # y会继承x的requires_grad属性\n",
    "z = y.mean()            # 求y的均值, z是一个标量值，维度为0\n",
    "print(z)\n",
    "print(z.grad_fn)        # z是通过mean操作创建的\n",
    "print(z.requires_grad)  # z会继承y的requires_grad属性\n",
    "z.backward()        # 反向传播，自动微分运算，计算梯度\n",
    "print(t.grad)       # t.grad属性保存了t的梯度，dz/dt = 1/12\n",
    "print(t.grad_fn)    # t.grad_fn属性为None，因为t是用户创建的张量，不是通过操作创建的\n",
    "print(z.grad_fn)    # z.grad_fn属性为MeanBackward0，表示z是通过mean操作创建的\n"
   ]
  },
  {
   "cell_type": "markdown",
   "metadata": {},
   "source": [
    "### 处理不需要跟踪计算的操作"
   ]
  },
  {
   "cell_type": "markdown",
   "metadata": {},
   "source": [
    "* 当张量的`requires_grad`属性为`True`时，Pytorch会一直跟踪记录此张量的运算\n",
    "* 当不需要跟踪计算时，可以通过将代码块包装在`with torch.no_grad():`上下文中"
   ]
  },
  {
   "cell_type": "code",
   "execution_count": 69,
   "metadata": {},
   "outputs": [
    {
     "name": "stdout",
     "output_type": "stream",
     "text": [
      "False\n",
      "True\n",
      "False\n",
      "False\n"
     ]
    }
   ],
   "source": [
    "t = torch.ones(3, 4, requires_grad=True)\n",
    "# 使用torch.no_grad()上下文管理器，可以临时关闭自动微分\n",
    "with torch.no_grad():\n",
    "    x = t + 5\n",
    "    print(x.requires_grad)  # x则不会继承t的requires_grad属性\n",
    "y = t * 2\n",
    "print(y.requires_grad)  # y会继承t的requires_grad属性\n",
    "\n",
    "# 或者设置requires_grad属性为False，直接关闭自动微分\n",
    "t.requires_grad_(False) # 设置t的requires_grad属性为False\n",
    "z = t.mean()\n",
    "print(z.requires_grad)  # y的requires_grad属性为False\n",
    "\n",
    "# 使用detach()方法，可以将张量从计算图中分离，不再跟踪\n",
    "t = torch.ones(3, 4, requires_grad=True)\n",
    "x = t.detach()\n",
    "print(x.requires_grad)  # x的requires_grad属性为False"
   ]
  },
  {
   "cell_type": "markdown",
   "metadata": {},
   "source": [
    "### 张量的自动微分"
   ]
  },
  {
   "cell_type": "markdown",
   "metadata": {},
   "source": [
    "将Torch.Tensor属性 .requires_grad 设置为True，\n",
    "\n",
    "pytorch将开始跟踪对此张量的所有操作。\n",
    "\n",
    "完成计算后，可以调用 .backward() 并自动计算所有梯度。\n",
    "\n",
    "该张量的梯度将累加到.grad属性中。"
   ]
  },
  {
   "cell_type": "code",
   "execution_count": 34,
   "metadata": {},
   "outputs": [
    {
     "name": "stdout",
     "output_type": "stream",
     "text": [
      "tensor([[1., 1.],\n",
      "        [1., 1.]], requires_grad=True)\n"
     ]
    }
   ],
   "source": [
    "x = torch.ones(2, 2, requires_grad=True)\n",
    "print(x)"
   ]
  },
  {
   "cell_type": "code",
   "execution_count": 35,
   "metadata": {},
   "outputs": [
    {
     "data": {
      "text/plain": [
       "True"
      ]
     },
     "execution_count": 35,
     "metadata": {},
     "output_type": "execute_result"
    }
   ],
   "source": [
    "x.requires_grad"
   ]
  },
  {
   "cell_type": "code",
   "execution_count": 36,
   "metadata": {},
   "outputs": [],
   "source": [
    "x.grad"
   ]
  },
  {
   "cell_type": "code",
   "execution_count": 37,
   "metadata": {},
   "outputs": [],
   "source": [
    "x.grad_fn   # 指向运算生成此张量的方法"
   ]
  },
  {
   "cell_type": "code",
   "execution_count": 38,
   "metadata": {},
   "outputs": [
    {
     "name": "stdout",
     "output_type": "stream",
     "text": [
      "tensor([[3., 3.],\n",
      "        [3., 3.]], grad_fn=<AddBackward0>)\n"
     ]
    }
   ],
   "source": [
    "# 进行张量运算\n",
    "y = x + 2\n",
    "print(y)"
   ]
  },
  {
   "cell_type": "code",
   "execution_count": 39,
   "metadata": {},
   "outputs": [
    {
     "name": "stdout",
     "output_type": "stream",
     "text": [
      "<AddBackward0 object at 0x000001840815EAC0>\n"
     ]
    }
   ],
   "source": [
    "# y是由于运算而创建的，因此具有grad_fn属性\n",
    "\n",
    "print(y.grad_fn)"
   ]
  },
  {
   "cell_type": "code",
   "execution_count": 40,
   "metadata": {},
   "outputs": [
    {
     "name": "stdout",
     "output_type": "stream",
     "text": [
      "tensor([[6., 6.],\n",
      "        [6., 6.]], grad_fn=<MulBackward0>) tensor(6., grad_fn=<MeanBackward0>)\n"
     ]
    }
   ],
   "source": [
    "# 进行更多操作\n",
    "\n",
    "z = y * 2\n",
    "out = z.mean()\n",
    "\n",
    "print(z, out)"
   ]
  },
  {
   "cell_type": "markdown",
   "metadata": {},
   "source": [
    "### 计算梯度"
   ]
  },
  {
   "cell_type": "code",
   "execution_count": 41,
   "metadata": {},
   "outputs": [],
   "source": [
    "out.backward()    # 自动微分运算, 注意 out 是标量值"
   ]
  },
  {
   "cell_type": "markdown",
   "metadata": {},
   "source": [
    "打印梯度  d（out）/ dx   \n",
    "\n",
    "out = f(x)"
   ]
  },
  {
   "cell_type": "code",
   "execution_count": 42,
   "metadata": {},
   "outputs": [
    {
     "name": "stdout",
     "output_type": "stream",
     "text": [
      "tensor([[0.5000, 0.5000],\n",
      "        [0.5000, 0.5000]])\n"
     ]
    }
   ],
   "source": [
    "print(x.grad)"
   ]
  },
  {
   "cell_type": "code",
   "execution_count": 43,
   "metadata": {},
   "outputs": [
    {
     "data": {
      "text/plain": [
       "tensor([[1., 1.],\n",
       "        [1., 1.]])"
      ]
     },
     "execution_count": 43,
     "metadata": {},
     "output_type": "execute_result"
    }
   ],
   "source": [
    "x.data"
   ]
  },
  {
   "cell_type": "code",
   "execution_count": 44,
   "metadata": {},
   "outputs": [],
   "source": [
    "x.grad_fn"
   ]
  },
  {
   "cell_type": "markdown",
   "metadata": {},
   "source": [
    "当张量的 requires_grad 属性为 True 时， \n",
    "\n",
    "pytorch会一直跟踪记录此张量的运算\n",
    "\n",
    "当不需要跟踪计算时，可以通过将代码块包装在  with torch.no_grad(): 上下文中"
   ]
  },
  {
   "cell_type": "code",
   "execution_count": 45,
   "metadata": {},
   "outputs": [
    {
     "name": "stdout",
     "output_type": "stream",
     "text": [
      "True\n",
      "True\n",
      "False\n"
     ]
    }
   ],
   "source": [
    "print(x.requires_grad)\n",
    "print((x ** 2).requires_grad)\n",
    "\n",
    "with torch.no_grad():\n",
    "    print((x ** 2).requires_grad)"
   ]
  },
  {
   "cell_type": "markdown",
   "metadata": {},
   "source": [
    "也可使用 .detach() 来获得具有相同内容但不需要跟踪运算的新Tensor ："
   ]
  },
  {
   "cell_type": "code",
   "execution_count": 46,
   "metadata": {},
   "outputs": [
    {
     "name": "stdout",
     "output_type": "stream",
     "text": [
      "True\n",
      "False\n"
     ]
    }
   ],
   "source": [
    "print(x.requires_grad)\n",
    "y = x.detach()\n",
    "print(y.requires_grad)"
   ]
  },
  {
   "cell_type": "code",
   "execution_count": 47,
   "metadata": {},
   "outputs": [
    {
     "data": {
      "text/plain": [
       "tensor([[1., 1.],\n",
       "        [1., 1.]])"
      ]
     },
     "execution_count": 47,
     "metadata": {},
     "output_type": "execute_result"
    }
   ],
   "source": [
    "x.data"
   ]
  },
  {
   "cell_type": "code",
   "execution_count": 48,
   "metadata": {},
   "outputs": [
    {
     "data": {
      "text/plain": [
       "tensor([[1., 1.],\n",
       "        [1., 1.]])"
      ]
     },
     "execution_count": 48,
     "metadata": {},
     "output_type": "execute_result"
    }
   ],
   "source": [
    "x.detach()"
   ]
  },
  {
   "cell_type": "markdown",
   "metadata": {},
   "source": [
    "使用 requires_grad_ 就地改变张量此属性"
   ]
  },
  {
   "cell_type": "code",
   "execution_count": 49,
   "metadata": {},
   "outputs": [
    {
     "name": "stdout",
     "output_type": "stream",
     "text": [
      "False\n"
     ]
    }
   ],
   "source": [
    "a = torch.randn(2, 2)\n",
    "a = a*3 + 2\n",
    "print(a.requires_grad)"
   ]
  },
  {
   "cell_type": "code",
   "execution_count": 50,
   "metadata": {},
   "outputs": [
    {
     "name": "stdout",
     "output_type": "stream",
     "text": [
      "True\n"
     ]
    }
   ],
   "source": [
    "a.requires_grad_(True)\n",
    "print(a.requires_grad)"
   ]
  },
  {
   "cell_type": "markdown",
   "metadata": {},
   "source": [
    "总结 pytorch 张量的数据结构形式"
   ]
  },
  {
   "cell_type": "code",
   "execution_count": null,
   "metadata": {},
   "outputs": [],
   "source": []
  }
 ],
 "metadata": {
  "kernelspec": {
   "display_name": "pytorch2.2.2",
   "language": "python",
   "name": "python3"
  },
  "language_info": {
   "codemirror_mode": {
    "name": "ipython",
    "version": 3
   },
   "file_extension": ".py",
   "mimetype": "text/x-python",
   "name": "python",
   "nbconvert_exporter": "python",
   "pygments_lexer": "ipython3",
   "version": "3.9.21"
  }
 },
 "nbformat": 4,
 "nbformat_minor": 4
}
