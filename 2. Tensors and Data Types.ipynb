{
 "cells": [
  {
   "cell_type": "markdown",
   "metadata": {},
   "source": [
    "# 张量和数据类型"
   ]
  },
  {
   "cell_type": "code",
   "execution_count": 1,
   "metadata": {},
   "outputs": [],
   "source": [
    "import torch\n",
    "import numpy as np"
   ]
  },
  {
   "cell_type": "markdown",
   "metadata": {},
   "source": [
    "## 初始化张量"
   ]
  },
  {
   "cell_type": "markdown",
   "metadata": {},
   "source": [
    "### 从Python列表初始化张量"
   ]
  },
  {
   "cell_type": "code",
   "execution_count": 2,
   "metadata": {},
   "outputs": [
    {
     "name": "stdout",
     "output_type": "stream",
     "text": [
      "tensor([1, 2, 3])\n",
      "torch.int64\n"
     ]
    }
   ],
   "source": [
    "t = torch.tensor([1, 2, 3])\n",
    "print(t)\n",
    "print(t.dtype)"
   ]
  },
  {
   "cell_type": "code",
   "execution_count": 3,
   "metadata": {},
   "outputs": [
    {
     "name": "stdout",
     "output_type": "stream",
     "text": [
      "tensor([1., 2., 3.])\n",
      "torch.float32\n"
     ]
    }
   ],
   "source": [
    "t = torch.tensor([1., 2., 3.])\n",
    "print(t)\n",
    "print(t.dtype)"
   ]
  },
  {
   "cell_type": "code",
   "execution_count": 4,
   "metadata": {},
   "outputs": [
    {
     "name": "stdout",
     "output_type": "stream",
     "text": [
      "tensor([1., 2., 3.])\n",
      "torch.float32\n"
     ]
    }
   ],
   "source": [
    "t = torch.FloatTensor([1, 2, 3])\n",
    "print(t)\n",
    "print(t.dtype)"
   ]
  },
  {
   "cell_type": "code",
   "execution_count": 5,
   "metadata": {},
   "outputs": [
    {
     "name": "stdout",
     "output_type": "stream",
     "text": [
      "tensor([1, 2, 3])\n",
      "torch.int64\n"
     ]
    }
   ],
   "source": [
    "t = torch.LongTensor([1, 2, 3])\n",
    "print(t)\n",
    "print(t.dtype)"
   ]
  },
  {
   "cell_type": "markdown",
   "metadata": {},
   "source": [
    "### 从numpy的ndarray初始化"
   ]
  },
  {
   "cell_type": "code",
   "execution_count": 6,
   "metadata": {},
   "outputs": [
    {
     "data": {
      "text/plain": [
       "array([[ 0,  1,  2,  3],\n",
       "       [ 4,  5,  6,  7],\n",
       "       [ 8,  9, 10, 11]])"
      ]
     },
     "execution_count": 6,
     "metadata": {},
     "output_type": "execute_result"
    }
   ],
   "source": [
    "np_array = np.arange(12).reshape(3, 4)\n",
    "np_array"
   ]
  },
  {
   "cell_type": "code",
   "execution_count": 7,
   "metadata": {},
   "outputs": [
    {
     "name": "stdout",
     "output_type": "stream",
     "text": [
      "tensor([[ 0,  1,  2,  3],\n",
      "        [ 4,  5,  6,  7],\n",
      "        [ 8,  9, 10, 11]], dtype=torch.int32)\n",
      "torch.int32\n"
     ]
    }
   ],
   "source": [
    "t = torch.from_numpy(np_array)\n",
    "# 也可以使用下面的方式\n",
    "# t = torch.tensor(np_array)\n",
    "print(t)\n",
    "print(t.dtype)"
   ]
  },
  {
   "cell_type": "markdown",
   "metadata": {},
   "source": [
    "## 张量（Tensor）基本数据类型"
   ]
  },
  {
   "cell_type": "markdown",
   "metadata": {},
   "source": [
    "* 32位浮点型：torch.float32 / torch.float\n",
    "* 64位浮点型：torch.float64\n",
    "* 64位整型： torch.int64 / torch.long\n",
    "* 32位整型： torch.int32\n",
    "* 16位整型： torch.int16"
   ]
  },
  {
   "cell_type": "code",
   "execution_count": 8,
   "metadata": {},
   "outputs": [
    {
     "name": "stdout",
     "output_type": "stream",
     "text": [
      "tensor([1., 2., 3.])\n",
      "torch.float32\n"
     ]
    }
   ],
   "source": [
    "t = torch.tensor([1, 2, 3], dtype=torch.float32)\n",
    "print(t)\n",
    "print(t.dtype)"
   ]
  },
  {
   "cell_type": "code",
   "execution_count": 9,
   "metadata": {},
   "outputs": [
    {
     "name": "stdout",
     "output_type": "stream",
     "text": [
      "tensor([1., 2., 3.])\n",
      "torch.float32\n"
     ]
    }
   ],
   "source": [
    "t = torch.tensor([1, 2, 3], dtype=torch.float)\n",
    "print(t)\n",
    "print(t.dtype)"
   ]
  },
  {
   "cell_type": "code",
   "execution_count": 10,
   "metadata": {},
   "outputs": [
    {
     "name": "stdout",
     "output_type": "stream",
     "text": [
      "tensor([1, 2, 3])\n",
      "torch.int64\n"
     ]
    }
   ],
   "source": [
    "t = torch.tensor([1, 2, 3], dtype=torch.long)\n",
    "print(t)\n",
    "print(t.dtype)"
   ]
  },
  {
   "cell_type": "markdown",
   "metadata": {},
   "source": [
    "## 创建随机值张量"
   ]
  },
  {
   "cell_type": "code",
   "execution_count": 11,
   "metadata": {},
   "outputs": [
    {
     "name": "stdout",
     "output_type": "stream",
     "text": [
      "tensor([[0.2254, 0.9175, 0.9124, 0.5380],\n",
      "        [0.3210, 0.5005, 0.2288, 0.5626],\n",
      "        [0.7224, 0.9528, 0.2287, 0.1949]])\n",
      "torch.float32\n",
      "torch.Size([3, 4])\n"
     ]
    }
   ],
   "source": [
    "# 创建（0，1）之间均匀分布的随机数\n",
    "t = torch.rand(3, 4)\n",
    "print(t)\n",
    "print(t.dtype)\n",
    "print(t.shape)"
   ]
  },
  {
   "cell_type": "code",
   "execution_count": 12,
   "metadata": {},
   "outputs": [
    {
     "name": "stdout",
     "output_type": "stream",
     "text": [
      "tensor([[-0.1930, -0.5222, -0.2073, -0.4694],\n",
      "        [ 0.9427, -0.4022,  0.3850,  0.4793],\n",
      "        [ 1.1780, -0.2818,  0.1137, -0.9878]])\n",
      "torch.float32\n",
      "torch.Size([3, 4])\n"
     ]
    }
   ],
   "source": [
    "# 创建标准正态分布的随机数\n",
    "t = torch.randn(3, 4)\n",
    "print(t)\n",
    "print(t.dtype)\n",
    "print(t.shape)"
   ]
  },
  {
   "cell_type": "code",
   "execution_count": 13,
   "metadata": {},
   "outputs": [
    {
     "name": "stdout",
     "output_type": "stream",
     "text": [
      "tensor([[0., 0., 0., 0.],\n",
      "        [0., 0., 0., 0.],\n",
      "        [0., 0., 0., 0.]])\n",
      "torch.float32\n",
      "torch.Size([3, 4])\n"
     ]
    }
   ],
   "source": [
    "# 创建全0的张量\n",
    "t = torch.zeros(3, 4)\n",
    "print(t)\n",
    "print(t.dtype)\n",
    "print(t.shape)"
   ]
  },
  {
   "cell_type": "code",
   "execution_count": 14,
   "metadata": {},
   "outputs": [
    {
     "name": "stdout",
     "output_type": "stream",
     "text": [
      "tensor([[1., 1., 1., 1.],\n",
      "        [1., 1., 1., 1.],\n",
      "        [1., 1., 1., 1.]])\n",
      "torch.float32\n",
      "torch.Size([3, 4])\n"
     ]
    }
   ],
   "source": [
    "# 创建全1的张量\n",
    "t = torch.ones(3, 4)\n",
    "print(t)\n",
    "print(t.dtype)\n",
    "print(t.shape)"
   ]
  },
  {
   "cell_type": "code",
   "execution_count": 15,
   "metadata": {},
   "outputs": [
    {
     "name": "stdout",
     "output_type": "stream",
     "text": [
      "tensor([[-0.2649, -0.7559, -0.9817,  0.0631],\n",
      "        [-1.5281, -0.5442, -0.2271, -1.1772],\n",
      "        [ 1.0725,  0.1528,  1.1123,  0.6684]])\n",
      "torch.float32\n",
      "torch.Size([3, 4])\n"
     ]
    }
   ],
   "source": [
    "# 创建一个与t形状相同的张量，但是值是正态分布的随机数\n",
    "t = torch.randn_like(t)\n",
    "print(t)\n",
    "print(t.dtype)\n",
    "print(t.shape)"
   ]
  },
  {
   "cell_type": "markdown",
   "metadata": {},
   "source": [
    "## 张量的属性"
   ]
  },
  {
   "cell_type": "code",
   "execution_count": 16,
   "metadata": {},
   "outputs": [
    {
     "name": "stdout",
     "output_type": "stream",
     "text": [
      "tensor([[0.7308, 0.3333, 0.5879, 0.1383],\n",
      "        [0.6849, 0.7065, 0.8308, 0.2471],\n",
      "        [0.9100, 0.7662, 0.2969, 0.7085]])\n",
      "torch.float32\n",
      "torch.Size([3, 4])\n",
      "size = torch.Size([3, 4])\n",
      "dim = 2\n",
      "size(0) = 3\n",
      "size(1) = 4\n",
      "numel= 12\n"
     ]
    }
   ],
   "source": [
    "# 创建一个与t形状相同的张量，但是值是在（0，1）均匀分布的随机数\n",
    "t = torch.rand_like(t)\n",
    "print(t)\n",
    "# 返回张量的数据类型\n",
    "print(t.dtype)\n",
    "# 返回张量的形状\n",
    "print(t.shape)\n",
    "print(\"size = \" + str(t.size()))\n",
    "# 返回张量的维度\n",
    "print(\"dim = \" + str(t.dim()))\n",
    "# 返回张量第一个维度的长度\n",
    "print(\"size(0) = \" + str(t.size(0)))\n",
    "# 返回张量第二个维度的长度\n",
    "print(\"size(1) = \" + str(t.size(1)))\n",
    "# 返回张量的元素个数\n",
    "print(\"numel= \" + str(t.numel()))\n"
   ]
  },
  {
   "cell_type": "markdown",
   "metadata": {},
   "source": [
    "## 张量存储设备及其转移"
   ]
  },
  {
   "cell_type": "code",
   "execution_count": 17,
   "metadata": {},
   "outputs": [
    {
     "name": "stdout",
     "output_type": "stream",
     "text": [
      "device = cpu\n",
      "torch.cuda.is_available() = True\n",
      "device = cuda:0\n"
     ]
    }
   ],
   "source": [
    "# 返回张量的存储设备\n",
    "print(\"device = \" + str(t.device))\n",
    "print(\"torch.cuda.is_available() = \" + str(torch.cuda.is_available()))\n",
    "# 将张量转移到GPU\n",
    "if torch.cuda.is_available():\n",
    "    t = t.to('cuda')\n",
    "    print(\"device = \" + str(t.device))"
   ]
  },
  {
   "cell_type": "code",
   "execution_count": 18,
   "metadata": {},
   "outputs": [
    {
     "name": "stdout",
     "output_type": "stream",
     "text": [
      "device = cpu\n"
     ]
    }
   ],
   "source": [
    "# 将张量转移到CPU\n",
    "t = t.to('cpu')\n",
    "print(\"device = \" + str(t.device))"
   ]
  },
  {
   "cell_type": "markdown",
   "metadata": {},
   "source": [
    "## 张量数据类型的转换"
   ]
  },
  {
   "cell_type": "code",
   "execution_count": 19,
   "metadata": {},
   "outputs": [
    {
     "name": "stdout",
     "output_type": "stream",
     "text": [
      "tensor([1., 2., 3.])\n",
      "torch.float32\n",
      "----------------\n",
      "tensor([1., 2., 3.], dtype=torch.float64)\n",
      "torch.float64\n",
      "----------------\n",
      "tensor([1, 2, 3])\n",
      "torch.int64\n"
     ]
    }
   ],
   "source": [
    "# 对张量进行数据类型转换\n",
    "t = torch.tensor([1, 2, 3], dtype=torch.float32)\n",
    "print(t)\n",
    "print(t.dtype)\n",
    "print(\"----------------\")\n",
    "t = t.type(torch.float64)\n",
    "print(t)\n",
    "print(t.dtype)\n",
    "print(\"----------------\")\n",
    "t = t.type(torch.int64)\n",
    "print(t)\n",
    "print(t.dtype)\n"
   ]
  },
  {
   "cell_type": "code",
   "execution_count": 20,
   "metadata": {},
   "outputs": [
    {
     "name": "stdout",
     "output_type": "stream",
     "text": [
      "tensor([[ 1.5564,  1.3932, -0.8936,  0.1820],\n",
      "        [ 0.8170,  0.4725,  0.0844,  1.5326],\n",
      "        [ 0.2691,  0.2472,  0.6079, -0.2840]])\n",
      "torch.float32\n",
      "----------------\n",
      "tensor([[1, 1, 0, 0],\n",
      "        [0, 0, 0, 1],\n",
      "        [0, 0, 0, 0]])\n",
      "torch.int64\n",
      "----------------\n",
      "tensor([[1., 1., 0., 0.],\n",
      "        [0., 0., 0., 1.],\n",
      "        [0., 0., 0., 0.]])\n",
      "torch.float32\n",
      "----------------\n"
     ]
    }
   ],
   "source": [
    "t = torch.randn(3, 4)\n",
    "print(t)\n",
    "print(t.dtype)\n",
    "print(\"----------------\")\n",
    "# .long()方法可以将张量转换为64位整型，即int64，与t.type(torch.int64)等价\n",
    "t = t.long()\n",
    "print(t)\n",
    "print(t.dtype)\n",
    "print(\"----------------\")\n",
    "# .int()方法可以将张量转换为32位整型\n",
    "# .short()方法可以将张量转换为16位整型\n",
    "# .char()方法可以将张量转换为8位整型\n",
    "# .byte()方法可以将张量转换为8位无符号整型\n",
    "\n",
    "# .double()方法可以将张量转换为64位浮点型\n",
    "# .float()方法可以将张量转换为32位浮点型\n",
    "t = t.float()\n",
    "print(t)\n",
    "print(t.dtype)\n",
    "print(\"----------------\")\n",
    "# .half()方法可以将张量转换为16位浮点型\n",
    "\n",
    "# .bool()方法可以将张量转换为布尔型"
   ]
  },
  {
   "cell_type": "markdown",
   "metadata": {},
   "source": [
    "## 张量运算"
   ]
  },
  {
   "cell_type": "code",
   "execution_count": 21,
   "metadata": {},
   "outputs": [
    {
     "name": "stdout",
     "output_type": "stream",
     "text": [
      "tensor([[ 1.2872, -1.1640, -0.3579,  0.0377],\n",
      "        [-1.0206, -0.8241, -0.6670, -1.1468],\n",
      "        [ 0.4104,  0.0271, -2.1854,  0.3311]])\n",
      "tensor([[4.2872, 1.8360, 2.6421, 3.0377],\n",
      "        [1.9794, 2.1759, 2.3330, 1.8532],\n",
      "        [3.4104, 3.0271, 0.8146, 3.3311]])\n",
      "----------------\n",
      "tensor([[-0.3058, -0.0689,  0.9351, -0.2130],\n",
      "        [-0.2622, -0.6015,  0.7110, -0.2750],\n",
      "        [-1.0764, -0.9532,  0.5018, -2.3148]])\n",
      "tensor([[ 0.9815, -1.2329,  0.5772, -0.1753],\n",
      "        [-1.2828, -1.4256,  0.0440, -1.4218],\n",
      "        [-0.6659, -0.9261, -1.6836, -1.9836]])\n",
      "----------------\n",
      "tensor([[ 1.2872, -1.1640, -0.3579,  0.0377],\n",
      "        [-1.0206, -0.8241, -0.6670, -1.1468],\n",
      "        [ 0.4104,  0.0271, -2.1854,  0.3311]])\n",
      "tensor([[ 0.9815, -1.2329,  0.5772, -0.1753],\n",
      "        [-1.2828, -1.4256,  0.0440, -1.4218],\n",
      "        [-0.6659, -0.9261, -1.6836, -1.9836]])\n",
      "tensor([[ 0.9815, -1.2329,  0.5772, -0.1753],\n",
      "        [-1.2828, -1.4256,  0.0440, -1.4218],\n",
      "        [-0.6659, -0.9261, -1.6836, -1.9836]])\n",
      "----------------\n"
     ]
    }
   ],
   "source": [
    "# 加法：广播原则\n",
    "t1 = torch.randn(3, 4)\n",
    "print(t1)\n",
    "# 数值与t1相加，每个元素加3\n",
    "print(t1 + 3)\n",
    "print(\"----------------\")\n",
    "# 与相同形状的张量相加,对应元素相加；与不同形状的张量相加，会报错\n",
    "t2 = torch.randn(3, 4)\n",
    "print(t2)\n",
    "# print(t1 + t2)\n",
    "# print(torch.add(t1, t2))\n",
    "#等同于\n",
    "print(t1.add(t2))   # t1的值不变\n",
    "print(\"----------------\")\n",
    "print(t1)\n",
    "print(t1.add_(t2))      # t1 = t1 + t2\n",
    "# t1的值改变\n",
    "print(t1)\n",
    "print(\"----------------\")\n",
    "# 方法后面带下划线的方法会改变调用者的值\n",
    "# 类似的方法还有sub（减法）、mul（乘法）、div（除法）、pow（幂运算）、sqrt（开方）\n",
    "# log（对数运算）、exp（指数运算）、abs（绝对值）、neg（取负数）、reciprocal（取倒数）\n",
    "# mean（求均值）、std（求标准差）、var（求方差）、norm（求范数）\n",
    "# max（求最大值）、min（求最小值）、argmax（求最大值索引）、argmin（求最小值索引）\n",
    "# sum（求和）、prod（求积）、cumsum（求累加和）、cumprod（求累乘积）\n",
    "# round（四舍五入）、floor（向下取整）、ceil（向上取整）、trunc（取整数部分）、frac（取小数部分）等"
   ]
  },
  {
   "cell_type": "code",
   "execution_count": null,
   "metadata": {},
   "outputs": [
    {
     "name": "stdout",
     "output_type": "stream",
     "text": [
      "tensor([[ 1.7365, -0.1485, -0.3830, -0.1339],\n",
      "        [ 0.1765,  1.5365,  0.3226, -1.4356],\n",
      "        [ 1.0029, -0.0522,  1.1279,  1.0141]])\n",
      "tensor([[ 1.7365,  0.1765,  1.0029],\n",
      "        [-0.1485,  1.5365, -0.0522],\n",
      "        [-0.3830,  0.3226,  1.1279],\n",
      "        [-0.1339, -1.4356,  1.0141]])\n",
      "tensor([[ 3.2022,  0.1470,  1.1815],\n",
      "        [ 0.1470,  4.5570, -0.9952],\n",
      "        [ 1.1815, -0.9952,  3.3090]])\n"
     ]
    }
   ],
   "source": [
    "# matmul（矩阵乘法）、@（矩阵乘法）、T（转置）、transpose（转置）、permute（维度交换）、reshape（形状变换）、view（形状变换）\n",
    "t1 = torch.randn(3, 4)\n",
    "print(t1)\n",
    "print(t1.T)\n",
    "print(t1.matmul(t1.T))"
   ]
  },
  {
   "cell_type": "markdown",
   "metadata": {},
   "source": [
    "## 从张量转换为python和numpy的数据类型"
   ]
  },
  {
   "cell_type": "code",
   "execution_count": null,
   "metadata": {},
   "outputs": [
    {
     "name": "stdout",
     "output_type": "stream",
     "text": [
      "tensor(4.7637)\n",
      "4.763683319091797\n",
      "[[1.7365307807922363, -0.1484937220811844, -0.3830190598964691, -0.13388681411743164], [0.1764928102493286, 1.536466360092163, 0.32261475920677185, -1.4356259107589722], [1.0028729438781738, -0.05223654583096504, 1.1278895139694214, 1.014078140258789]]\n",
      "tensor(0.3970)\n",
      "0.3969736099243164\n"
     ]
    }
   ],
   "source": [
    "# 转换为Python数据类型\n",
    "t2 = t1.sum()\n",
    "print(t2)\n",
    "print(t2.item())        # 将张量的值转换为Python数值\n",
    "print(t1.tolist())      # 将张量的值转换为Python列表\n",
    "result = t1.mean()      # 求均值\n",
    "print(result)           # 返回一个张量\n",
    "print(result.item())    # 返回一个Python数值"
   ]
  },
  {
   "cell_type": "code",
   "execution_count": null,
   "metadata": {},
   "outputs": [
    {
     "name": "stdout",
     "output_type": "stream",
     "text": [
      "[[-0.41586645  0.03775906 -0.47233051  1.69069393]\n",
      " [-1.34760597  0.55274691 -0.94824349  0.21932203]\n",
      " [ 1.11510202  0.36372741  0.64968126  0.913406  ]]\n",
      "tensor([[-0.4159,  0.0378, -0.4723,  1.6907],\n",
      "        [-1.3476,  0.5527, -0.9482,  0.2193],\n",
      "        [ 1.1151,  0.3637,  0.6497,  0.9134]], dtype=torch.float64)\n",
      "[[-0.41586645  0.03775906 -0.47233051  1.69069393]\n",
      " [-1.34760597  0.55274691 -0.94824349  0.21932203]\n",
      " [ 1.11510202  0.36372741  0.64968126  0.913406  ]]\n"
     ]
    }
   ],
   "source": [
    "# 转换为Numpy数据类型\n",
    "# 从Numpy数组创建张量\n",
    "np_array = np.random.randn(3, 4)\n",
    "print(np_array)\n",
    "t = torch.from_numpy(np_array)\n",
    "print(t)\n",
    "# 将张量转换为Numpy数组\n",
    "# .numpy()方法可以将张量转换为Numpy数组\n",
    "np_array = t.numpy()\n",
    "print(np_array)\n"
   ]
  },
  {
   "cell_type": "code",
   "execution_count": 1,
   "metadata": {},
   "outputs": [],
   "source": [
    "import torch"
   ]
  },
  {
   "cell_type": "code",
   "execution_count": null,
   "metadata": {},
   "outputs": [],
   "source": [
    "x = torch.rand(2, 3)\n",
    "print(x)"
   ]
  },
  {
   "cell_type": "code",
   "execution_count": null,
   "metadata": {},
   "outputs": [],
   "source": [
    "x = torch.randn(2, 3)\n",
    "print(x)"
   ]
  },
  {
   "cell_type": "code",
   "execution_count": null,
   "metadata": {},
   "outputs": [],
   "source": [
    "x = torch.zeros(2, 3)\n",
    "print(x)"
   ]
  },
  {
   "cell_type": "code",
   "execution_count": null,
   "metadata": {},
   "outputs": [],
   "source": [
    "x = torch.ones(2, 3)\n",
    "print(x)"
   ]
  },
  {
   "cell_type": "code",
   "execution_count": null,
   "metadata": {},
   "outputs": [],
   "source": [
    "x.size()"
   ]
  },
  {
   "cell_type": "code",
   "execution_count": null,
   "metadata": {},
   "outputs": [],
   "source": [
    "x.shape"
   ]
  },
  {
   "cell_type": "code",
   "execution_count": null,
   "metadata": {},
   "outputs": [],
   "source": [
    "x = torch.tensor([6, 2])\n",
    "print(x)"
   ]
  },
  {
   "cell_type": "code",
   "execution_count": null,
   "metadata": {},
   "outputs": [],
   "source": [
    "x.size()"
   ]
  },
  {
   "cell_type": "markdown",
   "metadata": {},
   "source": [
    "### 数据类型"
   ]
  },
  {
   "cell_type": "code",
   "execution_count": null,
   "metadata": {},
   "outputs": [],
   "source": [
    "x = torch.tensor([6, 2], dtype=torch.float32)\n",
    "print(x)"
   ]
  },
  {
   "cell_type": "code",
   "execution_count": null,
   "metadata": {},
   "outputs": [],
   "source": [
    "x.type(torch.int64)"
   ]
  },
  {
   "cell_type": "code",
   "execution_count": null,
   "metadata": {},
   "outputs": [],
   "source": [
    "x = torch.ones(2, 3, dtype=torch.float64)\n",
    "print(x)"
   ]
  },
  {
   "cell_type": "markdown",
   "metadata": {},
   "source": [
    "### 与ndarray数据类型的转换"
   ]
  },
  {
   "cell_type": "code",
   "execution_count": 52,
   "metadata": {},
   "outputs": [],
   "source": [
    "import numpy as np"
   ]
  },
  {
   "cell_type": "code",
   "execution_count": 54,
   "metadata": {},
   "outputs": [],
   "source": [
    "a = np.random.randn(2, 3)"
   ]
  },
  {
   "cell_type": "code",
   "execution_count": null,
   "metadata": {},
   "outputs": [],
   "source": [
    "a"
   ]
  },
  {
   "cell_type": "code",
   "execution_count": null,
   "metadata": {},
   "outputs": [],
   "source": [
    "x1 = torch.from_numpy(a)"
   ]
  },
  {
   "cell_type": "code",
   "execution_count": null,
   "metadata": {},
   "outputs": [],
   "source": [
    "x1"
   ]
  },
  {
   "cell_type": "code",
   "execution_count": null,
   "metadata": {},
   "outputs": [],
   "source": [
    "x1.numpy()"
   ]
  },
  {
   "cell_type": "markdown",
   "metadata": {},
   "source": [
    "张量运算"
   ]
  },
  {
   "cell_type": "code",
   "execution_count": null,
   "metadata": {},
   "outputs": [],
   "source": [
    "x + x1"
   ]
  },
  {
   "cell_type": "code",
   "execution_count": null,
   "metadata": {},
   "outputs": [],
   "source": [
    "x"
   ]
  },
  {
   "cell_type": "code",
   "execution_count": null,
   "metadata": {},
   "outputs": [],
   "source": [
    "x + 3"
   ]
  },
  {
   "cell_type": "code",
   "execution_count": null,
   "metadata": {},
   "outputs": [],
   "source": [
    "x.add(x1)"
   ]
  },
  {
   "cell_type": "code",
   "execution_count": null,
   "metadata": {},
   "outputs": [],
   "source": [
    "x.add_(x1)"
   ]
  },
  {
   "cell_type": "code",
   "execution_count": null,
   "metadata": {},
   "outputs": [],
   "source": [
    "x"
   ]
  },
  {
   "cell_type": "code",
   "execution_count": null,
   "metadata": {},
   "outputs": [],
   "source": [
    "x.view(3, 2) # x.reshape(3, 2)"
   ]
  },
  {
   "cell_type": "code",
   "execution_count": null,
   "metadata": {},
   "outputs": [],
   "source": [
    "x.view(-1, 1) # x.reshape(-1, 1)"
   ]
  },
  {
   "cell_type": "code",
   "execution_count": 68,
   "metadata": {},
   "outputs": [],
   "source": [
    "x = x.mean() # x.mean(dim=0)"
   ]
  },
  {
   "cell_type": "code",
   "execution_count": null,
   "metadata": {},
   "outputs": [],
   "source": [
    "x"
   ]
  },
  {
   "cell_type": "code",
   "execution_count": null,
   "metadata": {},
   "outputs": [],
   "source": [
    "x.item()"
   ]
  },
  {
   "cell_type": "markdown",
   "metadata": {},
   "source": [
    "### 张量的自动微分"
   ]
  },
  {
   "cell_type": "markdown",
   "metadata": {},
   "source": [
    "将Torch.Tensor属性 .requires_grad 设置为True，\n",
    "\n",
    "pytorch将开始跟踪对此张量的所有操作。\n",
    "\n",
    "完成计算后，可以调用 .backward() 并自动计算所有梯度。\n",
    "\n",
    "该张量的梯度将累加到.grad属性中。"
   ]
  },
  {
   "cell_type": "code",
   "execution_count": null,
   "metadata": {},
   "outputs": [],
   "source": [
    "x = torch.ones(2, 2, requires_grad=True)\n",
    "print(x)"
   ]
  },
  {
   "cell_type": "code",
   "execution_count": null,
   "metadata": {},
   "outputs": [],
   "source": [
    "x.requires_grad"
   ]
  },
  {
   "cell_type": "code",
   "execution_count": 111,
   "metadata": {},
   "outputs": [],
   "source": [
    "x.grad"
   ]
  },
  {
   "cell_type": "code",
   "execution_count": 112,
   "metadata": {},
   "outputs": [],
   "source": [
    "x.grad_fn   # 指向运算生成此张量的方法"
   ]
  },
  {
   "cell_type": "code",
   "execution_count": null,
   "metadata": {},
   "outputs": [],
   "source": [
    "# 进行张量运算\n",
    "y = x + 2\n",
    "print(y)"
   ]
  },
  {
   "cell_type": "code",
   "execution_count": null,
   "metadata": {},
   "outputs": [],
   "source": [
    "# y是由于运算而创建的，因此具有grad_fn属性\n",
    "\n",
    "print(y.grad_fn)"
   ]
  },
  {
   "cell_type": "code",
   "execution_count": null,
   "metadata": {},
   "outputs": [],
   "source": [
    "# 进行更多操作\n",
    "\n",
    "z = y * y * 3\n",
    "out = z.mean()\n",
    "\n",
    "print(z, out)"
   ]
  },
  {
   "cell_type": "markdown",
   "metadata": {},
   "source": [
    "### 计算梯度"
   ]
  },
  {
   "cell_type": "code",
   "execution_count": 116,
   "metadata": {},
   "outputs": [],
   "source": [
    "out.backward()    # 自动微分运算, 注意 out 是标量值"
   ]
  },
  {
   "cell_type": "markdown",
   "metadata": {},
   "source": [
    "打印梯度  d（out）/ dx   \n",
    "\n",
    "out = f(x)"
   ]
  },
  {
   "cell_type": "code",
   "execution_count": null,
   "metadata": {},
   "outputs": [],
   "source": [
    "print(x.grad)"
   ]
  },
  {
   "cell_type": "code",
   "execution_count": null,
   "metadata": {},
   "outputs": [],
   "source": [
    "x.data"
   ]
  },
  {
   "cell_type": "code",
   "execution_count": 107,
   "metadata": {},
   "outputs": [],
   "source": [
    "x.grad_fn"
   ]
  },
  {
   "cell_type": "markdown",
   "metadata": {},
   "source": [
    "当张量的 requires_grad 属性为 True 时， \n",
    "\n",
    "pytorch会一直跟踪记录此张量的运算\n",
    "\n",
    "当不需要跟踪计算时，可以通过将代码块包装在  with torch.no_grad(): 上下文中"
   ]
  },
  {
   "cell_type": "code",
   "execution_count": null,
   "metadata": {},
   "outputs": [],
   "source": [
    "print(x.requires_grad)\n",
    "print((x ** 2).requires_grad)\n",
    "\n",
    "with torch.no_grad():\n",
    "    print((x ** 2).requires_grad)"
   ]
  },
  {
   "cell_type": "markdown",
   "metadata": {},
   "source": [
    "也可使用 .detach() 来获得具有相同内容但不需要跟踪运算的新Tensor ："
   ]
  },
  {
   "cell_type": "code",
   "execution_count": null,
   "metadata": {},
   "outputs": [],
   "source": [
    "print(x.requires_grad)\n",
    "y = x.detach()\n",
    "print(y.requires_grad)"
   ]
  },
  {
   "cell_type": "code",
   "execution_count": null,
   "metadata": {},
   "outputs": [],
   "source": [
    "x.data"
   ]
  },
  {
   "cell_type": "code",
   "execution_count": null,
   "metadata": {},
   "outputs": [],
   "source": [
    "x.detach()"
   ]
  },
  {
   "cell_type": "markdown",
   "metadata": {},
   "source": [
    "使用 requires_grad_ 就地改变张量此属性"
   ]
  },
  {
   "cell_type": "code",
   "execution_count": null,
   "metadata": {},
   "outputs": [],
   "source": [
    "a = torch.randn(2, 2)\n",
    "a = a*3 + 2\n",
    "print(a.requires_grad)"
   ]
  },
  {
   "cell_type": "code",
   "execution_count": null,
   "metadata": {},
   "outputs": [],
   "source": [
    "a.requires_grad_(True)\n",
    "print(a.requires_grad)"
   ]
  },
  {
   "cell_type": "markdown",
   "metadata": {},
   "source": [
    "总结 pytorch 张量的数据结构形式"
   ]
  },
  {
   "cell_type": "code",
   "execution_count": null,
   "metadata": {},
   "outputs": [],
   "source": []
  }
 ],
 "metadata": {
  "kernelspec": {
   "display_name": "pytorch2.2.2",
   "language": "python",
   "name": "python3"
  },
  "language_info": {
   "codemirror_mode": {
    "name": "ipython",
    "version": 3
   },
   "file_extension": ".py",
   "mimetype": "text/x-python",
   "name": "python",
   "nbconvert_exporter": "python",
   "pygments_lexer": "ipython3",
   "version": "3.9.21"
  }
 },
 "nbformat": 4,
 "nbformat_minor": 4
}
