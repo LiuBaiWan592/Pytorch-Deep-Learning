{
 "cells": [
  {
   "cell_type": "markdown",
   "metadata": {},
   "source": [
    "# 张量和数据类型"
   ]
  },
  {
   "cell_type": "code",
   "execution_count": 1,
   "metadata": {},
   "outputs": [],
   "source": [
    "import torch\n",
    "import numpy as np"
   ]
  },
  {
   "cell_type": "markdown",
   "metadata": {},
   "source": [
    "## 初始化张量"
   ]
  },
  {
   "cell_type": "markdown",
   "metadata": {},
   "source": [
    "### 从Python列表初始化张量"
   ]
  },
  {
   "cell_type": "code",
   "execution_count": 2,
   "metadata": {},
   "outputs": [
    {
     "name": "stdout",
     "output_type": "stream",
     "text": [
      "tensor([1, 2, 3])\n",
      "torch.int64\n"
     ]
    }
   ],
   "source": [
    "t = torch.tensor([1, 2, 3])\n",
    "print(t)\n",
    "print(t.dtype)"
   ]
  },
  {
   "cell_type": "code",
   "execution_count": 3,
   "metadata": {},
   "outputs": [
    {
     "name": "stdout",
     "output_type": "stream",
     "text": [
      "tensor([1., 2., 3.])\n",
      "torch.float32\n"
     ]
    }
   ],
   "source": [
    "t = torch.tensor([1., 2., 3.])\n",
    "print(t)\n",
    "print(t.dtype)"
   ]
  },
  {
   "cell_type": "code",
   "execution_count": 4,
   "metadata": {},
   "outputs": [
    {
     "name": "stdout",
     "output_type": "stream",
     "text": [
      "tensor([1., 2., 3.])\n",
      "torch.float32\n"
     ]
    }
   ],
   "source": [
    "t = torch.FloatTensor([1, 2, 3])\n",
    "print(t)\n",
    "print(t.dtype)"
   ]
  },
  {
   "cell_type": "code",
   "execution_count": 5,
   "metadata": {},
   "outputs": [
    {
     "name": "stdout",
     "output_type": "stream",
     "text": [
      "tensor([1, 2, 3])\n",
      "torch.int64\n"
     ]
    }
   ],
   "source": [
    "t = torch.LongTensor([1, 2, 3])\n",
    "print(t)\n",
    "print(t.dtype)"
   ]
  },
  {
   "cell_type": "markdown",
   "metadata": {},
   "source": [
    "### 从numpy的ndarray初始化"
   ]
  },
  {
   "cell_type": "code",
   "execution_count": 6,
   "metadata": {},
   "outputs": [
    {
     "data": {
      "text/plain": [
       "array([[ 0,  1,  2,  3],\n",
       "       [ 4,  5,  6,  7],\n",
       "       [ 8,  9, 10, 11]])"
      ]
     },
     "execution_count": 6,
     "metadata": {},
     "output_type": "execute_result"
    }
   ],
   "source": [
    "np_array = np.arange(12).reshape(3, 4)\n",
    "np_array"
   ]
  },
  {
   "cell_type": "code",
   "execution_count": 7,
   "metadata": {},
   "outputs": [
    {
     "name": "stdout",
     "output_type": "stream",
     "text": [
      "tensor([[ 0,  1,  2,  3],\n",
      "        [ 4,  5,  6,  7],\n",
      "        [ 8,  9, 10, 11]], dtype=torch.int32)\n",
      "torch.int32\n"
     ]
    }
   ],
   "source": [
    "t = torch.from_numpy(np_array)\n",
    "# 也可以使用下面的方式\n",
    "# t = torch.tensor(np_array)\n",
    "print(t)\n",
    "print(t.dtype)"
   ]
  },
  {
   "cell_type": "markdown",
   "metadata": {},
   "source": [
    "## 张量（Tensor）基本数据类型"
   ]
  },
  {
   "cell_type": "markdown",
   "metadata": {},
   "source": [
    "* 32位浮点型：torch.float32 / torch.float\n",
    "* 64位浮点型：torch.float64\n",
    "* 64位整型： torch.int64 / torch.long\n",
    "* 32位整型： torch.int32\n",
    "* 16位整型： torch.int16"
   ]
  },
  {
   "cell_type": "code",
   "execution_count": 8,
   "metadata": {},
   "outputs": [
    {
     "name": "stdout",
     "output_type": "stream",
     "text": [
      "tensor([1., 2., 3.])\n",
      "torch.float32\n"
     ]
    }
   ],
   "source": [
    "t = torch.tensor([1, 2, 3], dtype=torch.float32)\n",
    "print(t)\n",
    "print(t.dtype)"
   ]
  },
  {
   "cell_type": "code",
   "execution_count": 9,
   "metadata": {},
   "outputs": [
    {
     "name": "stdout",
     "output_type": "stream",
     "text": [
      "tensor([1., 2., 3.])\n",
      "torch.float32\n"
     ]
    }
   ],
   "source": [
    "t = torch.tensor([1, 2, 3], dtype=torch.float)\n",
    "print(t)\n",
    "print(t.dtype)"
   ]
  },
  {
   "cell_type": "code",
   "execution_count": 10,
   "metadata": {},
   "outputs": [
    {
     "name": "stdout",
     "output_type": "stream",
     "text": [
      "tensor([1, 2, 3])\n",
      "torch.int64\n"
     ]
    }
   ],
   "source": [
    "t = torch.tensor([1, 2, 3], dtype=torch.long)\n",
    "print(t)\n",
    "print(t.dtype)"
   ]
  },
  {
   "cell_type": "markdown",
   "metadata": {},
   "source": [
    "## 创建随机值张量"
   ]
  },
  {
   "cell_type": "code",
   "execution_count": 11,
   "metadata": {},
   "outputs": [
    {
     "name": "stdout",
     "output_type": "stream",
     "text": [
      "tensor([[0.4860, 0.3687, 0.2372, 0.5329],\n",
      "        [0.4784, 0.6122, 0.6382, 0.6685],\n",
      "        [0.7707, 0.8564, 0.8704, 0.6532]])\n",
      "torch.float32\n",
      "torch.Size([3, 4])\n"
     ]
    }
   ],
   "source": [
    "# 创建（0，1）之间均匀分布的随机数\n",
    "t = torch.rand(3, 4)\n",
    "print(t)\n",
    "print(t.dtype)\n",
    "print(t.shape)"
   ]
  },
  {
   "cell_type": "code",
   "execution_count": 12,
   "metadata": {},
   "outputs": [
    {
     "name": "stdout",
     "output_type": "stream",
     "text": [
      "tensor([[-0.3052, -0.2343, -2.2471,  0.6742],\n",
      "        [-0.2385, -1.2642, -0.7632, -0.6994],\n",
      "        [-0.3246, -0.7096,  0.8201, -0.3390]])\n",
      "torch.float32\n",
      "torch.Size([3, 4])\n"
     ]
    }
   ],
   "source": [
    "# 创建标准正态分布的随机数\n",
    "t = torch.randn(3, 4)\n",
    "print(t)\n",
    "print(t.dtype)\n",
    "print(t.shape)"
   ]
  },
  {
   "cell_type": "code",
   "execution_count": 13,
   "metadata": {},
   "outputs": [
    {
     "name": "stdout",
     "output_type": "stream",
     "text": [
      "tensor([[0., 0., 0., 0.],\n",
      "        [0., 0., 0., 0.],\n",
      "        [0., 0., 0., 0.]])\n",
      "torch.float32\n",
      "torch.Size([3, 4])\n"
     ]
    }
   ],
   "source": [
    "# 创建全0的张量\n",
    "t = torch.zeros(3, 4)\n",
    "print(t)\n",
    "print(t.dtype)\n",
    "print(t.shape)"
   ]
  },
  {
   "cell_type": "code",
   "execution_count": 14,
   "metadata": {},
   "outputs": [
    {
     "name": "stdout",
     "output_type": "stream",
     "text": [
      "tensor([[1., 1., 1., 1.],\n",
      "        [1., 1., 1., 1.],\n",
      "        [1., 1., 1., 1.]])\n",
      "torch.float32\n",
      "torch.Size([3, 4])\n"
     ]
    }
   ],
   "source": [
    "# 创建全1的张量\n",
    "t = torch.ones(3, 4)\n",
    "print(t)\n",
    "print(t.dtype)\n",
    "print(t.shape)"
   ]
  },
  {
   "cell_type": "code",
   "execution_count": 15,
   "metadata": {},
   "outputs": [
    {
     "name": "stdout",
     "output_type": "stream",
     "text": [
      "tensor([[-1.4096, -0.6351, -0.1989,  0.6484],\n",
      "        [-1.2685, -2.0016,  0.8828, -1.0057],\n",
      "        [ 1.5341, -1.2712,  1.3198,  0.0872]])\n",
      "torch.float32\n",
      "torch.Size([3, 4])\n"
     ]
    }
   ],
   "source": [
    "# 创建一个与t形状相同的张量，但是值是正态分布的随机数\n",
    "t = torch.randn_like(t)\n",
    "print(t)\n",
    "print(t.dtype)\n",
    "print(t.shape)"
   ]
  },
  {
   "cell_type": "markdown",
   "metadata": {},
   "source": [
    "## 张量的属性"
   ]
  },
  {
   "cell_type": "code",
   "execution_count": 16,
   "metadata": {},
   "outputs": [
    {
     "name": "stdout",
     "output_type": "stream",
     "text": [
      "tensor([[0.6398, 0.1267, 0.1516, 0.0887],\n",
      "        [0.6522, 0.3207, 0.5437, 0.9627],\n",
      "        [0.1954, 0.8391, 0.1070, 0.8114]])\n",
      "torch.float32\n",
      "torch.Size([3, 4])\n",
      "size = torch.Size([3, 4])\n",
      "dim = 2\n",
      "size(0) = 3\n",
      "size(1) = 4\n",
      "numel= 12\n"
     ]
    }
   ],
   "source": [
    "# 创建一个与t形状相同的张量，但是值是在（0，1）均匀分布的随机数\n",
    "t = torch.rand_like(t)\n",
    "print(t)\n",
    "# 返回张量的数据类型\n",
    "print(t.dtype)\n",
    "# 返回张量的形状\n",
    "print(t.shape)\n",
    "print(\"size = \" + str(t.size()))\n",
    "# 返回张量的维度\n",
    "print(\"dim = \" + str(t.dim()))\n",
    "# 返回张量第一个维度的长度\n",
    "print(\"size(0) = \" + str(t.size(0)))\n",
    "# 返回张量第二个维度的长度\n",
    "print(\"size(1) = \" + str(t.size(1)))\n",
    "# 返回张量的元素个数\n",
    "print(\"numel= \" + str(t.numel()))\n"
   ]
  },
  {
   "cell_type": "markdown",
   "metadata": {},
   "source": [
    "## 张量存储设备及其转移"
   ]
  },
  {
   "cell_type": "code",
   "execution_count": 17,
   "metadata": {},
   "outputs": [
    {
     "name": "stdout",
     "output_type": "stream",
     "text": [
      "device = cpu\n",
      "torch.cuda.is_available() = True\n",
      "device = cuda:0\n"
     ]
    }
   ],
   "source": [
    "# 返回张量的存储设备\n",
    "print(\"device = \" + str(t.device))\n",
    "print(\"torch.cuda.is_available() = \" + str(torch.cuda.is_available()))\n",
    "# 将张量转移到GPU\n",
    "if torch.cuda.is_available():\n",
    "    t = t.to('cuda')\n",
    "    print(\"device = \" + str(t.device))"
   ]
  },
  {
   "cell_type": "code",
   "execution_count": 18,
   "metadata": {},
   "outputs": [
    {
     "name": "stdout",
     "output_type": "stream",
     "text": [
      "device = cpu\n"
     ]
    }
   ],
   "source": [
    "# 将张量转移到CPU\n",
    "t = t.to('cpu')\n",
    "print(\"device = \" + str(t.device))"
   ]
  },
  {
   "cell_type": "markdown",
   "metadata": {},
   "source": [
    "## 张量数据类型的转换"
   ]
  },
  {
   "cell_type": "code",
   "execution_count": 19,
   "metadata": {},
   "outputs": [
    {
     "name": "stdout",
     "output_type": "stream",
     "text": [
      "tensor([1., 2., 3.])\n",
      "torch.float32\n",
      "----------------\n",
      "tensor([1., 2., 3.], dtype=torch.float64)\n",
      "torch.float64\n",
      "----------------\n",
      "tensor([1, 2, 3])\n",
      "torch.int64\n"
     ]
    }
   ],
   "source": [
    "# 对张量进行数据类型转换\n",
    "t = torch.tensor([1, 2, 3], dtype=torch.float32)\n",
    "print(t)\n",
    "print(t.dtype)\n",
    "print(\"----------------\")\n",
    "t = t.type(torch.float64)\n",
    "print(t)\n",
    "print(t.dtype)\n",
    "print(\"----------------\")\n",
    "t = t.type(torch.int64)\n",
    "print(t)\n",
    "print(t.dtype)\n"
   ]
  },
  {
   "cell_type": "code",
   "execution_count": 20,
   "metadata": {},
   "outputs": [
    {
     "name": "stdout",
     "output_type": "stream",
     "text": [
      "tensor([[ 1.0416, -0.5953,  1.0857, -1.5836],\n",
      "        [ 0.2856,  0.4203,  0.3126,  2.3779],\n",
      "        [-0.6827,  1.1500,  0.3528,  2.7267]])\n",
      "torch.float32\n",
      "----------------\n",
      "tensor([[ 1,  0,  1, -1],\n",
      "        [ 0,  0,  0,  2],\n",
      "        [ 0,  1,  0,  2]])\n",
      "torch.int64\n",
      "----------------\n",
      "tensor([[ 1.,  0.,  1., -1.],\n",
      "        [ 0.,  0.,  0.,  2.],\n",
      "        [ 0.,  1.,  0.,  2.]])\n",
      "torch.float32\n",
      "----------------\n"
     ]
    }
   ],
   "source": [
    "t = torch.randn(3, 4)\n",
    "print(t)\n",
    "print(t.dtype)\n",
    "print(\"----------------\")\n",
    "# .long()方法可以将张量转换为64位整型，即int64，与t.type(torch.int64)等价\n",
    "t = t.long()\n",
    "print(t)\n",
    "print(t.dtype)\n",
    "print(\"----------------\")\n",
    "# .int()方法可以将张量转换为32位整型\n",
    "# .short()方法可以将张量转换为16位整型\n",
    "# .char()方法可以将张量转换为8位整型\n",
    "# .byte()方法可以将张量转换为8位无符号整型\n",
    "\n",
    "# .double()方法可以将张量转换为64位浮点型\n",
    "# .float()方法可以将张量转换为32位浮点型\n",
    "t = t.float()\n",
    "print(t)\n",
    "print(t.dtype)\n",
    "print(\"----------------\")\n",
    "# .half()方法可以将张量转换为16位浮点型\n",
    "\n",
    "# .bool()方法可以将张量转换为布尔型"
   ]
  },
  {
   "cell_type": "markdown",
   "metadata": {},
   "source": [
    "## 张量运算"
   ]
  },
  {
   "cell_type": "code",
   "execution_count": 21,
   "metadata": {},
   "outputs": [
    {
     "name": "stdout",
     "output_type": "stream",
     "text": [
      "tensor([[-6.2446e-01,  8.8352e-01,  1.7437e+00, -6.8458e-01],\n",
      "        [ 6.5891e-01, -2.3263e-03,  1.1823e+00, -2.4381e+00],\n",
      "        [-2.2688e+00,  5.3536e-02, -1.0361e+00,  2.1679e+00]])\n",
      "tensor([[2.3755, 3.8835, 4.7437, 2.3154],\n",
      "        [3.6589, 2.9977, 4.1823, 0.5619],\n",
      "        [0.7312, 3.0535, 1.9639, 5.1679]])\n",
      "----------------\n",
      "tensor([[-0.1454,  1.1059, -0.7089,  0.0606],\n",
      "        [ 0.0947,  0.9822, -2.3898, -0.2335],\n",
      "        [-1.3571, -0.8314,  1.0086,  1.3857]])\n",
      "tensor([[-0.7698,  1.9894,  1.0347, -0.6239],\n",
      "        [ 0.7536,  0.9799, -1.2075, -2.6716],\n",
      "        [-3.6258, -0.7779, -0.0275,  3.5537]])\n",
      "----------------\n",
      "tensor([[-6.2446e-01,  8.8352e-01,  1.7437e+00, -6.8458e-01],\n",
      "        [ 6.5891e-01, -2.3263e-03,  1.1823e+00, -2.4381e+00],\n",
      "        [-2.2688e+00,  5.3536e-02, -1.0361e+00,  2.1679e+00]])\n",
      "tensor([[-0.7698,  1.9894,  1.0347, -0.6239],\n",
      "        [ 0.7536,  0.9799, -1.2075, -2.6716],\n",
      "        [-3.6258, -0.7779, -0.0275,  3.5537]])\n",
      "tensor([[-0.7698,  1.9894,  1.0347, -0.6239],\n",
      "        [ 0.7536,  0.9799, -1.2075, -2.6716],\n",
      "        [-3.6258, -0.7779, -0.0275,  3.5537]])\n",
      "----------------\n"
     ]
    }
   ],
   "source": [
    "# 加法：广播原则\n",
    "t1 = torch.randn(3, 4)\n",
    "print(t1)\n",
    "# 数值与t1相加，每个元素加3\n",
    "print(t1 + 3)\n",
    "print(\"----------------\")\n",
    "# 与相同形状的张量相加,对应元素相加；与不同形状的张量相加，会报错\n",
    "t2 = torch.randn(3, 4)\n",
    "print(t2)\n",
    "# print(t1 + t2)\n",
    "# print(torch.add(t1, t2))\n",
    "#等同于\n",
    "print(t1.add(t2))   # t1的值不变\n",
    "print(\"----------------\")\n",
    "print(t1)\n",
    "print(t1.add_(t2))      # t1 = t1 + t2\n",
    "# t1的值改变\n",
    "print(t1)\n",
    "print(\"----------------\")\n",
    "# 方法后面带下划线的方法会改变调用者的值\n",
    "# 类似的方法还有sub（减法）、mul（乘法）、div（除法）、pow（幂运算）、sqrt（开方）\n",
    "# log（对数运算）、exp（指数运算）、abs（绝对值）、neg（取负数）、reciprocal（取倒数）\n",
    "# mean（求均值）、std（求标准差）、var（求方差）、norm（求范数）\n",
    "# max（求最大值）、min（求最小值）、argmax（求最大值索引）、argmin（求最小值索引）\n",
    "# sum（求和）、prod（求积）、cumsum（求累加和）、cumprod（求累乘积）\n",
    "# round（四舍五入）、floor（向下取整）、ceil（向上取整）、trunc（取整数部分）、frac（取小数部分）等"
   ]
  },
  {
   "cell_type": "code",
   "execution_count": 22,
   "metadata": {},
   "outputs": [
    {
     "name": "stdout",
     "output_type": "stream",
     "text": [
      "tensor([[-0.4040, -0.8557, -0.7382,  0.3856],\n",
      "        [ 1.2600,  0.8013, -0.5460,  0.8009],\n",
      "        [ 1.2270, -0.1237,  0.5516,  1.0479]])\n",
      "tensor([[-0.4040,  1.2600,  1.2270],\n",
      "        [-0.8557,  0.8013, -0.1237],\n",
      "        [-0.7382, -0.5460,  0.5516],\n",
      "        [ 0.3856,  0.8009,  1.0479]])\n",
      "tensor([[ 1.5890, -0.4829, -0.3930],\n",
      "        [-0.4829,  3.1693,  1.9849],\n",
      "        [-0.3930,  1.9849,  2.9230]])\n"
     ]
    }
   ],
   "source": [
    "# matmul（矩阵乘法）、@（矩阵乘法）、T（转置）、transpose（转置）、permute（维度交换）、reshape（形状变换）、view（形状变换）\n",
    "t1 = torch.randn(3, 4)\n",
    "print(t1)\n",
    "print(t1.T)\n",
    "print(t1.matmul(t1.T))"
   ]
  },
  {
   "cell_type": "markdown",
   "metadata": {},
   "source": [
    "## 从张量转换为python和numpy的数据类型"
   ]
  },
  {
   "cell_type": "code",
   "execution_count": 23,
   "metadata": {},
   "outputs": [
    {
     "name": "stdout",
     "output_type": "stream",
     "text": [
      "tensor(3.4067)\n",
      "3.4066624641418457\n",
      "[[-0.40404650568962097, -0.8556524515151978, -0.7381729483604431, 0.38560277223587036], [1.2600404024124146, 0.80130535364151, -0.5460147857666016, 0.8008570075035095], [1.2269566059112549, -0.12370836734771729, 0.5516248941421509, 1.047870397567749]]\n",
      "tensor(0.2839)\n",
      "0.2838885486125946\n"
     ]
    }
   ],
   "source": [
    "# 转换为Python数据类型\n",
    "t2 = t1.sum()\n",
    "print(t2)\n",
    "print(t2.item())        # 将张量的值转换为Python数值\n",
    "print(t1.tolist())      # 将张量的值转换为Python列表\n",
    "result = t1.mean()      # 求均值\n",
    "print(result)           # 返回一个张量\n",
    "print(result.item())    # 返回一个Python数值"
   ]
  },
  {
   "cell_type": "code",
   "execution_count": 24,
   "metadata": {},
   "outputs": [
    {
     "name": "stdout",
     "output_type": "stream",
     "text": [
      "[[ 1.34603901  0.72275066 -1.13441934  0.97801179]\n",
      " [-0.65498111 -0.62947032  0.71560784 -0.61951748]\n",
      " [-1.79019783 -1.32416049  0.50378579  0.9869958 ]]\n",
      "tensor([[ 1.3460,  0.7228, -1.1344,  0.9780],\n",
      "        [-0.6550, -0.6295,  0.7156, -0.6195],\n",
      "        [-1.7902, -1.3242,  0.5038,  0.9870]], dtype=torch.float64)\n",
      "[[ 1.34603901  0.72275066 -1.13441934  0.97801179]\n",
      " [-0.65498111 -0.62947032  0.71560784 -0.61951748]\n",
      " [-1.79019783 -1.32416049  0.50378579  0.9869958 ]]\n"
     ]
    }
   ],
   "source": [
    "# 转换为Numpy数据类型\n",
    "# 从Numpy数组创建张量\n",
    "np_array = np.random.randn(3, 4)\n",
    "print(np_array)\n",
    "t = torch.from_numpy(np_array)\n",
    "print(t)\n",
    "# 将张量转换为Numpy数组\n",
    "# .numpy()方法可以将张量转换为Numpy数组\n",
    "np_array = t.numpy()\n",
    "print(np_array)\n"
   ]
  },
  {
   "cell_type": "markdown",
   "metadata": {},
   "source": [
    "## 张量的变形"
   ]
  },
  {
   "cell_type": "code",
   "execution_count": 25,
   "metadata": {},
   "outputs": [
    {
     "name": "stdout",
     "output_type": "stream",
     "text": [
      "tensor([[-0.4553,  2.9935,  0.0671,  1.6772],\n",
      "        [ 1.3228,  0.5531,  1.4230, -0.2185],\n",
      "        [ 1.6426,  0.6223, -0.2198,  0.0250]])\n",
      "torch.Size([3, 4])\n",
      "tensor([[-0.4553,  2.9935,  0.0671],\n",
      "        [ 1.6772,  1.3228,  0.5531],\n",
      "        [ 1.4230, -0.2185,  1.6426],\n",
      "        [ 0.6223, -0.2198,  0.0250]])\n",
      "torch.Size([4, 3])\n"
     ]
    }
   ],
   "source": [
    "t = torch.randn(3, 4)\n",
    "print(t)\n",
    "print(t.shape)\n",
    "# .view()方法可以改变张量的形状，但是张量的元素个数不能改变\n",
    "t1 = t.view(4, 3)\n",
    "print(t1)\n",
    "print(t1.shape)\n",
    "# .reshape()方法与.view()方法功能相同"
   ]
  },
  {
   "cell_type": "code",
   "execution_count": 26,
   "metadata": {},
   "outputs": [
    {
     "name": "stdout",
     "output_type": "stream",
     "text": [
      "tensor([[-1.0168, -0.8039,  0.6670, -0.1121],\n",
      "        [ 1.2239,  1.4895, -0.4935, -0.7559],\n",
      "        [ 0.3140,  1.5509,  0.5233, -0.0166]])\n",
      "torch.Size([3, 4])\n",
      "tensor([[-1.0168],\n",
      "        [-0.8039],\n",
      "        [ 0.6670],\n",
      "        [-0.1121],\n",
      "        [ 1.2239],\n",
      "        [ 1.4895],\n",
      "        [-0.4935],\n",
      "        [-0.7559],\n",
      "        [ 0.3140],\n",
      "        [ 1.5509],\n",
      "        [ 0.5233],\n",
      "        [-0.0166]])\n",
      "torch.Size([12, 1])\n",
      "torch.Size([12, 3, 4, 4])\n",
      "torch.Size([12, 48])\n"
     ]
    }
   ],
   "source": [
    "# 常用于展平张量\n",
    "t = torch.randn(3, 4)\n",
    "print(t)\n",
    "print(t.shape)\n",
    "# 转换为第二维度为1的张量，-1表示自动计算\n",
    "t1 = t.view(-1, 1)  #即将t展平为 24 * 1 的张量\n",
    "print(t1)\n",
    "print(t1.shape)\n",
    "# 例如\n",
    "t = torch.randn(12, 3, 4, 4)\n",
    "print(t.shape)\n",
    "# 将t展平为 12 * 48 的张量\n",
    "t1 = t.view(12, -1)\n",
    "# 也可写为\n",
    "t1 = t.view(12, 48)  # 12 * 3 * 4 * 4 = 12 * 48\n",
    "print(t1.shape)"
   ]
  },
  {
   "cell_type": "code",
   "execution_count": 27,
   "metadata": {},
   "outputs": [
    {
     "name": "stdout",
     "output_type": "stream",
     "text": [
      "tensor([[-0.6300, -0.1251,  0.7509, -1.7167],\n",
      "        [-0.0880,  0.1965, -0.3348, -1.3354],\n",
      "        [ 0.8060, -0.4016,  1.1625,  1.0843]])\n",
      "torch.Size([3, 4])\n",
      "tensor([[[-0.6300, -0.1251,  0.7509, -1.7167],\n",
      "         [-0.0880,  0.1965, -0.3348, -1.3354],\n",
      "         [ 0.8060, -0.4016,  1.1625,  1.0843]]])\n",
      "torch.Size([1, 3, 4])\n",
      "tensor([[-0.6300, -0.1251,  0.7509, -1.7167],\n",
      "        [-0.0880,  0.1965, -0.3348, -1.3354],\n",
      "        [ 0.8060, -0.4016,  1.1625,  1.0843]])\n",
      "torch.Size([3, 4])\n"
     ]
    }
   ],
   "source": [
    "# 给张量增加一个维度，例如将形状为(3, 4)的张量增加一个维度，形状变为(1, 3, 4)\n",
    "t = torch.randn(3, 4)\n",
    "print(t)\n",
    "print(t.shape)\n",
    "# .unsqueeze()方法可以增加张量为1的维度\n",
    "t1 = t.unsqueeze(0) # 在第0维度增加一个维度\n",
    "print(t1)\n",
    "print(t1.shape)\n",
    "# 也可以写为\n",
    "# t1 = t.view(1, 3, 4)\n",
    "# print(t1)\n",
    "# print(t1.shape)\n",
    "\n",
    "# 给张量减少一个维度\n",
    "# .squeeze()方法可以减少张量为1的维度\n",
    "t2 = t1.squeeze()\n",
    "print(t2)\n",
    "print(t2.shape)"
   ]
  },
  {
   "cell_type": "markdown",
   "metadata": {},
   "source": [
    "### 张量的自动微分"
   ]
  },
  {
   "cell_type": "markdown",
   "metadata": {},
   "source": [
    "将Torch.Tensor属性 .requires_grad 设置为True，\n",
    "\n",
    "pytorch将开始跟踪对此张量的所有操作。\n",
    "\n",
    "完成计算后，可以调用 .backward() 并自动计算所有梯度。\n",
    "\n",
    "该张量的梯度将累加到.grad属性中。"
   ]
  },
  {
   "cell_type": "code",
   "execution_count": null,
   "metadata": {},
   "outputs": [],
   "source": [
    "x = torch.ones(2, 2, requires_grad=True)\n",
    "print(x)"
   ]
  },
  {
   "cell_type": "code",
   "execution_count": null,
   "metadata": {},
   "outputs": [],
   "source": [
    "x.requires_grad"
   ]
  },
  {
   "cell_type": "code",
   "execution_count": 111,
   "metadata": {},
   "outputs": [],
   "source": [
    "x.grad"
   ]
  },
  {
   "cell_type": "code",
   "execution_count": 112,
   "metadata": {},
   "outputs": [],
   "source": [
    "x.grad_fn   # 指向运算生成此张量的方法"
   ]
  },
  {
   "cell_type": "code",
   "execution_count": null,
   "metadata": {},
   "outputs": [],
   "source": [
    "# 进行张量运算\n",
    "y = x + 2\n",
    "print(y)"
   ]
  },
  {
   "cell_type": "code",
   "execution_count": null,
   "metadata": {},
   "outputs": [],
   "source": [
    "# y是由于运算而创建的，因此具有grad_fn属性\n",
    "\n",
    "print(y.grad_fn)"
   ]
  },
  {
   "cell_type": "code",
   "execution_count": null,
   "metadata": {},
   "outputs": [],
   "source": [
    "# 进行更多操作\n",
    "\n",
    "z = y * y * 3\n",
    "out = z.mean()\n",
    "\n",
    "print(z, out)"
   ]
  },
  {
   "cell_type": "markdown",
   "metadata": {},
   "source": [
    "### 计算梯度"
   ]
  },
  {
   "cell_type": "code",
   "execution_count": 116,
   "metadata": {},
   "outputs": [],
   "source": [
    "out.backward()    # 自动微分运算, 注意 out 是标量值"
   ]
  },
  {
   "cell_type": "markdown",
   "metadata": {},
   "source": [
    "打印梯度  d（out）/ dx   \n",
    "\n",
    "out = f(x)"
   ]
  },
  {
   "cell_type": "code",
   "execution_count": null,
   "metadata": {},
   "outputs": [],
   "source": [
    "print(x.grad)"
   ]
  },
  {
   "cell_type": "code",
   "execution_count": null,
   "metadata": {},
   "outputs": [],
   "source": [
    "x.data"
   ]
  },
  {
   "cell_type": "code",
   "execution_count": 107,
   "metadata": {},
   "outputs": [],
   "source": [
    "x.grad_fn"
   ]
  },
  {
   "cell_type": "markdown",
   "metadata": {},
   "source": [
    "当张量的 requires_grad 属性为 True 时， \n",
    "\n",
    "pytorch会一直跟踪记录此张量的运算\n",
    "\n",
    "当不需要跟踪计算时，可以通过将代码块包装在  with torch.no_grad(): 上下文中"
   ]
  },
  {
   "cell_type": "code",
   "execution_count": null,
   "metadata": {},
   "outputs": [],
   "source": [
    "print(x.requires_grad)\n",
    "print((x ** 2).requires_grad)\n",
    "\n",
    "with torch.no_grad():\n",
    "    print((x ** 2).requires_grad)"
   ]
  },
  {
   "cell_type": "markdown",
   "metadata": {},
   "source": [
    "也可使用 .detach() 来获得具有相同内容但不需要跟踪运算的新Tensor ："
   ]
  },
  {
   "cell_type": "code",
   "execution_count": null,
   "metadata": {},
   "outputs": [],
   "source": [
    "print(x.requires_grad)\n",
    "y = x.detach()\n",
    "print(y.requires_grad)"
   ]
  },
  {
   "cell_type": "code",
   "execution_count": null,
   "metadata": {},
   "outputs": [],
   "source": [
    "x.data"
   ]
  },
  {
   "cell_type": "code",
   "execution_count": null,
   "metadata": {},
   "outputs": [],
   "source": [
    "x.detach()"
   ]
  },
  {
   "cell_type": "markdown",
   "metadata": {},
   "source": [
    "使用 requires_grad_ 就地改变张量此属性"
   ]
  },
  {
   "cell_type": "code",
   "execution_count": null,
   "metadata": {},
   "outputs": [],
   "source": [
    "a = torch.randn(2, 2)\n",
    "a = a*3 + 2\n",
    "print(a.requires_grad)"
   ]
  },
  {
   "cell_type": "code",
   "execution_count": null,
   "metadata": {},
   "outputs": [],
   "source": [
    "a.requires_grad_(True)\n",
    "print(a.requires_grad)"
   ]
  },
  {
   "cell_type": "markdown",
   "metadata": {},
   "source": [
    "总结 pytorch 张量的数据结构形式"
   ]
  },
  {
   "cell_type": "code",
   "execution_count": null,
   "metadata": {},
   "outputs": [],
   "source": []
  }
 ],
 "metadata": {
  "kernelspec": {
   "display_name": "pytorch2.2.2",
   "language": "python",
   "name": "python3"
  },
  "language_info": {
   "codemirror_mode": {
    "name": "ipython",
    "version": 3
   },
   "file_extension": ".py",
   "mimetype": "text/x-python",
   "name": "python",
   "nbconvert_exporter": "python",
   "pygments_lexer": "ipython3",
   "version": "3.9.21"
  }
 },
 "nbformat": 4,
 "nbformat_minor": 4
}
