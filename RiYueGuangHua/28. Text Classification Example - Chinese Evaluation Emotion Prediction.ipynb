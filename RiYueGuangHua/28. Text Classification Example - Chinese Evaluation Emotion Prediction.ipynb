{
 "cells": [
  {
   "cell_type": "markdown",
   "metadata": {},
   "source": [
    "# 文本分类实例 - 中文评价情绪预测（Text Classification Example - Chinese Evaluation Emotion Prediction）"
   ]
  },
  {
   "cell_type": "markdown",
   "metadata": {},
   "source": [
    "### 数据集: 某外卖平台收集的用户评价，正向 4000 条，负向 约 8000 条"
   ]
  },
  {
   "cell_type": "markdown",
   "metadata": {},
   "source": [
    "## 字段说明\n",
    "\n",
    "| 字段 | 说明 |\n",
    "| ---- | ---- |\n",
    "| label | 1 表示正向评论，0 表示负向评论 |\n",
    "| review | 评论内容 |"
   ]
  },
  {
   "cell_type": "markdown",
   "metadata": {},
   "source": [
    "安装 jieba 和 pandas\n",
    "\n",
    "     pip install pandas jieba sklearn -i https://pypi.doubanio.com/simple"
   ]
  },
  {
   "cell_type": "code",
   "execution_count": 1,
   "metadata": {},
   "outputs": [],
   "source": [
    "import torch\n",
    "import torchtext\n",
    "import torch.nn as nn\n",
    "import torch.nn.functional as F\n",
    "import numpy as np\n",
    "import pandas as pd\n",
    "import jieba\n",
    "import matplotlib.pyplot as plt\n",
    "%matplotlib inline"
   ]
  },
  {
   "cell_type": "markdown",
   "metadata": {},
   "source": [
    "## 数据读取和观察"
   ]
  },
  {
   "cell_type": "code",
   "execution_count": 2,
   "metadata": {},
   "outputs": [],
   "source": [
    "# 读取数据\n",
    "data = pd.read_csv('./dataset/waimai_10k.csv')"
   ]
  },
  {
   "cell_type": "code",
   "execution_count": 3,
   "metadata": {},
   "outputs": [
    {
     "data": {
      "application/vnd.microsoft.datawrangler.viewer.v0+json": {
       "columns": [
        {
         "name": "index",
         "rawType": "int64",
         "type": "integer"
        },
        {
         "name": "label",
         "rawType": "int64",
         "type": "integer"
        },
        {
         "name": "review",
         "rawType": "object",
         "type": "string"
        }
       ],
       "ref": "906f1e30-a4e6-45e0-96e8-9a04993b3f48",
       "rows": [
        [
         "0",
         "1",
         "很快，好吃，味道足，量大"
        ],
        [
         "1",
         "1",
         "没有送水没有送水没有送水"
        ],
        [
         "2",
         "1",
         "非常快，态度好。"
        ],
        [
         "3",
         "1",
         "方便，快捷，味道可口，快递给力"
        ],
        [
         "4",
         "1",
         "菜味道很棒！送餐很及时！"
        ]
       ],
       "shape": {
        "columns": 2,
        "rows": 5
       }
      },
      "text/html": [
       "<div>\n",
       "<style scoped>\n",
       "    .dataframe tbody tr th:only-of-type {\n",
       "        vertical-align: middle;\n",
       "    }\n",
       "\n",
       "    .dataframe tbody tr th {\n",
       "        vertical-align: top;\n",
       "    }\n",
       "\n",
       "    .dataframe thead th {\n",
       "        text-align: right;\n",
       "    }\n",
       "</style>\n",
       "<table border=\"1\" class=\"dataframe\">\n",
       "  <thead>\n",
       "    <tr style=\"text-align: right;\">\n",
       "      <th></th>\n",
       "      <th>label</th>\n",
       "      <th>review</th>\n",
       "    </tr>\n",
       "  </thead>\n",
       "  <tbody>\n",
       "    <tr>\n",
       "      <th>0</th>\n",
       "      <td>1</td>\n",
       "      <td>很快，好吃，味道足，量大</td>\n",
       "    </tr>\n",
       "    <tr>\n",
       "      <th>1</th>\n",
       "      <td>1</td>\n",
       "      <td>没有送水没有送水没有送水</td>\n",
       "    </tr>\n",
       "    <tr>\n",
       "      <th>2</th>\n",
       "      <td>1</td>\n",
       "      <td>非常快，态度好。</td>\n",
       "    </tr>\n",
       "    <tr>\n",
       "      <th>3</th>\n",
       "      <td>1</td>\n",
       "      <td>方便，快捷，味道可口，快递给力</td>\n",
       "    </tr>\n",
       "    <tr>\n",
       "      <th>4</th>\n",
       "      <td>1</td>\n",
       "      <td>菜味道很棒！送餐很及时！</td>\n",
       "    </tr>\n",
       "  </tbody>\n",
       "</table>\n",
       "</div>"
      ],
      "text/plain": [
       "   label           review\n",
       "0      1     很快，好吃，味道足，量大\n",
       "1      1     没有送水没有送水没有送水\n",
       "2      1         非常快，态度好。\n",
       "3      1  方便，快捷，味道可口，快递给力\n",
       "4      1     菜味道很棒！送餐很及时！"
      ]
     },
     "execution_count": 3,
     "metadata": {},
     "output_type": "execute_result"
    }
   ],
   "source": [
    "# 查看数据\n",
    "data.head()"
   ]
  },
  {
   "cell_type": "code",
   "execution_count": 4,
   "metadata": {},
   "outputs": [
    {
     "name": "stdout",
     "output_type": "stream",
     "text": [
      "<class 'pandas.core.frame.DataFrame'>\n",
      "RangeIndex: 11987 entries, 0 to 11986\n",
      "Data columns (total 2 columns):\n",
      " #   Column  Non-Null Count  Dtype \n",
      "---  ------  --------------  ----- \n",
      " 0   label   11987 non-null  int64 \n",
      " 1   review  11987 non-null  object\n",
      "dtypes: int64(1), object(1)\n",
      "memory usage: 187.4+ KB\n"
     ]
    }
   ],
   "source": [
    "# 查看数据集信息\n",
    "data.info()"
   ]
  },
  {
   "cell_type": "code",
   "execution_count": 5,
   "metadata": {},
   "outputs": [
    {
     "data": {
      "application/vnd.microsoft.datawrangler.viewer.v0+json": {
       "columns": [
        {
         "name": "index",
         "rawType": "int64",
         "type": "integer"
        },
        {
         "name": "label",
         "rawType": "int64",
         "type": "integer"
        }
       ],
       "ref": "c4a2b4f5-ae77-4266-bd26-d72e51fe593c",
       "rows": [
        [
         "0",
         "7987"
        ],
        [
         "1",
         "4000"
        ]
       ],
       "shape": {
        "columns": 1,
        "rows": 2
       }
      },
      "text/plain": [
       "0    7987\n",
       "1    4000\n",
       "Name: label, dtype: int64"
      ]
     },
     "execution_count": 5,
     "metadata": {},
     "output_type": "execute_result"
    }
   ],
   "source": [
    "# 查看数据集标签分布\n",
    "data.label.value_counts()"
   ]
  },
  {
   "cell_type": "markdown",
   "metadata": {},
   "source": [
    "## 对文本数据进行分词"
   ]
  },
  {
   "cell_type": "code",
   "execution_count": 6,
   "metadata": {},
   "outputs": [],
   "source": [
    "# 文本处理函数，去除标点符号，分词\n",
    "def pre_text(text):\n",
    "    text = text.replace('！', '').replace('，', '').replace('。', '')\n",
    "    return jieba.lcut(text)"
   ]
  },
  {
   "cell_type": "code",
   "execution_count": 7,
   "metadata": {},
   "outputs": [
    {
     "name": "stderr",
     "output_type": "stream",
     "text": [
      "Building prefix dict from the default dictionary ...\n",
      "Loading model from cache C:\\Users\\LIUBAI~1\\AppData\\Local\\Temp\\jieba.cache\n",
      "Loading model cost 0.669 seconds.\n",
      "Prefix dict has been built successfully.\n"
     ]
    }
   ],
   "source": [
    "# 对文本进行预处理、分词\n",
    "data['review'] = data.review.apply(pre_text)"
   ]
  },
  {
   "cell_type": "code",
   "execution_count": 8,
   "metadata": {},
   "outputs": [
    {
     "data": {
      "application/vnd.microsoft.datawrangler.viewer.v0+json": {
       "columns": [
        {
         "name": "index",
         "rawType": "int64",
         "type": "integer"
        },
        {
         "name": "review",
         "rawType": "object",
         "type": "string"
        }
       ],
       "ref": "884580f0-6ba1-4ee5-966c-e320beab34a8",
       "rows": [
        [
         "0",
         "['很快', '好吃', '味道', '足量', '大']"
        ],
        [
         "1",
         "['没有', '送水', '没有', '送水', '没有', '送水']"
        ],
        [
         "2",
         "['非常', '快', '态度', '好']"
        ],
        [
         "3",
         "['方便快捷', '味道', '可口', '快', '递给', '力']"
        ],
        [
         "4",
         "['菜', '味道', '很棒', '送餐', '很', '及时']"
        ],
        [
         "5",
         "['今天', '师傅', '是不是', '手抖', '了', '微辣', '格外', '辣']"
        ],
        [
         "6",
         "['送餐', '快', ',', '态度', '也', '特别', '好', ',', '辛苦', '啦', '谢谢']"
        ],
        [
         "7",
         "['超级', '快', '就', '送到', '了', '这么', '冷', '的', '天气', '骑士', '们', '辛苦', '了', '谢谢你们', '麻辣', '香锅', '依然', '很', '好吃']"
        ],
        [
         "8",
         "['经过', '上次', '晚', '了', '2', '小时', '这次', '超级', '快', '20', '分钟', '就', '送到', '了', '…', '…']"
        ],
        [
         "9",
         "['最后', '五分钟', '订', '的', '卖家', '特别', '好', '接单', '了', '谢谢']"
        ],
        [
         "10",
         "['量', '大', '好吃', '每次', '点', '的', '都', '够吃', '两次']"
        ],
        [
         "11",
         "['挺辣', '的', '吃', '着', '还', '可以', '吧']"
        ],
        [
         "12",
         "['味道', '好', '送', '餐快', '分量', '足']"
        ],
        [
         "13",
         "['量足', '好吃', '送餐', '也', '快']"
        ],
        [
         "14",
         "['特别', '好吃', '量', '特大', '而且', '送餐', '特别', '快', '特别', '特别', '棒']"
        ],
        [
         "15",
         "['口感', '好', '的', '很', '速度', '快']"
        ],
        [
         "16",
         "['相当', '好吃', '的', '香锅', '分量', '够', '足', '味道', '也', '没', '的', '说']"
        ],
        [
         "17",
         "['好吃', '速度', '包装', '也', '有', '品质', '不', '出', '家门', '就', '能', '吃', '到', '餐厅', '的', '味道']"
        ],
        [
         "18",
         "['味道', '好极', '啦', '送餐', '很快', '师傅', '辛苦', '啦']"
        ],
        [
         "19",
         "['量', '大', '味道', '好', '送餐', '师傅', '都', '很', '好']"
        ],
        [
         "20",
         "['送餐', '师傅', '很', '好', '味道', '好极', '啦']"
        ],
        [
         "21",
         "['送货', '速度', '很快', '一直', '定', '这家', '赞']"
        ],
        [
         "22",
         "['很', '方便', '很快', '就', '送到', '了', '棒']"
        ],
        [
         "23",
         "['好吃', '总点', '这么', '多够', '五个', '人', '吃', '送', '的', '很快']"
        ],
        [
         "24",
         "['很香', '很', '美味', ',', '下次', '还会', '光顾']"
        ],
        [
         "25",
         "['送餐', '特别', '快', ',', '态度', '也好', ',', '辛苦', '啦']"
        ],
        [
         "26",
         "['服务', '很', '不错', '送到', '的', '很快', '半小时', '不到', '就', '送来', '了']"
        ],
        [
         "27",
         "['速度', '很快', '大雾', '霾', '天', '外卖', '骑士', '态度', '都', '很', '好', '赞赞赞']"
        ],
        [
         "28",
         "['味道', '正宗', '量', '大', '内容', '多']"
        ],
        [
         "29",
         "['送餐', '非常', '快', ',', '态度', '特别', '好', ',', '谢谢']"
        ],
        [
         "30",
         "['又快又好', '量足', '经常', '吃']"
        ],
        [
         "31",
         "['好大', '一盆', '点', '了', '7', '个', '小', '份量', '足']"
        ],
        [
         "32",
         "['配送', '人员', '态度', '好', '速度', '快']"
        ],
        [
         "33",
         "['在', '这种', '天气', '里', '感谢', '送', '餐员', '的', '辛苦', '服务', ',', '谢谢', '啦']"
        ],
        [
         "34",
         "['送餐', '特别', '快', ',', '态度', '好', ',', '非常感谢']"
        ],
        [
         "35",
         "['送', '的', '非常', '快', '包装', '好', '谢谢', '师傅']"
        ],
        [
         "36",
         "['附近', '最', '好吃', '的', '麻辣', '香锅', '不', '开玩笑', '的']"
        ],
        [
         "37",
         "['味道', '不错', '份量', '很足', '建议', '都', '点小份', '红薯', '超', '好吃', '就是', '太烂', '了', '容易', '碎']"
        ],
        [
         "38",
         "['还', '不错', '就是', '稍微', '咸了', '点']"
        ],
        [
         "39",
         "['这么晚', '辛苦', '外卖', '小哥', '了']"
        ],
        [
         "40",
         "['超级', '快', '就', '送到', '了', '谢谢', '骑士', '很快', '感谢', '骑士', '这种', '天气', '还', '在', '工作']"
        ],
        [
         "41",
         "['非常', '好吃', '味道', '也', '很', '香', '推荐']"
        ],
        [
         "42",
         "['很', '好吃', ',', '速递', '快', ',', '下次', '继续', '选择']"
        ],
        [
         "43",
         "['很快', '特别', '好']"
        ],
        [
         "44",
         "['太麻', '了', '青笋', '有点', '小米饭', '给', '的', '也', '不', '多', '土豆片', '都', '碎', '了', '找', '不到', '了']"
        ],
        [
         "45",
         "['点', '了', '太', '多次', '了', '味道', '很香']"
        ],
        [
         "46",
         "['态度', '很', '好', ',', '地址', '填错', '了', '还是', '给', '我', '跑', '了', '一趟', ',', '没有', '表现', '出', '不', '愿意', '的', '样子', ',', '为了', '这个', '快递', '员', ',', '我', '写', '了', '评论']"
        ],
        [
         "47",
         "['快递', '小哥', '很快', '就', '送到', '了', '赞水', '煮', '牛肉', '肉质', '鲜嫩', '辣', '的', '恰到好处', '也', '很', '入味', '不错', '挺好吃', '的']"
        ],
        [
         "48",
         "['口味', ',', '不错', '干净', '味道', '好', '送货员', '服务', '非常', '好']"
        ],
        [
         "49",
         "['送餐', '特别', '快', ',', '态度', '好', ',', '辛苦', '啦', ',', '谢谢']"
        ]
       ],
       "shape": {
        "columns": 1,
        "rows": 11987
       }
      },
      "text/plain": [
       "0                                      [很快, 好吃, 味道, 足量, 大]\n",
       "1                                 [没有, 送水, 没有, 送水, 没有, 送水]\n",
       "2                                           [非常, 快, 态度, 好]\n",
       "3                                 [方便快捷, 味道, 可口, 快, 递给, 力]\n",
       "4                                   [菜, 味道, 很棒, 送餐, 很, 及时]\n",
       "                               ...                        \n",
       "11982                   [以前, 几乎, 天天, 吃, 现在, 调料, 什么, 都, 不放]\n",
       "11983    [昨天, 订, 凉皮, 两份, 什么, 调料, 都, 没有, 放, 就, 放, 了, 点, ...\n",
       "11984                                  [凉皮, 太辣, ,, 吃不下, 都]\n",
       "11985                                [本来, 迟到, 了, 还, 自己, 点]\n",
       "11986    [肉夹馍, 不错, 羊肉, 泡馍, 酱肉, 包, 很, 一般, 凉面, 没, 想象, 中, ...\n",
       "Name: review, Length: 11987, dtype: object"
      ]
     },
     "execution_count": 8,
     "metadata": {},
     "output_type": "execute_result"
    }
   ],
   "source": [
    "# 查看分词后的数据\n",
    "data.review"
   ]
  }
 ],
 "metadata": {
  "kernelspec": {
   "display_name": "pytorch1.7.1",
   "language": "python",
   "name": "pytorch1.7.1"
  },
  "language_info": {
   "codemirror_mode": {
    "name": "ipython",
    "version": 3
   },
   "file_extension": ".py",
   "mimetype": "text/x-python",
   "name": "python",
   "nbconvert_exporter": "python",
   "pygments_lexer": "ipython3",
   "version": "3.8.18"
  }
 },
 "nbformat": 4,
 "nbformat_minor": 2
}
