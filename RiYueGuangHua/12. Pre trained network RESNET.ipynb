{
 "cells": [
  {
   "cell_type": "markdown",
   "metadata": {},
   "source": [
    "# 四种天气图片的分类和预训练网络RESNET"
   ]
  },
  {
   "cell_type": "markdown",
   "metadata": {},
   "source": [
    "## RESNET"
   ]
  },
  {
   "cell_type": "markdown",
   "metadata": {},
   "source": [
    "**RESNET：**\n",
    "RESNET是一种深度卷积神经网络，它通过引入残差学习来解决深度神经网络中的梯度消失和梯度爆炸问题。RESNET网络的结构非常复杂，它使用了大量的卷积层和池化层，以及跳跃连接（skip connection）来构建网络。\n",
    "\n",
    "**RESNET18：**\n",
    "RESNET18是一种简化版的RESNET网络，它只有18层，但是它的性能已经超过了VGG16和VGG19。\n",
    "\n",
    "**RESNET18和RESNET50网络结构图：**\n",
    "\n",
    "![RESNET18&50.png](./imgs/RESNET18&50.png)\n",
    "\n",
    "**RESNET系列网络结构：**\n",
    "\n",
    "![RESNET.png](./imgs/RESNET.png)\n",
    "\n",
    "------"
   ]
  },
  {
   "cell_type": "markdown",
   "metadata": {},
   "source": [
    "## 导入库"
   ]
  },
  {
   "cell_type": "code",
   "execution_count": 1,
   "metadata": {},
   "outputs": [],
   "source": [
    "import torch\n",
    "import torch.nn as nn\n",
    "import torch.nn.functional as F\n",
    "import torch.optim as optim\n",
    "import numpy as np\n",
    "import matplotlib.pyplot as plt\n",
    "%matplotlib inline\n",
    "import torchvision\n",
    "import os"
   ]
  },
  {
   "cell_type": "markdown",
   "metadata": {},
   "source": [
    "## 读取图片"
   ]
  },
  {
   "cell_type": "code",
   "execution_count": 2,
   "metadata": {},
   "outputs": [],
   "source": [
    "from torchvision import transforms\n",
    "\n",
    "# 定义数据增强方法\n",
    "train_transform = transforms.Compose([\n",
    "    transforms.Resize(224),                       # 将图片缩放到224, 224\n",
    "    transforms.RandomCrop(192),                   # 随机裁剪192, 192\n",
    "    transforms.RandomHorizontalFlip(),            # 随机水平翻转，默认概率为0.5\n",
    "    transforms.RandomRotation(0.2),               # 随机旋转0.2弧度\n",
    "    transforms.ColorJitter(brightness=0.5),       # 亮度调整\n",
    "    transforms.ColorJitter(contrast=0.5),         # 对比度调整\n",
    "    transforms.ToTensor(),                        # 将图片转换为张量\n",
    "    transforms.Normalize(mean=[0.5, 0.5, 0.5],\n",
    "                        std=[0.5, 0.5, 0.5])      # 将图片的每个通道的像素值减去均值，再除以标准差，使像素值均值为0，标准差为1\n",
    "])\n",
    "\n",
    "# 测试集不需要数据增强\n",
    "test_transform = transforms.Compose([\n",
    "    transforms.Resize((192, 192)),                # 将图片缩放到192, 192（VGG卷积深度较深，输入图片大小不能过小）\n",
    "    transforms.ToTensor(),                        # 将图片转换为张量\n",
    "    transforms.Normalize(mean=[0.5, 0.5, 0.5],\n",
    "                        std=[0.5, 0.5, 0.5])      # 将图片的每个通道的像素值减去均值，再除以标准差，使像素值均值为0，标准差为1\n",
    "])"
   ]
  },
  {
   "cell_type": "code",
   "execution_count": 3,
   "metadata": {},
   "outputs": [],
   "source": [
    "base_dir = r'./dataset/4weather'\n",
    "train_dir = os.path.join(base_dir , 'train')\n",
    "test_dir = os.path.join(base_dir , 'test')\n",
    "# 读取训练集和测试集的图片\n",
    "train_ds = torchvision.datasets.ImageFolder(\n",
    "               train_dir,\n",
    "               transform=train_transform\n",
    ")\n",
    "test_ds = torchvision.datasets.ImageFolder(\n",
    "               test_dir,\n",
    "               transform=test_transform\n",
    ")"
   ]
  },
  {
   "cell_type": "markdown",
   "metadata": {},
   "source": [
    "## 加载和查看数据"
   ]
  },
  {
   "cell_type": "code",
   "execution_count": 4,
   "metadata": {},
   "outputs": [],
   "source": [
    "# 加载数据集，划分批次\n",
    "BATCHSIZE = 32\n",
    "train_dl = torch.utils.data.DataLoader(\n",
    "                                       train_ds,\n",
    "                                       batch_size=BATCHSIZE,\n",
    "                                       shuffle=True\n",
    ")\n",
    "test_dl = torch.utils.data.DataLoader(\n",
    "                                       test_ds,\n",
    "                                       batch_size=BATCHSIZE,\n",
    ")"
   ]
  },
  {
   "cell_type": "markdown",
   "metadata": {},
   "source": [
    "## 实例化RESNET18模型"
   ]
  },
  {
   "cell_type": "code",
   "execution_count": 5,
   "metadata": {},
   "outputs": [
    {
     "name": "stderr",
     "output_type": "stream",
     "text": [
      "Downloading: \"https://download.pytorch.org/models/resnet18-f37072fd.pth\" to C:\\Users\\LiuBaiWan/.cache\\torch\\hub\\checkpoints\\resnet18-f37072fd.pth\n",
      "100.0%\n"
     ]
    },
    {
     "data": {
      "text/plain": [
       "ResNet(\n",
       "  (conv1): Conv2d(3, 64, kernel_size=(7, 7), stride=(2, 2), padding=(3, 3), bias=False)\n",
       "  (bn1): BatchNorm2d(64, eps=1e-05, momentum=0.1, affine=True, track_running_stats=True)\n",
       "  (relu): ReLU(inplace=True)\n",
       "  (maxpool): MaxPool2d(kernel_size=3, stride=2, padding=1, dilation=1, ceil_mode=False)\n",
       "  (layer1): Sequential(\n",
       "    (0): BasicBlock(\n",
       "      (conv1): Conv2d(64, 64, kernel_size=(3, 3), stride=(1, 1), padding=(1, 1), bias=False)\n",
       "      (bn1): BatchNorm2d(64, eps=1e-05, momentum=0.1, affine=True, track_running_stats=True)\n",
       "      (relu): ReLU(inplace=True)\n",
       "      (conv2): Conv2d(64, 64, kernel_size=(3, 3), stride=(1, 1), padding=(1, 1), bias=False)\n",
       "      (bn2): BatchNorm2d(64, eps=1e-05, momentum=0.1, affine=True, track_running_stats=True)\n",
       "    )\n",
       "    (1): BasicBlock(\n",
       "      (conv1): Conv2d(64, 64, kernel_size=(3, 3), stride=(1, 1), padding=(1, 1), bias=False)\n",
       "      (bn1): BatchNorm2d(64, eps=1e-05, momentum=0.1, affine=True, track_running_stats=True)\n",
       "      (relu): ReLU(inplace=True)\n",
       "      (conv2): Conv2d(64, 64, kernel_size=(3, 3), stride=(1, 1), padding=(1, 1), bias=False)\n",
       "      (bn2): BatchNorm2d(64, eps=1e-05, momentum=0.1, affine=True, track_running_stats=True)\n",
       "    )\n",
       "  )\n",
       "  (layer2): Sequential(\n",
       "    (0): BasicBlock(\n",
       "      (conv1): Conv2d(64, 128, kernel_size=(3, 3), stride=(2, 2), padding=(1, 1), bias=False)\n",
       "      (bn1): BatchNorm2d(128, eps=1e-05, momentum=0.1, affine=True, track_running_stats=True)\n",
       "      (relu): ReLU(inplace=True)\n",
       "      (conv2): Conv2d(128, 128, kernel_size=(3, 3), stride=(1, 1), padding=(1, 1), bias=False)\n",
       "      (bn2): BatchNorm2d(128, eps=1e-05, momentum=0.1, affine=True, track_running_stats=True)\n",
       "      (downsample): Sequential(\n",
       "        (0): Conv2d(64, 128, kernel_size=(1, 1), stride=(2, 2), bias=False)\n",
       "        (1): BatchNorm2d(128, eps=1e-05, momentum=0.1, affine=True, track_running_stats=True)\n",
       "      )\n",
       "    )\n",
       "    (1): BasicBlock(\n",
       "      (conv1): Conv2d(128, 128, kernel_size=(3, 3), stride=(1, 1), padding=(1, 1), bias=False)\n",
       "      (bn1): BatchNorm2d(128, eps=1e-05, momentum=0.1, affine=True, track_running_stats=True)\n",
       "      (relu): ReLU(inplace=True)\n",
       "      (conv2): Conv2d(128, 128, kernel_size=(3, 3), stride=(1, 1), padding=(1, 1), bias=False)\n",
       "      (bn2): BatchNorm2d(128, eps=1e-05, momentum=0.1, affine=True, track_running_stats=True)\n",
       "    )\n",
       "  )\n",
       "  (layer3): Sequential(\n",
       "    (0): BasicBlock(\n",
       "      (conv1): Conv2d(128, 256, kernel_size=(3, 3), stride=(2, 2), padding=(1, 1), bias=False)\n",
       "      (bn1): BatchNorm2d(256, eps=1e-05, momentum=0.1, affine=True, track_running_stats=True)\n",
       "      (relu): ReLU(inplace=True)\n",
       "      (conv2): Conv2d(256, 256, kernel_size=(3, 3), stride=(1, 1), padding=(1, 1), bias=False)\n",
       "      (bn2): BatchNorm2d(256, eps=1e-05, momentum=0.1, affine=True, track_running_stats=True)\n",
       "      (downsample): Sequential(\n",
       "        (0): Conv2d(128, 256, kernel_size=(1, 1), stride=(2, 2), bias=False)\n",
       "        (1): BatchNorm2d(256, eps=1e-05, momentum=0.1, affine=True, track_running_stats=True)\n",
       "      )\n",
       "    )\n",
       "    (1): BasicBlock(\n",
       "      (conv1): Conv2d(256, 256, kernel_size=(3, 3), stride=(1, 1), padding=(1, 1), bias=False)\n",
       "      (bn1): BatchNorm2d(256, eps=1e-05, momentum=0.1, affine=True, track_running_stats=True)\n",
       "      (relu): ReLU(inplace=True)\n",
       "      (conv2): Conv2d(256, 256, kernel_size=(3, 3), stride=(1, 1), padding=(1, 1), bias=False)\n",
       "      (bn2): BatchNorm2d(256, eps=1e-05, momentum=0.1, affine=True, track_running_stats=True)\n",
       "    )\n",
       "  )\n",
       "  (layer4): Sequential(\n",
       "    (0): BasicBlock(\n",
       "      (conv1): Conv2d(256, 512, kernel_size=(3, 3), stride=(2, 2), padding=(1, 1), bias=False)\n",
       "      (bn1): BatchNorm2d(512, eps=1e-05, momentum=0.1, affine=True, track_running_stats=True)\n",
       "      (relu): ReLU(inplace=True)\n",
       "      (conv2): Conv2d(512, 512, kernel_size=(3, 3), stride=(1, 1), padding=(1, 1), bias=False)\n",
       "      (bn2): BatchNorm2d(512, eps=1e-05, momentum=0.1, affine=True, track_running_stats=True)\n",
       "      (downsample): Sequential(\n",
       "        (0): Conv2d(256, 512, kernel_size=(1, 1), stride=(2, 2), bias=False)\n",
       "        (1): BatchNorm2d(512, eps=1e-05, momentum=0.1, affine=True, track_running_stats=True)\n",
       "      )\n",
       "    )\n",
       "    (1): BasicBlock(\n",
       "      (conv1): Conv2d(512, 512, kernel_size=(3, 3), stride=(1, 1), padding=(1, 1), bias=False)\n",
       "      (bn1): BatchNorm2d(512, eps=1e-05, momentum=0.1, affine=True, track_running_stats=True)\n",
       "      (relu): ReLU(inplace=True)\n",
       "      (conv2): Conv2d(512, 512, kernel_size=(3, 3), stride=(1, 1), padding=(1, 1), bias=False)\n",
       "      (bn2): BatchNorm2d(512, eps=1e-05, momentum=0.1, affine=True, track_running_stats=True)\n",
       "    )\n",
       "  )\n",
       "  (avgpool): AdaptiveAvgPool2d(output_size=(1, 1))\n",
       "  (fc): Linear(in_features=512, out_features=1000, bias=True)\n",
       ")"
      ]
     },
     "execution_count": 5,
     "metadata": {},
     "output_type": "execute_result"
    }
   ],
   "source": [
    "model = torchvision.models.resnet18(weights='IMAGENET1K_V1')\n",
    "model"
   ]
  },
  {
   "cell_type": "code",
   "execution_count": 6,
   "metadata": {},
   "outputs": [
    {
     "data": {
      "text/plain": [
       "VGG(\n",
       "  (features): Sequential(\n",
       "    (0): Conv2d(3, 64, kernel_size=(3, 3), stride=(1, 1), padding=(1, 1))\n",
       "    (1): ReLU(inplace=True)\n",
       "    (2): Conv2d(64, 64, kernel_size=(3, 3), stride=(1, 1), padding=(1, 1))\n",
       "    (3): ReLU(inplace=True)\n",
       "    (4): MaxPool2d(kernel_size=2, stride=2, padding=0, dilation=1, ceil_mode=False)\n",
       "    (5): Conv2d(64, 128, kernel_size=(3, 3), stride=(1, 1), padding=(1, 1))\n",
       "    (6): ReLU(inplace=True)\n",
       "    (7): Conv2d(128, 128, kernel_size=(3, 3), stride=(1, 1), padding=(1, 1))\n",
       "    (8): ReLU(inplace=True)\n",
       "    (9): MaxPool2d(kernel_size=2, stride=2, padding=0, dilation=1, ceil_mode=False)\n",
       "    (10): Conv2d(128, 256, kernel_size=(3, 3), stride=(1, 1), padding=(1, 1))\n",
       "    (11): ReLU(inplace=True)\n",
       "    (12): Conv2d(256, 256, kernel_size=(3, 3), stride=(1, 1), padding=(1, 1))\n",
       "    (13): ReLU(inplace=True)\n",
       "    (14): Conv2d(256, 256, kernel_size=(3, 3), stride=(1, 1), padding=(1, 1))\n",
       "    (15): ReLU(inplace=True)\n",
       "    (16): MaxPool2d(kernel_size=2, stride=2, padding=0, dilation=1, ceil_mode=False)\n",
       "    (17): Conv2d(256, 512, kernel_size=(3, 3), stride=(1, 1), padding=(1, 1))\n",
       "    (18): ReLU(inplace=True)\n",
       "    (19): Conv2d(512, 512, kernel_size=(3, 3), stride=(1, 1), padding=(1, 1))\n",
       "    (20): ReLU(inplace=True)\n",
       "    (21): Conv2d(512, 512, kernel_size=(3, 3), stride=(1, 1), padding=(1, 1))\n",
       "    (22): ReLU(inplace=True)\n",
       "    (23): MaxPool2d(kernel_size=2, stride=2, padding=0, dilation=1, ceil_mode=False)\n",
       "    (24): Conv2d(512, 512, kernel_size=(3, 3), stride=(1, 1), padding=(1, 1))\n",
       "    (25): ReLU(inplace=True)\n",
       "    (26): Conv2d(512, 512, kernel_size=(3, 3), stride=(1, 1), padding=(1, 1))\n",
       "    (27): ReLU(inplace=True)\n",
       "    (28): Conv2d(512, 512, kernel_size=(3, 3), stride=(1, 1), padding=(1, 1))\n",
       "    (29): ReLU(inplace=True)\n",
       "    (30): MaxPool2d(kernel_size=2, stride=2, padding=0, dilation=1, ceil_mode=False)\n",
       "  )\n",
       "  (avgpool): AdaptiveAvgPool2d(output_size=(7, 7))\n",
       "  (classifier): Sequential(\n",
       "    (0): Linear(in_features=25088, out_features=4096, bias=True)\n",
       "    (1): ReLU(inplace=True)\n",
       "    (2): Dropout(p=0.5, inplace=False)\n",
       "    (3): Linear(in_features=4096, out_features=4096, bias=True)\n",
       "    (4): ReLU(inplace=True)\n",
       "    (5): Dropout(p=0.5, inplace=False)\n",
       "    (6): Linear(in_features=4096, out_features=512, bias=True)\n",
       "    (fc7): ReLU(inplace=True)\n",
       "    (fc8): Dropout(p=0.5, inplace=False)\n",
       "    (fc9): Linear(in_features=512, out_features=4, bias=True)\n",
       "  )\n",
       ")"
      ]
     },
     "execution_count": 6,
     "metadata": {},
     "output_type": "execute_result"
    }
   ],
   "source": [
    "# 冻结卷积层\n",
    "for param in model.features.parameters():\n",
    "    param.requires_grad = False\n",
    "\n",
    "# # 修改全连接层\n",
    "# model.classifier[-1].out_features = 4\n",
    "\n",
    "# 修改全连接层\n",
    "model.classifier[6] = nn.Linear(4096, 512)\n",
    "model.classifier.add_module('fc7', nn.ReLU(inplace=True))\n",
    "model.classifier.add_module('fc8', nn.Dropout(p=0.5, inplace=False))\n",
    "model.classifier.add_module('fc9', nn.Linear(512, 4))\n",
    "model"
   ]
  },
  {
   "cell_type": "markdown",
   "metadata": {},
   "source": [
    "## 训练模型"
   ]
  },
  {
   "cell_type": "code",
   "execution_count": 7,
   "metadata": {},
   "outputs": [],
   "source": [
    "# 训练前准备，定义模型、损失函数、优化器\n",
    "device = torch.device('cuda' if torch.cuda.is_available() else 'cpu') # 判断是否有GPU，如果有则使用GPU，否则使用CPU\n",
    "model.to(device) # 将已实例化的模型移动到GPU上\n",
    "\n",
    "loss_fn = torch.nn.CrossEntropyLoss()  # 损失函数，交叉熵损失函数，使用未激活的输出作为输入，内置了softmax函数为激活函数，输出为每个类别的概率\n",
    "opt = torch.optim.Adam(model.classifier.parameters(), lr=0.0001) # 优化器，Adam优化器，学习率为0.0001\n",
    "\n",
    "# 学习率调整器\n",
    "from torch.optim import lr_scheduler\n",
    "\n",
    "# # 手动调整学习率\n",
    "# for param_group in opt.param_groups:\n",
    "#     print(param_group['lr'])\n",
    "#     param_group['lr'] *= 0.9\n",
    "\n",
    "exp_lr_scheduler = lr_scheduler.StepLR(opt, step_size=3, gamma=0.5) # 每隔3个epoch，学习率衰减为原来的0.5倍\n",
    "\n",
    "# lr_scheduler.MultiStepLR(opt, milestones=[5, 10, 15, 20], gamma=0.5) # 每隔5个epoch，学习率衰减为原来的0.1倍\n",
    "# lr_scheduler.ExponentialLR(opt, gamma=0.5) # 每个epoch，学习率衰减为原来的0.5倍\n",
    "epochs = 20"
   ]
  },
  {
   "cell_type": "code",
   "execution_count": 8,
   "metadata": {},
   "outputs": [
    {
     "name": "stdout",
     "output_type": "stream",
     "text": [
      "Epoch: 0, Train Loss: 0.6861, Train Acc: 73.78%, Test Loss: 0.1755, Test Acc: 93.33%\n",
      "Epoch: 1, Train Loss: 0.2089, Train Acc: 92.33%, Test Loss: 0.1433, Test Acc: 95.11%\n",
      "Epoch: 2, Train Loss: 0.1700, Train Acc: 93.56%, Test Loss: 0.1379, Test Acc: 95.56%\n",
      "Epoch: 3, Train Loss: 0.1324, Train Acc: 95.78%, Test Loss: 0.1276, Test Acc: 95.11%\n",
      "Epoch: 4, Train Loss: 0.0993, Train Acc: 96.11%, Test Loss: 0.1265, Test Acc: 95.11%\n",
      "Epoch: 5, Train Loss: 0.0708, Train Acc: 97.22%, Test Loss: 0.1355, Test Acc: 95.56%\n",
      "Epoch: 6, Train Loss: 0.1166, Train Acc: 96.00%, Test Loss: 0.1271, Test Acc: 94.22%\n",
      "Epoch: 7, Train Loss: 0.0631, Train Acc: 98.22%, Test Loss: 0.1216, Test Acc: 95.11%\n",
      "Epoch: 8, Train Loss: 0.0552, Train Acc: 97.44%, Test Loss: 0.1234, Test Acc: 95.56%\n",
      "Epoch: 9, Train Loss: 0.0819, Train Acc: 96.89%, Test Loss: 0.1249, Test Acc: 95.56%\n",
      "Epoch: 10, Train Loss: 0.0478, Train Acc: 98.33%, Test Loss: 0.1221, Test Acc: 95.11%\n",
      "Epoch: 11, Train Loss: 0.0539, Train Acc: 98.22%, Test Loss: 0.1240, Test Acc: 96.00%\n",
      "Epoch: 12, Train Loss: 0.0539, Train Acc: 98.44%, Test Loss: 0.1233, Test Acc: 96.44%\n",
      "Epoch: 13, Train Loss: 0.0681, Train Acc: 97.00%, Test Loss: 0.1239, Test Acc: 96.00%\n",
      "Epoch: 14, Train Loss: 0.0613, Train Acc: 97.22%, Test Loss: 0.1206, Test Acc: 96.44%\n",
      "Epoch: 15, Train Loss: 0.0770, Train Acc: 96.67%, Test Loss: 0.1202, Test Acc: 96.00%\n",
      "Epoch: 16, Train Loss: 0.0587, Train Acc: 98.11%, Test Loss: 0.1209, Test Acc: 95.56%\n",
      "Epoch: 17, Train Loss: 0.0497, Train Acc: 98.11%, Test Loss: 0.1207, Test Acc: 95.56%\n",
      "Epoch: 18, Train Loss: 0.0523, Train Acc: 98.44%, Test Loss: 0.1209, Test Acc: 95.56%\n",
      "Epoch: 19, Train Loss: 0.0750, Train Acc: 97.56%, Test Loss: 0.1208, Test Acc: 96.00%\n"
     ]
    }
   ],
   "source": [
    "# 通用训练模板，输入模型、训练数据、测试数据，返回loss和acc变化\n",
    "# 训练函数\n",
    "def train(train_dl, model, loss_fn, opt):\n",
    "    size = len(train_dl.dataset) # 获取数据集的大小\n",
    "    num_batches = len(train_dl) # 获取数据集的批次数量\n",
    "\n",
    "    train_loss = 0.0 # 训练集损失\n",
    "    train_acc = 0.0 # 训练集准确率\n",
    "\n",
    "    for x, y in train_dl: # 遍历数据集\n",
    "        x, y = x.to(device), y.to(device) # 将数据移动到GPU上\n",
    "\n",
    "        pred = model(x) # 前向传播\n",
    "        loss = loss_fn(pred, y) # 计算损失\n",
    "\n",
    "        opt.zero_grad() # 梯度清零\n",
    "        loss.backward() # 反向传播\n",
    "        opt.step() # 更新参数\n",
    "\n",
    "        with torch.no_grad(): # 不计算梯度\n",
    "            train_loss += loss.item() # 计算损失\n",
    "            train_acc += (pred.argmax(dim=1) == y).type(torch.float).sum().item() # 计算准确率\n",
    "\n",
    "    exp_lr_scheduler.step() # 学习率调整\n",
    "    train_loss /= num_batches # 计算平均损失\n",
    "    train_acc /= size # 计算平均准确率\n",
    "\n",
    "    return train_loss, train_acc\n",
    "\n",
    "# 测试函数\n",
    "def test(test_dl, model, loss_fn):\n",
    "    size = len(test_dl.dataset) # 获取数据集的大小\n",
    "    num_batches = len(test_dl) # 获取数据集的批次数量\n",
    "\n",
    "    test_loss = 0.0 # 测试集损失\n",
    "    test_acc = 0.0 # 测试集准确率\n",
    "\n",
    "    with torch.no_grad(): # 不计算梯度\n",
    "        for x, y in test_dl: # 遍历数据集\n",
    "            x, y = x.to(device), y.to(device) # 将数据移动到GPU上\n",
    "\n",
    "            pred = model(x) # 前向传播\n",
    "            loss = loss_fn(pred, y) # 计算损失\n",
    "            test_loss += loss.item() # 计算损失\n",
    "            test_acc += (pred.argmax(dim=1) == y).type(torch.float).sum().item() # 计算准确率\n",
    "\n",
    "    test_loss /= num_batches # 计算平均损失\n",
    "    test_acc /= size # 计算平均准确率\n",
    "\n",
    "    return test_loss, test_acc\n",
    "\n",
    "# 训练函数\n",
    "def fit(epochs, model, train_dl, test_dl, loss_fn, opt):\n",
    "    train_loss = []\n",
    "    train_acc = []\n",
    "    test_loss = []\n",
    "    test_acc = []\n",
    "\n",
    "    print_template = 'Epoch: {}, Train Loss: {:.4f}, Train Acc: {:.2f}%, Test Loss: {:.4f}, Test Acc: {:.2f}%'\n",
    "\n",
    "\n",
    "    for epoch in range(epochs):\n",
    "        model.train() # 设置模型为训练模式，启用dropout层\n",
    "        epoch_train_loss, epoch_train_acc = train(train_dl, model, loss_fn, opt)\n",
    "        model.eval() # 设置模型为评估预测模式，禁用dropout层\n",
    "        epoch_test_loss, epoch_test_acc = test(test_dl, model, loss_fn)\n",
    "\n",
    "        train_loss.append(epoch_train_loss)\n",
    "        train_acc.append(epoch_train_acc)\n",
    "        test_loss.append(epoch_test_loss)\n",
    "        test_acc.append(epoch_test_acc)\n",
    "\n",
    "        print(print_template.format(epoch, epoch_train_loss, epoch_train_acc * 100, epoch_test_loss, epoch_test_acc * 100))\n",
    "\n",
    "    return train_loss, train_acc, test_loss, test_acc\n",
    "\n",
    "# 训练\n",
    "train_loss, train_acc, test_loss, test_acc = fit(epochs, model, train_dl, test_dl, loss_fn, opt)"
   ]
  },
  {
   "cell_type": "markdown",
   "metadata": {},
   "source": [
    "## 可视化训练结果"
   ]
  },
  {
   "cell_type": "code",
   "execution_count": 9,
   "metadata": {},
   "outputs": [
    {
     "data": {
      "text/plain": [
       "<matplotlib.legend.Legend at 0x245bbe26850>"
      ]
     },
     "execution_count": 9,
     "metadata": {},
     "output_type": "execute_result"
    },
    {
     "data": {
      "image/png": "[encoded data removed]",
      "text/plain": [
       "<Figure size 640x480 with 1 Axes>"
      ]
     },
     "metadata": {},
     "output_type": "display_data"
    }
   ],
   "source": [
    "plt.plot(range(1, epochs+1), train_loss, label='train_loss')\n",
    "plt.plot(range(1, epochs+1), test_loss, label='test_loss')\n",
    "plt.legend()"
   ]
  },
  {
   "cell_type": "code",
   "execution_count": 10,
   "metadata": {},
   "outputs": [
    {
     "data": {
      "text/plain": [
       "<matplotlib.legend.Legend at 0x245acf6c640>"
      ]
     },
     "execution_count": 10,
     "metadata": {},
     "output_type": "execute_result"
    },
    {
     "data": {
      "image/png": "[encoded data removed]",
      "text/plain": [
       "<Figure size 640x480 with 1 Axes>"
      ]
     },
     "metadata": {},
     "output_type": "display_data"
    }
   ],
   "source": [
    "plt.plot(range(1, epochs+1), train_acc, label='train_acc')\n",
    "plt.plot(range(1, epochs+1), test_acc, label='test_acc')\n",
    "plt.legend()"
   ]
  }
 ],
 "metadata": {
  "kernelspec": {
   "display_name": "pytorch2.2.2",
   "language": "python",
   "name": "python3"
  },
  "language_info": {
   "codemirror_mode": {
    "name": "ipython",
    "version": 3
   },
   "file_extension": ".py",
   "mimetype": "text/x-python",
   "name": "python",
   "nbconvert_exporter": "python",
   "pygments_lexer": "ipython3",
   "version": "3.9.21"
  }
 },
 "nbformat": 4,
 "nbformat_minor": 4
}
