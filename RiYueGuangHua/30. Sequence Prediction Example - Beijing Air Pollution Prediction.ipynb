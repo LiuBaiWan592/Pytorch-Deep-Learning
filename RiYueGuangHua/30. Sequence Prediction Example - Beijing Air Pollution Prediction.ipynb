{
 "cells": [
  {
   "cell_type": "markdown",
   "metadata": {},
   "source": [
    "# 序列预测实例 - 北京空气污染预测（Sequence Prediction Example - Beijing Air Pollution Prediction）"
   ]
  },
  {
   "cell_type": "markdown",
   "metadata": {},
   "source": [
    "## 导入库"
   ]
  },
  {
   "cell_type": "code",
   "execution_count": 1,
   "metadata": {},
   "outputs": [],
   "source": [
    "import torch\n",
    "import torch.nn as nn\n",
    "import torch.nn.functional as F\n",
    "import numpy as np\n",
    "import pandas as pd\n",
    "\n",
    "import matplotlib.pyplot as plt\n",
    "%matplotlib inline"
   ]
  },
  {
   "cell_type": "markdown",
   "metadata": {},
   "source": [
    "## 数据读取与观察"
   ]
  },
  {
   "cell_type": "code",
   "execution_count": 2,
   "metadata": {},
   "outputs": [
    {
     "data": {
      "application/vnd.microsoft.datawrangler.viewer.v0+json": {
       "columns": [
        {
         "name": "index",
         "rawType": "int64",
         "type": "integer"
        },
        {
         "name": "No",
         "rawType": "int64",
         "type": "integer"
        },
        {
         "name": "year",
         "rawType": "int64",
         "type": "integer"
        },
        {
         "name": "month",
         "rawType": "int64",
         "type": "integer"
        },
        {
         "name": "day",
         "rawType": "int64",
         "type": "integer"
        },
        {
         "name": "hour",
         "rawType": "int64",
         "type": "integer"
        },
        {
         "name": "pm2.5",
         "rawType": "float64",
         "type": "float"
        },
        {
         "name": "DEWP",
         "rawType": "int64",
         "type": "integer"
        },
        {
         "name": "TEMP",
         "rawType": "float64",
         "type": "float"
        },
        {
         "name": "PRES",
         "rawType": "float64",
         "type": "float"
        },
        {
         "name": "cbwd",
         "rawType": "object",
         "type": "string"
        },
        {
         "name": "Iws",
         "rawType": "float64",
         "type": "float"
        },
        {
         "name": "Is",
         "rawType": "int64",
         "type": "integer"
        },
        {
         "name": "Ir",
         "rawType": "int64",
         "type": "integer"
        }
       ],
       "ref": "52322b05-83fc-4b77-87b1-503129b63b48",
       "rows": [
        [
         "0",
         "1",
         "2010",
         "1",
         "1",
         "0",
         null,
         "-21",
         "-11.0",
         "1021.0",
         "NW",
         "1.79",
         "0",
         "0"
        ],
        [
         "1",
         "2",
         "2010",
         "1",
         "1",
         "1",
         null,
         "-21",
         "-12.0",
         "1020.0",
         "NW",
         "4.92",
         "0",
         "0"
        ],
        [
         "2",
         "3",
         "2010",
         "1",
         "1",
         "2",
         null,
         "-21",
         "-11.0",
         "1019.0",
         "NW",
         "6.71",
         "0",
         "0"
        ],
        [
         "3",
         "4",
         "2010",
         "1",
         "1",
         "3",
         null,
         "-21",
         "-14.0",
         "1019.0",
         "NW",
         "9.84",
         "0",
         "0"
        ],
        [
         "4",
         "5",
         "2010",
         "1",
         "1",
         "4",
         null,
         "-20",
         "-12.0",
         "1018.0",
         "NW",
         "12.97",
         "0",
         "0"
        ]
       ],
       "shape": {
        "columns": 13,
        "rows": 5
       }
      },
      "text/html": [
       "<div>\n",
       "<style scoped>\n",
       "    .dataframe tbody tr th:only-of-type {\n",
       "        vertical-align: middle;\n",
       "    }\n",
       "\n",
       "    .dataframe tbody tr th {\n",
       "        vertical-align: top;\n",
       "    }\n",
       "\n",
       "    .dataframe thead th {\n",
       "        text-align: right;\n",
       "    }\n",
       "</style>\n",
       "<table border=\"1\" class=\"dataframe\">\n",
       "  <thead>\n",
       "    <tr style=\"text-align: right;\">\n",
       "      <th></th>\n",
       "      <th>No</th>\n",
       "      <th>year</th>\n",
       "      <th>month</th>\n",
       "      <th>day</th>\n",
       "      <th>hour</th>\n",
       "      <th>pm2.5</th>\n",
       "      <th>DEWP</th>\n",
       "      <th>TEMP</th>\n",
       "      <th>PRES</th>\n",
       "      <th>cbwd</th>\n",
       "      <th>Iws</th>\n",
       "      <th>Is</th>\n",
       "      <th>Ir</th>\n",
       "    </tr>\n",
       "  </thead>\n",
       "  <tbody>\n",
       "    <tr>\n",
       "      <th>0</th>\n",
       "      <td>1</td>\n",
       "      <td>2010</td>\n",
       "      <td>1</td>\n",
       "      <td>1</td>\n",
       "      <td>0</td>\n",
       "      <td>NaN</td>\n",
       "      <td>-21</td>\n",
       "      <td>-11.0</td>\n",
       "      <td>1021.0</td>\n",
       "      <td>NW</td>\n",
       "      <td>1.79</td>\n",
       "      <td>0</td>\n",
       "      <td>0</td>\n",
       "    </tr>\n",
       "    <tr>\n",
       "      <th>1</th>\n",
       "      <td>2</td>\n",
       "      <td>2010</td>\n",
       "      <td>1</td>\n",
       "      <td>1</td>\n",
       "      <td>1</td>\n",
       "      <td>NaN</td>\n",
       "      <td>-21</td>\n",
       "      <td>-12.0</td>\n",
       "      <td>1020.0</td>\n",
       "      <td>NW</td>\n",
       "      <td>4.92</td>\n",
       "      <td>0</td>\n",
       "      <td>0</td>\n",
       "    </tr>\n",
       "    <tr>\n",
       "      <th>2</th>\n",
       "      <td>3</td>\n",
       "      <td>2010</td>\n",
       "      <td>1</td>\n",
       "      <td>1</td>\n",
       "      <td>2</td>\n",
       "      <td>NaN</td>\n",
       "      <td>-21</td>\n",
       "      <td>-11.0</td>\n",
       "      <td>1019.0</td>\n",
       "      <td>NW</td>\n",
       "      <td>6.71</td>\n",
       "      <td>0</td>\n",
       "      <td>0</td>\n",
       "    </tr>\n",
       "    <tr>\n",
       "      <th>3</th>\n",
       "      <td>4</td>\n",
       "      <td>2010</td>\n",
       "      <td>1</td>\n",
       "      <td>1</td>\n",
       "      <td>3</td>\n",
       "      <td>NaN</td>\n",
       "      <td>-21</td>\n",
       "      <td>-14.0</td>\n",
       "      <td>1019.0</td>\n",
       "      <td>NW</td>\n",
       "      <td>9.84</td>\n",
       "      <td>0</td>\n",
       "      <td>0</td>\n",
       "    </tr>\n",
       "    <tr>\n",
       "      <th>4</th>\n",
       "      <td>5</td>\n",
       "      <td>2010</td>\n",
       "      <td>1</td>\n",
       "      <td>1</td>\n",
       "      <td>4</td>\n",
       "      <td>NaN</td>\n",
       "      <td>-20</td>\n",
       "      <td>-12.0</td>\n",
       "      <td>1018.0</td>\n",
       "      <td>NW</td>\n",
       "      <td>12.97</td>\n",
       "      <td>0</td>\n",
       "      <td>0</td>\n",
       "    </tr>\n",
       "  </tbody>\n",
       "</table>\n",
       "</div>"
      ],
      "text/plain": [
       "   No  year  month  day  hour  pm2.5  DEWP  TEMP    PRES cbwd    Iws  Is  Ir\n",
       "0   1  2010      1    1     0    NaN   -21 -11.0  1021.0   NW   1.79   0   0\n",
       "1   2  2010      1    1     1    NaN   -21 -12.0  1020.0   NW   4.92   0   0\n",
       "2   3  2010      1    1     2    NaN   -21 -11.0  1019.0   NW   6.71   0   0\n",
       "3   4  2010      1    1     3    NaN   -21 -14.0  1019.0   NW   9.84   0   0\n",
       "4   5  2010      1    1     4    NaN   -20 -12.0  1018.0   NW  12.97   0   0"
      ]
     },
     "execution_count": 2,
     "metadata": {},
     "output_type": "execute_result"
    }
   ],
   "source": [
    "# 数据读取\n",
    "data = pd.read_csv('./dataset/PRSA_data_2010.1.1-2014.12.31.csv')\n",
    "# 查看前五条数据\n",
    "data.head()"
   ]
  },
  {
   "cell_type": "markdown",
   "metadata": {},
   "source": [
    "**数据说明：**\n",
    "| no | english |   chinese   |\n",
    "|:--:|:-------:|:-----------:|\n",
    "| 1  | No      | 行数        |\n",
    "| 2  | year    | 年          |\n",
    "| 3  | month   | 月          |\n",
    "| 4  | day     | 日          |\n",
    "| 5  | hour    | 小时        |\n",
    "| 6  | pm2.5   | PM2.5浓度   |\n",
    "| 7  | DEWP    | 露点        |\n",
    "| 8  | TEMP    | 温度        |\n",
    "| 9  | PRES    | 大气压      |\n",
    "| 10 | cbwd    | 风向        |\n",
    "| 11 | lws     | 风速        |\n",
    "| 12 | lss     | 累计雪量    |\n",
    "| 13 | lr      | 累计雨量    |"
   ]
  },
  {
   "cell_type": "code",
   "execution_count": 3,
   "metadata": {},
   "outputs": [
    {
     "name": "stdout",
     "output_type": "stream",
     "text": [
      "<class 'pandas.core.frame.DataFrame'>\n",
      "RangeIndex: 43824 entries, 0 to 43823\n",
      "Data columns (total 13 columns):\n",
      " #   Column  Non-Null Count  Dtype  \n",
      "---  ------  --------------  -----  \n",
      " 0   No      43824 non-null  int64  \n",
      " 1   year    43824 non-null  int64  \n",
      " 2   month   43824 non-null  int64  \n",
      " 3   day     43824 non-null  int64  \n",
      " 4   hour    43824 non-null  int64  \n",
      " 5   pm2.5   41757 non-null  float64\n",
      " 6   DEWP    43824 non-null  int64  \n",
      " 7   TEMP    43824 non-null  float64\n",
      " 8   PRES    43824 non-null  float64\n",
      " 9   cbwd    43824 non-null  object \n",
      " 10  Iws     43824 non-null  float64\n",
      " 11  Is      43824 non-null  int64  \n",
      " 12  Ir      43824 non-null  int64  \n",
      "dtypes: float64(4), int64(8), object(1)\n",
      "memory usage: 4.3+ MB\n"
     ]
    }
   ],
   "source": [
    "# 查看数据信息\n",
    "data.info()"
   ]
  },
  {
   "cell_type": "code",
   "execution_count": 4,
   "metadata": {},
   "outputs": [
    {
     "name": "stdout",
     "output_type": "stream",
     "text": [
      "缺失值数量： 2067\n"
     ]
    },
    {
     "data": {
      "application/vnd.microsoft.datawrangler.viewer.v0+json": {
       "columns": [
        {
         "name": "index",
         "rawType": "int64",
         "type": "integer"
        },
        {
         "name": "No",
         "rawType": "int64",
         "type": "integer"
        },
        {
         "name": "year",
         "rawType": "int64",
         "type": "integer"
        },
        {
         "name": "month",
         "rawType": "int64",
         "type": "integer"
        },
        {
         "name": "day",
         "rawType": "int64",
         "type": "integer"
        },
        {
         "name": "hour",
         "rawType": "int64",
         "type": "integer"
        },
        {
         "name": "pm2.5",
         "rawType": "float64",
         "type": "float"
        },
        {
         "name": "DEWP",
         "rawType": "int64",
         "type": "integer"
        },
        {
         "name": "TEMP",
         "rawType": "float64",
         "type": "float"
        },
        {
         "name": "PRES",
         "rawType": "float64",
         "type": "float"
        },
        {
         "name": "cbwd",
         "rawType": "object",
         "type": "string"
        },
        {
         "name": "Iws",
         "rawType": "float64",
         "type": "float"
        },
        {
         "name": "Is",
         "rawType": "int64",
         "type": "integer"
        },
        {
         "name": "Ir",
         "rawType": "int64",
         "type": "integer"
        }
       ],
       "ref": "535a7ccb-e202-4835-88ba-4ea09758ba8b",
       "rows": [
        [
         "0",
         "1",
         "2010",
         "1",
         "1",
         "0",
         null,
         "-21",
         "-11.0",
         "1021.0",
         "NW",
         "1.79",
         "0",
         "0"
        ],
        [
         "1",
         "2",
         "2010",
         "1",
         "1",
         "1",
         null,
         "-21",
         "-12.0",
         "1020.0",
         "NW",
         "4.92",
         "0",
         "0"
        ],
        [
         "2",
         "3",
         "2010",
         "1",
         "1",
         "2",
         null,
         "-21",
         "-11.0",
         "1019.0",
         "NW",
         "6.71",
         "0",
         "0"
        ],
        [
         "3",
         "4",
         "2010",
         "1",
         "1",
         "3",
         null,
         "-21",
         "-14.0",
         "1019.0",
         "NW",
         "9.84",
         "0",
         "0"
        ],
        [
         "4",
         "5",
         "2010",
         "1",
         "1",
         "4",
         null,
         "-20",
         "-12.0",
         "1018.0",
         "NW",
         "12.97",
         "0",
         "0"
        ],
        [
         "5",
         "6",
         "2010",
         "1",
         "1",
         "5",
         null,
         "-19",
         "-10.0",
         "1017.0",
         "NW",
         "16.1",
         "0",
         "0"
        ],
        [
         "6",
         "7",
         "2010",
         "1",
         "1",
         "6",
         null,
         "-19",
         "-9.0",
         "1017.0",
         "NW",
         "19.23",
         "0",
         "0"
        ],
        [
         "7",
         "8",
         "2010",
         "1",
         "1",
         "7",
         null,
         "-19",
         "-9.0",
         "1017.0",
         "NW",
         "21.02",
         "0",
         "0"
        ],
        [
         "8",
         "9",
         "2010",
         "1",
         "1",
         "8",
         null,
         "-19",
         "-9.0",
         "1017.0",
         "NW",
         "24.15",
         "0",
         "0"
        ],
        [
         "9",
         "10",
         "2010",
         "1",
         "1",
         "9",
         null,
         "-20",
         "-8.0",
         "1017.0",
         "NW",
         "27.28",
         "0",
         "0"
        ],
        [
         "10",
         "11",
         "2010",
         "1",
         "1",
         "10",
         null,
         "-19",
         "-7.0",
         "1017.0",
         "NW",
         "31.3",
         "0",
         "0"
        ],
        [
         "11",
         "12",
         "2010",
         "1",
         "1",
         "11",
         null,
         "-18",
         "-5.0",
         "1017.0",
         "NW",
         "34.43",
         "0",
         "0"
        ],
        [
         "12",
         "13",
         "2010",
         "1",
         "1",
         "12",
         null,
         "-19",
         "-5.0",
         "1015.0",
         "NW",
         "37.56",
         "0",
         "0"
        ],
        [
         "13",
         "14",
         "2010",
         "1",
         "1",
         "13",
         null,
         "-18",
         "-3.0",
         "1015.0",
         "NW",
         "40.69",
         "0",
         "0"
        ],
        [
         "14",
         "15",
         "2010",
         "1",
         "1",
         "14",
         null,
         "-18",
         "-2.0",
         "1014.0",
         "NW",
         "43.82",
         "0",
         "0"
        ],
        [
         "15",
         "16",
         "2010",
         "1",
         "1",
         "15",
         null,
         "-18",
         "-1.0",
         "1014.0",
         "cv",
         "0.89",
         "0",
         "0"
        ],
        [
         "16",
         "17",
         "2010",
         "1",
         "1",
         "16",
         null,
         "-19",
         "-2.0",
         "1015.0",
         "NW",
         "1.79",
         "0",
         "0"
        ],
        [
         "17",
         "18",
         "2010",
         "1",
         "1",
         "17",
         null,
         "-18",
         "-3.0",
         "1015.0",
         "NW",
         "2.68",
         "0",
         "0"
        ],
        [
         "18",
         "19",
         "2010",
         "1",
         "1",
         "18",
         null,
         "-18",
         "-5.0",
         "1016.0",
         "NE",
         "1.79",
         "0",
         "0"
        ],
        [
         "19",
         "20",
         "2010",
         "1",
         "1",
         "19",
         null,
         "-17",
         "-4.0",
         "1017.0",
         "NW",
         "1.79",
         "0",
         "0"
        ],
        [
         "20",
         "21",
         "2010",
         "1",
         "1",
         "20",
         null,
         "-17",
         "-5.0",
         "1017.0",
         "cv",
         "0.89",
         "0",
         "0"
        ],
        [
         "21",
         "22",
         "2010",
         "1",
         "1",
         "21",
         null,
         "-17",
         "-5.0",
         "1018.0",
         "NW",
         "1.79",
         "0",
         "0"
        ],
        [
         "22",
         "23",
         "2010",
         "1",
         "1",
         "22",
         null,
         "-17",
         "-5.0",
         "1018.0",
         "NW",
         "2.68",
         "0",
         "0"
        ],
        [
         "23",
         "24",
         "2010",
         "1",
         "1",
         "23",
         null,
         "-17",
         "-5.0",
         "1020.0",
         "cv",
         "0.89",
         "0",
         "0"
        ],
        [
         "545",
         "546",
         "2010",
         "1",
         "23",
         "17",
         null,
         "-18",
         "2.0",
         "1024.0",
         "NW",
         "91.22",
         "0",
         "0"
        ],
        [
         "546",
         "547",
         "2010",
         "1",
         "23",
         "18",
         null,
         "-18",
         "1.0",
         "1024.0",
         "NW",
         "96.14",
         "0",
         "0"
        ],
        [
         "547",
         "548",
         "2010",
         "1",
         "23",
         "19",
         null,
         "-17",
         "0.0",
         "1024.0",
         "NW",
         "100.16",
         "0",
         "0"
        ],
        [
         "548",
         "549",
         "2010",
         "1",
         "23",
         "20",
         null,
         "-18",
         "0.0",
         "1024.0",
         "SE",
         "1.79",
         "0",
         "0"
        ],
        [
         "549",
         "550",
         "2010",
         "1",
         "23",
         "21",
         null,
         "-15",
         "-3.0",
         "1024.0",
         "cv",
         "0.89",
         "0",
         "0"
        ],
        [
         "550",
         "551",
         "2010",
         "1",
         "23",
         "22",
         null,
         "-16",
         "0.0",
         "1023.0",
         "NW",
         "1.79",
         "0",
         "0"
        ],
        [
         "551",
         "552",
         "2010",
         "1",
         "23",
         "23",
         null,
         "-16",
         "0.0",
         "1023.0",
         "NW",
         "4.92",
         "0",
         "0"
        ],
        [
         "552",
         "553",
         "2010",
         "1",
         "24",
         "0",
         null,
         "-15",
         "-2.0",
         "1022.0",
         "NW",
         "6.71",
         "0",
         "0"
        ],
        [
         "553",
         "554",
         "2010",
         "1",
         "24",
         "1",
         null,
         "-14",
         "-7.0",
         "1022.0",
         "cv",
         "0.45",
         "0",
         "0"
        ],
        [
         "554",
         "555",
         "2010",
         "1",
         "24",
         "2",
         null,
         "-14",
         "-8.0",
         "1021.0",
         "NW",
         "1.79",
         "0",
         "0"
        ],
        [
         "555",
         "556",
         "2010",
         "1",
         "24",
         "3",
         null,
         "-16",
         "-11.0",
         "1021.0",
         "NW",
         "3.58",
         "0",
         "0"
        ],
        [
         "556",
         "557",
         "2010",
         "1",
         "24",
         "4",
         null,
         "-14",
         "-9.0",
         "1019.0",
         "NW",
         "4.47",
         "0",
         "0"
        ],
        [
         "557",
         "558",
         "2010",
         "1",
         "24",
         "5",
         null,
         "-15",
         "-10.0",
         "1019.0",
         "cv",
         "0.89",
         "0",
         "0"
        ],
        [
         "558",
         "559",
         "2010",
         "1",
         "24",
         "6",
         null,
         "-16",
         "-12.0",
         "1019.0",
         "SE",
         "0.89",
         "0",
         "0"
        ],
        [
         "559",
         "560",
         "2010",
         "1",
         "24",
         "7",
         null,
         "-15",
         "-12.0",
         "1019.0",
         "cv",
         "0.89",
         "0",
         "0"
        ],
        [
         "560",
         "561",
         "2010",
         "1",
         "24",
         "8",
         null,
         "-16",
         "-13.0",
         "1019.0",
         "NE",
         "1.79",
         "0",
         "0"
        ],
        [
         "561",
         "562",
         "2010",
         "1",
         "24",
         "9",
         null,
         "-13",
         "-7.0",
         "1020.0",
         "cv",
         "0.89",
         "0",
         "0"
        ],
        [
         "562",
         "563",
         "2010",
         "1",
         "24",
         "10",
         null,
         "-12",
         "-4.0",
         "1019.0",
         "cv",
         "1.78",
         "0",
         "0"
        ],
        [
         "563",
         "564",
         "2010",
         "1",
         "24",
         "11",
         null,
         "-13",
         "0.0",
         "1019.0",
         "cv",
         "2.67",
         "0",
         "0"
        ],
        [
         "564",
         "565",
         "2010",
         "1",
         "24",
         "12",
         null,
         "-16",
         "4.0",
         "1018.0",
         "NW",
         "4.02",
         "0",
         "0"
        ],
        [
         "565",
         "566",
         "2010",
         "1",
         "24",
         "13",
         null,
         "-19",
         "5.0",
         "1017.0",
         "NW",
         "13.85",
         "0",
         "0"
        ],
        [
         "566",
         "567",
         "2010",
         "1",
         "24",
         "14",
         null,
         "-18",
         "5.0",
         "1017.0",
         "NW",
         "22.79",
         "0",
         "0"
        ],
        [
         "567",
         "568",
         "2010",
         "1",
         "24",
         "15",
         null,
         "-19",
         "5.0",
         "1017.0",
         "NW",
         "32.62",
         "0",
         "0"
        ],
        [
         "568",
         "569",
         "2010",
         "1",
         "24",
         "16",
         null,
         "-20",
         "5.0",
         "1018.0",
         "NW",
         "40.67",
         "0",
         "0"
        ],
        [
         "569",
         "570",
         "2010",
         "1",
         "24",
         "17",
         null,
         "-19",
         "3.0",
         "1020.0",
         "NW",
         "49.61",
         "0",
         "0"
        ],
        [
         "570",
         "571",
         "2010",
         "1",
         "24",
         "18",
         null,
         "-18",
         "1.0",
         "1023.0",
         "NW",
         "61.68",
         "0",
         "0"
        ]
       ],
       "shape": {
        "columns": 13,
        "rows": 2067
       }
      },
      "text/html": [
       "<div>\n",
       "<style scoped>\n",
       "    .dataframe tbody tr th:only-of-type {\n",
       "        vertical-align: middle;\n",
       "    }\n",
       "\n",
       "    .dataframe tbody tr th {\n",
       "        vertical-align: top;\n",
       "    }\n",
       "\n",
       "    .dataframe thead th {\n",
       "        text-align: right;\n",
       "    }\n",
       "</style>\n",
       "<table border=\"1\" class=\"dataframe\">\n",
       "  <thead>\n",
       "    <tr style=\"text-align: right;\">\n",
       "      <th></th>\n",
       "      <th>No</th>\n",
       "      <th>year</th>\n",
       "      <th>month</th>\n",
       "      <th>day</th>\n",
       "      <th>hour</th>\n",
       "      <th>pm2.5</th>\n",
       "      <th>DEWP</th>\n",
       "      <th>TEMP</th>\n",
       "      <th>PRES</th>\n",
       "      <th>cbwd</th>\n",
       "      <th>Iws</th>\n",
       "      <th>Is</th>\n",
       "      <th>Ir</th>\n",
       "    </tr>\n",
       "  </thead>\n",
       "  <tbody>\n",
       "    <tr>\n",
       "      <th>0</th>\n",
       "      <td>1</td>\n",
       "      <td>2010</td>\n",
       "      <td>1</td>\n",
       "      <td>1</td>\n",
       "      <td>0</td>\n",
       "      <td>NaN</td>\n",
       "      <td>-21</td>\n",
       "      <td>-11.0</td>\n",
       "      <td>1021.0</td>\n",
       "      <td>NW</td>\n",
       "      <td>1.79</td>\n",
       "      <td>0</td>\n",
       "      <td>0</td>\n",
       "    </tr>\n",
       "    <tr>\n",
       "      <th>1</th>\n",
       "      <td>2</td>\n",
       "      <td>2010</td>\n",
       "      <td>1</td>\n",
       "      <td>1</td>\n",
       "      <td>1</td>\n",
       "      <td>NaN</td>\n",
       "      <td>-21</td>\n",
       "      <td>-12.0</td>\n",
       "      <td>1020.0</td>\n",
       "      <td>NW</td>\n",
       "      <td>4.92</td>\n",
       "      <td>0</td>\n",
       "      <td>0</td>\n",
       "    </tr>\n",
       "    <tr>\n",
       "      <th>2</th>\n",
       "      <td>3</td>\n",
       "      <td>2010</td>\n",
       "      <td>1</td>\n",
       "      <td>1</td>\n",
       "      <td>2</td>\n",
       "      <td>NaN</td>\n",
       "      <td>-21</td>\n",
       "      <td>-11.0</td>\n",
       "      <td>1019.0</td>\n",
       "      <td>NW</td>\n",
       "      <td>6.71</td>\n",
       "      <td>0</td>\n",
       "      <td>0</td>\n",
       "    </tr>\n",
       "    <tr>\n",
       "      <th>3</th>\n",
       "      <td>4</td>\n",
       "      <td>2010</td>\n",
       "      <td>1</td>\n",
       "      <td>1</td>\n",
       "      <td>3</td>\n",
       "      <td>NaN</td>\n",
       "      <td>-21</td>\n",
       "      <td>-14.0</td>\n",
       "      <td>1019.0</td>\n",
       "      <td>NW</td>\n",
       "      <td>9.84</td>\n",
       "      <td>0</td>\n",
       "      <td>0</td>\n",
       "    </tr>\n",
       "    <tr>\n",
       "      <th>4</th>\n",
       "      <td>5</td>\n",
       "      <td>2010</td>\n",
       "      <td>1</td>\n",
       "      <td>1</td>\n",
       "      <td>4</td>\n",
       "      <td>NaN</td>\n",
       "      <td>-20</td>\n",
       "      <td>-12.0</td>\n",
       "      <td>1018.0</td>\n",
       "      <td>NW</td>\n",
       "      <td>12.97</td>\n",
       "      <td>0</td>\n",
       "      <td>0</td>\n",
       "    </tr>\n",
       "    <tr>\n",
       "      <th>...</th>\n",
       "      <td>...</td>\n",
       "      <td>...</td>\n",
       "      <td>...</td>\n",
       "      <td>...</td>\n",
       "      <td>...</td>\n",
       "      <td>...</td>\n",
       "      <td>...</td>\n",
       "      <td>...</td>\n",
       "      <td>...</td>\n",
       "      <td>...</td>\n",
       "      <td>...</td>\n",
       "      <td>...</td>\n",
       "      <td>...</td>\n",
       "    </tr>\n",
       "    <tr>\n",
       "      <th>43548</th>\n",
       "      <td>43549</td>\n",
       "      <td>2014</td>\n",
       "      <td>12</td>\n",
       "      <td>20</td>\n",
       "      <td>12</td>\n",
       "      <td>NaN</td>\n",
       "      <td>-18</td>\n",
       "      <td>0.0</td>\n",
       "      <td>1030.0</td>\n",
       "      <td>NW</td>\n",
       "      <td>244.97</td>\n",
       "      <td>0</td>\n",
       "      <td>0</td>\n",
       "    </tr>\n",
       "    <tr>\n",
       "      <th>43549</th>\n",
       "      <td>43550</td>\n",
       "      <td>2014</td>\n",
       "      <td>12</td>\n",
       "      <td>20</td>\n",
       "      <td>13</td>\n",
       "      <td>NaN</td>\n",
       "      <td>-19</td>\n",
       "      <td>1.0</td>\n",
       "      <td>1029.0</td>\n",
       "      <td>NW</td>\n",
       "      <td>249.89</td>\n",
       "      <td>0</td>\n",
       "      <td>0</td>\n",
       "    </tr>\n",
       "    <tr>\n",
       "      <th>43550</th>\n",
       "      <td>43551</td>\n",
       "      <td>2014</td>\n",
       "      <td>12</td>\n",
       "      <td>20</td>\n",
       "      <td>14</td>\n",
       "      <td>NaN</td>\n",
       "      <td>-20</td>\n",
       "      <td>1.0</td>\n",
       "      <td>1029.0</td>\n",
       "      <td>NW</td>\n",
       "      <td>257.04</td>\n",
       "      <td>0</td>\n",
       "      <td>0</td>\n",
       "    </tr>\n",
       "    <tr>\n",
       "      <th>43551</th>\n",
       "      <td>43552</td>\n",
       "      <td>2014</td>\n",
       "      <td>12</td>\n",
       "      <td>20</td>\n",
       "      <td>15</td>\n",
       "      <td>NaN</td>\n",
       "      <td>-20</td>\n",
       "      <td>2.0</td>\n",
       "      <td>1028.0</td>\n",
       "      <td>NW</td>\n",
       "      <td>262.85</td>\n",
       "      <td>0</td>\n",
       "      <td>0</td>\n",
       "    </tr>\n",
       "    <tr>\n",
       "      <th>43552</th>\n",
       "      <td>43553</td>\n",
       "      <td>2014</td>\n",
       "      <td>12</td>\n",
       "      <td>20</td>\n",
       "      <td>16</td>\n",
       "      <td>NaN</td>\n",
       "      <td>-21</td>\n",
       "      <td>1.0</td>\n",
       "      <td>1028.0</td>\n",
       "      <td>NW</td>\n",
       "      <td>270.00</td>\n",
       "      <td>0</td>\n",
       "      <td>0</td>\n",
       "    </tr>\n",
       "  </tbody>\n",
       "</table>\n",
       "<p>2067 rows × 13 columns</p>\n",
       "</div>"
      ],
      "text/plain": [
       "          No  year  month  day  hour  pm2.5  DEWP  TEMP    PRES cbwd     Iws  \\\n",
       "0          1  2010      1    1     0    NaN   -21 -11.0  1021.0   NW    1.79   \n",
       "1          2  2010      1    1     1    NaN   -21 -12.0  1020.0   NW    4.92   \n",
       "2          3  2010      1    1     2    NaN   -21 -11.0  1019.0   NW    6.71   \n",
       "3          4  2010      1    1     3    NaN   -21 -14.0  1019.0   NW    9.84   \n",
       "4          5  2010      1    1     4    NaN   -20 -12.0  1018.0   NW   12.97   \n",
       "...      ...   ...    ...  ...   ...    ...   ...   ...     ...  ...     ...   \n",
       "43548  43549  2014     12   20    12    NaN   -18   0.0  1030.0   NW  244.97   \n",
       "43549  43550  2014     12   20    13    NaN   -19   1.0  1029.0   NW  249.89   \n",
       "43550  43551  2014     12   20    14    NaN   -20   1.0  1029.0   NW  257.04   \n",
       "43551  43552  2014     12   20    15    NaN   -20   2.0  1028.0   NW  262.85   \n",
       "43552  43553  2014     12   20    16    NaN   -21   1.0  1028.0   NW  270.00   \n",
       "\n",
       "       Is  Ir  \n",
       "0       0   0  \n",
       "1       0   0  \n",
       "2       0   0  \n",
       "3       0   0  \n",
       "4       0   0  \n",
       "...    ..  ..  \n",
       "43548   0   0  \n",
       "43549   0   0  \n",
       "43550   0   0  \n",
       "43551   0   0  \n",
       "43552   0   0  \n",
       "\n",
       "[2067 rows x 13 columns]"
      ]
     },
     "execution_count": 4,
     "metadata": {},
     "output_type": "execute_result"
    }
   ],
   "source": [
    "# 查看数据缺失情况\n",
    "print('缺失值数量：', data['pm2.5'].isna().sum())\n",
    "data[data['pm2.5'].isna()]"
   ]
  },
  {
   "cell_type": "code",
   "execution_count": 5,
   "metadata": {},
   "outputs": [
    {
     "name": "stdout",
     "output_type": "stream",
     "text": [
      "<class 'pandas.core.frame.DataFrame'>\n",
      "RangeIndex: 43800 entries, 24 to 43823\n",
      "Data columns (total 13 columns):\n",
      " #   Column  Non-Null Count  Dtype  \n",
      "---  ------  --------------  -----  \n",
      " 0   No      43800 non-null  int64  \n",
      " 1   year    43800 non-null  int64  \n",
      " 2   month   43800 non-null  int64  \n",
      " 3   day     43800 non-null  int64  \n",
      " 4   hour    43800 non-null  int64  \n",
      " 5   pm2.5   43800 non-null  float64\n",
      " 6   DEWP    43800 non-null  int64  \n",
      " 7   TEMP    43800 non-null  float64\n",
      " 8   PRES    43800 non-null  float64\n",
      " 9   cbwd    43800 non-null  object \n",
      " 10  Iws     43800 non-null  float64\n",
      " 11  Is      43800 non-null  int64  \n",
      " 12  Ir      43800 non-null  int64  \n",
      "dtypes: float64(4), int64(8), object(1)\n",
      "memory usage: 4.3+ MB\n"
     ]
    }
   ],
   "source": [
    "# 直接删除前24条PM2.5的缺失值\n",
    "data = data.iloc[24:].ffill()        # iloc：按位置索引选择数据, ffill：用前一个非缺失值填充缺失值\n",
    "# 查看数据信息\n",
    "data.info()"
   ]
  },
  {
   "cell_type": "markdown",
   "metadata": {},
   "source": [
    "## 数据预处理"
   ]
  },
  {
   "cell_type": "code",
   "execution_count": 6,
   "metadata": {},
   "outputs": [],
   "source": [
    "# 将时间合并为一列\n",
    "import datetime\n",
    "data['time'] = data.apply(lambda x: datetime.datetime(year=x['year'],\n",
    "                                                    month=x['month'],\n",
    "                                                    day=x['day'], \n",
    "                                                    hour=x['hour']), \n",
    "                          axis=1)       # apply：对数据集的每一行或每一列应用函数，axis=1表示对每一行应用函数\n",
    "data.set_index('time', inplace=True)      # set_index：将某一列设置为索引\n",
    "# 删除不需要的列（两种方式）\n",
    "data.drop('No', axis=1, inplace=True)       # 删除No编号列\n",
    "data.drop(columns=['year', 'month', 'day', 'hour'], inplace=True)      # drop：删除数据集中的列"
   ]
  },
  {
   "cell_type": "code",
   "execution_count": 7,
   "metadata": {},
   "outputs": [
    {
     "data": {
      "application/vnd.microsoft.datawrangler.viewer.v0+json": {
       "columns": [
        {
         "name": "time",
         "rawType": "datetime64[ns]",
         "type": "datetime"
        },
        {
         "name": "pm2.5",
         "rawType": "float64",
         "type": "float"
        },
        {
         "name": "DEWP",
         "rawType": "int64",
         "type": "integer"
        },
        {
         "name": "TEMP",
         "rawType": "float64",
         "type": "float"
        },
        {
         "name": "PRES",
         "rawType": "float64",
         "type": "float"
        },
        {
         "name": "cbwd",
         "rawType": "object",
         "type": "string"
        },
        {
         "name": "Iws",
         "rawType": "float64",
         "type": "float"
        },
        {
         "name": "Is",
         "rawType": "int64",
         "type": "integer"
        },
        {
         "name": "Ir",
         "rawType": "int64",
         "type": "integer"
        }
       ],
       "ref": "a7308e00-2fda-463b-891b-a8cdaded4561",
       "rows": [
        [
         "2010-01-02 00:00:00",
         "129.0",
         "-16",
         "-4.0",
         "1020.0",
         "SE",
         "1.79",
         "0",
         "0"
        ],
        [
         "2010-01-02 01:00:00",
         "148.0",
         "-15",
         "-4.0",
         "1020.0",
         "SE",
         "2.68",
         "0",
         "0"
        ],
        [
         "2010-01-02 02:00:00",
         "159.0",
         "-11",
         "-5.0",
         "1021.0",
         "SE",
         "3.57",
         "0",
         "0"
        ],
        [
         "2010-01-02 03:00:00",
         "181.0",
         "-7",
         "-5.0",
         "1022.0",
         "SE",
         "5.36",
         "1",
         "0"
        ],
        [
         "2010-01-02 04:00:00",
         "138.0",
         "-7",
         "-5.0",
         "1022.0",
         "SE",
         "6.25",
         "2",
         "0"
        ]
       ],
       "shape": {
        "columns": 8,
        "rows": 5
       }
      },
      "text/html": [
       "<div>\n",
       "<style scoped>\n",
       "    .dataframe tbody tr th:only-of-type {\n",
       "        vertical-align: middle;\n",
       "    }\n",
       "\n",
       "    .dataframe tbody tr th {\n",
       "        vertical-align: top;\n",
       "    }\n",
       "\n",
       "    .dataframe thead th {\n",
       "        text-align: right;\n",
       "    }\n",
       "</style>\n",
       "<table border=\"1\" class=\"dataframe\">\n",
       "  <thead>\n",
       "    <tr style=\"text-align: right;\">\n",
       "      <th></th>\n",
       "      <th>pm2.5</th>\n",
       "      <th>DEWP</th>\n",
       "      <th>TEMP</th>\n",
       "      <th>PRES</th>\n",
       "      <th>cbwd</th>\n",
       "      <th>Iws</th>\n",
       "      <th>Is</th>\n",
       "      <th>Ir</th>\n",
       "    </tr>\n",
       "    <tr>\n",
       "      <th>time</th>\n",
       "      <th></th>\n",
       "      <th></th>\n",
       "      <th></th>\n",
       "      <th></th>\n",
       "      <th></th>\n",
       "      <th></th>\n",
       "      <th></th>\n",
       "      <th></th>\n",
       "    </tr>\n",
       "  </thead>\n",
       "  <tbody>\n",
       "    <tr>\n",
       "      <th>2010-01-02 00:00:00</th>\n",
       "      <td>129.0</td>\n",
       "      <td>-16</td>\n",
       "      <td>-4.0</td>\n",
       "      <td>1020.0</td>\n",
       "      <td>SE</td>\n",
       "      <td>1.79</td>\n",
       "      <td>0</td>\n",
       "      <td>0</td>\n",
       "    </tr>\n",
       "    <tr>\n",
       "      <th>2010-01-02 01:00:00</th>\n",
       "      <td>148.0</td>\n",
       "      <td>-15</td>\n",
       "      <td>-4.0</td>\n",
       "      <td>1020.0</td>\n",
       "      <td>SE</td>\n",
       "      <td>2.68</td>\n",
       "      <td>0</td>\n",
       "      <td>0</td>\n",
       "    </tr>\n",
       "    <tr>\n",
       "      <th>2010-01-02 02:00:00</th>\n",
       "      <td>159.0</td>\n",
       "      <td>-11</td>\n",
       "      <td>-5.0</td>\n",
       "      <td>1021.0</td>\n",
       "      <td>SE</td>\n",
       "      <td>3.57</td>\n",
       "      <td>0</td>\n",
       "      <td>0</td>\n",
       "    </tr>\n",
       "    <tr>\n",
       "      <th>2010-01-02 03:00:00</th>\n",
       "      <td>181.0</td>\n",
       "      <td>-7</td>\n",
       "      <td>-5.0</td>\n",
       "      <td>1022.0</td>\n",
       "      <td>SE</td>\n",
       "      <td>5.36</td>\n",
       "      <td>1</td>\n",
       "      <td>0</td>\n",
       "    </tr>\n",
       "    <tr>\n",
       "      <th>2010-01-02 04:00:00</th>\n",
       "      <td>138.0</td>\n",
       "      <td>-7</td>\n",
       "      <td>-5.0</td>\n",
       "      <td>1022.0</td>\n",
       "      <td>SE</td>\n",
       "      <td>6.25</td>\n",
       "      <td>2</td>\n",
       "      <td>0</td>\n",
       "    </tr>\n",
       "  </tbody>\n",
       "</table>\n",
       "</div>"
      ],
      "text/plain": [
       "                     pm2.5  DEWP  TEMP    PRES cbwd   Iws  Is  Ir\n",
       "time                                                             \n",
       "2010-01-02 00:00:00  129.0   -16  -4.0  1020.0   SE  1.79   0   0\n",
       "2010-01-02 01:00:00  148.0   -15  -4.0  1020.0   SE  2.68   0   0\n",
       "2010-01-02 02:00:00  159.0   -11  -5.0  1021.0   SE  3.57   0   0\n",
       "2010-01-02 03:00:00  181.0    -7  -5.0  1022.0   SE  5.36   1   0\n",
       "2010-01-02 04:00:00  138.0    -7  -5.0  1022.0   SE  6.25   2   0"
      ]
     },
     "execution_count": 7,
     "metadata": {},
     "output_type": "execute_result"
    }
   ],
   "source": [
    "data.head()"
   ]
  },
  {
   "cell_type": "code",
   "execution_count": 8,
   "metadata": {},
   "outputs": [
    {
     "data": {
      "text/plain": [
       "array(['SE', 'cv', 'NW', 'NE'], dtype=object)"
      ]
     },
     "execution_count": 8,
     "metadata": {},
     "output_type": "execute_result"
    }
   ],
   "source": [
    "# 查看风向的唯一值\n",
    "data.cbwd.unique()"
   ]
  },
  {
   "cell_type": "code",
   "execution_count": 9,
   "metadata": {},
   "outputs": [
    {
     "name": "stdout",
     "output_type": "stream",
     "text": [
      "<class 'pandas.core.frame.DataFrame'>\n",
      "DatetimeIndex: 43800 entries, 2010-01-02 00:00:00 to 2014-12-31 23:00:00\n",
      "Data columns (total 11 columns):\n",
      " #   Column  Non-Null Count  Dtype  \n",
      "---  ------  --------------  -----  \n",
      " 0   pm2.5   43800 non-null  float64\n",
      " 1   DEWP    43800 non-null  int64  \n",
      " 2   TEMP    43800 non-null  float64\n",
      " 3   PRES    43800 non-null  float64\n",
      " 4   Iws     43800 non-null  float64\n",
      " 5   Is      43800 non-null  int64  \n",
      " 6   Ir      43800 non-null  int64  \n",
      " 7   NE      43800 non-null  bool   \n",
      " 8   NW      43800 non-null  bool   \n",
      " 9   SE      43800 non-null  bool   \n",
      " 10  cv      43800 non-null  bool   \n",
      "dtypes: bool(4), float64(4), int64(3)\n",
      "memory usage: 2.8 MB\n"
     ]
    }
   ],
   "source": [
    "# 将风向独热编码后添加到数据列中\n",
    "data = data.join(pd.get_dummies(data.cbwd))\n",
    "# 删除不需要的列cbwd（第三种方法）\n",
    "del data['cbwd']\n",
    "# 查看数据信息\n",
    "data.info()"
   ]
  },
  {
   "cell_type": "code",
   "execution_count": 10,
   "metadata": {},
   "outputs": [
    {
     "data": {
      "image/png": "[encoded data removed]",
      "text/plain": [
       "<Figure size 640x480 with 1 Axes>"
      ]
     },
     "metadata": {},
     "output_type": "display_data"
    }
   ],
   "source": [
    "# 查看最后1000次观测PM2.5的变化情况\n",
    "plt.plot(data['pm2.5'][-1000:],linewidth=1) #设置线条宽度\n",
    "#设置图标标题，并在坐标轴上添加标签\n",
    "plt.title(\"pm2.5随时间变化曲线\",fontsize=18)\n",
    "plt.xlabel('Time',fontsize=14)\n",
    "plt.ylabel('PM2.5',fontsize=14)\n",
    "\n",
    "plt.rcParams['font.sans-serif']=['SimHei'] # 用来正常显示中文标签（中文乱码问题）\n",
    "\n",
    "plt.show() # 展示图形"
   ]
  },
  {
   "cell_type": "code",
   "execution_count": 11,
   "metadata": {},
   "outputs": [
    {
     "data": {
      "image/png": "[encoded data removed]",
      "text/plain": [
       "<Figure size 640x480 with 1 Axes>"
      ]
     },
     "metadata": {},
     "output_type": "display_data"
    }
   ],
   "source": [
    "# 查看最后1000次观测温度的变化情况\n",
    "plt.plot(data['TEMP'][-1000:],linewidth=1) #设置线条宽度\n",
    "#设置图标标题，并在坐标轴上添加标签\n",
    "plt.title(\"温度随时间变化曲线\",fontsize=18)\n",
    "plt.xlabel('Time',fontsize=14)\n",
    "plt.ylabel('温度',fontsize=14)\n",
    "\n",
    "plt.rcParams['font.sans-serif']=['SimHei'] # 用来正常显示中文标签（中文乱码问题）\n",
    "plt.rcParams['axes.unicode_minus'] = False # 用来正常显示负号\n",
    "\n",
    "plt.show() # 展示图形"
   ]
  },
  {
   "cell_type": "code",
   "execution_count": 12,
   "metadata": {},
   "outputs": [],
   "source": [
    "# 使用前5天的数据预测第6天的PM2.5浓度\n",
    "sequence_length = 5*24      # sequence_length：序列长度，即观测前五天的数据\n",
    "delay = 24                  # delay：延迟，即预测第6天的数据"
   ]
  },
  {
   "cell_type": "code",
   "execution_count": 13,
   "metadata": {},
   "outputs": [
    {
     "name": "stdout",
     "output_type": "stream",
     "text": [
      "数据集的形状： (43656, 144, 11)\n"
     ]
    }
   ],
   "source": [
    "# 将数据集按照观测数据和预测数据进行重构\n",
    "data_ = []\n",
    "for i in range(len(data) - sequence_length - delay):        # 从第0个数据开始，到第len(data) - sequence_length - delay个数据结束\n",
    "    data_.append(data.iloc[i: i + sequence_length + delay]) # iloc：按位置索引选择数据，从第i个数据开始，到第i + sequence_length + delay个数据结束\n",
    "# 将数据集从dataframe转换为numpy数组\n",
    "data_ = np.array([dataframe.values for dataframe in data_])\n",
    "# 查看数据集的形状\n",
    "print('数据集的形状：', data_.shape)"
   ]
  },
  {
   "cell_type": "code",
   "execution_count": 14,
   "metadata": {},
   "outputs": [
    {
     "data": {
      "text/plain": [
       "((43656, 120, 11), (43656,))"
      ]
     },
     "execution_count": 14,
     "metadata": {},
     "output_type": "execute_result"
    }
   ],
   "source": [
    "# 对数据集进行随机打乱\n",
    "np.random.shuffle(data_)\n",
    "# 提取数据集中的观测数据和预测数据\n",
    "x = data_[:, : sequence_length, :]      # x：观测数据，从第0个数据开始，到第sequence_length个数据结束，取所有列的数据\n",
    "y = data_[:, -1, 0]      # y：预测数据，预测一天后的数据，即间隔24小时，只取第0列的数据\n",
    "x.shape, y.shape"
   ]
  },
  {
   "cell_type": "code",
   "execution_count": 15,
   "metadata": {},
   "outputs": [
    {
     "data": {
      "text/plain": [
       "((34924, 120, 11), (8732, 120, 11), (34924,), (8732,))"
      ]
     },
     "execution_count": 15,
     "metadata": {},
     "output_type": "execute_result"
    }
   ],
   "source": [
    "# 统一数据类型\n",
    "x = x.astype(np.float32)\n",
    "y = y.astype(np.float32)\n",
    "# 划分训练集和测试集\n",
    "split_boundary = int(data_.shape[0] * 0.8)\n",
    "\n",
    "train_x = x[: split_boundary]\n",
    "test_x = x[split_boundary:]\n",
    "\n",
    "train_y = y[: split_boundary]\n",
    "test_y = y[split_boundary:]\n",
    "\n",
    "# 查看训练集和测试集的形状\n",
    "train_x.shape, test_x.shape, train_y.shape, test_y.shape"
   ]
  },
  {
   "cell_type": "code",
   "execution_count": 16,
   "metadata": {},
   "outputs": [
    {
     "name": "stdout",
     "output_type": "stream",
     "text": [
      "The mean shape is: (120, 11)\n",
      "The std shape is: (120, 11)\n"
     ]
    }
   ],
   "source": [
    "# 标准化数据\n",
    "# 计算训练集的均值和标准差\n",
    "mean = train_x.mean(axis=0)     # axis=0：按列计算均值\n",
    "std = train_x.std(axis=0)\n",
    "print('The mean shape is:', mean.shape)\n",
    "print('The std shape is:', std.shape)\n",
    "# 对训练集和测试集进行标准化\n",
    "train_x = (train_x - mean)/std\n",
    "test_x = (test_x - mean)/std"
   ]
  },
  {
   "cell_type": "markdown",
   "metadata": {},
   "source": [
    "## 创建Dataset"
   ]
  },
  {
   "cell_type": "code",
   "execution_count": 17,
   "metadata": {},
   "outputs": [],
   "source": [
    "# 自定义数据集类\n",
    "class PRSA_dataset(torch.utils.data.Dataset):\n",
    "    def __init__(self, features, labels):\n",
    "        self.features = features\n",
    "        self.labels = labels\n",
    "        \n",
    "    def __getitem__(self, index):\n",
    "        feature = self.features[index]\n",
    "        label = self.labels[index]\n",
    "        return feature, label\n",
    "\n",
    "    def __len__(self):\n",
    "        return len(self.features)"
   ]
  },
  {
   "cell_type": "code",
   "execution_count": 18,
   "metadata": {},
   "outputs": [],
   "source": [
    "# 初始化训练集和测试集\n",
    "train_ds = PRSA_dataset(train_x, train_y)\n",
    "test_ds = PRSA_dataset(test_x, test_y)"
   ]
  },
  {
   "cell_type": "code",
   "execution_count": 19,
   "metadata": {},
   "outputs": [],
   "source": [
    "# 创建数据加载器\n",
    "BTACH_SIZE = 128\n",
    "train_dl = torch.utils.data.DataLoader(\n",
    "                                       train_ds,\n",
    "                                       batch_size=BTACH_SIZE,\n",
    "                                       shuffle=True\n",
    ")\n",
    "test_dl = torch.utils.data.DataLoader(\n",
    "                                       test_ds,\n",
    "                                       batch_size=BTACH_SIZE\n",
    ")"
   ]
  },
  {
   "cell_type": "markdown",
   "metadata": {},
   "source": [
    "## 模型构建"
   ]
  },
  {
   "cell_type": "code",
   "execution_count": 20,
   "metadata": {},
   "outputs": [],
   "source": [
    "# 定义LSTM的hidden_size参数\n",
    "hidden_size = 64"
   ]
  },
  {
   "cell_type": "code",
   "execution_count": 21,
   "metadata": {},
   "outputs": [],
   "source": [
    "# 定义时序预测模型\n",
    "class Net(nn.Module):\n",
    "    def __init__(self, hidden_size):\n",
    "        super(Net, self).__init__()\n",
    "        self.rnn = nn.LSTM(input_size=train_x.shape[-1], \n",
    "                           hidden_size=hidden_size, \n",
    "                           batch_first=True)         # batch_first：输入和输出的形状为(batch_size, sequence_length, input_size)\n",
    "        self.fc1 = nn.Linear(hidden_size, 128)\n",
    "        self.fc2 = nn.Linear(128, 1)                # 回归问题，输出为1\n",
    "\n",
    "    def forward(self, inputs):\n",
    "        _, state_output = self.rnn(inputs)          # LSTM的输出为两个值，第一个值为输出，第二个值为状态输出\n",
    "        state_output = state_output[-1]             # 状态输出包含所有的隐藏状态，我们只需要最后一个隐藏状态\n",
    "        x = F.dropout(F.relu(self.fc1(state_output)))\n",
    "        x = self.fc2(x)                             # size: (batch_size, 1) \n",
    "        return torch.squeeze(x)                     # torch.squeeze：去掉size为1的维度 x.shape：(128, 1) ---> labels.shape：128"
   ]
  },
  {
   "cell_type": "markdown",
   "metadata": {},
   "source": [
    "## 模型训练"
   ]
  },
  {
   "cell_type": "code",
   "execution_count": 22,
   "metadata": {},
   "outputs": [
    {
     "data": {
      "text/plain": [
       "Net(\n",
       "  (rnn): LSTM(11, 64, batch_first=True)\n",
       "  (fc1): Linear(in_features=64, out_features=128, bias=True)\n",
       "  (fc2): Linear(in_features=128, out_features=1, bias=True)\n",
       ")"
      ]
     },
     "execution_count": 22,
     "metadata": {},
     "output_type": "execute_result"
    }
   ],
   "source": [
    "# 初始化模型\n",
    "model = Net(hidden_size)\n",
    "model"
   ]
  },
  {
   "cell_type": "code",
   "execution_count": 23,
   "metadata": {},
   "outputs": [
    {
     "name": "stdout",
     "output_type": "stream",
     "text": [
      "Epoch: 0, Train Loss: 67.6166, Test Loss: 54.9005\n",
      "Epoch: 1, Train Loss: 55.2400, Test Loss: 52.8404\n",
      "Epoch: 2, Train Loss: 53.6609, Test Loss: 55.1285\n",
      "Epoch: 3, Train Loss: 52.9382, Test Loss: 50.5912\n",
      "Epoch: 4, Train Loss: 51.8590, Test Loss: 49.9592\n",
      "Epoch: 5, Train Loss: 51.3453, Test Loss: 51.2837\n",
      "Epoch: 6, Train Loss: 49.9950, Test Loss: 48.6517\n",
      "Epoch: 7, Train Loss: 48.7256, Test Loss: 47.4944\n",
      "Epoch: 8, Train Loss: 47.4113, Test Loss: 47.0924\n",
      "Epoch: 9, Train Loss: 46.8234, Test Loss: 46.1393\n",
      "Epoch: 10, Train Loss: 45.1762, Test Loss: 47.7003\n",
      "Epoch: 11, Train Loss: 44.6877, Test Loss: 45.3307\n",
      "Epoch: 12, Train Loss: 44.0473, Test Loss: 43.9458\n",
      "Epoch: 13, Train Loss: 41.8697, Test Loss: 41.7819\n",
      "Epoch: 14, Train Loss: 40.3522, Test Loss: 41.7795\n",
      "Epoch: 15, Train Loss: 39.1204, Test Loss: 38.7822\n",
      "Epoch: 16, Train Loss: 37.2179, Test Loss: 38.4668\n",
      "Epoch: 17, Train Loss: 36.2513, Test Loss: 36.0648\n",
      "Epoch: 18, Train Loss: 43.7245, Test Loss: 41.1774\n",
      "Epoch: 19, Train Loss: 38.7589, Test Loss: 36.8116\n",
      "Epoch: 20, Train Loss: 36.0751, Test Loss: 35.7056\n",
      "Epoch: 21, Train Loss: 34.9078, Test Loss: 36.1521\n",
      "Epoch: 22, Train Loss: 33.9661, Test Loss: 36.5805\n",
      "Epoch: 23, Train Loss: 32.7772, Test Loss: 33.4800\n",
      "Epoch: 24, Train Loss: 30.8782, Test Loss: 32.2223\n",
      "Epoch: 25, Train Loss: 31.1033, Test Loss: 40.5148\n",
      "Epoch: 26, Train Loss: 31.9950, Test Loss: 30.7357\n",
      "Epoch: 27, Train Loss: 28.5967, Test Loss: 29.3299\n",
      "Epoch: 28, Train Loss: 27.7193, Test Loss: 29.6703\n",
      "Epoch: 29, Train Loss: 26.1699, Test Loss: 27.5176\n",
      "Epoch: 30, Train Loss: 26.1837, Test Loss: 28.4164\n",
      "Epoch: 31, Train Loss: 25.4376, Test Loss: 27.3184\n",
      "Epoch: 32, Train Loss: 24.3608, Test Loss: 24.7765\n",
      "Epoch: 33, Train Loss: 24.1184, Test Loss: 40.1944\n",
      "Epoch: 34, Train Loss: 30.7211, Test Loss: 28.5444\n",
      "Epoch: 35, Train Loss: 23.8946, Test Loss: 24.2011\n",
      "Epoch: 36, Train Loss: 24.2339, Test Loss: 26.0229\n",
      "Epoch: 37, Train Loss: 25.0104, Test Loss: 27.2060\n",
      "Epoch: 38, Train Loss: 22.4966, Test Loss: 22.7967\n",
      "Epoch: 39, Train Loss: 21.3195, Test Loss: 22.9537\n",
      "Epoch: 40, Train Loss: 20.2412, Test Loss: 20.5559\n",
      "Epoch: 41, Train Loss: 19.8403, Test Loss: 23.9809\n",
      "Epoch: 42, Train Loss: 22.0553, Test Loss: 21.1520\n",
      "Epoch: 43, Train Loss: 19.0003, Test Loss: 19.9967\n",
      "Epoch: 44, Train Loss: 18.1150, Test Loss: 20.2725\n",
      "Epoch: 45, Train Loss: 17.6533, Test Loss: 19.4123\n",
      "Epoch: 46, Train Loss: 17.1075, Test Loss: 18.0095\n",
      "Epoch: 47, Train Loss: 17.4933, Test Loss: 18.3866\n",
      "Epoch: 48, Train Loss: 19.4572, Test Loss: 19.2039\n",
      "Epoch: 49, Train Loss: 19.6713, Test Loss: 18.8027\n",
      "Epoch: 50, Train Loss: 17.4971, Test Loss: 20.1795\n",
      "Epoch: 51, Train Loss: 18.7429, Test Loss: 20.0341\n",
      "Epoch: 52, Train Loss: 16.7080, Test Loss: 17.4370\n",
      "Epoch: 53, Train Loss: 15.8117, Test Loss: 17.7027\n",
      "Epoch: 54, Train Loss: 16.2702, Test Loss: 17.6101\n",
      "Epoch: 55, Train Loss: 15.0554, Test Loss: 15.5707\n",
      "Epoch: 56, Train Loss: 21.9341, Test Loss: 20.0184\n",
      "Epoch: 57, Train Loss: 15.8291, Test Loss: 16.6988\n",
      "Epoch: 58, Train Loss: 14.6422, Test Loss: 17.1023\n",
      "Epoch: 59, Train Loss: 14.8257, Test Loss: 21.0551\n",
      "Epoch: 60, Train Loss: 15.3193, Test Loss: 14.9944\n",
      "Epoch: 61, Train Loss: 15.2048, Test Loss: 18.3195\n",
      "Epoch: 62, Train Loss: 14.0636, Test Loss: 14.6665\n",
      "Epoch: 63, Train Loss: 22.3760, Test Loss: 22.8527\n",
      "Epoch: 64, Train Loss: 20.2952, Test Loss: 20.2392\n",
      "Epoch: 65, Train Loss: 17.5174, Test Loss: 18.4379\n",
      "Epoch: 66, Train Loss: 16.2050, Test Loss: 17.2354\n",
      "Epoch: 67, Train Loss: 15.8707, Test Loss: 16.9774\n",
      "Epoch: 68, Train Loss: 16.3695, Test Loss: 20.0211\n",
      "Epoch: 69, Train Loss: 15.7243, Test Loss: 16.0862\n",
      "Epoch: 70, Train Loss: 15.0050, Test Loss: 16.6125\n",
      "Epoch: 71, Train Loss: 14.8064, Test Loss: 15.3670\n",
      "Epoch: 72, Train Loss: 13.1621, Test Loss: 14.9119\n",
      "Epoch: 73, Train Loss: 13.9689, Test Loss: 16.4337\n",
      "Epoch: 74, Train Loss: 13.3814, Test Loss: 14.6303\n",
      "Epoch: 75, Train Loss: 16.7977, Test Loss: 17.1293\n",
      "Epoch: 76, Train Loss: 17.8889, Test Loss: 15.5364\n",
      "Epoch: 77, Train Loss: 13.4707, Test Loss: 14.0434\n",
      "Epoch: 78, Train Loss: 12.5602, Test Loss: 13.5645\n",
      "Epoch: 79, Train Loss: 12.5609, Test Loss: 14.3221\n",
      "Epoch: 80, Train Loss: 12.1099, Test Loss: 14.7393\n",
      "Epoch: 81, Train Loss: 12.7666, Test Loss: 15.8778\n",
      "Epoch: 82, Train Loss: 12.6263, Test Loss: 13.6162\n",
      "Epoch: 83, Train Loss: 11.5109, Test Loss: 13.4836\n",
      "Epoch: 84, Train Loss: 16.8657, Test Loss: 19.5914\n",
      "Epoch: 85, Train Loss: 14.1616, Test Loss: 14.4478\n",
      "Epoch: 86, Train Loss: 13.6780, Test Loss: 14.7479\n",
      "Epoch: 87, Train Loss: 17.9992, Test Loss: 15.6253\n",
      "Epoch: 88, Train Loss: 14.8621, Test Loss: 14.7543\n",
      "Epoch: 89, Train Loss: 12.4255, Test Loss: 12.7037\n",
      "Epoch: 90, Train Loss: 11.2323, Test Loss: 12.4750\n",
      "Epoch: 91, Train Loss: 11.1826, Test Loss: 12.6116\n",
      "Epoch: 92, Train Loss: 11.4311, Test Loss: 16.0786\n",
      "Epoch: 93, Train Loss: 14.6338, Test Loss: 14.4123\n",
      "Epoch: 94, Train Loss: 11.9108, Test Loss: 12.5890\n",
      "Epoch: 95, Train Loss: 11.1375, Test Loss: 12.1323\n",
      "Epoch: 96, Train Loss: 10.8128, Test Loss: 11.2437\n",
      "Epoch: 97, Train Loss: 10.6033, Test Loss: 11.6966\n",
      "Epoch: 98, Train Loss: 10.4115, Test Loss: 11.5891\n",
      "Epoch: 99, Train Loss: 10.5839, Test Loss: 12.7300\n"
     ]
    }
   ],
   "source": [
    "# 参数整理\n",
    "model = model\n",
    "learn_rate = 0.001\n",
    "epochs = 100\n",
    "train_dl = train_dl\n",
    "test_dl = test_dl\n",
    "\n",
    "# 训练前准备，定义模型、损失函数、优化器\n",
    "device = torch.device('cuda' if torch.cuda.is_available() else 'cpu') # 判断是否有GPU，如果有则使用GPU，否则使用CPU\n",
    "model.to(device) # 将已实例化的模型移动到GPU上\n",
    "\n",
    "loss_fn = torch.nn.MSELoss()  # 损失函数，均方误差\n",
    "opt = torch.optim.Adam(model.parameters(), lr=learn_rate) # 优化器，Adam优化器\n",
    "\n",
    "# 通用训练模板(回归问题等无准确率)，输入模型、训练数据、测试数据，返回loss变化\n",
    "# 训练函数\n",
    "def train(train_dl, model, loss_fn, opt):\n",
    "    size = len(train_dl.dataset) # 获取数据集的大小\n",
    "\n",
    "    train_loss = 0.0 # 训练集损失\n",
    "\n",
    "    for x, y in train_dl: # 遍历数据集\n",
    "        x, y = x.to(device), y.to(device) # 将数据移动到GPU上\n",
    "\n",
    "        pred = model(x) # 前向传播\n",
    "        loss = loss_fn(pred, y) # 计算损失\n",
    "\n",
    "        opt.zero_grad() # 梯度清零\n",
    "        loss.backward() # 反向传播\n",
    "        opt.step() # 更新参数\n",
    "\n",
    "        with torch.no_grad(): # 不计算梯度\n",
    "            train_loss += loss.item() # 计算损失\n",
    "\n",
    "    train_loss /= size # 计算平均损失\n",
    "\n",
    "    return train_loss\n",
    "\n",
    "# 测试函数\n",
    "def test(test_dl, model, loss_fn):\n",
    "    size = len(test_dl.dataset) # 获取数据集的大小\n",
    "\n",
    "    test_loss = 0.0 # 测试集损失\n",
    "\n",
    "    with torch.no_grad(): # 不计算梯度\n",
    "        for x, y in test_dl:  # 遍历数据集\n",
    "            x, y = x.to(device), y.to(device) # 将数据移动到GPU上\n",
    "\n",
    "            pred = model(x) # 前向传播\n",
    "            loss = loss_fn(pred, y) # 计算损失\n",
    "            test_loss += loss.item() # 计算损失\n",
    "\n",
    "    test_loss /= size # 计算平均损失\n",
    "\n",
    "    return test_loss\n",
    "# 训练函数\n",
    "def fit(epochs, model, train_dl, test_dl, loss_fn, opt):\n",
    "    train_loss = []\n",
    "    test_loss = []\n",
    "\n",
    "    print_template = 'Epoch: {}, Train Loss: {:.4f}, Test Loss: {:.4f}'\n",
    "\n",
    "\n",
    "    for epoch in range(epochs):\n",
    "        model.train() # 设置模型为训练模式，启用dropout层\n",
    "        epoch_train_loss = train(train_dl, model, loss_fn, opt)\n",
    "        model.eval() # 设置模型为评估预测模式，禁用dropout层\n",
    "        epoch_test_loss = test(test_dl, model, loss_fn)\n",
    "\n",
    "        train_loss.append(epoch_train_loss)\n",
    "        test_loss.append(epoch_test_loss)\n",
    "\n",
    "        print(print_template.format(epoch, epoch_train_loss, epoch_test_loss))\n",
    "\n",
    "    return train_loss, test_loss\n",
    "\n",
    "# 训练\n",
    "train_loss, test_loss = fit(epochs, model, train_dl, test_dl, loss_fn, opt)"
   ]
  },
  {
   "cell_type": "code",
   "execution_count": 24,
   "metadata": {},
   "outputs": [
    {
     "data": {
      "text/plain": [
       "<matplotlib.legend.Legend at 0x1b6b49bcf40>"
      ]
     },
     "execution_count": 24,
     "metadata": {},
     "output_type": "execute_result"
    },
    {
     "data": {
      "image/png": "[encoded data removed]",
      "text/plain": [
       "<Figure size 640x480 with 1 Axes>"
      ]
     },
     "metadata": {},
     "output_type": "display_data"
    }
   ],
   "source": [
    "# 可视化损失值变化\n",
    "plt.plot(range(1, epochs+1), train_loss, label='train_loss')\n",
    "plt.plot(range(1, epochs+1), test_loss, label='test_loss')\n",
    "plt.legend()"
   ]
  },
  {
   "cell_type": "markdown",
   "metadata": {},
   "source": [
    "## 批量预测（一）"
   ]
  },
  {
   "cell_type": "code",
   "execution_count": 25,
   "metadata": {},
   "outputs": [],
   "source": [
    "# 保存模型\n",
    "model_path = './model/custom_sequence_prediction_model_for_air_pollution.pth'\n",
    "torch.save(model.state_dict(), model_path) # 保存模型参数"
   ]
  },
  {
   "cell_type": "code",
   "execution_count": 26,
   "metadata": {},
   "outputs": [
    {
     "name": "stdout",
     "output_type": "stream",
     "text": [
      "The shape of test_x: (8732, 120, 11)\n",
      "the type of test_x: <class 'numpy.ndarray'>\n"
     ]
    }
   ],
   "source": [
    "# 查看待预测数据\n",
    "print('The shape of test_x:', test_x.shape)        # (n, sequence_length, input_size)(n, 120, 11)\n",
    "print('the type of test_x:', type(test_x))       # <class 'torch.Tensor'>"
   ]
  },
  {
   "cell_type": "code",
   "execution_count": 27,
   "metadata": {},
   "outputs": [],
   "source": [
    "# 预测，将ndarray数据转换为tensor\n",
    "pred_test_x = model(torch.from_numpy(test_x).to(device))"
   ]
  },
  {
   "cell_type": "code",
   "execution_count": 28,
   "metadata": {},
   "outputs": [
    {
     "name": "stdout",
     "output_type": "stream",
     "text": [
      "The shape of pred_test_x: torch.Size([8732])\n"
     ]
    },
    {
     "data": {
      "text/plain": [
       "tensor([ 10.1695,  11.2945, 109.5086,  44.5505], device='cuda:0',\n",
       "       grad_fn=<SliceBackward0>)"
      ]
     },
     "execution_count": 28,
     "metadata": {},
     "output_type": "execute_result"
    }
   ],
   "source": [
    "# 查看预测结果\n",
    "print('The shape of pred_test_x:', pred_test_x.shape)  # (n, 1)\n",
    "pred_test_x[:4]"
   ]
  }
 ],
 "metadata": {
  "kernelspec": {
   "display_name": "pytorch2.2.2",
   "language": "python",
   "name": "python3"
  },
  "language_info": {
   "codemirror_mode": {
    "name": "ipython",
    "version": 3
   },
   "file_extension": ".py",
   "mimetype": "text/x-python",
   "name": "python",
   "nbconvert_exporter": "python",
   "pygments_lexer": "ipython3",
   "version": "3.9.21"
  }
 },
 "nbformat": 4,
 "nbformat_minor": 2
}
