{
 "cells": [
  {
   "cell_type": "markdown",
   "metadata": {},
   "source": [
    "# 序列预测实例 - 北京空气污染预测（Sequence Prediction Example - Beijing Air Pollution Prediction）"
   ]
  },
  {
   "cell_type": "code",
   "execution_count": null,
   "metadata": {},
   "outputs": [],
   "source": [
    "import torch\n",
    "import torchtext\n",
    "import torch.nn as nn\n",
    "import torch.nn.functional as F\n",
    "import numpy as np\n",
    "import pandas as pd\n",
    "\n",
    "import matplotlib.pyplot as plt\n",
    "%matplotlib inline"
   ]
  },
  {
   "cell_type": "code",
   "execution_count": null,
   "metadata": {},
   "outputs": [],
   "source": [
    "data = pd.read_csv('./PRSA_data_2010.1.1-2014.12.31.csv')"
   ]
  },
  {
   "cell_type": "code",
   "execution_count": null,
   "metadata": {},
   "outputs": [
    {
     "name": "stdout",
     "output_type": "stream",
     "text": [
      "<class 'pandas.core.frame.DataFrame'>\n",
      "RangeIndex: 43824 entries, 0 to 43823\n",
      "Data columns (total 13 columns):\n",
      " #   Column  Non-Null Count  Dtype  \n",
      "---  ------  --------------  -----  \n",
      " 0   No      43824 non-null  int64  \n",
      " 1   year    43824 non-null  int64  \n",
      " 2   month   43824 non-null  int64  \n",
      " 3   day     43824 non-null  int64  \n",
      " 4   hour    43824 non-null  int64  \n",
      " 5   pm2.5   41757 non-null  float64\n",
      " 6   DEWP    43824 non-null  int64  \n",
      " 7   TEMP    43824 non-null  float64\n",
      " 8   PRES    43824 non-null  float64\n",
      " 9   cbwd    43824 non-null  object \n",
      " 10  Iws     43824 non-null  float64\n",
      " 11  Is      43824 non-null  int64  \n",
      " 12  Ir      43824 non-null  int64  \n",
      "dtypes: float64(4), int64(8), object(1)\n",
      "memory usage: 4.3+ MB\n"
     ]
    }
   ],
   "source": [
    "data.info()"
   ]
  },
  {
   "cell_type": "code",
   "execution_count": null,
   "metadata": {},
   "outputs": [
    {
     "data": {
      "application/vnd.microsoft.datawrangler.viewer.v0+json": {
       "columns": [
        {
         "name": "index",
         "rawType": "int64",
         "type": "integer"
        },
        {
         "name": "No",
         "rawType": "int64",
         "type": "integer"
        },
        {
         "name": "year",
         "rawType": "int64",
         "type": "integer"
        },
        {
         "name": "month",
         "rawType": "int64",
         "type": "integer"
        },
        {
         "name": "day",
         "rawType": "int64",
         "type": "integer"
        },
        {
         "name": "hour",
         "rawType": "int64",
         "type": "integer"
        },
        {
         "name": "pm2.5",
         "rawType": "float64",
         "type": "float"
        },
        {
         "name": "DEWP",
         "rawType": "int64",
         "type": "integer"
        },
        {
         "name": "TEMP",
         "rawType": "float64",
         "type": "float"
        },
        {
         "name": "PRES",
         "rawType": "float64",
         "type": "float"
        },
        {
         "name": "cbwd",
         "rawType": "object",
         "type": "string"
        },
        {
         "name": "Iws",
         "rawType": "float64",
         "type": "float"
        },
        {
         "name": "Is",
         "rawType": "int64",
         "type": "integer"
        },
        {
         "name": "Ir",
         "rawType": "int64",
         "type": "integer"
        }
       ],
       "ref": "88bba272-c953-46b8-9a97-71834a6a49ee",
       "rows": [
        [
         "0",
         "1",
         "2010",
         "1",
         "1",
         "0",
         null,
         "-21",
         "-11.0",
         "1021.0",
         "NW",
         "1.79",
         "0",
         "0"
        ],
        [
         "1",
         "2",
         "2010",
         "1",
         "1",
         "1",
         null,
         "-21",
         "-12.0",
         "1020.0",
         "NW",
         "4.92",
         "0",
         "0"
        ],
        [
         "2",
         "3",
         "2010",
         "1",
         "1",
         "2",
         null,
         "-21",
         "-11.0",
         "1019.0",
         "NW",
         "6.71",
         "0",
         "0"
        ],
        [
         "3",
         "4",
         "2010",
         "1",
         "1",
         "3",
         null,
         "-21",
         "-14.0",
         "1019.0",
         "NW",
         "9.84",
         "0",
         "0"
        ],
        [
         "4",
         "5",
         "2010",
         "1",
         "1",
         "4",
         null,
         "-20",
         "-12.0",
         "1018.0",
         "NW",
         "12.97",
         "0",
         "0"
        ],
        [
         "5",
         "6",
         "2010",
         "1",
         "1",
         "5",
         null,
         "-19",
         "-10.0",
         "1017.0",
         "NW",
         "16.1",
         "0",
         "0"
        ],
        [
         "6",
         "7",
         "2010",
         "1",
         "1",
         "6",
         null,
         "-19",
         "-9.0",
         "1017.0",
         "NW",
         "19.23",
         "0",
         "0"
        ],
        [
         "7",
         "8",
         "2010",
         "1",
         "1",
         "7",
         null,
         "-19",
         "-9.0",
         "1017.0",
         "NW",
         "21.02",
         "0",
         "0"
        ],
        [
         "8",
         "9",
         "2010",
         "1",
         "1",
         "8",
         null,
         "-19",
         "-9.0",
         "1017.0",
         "NW",
         "24.15",
         "0",
         "0"
        ],
        [
         "9",
         "10",
         "2010",
         "1",
         "1",
         "9",
         null,
         "-20",
         "-8.0",
         "1017.0",
         "NW",
         "27.28",
         "0",
         "0"
        ],
        [
         "10",
         "11",
         "2010",
         "1",
         "1",
         "10",
         null,
         "-19",
         "-7.0",
         "1017.0",
         "NW",
         "31.3",
         "0",
         "0"
        ],
        [
         "11",
         "12",
         "2010",
         "1",
         "1",
         "11",
         null,
         "-18",
         "-5.0",
         "1017.0",
         "NW",
         "34.43",
         "0",
         "0"
        ],
        [
         "12",
         "13",
         "2010",
         "1",
         "1",
         "12",
         null,
         "-19",
         "-5.0",
         "1015.0",
         "NW",
         "37.56",
         "0",
         "0"
        ],
        [
         "13",
         "14",
         "2010",
         "1",
         "1",
         "13",
         null,
         "-18",
         "-3.0",
         "1015.0",
         "NW",
         "40.69",
         "0",
         "0"
        ],
        [
         "14",
         "15",
         "2010",
         "1",
         "1",
         "14",
         null,
         "-18",
         "-2.0",
         "1014.0",
         "NW",
         "43.82",
         "0",
         "0"
        ],
        [
         "15",
         "16",
         "2010",
         "1",
         "1",
         "15",
         null,
         "-18",
         "-1.0",
         "1014.0",
         "cv",
         "0.89",
         "0",
         "0"
        ],
        [
         "16",
         "17",
         "2010",
         "1",
         "1",
         "16",
         null,
         "-19",
         "-2.0",
         "1015.0",
         "NW",
         "1.79",
         "0",
         "0"
        ],
        [
         "17",
         "18",
         "2010",
         "1",
         "1",
         "17",
         null,
         "-18",
         "-3.0",
         "1015.0",
         "NW",
         "2.68",
         "0",
         "0"
        ],
        [
         "18",
         "19",
         "2010",
         "1",
         "1",
         "18",
         null,
         "-18",
         "-5.0",
         "1016.0",
         "NE",
         "1.79",
         "0",
         "0"
        ],
        [
         "19",
         "20",
         "2010",
         "1",
         "1",
         "19",
         null,
         "-17",
         "-4.0",
         "1017.0",
         "NW",
         "1.79",
         "0",
         "0"
        ],
        [
         "20",
         "21",
         "2010",
         "1",
         "1",
         "20",
         null,
         "-17",
         "-5.0",
         "1017.0",
         "cv",
         "0.89",
         "0",
         "0"
        ],
        [
         "21",
         "22",
         "2010",
         "1",
         "1",
         "21",
         null,
         "-17",
         "-5.0",
         "1018.0",
         "NW",
         "1.79",
         "0",
         "0"
        ],
        [
         "22",
         "23",
         "2010",
         "1",
         "1",
         "22",
         null,
         "-17",
         "-5.0",
         "1018.0",
         "NW",
         "2.68",
         "0",
         "0"
        ],
        [
         "23",
         "24",
         "2010",
         "1",
         "1",
         "23",
         null,
         "-17",
         "-5.0",
         "1020.0",
         "cv",
         "0.89",
         "0",
         "0"
        ],
        [
         "545",
         "546",
         "2010",
         "1",
         "23",
         "17",
         null,
         "-18",
         "2.0",
         "1024.0",
         "NW",
         "91.22",
         "0",
         "0"
        ],
        [
         "546",
         "547",
         "2010",
         "1",
         "23",
         "18",
         null,
         "-18",
         "1.0",
         "1024.0",
         "NW",
         "96.14",
         "0",
         "0"
        ],
        [
         "547",
         "548",
         "2010",
         "1",
         "23",
         "19",
         null,
         "-17",
         "0.0",
         "1024.0",
         "NW",
         "100.16",
         "0",
         "0"
        ],
        [
         "548",
         "549",
         "2010",
         "1",
         "23",
         "20",
         null,
         "-18",
         "0.0",
         "1024.0",
         "SE",
         "1.79",
         "0",
         "0"
        ],
        [
         "549",
         "550",
         "2010",
         "1",
         "23",
         "21",
         null,
         "-15",
         "-3.0",
         "1024.0",
         "cv",
         "0.89",
         "0",
         "0"
        ],
        [
         "550",
         "551",
         "2010",
         "1",
         "23",
         "22",
         null,
         "-16",
         "0.0",
         "1023.0",
         "NW",
         "1.79",
         "0",
         "0"
        ],
        [
         "551",
         "552",
         "2010",
         "1",
         "23",
         "23",
         null,
         "-16",
         "0.0",
         "1023.0",
         "NW",
         "4.92",
         "0",
         "0"
        ],
        [
         "552",
         "553",
         "2010",
         "1",
         "24",
         "0",
         null,
         "-15",
         "-2.0",
         "1022.0",
         "NW",
         "6.71",
         "0",
         "0"
        ],
        [
         "553",
         "554",
         "2010",
         "1",
         "24",
         "1",
         null,
         "-14",
         "-7.0",
         "1022.0",
         "cv",
         "0.45",
         "0",
         "0"
        ],
        [
         "554",
         "555",
         "2010",
         "1",
         "24",
         "2",
         null,
         "-14",
         "-8.0",
         "1021.0",
         "NW",
         "1.79",
         "0",
         "0"
        ],
        [
         "555",
         "556",
         "2010",
         "1",
         "24",
         "3",
         null,
         "-16",
         "-11.0",
         "1021.0",
         "NW",
         "3.58",
         "0",
         "0"
        ],
        [
         "556",
         "557",
         "2010",
         "1",
         "24",
         "4",
         null,
         "-14",
         "-9.0",
         "1019.0",
         "NW",
         "4.47",
         "0",
         "0"
        ],
        [
         "557",
         "558",
         "2010",
         "1",
         "24",
         "5",
         null,
         "-15",
         "-10.0",
         "1019.0",
         "cv",
         "0.89",
         "0",
         "0"
        ],
        [
         "558",
         "559",
         "2010",
         "1",
         "24",
         "6",
         null,
         "-16",
         "-12.0",
         "1019.0",
         "SE",
         "0.89",
         "0",
         "0"
        ],
        [
         "559",
         "560",
         "2010",
         "1",
         "24",
         "7",
         null,
         "-15",
         "-12.0",
         "1019.0",
         "cv",
         "0.89",
         "0",
         "0"
        ],
        [
         "560",
         "561",
         "2010",
         "1",
         "24",
         "8",
         null,
         "-16",
         "-13.0",
         "1019.0",
         "NE",
         "1.79",
         "0",
         "0"
        ],
        [
         "561",
         "562",
         "2010",
         "1",
         "24",
         "9",
         null,
         "-13",
         "-7.0",
         "1020.0",
         "cv",
         "0.89",
         "0",
         "0"
        ],
        [
         "562",
         "563",
         "2010",
         "1",
         "24",
         "10",
         null,
         "-12",
         "-4.0",
         "1019.0",
         "cv",
         "1.78",
         "0",
         "0"
        ],
        [
         "563",
         "564",
         "2010",
         "1",
         "24",
         "11",
         null,
         "-13",
         "0.0",
         "1019.0",
         "cv",
         "2.67",
         "0",
         "0"
        ],
        [
         "564",
         "565",
         "2010",
         "1",
         "24",
         "12",
         null,
         "-16",
         "4.0",
         "1018.0",
         "NW",
         "4.02",
         "0",
         "0"
        ],
        [
         "565",
         "566",
         "2010",
         "1",
         "24",
         "13",
         null,
         "-19",
         "5.0",
         "1017.0",
         "NW",
         "13.85",
         "0",
         "0"
        ],
        [
         "566",
         "567",
         "2010",
         "1",
         "24",
         "14",
         null,
         "-18",
         "5.0",
         "1017.0",
         "NW",
         "22.79",
         "0",
         "0"
        ],
        [
         "567",
         "568",
         "2010",
         "1",
         "24",
         "15",
         null,
         "-19",
         "5.0",
         "1017.0",
         "NW",
         "32.62",
         "0",
         "0"
        ],
        [
         "568",
         "569",
         "2010",
         "1",
         "24",
         "16",
         null,
         "-20",
         "5.0",
         "1018.0",
         "NW",
         "40.67",
         "0",
         "0"
        ],
        [
         "569",
         "570",
         "2010",
         "1",
         "24",
         "17",
         null,
         "-19",
         "3.0",
         "1020.0",
         "NW",
         "49.61",
         "0",
         "0"
        ],
        [
         "570",
         "571",
         "2010",
         "1",
         "24",
         "18",
         null,
         "-18",
         "1.0",
         "1023.0",
         "NW",
         "61.68",
         "0",
         "0"
        ]
       ],
       "shape": {
        "columns": 13,
        "rows": 2067
       }
      },
      "text/html": [
       "<div>\n",
       "<style scoped>\n",
       "    .dataframe tbody tr th:only-of-type {\n",
       "        vertical-align: middle;\n",
       "    }\n",
       "\n",
       "    .dataframe tbody tr th {\n",
       "        vertical-align: top;\n",
       "    }\n",
       "\n",
       "    .dataframe thead th {\n",
       "        text-align: right;\n",
       "    }\n",
       "</style>\n",
       "<table border=\"1\" class=\"dataframe\">\n",
       "  <thead>\n",
       "    <tr style=\"text-align: right;\">\n",
       "      <th></th>\n",
       "      <th>No</th>\n",
       "      <th>year</th>\n",
       "      <th>month</th>\n",
       "      <th>day</th>\n",
       "      <th>hour</th>\n",
       "      <th>pm2.5</th>\n",
       "      <th>DEWP</th>\n",
       "      <th>TEMP</th>\n",
       "      <th>PRES</th>\n",
       "      <th>cbwd</th>\n",
       "      <th>Iws</th>\n",
       "      <th>Is</th>\n",
       "      <th>Ir</th>\n",
       "    </tr>\n",
       "  </thead>\n",
       "  <tbody>\n",
       "    <tr>\n",
       "      <th>0</th>\n",
       "      <td>1</td>\n",
       "      <td>2010</td>\n",
       "      <td>1</td>\n",
       "      <td>1</td>\n",
       "      <td>0</td>\n",
       "      <td>NaN</td>\n",
       "      <td>-21</td>\n",
       "      <td>-11.0</td>\n",
       "      <td>1021.0</td>\n",
       "      <td>NW</td>\n",
       "      <td>1.79</td>\n",
       "      <td>0</td>\n",
       "      <td>0</td>\n",
       "    </tr>\n",
       "    <tr>\n",
       "      <th>1</th>\n",
       "      <td>2</td>\n",
       "      <td>2010</td>\n",
       "      <td>1</td>\n",
       "      <td>1</td>\n",
       "      <td>1</td>\n",
       "      <td>NaN</td>\n",
       "      <td>-21</td>\n",
       "      <td>-12.0</td>\n",
       "      <td>1020.0</td>\n",
       "      <td>NW</td>\n",
       "      <td>4.92</td>\n",
       "      <td>0</td>\n",
       "      <td>0</td>\n",
       "    </tr>\n",
       "    <tr>\n",
       "      <th>2</th>\n",
       "      <td>3</td>\n",
       "      <td>2010</td>\n",
       "      <td>1</td>\n",
       "      <td>1</td>\n",
       "      <td>2</td>\n",
       "      <td>NaN</td>\n",
       "      <td>-21</td>\n",
       "      <td>-11.0</td>\n",
       "      <td>1019.0</td>\n",
       "      <td>NW</td>\n",
       "      <td>6.71</td>\n",
       "      <td>0</td>\n",
       "      <td>0</td>\n",
       "    </tr>\n",
       "    <tr>\n",
       "      <th>3</th>\n",
       "      <td>4</td>\n",
       "      <td>2010</td>\n",
       "      <td>1</td>\n",
       "      <td>1</td>\n",
       "      <td>3</td>\n",
       "      <td>NaN</td>\n",
       "      <td>-21</td>\n",
       "      <td>-14.0</td>\n",
       "      <td>1019.0</td>\n",
       "      <td>NW</td>\n",
       "      <td>9.84</td>\n",
       "      <td>0</td>\n",
       "      <td>0</td>\n",
       "    </tr>\n",
       "    <tr>\n",
       "      <th>4</th>\n",
       "      <td>5</td>\n",
       "      <td>2010</td>\n",
       "      <td>1</td>\n",
       "      <td>1</td>\n",
       "      <td>4</td>\n",
       "      <td>NaN</td>\n",
       "      <td>-20</td>\n",
       "      <td>-12.0</td>\n",
       "      <td>1018.0</td>\n",
       "      <td>NW</td>\n",
       "      <td>12.97</td>\n",
       "      <td>0</td>\n",
       "      <td>0</td>\n",
       "    </tr>\n",
       "    <tr>\n",
       "      <th>...</th>\n",
       "      <td>...</td>\n",
       "      <td>...</td>\n",
       "      <td>...</td>\n",
       "      <td>...</td>\n",
       "      <td>...</td>\n",
       "      <td>...</td>\n",
       "      <td>...</td>\n",
       "      <td>...</td>\n",
       "      <td>...</td>\n",
       "      <td>...</td>\n",
       "      <td>...</td>\n",
       "      <td>...</td>\n",
       "      <td>...</td>\n",
       "    </tr>\n",
       "    <tr>\n",
       "      <th>43548</th>\n",
       "      <td>43549</td>\n",
       "      <td>2014</td>\n",
       "      <td>12</td>\n",
       "      <td>20</td>\n",
       "      <td>12</td>\n",
       "      <td>NaN</td>\n",
       "      <td>-18</td>\n",
       "      <td>0.0</td>\n",
       "      <td>1030.0</td>\n",
       "      <td>NW</td>\n",
       "      <td>244.97</td>\n",
       "      <td>0</td>\n",
       "      <td>0</td>\n",
       "    </tr>\n",
       "    <tr>\n",
       "      <th>43549</th>\n",
       "      <td>43550</td>\n",
       "      <td>2014</td>\n",
       "      <td>12</td>\n",
       "      <td>20</td>\n",
       "      <td>13</td>\n",
       "      <td>NaN</td>\n",
       "      <td>-19</td>\n",
       "      <td>1.0</td>\n",
       "      <td>1029.0</td>\n",
       "      <td>NW</td>\n",
       "      <td>249.89</td>\n",
       "      <td>0</td>\n",
       "      <td>0</td>\n",
       "    </tr>\n",
       "    <tr>\n",
       "      <th>43550</th>\n",
       "      <td>43551</td>\n",
       "      <td>2014</td>\n",
       "      <td>12</td>\n",
       "      <td>20</td>\n",
       "      <td>14</td>\n",
       "      <td>NaN</td>\n",
       "      <td>-20</td>\n",
       "      <td>1.0</td>\n",
       "      <td>1029.0</td>\n",
       "      <td>NW</td>\n",
       "      <td>257.04</td>\n",
       "      <td>0</td>\n",
       "      <td>0</td>\n",
       "    </tr>\n",
       "    <tr>\n",
       "      <th>43551</th>\n",
       "      <td>43552</td>\n",
       "      <td>2014</td>\n",
       "      <td>12</td>\n",
       "      <td>20</td>\n",
       "      <td>15</td>\n",
       "      <td>NaN</td>\n",
       "      <td>-20</td>\n",
       "      <td>2.0</td>\n",
       "      <td>1028.0</td>\n",
       "      <td>NW</td>\n",
       "      <td>262.85</td>\n",
       "      <td>0</td>\n",
       "      <td>0</td>\n",
       "    </tr>\n",
       "    <tr>\n",
       "      <th>43552</th>\n",
       "      <td>43553</td>\n",
       "      <td>2014</td>\n",
       "      <td>12</td>\n",
       "      <td>20</td>\n",
       "      <td>16</td>\n",
       "      <td>NaN</td>\n",
       "      <td>-21</td>\n",
       "      <td>1.0</td>\n",
       "      <td>1028.0</td>\n",
       "      <td>NW</td>\n",
       "      <td>270.00</td>\n",
       "      <td>0</td>\n",
       "      <td>0</td>\n",
       "    </tr>\n",
       "  </tbody>\n",
       "</table>\n",
       "<p>2067 rows × 13 columns</p>\n",
       "</div>"
      ],
      "text/plain": [
       "          No  year  month  day  hour  pm2.5  DEWP  TEMP    PRES cbwd     Iws  \\\n",
       "0          1  2010      1    1     0    NaN   -21 -11.0  1021.0   NW    1.79   \n",
       "1          2  2010      1    1     1    NaN   -21 -12.0  1020.0   NW    4.92   \n",
       "2          3  2010      1    1     2    NaN   -21 -11.0  1019.0   NW    6.71   \n",
       "3          4  2010      1    1     3    NaN   -21 -14.0  1019.0   NW    9.84   \n",
       "4          5  2010      1    1     4    NaN   -20 -12.0  1018.0   NW   12.97   \n",
       "...      ...   ...    ...  ...   ...    ...   ...   ...     ...  ...     ...   \n",
       "43548  43549  2014     12   20    12    NaN   -18   0.0  1030.0   NW  244.97   \n",
       "43549  43550  2014     12   20    13    NaN   -19   1.0  1029.0   NW  249.89   \n",
       "43550  43551  2014     12   20    14    NaN   -20   1.0  1029.0   NW  257.04   \n",
       "43551  43552  2014     12   20    15    NaN   -20   2.0  1028.0   NW  262.85   \n",
       "43552  43553  2014     12   20    16    NaN   -21   1.0  1028.0   NW  270.00   \n",
       "\n",
       "       Is  Ir  \n",
       "0       0   0  \n",
       "1       0   0  \n",
       "2       0   0  \n",
       "3       0   0  \n",
       "4       0   0  \n",
       "...    ..  ..  \n",
       "43548   0   0  \n",
       "43549   0   0  \n",
       "43550   0   0  \n",
       "43551   0   0  \n",
       "43552   0   0  \n",
       "\n",
       "[2067 rows x 13 columns]"
      ]
     },
     "metadata": {},
     "output_type": "display_data"
    }
   ],
   "source": [
    "data[data['pm2.5'].isna()]"
   ]
  },
  {
   "cell_type": "code",
   "execution_count": null,
   "metadata": {},
   "outputs": [],
   "source": [
    "data = data.iloc[24:].copy()"
   ]
  },
  {
   "cell_type": "code",
   "execution_count": null,
   "metadata": {},
   "outputs": [],
   "source": [
    "data.fillna(method='ffill', inplace=True)"
   ]
  },
  {
   "cell_type": "code",
   "execution_count": null,
   "metadata": {},
   "outputs": [
    {
     "name": "stdout",
     "output_type": "stream",
     "text": [
      "<class 'pandas.core.frame.DataFrame'>\n",
      "RangeIndex: 43800 entries, 24 to 43823\n",
      "Data columns (total 13 columns):\n",
      " #   Column  Non-Null Count  Dtype  \n",
      "---  ------  --------------  -----  \n",
      " 0   No      43800 non-null  int64  \n",
      " 1   year    43800 non-null  int64  \n",
      " 2   month   43800 non-null  int64  \n",
      " 3   day     43800 non-null  int64  \n",
      " 4   hour    43800 non-null  int64  \n",
      " 5   pm2.5   43800 non-null  float64\n",
      " 6   DEWP    43800 non-null  int64  \n",
      " 7   TEMP    43800 non-null  float64\n",
      " 8   PRES    43800 non-null  float64\n",
      " 9   cbwd    43800 non-null  object \n",
      " 10  Iws     43800 non-null  float64\n",
      " 11  Is      43800 non-null  int64  \n",
      " 12  Ir      43800 non-null  int64  \n",
      "dtypes: float64(4), int64(8), object(1)\n",
      "memory usage: 4.3+ MB\n"
     ]
    }
   ],
   "source": [
    "data.info()"
   ]
  },
  {
   "cell_type": "code",
   "execution_count": null,
   "metadata": {},
   "outputs": [],
   "source": [
    "data.drop('No', axis=1, inplace=True)"
   ]
  },
  {
   "cell_type": "code",
   "execution_count": null,
   "metadata": {},
   "outputs": [],
   "source": [
    "import datetime"
   ]
  },
  {
   "cell_type": "code",
   "execution_count": null,
   "metadata": {},
   "outputs": [],
   "source": [
    "data['time'] = data.apply(lambda x: datetime.datetime(year=x['year'],\n",
    "                                       month=x['month'],\n",
    "                                       day=x['day'], \n",
    "                                       hour=x['hour']), \n",
    "                          axis=1)"
   ]
  },
  {
   "cell_type": "code",
   "execution_count": null,
   "metadata": {},
   "outputs": [],
   "source": [
    "data.set_index('time', inplace=True)"
   ]
  },
  {
   "cell_type": "code",
   "execution_count": null,
   "metadata": {},
   "outputs": [],
   "source": [
    "data.drop(columns=['year', 'month', 'day', 'hour'], inplace=True)"
   ]
  },
  {
   "cell_type": "code",
   "execution_count": null,
   "metadata": {},
   "outputs": [
    {
     "data": {
      "application/vnd.microsoft.datawrangler.viewer.v0+json": {
       "columns": [
        {
         "name": "time",
         "rawType": "datetime64[ns]",
         "type": "datetime"
        },
        {
         "name": "pm2.5",
         "rawType": "float64",
         "type": "float"
        },
        {
         "name": "DEWP",
         "rawType": "int64",
         "type": "integer"
        },
        {
         "name": "TEMP",
         "rawType": "float64",
         "type": "float"
        },
        {
         "name": "PRES",
         "rawType": "float64",
         "type": "float"
        },
        {
         "name": "cbwd",
         "rawType": "object",
         "type": "string"
        },
        {
         "name": "Iws",
         "rawType": "float64",
         "type": "float"
        },
        {
         "name": "Is",
         "rawType": "int64",
         "type": "integer"
        },
        {
         "name": "Ir",
         "rawType": "int64",
         "type": "integer"
        }
       ],
       "ref": "7cf5c44d-9039-47d2-99b9-a5a4e596c359",
       "rows": [
        [
         "2010-01-02 00:00:00",
         "129.0",
         "-16",
         "-4.0",
         "1020.0",
         "SE",
         "1.79",
         "0",
         "0"
        ],
        [
         "2010-01-02 01:00:00",
         "148.0",
         "-15",
         "-4.0",
         "1020.0",
         "SE",
         "2.68",
         "0",
         "0"
        ],
        [
         "2010-01-02 02:00:00",
         "159.0",
         "-11",
         "-5.0",
         "1021.0",
         "SE",
         "3.57",
         "0",
         "0"
        ],
        [
         "2010-01-02 03:00:00",
         "181.0",
         "-7",
         "-5.0",
         "1022.0",
         "SE",
         "5.36",
         "1",
         "0"
        ],
        [
         "2010-01-02 04:00:00",
         "138.0",
         "-7",
         "-5.0",
         "1022.0",
         "SE",
         "6.25",
         "2",
         "0"
        ]
       ],
       "shape": {
        "columns": 8,
        "rows": 5
       }
      },
      "text/html": [
       "<div>\n",
       "<style scoped>\n",
       "    .dataframe tbody tr th:only-of-type {\n",
       "        vertical-align: middle;\n",
       "    }\n",
       "\n",
       "    .dataframe tbody tr th {\n",
       "        vertical-align: top;\n",
       "    }\n",
       "\n",
       "    .dataframe thead th {\n",
       "        text-align: right;\n",
       "    }\n",
       "</style>\n",
       "<table border=\"1\" class=\"dataframe\">\n",
       "  <thead>\n",
       "    <tr style=\"text-align: right;\">\n",
       "      <th></th>\n",
       "      <th>pm2.5</th>\n",
       "      <th>DEWP</th>\n",
       "      <th>TEMP</th>\n",
       "      <th>PRES</th>\n",
       "      <th>cbwd</th>\n",
       "      <th>Iws</th>\n",
       "      <th>Is</th>\n",
       "      <th>Ir</th>\n",
       "    </tr>\n",
       "    <tr>\n",
       "      <th>time</th>\n",
       "      <th></th>\n",
       "      <th></th>\n",
       "      <th></th>\n",
       "      <th></th>\n",
       "      <th></th>\n",
       "      <th></th>\n",
       "      <th></th>\n",
       "      <th></th>\n",
       "    </tr>\n",
       "  </thead>\n",
       "  <tbody>\n",
       "    <tr>\n",
       "      <th>2010-01-02 00:00:00</th>\n",
       "      <td>129.0</td>\n",
       "      <td>-16</td>\n",
       "      <td>-4.0</td>\n",
       "      <td>1020.0</td>\n",
       "      <td>SE</td>\n",
       "      <td>1.79</td>\n",
       "      <td>0</td>\n",
       "      <td>0</td>\n",
       "    </tr>\n",
       "    <tr>\n",
       "      <th>2010-01-02 01:00:00</th>\n",
       "      <td>148.0</td>\n",
       "      <td>-15</td>\n",
       "      <td>-4.0</td>\n",
       "      <td>1020.0</td>\n",
       "      <td>SE</td>\n",
       "      <td>2.68</td>\n",
       "      <td>0</td>\n",
       "      <td>0</td>\n",
       "    </tr>\n",
       "    <tr>\n",
       "      <th>2010-01-02 02:00:00</th>\n",
       "      <td>159.0</td>\n",
       "      <td>-11</td>\n",
       "      <td>-5.0</td>\n",
       "      <td>1021.0</td>\n",
       "      <td>SE</td>\n",
       "      <td>3.57</td>\n",
       "      <td>0</td>\n",
       "      <td>0</td>\n",
       "    </tr>\n",
       "    <tr>\n",
       "      <th>2010-01-02 03:00:00</th>\n",
       "      <td>181.0</td>\n",
       "      <td>-7</td>\n",
       "      <td>-5.0</td>\n",
       "      <td>1022.0</td>\n",
       "      <td>SE</td>\n",
       "      <td>5.36</td>\n",
       "      <td>1</td>\n",
       "      <td>0</td>\n",
       "    </tr>\n",
       "    <tr>\n",
       "      <th>2010-01-02 04:00:00</th>\n",
       "      <td>138.0</td>\n",
       "      <td>-7</td>\n",
       "      <td>-5.0</td>\n",
       "      <td>1022.0</td>\n",
       "      <td>SE</td>\n",
       "      <td>6.25</td>\n",
       "      <td>2</td>\n",
       "      <td>0</td>\n",
       "    </tr>\n",
       "  </tbody>\n",
       "</table>\n",
       "</div>"
      ],
      "text/plain": [
       "                     pm2.5  DEWP  TEMP    PRES cbwd   Iws  Is  Ir\n",
       "time                                                             \n",
       "2010-01-02 00:00:00  129.0   -16  -4.0  1020.0   SE  1.79   0   0\n",
       "2010-01-02 01:00:00  148.0   -15  -4.0  1020.0   SE  2.68   0   0\n",
       "2010-01-02 02:00:00  159.0   -11  -5.0  1021.0   SE  3.57   0   0\n",
       "2010-01-02 03:00:00  181.0    -7  -5.0  1022.0   SE  5.36   1   0\n",
       "2010-01-02 04:00:00  138.0    -7  -5.0  1022.0   SE  6.25   2   0"
      ]
     },
     "metadata": {},
     "output_type": "display_data"
    }
   ],
   "source": [
    "data.head()"
   ]
  },
  {
   "cell_type": "code",
   "execution_count": null,
   "metadata": {},
   "outputs": [],
   "source": [
    "data.columns = ['pm2.5', 'dew', 'temp', 'press', 'cbwd', 'iws', 'snow', 'rain']"
   ]
  },
  {
   "cell_type": "code",
   "execution_count": null,
   "metadata": {},
   "outputs": [
    {
     "data": {
      "text/plain": [
       "array(['SE', 'cv', 'NW', 'NE'], dtype=object)"
      ]
     },
     "metadata": {},
     "output_type": "display_data"
    }
   ],
   "source": [
    "data.cbwd.unique()"
   ]
  },
  {
   "cell_type": "code",
   "execution_count": null,
   "metadata": {},
   "outputs": [],
   "source": [
    "data = data.join(pd.get_dummies(data.cbwd))"
   ]
  },
  {
   "cell_type": "code",
   "execution_count": null,
   "metadata": {},
   "outputs": [],
   "source": [
    "del data['cbwd']"
   ]
  },
  {
   "cell_type": "code",
   "execution_count": null,
   "metadata": {},
   "outputs": [
    {
     "name": "stdout",
     "output_type": "stream",
     "text": [
      "<class 'pandas.core.frame.DataFrame'>\n",
      "DatetimeIndex: 43800 entries, 2010-01-02 00:00:00 to 2014-12-31 23:00:00\n",
      "Data columns (total 11 columns):\n",
      " #   Column  Non-Null Count  Dtype  \n",
      "---  ------  --------------  -----  \n",
      " 0   pm2.5   43800 non-null  float64\n",
      " 1   dew     43800 non-null  int64  \n",
      " 2   temp    43800 non-null  float64\n",
      " 3   press   43800 non-null  float64\n",
      " 4   iws     43800 non-null  float64\n",
      " 5   snow    43800 non-null  int64  \n",
      " 6   rain    43800 non-null  int64  \n",
      " 7   NE      43800 non-null  uint8  \n",
      " 8   NW      43800 non-null  uint8  \n",
      " 9   SE      43800 non-null  uint8  \n",
      " 10  cv      43800 non-null  uint8  \n",
      "dtypes: float64(4), int64(3), uint8(4)\n",
      "memory usage: 3.8 MB\n"
     ]
    }
   ],
   "source": [
    "data.info()"
   ]
  },
  {
   "cell_type": "code",
   "execution_count": null,
   "metadata": {},
   "outputs": [
    {
     "data": {
      "text/plain": [
       "<matplotlib.axes._subplots.AxesSubplot at 0x1c7f75f9a60>"
      ]
     },
     "metadata": {},
     "output_type": "display_data"
    },
    {
     "data": {
      "image/png": "[encoded data removed]",
      "text/plain": [
       "<Figure size 640x480 with 1 Axes>"
      ]
     },
     "metadata": {},
     "output_type": "display_data"
    }
   ],
   "source": [
    "data['pm2.5'][-1000:].plot()"
   ]
  },
  {
   "cell_type": "code",
   "execution_count": null,
   "metadata": {},
   "outputs": [
    {
     "data": {
      "text/plain": [
       "<matplotlib.axes._subplots.AxesSubplot at 0x1c7f64bd700>"
      ]
     },
     "metadata": {},
     "output_type": "display_data"
    },
    {
     "data": {
      "image/png": "[encoded data removed]",
      "text/plain": [
       "<Figure size 640x480 with 1 Axes>"
      ]
     },
     "metadata": {},
     "output_type": "display_data"
    }
   ],
   "source": [
    "data['temp'][-1000:].plot()"
   ]
  },
  {
   "cell_type": "code",
   "execution_count": null,
   "metadata": {},
   "outputs": [
    {
     "data": {
      "application/vnd.microsoft.datawrangler.viewer.v0+json": {
       "columns": [
        {
         "name": "time",
         "rawType": "datetime64[ns]",
         "type": "datetime"
        },
        {
         "name": "pm2.5",
         "rawType": "float64",
         "type": "float"
        },
        {
         "name": "dew",
         "rawType": "int64",
         "type": "integer"
        },
        {
         "name": "temp",
         "rawType": "float64",
         "type": "float"
        },
        {
         "name": "press",
         "rawType": "float64",
         "type": "float"
        },
        {
         "name": "iws",
         "rawType": "float64",
         "type": "float"
        },
        {
         "name": "snow",
         "rawType": "int64",
         "type": "integer"
        },
        {
         "name": "rain",
         "rawType": "int64",
         "type": "integer"
        },
        {
         "name": "NE",
         "rawType": "uint8",
         "type": "integer"
        },
        {
         "name": "NW",
         "rawType": "uint8",
         "type": "integer"
        },
        {
         "name": "SE",
         "rawType": "uint8",
         "type": "integer"
        },
        {
         "name": "cv",
         "rawType": "uint8",
         "type": "integer"
        }
       ],
       "ref": "500a0fad-611a-430d-9ef0-9b9fbc470c76",
       "rows": [
        [
         "2010-01-02 00:00:00",
         "129.0",
         "-16",
         "-4.0",
         "1020.0",
         "1.79",
         "0",
         "0",
         "0",
         "0",
         "1",
         "0"
        ],
        [
         "2010-01-02 01:00:00",
         "148.0",
         "-15",
         "-4.0",
         "1020.0",
         "2.68",
         "0",
         "0",
         "0",
         "0",
         "1",
         "0"
        ],
        [
         "2010-01-02 02:00:00",
         "159.0",
         "-11",
         "-5.0",
         "1021.0",
         "3.57",
         "0",
         "0",
         "0",
         "0",
         "1",
         "0"
        ]
       ],
       "shape": {
        "columns": 11,
        "rows": 3
       }
      },
      "text/html": [
       "<div>\n",
       "<style scoped>\n",
       "    .dataframe tbody tr th:only-of-type {\n",
       "        vertical-align: middle;\n",
       "    }\n",
       "\n",
       "    .dataframe tbody tr th {\n",
       "        vertical-align: top;\n",
       "    }\n",
       "\n",
       "    .dataframe thead th {\n",
       "        text-align: right;\n",
       "    }\n",
       "</style>\n",
       "<table border=\"1\" class=\"dataframe\">\n",
       "  <thead>\n",
       "    <tr style=\"text-align: right;\">\n",
       "      <th></th>\n",
       "      <th>pm2.5</th>\n",
       "      <th>dew</th>\n",
       "      <th>temp</th>\n",
       "      <th>press</th>\n",
       "      <th>iws</th>\n",
       "      <th>snow</th>\n",
       "      <th>rain</th>\n",
       "      <th>NE</th>\n",
       "      <th>NW</th>\n",
       "      <th>SE</th>\n",
       "      <th>cv</th>\n",
       "    </tr>\n",
       "    <tr>\n",
       "      <th>time</th>\n",
       "      <th></th>\n",
       "      <th></th>\n",
       "      <th></th>\n",
       "      <th></th>\n",
       "      <th></th>\n",
       "      <th></th>\n",
       "      <th></th>\n",
       "      <th></th>\n",
       "      <th></th>\n",
       "      <th></th>\n",
       "      <th></th>\n",
       "    </tr>\n",
       "  </thead>\n",
       "  <tbody>\n",
       "    <tr>\n",
       "      <th>2010-01-02 00:00:00</th>\n",
       "      <td>129.0</td>\n",
       "      <td>-16</td>\n",
       "      <td>-4.0</td>\n",
       "      <td>1020.0</td>\n",
       "      <td>1.79</td>\n",
       "      <td>0</td>\n",
       "      <td>0</td>\n",
       "      <td>0</td>\n",
       "      <td>0</td>\n",
       "      <td>1</td>\n",
       "      <td>0</td>\n",
       "    </tr>\n",
       "    <tr>\n",
       "      <th>2010-01-02 01:00:00</th>\n",
       "      <td>148.0</td>\n",
       "      <td>-15</td>\n",
       "      <td>-4.0</td>\n",
       "      <td>1020.0</td>\n",
       "      <td>2.68</td>\n",
       "      <td>0</td>\n",
       "      <td>0</td>\n",
       "      <td>0</td>\n",
       "      <td>0</td>\n",
       "      <td>1</td>\n",
       "      <td>0</td>\n",
       "    </tr>\n",
       "    <tr>\n",
       "      <th>2010-01-02 02:00:00</th>\n",
       "      <td>159.0</td>\n",
       "      <td>-11</td>\n",
       "      <td>-5.0</td>\n",
       "      <td>1021.0</td>\n",
       "      <td>3.57</td>\n",
       "      <td>0</td>\n",
       "      <td>0</td>\n",
       "      <td>0</td>\n",
       "      <td>0</td>\n",
       "      <td>1</td>\n",
       "      <td>0</td>\n",
       "    </tr>\n",
       "  </tbody>\n",
       "</table>\n",
       "</div>"
      ],
      "text/plain": [
       "                     pm2.5  dew  temp   press   iws  snow  rain  NE  NW  SE  \\\n",
       "time                                                                          \n",
       "2010-01-02 00:00:00  129.0  -16  -4.0  1020.0  1.79     0     0   0   0   1   \n",
       "2010-01-02 01:00:00  148.0  -15  -4.0  1020.0  2.68     0     0   0   0   1   \n",
       "2010-01-02 02:00:00  159.0  -11  -5.0  1021.0  3.57     0     0   0   0   1   \n",
       "\n",
       "                     cv  \n",
       "time                     \n",
       "2010-01-02 00:00:00   0  \n",
       "2010-01-02 01:00:00   0  \n",
       "2010-01-02 02:00:00   0  "
      ]
     },
     "metadata": {},
     "output_type": "display_data"
    }
   ],
   "source": [
    "data.head(3)"
   ]
  },
  {
   "cell_type": "code",
   "execution_count": null,
   "metadata": {},
   "outputs": [],
   "source": [
    "sequence_length = 5*24\n",
    "delay = 24"
   ]
  },
  {
   "cell_type": "code",
   "execution_count": null,
   "metadata": {},
   "outputs": [],
   "source": [
    "data_ = []\n",
    "for i in range(len(data) - sequence_length - delay):\n",
    "    data_.append(data.iloc[i: i + sequence_length + delay])"
   ]
  },
  {
   "cell_type": "code",
   "execution_count": null,
   "metadata": {},
   "outputs": [],
   "source": [
    "data_ = np.array([df.values for df in data_])"
   ]
  },
  {
   "cell_type": "code",
   "execution_count": null,
   "metadata": {},
   "outputs": [
    {
     "data": {
      "text/plain": [
       "(43656, 144, 11)"
      ]
     },
     "metadata": {},
     "output_type": "display_data"
    }
   ],
   "source": [
    "data_.shape"
   ]
  },
  {
   "cell_type": "code",
   "execution_count": null,
   "metadata": {},
   "outputs": [],
   "source": [
    "np.random.shuffle(data_)"
   ]
  },
  {
   "cell_type": "code",
   "execution_count": null,
   "metadata": {},
   "outputs": [],
   "source": [
    "x = data_[:, :-delay, :]\n",
    "y = data_[:, -1, 0]"
   ]
  },
  {
   "cell_type": "code",
   "execution_count": null,
   "metadata": {},
   "outputs": [],
   "source": [
    "x = x.astype(np.float32)\n",
    "y = y.astype(np.float32)"
   ]
  },
  {
   "cell_type": "code",
   "execution_count": null,
   "metadata": {},
   "outputs": [],
   "source": [
    "split_boundary = int(data_.shape[0] * 0.8)"
   ]
  },
  {
   "cell_type": "code",
   "execution_count": null,
   "metadata": {},
   "outputs": [],
   "source": [
    "train_x = x[: split_boundary]\n",
    "test_x = x[split_boundary:]\n",
    "\n",
    "train_y = y[: split_boundary]\n",
    "test_y = y[split_boundary:]"
   ]
  },
  {
   "cell_type": "code",
   "execution_count": null,
   "metadata": {},
   "outputs": [
    {
     "data": {
      "text/plain": [
       "((34924, 120, 11), (8732, 120, 11), (34924,), (8732,))"
      ]
     },
     "metadata": {},
     "output_type": "display_data"
    }
   ],
   "source": [
    "train_x.shape, test_x.shape, train_y.shape, test_y.shape"
   ]
  },
  {
   "cell_type": "code",
   "execution_count": null,
   "metadata": {},
   "outputs": [],
   "source": [
    "mean = train_x.mean(axis=0)\n",
    "std = train_x.std(axis=0)"
   ]
  },
  {
   "cell_type": "code",
   "execution_count": null,
   "metadata": {},
   "outputs": [
    {
     "data": {
      "text/plain": [
       "(120, 11)"
      ]
     },
     "metadata": {},
     "output_type": "display_data"
    }
   ],
   "source": [
    "mean.shape"
   ]
  },
  {
   "cell_type": "code",
   "execution_count": null,
   "metadata": {},
   "outputs": [],
   "source": [
    "train_x = (train_x - mean)/std"
   ]
  },
  {
   "cell_type": "code",
   "execution_count": null,
   "metadata": {},
   "outputs": [],
   "source": [
    "test_x = (test_x - mean)/std"
   ]
  },
  {
   "cell_type": "code",
   "execution_count": null,
   "metadata": {},
   "outputs": [],
   "source": [
    "class Mydataset(torch.utils.data.Dataset):\n",
    "    def __init__(self, features, labels):\n",
    "        self.features = features\n",
    "        self.labels = labels\n",
    "        \n",
    "    def __getitem__(self, index):\n",
    "        feature = self.features[index]\n",
    "        label = self.labels[index]\n",
    "        return feature, label\n",
    "\n",
    "    def __len__(self):\n",
    "        return len(self.features)"
   ]
  },
  {
   "cell_type": "code",
   "execution_count": null,
   "metadata": {},
   "outputs": [],
   "source": [
    "train_ds = Mydataset(train_x, train_y)\n",
    "test_ds = Mydataset(test_x, test_y)"
   ]
  },
  {
   "cell_type": "code",
   "execution_count": null,
   "metadata": {},
   "outputs": [],
   "source": [
    "BTACH_SIZE = 128"
   ]
  },
  {
   "cell_type": "code",
   "execution_count": null,
   "metadata": {},
   "outputs": [],
   "source": [
    "train_dl = torch.utils.data.DataLoader(\n",
    "                                       train_ds,\n",
    "                                       batch_size=BTACH_SIZE,\n",
    "                                       shuffle=True\n",
    ")"
   ]
  },
  {
   "cell_type": "code",
   "execution_count": null,
   "metadata": {},
   "outputs": [],
   "source": [
    "test_dl = torch.utils.data.DataLoader(\n",
    "                                       test_ds,\n",
    "                                       batch_size=BTACH_SIZE\n",
    ")"
   ]
  },
  {
   "cell_type": "code",
   "execution_count": null,
   "metadata": {},
   "outputs": [],
   "source": [
    "hidden_size = 64"
   ]
  },
  {
   "cell_type": "code",
   "execution_count": null,
   "metadata": {},
   "outputs": [],
   "source": [
    "class Net(nn.Module):\n",
    "    def __init__(self, hidden_size):\n",
    "        super(Net, self).__init__()\n",
    "        self.rnn = nn.LSTM(train_x.shape[-1], \n",
    "                           hidden_size, \n",
    "                           batch_first=True)\n",
    "        self.fc1 = nn.Linear(hidden_size, 128)\n",
    "        self.fc2 = nn.Linear(128, 1)\n",
    "\n",
    "    def forward(self, inputs):\n",
    "        _, s_o = self.rnn(inputs)\n",
    "        s_o = s_o[-1]\n",
    "        x = F.dropout(F.relu(self.fc1(s_o)))\n",
    "        x = self.fc2(x)\n",
    "        return torch.squeeze(x)"
   ]
  },
  {
   "cell_type": "code",
   "execution_count": null,
   "metadata": {},
   "outputs": [],
   "source": [
    "model = Net(hidden_size)"
   ]
  },
  {
   "cell_type": "code",
   "execution_count": null,
   "metadata": {},
   "outputs": [
    {
     "data": {
      "text/plain": [
       "Net(\n",
       "  (rnn): LSTM(11, 64, batch_first=True)\n",
       "  (fc1): Linear(in_features=64, out_features=128, bias=True)\n",
       "  (fc2): Linear(in_features=128, out_features=1, bias=True)\n",
       ")"
      ]
     },
     "metadata": {},
     "output_type": "display_data"
    }
   ],
   "source": [
    "model"
   ]
  },
  {
   "cell_type": "code",
   "execution_count": null,
   "metadata": {},
   "outputs": [],
   "source": [
    "if torch.cuda.is_available():\n",
    "    model.to('cuda')"
   ]
  },
  {
   "cell_type": "code",
   "execution_count": null,
   "metadata": {},
   "outputs": [],
   "source": [
    "loss_fn = nn.MSELoss()\n",
    "optimizer = torch.optim.Adam(model.parameters(), lr=0.001)"
   ]
  },
  {
   "cell_type": "code",
   "execution_count": null,
   "metadata": {},
   "outputs": [],
   "source": [
    "def fit(epoch, model, trainloader, testloader):\n",
    "    total = 0\n",
    "    running_loss = 0\n",
    "    \n",
    "    model.train()\n",
    "    for x, y in trainloader:\n",
    "        if torch.cuda.is_available():\n",
    "            x, y = x.to('cuda'), y.to('cuda')\n",
    "        y_pred = model(x)\n",
    "        loss = loss_fn(y_pred, y)\n",
    "        optimizer.zero_grad()\n",
    "        loss.backward()\n",
    "        optimizer.step()\n",
    "        with torch.no_grad():\n",
    "            total += y.size(0)\n",
    "            running_loss += loss.item()\n",
    "#    exp_lr_scheduler.step()\n",
    "    epoch_loss = running_loss / len(trainloader.dataset)\n",
    "        \n",
    "        \n",
    "    test_total = 0\n",
    "    test_running_loss = 0 \n",
    "    \n",
    "    model.eval()\n",
    "    with torch.no_grad():\n",
    "        for x, y in testloader:\n",
    "            if torch.cuda.is_available():\n",
    "                x, y = x.to('cuda'), y.to('cuda')\n",
    "            y_pred = model(x)\n",
    "            loss = loss_fn(y_pred, y)\n",
    "            test_total += y.size(0)\n",
    "            test_running_loss += loss.item()\n",
    "    \n",
    "    epoch_test_loss = test_running_loss / len(testloader.dataset)\n",
    "    \n",
    "        \n",
    "    print('epoch: ', epoch, \n",
    "          'loss： ', round(epoch_loss, 3),\n",
    "          'test_loss： ', round(epoch_test_loss, 3),\n",
    "             )\n",
    "        \n",
    "    return epoch_loss, epoch_test_loss"
   ]
  },
  {
   "cell_type": "code",
   "execution_count": null,
   "metadata": {},
   "outputs": [],
   "source": [
    "epochs = 50"
   ]
  },
  {
   "cell_type": "code",
   "execution_count": null,
   "metadata": {},
   "outputs": [
    {
     "name": "stdout",
     "output_type": "stream",
     "text": [
      "epoch:  0 loss：  67.552 test_loss：  55.871\n",
      "epoch:  1 loss：  54.731 test_loss：  54.457\n",
      "epoch:  2 loss：  53.375 test_loss：  52.267\n",
      "epoch:  3 loss：  52.595 test_loss：  50.775\n",
      "epoch:  4 loss：  51.712 test_loss：  51.235\n",
      "epoch:  5 loss：  50.913 test_loss：  49.743\n",
      "epoch:  6 loss：  49.962 test_loss：  51.016\n",
      "epoch:  7 loss：  48.83 test_loss：  47.244\n",
      "epoch:  8 loss：  47.469 test_loss：  47.069\n",
      "epoch:  9 loss：  46.286 test_loss：  47.188\n",
      "epoch:  10 loss：  45.057 test_loss：  44.012\n",
      "epoch:  11 loss：  44.265 test_loss：  46.791\n",
      "epoch:  12 loss：  45.46 test_loss：  45.059\n",
      "epoch:  13 loss：  42.581 test_loss：  40.574\n",
      "epoch:  14 loss：  40.435 test_loss：  41.614\n",
      "epoch:  15 loss：  41.05 test_loss：  45.072\n",
      "epoch:  16 loss：  39.674 test_loss：  39.127\n",
      "epoch:  17 loss：  37.109 test_loss：  37.349\n",
      "epoch:  18 loss：  36.795 test_loss：  36.483\n",
      "epoch:  19 loss：  38.218 test_loss：  39.634\n",
      "epoch:  20 loss：  37.139 test_loss：  37.09\n",
      "epoch:  21 loss：  35.35 test_loss：  42.45\n",
      "epoch:  22 loss：  35.506 test_loss：  33.381\n",
      "epoch:  23 loss：  33.495 test_loss：  33.953\n",
      "epoch:  24 loss：  32.573 test_loss：  32.981\n",
      "epoch:  25 loss：  31.513 test_loss：  32.004\n",
      "epoch:  26 loss：  30.134 test_loss：  32.479\n",
      "epoch:  27 loss：  29.56 test_loss：  30.769\n",
      "epoch:  28 loss：  29.714 test_loss：  31.22\n",
      "epoch:  29 loss：  29.116 test_loss：  29.743\n",
      "epoch:  30 loss：  28.421 test_loss：  34.345\n",
      "epoch:  31 loss：  27.683 test_loss：  28.176\n",
      "epoch:  32 loss：  27.658 test_loss：  30.302\n",
      "epoch:  33 loss：  26.015 test_loss：  26.967\n",
      "epoch:  34 loss：  25.426 test_loss：  27.055\n",
      "epoch:  35 loss：  24.361 test_loss：  26.159\n",
      "epoch:  36 loss：  28.539 test_loss：  28.292\n",
      "epoch:  37 loss：  29.753 test_loss：  32.218\n",
      "epoch:  38 loss：  26.876 test_loss：  25.798\n",
      "epoch:  39 loss：  23.729 test_loss：  25.162\n",
      "epoch:  40 loss：  24.563 test_loss：  25.0\n",
      "epoch:  41 loss：  26.575 test_loss：  26.77\n",
      "epoch:  42 loss：  27.566 test_loss：  28.939\n",
      "epoch:  43 loss：  25.55 test_loss：  26.628\n",
      "epoch:  44 loss：  23.729 test_loss：  25.736\n",
      "epoch:  45 loss：  23.008 test_loss：  23.706\n",
      "epoch:  46 loss：  21.546 test_loss：  24.16\n",
      "epoch:  47 loss：  24.469 test_loss：  23.861\n",
      "epoch:  48 loss：  21.0 test_loss：  22.661\n",
      "epoch:  49 loss：  23.751 test_loss：  32.293\n"
     ]
    }
   ],
   "source": [
    "train_loss = []\n",
    "test_loss = []\n",
    "\n",
    "for epoch in range(epochs):\n",
    "    epoch_loss, epoch_test_loss = fit(epoch,\n",
    "                                      model,\n",
    "                                      train_dl,\n",
    "                                      test_dl)\n",
    "    train_loss.append(epoch_loss)\n",
    "    test_loss.append(epoch_test_loss)"
   ]
  }
 ],
 "metadata": {
  "kernelspec": {
   "display_name": "pytorch1.7.1",
   "language": "python",
   "name": "pytorch1.7.1"
  },
  "language_info": {
   "codemirror_mode": {
    "name": "ipython",
    "version": 3
   },
   "file_extension": ".py",
   "mimetype": "text/x-python",
   "name": "python",
   "nbconvert_exporter": "python",
   "pygments_lexer": "ipython3",
   "version": "3.8.18"
  }
 },
 "nbformat": 4,
 "nbformat_minor": 2
}
