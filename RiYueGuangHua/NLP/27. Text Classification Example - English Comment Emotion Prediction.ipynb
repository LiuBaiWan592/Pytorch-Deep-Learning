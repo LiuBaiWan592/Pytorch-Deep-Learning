{
 "cells": [
  {
   "cell_type": "code",
   "execution_count": 1,
   "metadata": {},
   "outputs": [],
   "source": [
    "import torch\n",
    "import torch.nn as nn\n",
    "import torch.nn.functional as F\n",
    "import numpy as np\n",
    "import pandas as pd\n",
    "import matplotlib.pyplot as plt\n",
    "%matplotlib inline"
   ]
  },
  {
   "cell_type": "code",
   "execution_count": 2,
   "metadata": {},
   "outputs": [],
   "source": [
    "device = torch.device(\"cuda\" if torch.cuda.is_available() else \"cpu\")"
   ]
  },
  {
   "cell_type": "code",
   "execution_count": 3,
   "metadata": {},
   "outputs": [],
   "source": [
    "data = pd.read_csv('Tweets.csv')"
   ]
  },
  {
   "cell_type": "code",
   "execution_count": 4,
   "metadata": {},
   "outputs": [
    {
     "data": {
      "application/vnd.microsoft.datawrangler.viewer.v0+json": {
       "columns": [
        {
         "name": "index",
         "rawType": "int64",
         "type": "integer"
        },
        {
         "name": "tweet_id",
         "rawType": "int64",
         "type": "integer"
        },
        {
         "name": "airline_sentiment",
         "rawType": "object",
         "type": "string"
        },
        {
         "name": "airline_sentiment_confidence",
         "rawType": "float64",
         "type": "float"
        },
        {
         "name": "negativereason",
         "rawType": "object",
         "type": "string"
        },
        {
         "name": "negativereason_confidence",
         "rawType": "float64",
         "type": "float"
        },
        {
         "name": "airline",
         "rawType": "object",
         "type": "string"
        },
        {
         "name": "airline_sentiment_gold",
         "rawType": "object",
         "type": "string"
        },
        {
         "name": "name",
         "rawType": "object",
         "type": "string"
        },
        {
         "name": "negativereason_gold",
         "rawType": "object",
         "type": "string"
        },
        {
         "name": "retweet_count",
         "rawType": "int64",
         "type": "integer"
        },
        {
         "name": "text",
         "rawType": "object",
         "type": "string"
        },
        {
         "name": "tweet_coord",
         "rawType": "object",
         "type": "string"
        },
        {
         "name": "tweet_created",
         "rawType": "object",
         "type": "string"
        },
        {
         "name": "tweet_location",
         "rawType": "object",
         "type": "string"
        },
        {
         "name": "user_timezone",
         "rawType": "object",
         "type": "string"
        }
       ],
       "ref": "6bf44a34-9d50-40be-8762-326886d987e5",
       "rows": [
        [
         "0",
         "570306133677760513",
         "neutral",
         "1.0",
         null,
         null,
         "Virgin America",
         null,
         "cairdin",
         null,
         "0",
         "@VirginAmerica What @dhepburn said.",
         null,
         "2015-02-24 11:35:52 -0800",
         null,
         "Eastern Time (US & Canada)"
        ],
        [
         "1",
         "570301130888122368",
         "positive",
         "0.3486",
         null,
         "0.0",
         "Virgin America",
         null,
         "jnardino",
         null,
         "0",
         "@VirginAmerica plus you've added commercials to the experience... tacky.",
         null,
         "2015-02-24 11:15:59 -0800",
         null,
         "Pacific Time (US & Canada)"
        ],
        [
         "2",
         "570301083672813571",
         "neutral",
         "0.6837",
         null,
         null,
         "Virgin America",
         null,
         "yvonnalynn",
         null,
         "0",
         "@VirginAmerica I didn't today... Must mean I need to take another trip!",
         null,
         "2015-02-24 11:15:48 -0800",
         "Lets Play",
         "Central Time (US & Canada)"
        ],
        [
         "3",
         "570301031407624196",
         "negative",
         "1.0",
         "Bad Flight",
         "0.7033",
         "Virgin America",
         null,
         "jnardino",
         null,
         "0",
         "@VirginAmerica it's really aggressive to blast obnoxious \"entertainment\" in your guests' faces &amp; they have little recourse",
         null,
         "2015-02-24 11:15:36 -0800",
         null,
         "Pacific Time (US & Canada)"
        ],
        [
         "4",
         "570300817074462722",
         "negative",
         "1.0",
         "Can't Tell",
         "1.0",
         "Virgin America",
         null,
         "jnardino",
         null,
         "0",
         "@VirginAmerica and it's a really big bad thing about it",
         null,
         "2015-02-24 11:14:45 -0800",
         null,
         "Pacific Time (US & Canada)"
        ]
       ],
       "shape": {
        "columns": 15,
        "rows": 5
       }
      },
      "text/html": [
       "<div>\n",
       "<style scoped>\n",
       "    .dataframe tbody tr th:only-of-type {\n",
       "        vertical-align: middle;\n",
       "    }\n",
       "\n",
       "    .dataframe tbody tr th {\n",
       "        vertical-align: top;\n",
       "    }\n",
       "\n",
       "    .dataframe thead th {\n",
       "        text-align: right;\n",
       "    }\n",
       "</style>\n",
       "<table border=\"1\" class=\"dataframe\">\n",
       "  <thead>\n",
       "    <tr style=\"text-align: right;\">\n",
       "      <th></th>\n",
       "      <th>tweet_id</th>\n",
       "      <th>airline_sentiment</th>\n",
       "      <th>airline_sentiment_confidence</th>\n",
       "      <th>negativereason</th>\n",
       "      <th>negativereason_confidence</th>\n",
       "      <th>airline</th>\n",
       "      <th>airline_sentiment_gold</th>\n",
       "      <th>name</th>\n",
       "      <th>negativereason_gold</th>\n",
       "      <th>retweet_count</th>\n",
       "      <th>text</th>\n",
       "      <th>tweet_coord</th>\n",
       "      <th>tweet_created</th>\n",
       "      <th>tweet_location</th>\n",
       "      <th>user_timezone</th>\n",
       "    </tr>\n",
       "  </thead>\n",
       "  <tbody>\n",
       "    <tr>\n",
       "      <th>0</th>\n",
       "      <td>570306133677760513</td>\n",
       "      <td>neutral</td>\n",
       "      <td>1.0000</td>\n",
       "      <td>NaN</td>\n",
       "      <td>NaN</td>\n",
       "      <td>Virgin America</td>\n",
       "      <td>NaN</td>\n",
       "      <td>cairdin</td>\n",
       "      <td>NaN</td>\n",
       "      <td>0</td>\n",
       "      <td>@VirginAmerica What @dhepburn said.</td>\n",
       "      <td>NaN</td>\n",
       "      <td>2015-02-24 11:35:52 -0800</td>\n",
       "      <td>NaN</td>\n",
       "      <td>Eastern Time (US &amp; Canada)</td>\n",
       "    </tr>\n",
       "    <tr>\n",
       "      <th>1</th>\n",
       "      <td>570301130888122368</td>\n",
       "      <td>positive</td>\n",
       "      <td>0.3486</td>\n",
       "      <td>NaN</td>\n",
       "      <td>0.0000</td>\n",
       "      <td>Virgin America</td>\n",
       "      <td>NaN</td>\n",
       "      <td>jnardino</td>\n",
       "      <td>NaN</td>\n",
       "      <td>0</td>\n",
       "      <td>@VirginAmerica plus you've added commercials t...</td>\n",
       "      <td>NaN</td>\n",
       "      <td>2015-02-24 11:15:59 -0800</td>\n",
       "      <td>NaN</td>\n",
       "      <td>Pacific Time (US &amp; Canada)</td>\n",
       "    </tr>\n",
       "    <tr>\n",
       "      <th>2</th>\n",
       "      <td>570301083672813571</td>\n",
       "      <td>neutral</td>\n",
       "      <td>0.6837</td>\n",
       "      <td>NaN</td>\n",
       "      <td>NaN</td>\n",
       "      <td>Virgin America</td>\n",
       "      <td>NaN</td>\n",
       "      <td>yvonnalynn</td>\n",
       "      <td>NaN</td>\n",
       "      <td>0</td>\n",
       "      <td>@VirginAmerica I didn't today... Must mean I n...</td>\n",
       "      <td>NaN</td>\n",
       "      <td>2015-02-24 11:15:48 -0800</td>\n",
       "      <td>Lets Play</td>\n",
       "      <td>Central Time (US &amp; Canada)</td>\n",
       "    </tr>\n",
       "    <tr>\n",
       "      <th>3</th>\n",
       "      <td>570301031407624196</td>\n",
       "      <td>negative</td>\n",
       "      <td>1.0000</td>\n",
       "      <td>Bad Flight</td>\n",
       "      <td>0.7033</td>\n",
       "      <td>Virgin America</td>\n",
       "      <td>NaN</td>\n",
       "      <td>jnardino</td>\n",
       "      <td>NaN</td>\n",
       "      <td>0</td>\n",
       "      <td>@VirginAmerica it's really aggressive to blast...</td>\n",
       "      <td>NaN</td>\n",
       "      <td>2015-02-24 11:15:36 -0800</td>\n",
       "      <td>NaN</td>\n",
       "      <td>Pacific Time (US &amp; Canada)</td>\n",
       "    </tr>\n",
       "    <tr>\n",
       "      <th>4</th>\n",
       "      <td>570300817074462722</td>\n",
       "      <td>negative</td>\n",
       "      <td>1.0000</td>\n",
       "      <td>Can't Tell</td>\n",
       "      <td>1.0000</td>\n",
       "      <td>Virgin America</td>\n",
       "      <td>NaN</td>\n",
       "      <td>jnardino</td>\n",
       "      <td>NaN</td>\n",
       "      <td>0</td>\n",
       "      <td>@VirginAmerica and it's a really big bad thing...</td>\n",
       "      <td>NaN</td>\n",
       "      <td>2015-02-24 11:14:45 -0800</td>\n",
       "      <td>NaN</td>\n",
       "      <td>Pacific Time (US &amp; Canada)</td>\n",
       "    </tr>\n",
       "  </tbody>\n",
       "</table>\n",
       "</div>"
      ],
      "text/plain": [
       "             tweet_id airline_sentiment  airline_sentiment_confidence  \\\n",
       "0  570306133677760513           neutral                        1.0000   \n",
       "1  570301130888122368          positive                        0.3486   \n",
       "2  570301083672813571           neutral                        0.6837   \n",
       "3  570301031407624196          negative                        1.0000   \n",
       "4  570300817074462722          negative                        1.0000   \n",
       "\n",
       "  negativereason  negativereason_confidence         airline  \\\n",
       "0            NaN                        NaN  Virgin America   \n",
       "1            NaN                     0.0000  Virgin America   \n",
       "2            NaN                        NaN  Virgin America   \n",
       "3     Bad Flight                     0.7033  Virgin America   \n",
       "4     Can't Tell                     1.0000  Virgin America   \n",
       "\n",
       "  airline_sentiment_gold        name negativereason_gold  retweet_count  \\\n",
       "0                    NaN     cairdin                 NaN              0   \n",
       "1                    NaN    jnardino                 NaN              0   \n",
       "2                    NaN  yvonnalynn                 NaN              0   \n",
       "3                    NaN    jnardino                 NaN              0   \n",
       "4                    NaN    jnardino                 NaN              0   \n",
       "\n",
       "                                                text tweet_coord  \\\n",
       "0                @VirginAmerica What @dhepburn said.         NaN   \n",
       "1  @VirginAmerica plus you've added commercials t...         NaN   \n",
       "2  @VirginAmerica I didn't today... Must mean I n...         NaN   \n",
       "3  @VirginAmerica it's really aggressive to blast...         NaN   \n",
       "4  @VirginAmerica and it's a really big bad thing...         NaN   \n",
       "\n",
       "               tweet_created tweet_location               user_timezone  \n",
       "0  2015-02-24 11:35:52 -0800            NaN  Eastern Time (US & Canada)  \n",
       "1  2015-02-24 11:15:59 -0800            NaN  Pacific Time (US & Canada)  \n",
       "2  2015-02-24 11:15:48 -0800      Lets Play  Central Time (US & Canada)  \n",
       "3  2015-02-24 11:15:36 -0800            NaN  Pacific Time (US & Canada)  \n",
       "4  2015-02-24 11:14:45 -0800            NaN  Pacific Time (US & Canada)  "
      ]
     },
     "execution_count": 4,
     "metadata": {},
     "output_type": "execute_result"
    }
   ],
   "source": [
    "data.head()"
   ]
  },
  {
   "cell_type": "code",
   "execution_count": 5,
   "metadata": {},
   "outputs": [],
   "source": [
    "data = data[['airline_sentiment', 'text']]"
   ]
  },
  {
   "cell_type": "code",
   "execution_count": 6,
   "metadata": {},
   "outputs": [
    {
     "data": {
      "text/plain": [
       "array(['neutral', 'positive', 'negative'], dtype=object)"
      ]
     },
     "execution_count": 6,
     "metadata": {},
     "output_type": "execute_result"
    }
   ],
   "source": [
    "data.airline_sentiment.unique()"
   ]
  },
  {
   "cell_type": "code",
   "execution_count": 7,
   "metadata": {},
   "outputs": [
    {
     "data": {
      "application/vnd.microsoft.datawrangler.viewer.v0+json": {
       "columns": [
        {
         "name": "index",
         "rawType": "object",
         "type": "string"
        },
        {
         "name": "airline_sentiment",
         "rawType": "int64",
         "type": "integer"
        }
       ],
       "ref": "10839ea7-7e48-4c7c-9868-61e0e85a57c4",
       "rows": [
        [
         "negative",
         "9178"
        ],
        [
         "neutral",
         "3099"
        ],
        [
         "positive",
         "2363"
        ]
       ],
       "shape": {
        "columns": 1,
        "rows": 3
       }
      },
      "text/plain": [
       "negative    9178\n",
       "neutral     3099\n",
       "positive    2363\n",
       "Name: airline_sentiment, dtype: int64"
      ]
     },
     "execution_count": 7,
     "metadata": {},
     "output_type": "execute_result"
    }
   ],
   "source": [
    "data.airline_sentiment.value_counts()"
   ]
  },
  {
   "cell_type": "code",
   "execution_count": 8,
   "metadata": {},
   "outputs": [
    {
     "data": {
      "application/vnd.microsoft.datawrangler.viewer.v0+json": {
       "columns": [
        {
         "name": "index",
         "rawType": "int64",
         "type": "integer"
        },
        {
         "name": "airline_sentiment",
         "rawType": "object",
         "type": "string"
        },
        {
         "name": "text",
         "rawType": "object",
         "type": "string"
        }
       ],
       "ref": "90967c24-88bc-4c1c-81f0-3951f31b8600",
       "rows": [
        [
         "0",
         "neutral",
         "@VirginAmerica What @dhepburn said."
        ],
        [
         "1",
         "positive",
         "@VirginAmerica plus you've added commercials to the experience... tacky."
        ],
        [
         "2",
         "neutral",
         "@VirginAmerica I didn't today... Must mean I need to take another trip!"
        ],
        [
         "3",
         "negative",
         "@VirginAmerica it's really aggressive to blast obnoxious \"entertainment\" in your guests' faces &amp; they have little recourse"
        ],
        [
         "4",
         "negative",
         "@VirginAmerica and it's a really big bad thing about it"
        ]
       ],
       "shape": {
        "columns": 2,
        "rows": 5
       }
      },
      "text/html": [
       "<div>\n",
       "<style scoped>\n",
       "    .dataframe tbody tr th:only-of-type {\n",
       "        vertical-align: middle;\n",
       "    }\n",
       "\n",
       "    .dataframe tbody tr th {\n",
       "        vertical-align: top;\n",
       "    }\n",
       "\n",
       "    .dataframe thead th {\n",
       "        text-align: right;\n",
       "    }\n",
       "</style>\n",
       "<table border=\"1\" class=\"dataframe\">\n",
       "  <thead>\n",
       "    <tr style=\"text-align: right;\">\n",
       "      <th></th>\n",
       "      <th>airline_sentiment</th>\n",
       "      <th>text</th>\n",
       "    </tr>\n",
       "  </thead>\n",
       "  <tbody>\n",
       "    <tr>\n",
       "      <th>0</th>\n",
       "      <td>neutral</td>\n",
       "      <td>@VirginAmerica What @dhepburn said.</td>\n",
       "    </tr>\n",
       "    <tr>\n",
       "      <th>1</th>\n",
       "      <td>positive</td>\n",
       "      <td>@VirginAmerica plus you've added commercials t...</td>\n",
       "    </tr>\n",
       "    <tr>\n",
       "      <th>2</th>\n",
       "      <td>neutral</td>\n",
       "      <td>@VirginAmerica I didn't today... Must mean I n...</td>\n",
       "    </tr>\n",
       "    <tr>\n",
       "      <th>3</th>\n",
       "      <td>negative</td>\n",
       "      <td>@VirginAmerica it's really aggressive to blast...</td>\n",
       "    </tr>\n",
       "    <tr>\n",
       "      <th>4</th>\n",
       "      <td>negative</td>\n",
       "      <td>@VirginAmerica and it's a really big bad thing...</td>\n",
       "    </tr>\n",
       "  </tbody>\n",
       "</table>\n",
       "</div>"
      ],
      "text/plain": [
       "  airline_sentiment                                               text\n",
       "0           neutral                @VirginAmerica What @dhepburn said.\n",
       "1          positive  @VirginAmerica plus you've added commercials t...\n",
       "2           neutral  @VirginAmerica I didn't today... Must mean I n...\n",
       "3          negative  @VirginAmerica it's really aggressive to blast...\n",
       "4          negative  @VirginAmerica and it's a really big bad thing..."
      ]
     },
     "execution_count": 8,
     "metadata": {},
     "output_type": "execute_result"
    }
   ],
   "source": [
    "data.head()"
   ]
  },
  {
   "cell_type": "code",
   "execution_count": 9,
   "metadata": {},
   "outputs": [],
   "source": [
    "data['review'] = pd.factorize(data.airline_sentiment)[0]"
   ]
  },
  {
   "cell_type": "code",
   "execution_count": 10,
   "metadata": {},
   "outputs": [],
   "source": [
    "del data['airline_sentiment']"
   ]
  },
  {
   "cell_type": "code",
   "execution_count": 11,
   "metadata": {},
   "outputs": [
    {
     "data": {
      "application/vnd.microsoft.datawrangler.viewer.v0+json": {
       "columns": [
        {
         "name": "index",
         "rawType": "int64",
         "type": "integer"
        },
        {
         "name": "text",
         "rawType": "object",
         "type": "string"
        },
        {
         "name": "review",
         "rawType": "int64",
         "type": "integer"
        }
       ],
       "ref": "46e7cb80-3b23-4621-b8f4-80d03c2fd8e3",
       "rows": [
        [
         "0",
         "@VirginAmerica What @dhepburn said.",
         "0"
        ],
        [
         "1",
         "@VirginAmerica plus you've added commercials to the experience... tacky.",
         "1"
        ],
        [
         "2",
         "@VirginAmerica I didn't today... Must mean I need to take another trip!",
         "0"
        ],
        [
         "3",
         "@VirginAmerica it's really aggressive to blast obnoxious \"entertainment\" in your guests' faces &amp; they have little recourse",
         "2"
        ],
        [
         "4",
         "@VirginAmerica and it's a really big bad thing about it",
         "2"
        ]
       ],
       "shape": {
        "columns": 2,
        "rows": 5
       }
      },
      "text/html": [
       "<div>\n",
       "<style scoped>\n",
       "    .dataframe tbody tr th:only-of-type {\n",
       "        vertical-align: middle;\n",
       "    }\n",
       "\n",
       "    .dataframe tbody tr th {\n",
       "        vertical-align: top;\n",
       "    }\n",
       "\n",
       "    .dataframe thead th {\n",
       "        text-align: right;\n",
       "    }\n",
       "</style>\n",
       "<table border=\"1\" class=\"dataframe\">\n",
       "  <thead>\n",
       "    <tr style=\"text-align: right;\">\n",
       "      <th></th>\n",
       "      <th>text</th>\n",
       "      <th>review</th>\n",
       "    </tr>\n",
       "  </thead>\n",
       "  <tbody>\n",
       "    <tr>\n",
       "      <th>0</th>\n",
       "      <td>@VirginAmerica What @dhepburn said.</td>\n",
       "      <td>0</td>\n",
       "    </tr>\n",
       "    <tr>\n",
       "      <th>1</th>\n",
       "      <td>@VirginAmerica plus you've added commercials t...</td>\n",
       "      <td>1</td>\n",
       "    </tr>\n",
       "    <tr>\n",
       "      <th>2</th>\n",
       "      <td>@VirginAmerica I didn't today... Must mean I n...</td>\n",
       "      <td>0</td>\n",
       "    </tr>\n",
       "    <tr>\n",
       "      <th>3</th>\n",
       "      <td>@VirginAmerica it's really aggressive to blast...</td>\n",
       "      <td>2</td>\n",
       "    </tr>\n",
       "    <tr>\n",
       "      <th>4</th>\n",
       "      <td>@VirginAmerica and it's a really big bad thing...</td>\n",
       "      <td>2</td>\n",
       "    </tr>\n",
       "  </tbody>\n",
       "</table>\n",
       "</div>"
      ],
      "text/plain": [
       "                                                text  review\n",
       "0                @VirginAmerica What @dhepburn said.       0\n",
       "1  @VirginAmerica plus you've added commercials t...       1\n",
       "2  @VirginAmerica I didn't today... Must mean I n...       0\n",
       "3  @VirginAmerica it's really aggressive to blast...       2\n",
       "4  @VirginAmerica and it's a really big bad thing...       2"
      ]
     },
     "execution_count": 11,
     "metadata": {},
     "output_type": "execute_result"
    }
   ],
   "source": [
    "data.head()"
   ]
  },
  {
   "cell_type": "code",
   "execution_count": 12,
   "metadata": {},
   "outputs": [],
   "source": [
    "import re"
   ]
  },
  {
   "cell_type": "code",
   "execution_count": 13,
   "metadata": {},
   "outputs": [],
   "source": [
    "token = re.compile('[A-Za-z]+|[!?,.()]')"
   ]
  },
  {
   "cell_type": "code",
   "execution_count": 14,
   "metadata": {},
   "outputs": [],
   "source": [
    "def reg_text(text):\n",
    "    new_text = token.findall(text)\n",
    "    new_text = [word.lower() for word in new_text]\n",
    "    return new_text"
   ]
  },
  {
   "cell_type": "code",
   "execution_count": 15,
   "metadata": {},
   "outputs": [],
   "source": [
    "data['text'] = data.text.apply(reg_text)"
   ]
  },
  {
   "cell_type": "code",
   "execution_count": 16,
   "metadata": {},
   "outputs": [
    {
     "data": {
      "application/vnd.microsoft.datawrangler.viewer.v0+json": {
       "columns": [
        {
         "name": "index",
         "rawType": "int64",
         "type": "integer"
        },
        {
         "name": "text",
         "rawType": "object",
         "type": "string"
        },
        {
         "name": "review",
         "rawType": "int64",
         "type": "integer"
        }
       ],
       "ref": "6d087206-dc3b-44c5-a7eb-33f9b74fa08a",
       "rows": [
        [
         "0",
         "['virginamerica', 'what', 'dhepburn', 'said', '.']",
         "0"
        ],
        [
         "1",
         "['virginamerica', 'plus', 'you', 've', 'added', 'commercials', 'to', 'the', 'experience', '.', '.', '.', 'tacky', '.']",
         "1"
        ],
        [
         "2",
         "['virginamerica', 'i', 'didn', 't', 'today', '.', '.', '.', 'must', 'mean', 'i', 'need', 'to', 'take', 'another', 'trip', '!']",
         "0"
        ],
        [
         "3",
         "['virginamerica', 'it', 's', 'really', 'aggressive', 'to', 'blast', 'obnoxious', 'entertainment', 'in', 'your', 'guests', 'faces', 'amp', 'they', 'have', 'little', 'recourse']",
         "2"
        ],
        [
         "4",
         "['virginamerica', 'and', 'it', 's', 'a', 'really', 'big', 'bad', 'thing', 'about', 'it']",
         "2"
        ]
       ],
       "shape": {
        "columns": 2,
        "rows": 5
       }
      },
      "text/html": [
       "<div>\n",
       "<style scoped>\n",
       "    .dataframe tbody tr th:only-of-type {\n",
       "        vertical-align: middle;\n",
       "    }\n",
       "\n",
       "    .dataframe tbody tr th {\n",
       "        vertical-align: top;\n",
       "    }\n",
       "\n",
       "    .dataframe thead th {\n",
       "        text-align: right;\n",
       "    }\n",
       "</style>\n",
       "<table border=\"1\" class=\"dataframe\">\n",
       "  <thead>\n",
       "    <tr style=\"text-align: right;\">\n",
       "      <th></th>\n",
       "      <th>text</th>\n",
       "      <th>review</th>\n",
       "    </tr>\n",
       "  </thead>\n",
       "  <tbody>\n",
       "    <tr>\n",
       "      <th>0</th>\n",
       "      <td>[virginamerica, what, dhepburn, said, .]</td>\n",
       "      <td>0</td>\n",
       "    </tr>\n",
       "    <tr>\n",
       "      <th>1</th>\n",
       "      <td>[virginamerica, plus, you, ve, added, commerci...</td>\n",
       "      <td>1</td>\n",
       "    </tr>\n",
       "    <tr>\n",
       "      <th>2</th>\n",
       "      <td>[virginamerica, i, didn, t, today, ., ., ., mu...</td>\n",
       "      <td>0</td>\n",
       "    </tr>\n",
       "    <tr>\n",
       "      <th>3</th>\n",
       "      <td>[virginamerica, it, s, really, aggressive, to,...</td>\n",
       "      <td>2</td>\n",
       "    </tr>\n",
       "    <tr>\n",
       "      <th>4</th>\n",
       "      <td>[virginamerica, and, it, s, a, really, big, ba...</td>\n",
       "      <td>2</td>\n",
       "    </tr>\n",
       "  </tbody>\n",
       "</table>\n",
       "</div>"
      ],
      "text/plain": [
       "                                                text  review\n",
       "0           [virginamerica, what, dhepburn, said, .]       0\n",
       "1  [virginamerica, plus, you, ve, added, commerci...       1\n",
       "2  [virginamerica, i, didn, t, today, ., ., ., mu...       0\n",
       "3  [virginamerica, it, s, really, aggressive, to,...       2\n",
       "4  [virginamerica, and, it, s, a, really, big, ba...       2"
      ]
     },
     "execution_count": 16,
     "metadata": {},
     "output_type": "execute_result"
    }
   ],
   "source": [
    "data.head()"
   ]
  },
  {
   "cell_type": "code",
   "execution_count": 17,
   "metadata": {},
   "outputs": [],
   "source": [
    "word_set = set()\n",
    "for text in data.text:\n",
    "    for word in text:\n",
    "        word_set.add(word) "
   ]
  },
  {
   "cell_type": "code",
   "execution_count": 18,
   "metadata": {},
   "outputs": [
    {
     "data": {
      "text/plain": [
       "13668"
      ]
     },
     "execution_count": 18,
     "metadata": {},
     "output_type": "execute_result"
    }
   ],
   "source": [
    "max_word = len(word_set) + 1\n",
    "max_word"
   ]
  },
  {
   "cell_type": "code",
   "execution_count": 19,
   "metadata": {},
   "outputs": [],
   "source": [
    "word_list = list(word_set)"
   ]
  },
  {
   "cell_type": "code",
   "execution_count": 20,
   "metadata": {},
   "outputs": [
    {
     "data": {
      "text/plain": [
       "9963"
      ]
     },
     "execution_count": 20,
     "metadata": {},
     "output_type": "execute_result"
    }
   ],
   "source": [
    "word_list.index('spending')"
   ]
  },
  {
   "cell_type": "code",
   "execution_count": 21,
   "metadata": {},
   "outputs": [],
   "source": [
    "word_index =  dict((word, word_list.index(word) + 1) for word in word_list)"
   ]
  },
  {
   "cell_type": "code",
   "execution_count": 22,
   "metadata": {},
   "outputs": [
    {
     "data": {
      "text/plain": [
       "{'rest': 1,\n",
       " 'spirit': 2,\n",
       " 'nonperformance': 3,\n",
       " 'luggage': 4,\n",
       " 'connected': 5,\n",
       " 'doin': 6,\n",
       " 'tmusjvu': 7,\n",
       " 'lake': 8,\n",
       " 'scolding': 9,\n",
       " 'beought': 10,\n",
       " 'digg': 11,\n",
       " 'steamed': 12,\n",
       " 'discouraging': 13,\n",
       " 'paradise': 14,\n",
       " 'mwa': 15,\n",
       " 'requires': 16,\n",
       " 'surveying': 17,\n",
       " 'alaska': 18,\n",
       " 'nmbhngnmki': 19,\n",
       " 'hour': 20,\n",
       " 'don': 21,\n",
       " 'retrn': 22,\n",
       " 'criminal': 23,\n",
       " 'notwheelsup': 24,\n",
       " 'adopted': 25,\n",
       " 'batteries': 26,\n",
       " 'mighty': 27,\n",
       " 'brink': 28,\n",
       " 'potatoes': 29,\n",
       " 'lumpur': 30,\n",
       " 'stay': 31,\n",
       " 'knew': 32,\n",
       " 'steering': 33,\n",
       " 'contest': 34,\n",
       " 'registering': 35,\n",
       " 'takers': 36,\n",
       " 'dbyr': 37,\n",
       " 'roads': 38,\n",
       " 'bored': 39,\n",
       " 'frd': 40,\n",
       " 'panam': 41,\n",
       " 'chging': 42,\n",
       " 'odlall': 43,\n",
       " 'owe': 44,\n",
       " 'leather': 45,\n",
       " 'about': 46,\n",
       " 'campus': 47,\n",
       " 'shawn': 48,\n",
       " 'needlessly': 49,\n",
       " 'coincidence': 50,\n",
       " 'open': 51,\n",
       " 'workers': 52,\n",
       " 'unlike': 53,\n",
       " 'slacksoft': 54,\n",
       " 'easier': 55,\n",
       " 'vet': 56,\n",
       " 'waltdisneyworld': 57,\n",
       " 'extortion': 58,\n",
       " 'qan': 59,\n",
       " 'sorrynotsorry': 60,\n",
       " 'thepoopqueen': 61,\n",
       " 'barrettkarabis': 62,\n",
       " 'cheers': 63,\n",
       " 'ways': 64,\n",
       " 'motel': 65,\n",
       " 'freq': 66,\n",
       " 'stopped': 67,\n",
       " 'skiing': 68,\n",
       " 'midway': 69,\n",
       " 'hy': 70,\n",
       " 'static': 71,\n",
       " 'battery': 72,\n",
       " 'wall': 73,\n",
       " 'protected': 74,\n",
       " 'dissapointed': 75,\n",
       " 'load': 76,\n",
       " 'kgonzales': 77,\n",
       " 'tears': 78,\n",
       " 'continually': 79,\n",
       " 'usairways': 80,\n",
       " 'specifics': 81,\n",
       " 'wsg': 82,\n",
       " 'flip': 83,\n",
       " 'hmcrjchb': 84,\n",
       " 'doyourjob': 85,\n",
       " 'delayua': 86,\n",
       " 'prepares': 87,\n",
       " 'helpmeplease': 88,\n",
       " 'trusted': 89,\n",
       " 'bussines': 90,\n",
       " 'quality': 91,\n",
       " 'sciencebehindtheexperience': 92,\n",
       " 'encountered': 93,\n",
       " 'cgjase': 94,\n",
       " 'lm': 95,\n",
       " 'daysofhell': 96,\n",
       " 'intra': 97,\n",
       " 'gum': 98,\n",
       " 'flatiron': 99,\n",
       " 'aerocivilcol': 100,\n",
       " 'bug': 101,\n",
       " 'ending': 102,\n",
       " 'epw': 103,\n",
       " 'heavily': 104,\n",
       " 'nrhodes': 105,\n",
       " 'elevateuser': 106,\n",
       " 'tips': 107,\n",
       " 'skymall': 108,\n",
       " 'followback': 109,\n",
       " 'marshaled': 110,\n",
       " 'disrupted': 111,\n",
       " 'sarahpompei': 112,\n",
       " 'geraldine': 113,\n",
       " 'extended': 114,\n",
       " 'nonetheless': 115,\n",
       " 'buyer': 116,\n",
       " 'fails': 117,\n",
       " 'robbed': 118,\n",
       " 'poorcommunication': 119,\n",
       " 'throwback': 120,\n",
       " 'untrue': 121,\n",
       " 'absorb': 122,\n",
       " 'yeehaw': 123,\n",
       " 'hover': 124,\n",
       " 'compassionate': 125,\n",
       " 'fp': 126,\n",
       " 'southwestsucks': 127,\n",
       " 'wouldnt': 128,\n",
       " 'avon': 129,\n",
       " 'hesitant': 130,\n",
       " 'sorude': 131,\n",
       " 'hell': 132,\n",
       " 'vn': 133,\n",
       " 'autoresponse': 134,\n",
       " 'desires': 135,\n",
       " 'goodcustomerservice': 136,\n",
       " 'southwestluv': 137,\n",
       " 'nosecuritylines': 138,\n",
       " 'naelah': 139,\n",
       " 'dm': 140,\n",
       " 'agt': 141,\n",
       " 'invoices': 142,\n",
       " 'allrepresentativesbusy': 143,\n",
       " 'iceday': 144,\n",
       " 'felt': 145,\n",
       " 'ratchet': 146,\n",
       " 'zdkxn': 147,\n",
       " 'hiltonworldwide': 148,\n",
       " 'nano': 149,\n",
       " 'disturb': 150,\n",
       " 'opens': 151,\n",
       " 'passengerslose': 152,\n",
       " 'insure': 153,\n",
       " 'aurn': 154,\n",
       " 'snowstorms': 155,\n",
       " 'field': 156,\n",
       " 'porn': 157,\n",
       " 'contact': 158,\n",
       " 'empl': 159,\n",
       " 'exits': 160,\n",
       " 'wah': 161,\n",
       " 'airside': 162,\n",
       " 'based': 163,\n",
       " 'woven': 164,\n",
       " 'well': 165,\n",
       " 'tokyo': 166,\n",
       " 'sbn': 167,\n",
       " 'grown': 168,\n",
       " 'queue': 169,\n",
       " 'twitter': 170,\n",
       " 'bless': 171,\n",
       " 'kee': 172,\n",
       " 'competitor': 173,\n",
       " 'closure': 174,\n",
       " 'uxzj': 175,\n",
       " 'fist': 176,\n",
       " 'catch': 177,\n",
       " 'pray': 178,\n",
       " 'reasonable': 179,\n",
       " 'acquisition': 180,\n",
       " 'yasssss': 181,\n",
       " 'devotedyyours': 182,\n",
       " 'virginamerica': 183,\n",
       " 'elbows': 184,\n",
       " 'newark': 185,\n",
       " 'expedia': 186,\n",
       " 'us': 187,\n",
       " 'nature': 188,\n",
       " 'pushed': 189,\n",
       " 'dead': 190,\n",
       " 'notion': 191,\n",
       " 'delays': 192,\n",
       " 'sock': 193,\n",
       " 'redeemed': 194,\n",
       " 'as': 195,\n",
       " 'hitch': 196,\n",
       " 'gems': 197,\n",
       " 'ocpteq': 198,\n",
       " 'confirming': 199,\n",
       " 'concept': 200,\n",
       " 'texting': 201,\n",
       " 'pooling': 202,\n",
       " 'gopatriots': 203,\n",
       " 'registered': 204,\n",
       " 'contingency': 205,\n",
       " 'oaflfr': 206,\n",
       " 'magical': 207,\n",
       " 'electrical': 208,\n",
       " 'fostering': 209,\n",
       " 'dallasairport': 210,\n",
       " 'taxiway': 211,\n",
       " 'robertfor': 212,\n",
       " 'shortly': 213,\n",
       " 'zvfmxnuelj': 214,\n",
       " 'whipped': 215,\n",
       " 'mktg': 216,\n",
       " 'consistently': 217,\n",
       " 'accessible': 218,\n",
       " 'damion': 219,\n",
       " 'name': 220,\n",
       " 'friendlyfriday': 221,\n",
       " 'crowded': 222,\n",
       " 'bandie': 223,\n",
       " 'raps': 224,\n",
       " 'interns': 225,\n",
       " 'roc': 226,\n",
       " 'tysvm': 227,\n",
       " 'pancho': 228,\n",
       " 'avoid': 229,\n",
       " 'definition': 230,\n",
       " 'awhile': 231,\n",
       " 'grandmother': 232,\n",
       " 'gofundme': 233,\n",
       " 'fxmk': 234,\n",
       " 'microsecond': 235,\n",
       " 'lapse': 236,\n",
       " 'velourlive': 237,\n",
       " 'track': 238,\n",
       " 'multipledooropeningandclosing': 239,\n",
       " 'seg': 240,\n",
       " 'buy': 241,\n",
       " 'dmb': 242,\n",
       " 'amateurish': 243,\n",
       " 'wit': 244,\n",
       " 'abprg': 245,\n",
       " 'selves': 246,\n",
       " 'clown': 247,\n",
       " 'entirely': 248,\n",
       " 'rffhmcv': 249,\n",
       " 'fsw': 250,\n",
       " 'management': 251,\n",
       " 'bebetter': 252,\n",
       " 'engagements': 253,\n",
       " 'finals': 254,\n",
       " 'momma': 255,\n",
       " 'srm': 256,\n",
       " 'transparent': 257,\n",
       " 'dissaponted': 258,\n",
       " 'frustratingly': 259,\n",
       " 'involuntarily': 260,\n",
       " 'graphic': 261,\n",
       " 'mislead': 262,\n",
       " 'rdktqy': 263,\n",
       " 'cheatcustomers': 264,\n",
       " 'makeovertime': 265,\n",
       " 'nor': 266,\n",
       " 'eyes': 267,\n",
       " 'spilled': 268,\n",
       " 'aircrft': 269,\n",
       " 'fjkvqmbmas': 270,\n",
       " 'revs': 271,\n",
       " 'meals': 272,\n",
       " 'satesq': 273,\n",
       " 'looked': 274,\n",
       " 'city': 275,\n",
       " 'rocked': 276,\n",
       " 'stt': 277,\n",
       " 'surliness': 278,\n",
       " 'wu': 279,\n",
       " 'lookin': 280,\n",
       " 'clt': 281,\n",
       " 'sue': 282,\n",
       " 'hide': 283,\n",
       " 'aaalwayslate': 284,\n",
       " 'older': 285,\n",
       " 'hunt': 286,\n",
       " 'ihop': 287,\n",
       " 'exactly': 288,\n",
       " 'cooker': 289,\n",
       " 'fran': 290,\n",
       " 'airborne': 291,\n",
       " 'up': 292,\n",
       " 'lve': 293,\n",
       " 'treating': 294,\n",
       " 'dlh': 295,\n",
       " 'someone': 296,\n",
       " 'sleepy': 297,\n",
       " 'leastthebeverageswillbecold': 298,\n",
       " 'spf': 299,\n",
       " 'closed': 300,\n",
       " 'ivgpzsjtkw': 301,\n",
       " 'hdndl': 302,\n",
       " 'jimcramer': 303,\n",
       " 'thtime': 304,\n",
       " 'flh': 305,\n",
       " 'yrvka': 306,\n",
       " 'particularly': 307,\n",
       " 'impressive': 308,\n",
       " 'cha': 309,\n",
       " 'visible': 310,\n",
       " 'sundays': 311,\n",
       " 'vkj': 312,\n",
       " 'anyonethere': 313,\n",
       " 'mia': 314,\n",
       " 'hoot': 315,\n",
       " 'credit': 316,\n",
       " 'dontchangeathing': 317,\n",
       " 'phantom': 318,\n",
       " 'connetion': 319,\n",
       " 'losing': 320,\n",
       " 'thankgoodness': 321,\n",
       " 'ensure': 322,\n",
       " 'preventative': 323,\n",
       " 'swanky': 324,\n",
       " 'rec': 325,\n",
       " 'congested': 326,\n",
       " 'tweeted': 327,\n",
       " 'possiable': 328,\n",
       " 'unitedfirst': 329,\n",
       " 'turrible': 330,\n",
       " 'article': 331,\n",
       " 'steps': 332,\n",
       " 'wouldve': 333,\n",
       " 'avail': 334,\n",
       " 'fransisco': 335,\n",
       " 'rapids': 336,\n",
       " 'snvkiem': 337,\n",
       " 'ywg': 338,\n",
       " 'wiggle': 339,\n",
       " 'talks': 340,\n",
       " 'iamtedking': 341,\n",
       " 'sl': 342,\n",
       " 'major': 343,\n",
       " 'duffy': 344,\n",
       " 'tutgli': 345,\n",
       " 'harass': 346,\n",
       " 'absurd': 347,\n",
       " 'expeditious': 348,\n",
       " 'wezumdimyf': 349,\n",
       " 'repeating': 350,\n",
       " 'duw': 351,\n",
       " 'whatacluster': 352,\n",
       " 'superiors': 353,\n",
       " 'lghpcdu': 354,\n",
       " 'upocmmulun': 355,\n",
       " 'frank': 356,\n",
       " 'guidance': 357,\n",
       " 'mty': 358,\n",
       " 'ri': 359,\n",
       " 'criticism': 360,\n",
       " 'dqny': 361,\n",
       " 'boot': 362,\n",
       " 'published': 363,\n",
       " 'connectin': 364,\n",
       " 'annebevi': 365,\n",
       " 'courtney': 366,\n",
       " 'rymzd': 367,\n",
       " 'overnight': 368,\n",
       " 'handy': 369,\n",
       " 'incompetentmanagers': 370,\n",
       " 'guc': 371,\n",
       " 'accompany': 372,\n",
       " 'does': 373,\n",
       " 'bush': 374,\n",
       " 'scwphph': 375,\n",
       " 'leader': 376,\n",
       " 'ggreenwald': 377,\n",
       " 'reddit': 378,\n",
       " 'agum': 379,\n",
       " 'iod': 380,\n",
       " 'accomidating': 381,\n",
       " 'unfollowing': 382,\n",
       " 'slht': 383,\n",
       " 'useable': 384,\n",
       " 'establish': 385,\n",
       " 'ratings': 386,\n",
       " 'jb': 387,\n",
       " 'portsmouth': 388,\n",
       " 'thnkx': 389,\n",
       " 'straighten': 390,\n",
       " 'promised': 391,\n",
       " 'bankrupt': 392,\n",
       " 'fedexed': 393,\n",
       " 'deny': 394,\n",
       " 'patrick': 395,\n",
       " 'nfszh': 396,\n",
       " 'poop': 397,\n",
       " 'warriors': 398,\n",
       " 'wow': 399,\n",
       " 'workforces': 400,\n",
       " 'mbk': 401,\n",
       " 'assistant': 402,\n",
       " 'iclv': 403,\n",
       " 'reasonably': 404,\n",
       " 'waa': 405,\n",
       " 'b': 406,\n",
       " 'wi': 407,\n",
       " 'blood': 408,\n",
       " 'qgtcao': 409,\n",
       " 'embarrassing': 410,\n",
       " 'hcnn': 411,\n",
       " 'phonedied': 412,\n",
       " 'productivity': 413,\n",
       " 'suiip': 414,\n",
       " 'dqnn': 415,\n",
       " 'sink': 416,\n",
       " 'epitimeoffail': 417,\n",
       " 'comps': 418,\n",
       " 'stretch': 419,\n",
       " 'southern': 420,\n",
       " 'mitchellairport': 421,\n",
       " 'seeks': 422,\n",
       " 'comedic': 423,\n",
       " 'remembered': 424,\n",
       " 'left': 425,\n",
       " 'cvg': 426,\n",
       " 'sooooo': 427,\n",
       " 'bjnz': 428,\n",
       " 'alwaysdelayed': 429,\n",
       " 'xox': 430,\n",
       " 'knees': 431,\n",
       " 'alb': 432,\n",
       " 'dzegapfqw': 433,\n",
       " 'guidelines': 434,\n",
       " 'researching': 435,\n",
       " 'disorganized': 436,\n",
       " 'los': 437,\n",
       " 'dygn': 438,\n",
       " 'insurance': 439,\n",
       " 'besides': 440,\n",
       " 'april': 441,\n",
       " 'stillnobags': 442,\n",
       " 'usairwaysmobile': 443,\n",
       " 'jop': 444,\n",
       " 'cool': 445,\n",
       " 'haul': 446,\n",
       " 'packingayak': 447,\n",
       " 'ckin': 448,\n",
       " 'lowest': 449,\n",
       " 'laughing': 450,\n",
       " 'mdvu': 451,\n",
       " 'ithica': 452,\n",
       " 'etd': 453,\n",
       " 'bkmfey': 454,\n",
       " 'breastfeeding': 455,\n",
       " 'doi': 456,\n",
       " 'angle': 457,\n",
       " 'pig': 458,\n",
       " 'lagging': 459,\n",
       " 'excited': 460,\n",
       " 'head': 461,\n",
       " 'mc': 462,\n",
       " 'robyn': 463,\n",
       " 'perth': 464,\n",
       " 'hqez': 465,\n",
       " 'massive': 466,\n",
       " 'elevate': 467,\n",
       " 'cash': 468,\n",
       " 'selecting': 469,\n",
       " 'bc': 470,\n",
       " 'the': 471,\n",
       " 'furryfiesta': 472,\n",
       " 'qgv': 473,\n",
       " 'ttlwzgiyag': 474,\n",
       " 'warnings': 475,\n",
       " 'sailor': 476,\n",
       " 'pvg': 477,\n",
       " 'tollfree': 478,\n",
       " 'adds': 479,\n",
       " 'letsworktogether': 480,\n",
       " 'retired': 481,\n",
       " 'tahiti': 482,\n",
       " 'brazil': 483,\n",
       " 'ppvq': 484,\n",
       " 'contracts': 485,\n",
       " 'booted': 486,\n",
       " 'biggest': 487,\n",
       " 'bought': 488,\n",
       " 'ipgs': 489,\n",
       " 'nvk': 490,\n",
       " 'rollers': 491,\n",
       " 'daughters': 492,\n",
       " 'erw': 493,\n",
       " 'rqbxw': 494,\n",
       " 'israel': 495,\n",
       " 'surgeries': 496,\n",
       " 'unfold': 497,\n",
       " 'rodeo': 498,\n",
       " 'dnx': 499,\n",
       " 'avios': 500,\n",
       " 'deactivated': 501,\n",
       " 'edition': 502,\n",
       " 'escorted': 503,\n",
       " 'zfqmpgxvs': 504,\n",
       " 'removes': 505,\n",
       " 'pbamu': 506,\n",
       " 'madbee': 507,\n",
       " 'hacks': 508,\n",
       " 'rtqyjcvtq': 509,\n",
       " 'hold': 510,\n",
       " 'design': 511,\n",
       " 'cebu': 512,\n",
       " 'eyt': 513,\n",
       " 'slapintheface': 514,\n",
       " 'ifespcbztm': 515,\n",
       " 'tops': 516,\n",
       " 'tatiana': 517,\n",
       " 'vrqdpqepfw': 518,\n",
       " 'burningman': 519,\n",
       " 'delayedovernight': 520,\n",
       " 'sportsbiz': 521,\n",
       " 'amazingflightcrew': 522,\n",
       " 'drunks': 523,\n",
       " 'pto': 524,\n",
       " 'ld': 525,\n",
       " 'tmobile': 526,\n",
       " 'hotterandlongerthanhell': 527,\n",
       " 'lwwdac': 528,\n",
       " 'vibrant': 529,\n",
       " 'resolutions': 530,\n",
       " 'improvements': 531,\n",
       " 'itin': 532,\n",
       " 'julgood': 533,\n",
       " 'gifts': 534,\n",
       " 'mexico': 535,\n",
       " 'dullestostatecollege': 536,\n",
       " 'staticy': 537,\n",
       " 'unitedvusa': 538,\n",
       " 'flyingretro': 539,\n",
       " 'damper': 540,\n",
       " 'wastedtime': 541,\n",
       " 'lengthy': 542,\n",
       " 'doll': 543,\n",
       " 'characters': 544,\n",
       " 'vinylvegas': 545,\n",
       " 'astounded': 546,\n",
       " 'cbsphilly': 547,\n",
       " 'msnbc': 548,\n",
       " 'waives': 549,\n",
       " 'mtff': 550,\n",
       " 'harsh': 551,\n",
       " 'juice': 552,\n",
       " 'jetbluehatesbtv': 553,\n",
       " 'turnaround': 554,\n",
       " 'sporadically': 555,\n",
       " 'kristy': 556,\n",
       " 'metal': 557,\n",
       " 'returned': 558,\n",
       " 'aged': 559,\n",
       " 'annricord': 560,\n",
       " 'deltaassist': 561,\n",
       " 'sunglasses': 562,\n",
       " 'played': 563,\n",
       " 'bout': 564,\n",
       " 'hoagy': 565,\n",
       " 'zurich': 566,\n",
       " 'gd': 567,\n",
       " 'elaborate': 568,\n",
       " 'lostinlove': 569,\n",
       " 'vahdekvoke': 570,\n",
       " 'blackmailed': 571,\n",
       " 'trvfncedl': 572,\n",
       " 'absurdly': 573,\n",
       " 'airbusintheus': 574,\n",
       " 'cll': 575,\n",
       " 'sour': 576,\n",
       " 'actually': 577,\n",
       " 'leopolds': 578,\n",
       " 'pricy': 579,\n",
       " 'died': 580,\n",
       " 'incidentals': 581,\n",
       " 'pgfryz': 582,\n",
       " 'superyan': 583,\n",
       " 'issued': 584,\n",
       " 'herbal': 585,\n",
       " 'yb': 586,\n",
       " 'pita': 587,\n",
       " 'jaskyplwt': 588,\n",
       " 'twitterhug': 589,\n",
       " 'sailed': 590,\n",
       " 'tara': 591,\n",
       " 'incorrect': 592,\n",
       " 'redeeming': 593,\n",
       " 'xgfs': 594,\n",
       " 'coupled': 595,\n",
       " 'cuts': 596,\n",
       " 'retailbagholder': 597,\n",
       " 'reminded': 598,\n",
       " 'sports': 599,\n",
       " 'hosting': 600,\n",
       " 'zy': 601,\n",
       " 'dub': 602,\n",
       " 'ot': 603,\n",
       " 'emmaclifford': 604,\n",
       " 'hooray': 605,\n",
       " 'helpless': 606,\n",
       " 'ks': 607,\n",
       " 'ten': 608,\n",
       " 'pant': 609,\n",
       " 'sobbed': 610,\n",
       " 'oui': 611,\n",
       " 'change': 612,\n",
       " 'lostbags': 613,\n",
       " 'understaffed': 614,\n",
       " 'qbtckbr': 615,\n",
       " 'ibqr': 616,\n",
       " 'inaccessibility': 617,\n",
       " 'imvmpnqxai': 618,\n",
       " 'miraculously': 619,\n",
       " 'usairwayssucks': 620,\n",
       " 'sweethearts': 621,\n",
       " 'worstservice': 622,\n",
       " 'thankful': 623,\n",
       " 'mn': 624,\n",
       " 'drivers': 625,\n",
       " 're': 626,\n",
       " 'phrased': 627,\n",
       " 'blows': 628,\n",
       " 'bloody': 629,\n",
       " 'view': 630,\n",
       " 'restrictions': 631,\n",
       " 'interferes': 632,\n",
       " 'dynamite': 633,\n",
       " 'more': 634,\n",
       " 'excuse': 635,\n",
       " 'incredibly': 636,\n",
       " 'zvugmkjw': 637,\n",
       " 'prioritize': 638,\n",
       " 'instance': 639,\n",
       " 'skies': 640,\n",
       " 'codes': 641,\n",
       " 'tsfkj': 642,\n",
       " 'lessening': 643,\n",
       " 'communist': 644,\n",
       " 'sweetmel': 645,\n",
       " 'aptzpurop': 646,\n",
       " 'stars': 647,\n",
       " 'flavors': 648,\n",
       " 'ownership': 649,\n",
       " 'faults': 650,\n",
       " 'bull': 651,\n",
       " 'able': 652,\n",
       " 'laden': 653,\n",
       " 'pura': 654,\n",
       " 'lxa': 655,\n",
       " 'mpls': 656,\n",
       " 'beareavement': 657,\n",
       " 'zcbjyo': 658,\n",
       " 'college': 659,\n",
       " 'corpgreed': 660,\n",
       " 'hcnpro': 661,\n",
       " 'bur': 662,\n",
       " 'premiere': 663,\n",
       " 'pt': 664,\n",
       " 'accurately': 665,\n",
       " 'weepysweetmonty': 666,\n",
       " 'train': 667,\n",
       " 'shots': 668,\n",
       " 'jkf': 669,\n",
       " 'possibilities': 670,\n",
       " 'punta': 671,\n",
       " 'engineer': 672,\n",
       " 'bestcrew': 673,\n",
       " 'hlzahxkdsn': 674,\n",
       " 'rtr': 675,\n",
       " 'ramp': 676,\n",
       " 'irritating': 677,\n",
       " 'info': 678,\n",
       " 'denver': 679,\n",
       " 'agnt': 680,\n",
       " 'teach': 681,\n",
       " 'gla': 682,\n",
       " 'sarcastic': 683,\n",
       " 'cheduled': 684,\n",
       " 'suck': 685,\n",
       " 'rumors': 686,\n",
       " 'paulbev': 687,\n",
       " 'divided': 688,\n",
       " 'katie': 689,\n",
       " 'psychological': 690,\n",
       " 'herba': 691,\n",
       " 'acarl': 692,\n",
       " 'rgywjbbhm': 693,\n",
       " 'russia': 694,\n",
       " 'category': 695,\n",
       " 'wylie': 696,\n",
       " 'title': 697,\n",
       " 'agian': 698,\n",
       " 'bliss': 699,\n",
       " 'spelled': 700,\n",
       " 'strips': 701,\n",
       " 'followed': 702,\n",
       " 'icu': 703,\n",
       " 'sprinted': 704,\n",
       " 'batman': 705,\n",
       " 'used': 706,\n",
       " 'jealous': 707,\n",
       " 'normally': 708,\n",
       " 'checkers': 709,\n",
       " 'tkts': 710,\n",
       " 'quiche': 711,\n",
       " 'irate': 712,\n",
       " 'sandiego': 713,\n",
       " 'violation': 714,\n",
       " 'zpu': 715,\n",
       " 'brussels': 716,\n",
       " 'eeqwvammiy': 717,\n",
       " 'fustrated': 718,\n",
       " 'message': 719,\n",
       " 'ewr': 720,\n",
       " 'smoooothest': 721,\n",
       " 'shown': 722,\n",
       " 'tiks': 723,\n",
       " 'lavoratories': 724,\n",
       " 'conversed': 725,\n",
       " 'byod': 726,\n",
       " 'cldnt': 727,\n",
       " 'bosnia': 728,\n",
       " 'disappointed': 729,\n",
       " 'kindness': 730,\n",
       " 'drops': 731,\n",
       " 'oxy': 732,\n",
       " 'readers': 733,\n",
       " 'fridge': 734,\n",
       " 'concourse': 735,\n",
       " 'reads': 736,\n",
       " 'rr': 737,\n",
       " 'nytimes': 738,\n",
       " 'fgjbex': 739,\n",
       " 'babyfood': 740,\n",
       " 'deoderant': 741,\n",
       " 'court': 742,\n",
       " 'verification': 743,\n",
       " 'illegal': 744,\n",
       " 'icecream': 745,\n",
       " 'marry': 746,\n",
       " 'impatience': 747,\n",
       " 'badly': 748,\n",
       " 'averted': 749,\n",
       " 'folding': 750,\n",
       " 'living': 751,\n",
       " 'csfail': 752,\n",
       " 'jeanette': 753,\n",
       " 'eco': 754,\n",
       " 'ares': 755,\n",
       " 'ignore': 756,\n",
       " 'mosiac': 757,\n",
       " 'expressing': 758,\n",
       " 'pir': 759,\n",
       " 'fd': 760,\n",
       " 'welcomed': 761,\n",
       " 'invalid': 762,\n",
       " 'ardent': 763,\n",
       " 'jvstatus': 764,\n",
       " 'sometimes': 765,\n",
       " 'otherwise': 766,\n",
       " 'july': 767,\n",
       " 'mechanics': 768,\n",
       " 'moar': 769,\n",
       " 'travelfail': 770,\n",
       " 'pamper': 771,\n",
       " 'travis': 772,\n",
       " 'tissues': 773,\n",
       " 'unfair': 774,\n",
       " 'ricoh': 775,\n",
       " 'andrewbiga': 776,\n",
       " 'stoked': 777,\n",
       " 'vip': 778,\n",
       " 'commute': 779,\n",
       " 'jeanine': 780,\n",
       " 'messing': 781,\n",
       " 'cw': 782,\n",
       " 'stats': 783,\n",
       " 'figure': 784,\n",
       " 'loweredexpectations': 785,\n",
       " 'heattrap': 786,\n",
       " 'allergy': 787,\n",
       " 'provides': 788,\n",
       " 'ahhhhh': 789,\n",
       " 'graphics': 790,\n",
       " 'drive': 791,\n",
       " 'unloads': 792,\n",
       " 'blog': 793,\n",
       " 'az': 794,\n",
       " 'payments': 795,\n",
       " 'nanceebing': 796,\n",
       " 'revive': 797,\n",
       " 'struggling': 798,\n",
       " 'stressors': 799,\n",
       " 'keyrpflhil': 800,\n",
       " 'disappearing': 801,\n",
       " 'doesntfeellikestatusyet': 802,\n",
       " 'ticketed': 803,\n",
       " 'neptune': 804,\n",
       " 'albertbreer': 805,\n",
       " 'bio': 806,\n",
       " 'shorts': 807,\n",
       " 'pjs': 808,\n",
       " 'burger': 809,\n",
       " 'aadelay': 810,\n",
       " 'alittlebetter': 811,\n",
       " 'puppy': 812,\n",
       " 'velour': 813,\n",
       " 'clog': 814,\n",
       " 'appropriate': 815,\n",
       " 'charm': 816,\n",
       " 'qcxk': 817,\n",
       " 'coffee': 818,\n",
       " 'mates': 819,\n",
       " 'chemistry': 820,\n",
       " 'specialolympics': 821,\n",
       " 'byebyeusairline': 822,\n",
       " 'hopin': 823,\n",
       " 'dime': 824,\n",
       " 'grassy': 825,\n",
       " 'mostly': 826,\n",
       " 'sis': 827,\n",
       " 'montrose': 828,\n",
       " 'crewmember': 829,\n",
       " 'sen': 830,\n",
       " 'reading': 831,\n",
       " 'wanna': 832,\n",
       " 'army': 833,\n",
       " 'pride': 834,\n",
       " 'youretheworst': 835,\n",
       " 'neverchange': 836,\n",
       " 'strandedattheairport': 837,\n",
       " 'unsuccessful': 838,\n",
       " 'timed': 839,\n",
       " 'gbd': 840,\n",
       " 'ballin': 841,\n",
       " 'pefe': 842,\n",
       " 'authority': 843,\n",
       " 'nght': 844,\n",
       " 'too': 845,\n",
       " 'paying': 846,\n",
       " 'each': 847,\n",
       " 'aweful': 848,\n",
       " 'dangerofgettingsnowedin': 849,\n",
       " 'kshtue': 850,\n",
       " 'emails': 851,\n",
       " 'xz': 852,\n",
       " 'callings': 853,\n",
       " 'hood': 854,\n",
       " 'swapping': 855,\n",
       " 'dancing': 856,\n",
       " 'pops': 857,\n",
       " 'mwangbickler': 858,\n",
       " 'agr': 859,\n",
       " 'uncomfortable': 860,\n",
       " 'mhhs': 861,\n",
       " 'zouowgv': 862,\n",
       " 'faceless': 863,\n",
       " 'mideast': 864,\n",
       " 'commission': 865,\n",
       " 'nonrefundable': 866,\n",
       " 'jcolenc': 867,\n",
       " 'thousandth': 868,\n",
       " 'coworker': 869,\n",
       " 'yea': 870,\n",
       " 'dissapointing': 871,\n",
       " 'upsetting': 872,\n",
       " 'whrsthecoach': 873,\n",
       " 'via': 874,\n",
       " 'crossing': 875,\n",
       " 'seetonight': 876,\n",
       " 'gzb': 877,\n",
       " 'coachgs': 878,\n",
       " 'belfast': 879,\n",
       " 'banned': 880,\n",
       " 'bicycles': 881,\n",
       " 'wt': 882,\n",
       " 'broken': 883,\n",
       " 'bday': 884,\n",
       " 'unsolicited': 885,\n",
       " 'writes': 886,\n",
       " 'streets': 887,\n",
       " 'wdaktmr': 888,\n",
       " 'badmgmt': 889,\n",
       " 'safetyfirst': 890,\n",
       " 'recommended': 891,\n",
       " 'midterm': 892,\n",
       " 'p': 893,\n",
       " 'retiring': 894,\n",
       " 'capital': 895,\n",
       " 'flow': 896,\n",
       " 'isolate': 897,\n",
       " 'bayepzkmiz': 898,\n",
       " 'universally': 899,\n",
       " 'evenmorespace': 900,\n",
       " 'ends': 901,\n",
       " 'fabrice': 902,\n",
       " 'ta': 903,\n",
       " 'chatting': 904,\n",
       " 'kjkuvj': 905,\n",
       " 'addressing': 906,\n",
       " 'mediocre': 907,\n",
       " 'robert': 908,\n",
       " 'loosing': 909,\n",
       " 'plan': 910,\n",
       " 'lindsay': 911,\n",
       " 'wheels': 912,\n",
       " 'queues': 913,\n",
       " 'wack': 914,\n",
       " 'kid': 915,\n",
       " 'plate': 916,\n",
       " 'qlyss': 917,\n",
       " 'suggested': 918,\n",
       " 'travelhelp': 919,\n",
       " 'tier': 920,\n",
       " 'commend': 921,\n",
       " 'zpjr': 922,\n",
       " 'hjucp': 923,\n",
       " 'space': 924,\n",
       " 'niece': 925,\n",
       " 'smiling': 926,\n",
       " 'partnership': 927,\n",
       " 'our': 928,\n",
       " 'weeks': 929,\n",
       " 'customer': 930,\n",
       " 'contains': 931,\n",
       " 'shades': 932,\n",
       " 'fhes': 933,\n",
       " 'pvphmtzc': 934,\n",
       " 'unplanned': 935,\n",
       " 'indicate': 936,\n",
       " 'nickcunningham': 937,\n",
       " 'ut': 938,\n",
       " 'carpet': 939,\n",
       " 'endless': 940,\n",
       " 'warmest': 941,\n",
       " 'dangerous': 942,\n",
       " 'hurricane': 943,\n",
       " 'chase': 944,\n",
       " 'chart': 945,\n",
       " 'jordnnicole': 946,\n",
       " 'typo': 947,\n",
       " 'already': 948,\n",
       " 'zut': 949,\n",
       " 'axlqzwvh': 950,\n",
       " 'chariot': 951,\n",
       " 'cmfat': 952,\n",
       " 'age': 953,\n",
       " 'twiiter': 954,\n",
       " 'fixthis': 955,\n",
       " 'frustrated': 956,\n",
       " 'dispatchissue': 957,\n",
       " 'mosaic': 958,\n",
       " 'newsbusiness': 959,\n",
       " 'puts': 960,\n",
       " 'directing': 961,\n",
       " 'actual': 962,\n",
       " 'suffer': 963,\n",
       " 'sellmypointssoon': 964,\n",
       " 'delacy': 965,\n",
       " 'them': 966,\n",
       " 'hfof': 967,\n",
       " 'wpg': 968,\n",
       " 'nyc': 969,\n",
       " 'hemispheres': 970,\n",
       " 'pockets': 971,\n",
       " 'emxlyy': 972,\n",
       " 'mgr': 973,\n",
       " 'deborah': 974,\n",
       " 'crw': 975,\n",
       " 'judeo': 976,\n",
       " 'unanswered': 977,\n",
       " 'swadiversity': 978,\n",
       " 'buddies': 979,\n",
       " 'kvkd': 980,\n",
       " 'reachable': 981,\n",
       " 'grossedout': 982,\n",
       " 'pkaxunyfn': 983,\n",
       " 'alittle': 984,\n",
       " 'ruined': 985,\n",
       " 'clo': 986,\n",
       " 'spoke': 987,\n",
       " 'bloombergradio': 988,\n",
       " 'domestic': 989,\n",
       " 'cousin': 990,\n",
       " 'jacket': 991,\n",
       " 'oxvo': 992,\n",
       " 'condition': 993,\n",
       " 'bil': 994,\n",
       " 'towards': 995,\n",
       " 'maybeijustlost': 996,\n",
       " 'agency': 997,\n",
       " 'sellout': 998,\n",
       " 'spite': 999,\n",
       " 'hfho': 1000,\n",
       " ...}"
      ]
     },
     "execution_count": 22,
     "metadata": {},
     "output_type": "execute_result"
    }
   ],
   "source": [
    "word_index"
   ]
  },
  {
   "cell_type": "code",
   "execution_count": 23,
   "metadata": {},
   "outputs": [
    {
     "data": {
      "application/vnd.microsoft.datawrangler.viewer.v0+json": {
       "columns": [
        {
         "name": "index",
         "rawType": "int64",
         "type": "integer"
        },
        {
         "name": "text",
         "rawType": "object",
         "type": "string"
        }
       ],
       "ref": "6db17f73-354e-444d-839a-ff99e6620a22",
       "rows": [
        [
         "0",
         "['virginamerica', 'what', 'dhepburn', 'said', '.']"
        ],
        [
         "1",
         "['virginamerica', 'plus', 'you', 've', 'added', 'commercials', 'to', 'the', 'experience', '.', '.', '.', 'tacky', '.']"
        ],
        [
         "2",
         "['virginamerica', 'i', 'didn', 't', 'today', '.', '.', '.', 'must', 'mean', 'i', 'need', 'to', 'take', 'another', 'trip', '!']"
        ],
        [
         "3",
         "['virginamerica', 'it', 's', 'really', 'aggressive', 'to', 'blast', 'obnoxious', 'entertainment', 'in', 'your', 'guests', 'faces', 'amp', 'they', 'have', 'little', 'recourse']"
        ],
        [
         "4",
         "['virginamerica', 'and', 'it', 's', 'a', 'really', 'big', 'bad', 'thing', 'about', 'it']"
        ],
        [
         "5",
         "['virginamerica', 'seriously', 'would', 'pay', 'a', 'flight', 'for', 'seats', 'that', 'didn', 't', 'have', 'this', 'playing', '.', 'it', 's', 'really', 'the', 'only', 'bad', 'thing', 'about', 'flying', 'va']"
        ],
        [
         "6",
         "['virginamerica', 'yes', ',', 'nearly', 'every', 'time', 'i', 'fly', 'vx', 'this', 'ear', 'worm', 'won', 't', 'go', 'away', ')']"
        ],
        [
         "7",
         "['virginamerica', 'really', 'missed', 'a', 'prime', 'opportunity', 'for', 'men', 'without', 'hats', 'parody', ',', 'there', '.', 'https', 't', '.', 'co', 'mwpg', 'grezp']"
        ],
        [
         "8",
         "['virginamerica', 'well', ',', 'i', 'didn', 't', 'but', 'now', 'i', 'do', '!', 'd']"
        ],
        [
         "9",
         "['virginamerica', 'it', 'was', 'amazing', ',', 'and', 'arrived', 'an', 'hour', 'early', '.', 'you', 're', 'too', 'good', 'to', 'me', '.']"
        ],
        [
         "10",
         "['virginamerica', 'did', 'you', 'know', 'that', 'suicide', 'is', 'the', 'second', 'leading', 'cause', 'of', 'death', 'among', 'teens']"
        ],
        [
         "11",
         "['virginamerica', 'i', 'lt', 'pretty', 'graphics', '.', 'so', 'much', 'better', 'than', 'minimal', 'iconography', '.', 'd']"
        ],
        [
         "12",
         "['virginamerica', 'this', 'is', 'such', 'a', 'great', 'deal', '!', 'already', 'thinking', 'about', 'my', 'nd', 'trip', 'to', 'australia', 'amp', 'i', 'haven', 't', 'even', 'gone', 'on', 'my', 'st', 'trip', 'yet', '!', 'p']"
        ],
        [
         "13",
         "['virginamerica', 'virginmedia', 'i', 'm', 'flying', 'your', 'fabulous', 'seductive', 'skies', 'again', '!', 'u', 'take', 'all', 'the', 'stress', 'away', 'from', 'travel', 'http', 't', '.', 'co', 'ahlxhhkiyn']"
        ],
        [
         "14",
         "['virginamerica', 'thanks', '!']"
        ],
        [
         "15",
         "['virginamerica', 'sfo', 'pdx', 'schedule', 'is', 'still', 'mia', '.']"
        ],
        [
         "16",
         "['virginamerica', 'so', 'excited', 'for', 'my', 'first', 'cross', 'country', 'flight', 'lax', 'to', 'mco', 'i', 've', 'heard', 'nothing', 'but', 'great', 'things', 'about', 'virgin', 'america', '.', 'daystogo']"
        ],
        [
         "17",
         "['virginamerica', 'i', 'flew', 'from', 'nyc', 'to', 'sfo', 'last', 'week', 'and', 'couldn', 't', 'fully', 'sit', 'in', 'my', 'seat', 'due', 'to', 'two', 'large', 'gentleman', 'on', 'either', 'side', 'of', 'me', '.', 'help', '!']"
        ],
        [
         "18",
         "['i', 'flying', 'virginamerica', '.']"
        ],
        [
         "19",
         "['virginamerica', 'you', 'know', 'what', 'would', 'be', 'amazingly', 'awesome', '?', 'bos', 'fll', 'please', '!', '!', '!', '!', '!', '!', '!', 'i', 'want', 'to', 'fly', 'with', 'only', 'you', '.']"
        ],
        [
         "20",
         "['virginamerica', 'why', 'are', 'your', 'first', 'fares', 'in', 'may', 'over', 'three', 'times', 'more', 'than', 'other', 'carriers', 'when', 'all', 'seats', 'are', 'available', 'to', 'select', '?', '?', '?']"
        ],
        [
         "21",
         "['virginamerica', 'i', 'love', 'this', 'graphic', '.', 'http', 't', '.', 'co', 'ut', 'grrwaaa']"
        ],
        [
         "22",
         "['virginamerica', 'i', 'love', 'the', 'hipster', 'innovation', '.', 'you', 'are', 'a', 'feel', 'good', 'brand', '.']"
        ],
        [
         "23",
         "['virginamerica', 'will', 'you', 'be', 'making', 'bos', 'gt', 'las', 'non', 'stop', 'permanently', 'anytime', 'soon', '?']"
        ],
        [
         "24",
         "['virginamerica', 'you', 'guys', 'messed', 'up', 'my', 'seating', '.', '.', 'i', 'reserved', 'seating', 'with', 'my', 'friends', 'and', 'you', 'guys', 'gave', 'my', 'seat', 'away', '.', '.', '.', 'i', 'want', 'free', 'internet']"
        ],
        [
         "25",
         "['virginamerica', 'status', 'match', 'program', '.', 'i', 'applied', 'and', 'it', 's', 'been', 'three', 'weeks', '.', 'called', 'and', 'emailed', 'with', 'no', 'response', '.']"
        ],
        [
         "26",
         "['virginamerica', 'what', 'happened', 'ur', 'vegan', 'food', 'options', '?', '!', 'at', 'least', 'say', 'on', 'ur', 'site', 'so', 'i', 'know', 'i', 'won', 't', 'be', 'able', 'eat', 'anything', 'for', 'next', 'hrs', 'fail']"
        ],
        [
         "27",
         "['virginamerica', 'do', 'you', 'miss', 'me', '?', 'don', 't', 'worry', 'we', 'll', 'be', 'together', 'very', 'soon', '.']"
        ],
        [
         "28",
         "['virginamerica', 'amazing', 'to', 'me', 'that', 'we', 'can', 't', 'get', 'any', 'cold', 'air', 'from', 'the', 'vents', '.', 'vx', 'noair', 'worstflightever', 'roasted', 'sfotobos']"
        ],
        [
         "29",
         "['virginamerica', 'lax', 'to', 'ewr', 'middle', 'seat', 'on', 'a', 'red', 'eye', '.', 'such', 'a', 'noob', 'maneuver', '.', 'sendambien', 'andchexmix']"
        ],
        [
         "30",
         "['virginamerica', 'hi', '!', 'i', 'just', 'bked', 'a', 'cool', 'birthday', 'trip', 'with', 'you', ',', 'but', 'i', 'can', 't', 'add', 'my', 'elevate', 'no', '.', 'cause', 'i', 'entered', 'my', 'middle', 'name', 'during', 'flight', 'booking', 'problems']"
        ],
        [
         "31",
         "['virginamerica', 'are', 'the', 'hours', 'of', 'operation', 'for', 'the', 'club', 'at', 'sfo', 'that', 'are', 'posted', 'online', 'current', '?']"
        ],
        [
         "32",
         "['virginamerica', 'help', ',', 'left', 'expensive', 'headphones', 'on', 'flight', 'iad', 'to', 'lax', 'today', '.', 'seat', 'a', '.', 'no', 'one', 'answering', 'l', 'amp', 'f', 'number', 'at', 'lax', '!']"
        ],
        [
         "33",
         "['virginamerica', 'awaiting', 'my', 'return', 'phone', 'call', ',', 'just', 'would', 'prefer', 'to', 'use', 'your', 'online', 'self', 'service', 'option', '(']"
        ],
        [
         "34",
         "['virginamerica', 'this', 'is', 'great', 'news', '!', 'america', 'could', 'start', 'flights', 'to', 'hawaii', 'by', 'end', 'of', 'year', 'http', 't', '.', 'co', 'r', 'p', 'zy', 'fe', 'via', 'pacificbiznews']"
        ],
        [
         "35",
         "['nice', 'rt', 'virginamerica', 'vibe', 'with', 'the', 'moodlight', 'from', 'takeoff', 'to', 'touchdown', '.', 'moodlitmonday', 'sciencebehindtheexperience', 'http', 't', '.', 'co', 'y', 'o', 'unxtqp']"
        ],
        [
         "36",
         "['virginamerica', 'moodlighting', 'is', 'the', 'only', 'way', 'to', 'fly', '!', 'best', 'experience', 'ever', '!', 'cool', 'and', 'calming', '.', 'moodlitmonday']"
        ],
        [
         "37",
         "['virginamerica', 'freddieawards', 'done', 'and', 'done', '!', 'best', 'airline', 'around', ',', 'hands', 'down', '!']"
        ],
        [
         "38",
         "['virginamerica', 'when', 'can', 'i', 'book', 'my', 'flight', 'to', 'hawaii', '?', '?']"
        ],
        [
         "39",
         "['virginamerica', 'your', 'chat', 'support', 'is', 'not', 'working', 'on', 'your', 'site', 'http', 't', '.', 'co', 'vhp', 'gtdwpk']"
        ],
        [
         "40",
         "['virginamerica', 'view', 'of', 'downtown', 'los', 'angeles', ',', 'the', 'hollywood', 'sign', ',', 'and', 'beyond', 'that', 'rain', 'in', 'the', 'mountains', '!', 'http', 't', '.', 'co', 'dw', 'nf', 'ibtr']"
        ],
        [
         "41",
         "['virginamerica', 'hey', ',', 'first', 'time', 'flyer', 'next', 'week', 'excited', '!', 'but', 'i', 'm', 'having', 'a', 'hard', 'time', 'getting', 'my', 'flights', 'added', 'to', 'my', 'elevate', 'account', '.', 'help', '?']"
        ],
        [
         "42",
         "['virginamerica', 'plz', 'help', 'me', 'win', 'my', 'bid', 'upgrade', 'for', 'my', 'flight', 'lax', 'gt', 'sea', '!', '!', '!']"
        ],
        [
         "43",
         "['virginamerica', 'i', 'have', 'an', 'unused', 'ticket', 'but', 'moved', 'to', 'a', 'new', 'city', 'where', 'you', 'don', 't', 'fly', '.', 'how', 'can', 'i', 'fly', 'with', 'you', 'before', 'it', 'expires', '?', 'travelhelp']"
        ],
        [
         "44",
         "['virginamerica', 'are', 'flights', 'leaving', 'dallas', 'for', 'seattle', 'on', 'time', 'feb', '?']"
        ],
        [
         "45",
         "['virginamerica', 'i', 'm', 'elevategold', 'for', 'a', 'good', 'reason', 'you', 'rock', '!', '!']"
        ],
        [
         "46",
         "['virginamerica', 'dream', 'http', 't', '.', 'co', 'oa', 'drfaoq', 'http', 't', '.', 'co', 'lwwdac', 'khx']"
        ],
        [
         "47",
         "['virginamerica', 'wow', 'this', 'just', 'blew', 'my', 'mind']"
        ],
        [
         "48",
         "['virginamerica', 'ladygaga', 'carrieunderwood', 'after', 'last', 'night', 'tribute', 'soundofmusic', 'oscars', 'ladygaga', '!', 'i', 'think', 'carrieunderwood', 'agree']"
        ],
        [
         "49",
         "['virginamerica', 'ladygaga', 'carrieunderwood', 'all', 'were', 'entertaining']"
        ]
       ],
       "shape": {
        "columns": 1,
        "rows": 14640
       }
      },
      "text/plain": [
       "0                 [virginamerica, what, dhepburn, said, .]\n",
       "1        [virginamerica, plus, you, ve, added, commerci...\n",
       "2        [virginamerica, i, didn, t, today, ., ., ., mu...\n",
       "3        [virginamerica, it, s, really, aggressive, to,...\n",
       "4        [virginamerica, and, it, s, a, really, big, ba...\n",
       "                               ...                        \n",
       "14635    [americanair, thank, you, we, got, on, a, diff...\n",
       "14636    [americanair, leaving, over, minutes, late, fl...\n",
       "14637    [americanair, please, bring, american, airline...\n",
       "14638    [americanair, you, have, my, money, ,, you, ch...\n",
       "14639    [americanair, we, have, ppl, so, we, need, kno...\n",
       "Name: text, Length: 14640, dtype: object"
      ]
     },
     "execution_count": 23,
     "metadata": {},
     "output_type": "execute_result"
    }
   ],
   "source": [
    "data.text"
   ]
  },
  {
   "cell_type": "code",
   "execution_count": 24,
   "metadata": {},
   "outputs": [],
   "source": [
    "text = data.text.apply(lambda x: [word_index.get(word, 0) for word in x])"
   ]
  },
  {
   "cell_type": "code",
   "execution_count": 25,
   "metadata": {},
   "outputs": [
    {
     "data": {
      "application/vnd.microsoft.datawrangler.viewer.v0+json": {
       "columns": [
        {
         "name": "index",
         "rawType": "int64",
         "type": "integer"
        },
        {
         "name": "text",
         "rawType": "object",
         "type": "string"
        }
       ],
       "ref": "796f7b3c-793a-4adf-8f4f-69d7fcab66b4",
       "rows": [
        [
         "0",
         "[183, 8990, 13026, 2131, 9961]"
        ],
        [
         "1",
         "[183, 2234, 2661, 1744, 2307, 7836, 2512, 471, 11926, 9961, 9961, 9961, 6029, 9961]"
        ],
        [
         "2",
         "[183, 13665, 7563, 4614, 5019, 9961, 9961, 9961, 3202, 5427, 13665, 8651, 2512, 9802, 7081, 5441, 12593]"
        ],
        [
         "3",
         "[183, 8975, 4733, 11354, 1611, 2512, 6753, 6124, 4664, 4804, 8283, 6969, 7379, 6136, 9665, 2523, 6428, 6654]"
        ],
        [
         "4",
         "[183, 10461, 8975, 4733, 13281, 11354, 13058, 8608, 2226, 46, 8975]"
        ],
        [
         "5",
         "[183, 10816, 5513, 10210, 13281, 12474, 10141, 4541, 3667, 7563, 4614, 2523, 10756, 4375, 9961, 8975, 4733, 11354, 471, 6504, 8608, 2226, 46, 11330, 6464]"
        ],
        [
         "6",
         "[183, 3988, 2252, 4906, 9004, 11711, 13665, 8217, 10273, 10756, 13486, 8426, 4634, 4614, 5338, 13174, 1470]"
        ],
        [
         "7",
         "[183, 11354, 2844, 13281, 5161, 4169, 10141, 4756, 10618, 4563, 11081, 2252, 1235, 9961, 7019, 4614, 9961, 8128, 2617, 1581]"
        ],
        [
         "8",
         "[183, 165, 2252, 13665, 7563, 4614, 10842, 11948, 13665, 6462, 12593, 12694]"
        ],
        [
         "9",
         "[183, 8975, 8744, 12387, 2252, 10461, 3598, 10884, 20, 13302, 9961, 2661, 626, 845, 3474, 2512, 6174, 9961]"
        ],
        [
         "10",
         "[183, 2322, 2661, 3724, 3667, 6348, 7025, 471, 8823, 10369, 3198, 8650, 2051, 2899, 3866]"
        ],
        [
         "11",
         "[183, 13665, 2347, 5865, 790, 9961, 8700, 12993, 2585, 2878, 3121, 1834, 9961, 12694]"
        ],
        [
         "12",
         "[183, 10756, 7025, 9245, 13281, 10738, 1302, 12593, 948, 5721, 46, 6262, 6147, 5441, 2512, 11647, 6136, 13665, 7986, 4614, 12936, 12080, 1792, 6262, 2770, 5441, 7290, 12593, 893]"
        ],
        [
         "13",
         "[183, 6556, 13665, 4860, 11330, 8283, 1635, 12734, 640, 6399, 12593, 10486, 9802, 4668, 471, 13054, 13174, 6770, 13265, 10849, 4614, 9961, 8128, 9872]"
        ],
        [
         "14",
         "[183, 8504, 12593]"
        ],
        [
         "15",
         "[183, 9498, 9143, 6181, 7025, 3657, 314, 9961]"
        ],
        [
         "16",
         "[183, 8700, 460, 10141, 6262, 9570, 10246, 3992, 12474, 6195, 2512, 12528, 13665, 1744, 2998, 7104, 10842, 10738, 9465, 46, 8036, 5437, 9961, 3272]"
        ],
        [
         "17",
         "[183, 13665, 7158, 6770, 969, 2512, 9498, 4142, 7989, 10461, 12594, 4614, 2697, 1852, 4804, 6262, 7661, 5977, 2512, 5589, 6671, 6065, 1792, 3091, 2136, 8650, 6174, 9961, 1957, 12593]"
        ],
        [
         "18",
         "[13665, 11330, 183, 9961]"
        ],
        [
         "19",
         "[183, 2661, 3724, 8990, 5513, 5462, 6266, 11693, 6431, 3505, 12420, 9870, 12593, 12593, 12593, 12593, 12593, 12593, 12593, 13665, 13186, 2512, 8217, 13426, 6504, 2661, 9961]"
        ],
        [
         "20",
         "[183, 7518, 11199, 8283, 9570, 2953, 4804, 2729, 11807, 7294, 11405, 634, 2878, 1708, 11058, 8946, 4668, 4541, 11199, 4348, 2512, 2018, 6431, 6431, 6431]"
        ],
        [
         "21",
         "[183, 13665, 13317, 10756, 261, 9961, 10849, 4614, 9961, 8128, 938, 8766]"
        ],
        [
         "22",
         "[183, 13665, 13317, 471, 11834, 7420, 9961, 2661, 11199, 13281, 11780, 3474, 5248, 9961]"
        ],
        [
         "23",
         "[183, 7931, 2661, 5462, 13350, 3505, 4874, 7376, 4045, 2577, 7670, 7501, 12362, 6431]"
        ],
        [
         "24",
         "[183, 2661, 10331, 6256, 292, 6262, 3268, 9961, 9961, 13665, 9144, 3268, 13426, 6262, 6202, 10461, 2661, 10331, 7089, 6262, 7661, 13174, 9961, 9961, 9961, 13665, 13186, 12922, 1489]"
        ],
        [
         "25",
         "[183, 6107, 3814, 4394, 9961, 13665, 8437, 10461, 8975, 4733, 12984, 7294, 929, 9961, 5693, 10461, 1928, 13426, 10450, 8673, 9961]"
        ],
        [
         "26",
         "[183, 8990, 9099, 6714, 2168, 1932, 3837, 6431, 12593, 3946, 6643, 9097, 1792, 6714, 10357, 8700, 13665, 3724, 13665, 4634, 4614, 5462, 652, 11441, 9905, 10141, 3205, 6132, 1955]"
        ],
        [
         "27",
         "[183, 6462, 2661, 12076, 6174, 6431, 21, 4614, 9915, 2554, 10375, 5462, 3661, 12837, 12362, 9961]"
        ],
        [
         "28",
         "[183, 12387, 2512, 6174, 3667, 2554, 12415, 4614, 9035, 12450, 1154, 10818, 6770, 471, 9745, 9961, 10273, 9117, 3427, 13234, 8540]"
        ],
        [
         "29",
         "[183, 6195, 2512, 720, 9132, 7661, 1792, 13281, 7451, 11603, 9961, 9245, 13281, 11280, 9345, 9961, 3285, 2037]"
        ],
        [
         "30",
         "[183, 1173, 12593, 13665, 12726, 4166, 13281, 445, 5031, 5441, 13426, 2661, 2252, 10842, 13665, 12415, 4614, 5402, 6262, 467, 10450, 9961, 3198, 13665, 8086, 6262, 9132, 220, 10821, 12474, 2863, 6679]"
        ],
        [
         "31",
         "[183, 11199, 471, 10997, 8650, 3084, 10141, 471, 1710, 3946, 9498, 3667, 11199, 1705, 6409, 4819, 6431]"
        ],
        [
         "32",
         "[183, 1957, 2252, 425, 6367, 13527, 1792, 12474, 3249, 2512, 6195, 5019, 9961, 7661, 13281, 9961, 10450, 7305, 6251, 9757, 6136, 5183, 10620, 3946, 6195, 12593]"
        ],
        [
         "33",
         "[183, 4647, 6262, 1438, 8721, 12942, 2252, 12726, 5513, 10301, 2512, 11338, 8283, 6409, 8381, 12305, 5616, 3626]"
        ],
        [
         "34",
         "[183, 10756, 7025, 10738, 11059, 12593, 5437, 9664, 5566, 12691, 2512, 1630, 3885, 10661, 8650, 10337, 10849, 4614, 9961, 8128, 13390, 893, 601, 11951, 874, 11249]"
        ],
        [
         "35",
         "[11559, 11746, 183, 5592, 13426, 471, 10589, 6770, 6988, 2512, 11437, 9961, 13227, 92, 10849, 4614, 9961, 8128, 11363, 7983, 9333]"
        ],
        [
         "36",
         "[183, 3957, 7025, 471, 6504, 12095, 2512, 8217, 12593, 4336, 11926, 3713, 12593, 445, 10461, 4889, 9961, 13227]"
        ],
        [
         "37",
         "[183, 7573, 7991, 10461, 7991, 12593, 4336, 9806, 5906, 2252, 1317, 10216, 12593]"
        ],
        [
         "38",
         "[183, 8946, 12415, 13665, 3013, 6262, 12474, 2512, 1630, 6431, 6431]"
        ],
        [
         "39",
         "[183, 8283, 7976, 12485, 7025, 10442, 3216, 1792, 8283, 10357, 10849, 4614, 9961, 8128, 5301, 4209]"
        ],
        [
         "40",
         "[183, 630, 8650, 1401, 437, 1682, 2252, 471, 5413, 12161, 2252, 10461, 13185, 3667, 2179, 4804, 471, 3810, 12593, 10849, 4614, 9961, 8128, 12066, 8050, 6280]"
        ],
        [
         "41",
         "[183, 10857, 2252, 9570, 11711, 10580, 3205, 7989, 460, 12593, 10842, 13665, 4860, 13172, 13281, 4999, 11711, 10083, 6262, 12691, 2307, 2512, 6262, 467, 3676, 9961, 1957, 6431]"
        ],
        [
         "42",
         "[183, 8726, 1957, 6174, 9918, 6262, 9145, 13230, 10141, 6262, 12474, 6195, 4874, 13091, 12593, 12593, 12593]"
        ],
        [
         "43",
         "[183, 13665, 2523, 10884, 7076, 12205, 10842, 13351, 2512, 13281, 10476, 275, 4497, 2661, 21, 4614, 8217, 9961, 6769, 12415, 13665, 8217, 13426, 2661, 7173, 8975, 12765, 6431, 919]"
        ],
        [
         "44",
         "[183, 11199, 12691, 9010, 7933, 10141, 10678, 1792, 11711, 1148, 6431]"
        ],
        [
         "45",
         "[183, 13665, 4860, 13235, 10141, 13281, 3474, 4561, 2661, 9001, 12593, 12593]"
        ],
        [
         "46",
         "[183, 6794, 10849, 4614, 9961, 8128, 10604, 12113, 10849, 4614, 9961, 8128, 528, 8372]"
        ],
        [
         "47",
         "[183, 399, 10756, 12726, 10528, 6262, 2488]"
        ],
        [
         "48",
         "[183, 13571, 8579, 10147, 4142, 8487, 5985, 13319, 8654, 13571, 12593, 13665, 9460, 8579, 3212]"
        ],
        [
         "49",
         "[183, 13571, 8579, 4668, 2101, 2015]"
        ]
       ],
       "shape": {
        "columns": 1,
        "rows": 14640
       }
      },
      "text/plain": [
       "0                           [183, 8990, 13026, 2131, 9961]\n",
       "1        [183, 2234, 2661, 1744, 2307, 7836, 2512, 471,...\n",
       "2        [183, 13665, 7563, 4614, 5019, 9961, 9961, 996...\n",
       "3        [183, 8975, 4733, 11354, 1611, 2512, 6753, 612...\n",
       "4        [183, 10461, 8975, 4733, 13281, 11354, 13058, ...\n",
       "                               ...                        \n",
       "14635    [4914, 2572, 2661, 2554, 7222, 1792, 13281, 12...\n",
       "14636    [4914, 9010, 11807, 5327, 5527, 12474, 9961, 1...\n",
       "14637          [4914, 9870, 10761, 5915, 7182, 2512, 4237]\n",
       "14638    [4914, 2661, 2523, 6262, 6584, 2252, 2661, 612...\n",
       "14639    [4914, 2554, 2523, 9748, 8700, 2554, 8651, 372...\n",
       "Name: text, Length: 14640, dtype: object"
      ]
     },
     "execution_count": 25,
     "metadata": {},
     "output_type": "execute_result"
    }
   ],
   "source": [
    "text"
   ]
  },
  {
   "cell_type": "code",
   "execution_count": 26,
   "metadata": {},
   "outputs": [],
   "source": [
    "maxlen = max(len(x) for x in text)"
   ]
  },
  {
   "cell_type": "code",
   "execution_count": 27,
   "metadata": {},
   "outputs": [
    {
     "data": {
      "text/plain": [
       "40"
      ]
     },
     "execution_count": 27,
     "metadata": {},
     "output_type": "execute_result"
    }
   ],
   "source": [
    "maxlen"
   ]
  },
  {
   "cell_type": "code",
   "execution_count": 28,
   "metadata": {},
   "outputs": [],
   "source": [
    "#import torch.nn.utils.rnn as rnn_utils"
   ]
  },
  {
   "cell_type": "code",
   "execution_count": 29,
   "metadata": {},
   "outputs": [],
   "source": [
    "pad_text = [l + (maxlen-len(l))*[0] for l in text]"
   ]
  },
  {
   "cell_type": "code",
   "execution_count": 30,
   "metadata": {},
   "outputs": [],
   "source": [
    "pad_text = np.array(pad_text)"
   ]
  },
  {
   "cell_type": "code",
   "execution_count": 31,
   "metadata": {},
   "outputs": [
    {
     "data": {
      "text/plain": [
       "(14640, 40)"
      ]
     },
     "execution_count": 31,
     "metadata": {},
     "output_type": "execute_result"
    }
   ],
   "source": [
    "pad_text.shape"
   ]
  },
  {
   "cell_type": "code",
   "execution_count": 32,
   "metadata": {},
   "outputs": [],
   "source": [
    "labels = data.review.values"
   ]
  },
  {
   "cell_type": "code",
   "execution_count": 33,
   "metadata": {},
   "outputs": [
    {
     "data": {
      "text/plain": [
       "(14640,)"
      ]
     },
     "execution_count": 33,
     "metadata": {},
     "output_type": "execute_result"
    }
   ],
   "source": [
    "labels.shape"
   ]
  },
  {
   "cell_type": "code",
   "execution_count": 34,
   "metadata": {},
   "outputs": [],
   "source": [
    "from sklearn.model_selection import train_test_split"
   ]
  },
  {
   "cell_type": "code",
   "execution_count": 35,
   "metadata": {},
   "outputs": [],
   "source": [
    "x_train, x_test, y_train, y_test = train_test_split(pad_text, labels)"
   ]
  },
  {
   "cell_type": "code",
   "execution_count": 36,
   "metadata": {},
   "outputs": [
    {
     "data": {
      "text/plain": [
       "((10980, 40), (3660, 40), (10980,))"
      ]
     },
     "execution_count": 36,
     "metadata": {},
     "output_type": "execute_result"
    }
   ],
   "source": [
    "x_train.shape, x_test.shape, y_train.shape"
   ]
  },
  {
   "cell_type": "markdown",
   "metadata": {},
   "source": [
    "创建 dataset"
   ]
  },
  {
   "cell_type": "code",
   "execution_count": 37,
   "metadata": {},
   "outputs": [],
   "source": [
    "class Mydataset(torch.utils.data.Dataset):\n",
    "    def __init__(self, text_list, label_list):\n",
    "        self.text_list = text_list\n",
    "        self.label_list = label_list\n",
    "        \n",
    "    def __getitem__(self, index):\n",
    "        text = torch.LongTensor(self.text_list[index])\n",
    "        label = self.label_list[index]\n",
    "        return text, label\n",
    "\n",
    "    def __len__(self):\n",
    "        return len(self.text_list)"
   ]
  },
  {
   "cell_type": "code",
   "execution_count": 38,
   "metadata": {},
   "outputs": [],
   "source": [
    "train_ds = Mydataset(x_train, y_train)\n",
    "test_ds = Mydataset(x_test, y_test)"
   ]
  },
  {
   "cell_type": "code",
   "execution_count": 39,
   "metadata": {},
   "outputs": [],
   "source": [
    "BTACH_SIZE = 16"
   ]
  },
  {
   "cell_type": "code",
   "execution_count": 40,
   "metadata": {},
   "outputs": [],
   "source": [
    "train_dl = torch.utils.data.DataLoader(\n",
    "                                       train_ds,\n",
    "                                       batch_size=BTACH_SIZE,\n",
    "                                       shuffle=True\n",
    ")"
   ]
  },
  {
   "cell_type": "code",
   "execution_count": 41,
   "metadata": {},
   "outputs": [],
   "source": [
    "test_dl = torch.utils.data.DataLoader(\n",
    "                                       test_ds,\n",
    "                                       batch_size=BTACH_SIZE\n",
    ")"
   ]
  },
  {
   "cell_type": "markdown",
   "metadata": {},
   "source": [
    "Embeding : 把文本映射为一个密集向量"
   ]
  },
  {
   "cell_type": "code",
   "execution_count": 42,
   "metadata": {},
   "outputs": [],
   "source": [
    "class Net(nn.Module):\n",
    "    def __init__(self):\n",
    "        super(Net, self).__init__()\n",
    "        self.em = nn.Embedding(max_word, 100)   # batch*maxlen*100\n",
    "        self.fc1 = nn.Linear(maxlen*100, 1024)\n",
    "        self.fc2 = nn.Linear(1024, 3)\n",
    "\n",
    "    def forward(self, x):\n",
    "        x = self.em(x)\n",
    "        x = x.view(x.size(0), -1)\n",
    "        x = F.relu(self.fc1(x))\n",
    "        x = self.fc2(x)\n",
    "        return x"
   ]
  },
  {
   "cell_type": "code",
   "execution_count": 43,
   "metadata": {},
   "outputs": [],
   "source": [
    "model = Net().to(device)"
   ]
  },
  {
   "cell_type": "code",
   "execution_count": 44,
   "metadata": {},
   "outputs": [],
   "source": [
    "loss_fn = nn.CrossEntropyLoss()\n",
    "optimizer = torch.optim.Adam(model.parameters(), lr=0.001)"
   ]
  },
  {
   "cell_type": "code",
   "execution_count": 45,
   "metadata": {},
   "outputs": [],
   "source": [
    "def fit(epoch, model, trainloader, testloader):\n",
    "    correct = 0\n",
    "    total = 0\n",
    "    running_loss = 0\n",
    "    \n",
    "    model.train()\n",
    "    for x, y in trainloader:\n",
    "        if torch.cuda.is_available():\n",
    "                x, y = x.to('cuda'), y.to('cuda')\n",
    "        # x, y = x.to(device), y.to(device)\n",
    "        y_pred = model(x)\n",
    "        loss = loss_fn(y_pred, y)\n",
    "        optimizer.zero_grad()\n",
    "        loss.backward()\n",
    "        optimizer.step()\n",
    "        with torch.no_grad():\n",
    "            y_pred = torch.argmax(y_pred, dim=1)\n",
    "            correct += (y_pred == y).sum().item()\n",
    "            total += y.size(0)\n",
    "            running_loss += loss.item()\n",
    "#    exp_lr_scheduler.step()\n",
    "    epoch_loss = running_loss / len(trainloader.dataset)\n",
    "    epoch_acc = correct / total\n",
    "        \n",
    "        \n",
    "    test_correct = 0\n",
    "    test_total = 0\n",
    "    test_running_loss = 0 \n",
    "    \n",
    "    model.eval()\n",
    "    with torch.no_grad():\n",
    "        for x, y in testloader:\n",
    "            x, y = x.to(device), y.to(device)\n",
    "            y_pred = model(x)\n",
    "            loss = loss_fn(y_pred, y)\n",
    "            y_pred = torch.argmax(y_pred, dim=1)\n",
    "            test_correct += (y_pred == y).sum().item()\n",
    "            test_total += y.size(0)\n",
    "            test_running_loss += loss.item()\n",
    "    \n",
    "    epoch_test_loss = test_running_loss / len(testloader.dataset)\n",
    "    epoch_test_acc = test_correct / test_total\n",
    "    \n",
    "        \n",
    "    print('epoch: ', epoch, \n",
    "          'loss： ', round(epoch_loss, 3),\n",
    "          'accuracy:', round(epoch_acc, 3),\n",
    "          'test_loss： ', round(epoch_test_loss, 3),\n",
    "          'test_accuracy:', round(epoch_test_acc, 3)\n",
    "             )\n",
    "        \n",
    "    return epoch_loss, epoch_acc, epoch_test_loss, epoch_test_acc"
   ]
  },
  {
   "cell_type": "code",
   "execution_count": 46,
   "metadata": {},
   "outputs": [],
   "source": [
    "epochs = 10"
   ]
  },
  {
   "cell_type": "code",
   "execution_count": 47,
   "metadata": {},
   "outputs": [
    {
     "name": "stdout",
     "output_type": "stream",
     "text": [
      "epoch:  0 loss：  0.051 accuracy: 0.67 test_loss：  0.046 test_accuracy: 0.686\n",
      "epoch:  1 loss：  0.037 accuracy: 0.749 test_loss：  0.044 test_accuracy: 0.733\n",
      "epoch:  2 loss：  0.025 accuracy: 0.835 test_loss：  0.045 test_accuracy: 0.742\n",
      "epoch:  3 loss：  0.017 accuracy: 0.891 test_loss：  0.056 test_accuracy: 0.737\n",
      "epoch:  4 loss：  0.011 accuracy: 0.931 test_loss：  0.062 test_accuracy: 0.735\n",
      "epoch:  5 loss：  0.008 accuracy: 0.956 test_loss：  0.074 test_accuracy: 0.723\n",
      "epoch:  6 loss：  0.006 accuracy: 0.965 test_loss：  0.09 test_accuracy: 0.729\n",
      "epoch:  7 loss：  0.004 accuracy: 0.976 test_loss：  0.108 test_accuracy: 0.714\n",
      "epoch:  8 loss：  0.004 accuracy: 0.982 test_loss：  0.104 test_accuracy: 0.714\n",
      "epoch:  9 loss：  0.003 accuracy: 0.981 test_loss：  0.121 test_accuracy: 0.722\n"
     ]
    }
   ],
   "source": [
    "train_loss = []\n",
    "train_acc = []\n",
    "test_loss = []\n",
    "test_acc = []\n",
    "\n",
    "for epoch in range(epochs):\n",
    "    epoch_loss, epoch_acc, epoch_test_loss, epoch_test_acc = fit(epoch,\n",
    "                                                                 model,\n",
    "                                                                 train_dl,\n",
    "                                                                 test_dl)\n",
    "    train_loss.append(epoch_loss)\n",
    "    train_acc.append(epoch_acc)\n",
    "    test_loss.append(epoch_test_loss)\n",
    "    test_acc.append(epoch_test_acc)"
   ]
  },
  {
   "cell_type": "code",
   "execution_count": 48,
   "metadata": {},
   "outputs": [
    {
     "data": {
      "text/plain": [
       "<matplotlib.legend.Legend at 0x1828c4039a0>"
      ]
     },
     "execution_count": 48,
     "metadata": {},
     "output_type": "execute_result"
    },
    {
     "data": {
      "image/png": "[encoded data removed]",
      "text/plain": [
       "<Figure size 640x480 with 1 Axes>"
      ]
     },
     "metadata": {},
     "output_type": "display_data"
    }
   ],
   "source": [
    "plt.plot(range(epochs), train_acc, c='r', label='train_acc')\n",
    "plt.plot(range(epochs), test_acc, c='b', label='test_loss')\n",
    "plt.legend()"
   ]
  },
  {
   "cell_type": "code",
   "execution_count": 49,
   "metadata": {},
   "outputs": [
    {
     "data": {
      "text/plain": [
       "<matplotlib.legend.Legend at 0x1828c46af10>"
      ]
     },
     "execution_count": 49,
     "metadata": {},
     "output_type": "execute_result"
    },
    {
     "data": {
      "image/png": "[encoded data removed]",
      "text/plain": [
       "<Figure size 640x480 with 1 Axes>"
      ]
     },
     "metadata": {},
     "output_type": "display_data"
    }
   ],
   "source": [
    "plt.plot(range(epochs), train_loss, c='r', label='train_loss')\n",
    "plt.plot(range(epochs), test_loss, c='b', label='test_loss')\n",
    "plt.legend()"
   ]
  },
  {
   "cell_type": "markdown",
   "metadata": {},
   "source": [
    "# 使用LSTM"
   ]
  },
  {
   "cell_type": "code",
   "execution_count": 50,
   "metadata": {},
   "outputs": [],
   "source": [
    "class Net(nn.Module):\n",
    "    def __init__(self):\n",
    "        super(Net, self).__init__()\n",
    "        self.em = nn.Embedding(max_word, 100)   # batch*maxlen*100\n",
    "        self.lstm = nn.LSTM(100, 200, batch_first=True)\n",
    "        self.fc1 = nn.Linear(200, 256)\n",
    "        self.fc2 = nn.Linear(256, 3)\n",
    "\n",
    "    def forward(self, x):\n",
    "        x = self.em(x)\n",
    "        x, _ = self.lstm(x)\n",
    "        x = F.relu(self.fc1(x[:, -1, :]))\n",
    "        x = self.fc2(x)\n",
    "        return x"
   ]
  },
  {
   "cell_type": "code",
   "execution_count": 51,
   "metadata": {},
   "outputs": [],
   "source": [
    "model = Net().to(device)"
   ]
  },
  {
   "cell_type": "code",
   "execution_count": 52,
   "metadata": {},
   "outputs": [],
   "source": [
    "loss_fn = nn.CrossEntropyLoss()\n",
    "optimizer = torch.optim.Adam(model.parameters(), lr=0.001)"
   ]
  },
  {
   "cell_type": "code",
   "execution_count": 53,
   "metadata": {},
   "outputs": [],
   "source": [
    "epochs = 20"
   ]
  },
  {
   "cell_type": "code",
   "execution_count": 54,
   "metadata": {},
   "outputs": [
    {
     "name": "stdout",
     "output_type": "stream",
     "text": [
      "epoch:  0 loss：  0.058 accuracy: 0.627 test_loss：  0.057 test_accuracy: 0.625\n",
      "epoch:  1 loss：  0.053 accuracy: 0.638 test_loss：  0.05 test_accuracy: 0.659\n",
      "epoch:  2 loss：  0.045 accuracy: 0.689 test_loss：  0.044 test_accuracy: 0.681\n",
      "epoch:  3 loss：  0.037 accuracy: 0.752 test_loss：  0.041 test_accuracy: 0.706\n",
      "epoch:  4 loss：  0.03 accuracy: 0.813 test_loss：  0.039 test_accuracy: 0.763\n",
      "epoch:  5 loss：  0.024 accuracy: 0.855 test_loss：  0.038 test_accuracy: 0.757\n",
      "epoch:  6 loss：  0.019 accuracy: 0.892 test_loss：  0.043 test_accuracy: 0.755\n",
      "epoch:  7 loss：  0.015 accuracy: 0.917 test_loss：  0.045 test_accuracy: 0.755\n",
      "epoch:  8 loss：  0.012 accuracy: 0.939 test_loss：  0.048 test_accuracy: 0.752\n",
      "epoch:  9 loss：  0.009 accuracy: 0.958 test_loss：  0.055 test_accuracy: 0.756\n",
      "epoch:  10 loss：  0.007 accuracy: 0.969 test_loss：  0.062 test_accuracy: 0.747\n",
      "epoch:  11 loss：  0.005 accuracy: 0.978 test_loss：  0.062 test_accuracy: 0.746\n",
      "epoch:  12 loss：  0.004 accuracy: 0.983 test_loss：  0.075 test_accuracy: 0.749\n",
      "epoch:  13 loss：  0.003 accuracy: 0.985 test_loss：  0.074 test_accuracy: 0.739\n",
      "epoch:  14 loss：  0.003 accuracy: 0.988 test_loss：  0.087 test_accuracy: 0.745\n",
      "epoch:  15 loss：  0.002 accuracy: 0.989 test_loss：  0.091 test_accuracy: 0.747\n",
      "epoch:  16 loss：  0.002 accuracy: 0.993 test_loss：  0.096 test_accuracy: 0.734\n",
      "epoch:  17 loss：  0.001 accuracy: 0.993 test_loss：  0.097 test_accuracy: 0.747\n",
      "epoch:  18 loss：  0.001 accuracy: 0.994 test_loss：  0.103 test_accuracy: 0.745\n",
      "epoch:  19 loss：  0.001 accuracy: 0.996 test_loss：  0.115 test_accuracy: 0.739\n"
     ]
    }
   ],
   "source": [
    "train_loss = []\n",
    "train_acc = []\n",
    "test_loss = []\n",
    "test_acc = []\n",
    "\n",
    "for epoch in range(epochs):\n",
    "    epoch_loss, epoch_acc, epoch_test_loss, epoch_test_acc = fit(epoch,\n",
    "                                                                 model,\n",
    "                                                                 train_dl,\n",
    "                                                                 test_dl)\n",
    "    train_loss.append(epoch_loss)\n",
    "    train_acc.append(epoch_acc)\n",
    "    test_loss.append(epoch_test_loss)\n",
    "    test_acc.append(epoch_test_acc)"
   ]
  },
  {
   "cell_type": "code",
   "execution_count": 55,
   "metadata": {},
   "outputs": [
    {
     "data": {
      "text/plain": [
       "<matplotlib.legend.Legend at 0x1828c9bbdf0>"
      ]
     },
     "execution_count": 55,
     "metadata": {},
     "output_type": "execute_result"
    },
    {
     "data": {
      "image/png": "[encoded data removed]",
      "text/plain": [
       "<Figure size 640x480 with 1 Axes>"
      ]
     },
     "metadata": {},
     "output_type": "display_data"
    }
   ],
   "source": [
    "plt.plot(range(epochs), train_acc, c='r', label='train_acc')\n",
    "plt.plot(range(epochs), test_acc, c='b', label='test_loss')\n",
    "plt.legend()"
   ]
  },
  {
   "cell_type": "code",
   "execution_count": 56,
   "metadata": {},
   "outputs": [
    {
     "data": {
      "text/plain": [
       "<matplotlib.legend.Legend at 0x182f7030d30>"
      ]
     },
     "execution_count": 56,
     "metadata": {},
     "output_type": "execute_result"
    },
    {
     "data": {
      "image/png": "[encoded data removed]",
      "text/plain": [
       "<Figure size 640x480 with 1 Axes>"
      ]
     },
     "metadata": {},
     "output_type": "display_data"
    }
   ],
   "source": [
    "plt.plot(range(epochs), train_loss, c='r', label='train_loss')\n",
    "plt.plot(range(epochs), test_loss, c='b', label='test_loss')\n",
    "plt.legend()"
   ]
  }
 ],
 "metadata": {
  "kernelspec": {
   "display_name": "pytorch1.7.1",
   "language": "python",
   "name": "pytorch1.7.1"
  },
  "language_info": {
   "codemirror_mode": {
    "name": "ipython",
    "version": 3
   },
   "file_extension": ".py",
   "mimetype": "text/x-python",
   "name": "python",
   "nbconvert_exporter": "python",
   "pygments_lexer": "ipython3",
   "version": "3.8.18"
  }
 },
 "nbformat": 4,
 "nbformat_minor": 2
}
