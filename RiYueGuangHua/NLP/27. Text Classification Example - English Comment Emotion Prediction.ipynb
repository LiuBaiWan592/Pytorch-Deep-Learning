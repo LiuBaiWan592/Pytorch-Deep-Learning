{
 "cells": [
  {
   "cell_type": "code",
   "execution_count": 1,
   "metadata": {},
   "outputs": [],
   "source": [
    "import torch\n",
    "import torchtext\n",
    "import torch.nn as nn\n",
    "import torch.nn.functional as F\n",
    "from torchtext.vocab import GloVe\n",
    "import numpy as np\n",
    "import pandas as pd\n",
    "import matplotlib.pyplot as plt\n",
    "%matplotlib inline"
   ]
  },
  {
   "cell_type": "code",
   "execution_count": 2,
   "metadata": {},
   "outputs": [],
   "source": [
    "device = torch.device(\"cuda\" if torch.cuda.is_available() else \"cpu\")"
   ]
  },
  {
   "cell_type": "code",
   "execution_count": 3,
   "metadata": {},
   "outputs": [],
   "source": [
    "data = pd.read_csv('Tweets.csv')"
   ]
  },
  {
   "cell_type": "code",
   "execution_count": 4,
   "metadata": {},
   "outputs": [
    {
     "data": {
      "application/vnd.microsoft.datawrangler.viewer.v0+json": {
       "columns": [
        {
         "name": "index",
         "rawType": "int64",
         "type": "integer"
        },
        {
         "name": "tweet_id",
         "rawType": "int64",
         "type": "integer"
        },
        {
         "name": "airline_sentiment",
         "rawType": "object",
         "type": "string"
        },
        {
         "name": "airline_sentiment_confidence",
         "rawType": "float64",
         "type": "float"
        },
        {
         "name": "negativereason",
         "rawType": "object",
         "type": "string"
        },
        {
         "name": "negativereason_confidence",
         "rawType": "float64",
         "type": "float"
        },
        {
         "name": "airline",
         "rawType": "object",
         "type": "string"
        },
        {
         "name": "airline_sentiment_gold",
         "rawType": "object",
         "type": "string"
        },
        {
         "name": "name",
         "rawType": "object",
         "type": "string"
        },
        {
         "name": "negativereason_gold",
         "rawType": "object",
         "type": "string"
        },
        {
         "name": "retweet_count",
         "rawType": "int64",
         "type": "integer"
        },
        {
         "name": "text",
         "rawType": "object",
         "type": "string"
        },
        {
         "name": "tweet_coord",
         "rawType": "object",
         "type": "string"
        },
        {
         "name": "tweet_created",
         "rawType": "object",
         "type": "string"
        },
        {
         "name": "tweet_location",
         "rawType": "object",
         "type": "string"
        },
        {
         "name": "user_timezone",
         "rawType": "object",
         "type": "string"
        }
       ],
       "ref": "0f623c99-e8be-4ded-a51c-a390730d832e",
       "rows": [
        [
         "0",
         "570306133677760513",
         "neutral",
         "1.0",
         null,
         null,
         "Virgin America",
         null,
         "cairdin",
         null,
         "0",
         "@VirginAmerica What @dhepburn said.",
         null,
         "2015-02-24 11:35:52 -0800",
         null,
         "Eastern Time (US & Canada)"
        ],
        [
         "1",
         "570301130888122368",
         "positive",
         "0.3486",
         null,
         "0.0",
         "Virgin America",
         null,
         "jnardino",
         null,
         "0",
         "@VirginAmerica plus you've added commercials to the experience... tacky.",
         null,
         "2015-02-24 11:15:59 -0800",
         null,
         "Pacific Time (US & Canada)"
        ],
        [
         "2",
         "570301083672813571",
         "neutral",
         "0.6837",
         null,
         null,
         "Virgin America",
         null,
         "yvonnalynn",
         null,
         "0",
         "@VirginAmerica I didn't today... Must mean I need to take another trip!",
         null,
         "2015-02-24 11:15:48 -0800",
         "Lets Play",
         "Central Time (US & Canada)"
        ],
        [
         "3",
         "570301031407624196",
         "negative",
         "1.0",
         "Bad Flight",
         "0.7033",
         "Virgin America",
         null,
         "jnardino",
         null,
         "0",
         "@VirginAmerica it's really aggressive to blast obnoxious \"entertainment\" in your guests' faces &amp; they have little recourse",
         null,
         "2015-02-24 11:15:36 -0800",
         null,
         "Pacific Time (US & Canada)"
        ],
        [
         "4",
         "570300817074462722",
         "negative",
         "1.0",
         "Can't Tell",
         "1.0",
         "Virgin America",
         null,
         "jnardino",
         null,
         "0",
         "@VirginAmerica and it's a really big bad thing about it",
         null,
         "2015-02-24 11:14:45 -0800",
         null,
         "Pacific Time (US & Canada)"
        ]
       ],
       "shape": {
        "columns": 15,
        "rows": 5
       }
      },
      "text/html": [
       "<div>\n",
       "<style scoped>\n",
       "    .dataframe tbody tr th:only-of-type {\n",
       "        vertical-align: middle;\n",
       "    }\n",
       "\n",
       "    .dataframe tbody tr th {\n",
       "        vertical-align: top;\n",
       "    }\n",
       "\n",
       "    .dataframe thead th {\n",
       "        text-align: right;\n",
       "    }\n",
       "</style>\n",
       "<table border=\"1\" class=\"dataframe\">\n",
       "  <thead>\n",
       "    <tr style=\"text-align: right;\">\n",
       "      <th></th>\n",
       "      <th>tweet_id</th>\n",
       "      <th>airline_sentiment</th>\n",
       "      <th>airline_sentiment_confidence</th>\n",
       "      <th>negativereason</th>\n",
       "      <th>negativereason_confidence</th>\n",
       "      <th>airline</th>\n",
       "      <th>airline_sentiment_gold</th>\n",
       "      <th>name</th>\n",
       "      <th>negativereason_gold</th>\n",
       "      <th>retweet_count</th>\n",
       "      <th>text</th>\n",
       "      <th>tweet_coord</th>\n",
       "      <th>tweet_created</th>\n",
       "      <th>tweet_location</th>\n",
       "      <th>user_timezone</th>\n",
       "    </tr>\n",
       "  </thead>\n",
       "  <tbody>\n",
       "    <tr>\n",
       "      <th>0</th>\n",
       "      <td>570306133677760513</td>\n",
       "      <td>neutral</td>\n",
       "      <td>1.0000</td>\n",
       "      <td>NaN</td>\n",
       "      <td>NaN</td>\n",
       "      <td>Virgin America</td>\n",
       "      <td>NaN</td>\n",
       "      <td>cairdin</td>\n",
       "      <td>NaN</td>\n",
       "      <td>0</td>\n",
       "      <td>@VirginAmerica What @dhepburn said.</td>\n",
       "      <td>NaN</td>\n",
       "      <td>2015-02-24 11:35:52 -0800</td>\n",
       "      <td>NaN</td>\n",
       "      <td>Eastern Time (US &amp; Canada)</td>\n",
       "    </tr>\n",
       "    <tr>\n",
       "      <th>1</th>\n",
       "      <td>570301130888122368</td>\n",
       "      <td>positive</td>\n",
       "      <td>0.3486</td>\n",
       "      <td>NaN</td>\n",
       "      <td>0.0000</td>\n",
       "      <td>Virgin America</td>\n",
       "      <td>NaN</td>\n",
       "      <td>jnardino</td>\n",
       "      <td>NaN</td>\n",
       "      <td>0</td>\n",
       "      <td>@VirginAmerica plus you've added commercials t...</td>\n",
       "      <td>NaN</td>\n",
       "      <td>2015-02-24 11:15:59 -0800</td>\n",
       "      <td>NaN</td>\n",
       "      <td>Pacific Time (US &amp; Canada)</td>\n",
       "    </tr>\n",
       "    <tr>\n",
       "      <th>2</th>\n",
       "      <td>570301083672813571</td>\n",
       "      <td>neutral</td>\n",
       "      <td>0.6837</td>\n",
       "      <td>NaN</td>\n",
       "      <td>NaN</td>\n",
       "      <td>Virgin America</td>\n",
       "      <td>NaN</td>\n",
       "      <td>yvonnalynn</td>\n",
       "      <td>NaN</td>\n",
       "      <td>0</td>\n",
       "      <td>@VirginAmerica I didn't today... Must mean I n...</td>\n",
       "      <td>NaN</td>\n",
       "      <td>2015-02-24 11:15:48 -0800</td>\n",
       "      <td>Lets Play</td>\n",
       "      <td>Central Time (US &amp; Canada)</td>\n",
       "    </tr>\n",
       "    <tr>\n",
       "      <th>3</th>\n",
       "      <td>570301031407624196</td>\n",
       "      <td>negative</td>\n",
       "      <td>1.0000</td>\n",
       "      <td>Bad Flight</td>\n",
       "      <td>0.7033</td>\n",
       "      <td>Virgin America</td>\n",
       "      <td>NaN</td>\n",
       "      <td>jnardino</td>\n",
       "      <td>NaN</td>\n",
       "      <td>0</td>\n",
       "      <td>@VirginAmerica it's really aggressive to blast...</td>\n",
       "      <td>NaN</td>\n",
       "      <td>2015-02-24 11:15:36 -0800</td>\n",
       "      <td>NaN</td>\n",
       "      <td>Pacific Time (US &amp; Canada)</td>\n",
       "    </tr>\n",
       "    <tr>\n",
       "      <th>4</th>\n",
       "      <td>570300817074462722</td>\n",
       "      <td>negative</td>\n",
       "      <td>1.0000</td>\n",
       "      <td>Can't Tell</td>\n",
       "      <td>1.0000</td>\n",
       "      <td>Virgin America</td>\n",
       "      <td>NaN</td>\n",
       "      <td>jnardino</td>\n",
       "      <td>NaN</td>\n",
       "      <td>0</td>\n",
       "      <td>@VirginAmerica and it's a really big bad thing...</td>\n",
       "      <td>NaN</td>\n",
       "      <td>2015-02-24 11:14:45 -0800</td>\n",
       "      <td>NaN</td>\n",
       "      <td>Pacific Time (US &amp; Canada)</td>\n",
       "    </tr>\n",
       "  </tbody>\n",
       "</table>\n",
       "</div>"
      ],
      "text/plain": [
       "             tweet_id airline_sentiment  airline_sentiment_confidence  \\\n",
       "0  570306133677760513           neutral                        1.0000   \n",
       "1  570301130888122368          positive                        0.3486   \n",
       "2  570301083672813571           neutral                        0.6837   \n",
       "3  570301031407624196          negative                        1.0000   \n",
       "4  570300817074462722          negative                        1.0000   \n",
       "\n",
       "  negativereason  negativereason_confidence         airline  \\\n",
       "0            NaN                        NaN  Virgin America   \n",
       "1            NaN                     0.0000  Virgin America   \n",
       "2            NaN                        NaN  Virgin America   \n",
       "3     Bad Flight                     0.7033  Virgin America   \n",
       "4     Can't Tell                     1.0000  Virgin America   \n",
       "\n",
       "  airline_sentiment_gold        name negativereason_gold  retweet_count  \\\n",
       "0                    NaN     cairdin                 NaN              0   \n",
       "1                    NaN    jnardino                 NaN              0   \n",
       "2                    NaN  yvonnalynn                 NaN              0   \n",
       "3                    NaN    jnardino                 NaN              0   \n",
       "4                    NaN    jnardino                 NaN              0   \n",
       "\n",
       "                                                text tweet_coord  \\\n",
       "0                @VirginAmerica What @dhepburn said.         NaN   \n",
       "1  @VirginAmerica plus you've added commercials t...         NaN   \n",
       "2  @VirginAmerica I didn't today... Must mean I n...         NaN   \n",
       "3  @VirginAmerica it's really aggressive to blast...         NaN   \n",
       "4  @VirginAmerica and it's a really big bad thing...         NaN   \n",
       "\n",
       "               tweet_created tweet_location               user_timezone  \n",
       "0  2015-02-24 11:35:52 -0800            NaN  Eastern Time (US & Canada)  \n",
       "1  2015-02-24 11:15:59 -0800            NaN  Pacific Time (US & Canada)  \n",
       "2  2015-02-24 11:15:48 -0800      Lets Play  Central Time (US & Canada)  \n",
       "3  2015-02-24 11:15:36 -0800            NaN  Pacific Time (US & Canada)  \n",
       "4  2015-02-24 11:14:45 -0800            NaN  Pacific Time (US & Canada)  "
      ]
     },
     "execution_count": 4,
     "metadata": {},
     "output_type": "execute_result"
    }
   ],
   "source": [
    "data.head()"
   ]
  },
  {
   "cell_type": "code",
   "execution_count": 5,
   "metadata": {},
   "outputs": [],
   "source": [
    "data = data[['airline_sentiment', 'text']]"
   ]
  },
  {
   "cell_type": "code",
   "execution_count": 6,
   "metadata": {},
   "outputs": [
    {
     "data": {
      "text/plain": [
       "array(['neutral', 'positive', 'negative'], dtype=object)"
      ]
     },
     "execution_count": 6,
     "metadata": {},
     "output_type": "execute_result"
    }
   ],
   "source": [
    "data.airline_sentiment.unique()"
   ]
  },
  {
   "cell_type": "code",
   "execution_count": 7,
   "metadata": {},
   "outputs": [
    {
     "data": {
      "application/vnd.microsoft.datawrangler.viewer.v0+json": {
       "columns": [
        {
         "name": "index",
         "rawType": "object",
         "type": "string"
        },
        {
         "name": "airline_sentiment",
         "rawType": "int64",
         "type": "integer"
        }
       ],
       "ref": "dbc1207d-cb4a-4180-87e7-670f65596c9a",
       "rows": [
        [
         "negative",
         "9178"
        ],
        [
         "neutral",
         "3099"
        ],
        [
         "positive",
         "2363"
        ]
       ],
       "shape": {
        "columns": 1,
        "rows": 3
       }
      },
      "text/plain": [
       "negative    9178\n",
       "neutral     3099\n",
       "positive    2363\n",
       "Name: airline_sentiment, dtype: int64"
      ]
     },
     "execution_count": 7,
     "metadata": {},
     "output_type": "execute_result"
    }
   ],
   "source": [
    "data.airline_sentiment.value_counts()"
   ]
  },
  {
   "cell_type": "code",
   "execution_count": 8,
   "metadata": {},
   "outputs": [
    {
     "data": {
      "application/vnd.microsoft.datawrangler.viewer.v0+json": {
       "columns": [
        {
         "name": "index",
         "rawType": "int64",
         "type": "integer"
        },
        {
         "name": "airline_sentiment",
         "rawType": "object",
         "type": "string"
        },
        {
         "name": "text",
         "rawType": "object",
         "type": "string"
        }
       ],
       "ref": "0bcbe0b1-4cae-4474-8392-289ca65bf8be",
       "rows": [
        [
         "0",
         "neutral",
         "@VirginAmerica What @dhepburn said."
        ],
        [
         "1",
         "positive",
         "@VirginAmerica plus you've added commercials to the experience... tacky."
        ],
        [
         "2",
         "neutral",
         "@VirginAmerica I didn't today... Must mean I need to take another trip!"
        ],
        [
         "3",
         "negative",
         "@VirginAmerica it's really aggressive to blast obnoxious \"entertainment\" in your guests' faces &amp; they have little recourse"
        ],
        [
         "4",
         "negative",
         "@VirginAmerica and it's a really big bad thing about it"
        ]
       ],
       "shape": {
        "columns": 2,
        "rows": 5
       }
      },
      "text/html": [
       "<div>\n",
       "<style scoped>\n",
       "    .dataframe tbody tr th:only-of-type {\n",
       "        vertical-align: middle;\n",
       "    }\n",
       "\n",
       "    .dataframe tbody tr th {\n",
       "        vertical-align: top;\n",
       "    }\n",
       "\n",
       "    .dataframe thead th {\n",
       "        text-align: right;\n",
       "    }\n",
       "</style>\n",
       "<table border=\"1\" class=\"dataframe\">\n",
       "  <thead>\n",
       "    <tr style=\"text-align: right;\">\n",
       "      <th></th>\n",
       "      <th>airline_sentiment</th>\n",
       "      <th>text</th>\n",
       "    </tr>\n",
       "  </thead>\n",
       "  <tbody>\n",
       "    <tr>\n",
       "      <th>0</th>\n",
       "      <td>neutral</td>\n",
       "      <td>@VirginAmerica What @dhepburn said.</td>\n",
       "    </tr>\n",
       "    <tr>\n",
       "      <th>1</th>\n",
       "      <td>positive</td>\n",
       "      <td>@VirginAmerica plus you've added commercials t...</td>\n",
       "    </tr>\n",
       "    <tr>\n",
       "      <th>2</th>\n",
       "      <td>neutral</td>\n",
       "      <td>@VirginAmerica I didn't today... Must mean I n...</td>\n",
       "    </tr>\n",
       "    <tr>\n",
       "      <th>3</th>\n",
       "      <td>negative</td>\n",
       "      <td>@VirginAmerica it's really aggressive to blast...</td>\n",
       "    </tr>\n",
       "    <tr>\n",
       "      <th>4</th>\n",
       "      <td>negative</td>\n",
       "      <td>@VirginAmerica and it's a really big bad thing...</td>\n",
       "    </tr>\n",
       "  </tbody>\n",
       "</table>\n",
       "</div>"
      ],
      "text/plain": [
       "  airline_sentiment                                               text\n",
       "0           neutral                @VirginAmerica What @dhepburn said.\n",
       "1          positive  @VirginAmerica plus you've added commercials t...\n",
       "2           neutral  @VirginAmerica I didn't today... Must mean I n...\n",
       "3          negative  @VirginAmerica it's really aggressive to blast...\n",
       "4          negative  @VirginAmerica and it's a really big bad thing..."
      ]
     },
     "execution_count": 8,
     "metadata": {},
     "output_type": "execute_result"
    }
   ],
   "source": [
    "data.head()"
   ]
  },
  {
   "cell_type": "code",
   "execution_count": 9,
   "metadata": {},
   "outputs": [],
   "source": [
    "data['review'] = pd.factorize(data.airline_sentiment)[0]"
   ]
  },
  {
   "cell_type": "code",
   "execution_count": 10,
   "metadata": {},
   "outputs": [],
   "source": [
    "del data['airline_sentiment']"
   ]
  },
  {
   "cell_type": "code",
   "execution_count": 11,
   "metadata": {},
   "outputs": [
    {
     "data": {
      "application/vnd.microsoft.datawrangler.viewer.v0+json": {
       "columns": [
        {
         "name": "index",
         "rawType": "int64",
         "type": "integer"
        },
        {
         "name": "text",
         "rawType": "object",
         "type": "string"
        },
        {
         "name": "review",
         "rawType": "int64",
         "type": "integer"
        }
       ],
       "ref": "4d959b03-6dab-493f-9dc2-935ab98b653c",
       "rows": [
        [
         "0",
         "@VirginAmerica What @dhepburn said.",
         "0"
        ],
        [
         "1",
         "@VirginAmerica plus you've added commercials to the experience... tacky.",
         "1"
        ],
        [
         "2",
         "@VirginAmerica I didn't today... Must mean I need to take another trip!",
         "0"
        ],
        [
         "3",
         "@VirginAmerica it's really aggressive to blast obnoxious \"entertainment\" in your guests' faces &amp; they have little recourse",
         "2"
        ],
        [
         "4",
         "@VirginAmerica and it's a really big bad thing about it",
         "2"
        ]
       ],
       "shape": {
        "columns": 2,
        "rows": 5
       }
      },
      "text/html": [
       "<div>\n",
       "<style scoped>\n",
       "    .dataframe tbody tr th:only-of-type {\n",
       "        vertical-align: middle;\n",
       "    }\n",
       "\n",
       "    .dataframe tbody tr th {\n",
       "        vertical-align: top;\n",
       "    }\n",
       "\n",
       "    .dataframe thead th {\n",
       "        text-align: right;\n",
       "    }\n",
       "</style>\n",
       "<table border=\"1\" class=\"dataframe\">\n",
       "  <thead>\n",
       "    <tr style=\"text-align: right;\">\n",
       "      <th></th>\n",
       "      <th>text</th>\n",
       "      <th>review</th>\n",
       "    </tr>\n",
       "  </thead>\n",
       "  <tbody>\n",
       "    <tr>\n",
       "      <th>0</th>\n",
       "      <td>@VirginAmerica What @dhepburn said.</td>\n",
       "      <td>0</td>\n",
       "    </tr>\n",
       "    <tr>\n",
       "      <th>1</th>\n",
       "      <td>@VirginAmerica plus you've added commercials t...</td>\n",
       "      <td>1</td>\n",
       "    </tr>\n",
       "    <tr>\n",
       "      <th>2</th>\n",
       "      <td>@VirginAmerica I didn't today... Must mean I n...</td>\n",
       "      <td>0</td>\n",
       "    </tr>\n",
       "    <tr>\n",
       "      <th>3</th>\n",
       "      <td>@VirginAmerica it's really aggressive to blast...</td>\n",
       "      <td>2</td>\n",
       "    </tr>\n",
       "    <tr>\n",
       "      <th>4</th>\n",
       "      <td>@VirginAmerica and it's a really big bad thing...</td>\n",
       "      <td>2</td>\n",
       "    </tr>\n",
       "  </tbody>\n",
       "</table>\n",
       "</div>"
      ],
      "text/plain": [
       "                                                text  review\n",
       "0                @VirginAmerica What @dhepburn said.       0\n",
       "1  @VirginAmerica plus you've added commercials t...       1\n",
       "2  @VirginAmerica I didn't today... Must mean I n...       0\n",
       "3  @VirginAmerica it's really aggressive to blast...       2\n",
       "4  @VirginAmerica and it's a really big bad thing...       2"
      ]
     },
     "execution_count": 11,
     "metadata": {},
     "output_type": "execute_result"
    }
   ],
   "source": [
    "data.head()"
   ]
  },
  {
   "cell_type": "code",
   "execution_count": 12,
   "metadata": {},
   "outputs": [],
   "source": [
    "import re"
   ]
  },
  {
   "cell_type": "code",
   "execution_count": 13,
   "metadata": {},
   "outputs": [],
   "source": [
    "token = re.compile('[A-Za-z]+|[!?,.()]')"
   ]
  },
  {
   "cell_type": "code",
   "execution_count": 14,
   "metadata": {},
   "outputs": [],
   "source": [
    "def reg_text(text):\n",
    "    new_text = token.findall(text)\n",
    "    new_text = [word.lower() for word in new_text]\n",
    "    return new_text"
   ]
  },
  {
   "cell_type": "code",
   "execution_count": 15,
   "metadata": {},
   "outputs": [],
   "source": [
    "data['text'] = data.text.apply(reg_text)"
   ]
  },
  {
   "cell_type": "code",
   "execution_count": 16,
   "metadata": {},
   "outputs": [
    {
     "data": {
      "application/vnd.microsoft.datawrangler.viewer.v0+json": {
       "columns": [
        {
         "name": "index",
         "rawType": "int64",
         "type": "integer"
        },
        {
         "name": "text",
         "rawType": "object",
         "type": "string"
        },
        {
         "name": "review",
         "rawType": "int64",
         "type": "integer"
        }
       ],
       "ref": "24de21b8-c5a1-421c-8aef-7becf48321c3",
       "rows": [
        [
         "0",
         "['virginamerica', 'what', 'dhepburn', 'said', '.']",
         "0"
        ],
        [
         "1",
         "['virginamerica', 'plus', 'you', 've', 'added', 'commercials', 'to', 'the', 'experience', '.', '.', '.', 'tacky', '.']",
         "1"
        ],
        [
         "2",
         "['virginamerica', 'i', 'didn', 't', 'today', '.', '.', '.', 'must', 'mean', 'i', 'need', 'to', 'take', 'another', 'trip', '!']",
         "0"
        ],
        [
         "3",
         "['virginamerica', 'it', 's', 'really', 'aggressive', 'to', 'blast', 'obnoxious', 'entertainment', 'in', 'your', 'guests', 'faces', 'amp', 'they', 'have', 'little', 'recourse']",
         "2"
        ],
        [
         "4",
         "['virginamerica', 'and', 'it', 's', 'a', 'really', 'big', 'bad', 'thing', 'about', 'it']",
         "2"
        ]
       ],
       "shape": {
        "columns": 2,
        "rows": 5
       }
      },
      "text/html": [
       "<div>\n",
       "<style scoped>\n",
       "    .dataframe tbody tr th:only-of-type {\n",
       "        vertical-align: middle;\n",
       "    }\n",
       "\n",
       "    .dataframe tbody tr th {\n",
       "        vertical-align: top;\n",
       "    }\n",
       "\n",
       "    .dataframe thead th {\n",
       "        text-align: right;\n",
       "    }\n",
       "</style>\n",
       "<table border=\"1\" class=\"dataframe\">\n",
       "  <thead>\n",
       "    <tr style=\"text-align: right;\">\n",
       "      <th></th>\n",
       "      <th>text</th>\n",
       "      <th>review</th>\n",
       "    </tr>\n",
       "  </thead>\n",
       "  <tbody>\n",
       "    <tr>\n",
       "      <th>0</th>\n",
       "      <td>[virginamerica, what, dhepburn, said, .]</td>\n",
       "      <td>0</td>\n",
       "    </tr>\n",
       "    <tr>\n",
       "      <th>1</th>\n",
       "      <td>[virginamerica, plus, you, ve, added, commerci...</td>\n",
       "      <td>1</td>\n",
       "    </tr>\n",
       "    <tr>\n",
       "      <th>2</th>\n",
       "      <td>[virginamerica, i, didn, t, today, ., ., ., mu...</td>\n",
       "      <td>0</td>\n",
       "    </tr>\n",
       "    <tr>\n",
       "      <th>3</th>\n",
       "      <td>[virginamerica, it, s, really, aggressive, to,...</td>\n",
       "      <td>2</td>\n",
       "    </tr>\n",
       "    <tr>\n",
       "      <th>4</th>\n",
       "      <td>[virginamerica, and, it, s, a, really, big, ba...</td>\n",
       "      <td>2</td>\n",
       "    </tr>\n",
       "  </tbody>\n",
       "</table>\n",
       "</div>"
      ],
      "text/plain": [
       "                                                text  review\n",
       "0           [virginamerica, what, dhepburn, said, .]       0\n",
       "1  [virginamerica, plus, you, ve, added, commerci...       1\n",
       "2  [virginamerica, i, didn, t, today, ., ., ., mu...       0\n",
       "3  [virginamerica, it, s, really, aggressive, to,...       2\n",
       "4  [virginamerica, and, it, s, a, really, big, ba...       2"
      ]
     },
     "execution_count": 16,
     "metadata": {},
     "output_type": "execute_result"
    }
   ],
   "source": [
    "data.head()"
   ]
  },
  {
   "cell_type": "code",
   "execution_count": 17,
   "metadata": {},
   "outputs": [],
   "source": [
    "word_set = set()\n",
    "for text in data.text:\n",
    "    for word in text:\n",
    "        word_set.add(word) "
   ]
  },
  {
   "cell_type": "code",
   "execution_count": 18,
   "metadata": {},
   "outputs": [
    {
     "data": {
      "text/plain": [
       "13668"
      ]
     },
     "execution_count": 18,
     "metadata": {},
     "output_type": "execute_result"
    }
   ],
   "source": [
    "max_word = len(word_set) + 1\n",
    "max_word"
   ]
  },
  {
   "cell_type": "code",
   "execution_count": 19,
   "metadata": {},
   "outputs": [],
   "source": [
    "word_list = list(word_set)"
   ]
  },
  {
   "cell_type": "code",
   "execution_count": 20,
   "metadata": {},
   "outputs": [
    {
     "data": {
      "text/plain": [
       "8572"
      ]
     },
     "execution_count": 20,
     "metadata": {},
     "output_type": "execute_result"
    }
   ],
   "source": [
    "word_list.index('spending')"
   ]
  },
  {
   "cell_type": "code",
   "execution_count": 21,
   "metadata": {},
   "outputs": [],
   "source": [
    "word_index =  dict((word, word_list.index(word) + 1) for word in word_list)"
   ]
  },
  {
   "cell_type": "code",
   "execution_count": 22,
   "metadata": {},
   "outputs": [
    {
     "data": {
      "text/plain": [
       "{'retaining': 1,\n",
       " 'disrupted': 2,\n",
       " 'brittany': 3,\n",
       " 'stuck': 4,\n",
       " 'fourth': 5,\n",
       " 'voxcghciji': 6,\n",
       " 'jacksonville': 7,\n",
       " 'explorer': 8,\n",
       " 'dealings': 9,\n",
       " 'luckily': 10,\n",
       " 'xijyrpslzk': 11,\n",
       " 'dumps': 12,\n",
       " 'horrific': 13,\n",
       " 'mailbox': 14,\n",
       " 'milan': 15,\n",
       " 'utevgw': 16,\n",
       " 'attentiveness': 17,\n",
       " 'ivgpzsjtkw': 18,\n",
       " 'semester': 19,\n",
       " 'jchb': 20,\n",
       " 'yxe': 21,\n",
       " 'cco': 22,\n",
       " 'accompany': 23,\n",
       " 'hover': 24,\n",
       " 'pancho': 25,\n",
       " 'disconnections': 26,\n",
       " 'charging': 27,\n",
       " 'rockinwellness': 28,\n",
       " 'cheertymedad': 29,\n",
       " 'poorly': 30,\n",
       " 'themagicalstranger': 31,\n",
       " 'chairmanlove': 32,\n",
       " 'competition': 33,\n",
       " 'man': 34,\n",
       " 'sr': 35,\n",
       " 'meanwhile': 36,\n",
       " 'upaz': 37,\n",
       " 'ucveu': 38,\n",
       " 'solid': 39,\n",
       " 'knowledge': 40,\n",
       " 'bailed': 41,\n",
       " 'blankets': 42,\n",
       " 'cond': 43,\n",
       " 'claudoakeshott': 44,\n",
       " 'cell': 45,\n",
       " 'lfs': 46,\n",
       " 'bvexmcj': 47,\n",
       " 'cudtomers': 48,\n",
       " 'alreadyrebookedonce': 49,\n",
       " 'airbusintheus': 50,\n",
       " 'bijlxat': 51,\n",
       " 'nothings': 52,\n",
       " 'unnoticed': 53,\n",
       " 'hs': 54,\n",
       " 'security': 55,\n",
       " 'greensboro': 56,\n",
       " 'mdt': 57,\n",
       " 'adam': 58,\n",
       " 'jeanette': 59,\n",
       " 'returns': 60,\n",
       " 'fulmh': 61,\n",
       " 'incomprehensible': 62,\n",
       " 'often': 63,\n",
       " 'booo': 64,\n",
       " 'jvoys': 65,\n",
       " 'ystday': 66,\n",
       " 'flysaa': 67,\n",
       " 'aha': 68,\n",
       " 'angryairtravel': 69,\n",
       " 'gladys': 70,\n",
       " 'because': 71,\n",
       " 'ftlzwtvo': 72,\n",
       " 'recourse': 73,\n",
       " 'wth': 74,\n",
       " 'bearable': 75,\n",
       " 'vwq': 76,\n",
       " 'packermama': 77,\n",
       " 'qnllcm': 78,\n",
       " 'invited': 79,\n",
       " 'wmn': 80,\n",
       " 'develop': 81,\n",
       " 'specified': 82,\n",
       " 'xgpaayfdwt': 83,\n",
       " 'firststari': 84,\n",
       " 'boo': 85,\n",
       " 'chd': 86,\n",
       " 'ip': 87,\n",
       " 'stt': 88,\n",
       " 'goodenoughmother': 89,\n",
       " 'enters': 90,\n",
       " 'jzq': 91,\n",
       " 'use': 92,\n",
       " 'upgrading': 93,\n",
       " 'dissatisfaction': 94,\n",
       " 'undermines': 95,\n",
       " 'shadier': 96,\n",
       " 'unxtqp': 97,\n",
       " 'reviewing': 98,\n",
       " 'trick': 99,\n",
       " 'replacement': 100,\n",
       " 'dplq': 101,\n",
       " 'octp': 102,\n",
       " 'carryonbagssloweverybodydown': 103,\n",
       " 'faults': 104,\n",
       " 'irresponsible': 105,\n",
       " 'reserve': 106,\n",
       " 'acebo': 107,\n",
       " 'last': 108,\n",
       " 'arab': 109,\n",
       " 'ish': 110,\n",
       " 'keepmy': 111,\n",
       " 'improvetheprocess': 112,\n",
       " 'multiple': 113,\n",
       " 'reopened': 114,\n",
       " 'hrqq': 115,\n",
       " 'address': 116,\n",
       " 'delightful': 117,\n",
       " 'cash': 118,\n",
       " 'wrestle': 119,\n",
       " 'anotherdisappointment': 120,\n",
       " 'accomplish': 121,\n",
       " 'americanairlnes': 122,\n",
       " 'distribution': 123,\n",
       " 'blatant': 124,\n",
       " 'bogota': 125,\n",
       " 'caller': 126,\n",
       " 'bagsflyfreebutnotwithme': 127,\n",
       " 'buj': 128,\n",
       " 'voted': 129,\n",
       " 'onfleek': 130,\n",
       " 'effortless': 131,\n",
       " 'outofbusiness': 132,\n",
       " 'assed': 133,\n",
       " 'txt': 134,\n",
       " 'attained': 135,\n",
       " 'aisle': 136,\n",
       " 'eta': 137,\n",
       " 'dragon': 138,\n",
       " 'frozentoilet': 139,\n",
       " 'followback': 140,\n",
       " 'gabriela': 141,\n",
       " 'ringling': 142,\n",
       " 'bussines': 143,\n",
       " 'outfit': 144,\n",
       " 'roo': 145,\n",
       " 'laguardiaair': 146,\n",
       " 'wervirgin': 147,\n",
       " 'nvm': 148,\n",
       " 'guessing': 149,\n",
       " 'opportunity': 150,\n",
       " 'airsouthwest': 151,\n",
       " 'eyeglasses': 152,\n",
       " 'grabbed': 153,\n",
       " 'horror': 154,\n",
       " 'brands': 155,\n",
       " 'sox': 156,\n",
       " 'repartee': 157,\n",
       " 'civilized': 158,\n",
       " 'warning': 159,\n",
       " 'becuz': 160,\n",
       " 'nasdaq': 161,\n",
       " 'tweeted': 162,\n",
       " 'lm': 163,\n",
       " 'daughters': 164,\n",
       " 'bread': 165,\n",
       " 'nabisco': 166,\n",
       " 'hey': 167,\n",
       " 'lose': 168,\n",
       " 'hnl': 169,\n",
       " 'overhead': 170,\n",
       " 'locally': 171,\n",
       " 'ssuvwwkyhh': 172,\n",
       " 'hn': 173,\n",
       " 'bq': 174,\n",
       " 'hardtodo': 175,\n",
       " 'poisoning': 176,\n",
       " 'dd': 177,\n",
       " 'xisbs': 178,\n",
       " 'yvr': 179,\n",
       " 'smoking': 180,\n",
       " 'sub': 181,\n",
       " 'gjqx': 182,\n",
       " 'holdup': 183,\n",
       " 'mclarren': 184,\n",
       " 'mfvwsa': 185,\n",
       " 'solution': 186,\n",
       " 'vice': 187,\n",
       " 'exicted': 188,\n",
       " 'brandi': 189,\n",
       " 'esuu': 190,\n",
       " 'rely': 191,\n",
       " 'lio': 192,\n",
       " 'winning': 193,\n",
       " 'upocmmulun': 194,\n",
       " 'quoting': 195,\n",
       " 'rental': 196,\n",
       " 'midnite': 197,\n",
       " 'jpd': 198,\n",
       " 'tf': 199,\n",
       " 'ua': 200,\n",
       " 'december': 201,\n",
       " 'mbltalr': 202,\n",
       " 'meggersrocks': 203,\n",
       " 'ihop': 204,\n",
       " 'decorum': 205,\n",
       " 'defective': 206,\n",
       " 'smoooothest': 207,\n",
       " 'jack': 208,\n",
       " 'blackhistorymonth': 209,\n",
       " 'julian': 210,\n",
       " 'ipgeicsm': 211,\n",
       " 'meelan': 212,\n",
       " 'gether': 213,\n",
       " 'puvs': 214,\n",
       " 'xiqb': 215,\n",
       " 'edgy': 216,\n",
       " 'luggagegate': 217,\n",
       " 'aoeaeszdlx': 218,\n",
       " 'mosaic': 219,\n",
       " 'whiskey': 220,\n",
       " 'routing': 221,\n",
       " 'figured': 222,\n",
       " 'disappointments': 223,\n",
       " 'eltboljul': 224,\n",
       " 'touching': 225,\n",
       " 'affordable': 226,\n",
       " 'iah': 227,\n",
       " 'hahahahaha': 228,\n",
       " 'fnz': 229,\n",
       " 'frustration': 230,\n",
       " 'monsoon': 231,\n",
       " 'btwn': 232,\n",
       " 'disclose': 233,\n",
       " 'rtn': 234,\n",
       " 'sending': 235,\n",
       " 'devs': 236,\n",
       " 'scm': 237,\n",
       " 'yiwlhqhzgp': 238,\n",
       " 'dz': 239,\n",
       " 'innovation': 240,\n",
       " 'studying': 241,\n",
       " 'safari': 242,\n",
       " 'jj': 243,\n",
       " 'bestdressed': 244,\n",
       " 'according': 245,\n",
       " 'charges': 246,\n",
       " 'chronological': 247,\n",
       " 'cpus': 248,\n",
       " 'takemehome': 249,\n",
       " 'abcnews': 250,\n",
       " 'rough': 251,\n",
       " 'airfares': 252,\n",
       " 'freezing': 253,\n",
       " 'kc': 254,\n",
       " 'brendan': 255,\n",
       " 'dismissed': 256,\n",
       " 'ktqfo': 257,\n",
       " 'firefox': 258,\n",
       " 'dfw': 259,\n",
       " 'iusedtoloveu': 260,\n",
       " 'drvrugby': 261,\n",
       " 'seeking': 262,\n",
       " 'perform': 263,\n",
       " 'spelling': 264,\n",
       " 'checkin': 265,\n",
       " 'booze': 266,\n",
       " 'jln': 267,\n",
       " 'hero': 268,\n",
       " 'winters': 269,\n",
       " 'bbm': 270,\n",
       " 'travelling': 271,\n",
       " 'relationship': 272,\n",
       " 'jets': 273,\n",
       " 'getmehome': 274,\n",
       " 'stuckonaplane': 275,\n",
       " 'mex': 276,\n",
       " 'nicely': 277,\n",
       " 'steve': 278,\n",
       " 'omg': 279,\n",
       " 'et': 280,\n",
       " 'hyrao': 281,\n",
       " 'ngxal': 282,\n",
       " 'las': 283,\n",
       " 'vi': 284,\n",
       " 'yln': 285,\n",
       " 'xwjol': 286,\n",
       " 'british': 287,\n",
       " 'consultant': 288,\n",
       " 'lap': 289,\n",
       " 'unitedfails': 290,\n",
       " 'whatcustomerservice': 291,\n",
       " 'went': 292,\n",
       " 'existent': 293,\n",
       " 'hates': 294,\n",
       " 'equality': 295,\n",
       " 'yest': 296,\n",
       " 'colonist': 297,\n",
       " 'wishing': 298,\n",
       " 'praying': 299,\n",
       " 'gripeo': 300,\n",
       " 'mastercard': 301,\n",
       " 'snowwillnevermelt': 302,\n",
       " 'curt': 303,\n",
       " 'finder': 304,\n",
       " 'kgonzales': 305,\n",
       " 'gluten': 306,\n",
       " 'brandloveaffair': 307,\n",
       " 'inconvience': 308,\n",
       " 'groan': 309,\n",
       " 'patienceiswearingthin': 310,\n",
       " 'aneqxzr': 311,\n",
       " 'w': 312,\n",
       " 'manana': 313,\n",
       " 'chgd': 314,\n",
       " 'heller': 315,\n",
       " 'finally': 316,\n",
       " 'flown': 317,\n",
       " 'unload': 318,\n",
       " 'many': 319,\n",
       " 'onboard': 320,\n",
       " 'lostrevenue': 321,\n",
       " 'ord': 322,\n",
       " 'shouldn': 323,\n",
       " 'shameful': 324,\n",
       " 'qlk': 325,\n",
       " 'whispering': 326,\n",
       " 'leastthebeverageswillbecold': 327,\n",
       " 'imdetermined': 328,\n",
       " 'mandatory': 329,\n",
       " 'york': 330,\n",
       " 'elaborate': 331,\n",
       " 'crabby': 332,\n",
       " 'dating': 333,\n",
       " 'year': 334,\n",
       " 'targeting': 335,\n",
       " 'upgrade': 336,\n",
       " 'xoxo': 337,\n",
       " 'blind': 338,\n",
       " 'income': 339,\n",
       " 'jjt': 340,\n",
       " 'scroll': 341,\n",
       " 'caused': 342,\n",
       " 'lasttweetaboutthis': 343,\n",
       " 'buf': 344,\n",
       " 'incubator': 345,\n",
       " 'alot': 346,\n",
       " 'lulgnweffh': 347,\n",
       " 'volunteer': 348,\n",
       " 'massages': 349,\n",
       " 'navigating': 350,\n",
       " 'tarmack': 351,\n",
       " 'unitedairlinessuck': 352,\n",
       " 'telephone': 353,\n",
       " 'lgeg': 354,\n",
       " 'axeo': 355,\n",
       " 'new': 356,\n",
       " 'clarifying': 357,\n",
       " 'pisspoor': 358,\n",
       " 'norfolk': 359,\n",
       " 'screen': 360,\n",
       " 'vegan': 361,\n",
       " 'dm': 362,\n",
       " 'nexttime': 363,\n",
       " 'smooth': 364,\n",
       " 'seductive': 365,\n",
       " 'lovesouthwest': 366,\n",
       " 'billed': 367,\n",
       " 'painandsuffering': 368,\n",
       " 'roe': 369,\n",
       " 'naelah': 370,\n",
       " 'ball': 371,\n",
       " 'goodcustomerservice': 372,\n",
       " 'ride': 373,\n",
       " 'shattered': 374,\n",
       " 'barzegar': 375,\n",
       " 'itfits': 376,\n",
       " 'bergstrom': 377,\n",
       " 'ams': 378,\n",
       " 'costarica': 379,\n",
       " 'soured': 380,\n",
       " 'wages': 381,\n",
       " 'heard': 382,\n",
       " 'ef': 383,\n",
       " 'why': 384,\n",
       " 'fiasco': 385,\n",
       " 'mtff': 386,\n",
       " 'dc': 387,\n",
       " 'breathing': 388,\n",
       " 'swrpmq': 389,\n",
       " 'fernheinig': 390,\n",
       " 'bv': 391,\n",
       " 'zone': 392,\n",
       " 'klzvmt': 393,\n",
       " 'gg': 394,\n",
       " 'quite': 395,\n",
       " 'rejected': 396,\n",
       " 'problemss': 397,\n",
       " 'finale': 398,\n",
       " 'warehouse': 399,\n",
       " 'increments': 400,\n",
       " 'swaculture': 401,\n",
       " 'reset': 402,\n",
       " 'mht': 403,\n",
       " 'feed': 404,\n",
       " 'friendliest': 405,\n",
       " 'soooooo': 406,\n",
       " 'selection': 407,\n",
       " 'emily': 408,\n",
       " 'wmo': 409,\n",
       " 'hp': 410,\n",
       " 'suffering': 411,\n",
       " 'watched': 412,\n",
       " 'troubling': 413,\n",
       " 'pura': 414,\n",
       " 'reativation': 415,\n",
       " 'reasons': 416,\n",
       " 'around': 417,\n",
       " 'touchdown': 418,\n",
       " 'coach': 419,\n",
       " 'indeed': 420,\n",
       " 'spook': 421,\n",
       " 'livewelltraveled': 422,\n",
       " 'grandcanyon': 423,\n",
       " 'aim': 424,\n",
       " 'disappoints': 425,\n",
       " 'true': 426,\n",
       " 'therofo': 427,\n",
       " 'select': 428,\n",
       " 'doom': 429,\n",
       " 'allan': 430,\n",
       " 'caribbejan': 431,\n",
       " 'qavvlaxlkl': 432,\n",
       " 'hmcrjchb': 433,\n",
       " 'agoodlife': 434,\n",
       " 'isthisreal': 435,\n",
       " 'started': 436,\n",
       " 'problemsolvers': 437,\n",
       " 'growing': 438,\n",
       " 'visualclubconcepts': 439,\n",
       " 'lax': 440,\n",
       " 'role': 441,\n",
       " 'stupidity': 442,\n",
       " 'noise': 443,\n",
       " 'victoria': 444,\n",
       " 'controlled': 445,\n",
       " 'fattire': 446,\n",
       " 'shout': 447,\n",
       " 'ssal': 448,\n",
       " 'damper': 449,\n",
       " 'passengerbillofrights': 450,\n",
       " 'preregistration': 451,\n",
       " 'otis': 452,\n",
       " 'inconveniently': 453,\n",
       " 'mentality': 454,\n",
       " 'phillip': 455,\n",
       " 'ringing': 456,\n",
       " 'transatlantic': 457,\n",
       " 'freddieawards': 458,\n",
       " 'adult': 459,\n",
       " 'clearly': 460,\n",
       " 'paged': 461,\n",
       " 'mha': 462,\n",
       " 'snowstorm': 463,\n",
       " 'lined': 464,\n",
       " 'month': 465,\n",
       " 'faail': 466,\n",
       " 'aggravated': 467,\n",
       " 'ain': 468,\n",
       " 'nbsnewsr': 469,\n",
       " 'bestinclasssocial': 470,\n",
       " 'qxv': 471,\n",
       " 'destinationdragon': 472,\n",
       " 'tjdzamhpew': 473,\n",
       " 'iad': 474,\n",
       " 'tire': 475,\n",
       " 'pricediscrimination': 476,\n",
       " 'therefore': 477,\n",
       " 'leeannhealey': 478,\n",
       " 'unbelievable': 479,\n",
       " 'flightfail': 480,\n",
       " 'wilson': 481,\n",
       " 'ragandisney': 482,\n",
       " 'showup': 483,\n",
       " 'comment': 484,\n",
       " 'notsatisfied': 485,\n",
       " 'measles': 486,\n",
       " 'phrased': 487,\n",
       " 'hoo': 488,\n",
       " 'fioretti': 489,\n",
       " 'claiming': 490,\n",
       " 'philippines': 491,\n",
       " 'prove': 492,\n",
       " 'providing': 493,\n",
       " 'neworleans': 494,\n",
       " 'wat': 495,\n",
       " 'black': 496,\n",
       " 'chilly': 497,\n",
       " 'completely': 498,\n",
       " 'exceptionally': 499,\n",
       " 'illness': 500,\n",
       " 'sap': 501,\n",
       " 'reflight': 502,\n",
       " 'speed': 503,\n",
       " 'tears': 504,\n",
       " 'faceless': 505,\n",
       " 'justynmoro': 506,\n",
       " 'concierge': 507,\n",
       " 'misjudging': 508,\n",
       " 'ij': 509,\n",
       " 'badpolicy': 510,\n",
       " 'ingeniero': 511,\n",
       " 'rffhmcv': 512,\n",
       " 'pen': 513,\n",
       " 'frustrations': 514,\n",
       " 'cheerupdates': 515,\n",
       " 'ideal': 516,\n",
       " 'pound': 517,\n",
       " 'eqepkkpsxm': 518,\n",
       " 'once': 519,\n",
       " 'dfps': 520,\n",
       " 'damion': 521,\n",
       " 'others': 522,\n",
       " 'nlip': 523,\n",
       " 'drawing': 524,\n",
       " 'snowballed': 525,\n",
       " 'jetbluecheeps': 526,\n",
       " 'significant': 527,\n",
       " 'welcomed': 528,\n",
       " 'chkin': 529,\n",
       " 'atl': 530,\n",
       " 'sarahpompei': 531,\n",
       " 'escaping': 532,\n",
       " 'restless': 533,\n",
       " 'disgrace': 534,\n",
       " 'travelocity': 535,\n",
       " 'loads': 536,\n",
       " 'death': 537,\n",
       " 'american': 538,\n",
       " 'devices': 539,\n",
       " 'explore': 540,\n",
       " 'stage': 541,\n",
       " 'botched': 542,\n",
       " 'overreacting': 543,\n",
       " 'vxsafetydance': 544,\n",
       " 'mph': 545,\n",
       " 'mhqgd': 546,\n",
       " 'jobfail': 547,\n",
       " 'rapidrewards': 548,\n",
       " 'lavoratories': 549,\n",
       " 'families': 550,\n",
       " 'finds': 551,\n",
       " 'euros': 552,\n",
       " 'welllllll': 553,\n",
       " 'exist': 554,\n",
       " 'struggle': 555,\n",
       " 'mkt': 556,\n",
       " 'wong': 557,\n",
       " 'skilled': 558,\n",
       " 'dsi': 559,\n",
       " 'film': 560,\n",
       " 'orlandosentinel': 561,\n",
       " 'hb': 562,\n",
       " 'percentage': 563,\n",
       " 'mysterious': 564,\n",
       " 'clicks': 565,\n",
       " 'stressful': 566,\n",
       " 'dsdebodmel': 567,\n",
       " 'rita': 568,\n",
       " 'surfboard': 569,\n",
       " 'fe': 570,\n",
       " 'areas': 571,\n",
       " 'saharasams': 572,\n",
       " 'months': 573,\n",
       " 'gloves': 574,\n",
       " 'pzgc': 575,\n",
       " 'bushleague': 576,\n",
       " 'maddening': 577,\n",
       " 'getyouracttogether': 578,\n",
       " 'sma': 579,\n",
       " 'sukhdeep': 580,\n",
       " 'mont': 581,\n",
       " 'rgywjbbhm': 582,\n",
       " 'confused': 583,\n",
       " 'leverage': 584,\n",
       " 'refreshing': 585,\n",
       " 'flyfi': 586,\n",
       " 'reserved': 587,\n",
       " 'backlog': 588,\n",
       " 'shittydeal': 589,\n",
       " 'unhappy': 590,\n",
       " 'crosswinds': 591,\n",
       " 'appropriately': 592,\n",
       " 'several': 593,\n",
       " 'yywafkfi': 594,\n",
       " 'poorcustomerservice': 595,\n",
       " 'issued': 596,\n",
       " 'lame': 597,\n",
       " 'dxb': 598,\n",
       " 'unmonitored': 599,\n",
       " 'dice': 600,\n",
       " 'hungary': 601,\n",
       " 'fist': 602,\n",
       " 'virtual': 603,\n",
       " 'ski': 604,\n",
       " 'ezemanalyst': 605,\n",
       " 'se': 606,\n",
       " 'interupt': 607,\n",
       " 'rockers': 608,\n",
       " 'deflator': 609,\n",
       " 'stains': 610,\n",
       " 'mitchsunderland': 611,\n",
       " 'vcz': 612,\n",
       " 'outta': 613,\n",
       " 'browser': 614,\n",
       " 'fedex': 615,\n",
       " 'upsell': 616,\n",
       " 'records': 617,\n",
       " 'sooooo': 618,\n",
       " 'unplanned': 619,\n",
       " 'spoken': 620,\n",
       " 'anna': 621,\n",
       " 'surely': 622,\n",
       " 'shiz': 623,\n",
       " 'finishes': 624,\n",
       " 'cont': 625,\n",
       " 'takemeback': 626,\n",
       " 'fare': 627,\n",
       " 'sfpcbyy': 628,\n",
       " 'argued': 629,\n",
       " 'instagram': 630,\n",
       " 'rockies': 631,\n",
       " 'degrees': 632,\n",
       " 'auto': 633,\n",
       " 'waldorf': 634,\n",
       " 'distance': 635,\n",
       " 'ambivalence': 636,\n",
       " 'protocol': 637,\n",
       " 'wishmyflightwaslonger': 638,\n",
       " 'seams': 639,\n",
       " 'ui': 640,\n",
       " 'award': 641,\n",
       " 'enjoy': 642,\n",
       " 'usual': 643,\n",
       " 'tech': 644,\n",
       " 'msscottwg': 645,\n",
       " 'beware': 646,\n",
       " 'bank': 647,\n",
       " 'ticketed': 648,\n",
       " 'pleasant': 649,\n",
       " 'skys': 650,\n",
       " 'nocompensation': 651,\n",
       " 'ritacomo': 652,\n",
       " 'infuriating': 653,\n",
       " 'divider': 654,\n",
       " 'taxis': 655,\n",
       " 'loluwfci': 656,\n",
       " 'kung': 657,\n",
       " 'flighted': 658,\n",
       " 'especially': 659,\n",
       " 'soul': 660,\n",
       " 'qe': 661,\n",
       " 'elhxuv': 662,\n",
       " 'brent': 663,\n",
       " 'tmm': 664,\n",
       " 'noon': 665,\n",
       " 'bring': 666,\n",
       " 'hgdj': 667,\n",
       " 'mountains': 668,\n",
       " 'domingo': 669,\n",
       " 'checkpoint': 670,\n",
       " 'kathryn': 671,\n",
       " 'medication': 672,\n",
       " 'keeper': 673,\n",
       " 'grandkids': 674,\n",
       " 'memgrizz': 675,\n",
       " 'six': 676,\n",
       " 'dance': 677,\n",
       " 'shorts': 678,\n",
       " 'commitments': 679,\n",
       " 'rd': 680,\n",
       " 'moments': 681,\n",
       " 'rectify': 682,\n",
       " 'kicking': 683,\n",
       " 'hole': 684,\n",
       " 'ineligible': 685,\n",
       " 'baejet': 686,\n",
       " 'ericbradleypt': 687,\n",
       " 'ax': 688,\n",
       " 'yt': 689,\n",
       " 'iamtedking': 690,\n",
       " 'kwm': 691,\n",
       " 'occupied': 692,\n",
       " 'inevitable': 693,\n",
       " 'startingbloc': 694,\n",
       " 'paranoid': 695,\n",
       " 'couldnt': 696,\n",
       " 'fresno': 697,\n",
       " 'weekday': 698,\n",
       " 'beverage': 699,\n",
       " 'freaks': 700,\n",
       " 'draw': 701,\n",
       " 'stream': 702,\n",
       " 'tremendously': 703,\n",
       " 'vinylvegas': 704,\n",
       " 'sons': 705,\n",
       " 'untrue': 706,\n",
       " 'rachelle': 707,\n",
       " 'kdmq': 708,\n",
       " 'where': 709,\n",
       " 'waits': 710,\n",
       " 'nuts': 711,\n",
       " 'visa': 712,\n",
       " 'gettingoffplane': 713,\n",
       " 'method': 714,\n",
       " 'reinstating': 715,\n",
       " 'miamore': 716,\n",
       " 'fy': 717,\n",
       " 'pick': 718,\n",
       " 'noxtralegroom': 719,\n",
       " 'qv': 720,\n",
       " 'ruplv': 721,\n",
       " 'earlybirdmeansnothing': 722,\n",
       " 'teams': 723,\n",
       " 'kthxbai': 724,\n",
       " 'earphone': 725,\n",
       " 'clarita': 726,\n",
       " 'va': 727,\n",
       " 'deeply': 728,\n",
       " 'reduce': 729,\n",
       " 'flex': 730,\n",
       " 'disruption': 731,\n",
       " 'dislexia': 732,\n",
       " 'tanpa': 733,\n",
       " 'samartzis': 734,\n",
       " 'singapore': 735,\n",
       " 'hotelliving': 736,\n",
       " 'petty': 737,\n",
       " 'nopq': 738,\n",
       " 'sb': 739,\n",
       " 'steaming': 740,\n",
       " 'interpreting': 741,\n",
       " 'amazon': 742,\n",
       " 'resend': 743,\n",
       " 'estelle': 744,\n",
       " 'spread': 745,\n",
       " 'sti': 746,\n",
       " 'birthdate': 747,\n",
       " 'extortion': 748,\n",
       " 'pushed': 749,\n",
       " 'witnessed': 750,\n",
       " 'happening': 751,\n",
       " 'dqbai': 752,\n",
       " 'scollegelondon': 753,\n",
       " 'keepingit': 754,\n",
       " 'gth': 755,\n",
       " 'overcharged': 756,\n",
       " 'fn': 757,\n",
       " 'ypo': 758,\n",
       " 'avis': 759,\n",
       " 'platinumeventually': 760,\n",
       " 'inventory': 761,\n",
       " 'pounding': 762,\n",
       " 'notgoodenough': 763,\n",
       " 'anku': 764,\n",
       " 'lacked': 765,\n",
       " 'amazingly': 766,\n",
       " 'flagging': 767,\n",
       " 'justify': 768,\n",
       " 'te': 769,\n",
       " 'getmeouttahere': 770,\n",
       " 'dispute': 771,\n",
       " 'every': 772,\n",
       " 'accts': 773,\n",
       " 'chosen': 774,\n",
       " 'shouldhaveflowndelta': 775,\n",
       " 'sunglasses': 776,\n",
       " 'jy': 777,\n",
       " 'vainglorygame': 778,\n",
       " 'cbsnews': 779,\n",
       " 'rqbxw': 780,\n",
       " 'ourguest': 781,\n",
       " 'alamo': 782,\n",
       " 'ourselves': 783,\n",
       " 'knows': 784,\n",
       " 'talked': 785,\n",
       " 'value': 786,\n",
       " 'found': 787,\n",
       " 'gd': 788,\n",
       " 'stowaway': 789,\n",
       " 'minus': 790,\n",
       " 'foresight': 791,\n",
       " 'reinforcements': 792,\n",
       " 'hannah': 793,\n",
       " 'ute': 794,\n",
       " 'drops': 795,\n",
       " 'vt': 796,\n",
       " 'shuffle': 797,\n",
       " 'thanksm': 798,\n",
       " 'ethics': 799,\n",
       " 'mellie': 800,\n",
       " 'gotten': 801,\n",
       " 'flightation': 802,\n",
       " 'apply': 803,\n",
       " 'deltapoints': 804,\n",
       " 'cab': 805,\n",
       " 'yesterday': 806,\n",
       " 'campaign': 807,\n",
       " 'ajm': 808,\n",
       " 'card': 809,\n",
       " 'approved': 810,\n",
       " 'project': 811,\n",
       " 'vdiosua': 812,\n",
       " 'assult': 813,\n",
       " 'punished': 814,\n",
       " 'idlovetoask': 815,\n",
       " 'szr': 816,\n",
       " 'xelbon': 817,\n",
       " 'bumper': 818,\n",
       " 'morons': 819,\n",
       " 'sorude': 820,\n",
       " 'ruin': 821,\n",
       " 'electronics': 822,\n",
       " 'private': 823,\n",
       " 'confuses': 824,\n",
       " 'bonsinthesky': 825,\n",
       " 'communicationfail': 826,\n",
       " 'abounds': 827,\n",
       " 'lifeneedsfrosting': 828,\n",
       " 'notifying': 829,\n",
       " 'yeniettelswood': 830,\n",
       " 'counted': 831,\n",
       " 'possibility': 832,\n",
       " 'quitting': 833,\n",
       " 'play': 834,\n",
       " 'capability': 835,\n",
       " 'transactions': 836,\n",
       " 'continue': 837,\n",
       " 'impatience': 838,\n",
       " 'aesthetics': 839,\n",
       " 'unitedsucks': 840,\n",
       " 'bbzijwfdl': 841,\n",
       " 'frankfurt': 842,\n",
       " 'fruit': 843,\n",
       " 'dickheads': 844,\n",
       " 'glenn': 845,\n",
       " 'preciation': 846,\n",
       " 'bxwg': 847,\n",
       " 'prefference': 848,\n",
       " 'franks': 849,\n",
       " 'caught': 850,\n",
       " 'loyalmosaicmember': 851,\n",
       " 'dissemination': 852,\n",
       " 'currently': 853,\n",
       " 'mouth': 854,\n",
       " 'prob': 855,\n",
       " 'beat': 856,\n",
       " 'vino': 857,\n",
       " 'ugfnm': 858,\n",
       " 'absorber': 859,\n",
       " 'els': 860,\n",
       " 'food': 861,\n",
       " 'neverfails': 862,\n",
       " 'service': 863,\n",
       " 'drone': 864,\n",
       " 'blessed': 865,\n",
       " 'useless': 866,\n",
       " 'dude': 867,\n",
       " 'limits': 868,\n",
       " 'overweight': 869,\n",
       " 'downgrading': 870,\n",
       " 'person': 871,\n",
       " 'intentional': 872,\n",
       " 'af': 873,\n",
       " 'travel': 874,\n",
       " 'hire': 875,\n",
       " 'yourstoryhere': 876,\n",
       " 'crazy': 877,\n",
       " 'zxzn': 878,\n",
       " 'dca': 879,\n",
       " 'lsusoftball': 880,\n",
       " 'ipgs': 881,\n",
       " 'santa': 882,\n",
       " 'xvnnmltiw': 883,\n",
       " 'marieharf': 884,\n",
       " 'cm': 885,\n",
       " 'svllindia': 886,\n",
       " 'ghho': 887,\n",
       " 'adopting': 888,\n",
       " 'bobwesson': 889,\n",
       " 'pulling': 890,\n",
       " 'israel': 891,\n",
       " 'uu': 892,\n",
       " 'americanairlinesfail': 893,\n",
       " 'ways': 894,\n",
       " 'refused': 895,\n",
       " 'comparable': 896,\n",
       " 'lubbock': 897,\n",
       " 'maf': 898,\n",
       " 'voucherwhatajoke': 899,\n",
       " 'buwjtvuwkm': 900,\n",
       " 'resoled': 901,\n",
       " 'thirty': 902,\n",
       " 'hovuaisg': 903,\n",
       " 'scheme': 904,\n",
       " 'nature': 905,\n",
       " 'mobileboarding': 906,\n",
       " 'harder': 907,\n",
       " 'crazybitch': 908,\n",
       " 'affiliates': 909,\n",
       " 'courrier': 910,\n",
       " 'takeresponsibility': 911,\n",
       " 'terrible': 912,\n",
       " 'eqyahfvz': 913,\n",
       " 'screwed': 914,\n",
       " 'gregwallace': 915,\n",
       " 'shannonbloom': 916,\n",
       " 'yes': 917,\n",
       " 'ticked': 918,\n",
       " 'desparately': 919,\n",
       " 'responses': 920,\n",
       " 'animals': 921,\n",
       " 'instructed': 922,\n",
       " 'txu': 923,\n",
       " 'colombia': 924,\n",
       " 'compliant': 925,\n",
       " 'bday': 926,\n",
       " 'fixthis': 927,\n",
       " 'mugged': 928,\n",
       " 'xt': 929,\n",
       " 'mia': 930,\n",
       " 'hike': 931,\n",
       " 'predict': 932,\n",
       " 'magical': 933,\n",
       " 'dislike': 934,\n",
       " 'eye': 935,\n",
       " 'tuesday': 936,\n",
       " 'chi': 937,\n",
       " 'isis': 938,\n",
       " 'burlington': 939,\n",
       " 'routed': 940,\n",
       " 'ondemand': 941,\n",
       " 'degreesathome': 942,\n",
       " 'taxiing': 943,\n",
       " 'scarf': 944,\n",
       " 'guest': 945,\n",
       " 'italy': 946,\n",
       " 'kix': 947,\n",
       " 'ch': 948,\n",
       " 'athletes': 949,\n",
       " 'contains': 950,\n",
       " 'ralph': 951,\n",
       " 'neverflyvirgin': 952,\n",
       " 'yrvka': 953,\n",
       " 'jurassic': 954,\n",
       " 'ymz': 955,\n",
       " 'boson': 956,\n",
       " 'seetonight': 957,\n",
       " 'tummy': 958,\n",
       " 'alicia': 959,\n",
       " 'worstcustomerserviceever': 960,\n",
       " 'annoyed': 961,\n",
       " 'detail': 962,\n",
       " 'dial': 963,\n",
       " 'usaw': 964,\n",
       " 'siberia': 965,\n",
       " 'inoperable': 966,\n",
       " 'fall': 967,\n",
       " 'wall': 968,\n",
       " 'confidence': 969,\n",
       " 'vf': 970,\n",
       " 'unaccompanied': 971,\n",
       " 'inconvenience': 972,\n",
       " 'alabama': 973,\n",
       " 'brancato': 974,\n",
       " 'detailed': 975,\n",
       " 'winkwink': 976,\n",
       " 'npib': 977,\n",
       " 'fcmostinnovative': 978,\n",
       " 'oveur': 979,\n",
       " 'projects': 980,\n",
       " 'bape': 981,\n",
       " 'oqaveo': 982,\n",
       " 'nthin': 983,\n",
       " 'final': 984,\n",
       " 'blazer': 985,\n",
       " 'nbd': 986,\n",
       " 'refunded': 987,\n",
       " 'john': 988,\n",
       " 'wsjplus': 989,\n",
       " 'zakkohane': 990,\n",
       " 'coats': 991,\n",
       " 'olives': 992,\n",
       " 'warriors': 993,\n",
       " 'mess': 994,\n",
       " 'delaney': 995,\n",
       " 'ftzw': 996,\n",
       " 'mplio': 997,\n",
       " 'dfwairport': 998,\n",
       " 'hhagerty': 999,\n",
       " 'adventure': 1000,\n",
       " ...}"
      ]
     },
     "execution_count": 22,
     "metadata": {},
     "output_type": "execute_result"
    }
   ],
   "source": [
    "word_index"
   ]
  },
  {
   "cell_type": "code",
   "execution_count": 23,
   "metadata": {},
   "outputs": [
    {
     "data": {
      "application/vnd.microsoft.datawrangler.viewer.v0+json": {
       "columns": [
        {
         "name": "index",
         "rawType": "int64",
         "type": "integer"
        },
        {
         "name": "text",
         "rawType": "object",
         "type": "string"
        }
       ],
       "ref": "a205bc01-2075-45de-a946-269d25a42bb9",
       "rows": [
        [
         "0",
         "['virginamerica', 'what', 'dhepburn', 'said', '.']"
        ],
        [
         "1",
         "['virginamerica', 'plus', 'you', 've', 'added', 'commercials', 'to', 'the', 'experience', '.', '.', '.', 'tacky', '.']"
        ],
        [
         "2",
         "['virginamerica', 'i', 'didn', 't', 'today', '.', '.', '.', 'must', 'mean', 'i', 'need', 'to', 'take', 'another', 'trip', '!']"
        ],
        [
         "3",
         "['virginamerica', 'it', 's', 'really', 'aggressive', 'to', 'blast', 'obnoxious', 'entertainment', 'in', 'your', 'guests', 'faces', 'amp', 'they', 'have', 'little', 'recourse']"
        ],
        [
         "4",
         "['virginamerica', 'and', 'it', 's', 'a', 'really', 'big', 'bad', 'thing', 'about', 'it']"
        ],
        [
         "5",
         "['virginamerica', 'seriously', 'would', 'pay', 'a', 'flight', 'for', 'seats', 'that', 'didn', 't', 'have', 'this', 'playing', '.', 'it', 's', 'really', 'the', 'only', 'bad', 'thing', 'about', 'flying', 'va']"
        ],
        [
         "6",
         "['virginamerica', 'yes', ',', 'nearly', 'every', 'time', 'i', 'fly', 'vx', 'this', 'ear', 'worm', 'won', 't', 'go', 'away', ')']"
        ],
        [
         "7",
         "['virginamerica', 'really', 'missed', 'a', 'prime', 'opportunity', 'for', 'men', 'without', 'hats', 'parody', ',', 'there', '.', 'https', 't', '.', 'co', 'mwpg', 'grezp']"
        ],
        [
         "8",
         "['virginamerica', 'well', ',', 'i', 'didn', 't', 'but', 'now', 'i', 'do', '!', 'd']"
        ],
        [
         "9",
         "['virginamerica', 'it', 'was', 'amazing', ',', 'and', 'arrived', 'an', 'hour', 'early', '.', 'you', 're', 'too', 'good', 'to', 'me', '.']"
        ],
        [
         "10",
         "['virginamerica', 'did', 'you', 'know', 'that', 'suicide', 'is', 'the', 'second', 'leading', 'cause', 'of', 'death', 'among', 'teens']"
        ],
        [
         "11",
         "['virginamerica', 'i', 'lt', 'pretty', 'graphics', '.', 'so', 'much', 'better', 'than', 'minimal', 'iconography', '.', 'd']"
        ],
        [
         "12",
         "['virginamerica', 'this', 'is', 'such', 'a', 'great', 'deal', '!', 'already', 'thinking', 'about', 'my', 'nd', 'trip', 'to', 'australia', 'amp', 'i', 'haven', 't', 'even', 'gone', 'on', 'my', 'st', 'trip', 'yet', '!', 'p']"
        ],
        [
         "13",
         "['virginamerica', 'virginmedia', 'i', 'm', 'flying', 'your', 'fabulous', 'seductive', 'skies', 'again', '!', 'u', 'take', 'all', 'the', 'stress', 'away', 'from', 'travel', 'http', 't', '.', 'co', 'ahlxhhkiyn']"
        ],
        [
         "14",
         "['virginamerica', 'thanks', '!']"
        ],
        [
         "15",
         "['virginamerica', 'sfo', 'pdx', 'schedule', 'is', 'still', 'mia', '.']"
        ],
        [
         "16",
         "['virginamerica', 'so', 'excited', 'for', 'my', 'first', 'cross', 'country', 'flight', 'lax', 'to', 'mco', 'i', 've', 'heard', 'nothing', 'but', 'great', 'things', 'about', 'virgin', 'america', '.', 'daystogo']"
        ],
        [
         "17",
         "['virginamerica', 'i', 'flew', 'from', 'nyc', 'to', 'sfo', 'last', 'week', 'and', 'couldn', 't', 'fully', 'sit', 'in', 'my', 'seat', 'due', 'to', 'two', 'large', 'gentleman', 'on', 'either', 'side', 'of', 'me', '.', 'help', '!']"
        ],
        [
         "18",
         "['i', 'flying', 'virginamerica', '.']"
        ],
        [
         "19",
         "['virginamerica', 'you', 'know', 'what', 'would', 'be', 'amazingly', 'awesome', '?', 'bos', 'fll', 'please', '!', '!', '!', '!', '!', '!', '!', 'i', 'want', 'to', 'fly', 'with', 'only', 'you', '.']"
        ],
        [
         "20",
         "['virginamerica', 'why', 'are', 'your', 'first', 'fares', 'in', 'may', 'over', 'three', 'times', 'more', 'than', 'other', 'carriers', 'when', 'all', 'seats', 'are', 'available', 'to', 'select', '?', '?', '?']"
        ],
        [
         "21",
         "['virginamerica', 'i', 'love', 'this', 'graphic', '.', 'http', 't', '.', 'co', 'ut', 'grrwaaa']"
        ],
        [
         "22",
         "['virginamerica', 'i', 'love', 'the', 'hipster', 'innovation', '.', 'you', 'are', 'a', 'feel', 'good', 'brand', '.']"
        ],
        [
         "23",
         "['virginamerica', 'will', 'you', 'be', 'making', 'bos', 'gt', 'las', 'non', 'stop', 'permanently', 'anytime', 'soon', '?']"
        ],
        [
         "24",
         "['virginamerica', 'you', 'guys', 'messed', 'up', 'my', 'seating', '.', '.', 'i', 'reserved', 'seating', 'with', 'my', 'friends', 'and', 'you', 'guys', 'gave', 'my', 'seat', 'away', '.', '.', '.', 'i', 'want', 'free', 'internet']"
        ],
        [
         "25",
         "['virginamerica', 'status', 'match', 'program', '.', 'i', 'applied', 'and', 'it', 's', 'been', 'three', 'weeks', '.', 'called', 'and', 'emailed', 'with', 'no', 'response', '.']"
        ],
        [
         "26",
         "['virginamerica', 'what', 'happened', 'ur', 'vegan', 'food', 'options', '?', '!', 'at', 'least', 'say', 'on', 'ur', 'site', 'so', 'i', 'know', 'i', 'won', 't', 'be', 'able', 'eat', 'anything', 'for', 'next', 'hrs', 'fail']"
        ],
        [
         "27",
         "['virginamerica', 'do', 'you', 'miss', 'me', '?', 'don', 't', 'worry', 'we', 'll', 'be', 'together', 'very', 'soon', '.']"
        ],
        [
         "28",
         "['virginamerica', 'amazing', 'to', 'me', 'that', 'we', 'can', 't', 'get', 'any', 'cold', 'air', 'from', 'the', 'vents', '.', 'vx', 'noair', 'worstflightever', 'roasted', 'sfotobos']"
        ],
        [
         "29",
         "['virginamerica', 'lax', 'to', 'ewr', 'middle', 'seat', 'on', 'a', 'red', 'eye', '.', 'such', 'a', 'noob', 'maneuver', '.', 'sendambien', 'andchexmix']"
        ],
        [
         "30",
         "['virginamerica', 'hi', '!', 'i', 'just', 'bked', 'a', 'cool', 'birthday', 'trip', 'with', 'you', ',', 'but', 'i', 'can', 't', 'add', 'my', 'elevate', 'no', '.', 'cause', 'i', 'entered', 'my', 'middle', 'name', 'during', 'flight', 'booking', 'problems']"
        ],
        [
         "31",
         "['virginamerica', 'are', 'the', 'hours', 'of', 'operation', 'for', 'the', 'club', 'at', 'sfo', 'that', 'are', 'posted', 'online', 'current', '?']"
        ],
        [
         "32",
         "['virginamerica', 'help', ',', 'left', 'expensive', 'headphones', 'on', 'flight', 'iad', 'to', 'lax', 'today', '.', 'seat', 'a', '.', 'no', 'one', 'answering', 'l', 'amp', 'f', 'number', 'at', 'lax', '!']"
        ],
        [
         "33",
         "['virginamerica', 'awaiting', 'my', 'return', 'phone', 'call', ',', 'just', 'would', 'prefer', 'to', 'use', 'your', 'online', 'self', 'service', 'option', '(']"
        ],
        [
         "34",
         "['virginamerica', 'this', 'is', 'great', 'news', '!', 'america', 'could', 'start', 'flights', 'to', 'hawaii', 'by', 'end', 'of', 'year', 'http', 't', '.', 'co', 'r', 'p', 'zy', 'fe', 'via', 'pacificbiznews']"
        ],
        [
         "35",
         "['nice', 'rt', 'virginamerica', 'vibe', 'with', 'the', 'moodlight', 'from', 'takeoff', 'to', 'touchdown', '.', 'moodlitmonday', 'sciencebehindtheexperience', 'http', 't', '.', 'co', 'y', 'o', 'unxtqp']"
        ],
        [
         "36",
         "['virginamerica', 'moodlighting', 'is', 'the', 'only', 'way', 'to', 'fly', '!', 'best', 'experience', 'ever', '!', 'cool', 'and', 'calming', '.', 'moodlitmonday']"
        ],
        [
         "37",
         "['virginamerica', 'freddieawards', 'done', 'and', 'done', '!', 'best', 'airline', 'around', ',', 'hands', 'down', '!']"
        ],
        [
         "38",
         "['virginamerica', 'when', 'can', 'i', 'book', 'my', 'flight', 'to', 'hawaii', '?', '?']"
        ],
        [
         "39",
         "['virginamerica', 'your', 'chat', 'support', 'is', 'not', 'working', 'on', 'your', 'site', 'http', 't', '.', 'co', 'vhp', 'gtdwpk']"
        ],
        [
         "40",
         "['virginamerica', 'view', 'of', 'downtown', 'los', 'angeles', ',', 'the', 'hollywood', 'sign', ',', 'and', 'beyond', 'that', 'rain', 'in', 'the', 'mountains', '!', 'http', 't', '.', 'co', 'dw', 'nf', 'ibtr']"
        ],
        [
         "41",
         "['virginamerica', 'hey', ',', 'first', 'time', 'flyer', 'next', 'week', 'excited', '!', 'but', 'i', 'm', 'having', 'a', 'hard', 'time', 'getting', 'my', 'flights', 'added', 'to', 'my', 'elevate', 'account', '.', 'help', '?']"
        ],
        [
         "42",
         "['virginamerica', 'plz', 'help', 'me', 'win', 'my', 'bid', 'upgrade', 'for', 'my', 'flight', 'lax', 'gt', 'sea', '!', '!', '!']"
        ],
        [
         "43",
         "['virginamerica', 'i', 'have', 'an', 'unused', 'ticket', 'but', 'moved', 'to', 'a', 'new', 'city', 'where', 'you', 'don', 't', 'fly', '.', 'how', 'can', 'i', 'fly', 'with', 'you', 'before', 'it', 'expires', '?', 'travelhelp']"
        ],
        [
         "44",
         "['virginamerica', 'are', 'flights', 'leaving', 'dallas', 'for', 'seattle', 'on', 'time', 'feb', '?']"
        ],
        [
         "45",
         "['virginamerica', 'i', 'm', 'elevategold', 'for', 'a', 'good', 'reason', 'you', 'rock', '!', '!']"
        ],
        [
         "46",
         "['virginamerica', 'dream', 'http', 't', '.', 'co', 'oa', 'drfaoq', 'http', 't', '.', 'co', 'lwwdac', 'khx']"
        ],
        [
         "47",
         "['virginamerica', 'wow', 'this', 'just', 'blew', 'my', 'mind']"
        ],
        [
         "48",
         "['virginamerica', 'ladygaga', 'carrieunderwood', 'after', 'last', 'night', 'tribute', 'soundofmusic', 'oscars', 'ladygaga', '!', 'i', 'think', 'carrieunderwood', 'agree']"
        ],
        [
         "49",
         "['virginamerica', 'ladygaga', 'carrieunderwood', 'all', 'were', 'entertaining']"
        ]
       ],
       "shape": {
        "columns": 1,
        "rows": 14640
       }
      },
      "text/plain": [
       "0                 [virginamerica, what, dhepburn, said, .]\n",
       "1        [virginamerica, plus, you, ve, added, commerci...\n",
       "2        [virginamerica, i, didn, t, today, ., ., ., mu...\n",
       "3        [virginamerica, it, s, really, aggressive, to,...\n",
       "4        [virginamerica, and, it, s, a, really, big, ba...\n",
       "                               ...                        \n",
       "14635    [americanair, thank, you, we, got, on, a, diff...\n",
       "14636    [americanair, leaving, over, minutes, late, fl...\n",
       "14637    [americanair, please, bring, american, airline...\n",
       "14638    [americanair, you, have, my, money, ,, you, ch...\n",
       "14639    [americanair, we, have, ppl, so, we, need, kno...\n",
       "Name: text, Length: 14640, dtype: object"
      ]
     },
     "execution_count": 23,
     "metadata": {},
     "output_type": "execute_result"
    }
   ],
   "source": [
    "data.text"
   ]
  },
  {
   "cell_type": "code",
   "execution_count": 24,
   "metadata": {},
   "outputs": [],
   "source": [
    "text = data.text.apply(lambda x: [word_index.get(word, 0) for word in x])"
   ]
  },
  {
   "cell_type": "code",
   "execution_count": 25,
   "metadata": {},
   "outputs": [
    {
     "data": {
      "application/vnd.microsoft.datawrangler.viewer.v0+json": {
       "columns": [
        {
         "name": "index",
         "rawType": "int64",
         "type": "integer"
        },
        {
         "name": "text",
         "rawType": "object",
         "type": "string"
        }
       ],
       "ref": "1dee409b-a633-4fab-8a2f-653333d7cf4b",
       "rows": [
        [
         "0",
         "[9350, 7707, 10717, 1945, 12159]"
        ],
        [
         "1",
         "[9350, 5754, 9854, 12182, 6489, 9670, 5414, 6632, 2042, 12159, 12159, 12159, 1453, 12159]"
        ],
        [
         "2",
         "[9350, 2296, 6138, 7053, 10996, 12159, 12159, 12159, 1106, 7142, 2296, 8042, 5414, 11862, 7732, 5051, 5753]"
        ],
        [
         "3",
         "[9350, 7956, 1040, 10173, 9361, 5414, 5113, 11847, 6283, 8964, 2413, 12599, 1512, 10692, 13018, 9550, 10030, 73]"
        ],
        [
         "4",
         "[9350, 1545, 7956, 1040, 6666, 10173, 4507, 8392, 4844, 3957, 7956]"
        ],
        [
         "5",
         "[9350, 11434, 11658, 7355, 6666, 8319, 1468, 13605, 9642, 6138, 7053, 9550, 2053, 3503, 12159, 7956, 1040, 10173, 6632, 7595, 8392, 4844, 3957, 5396, 727]"
        ],
        [
         "6",
         "[9350, 917, 12531, 4190, 772, 6012, 2296, 3123, 1197, 2053, 6451, 4645, 1646, 7053, 10238, 5155, 9393]"
        ],
        [
         "7",
         "[9350, 10173, 8889, 6666, 10579, 150, 1468, 4426, 5821, 5831, 8587, 12531, 10203, 12159, 3891, 7053, 12159, 2970, 7906, 6321]"
        ],
        [
         "8",
         "[9350, 12211, 12531, 2296, 6138, 7053, 10846, 6286, 2296, 10612, 5753, 9041]"
        ],
        [
         "9",
         "[9350, 7956, 5890, 4346, 12531, 1545, 1097, 9601, 12277, 4518, 12159, 9854, 8986, 1313, 6638, 5414, 6043, 12159]"
        ],
        [
         "10",
         "[9350, 2427, 9854, 3745, 9642, 10863, 10117, 6632, 6312, 13249, 7533, 1539, 537, 7674, 2327]"
        ],
        [
         "11",
         "[9350, 2296, 7835, 6912, 4026, 12159, 2119, 13036, 5538, 6284, 1814, 1373, 12159, 9041]"
        ],
        [
         "12",
         "[9350, 2053, 10117, 11213, 6666, 1745, 5898, 5753, 1880, 6710, 3957, 9136, 4207, 5051, 5414, 5639, 10692, 2296, 13266, 7053, 7534, 10607, 11289, 9136, 1138, 5051, 1855, 5753, 6465]"
        ],
        [
         "13",
         "[9350, 9977, 2296, 3522, 5396, 2413, 1573, 365, 4580, 12715, 5753, 7922, 11862, 4013, 6632, 5575, 5155, 9170, 874, 11714, 7053, 12159, 2970, 12320]"
        ],
        [
         "14",
         "[9350, 9122, 5753]"
        ],
        [
         "15",
         "[9350, 10759, 1171, 11336, 10117, 4695, 930, 12159]"
        ],
        [
         "16",
         "[9350, 2119, 12422, 1468, 9136, 9879, 11631, 8687, 8319, 440, 5414, 4293, 2296, 12182, 382, 5055, 10846, 1745, 6985, 3957, 1133, 9890, 12159, 4493]"
        ],
        [
         "17",
         "[9350, 2296, 12120, 9170, 4376, 5414, 10759, 108, 7160, 1545, 8355, 7053, 7894, 9303, 8964, 9136, 4661, 10646, 5414, 6030, 7004, 12125, 11289, 3911, 9814, 1539, 6043, 12159, 4649, 5753]"
        ],
        [
         "18",
         "[2296, 5396, 9350, 12159]"
        ],
        [
         "19",
         "[9350, 9854, 3745, 7707, 11658, 11375, 766, 13634, 3868, 11865, 2747, 7760, 5753, 5753, 5753, 5753, 5753, 5753, 5753, 2296, 3951, 5414, 3123, 10244, 7595, 9854, 12159]"
        ],
        [
         "20",
         "[9350, 384, 10154, 2413, 9879, 10969, 8964, 1126, 1494, 1346, 4254, 12042, 6284, 13632, 7003, 5876, 4013, 13605, 10154, 2253, 5414, 428, 3868, 3868, 3868]"
        ],
        [
         "21",
         "[9350, 2296, 12935, 2053, 9822, 12159, 11714, 7053, 12159, 2970, 3593, 11328]"
        ],
        [
         "22",
         "[9350, 2296, 12935, 6632, 9264, 240, 12159, 9854, 10154, 6666, 3750, 6638, 9344, 12159]"
        ],
        [
         "23",
         "[9350, 6170, 9854, 11375, 4166, 11865, 3119, 283, 9020, 10380, 1254, 2615, 4930, 3868]"
        ],
        [
         "24",
         "[9350, 9854, 7540, 1658, 3315, 9136, 10424, 12159, 12159, 2296, 587, 10424, 10244, 9136, 2780, 1545, 9854, 7540, 12379, 9136, 4661, 5155, 12159, 12159, 12159, 2296, 3951, 7116, 11121]"
        ],
        [
         "25",
         "[9350, 9952, 10585, 8303, 12159, 2296, 10667, 1545, 7956, 1040, 7318, 1346, 12355, 12159, 10059, 1545, 3039, 10244, 5448, 13544, 12159]"
        ],
        [
         "26",
         "[9350, 7707, 7154, 1847, 361, 861, 4979, 3868, 5753, 7898, 5635, 3590, 11289, 1847, 12970, 2119, 2296, 3745, 2296, 1646, 7053, 11375, 9206, 11180, 8060, 1468, 7227, 5182, 2956]"
        ],
        [
         "27",
         "[9350, 10612, 9854, 2766, 6043, 3868, 13456, 7053, 11879, 3032, 11961, 11375, 12747, 10882, 4930, 12159]"
        ],
        [
         "28",
         "[9350, 4346, 5414, 6043, 9642, 3032, 9497, 7053, 6436, 6063, 10756, 2685, 9170, 6632, 7203, 12159, 1197, 5277, 11398, 3440, 6703]"
        ],
        [
         "29",
         "[9350, 440, 5414, 8837, 7867, 4661, 11289, 6666, 3429, 935, 12159, 11213, 6666, 6663, 13385, 12159, 1696, 7723]"
        ],
        [
         "30",
         "[9350, 11367, 5753, 2296, 3405, 8820, 6666, 13198, 8551, 5051, 10244, 9854, 12531, 10846, 2296, 9497, 7053, 2651, 9136, 6196, 5448, 12159, 7533, 2296, 4262, 9136, 7867, 10363, 3651, 8319, 2306, 10223]"
        ],
        [
         "31",
         "[9350, 10154, 6632, 10290, 1539, 7175, 1468, 6632, 3791, 7898, 10759, 9642, 10154, 6443, 1196, 3552, 3868]"
        ],
        [
         "32",
         "[9350, 4649, 12531, 4992, 12914, 10000, 11289, 8319, 474, 5414, 440, 10996, 12159, 4661, 6666, 12159, 5448, 9040, 4524, 3086, 10692, 1789, 3872, 7898, 440, 5753]"
        ],
        [
         "33",
         "[9350, 2786, 9136, 3079, 13468, 7314, 12531, 3405, 11658, 4232, 5414, 92, 2413, 1196, 6355, 863, 11340, 10841]"
        ],
        [
         "34",
         "[9350, 2053, 10117, 1745, 13274, 5753, 9890, 9110, 8797, 7421, 5414, 13342, 1079, 10877, 1539, 334, 11714, 7053, 12159, 2970, 6524, 6465, 4406, 570, 13635, 6801]"
        ],
        [
         "35",
         "[9357, 8716, 9350, 5088, 10244, 6632, 11765, 9170, 5845, 5414, 418, 12159, 4707, 2579, 11714, 7053, 12159, 2970, 12995, 7298, 97]"
        ],
        [
         "36",
         "[9350, 13621, 10117, 6632, 7595, 6561, 5414, 3123, 5753, 7224, 2042, 9666, 5753, 13198, 1545, 6566, 12159, 4707]"
        ],
        [
         "37",
         "[9350, 458, 8030, 1545, 8030, 5753, 7224, 12924, 417, 12531, 8076, 5674, 5753]"
        ],
        [
         "38",
         "[9350, 5876, 9497, 2296, 2634, 9136, 8319, 5414, 13342, 3868, 3868]"
        ],
        [
         "39",
         "[9350, 2413, 8357, 4506, 10117, 13227, 12397, 11289, 2413, 12970, 11714, 7053, 12159, 2970, 3852, 3873]"
        ],
        [
         "40",
         "[9350, 3354, 1539, 7929, 4885, 8575, 12531, 6632, 8171, 2911, 12531, 1545, 6927, 9642, 10399, 8964, 6632, 668, 5753, 11714, 7053, 12159, 2970, 5275, 8823, 1008]"
        ],
        [
         "41",
         "[9350, 167, 12531, 9879, 6012, 10356, 7227, 7160, 12422, 5753, 10846, 2296, 3522, 5644, 6666, 9056, 6012, 2424, 9136, 7421, 6489, 5414, 9136, 6196, 6898, 12159, 4649, 3868]"
        ],
        [
         "42",
         "[9350, 10083, 4649, 6043, 13306, 9136, 4780, 336, 1468, 9136, 8319, 440, 3119, 6771, 5753, 5753, 5753]"
        ],
        [
         "43",
         "[9350, 2296, 9550, 9601, 4113, 13465, 10846, 3026, 5414, 6666, 356, 3259, 709, 9854, 13456, 7053, 3123, 12159, 5721, 9497, 2296, 3123, 10244, 9854, 10532, 7956, 10722, 3868, 2740]"
        ],
        [
         "44",
         "[9350, 10154, 7421, 10041, 6766, 1468, 9966, 11289, 6012, 11012, 3868]"
        ],
        [
         "45",
         "[9350, 2296, 3522, 7844, 1468, 6666, 6638, 2503, 9854, 1055, 5753, 5753]"
        ],
        [
         "46",
         "[9350, 11760, 11714, 7053, 12159, 2970, 9191, 3199, 11714, 7053, 12159, 2970, 5094, 7447]"
        ],
        [
         "47",
         "[9350, 8166, 2053, 3405, 2118, 9136, 3472]"
        ],
        [
         "48",
         "[9350, 9728, 4846, 9643, 108, 6784, 4338, 11700, 7885, 9728, 5753, 2296, 12429, 4846, 3012]"
        ],
        [
         "49",
         "[9350, 9728, 4846, 4013, 7972, 6296]"
        ]
       ],
       "shape": {
        "columns": 1,
        "rows": 14640
       }
      },
      "text/plain": [
       "0                         [9350, 7707, 10717, 1945, 12159]\n",
       "1        [9350, 5754, 9854, 12182, 6489, 9670, 5414, 66...\n",
       "2        [9350, 2296, 6138, 7053, 10996, 12159, 12159, ...\n",
       "3        [9350, 7956, 1040, 10173, 9361, 5414, 5113, 11...\n",
       "4        [9350, 1545, 7956, 1040, 6666, 10173, 4507, 83...\n",
       "                               ...                        \n",
       "14635    [8538, 7762, 9854, 3032, 12922, 11289, 6666, 5...\n",
       "14636    [8538, 10041, 1494, 7745, 11271, 8319, 12159, ...\n",
       "14637             [8538, 7760, 666, 538, 7073, 5414, 7189]\n",
       "14638    [8538, 9854, 9550, 9136, 7392, 12531, 9854, 76...\n",
       "14639    [8538, 3032, 9550, 1252, 2119, 3032, 8042, 374...\n",
       "Name: text, Length: 14640, dtype: object"
      ]
     },
     "execution_count": 25,
     "metadata": {},
     "output_type": "execute_result"
    }
   ],
   "source": [
    "text"
   ]
  },
  {
   "cell_type": "code",
   "execution_count": 26,
   "metadata": {},
   "outputs": [],
   "source": [
    "maxlen = max(len(x) for x in text)"
   ]
  },
  {
   "cell_type": "code",
   "execution_count": 27,
   "metadata": {},
   "outputs": [
    {
     "data": {
      "text/plain": [
       "40"
      ]
     },
     "execution_count": 27,
     "metadata": {},
     "output_type": "execute_result"
    }
   ],
   "source": [
    "maxlen"
   ]
  },
  {
   "cell_type": "code",
   "execution_count": 28,
   "metadata": {},
   "outputs": [],
   "source": [
    "#import torch.nn.utils.rnn as rnn_utils"
   ]
  },
  {
   "cell_type": "code",
   "execution_count": 29,
   "metadata": {},
   "outputs": [],
   "source": [
    "pad_text = [l + (maxlen-len(l))*[0] for l in text]"
   ]
  },
  {
   "cell_type": "code",
   "execution_count": 30,
   "metadata": {},
   "outputs": [],
   "source": [
    "pad_text = np.array(pad_text)"
   ]
  },
  {
   "cell_type": "code",
   "execution_count": 31,
   "metadata": {},
   "outputs": [
    {
     "data": {
      "text/plain": [
       "(14640, 40)"
      ]
     },
     "execution_count": 31,
     "metadata": {},
     "output_type": "execute_result"
    }
   ],
   "source": [
    "pad_text.shape"
   ]
  },
  {
   "cell_type": "code",
   "execution_count": 32,
   "metadata": {},
   "outputs": [],
   "source": [
    "labels = data.review.values"
   ]
  },
  {
   "cell_type": "code",
   "execution_count": 33,
   "metadata": {},
   "outputs": [
    {
     "data": {
      "text/plain": [
       "(14640,)"
      ]
     },
     "execution_count": 33,
     "metadata": {},
     "output_type": "execute_result"
    }
   ],
   "source": [
    "labels.shape"
   ]
  },
  {
   "cell_type": "code",
   "execution_count": 34,
   "metadata": {},
   "outputs": [],
   "source": [
    "from sklearn.model_selection import train_test_split"
   ]
  },
  {
   "cell_type": "code",
   "execution_count": 35,
   "metadata": {},
   "outputs": [],
   "source": [
    "x_train, x_test, y_train, y_test = train_test_split(pad_text, labels)"
   ]
  },
  {
   "cell_type": "code",
   "execution_count": 36,
   "metadata": {},
   "outputs": [
    {
     "data": {
      "text/plain": [
       "((10980, 40), (3660, 40), (10980,))"
      ]
     },
     "execution_count": 36,
     "metadata": {},
     "output_type": "execute_result"
    }
   ],
   "source": [
    "x_train.shape, x_test.shape, y_train.shape"
   ]
  },
  {
   "cell_type": "markdown",
   "metadata": {},
   "source": [
    "创建 dataset"
   ]
  },
  {
   "cell_type": "code",
   "execution_count": 37,
   "metadata": {},
   "outputs": [],
   "source": [
    "class Mydataset(torch.utils.data.Dataset):\n",
    "    def __init__(self, text_list, label_list):\n",
    "        self.text_list = text_list\n",
    "        self.label_list = label_list\n",
    "        \n",
    "    def __getitem__(self, index):\n",
    "        text = torch.LongTensor(self.text_list[index])\n",
    "        label = self.label_list[index]\n",
    "        return text, label\n",
    "\n",
    "    def __len__(self):\n",
    "        return len(self.text_list)"
   ]
  },
  {
   "cell_type": "code",
   "execution_count": 38,
   "metadata": {},
   "outputs": [],
   "source": [
    "train_ds = Mydataset(x_train, y_train)\n",
    "test_ds = Mydataset(x_test, y_test)"
   ]
  },
  {
   "cell_type": "code",
   "execution_count": 39,
   "metadata": {},
   "outputs": [],
   "source": [
    "BTACH_SIZE = 16"
   ]
  },
  {
   "cell_type": "code",
   "execution_count": 40,
   "metadata": {},
   "outputs": [],
   "source": [
    "train_dl = torch.utils.data.DataLoader(\n",
    "                                       train_ds,\n",
    "                                       batch_size=BTACH_SIZE,\n",
    "                                       shuffle=True\n",
    ")"
   ]
  },
  {
   "cell_type": "code",
   "execution_count": 41,
   "metadata": {},
   "outputs": [],
   "source": [
    "test_dl = torch.utils.data.DataLoader(\n",
    "                                       test_ds,\n",
    "                                       batch_size=BTACH_SIZE\n",
    ")"
   ]
  },
  {
   "cell_type": "markdown",
   "metadata": {},
   "source": [
    "Embeding : 把文本映射为一个密集向量"
   ]
  },
  {
   "cell_type": "code",
   "execution_count": 42,
   "metadata": {},
   "outputs": [],
   "source": [
    "class Net(nn.Module):\n",
    "    def __init__(self):\n",
    "        super(Net, self).__init__()\n",
    "        self.em = nn.Embedding(max_word, 100)   # batch*maxlen*100\n",
    "        self.fc1 = nn.Linear(maxlen*100, 1024)\n",
    "        self.fc2 = nn.Linear(1024, 3)\n",
    "\n",
    "    def forward(self, x):\n",
    "        x = self.em(x)\n",
    "        x = x.view(x.size(0), -1)\n",
    "        x = F.relu(self.fc1(x))\n",
    "        x = self.fc2(x)\n",
    "        return x"
   ]
  },
  {
   "cell_type": "code",
   "execution_count": 43,
   "metadata": {},
   "outputs": [],
   "source": [
    "model = Net().to(device)"
   ]
  },
  {
   "cell_type": "code",
   "execution_count": 44,
   "metadata": {},
   "outputs": [],
   "source": [
    "loss_fn = nn.CrossEntropyLoss()\n",
    "optimizer = torch.optim.Adam(model.parameters(), lr=0.001)"
   ]
  },
  {
   "cell_type": "code",
   "execution_count": 45,
   "metadata": {},
   "outputs": [],
   "source": [
    "def fit(epoch, model, trainloader, testloader):\n",
    "    correct = 0\n",
    "    total = 0\n",
    "    running_loss = 0\n",
    "    \n",
    "    model.train()\n",
    "    for x, y in trainloader:\n",
    "        if torch.cuda.is_available():\n",
    "                x, y = x.to('cuda'), y.to('cuda')\n",
    "        # x, y = x.to(device), y.to(device)\n",
    "        y_pred = model(x)\n",
    "        loss = loss_fn(y_pred, y)\n",
    "        optimizer.zero_grad()\n",
    "        loss.backward()\n",
    "        optimizer.step()\n",
    "        with torch.no_grad():\n",
    "            y_pred = torch.argmax(y_pred, dim=1)\n",
    "            correct += (y_pred == y).sum().item()\n",
    "            total += y.size(0)\n",
    "            running_loss += loss.item()\n",
    "#    exp_lr_scheduler.step()\n",
    "    epoch_loss = running_loss / len(trainloader.dataset)\n",
    "    epoch_acc = correct / total\n",
    "        \n",
    "        \n",
    "    test_correct = 0\n",
    "    test_total = 0\n",
    "    test_running_loss = 0 \n",
    "    \n",
    "    model.eval()\n",
    "    with torch.no_grad():\n",
    "        for x, y in testloader:\n",
    "            x, y = x.to(device), y.to(device)\n",
    "            y_pred = model(x)\n",
    "            loss = loss_fn(y_pred, y)\n",
    "            y_pred = torch.argmax(y_pred, dim=1)\n",
    "            test_correct += (y_pred == y).sum().item()\n",
    "            test_total += y.size(0)\n",
    "            test_running_loss += loss.item()\n",
    "    \n",
    "    epoch_test_loss = test_running_loss / len(testloader.dataset)\n",
    "    epoch_test_acc = test_correct / test_total\n",
    "    \n",
    "        \n",
    "    print('epoch: ', epoch, \n",
    "          'loss： ', round(epoch_loss, 3),\n",
    "          'accuracy:', round(epoch_acc, 3),\n",
    "          'test_loss： ', round(epoch_test_loss, 3),\n",
    "          'test_accuracy:', round(epoch_test_acc, 3)\n",
    "             )\n",
    "        \n",
    "    return epoch_loss, epoch_acc, epoch_test_loss, epoch_test_acc"
   ]
  },
  {
   "cell_type": "code",
   "execution_count": 46,
   "metadata": {},
   "outputs": [],
   "source": [
    "epochs = 10"
   ]
  },
  {
   "cell_type": "code",
   "execution_count": 47,
   "metadata": {},
   "outputs": [
    {
     "name": "stdout",
     "output_type": "stream",
     "text": [
      "epoch:  0 loss：  0.049 accuracy: 0.675 test_loss：  0.044 test_accuracy: 0.704\n",
      "epoch:  1 loss：  0.036 accuracy: 0.759 test_loss：  0.043 test_accuracy: 0.732\n",
      "epoch:  2 loss：  0.025 accuracy: 0.837 test_loss：  0.046 test_accuracy: 0.737\n",
      "epoch:  3 loss：  0.016 accuracy: 0.903 test_loss：  0.055 test_accuracy: 0.717\n",
      "epoch:  4 loss：  0.01 accuracy: 0.936 test_loss：  0.064 test_accuracy: 0.74\n",
      "epoch:  5 loss：  0.007 accuracy: 0.961 test_loss：  0.084 test_accuracy: 0.752\n",
      "epoch:  6 loss：  0.005 accuracy: 0.973 test_loss：  0.09 test_accuracy: 0.734\n",
      "epoch:  7 loss：  0.004 accuracy: 0.98 test_loss：  0.101 test_accuracy: 0.736\n",
      "epoch:  8 loss：  0.003 accuracy: 0.986 test_loss：  0.107 test_accuracy: 0.747\n",
      "epoch:  9 loss：  0.003 accuracy: 0.986 test_loss：  0.123 test_accuracy: 0.739\n"
     ]
    }
   ],
   "source": [
    "train_loss = []\n",
    "train_acc = []\n",
    "test_loss = []\n",
    "test_acc = []\n",
    "\n",
    "for epoch in range(epochs):\n",
    "    epoch_loss, epoch_acc, epoch_test_loss, epoch_test_acc = fit(epoch,\n",
    "                                                                 model,\n",
    "                                                                 train_dl,\n",
    "                                                                 test_dl)\n",
    "    train_loss.append(epoch_loss)\n",
    "    train_acc.append(epoch_acc)\n",
    "    test_loss.append(epoch_test_loss)\n",
    "    test_acc.append(epoch_test_acc)"
   ]
  },
  {
   "cell_type": "code",
   "execution_count": 48,
   "metadata": {},
   "outputs": [
    {
     "data": {
      "text/plain": [
       "<matplotlib.legend.Legend at 0x1d81fcff9d0>"
      ]
     },
     "execution_count": 48,
     "metadata": {},
     "output_type": "execute_result"
    },
    {
     "data": {
      "image/png": "[encoded data removed]",
      "text/plain": [
       "<Figure size 640x480 with 1 Axes>"
      ]
     },
     "metadata": {},
     "output_type": "display_data"
    }
   ],
   "source": [
    "plt.plot(range(epochs), train_acc, c='r', label='train_acc')\n",
    "plt.plot(range(epochs), test_acc, c='b', label='test_loss')\n",
    "plt.legend()"
   ]
  },
  {
   "cell_type": "code",
   "execution_count": 49,
   "metadata": {},
   "outputs": [
    {
     "data": {
      "text/plain": [
       "<matplotlib.legend.Legend at 0x1d820d53760>"
      ]
     },
     "execution_count": 49,
     "metadata": {},
     "output_type": "execute_result"
    },
    {
     "data": {
      "image/png": "[encoded data removed]",
      "text/plain": [
       "<Figure size 640x480 with 1 Axes>"
      ]
     },
     "metadata": {},
     "output_type": "display_data"
    }
   ],
   "source": [
    "plt.plot(range(epochs), train_loss, c='r', label='train_loss')\n",
    "plt.plot(range(epochs), test_loss, c='b', label='test_loss')\n",
    "plt.legend()"
   ]
  },
  {
   "cell_type": "markdown",
   "metadata": {},
   "source": [
    "# 使用LSTM"
   ]
  },
  {
   "cell_type": "code",
   "execution_count": 50,
   "metadata": {},
   "outputs": [],
   "source": [
    "class Net(nn.Module):\n",
    "    def __init__(self):\n",
    "        super(Net, self).__init__()\n",
    "        self.em = nn.Embedding(max_word, 100)   # batch*maxlen*100\n",
    "        self.lstm = nn.LSTM(100, 200, batch_first=True)\n",
    "        self.fc1 = nn.Linear(200, 256)\n",
    "        self.fc2 = nn.Linear(256, 3)\n",
    "\n",
    "    def forward(self, x):\n",
    "        x = self.em(x)\n",
    "        x, _ = self.lstm(x)\n",
    "        x = F.relu(self.fc1(x[:, -1, :]))\n",
    "        x = self.fc2(x)\n",
    "        return x"
   ]
  },
  {
   "cell_type": "code",
   "execution_count": 51,
   "metadata": {},
   "outputs": [],
   "source": [
    "model = Net().to(device)"
   ]
  },
  {
   "cell_type": "code",
   "execution_count": 52,
   "metadata": {},
   "outputs": [],
   "source": [
    "loss_fn = nn.CrossEntropyLoss()\n",
    "optimizer = torch.optim.Adam(model.parameters(), lr=0.001)"
   ]
  },
  {
   "cell_type": "code",
   "execution_count": 53,
   "metadata": {},
   "outputs": [],
   "source": [
    "epochs = 20"
   ]
  },
  {
   "cell_type": "code",
   "execution_count": 54,
   "metadata": {},
   "outputs": [
    {
     "name": "stdout",
     "output_type": "stream",
     "text": [
      "epoch:  0 loss：  0.058 accuracy: 0.627 test_loss：  0.058 test_accuracy: 0.626\n",
      "epoch:  1 loss：  0.057 accuracy: 0.627 test_loss：  0.058 test_accuracy: 0.626\n",
      "epoch:  2 loss：  0.057 accuracy: 0.627 test_loss：  0.057 test_accuracy: 0.626\n",
      "epoch:  3 loss：  0.057 accuracy: 0.627 test_loss：  0.058 test_accuracy: 0.626\n",
      "epoch:  4 loss：  0.057 accuracy: 0.628 test_loss：  0.058 test_accuracy: 0.626\n",
      "epoch:  5 loss：  0.057 accuracy: 0.628 test_loss：  0.058 test_accuracy: 0.626\n",
      "epoch:  6 loss：  0.057 accuracy: 0.628 test_loss：  0.058 test_accuracy: 0.626\n",
      "epoch:  7 loss：  0.052 accuracy: 0.654 test_loss：  0.043 test_accuracy: 0.731\n",
      "epoch:  8 loss：  0.036 accuracy: 0.778 test_loss：  0.037 test_accuracy: 0.776\n",
      "epoch:  9 loss：  0.026 accuracy: 0.842 test_loss：  0.036 test_accuracy: 0.783\n",
      "epoch:  10 loss：  0.019 accuracy: 0.891 test_loss：  0.041 test_accuracy: 0.779\n",
      "epoch:  11 loss：  0.013 accuracy: 0.931 test_loss：  0.046 test_accuracy: 0.772\n",
      "epoch:  12 loss：  0.009 accuracy: 0.957 test_loss：  0.05 test_accuracy: 0.777\n",
      "epoch:  13 loss：  0.006 accuracy: 0.973 test_loss：  0.059 test_accuracy: 0.779\n",
      "epoch:  14 loss：  0.004 accuracy: 0.985 test_loss：  0.066 test_accuracy: 0.771\n",
      "epoch:  15 loss：  0.004 accuracy: 0.984 test_loss：  0.067 test_accuracy: 0.768\n",
      "epoch:  16 loss：  0.003 accuracy: 0.988 test_loss：  0.073 test_accuracy: 0.77\n",
      "epoch:  17 loss：  0.002 accuracy: 0.99 test_loss：  0.077 test_accuracy: 0.769\n",
      "epoch:  18 loss：  0.002 accuracy: 0.991 test_loss：  0.085 test_accuracy: 0.766\n",
      "epoch:  19 loss：  0.002 accuracy: 0.99 test_loss：  0.089 test_accuracy: 0.769\n"
     ]
    }
   ],
   "source": [
    "train_loss = []\n",
    "train_acc = []\n",
    "test_loss = []\n",
    "test_acc = []\n",
    "\n",
    "for epoch in range(epochs):\n",
    "    epoch_loss, epoch_acc, epoch_test_loss, epoch_test_acc = fit(epoch,\n",
    "                                                                 model,\n",
    "                                                                 train_dl,\n",
    "                                                                 test_dl)\n",
    "    train_loss.append(epoch_loss)\n",
    "    train_acc.append(epoch_acc)\n",
    "    test_loss.append(epoch_test_loss)\n",
    "    test_acc.append(epoch_test_acc)"
   ]
  },
  {
   "cell_type": "code",
   "execution_count": 55,
   "metadata": {},
   "outputs": [
    {
     "data": {
      "text/plain": [
       "<matplotlib.legend.Legend at 0x1d820dc21c0>"
      ]
     },
     "execution_count": 55,
     "metadata": {},
     "output_type": "execute_result"
    },
    {
     "data": {
      "image/png": "[encoded data removed]",
      "text/plain": [
       "<Figure size 640x480 with 1 Axes>"
      ]
     },
     "metadata": {},
     "output_type": "display_data"
    }
   ],
   "source": [
    "plt.plot(range(epochs), train_acc, c='r', label='train_acc')\n",
    "plt.plot(range(epochs), test_acc, c='b', label='test_loss')\n",
    "plt.legend()"
   ]
  },
  {
   "cell_type": "code",
   "execution_count": 56,
   "metadata": {},
   "outputs": [
    {
     "data": {
      "text/plain": [
       "<matplotlib.legend.Legend at 0x1d820d53340>"
      ]
     },
     "execution_count": 56,
     "metadata": {},
     "output_type": "execute_result"
    },
    {
     "data": {
      "image/png": "[encoded data removed]",
      "text/plain": [
       "<Figure size 640x480 with 1 Axes>"
      ]
     },
     "metadata": {},
     "output_type": "display_data"
    }
   ],
   "source": [
    "plt.plot(range(epochs), train_loss, c='r', label='train_loss')\n",
    "plt.plot(range(epochs), test_loss, c='b', label='test_loss')\n",
    "plt.legend()"
   ]
  }
 ],
 "metadata": {
  "kernelspec": {
   "display_name": "pytorch1.7.1",
   "language": "python",
   "name": "pytorch1.7.1"
  },
  "language_info": {
   "codemirror_mode": {
    "name": "ipython",
    "version": 3
   },
   "file_extension": ".py",
   "mimetype": "text/x-python",
   "name": "python",
   "nbconvert_exporter": "python",
   "pygments_lexer": "ipython3",
   "version": "3.8.18"
  }
 },
 "nbformat": 4,
 "nbformat_minor": 2
}
