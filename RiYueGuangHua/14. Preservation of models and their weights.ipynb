{
 "cells": [
  {
   "cell_type": "markdown",
   "metadata": {},
   "source": [
    "# 模型及其权重的保存和加载"
   ]
  },
  {
   "cell_type": "markdown",
   "metadata": {},
   "source": [
    "## 导入库"
   ]
  },
  {
   "cell_type": "code",
   "execution_count": 1,
   "metadata": {},
   "outputs": [],
   "source": [
    "import torch\n",
    "import torch.nn as nn\n",
    "import torch.nn.functional as F\n",
    "import torch.optim as optim\n",
    "import numpy as np\n",
    "import matplotlib.pyplot as plt\n",
    "%matplotlib inline\n",
    "import torchvision\n",
    "import os"
   ]
  },
  {
   "cell_type": "markdown",
   "metadata": {},
   "source": [
    "## 读取图片"
   ]
  },
  {
   "cell_type": "code",
   "execution_count": 2,
   "metadata": {},
   "outputs": [],
   "source": [
    "from torchvision import transforms\n",
    "\n",
    "# 定义数据增强方法\n",
    "train_transform = transforms.Compose([\n",
    "    transforms.Resize(112),                       # 将图片缩放到112\n",
    "    transforms.RandomCrop(96),                    # 随机裁剪96\n",
    "    transforms.RandomHorizontalFlip(),            # 随机水平翻转，默认概率为0.5\n",
    "    transforms.RandomRotation(0.2),               # 随机旋转0.2弧度\n",
    "    transforms.ColorJitter(brightness=0.5),       # 亮度调整\n",
    "    transforms.ColorJitter(contrast=0.5),         # 对比度调整\n",
    "    transforms.ToTensor(),                        # 将图片转换为张量\n",
    "    transforms.Normalize(mean=[0.5, 0.5, 0.5],\n",
    "                        std=[0.5, 0.5, 0.5])      # 将图片的每个通道的像素值减去均值，再除以标准差，使像素值均值为0，标准差为1\n",
    "])\n",
    "\n",
    "# 测试集不需要数据增强\n",
    "test_transform = transforms.Compose([\n",
    "    transforms.Resize((96, 96)),                # 将图片缩放到96，96\n",
    "    transforms.ToTensor(),                        # 将图片转换为张量\n",
    "    transforms.Normalize(mean=[0.5, 0.5, 0.5],\n",
    "                        std=[0.5, 0.5, 0.5])      # 将图片的每个通道的像素值减去均值，再除以标准差，使像素值均值为0，标准差为1\n",
    "])"
   ]
  },
  {
   "cell_type": "code",
   "execution_count": 3,
   "metadata": {},
   "outputs": [],
   "source": [
    "base_dir = r'./dataset/4weather'\n",
    "train_dir = os.path.join(base_dir , 'train')\n",
    "test_dir = os.path.join(base_dir , 'test')\n",
    "# 读取训练集和测试集的图片\n",
    "train_ds = torchvision.datasets.ImageFolder(\n",
    "               train_dir,\n",
    "               transform=train_transform\n",
    ")\n",
    "test_ds = torchvision.datasets.ImageFolder(\n",
    "               test_dir,\n",
    "               transform=test_transform\n",
    ")"
   ]
  },
  {
   "cell_type": "markdown",
   "metadata": {},
   "source": [
    "## 加载数据"
   ]
  },
  {
   "cell_type": "code",
   "execution_count": 4,
   "metadata": {},
   "outputs": [],
   "source": [
    "# 加载数据集，划分批次\n",
    "torch.backends.cudnn.benchmark = True           # 开启CUDNN加速\n",
    "BATCHSIZE = 32\n",
    "train_dl = torch.utils.data.DataLoader(\n",
    "                                       train_ds,\n",
    "                                       batch_size=BATCHSIZE,\n",
    "                                       shuffle=True,\n",
    "                                       num_workers=2,           # 使用2个进程加载数据\n",
    "                                       prefetch_factor=2,       # 预取的批次数量，默认为2\n",
    "                                       pin_memory=True,         # 将数据固定在GPU内存中，加速数据传输\n",
    "                                       persistent_workers=True, # 持久化加载器，在数据加载器关闭后，仍然保持进程运行，提高数据加载效率\n",
    "\n",
    ")\n",
    "test_dl = torch.utils.data.DataLoader(\n",
    "                                       test_ds,\n",
    "                                       batch_size=BATCHSIZE,\n",
    "                                       num_workers=2,           # 使用2个进程加载数据\n",
    "                                       prefetch_factor=2,       # 预取的批次数量，默认为2\n",
    "                                       pin_memory=True,         # 将数据固定在GPU内存中，加速数据传输\n",
    "                                       persistent_workers=True, # 持久化加载器，在数据加载器关闭后，仍然保持进程运行，提高数据加载效率\n",
    ")"
   ]
  },
  {
   "cell_type": "markdown",
   "metadata": {},
   "source": [
    "## 构建模型"
   ]
  },
  {
   "cell_type": "code",
   "execution_count": 5,
   "metadata": {},
   "outputs": [],
   "source": [
    "class Model(nn.Module):\n",
    "    def __init__(self):\n",
    "        super(Model, self).__init__()\n",
    "        self.conv1 = nn.Conv2d(in_channels=3, out_channels=16, kernel_size=3)\n",
    "        self.bn1 = nn.BatchNorm2d(num_features=16)                            # 在conv层之后添加BatchNorm层，num_features为卷积层的输出通道数\n",
    "        self.conv2 = nn.Conv2d(in_channels=16, out_channels=32, kernel_size=3)\n",
    "        self.bn2 = nn.BatchNorm2d(num_features=32)\n",
    "        self.conv3 = nn.Conv2d(in_channels=32, out_channels=64, kernel_size=3)\n",
    "        self.bn3 = nn.BatchNorm2d(num_features=64)\n",
    "        self.pool = nn.MaxPool2d(kernel_size=2, stride=2)\n",
    "        self.drop = nn.Dropout(0.3)                         # 在linker层之间添加dropout层：随机丢弃30%的神经元，防止过拟合\n",
    "        self.fc1 = nn.Linear(64*10*10, 1024)                # 64*10*10\n",
    "        self.bn_fc1 = nn.BatchNorm1d(num_features=1024)     # 在linker层之后添加BatchNorm层，num_features为linker层的输出通道数\n",
    "        self.fc2 = nn.Linear(1024, 256)\n",
    "        self.bn_fc2 = nn.BatchNorm1d(num_features=256)\n",
    "        self.fc3 = nn.Linear(256, 4)\n",
    "\n",
    "    def forward(self, x):\n",
    "        x = F.relu(self.conv1(x))\n",
    "        x = self.pool(x)\n",
    "        x = self.bn1(x)\n",
    "\n",
    "        x = F.relu(self.conv2(x))\n",
    "        x = self.pool(x)\n",
    "        x = self.bn2(x)\n",
    "\n",
    "        x = F.relu(self.conv3(x))\n",
    "        x = self.pool(x)\n",
    "        x = self.bn3(x)\n",
    "\n",
    "        # print(x.size())     # [batch, channel, hight, width]   [16, 64, 10, 10]\n",
    "\n",
    "        x = x.view(-1, 64*10*10)       # 64*10*10\n",
    "        x = F.relu(self.fc1(x))\n",
    "        x = self.bn_fc1(x)\n",
    "        x = self.drop(x)            # linear层之间添加dropout层\n",
    "        x = F.relu(self.fc2(x))\n",
    "        x = self.bn_fc2(x)\n",
    "        x = self.drop(x)            # linear层之间添加dropout层\n",
    "        x = self.fc3(x)\n",
    "        return x\n",
    "        "
   ]
  },
  {
   "cell_type": "markdown",
   "metadata": {},
   "source": [
    "## 训练模型"
   ]
  },
  {
   "cell_type": "code",
   "execution_count": 6,
   "metadata": {},
   "outputs": [
    {
     "name": "stdout",
     "output_type": "stream",
     "text": [
      "Epoch: 0, Train Loss: 0.8744, Train Acc: 66.11%, Test Loss: 0.7157, Test Acc: 65.78%\n",
      "Epoch: 1, Train Loss: 0.6569, Train Acc: 76.67%, Test Loss: 0.3873, Test Acc: 87.56%\n",
      "Epoch: 2, Train Loss: 0.5806, Train Acc: 78.89%, Test Loss: 0.4164, Test Acc: 84.00%\n",
      "Epoch: 3, Train Loss: 0.5766, Train Acc: 79.89%, Test Loss: 0.3285, Test Acc: 85.78%\n",
      "Epoch: 4, Train Loss: 0.5071, Train Acc: 82.00%, Test Loss: 0.4288, Test Acc: 84.00%\n",
      "Epoch: 5, Train Loss: 0.4599, Train Acc: 82.11%, Test Loss: 0.4430, Test Acc: 80.00%\n",
      "Epoch: 6, Train Loss: 0.4215, Train Acc: 84.44%, Test Loss: 0.3248, Test Acc: 86.67%\n",
      "Epoch: 7, Train Loss: 0.4589, Train Acc: 84.11%, Test Loss: 0.3129, Test Acc: 89.33%\n",
      "Epoch: 8, Train Loss: 0.3816, Train Acc: 85.22%, Test Loss: 0.2927, Test Acc: 88.89%\n",
      "Epoch: 9, Train Loss: 0.3009, Train Acc: 87.78%, Test Loss: 0.3262, Test Acc: 86.67%\n"
     ]
    }
   ],
   "source": [
    "# 训练前准备，定义模型、损失函数、优化器\n",
    "device = torch.device('cuda' if torch.cuda.is_available() else 'cpu') # 判断是否有GPU，如果有则使用GPU，否则使用CPU\n",
    "model = Model().to(device) # 将已实例化的模型移动到GPU上\n",
    "\n",
    "loss_fn = torch.nn.CrossEntropyLoss()  # 损失函数，交叉熵损失函数，使用未激活的输出作为输入，内置了softmax函数为激活函数，输出为每个类别的概率\n",
    "opt = torch.optim.Adam(model.parameters(), lr=0.001) # 优化器，Adam优化器，学习率为0.001\n",
    "epochs = 10\n",
    "\n",
    "# 通用训练模板，输入模型、训练数据、测试数据，返回loss和acc变化\n",
    "# 训练函数\n",
    "def train(train_dl, model, loss_fn, opt):\n",
    "    size = len(train_dl.dataset) # 获取数据集的大小\n",
    "    num_batches = len(train_dl) # 获取数据集的批次数量\n",
    "\n",
    "    train_loss = 0.0 # 训练集损失\n",
    "    train_acc = 0.0 # 训练集准确率\n",
    "\n",
    "    for x, y in train_dl: # 遍历数据集\n",
    "        x, y = x.to(device), y.to(device) # 将数据移动到GPU上\n",
    "\n",
    "        pred = model(x) # 前向传播\n",
    "        loss = loss_fn(pred, y) # 计算损失\n",
    "\n",
    "        opt.zero_grad() # 梯度清零\n",
    "        loss.backward() # 反向传播\n",
    "        opt.step() # 更新参数\n",
    "\n",
    "        with torch.no_grad(): # 不计算梯度\n",
    "            train_loss += loss.item() # 计算损失\n",
    "            train_acc += (pred.argmax(dim=1) == y).type(torch.float).sum().item() # 计算准确率\n",
    "\n",
    "    train_loss /= num_batches # 计算平均损失\n",
    "    train_acc /= size # 计算平均准确率\n",
    "\n",
    "    return train_loss, train_acc\n",
    "\n",
    "# 测试函数\n",
    "def test(test_dl, model, loss_fn):\n",
    "    size = len(test_dl.dataset) # 获取数据集的大小\n",
    "    num_batches = len(test_dl) # 获取数据集的批次数量\n",
    "\n",
    "    test_loss = 0.0 # 测试集损失\n",
    "    test_acc = 0.0 # 测试集准确率\n",
    "\n",
    "    with torch.no_grad(): # 不计算梯度\n",
    "        for x, y in test_dl: # 遍历数据集\n",
    "            x, y = x.to(device), y.to(device) # 将数据移动到GPU上\n",
    "\n",
    "            pred = model(x) # 前向传播\n",
    "            loss = loss_fn(pred, y) # 计算损失\n",
    "            test_loss += loss.item() # 计算损失\n",
    "            test_acc += (pred.argmax(dim=1) == y).type(torch.float).sum().item() # 计算准确率\n",
    "\n",
    "    test_loss /= num_batches # 计算平均损失\n",
    "    test_acc /= size # 计算平均准确率\n",
    "\n",
    "    return test_loss, test_acc\n",
    "\n",
    "# 训练函数\n",
    "def fit(epochs, model, train_dl, test_dl, loss_fn, opt):\n",
    "    train_loss = []\n",
    "    train_acc = []\n",
    "    test_loss = []\n",
    "    test_acc = []\n",
    "\n",
    "    print_template = 'Epoch: {}, Train Loss: {:.4f}, Train Acc: {:.2f}%, Test Loss: {:.4f}, Test Acc: {:.2f}%'\n",
    "\n",
    "\n",
    "    for epoch in range(epochs):\n",
    "        model.train() # 设置模型为训练模式，启用dropout层\n",
    "        epoch_train_loss, epoch_train_acc = train(train_dl, model, loss_fn, opt)\n",
    "        model.eval() # 设置模型为评估预测模式，禁用dropout层\n",
    "        epoch_test_loss, epoch_test_acc = test(test_dl, model, loss_fn)\n",
    "\n",
    "        train_loss.append(epoch_train_loss)\n",
    "        train_acc.append(epoch_train_acc)\n",
    "        test_loss.append(epoch_test_loss)\n",
    "        test_acc.append(epoch_test_acc)\n",
    "\n",
    "        print(print_template.format(epoch, epoch_train_loss, epoch_train_acc * 100, epoch_test_loss, epoch_test_acc * 100))\n",
    "\n",
    "    return train_loss, train_acc, test_loss, test_acc\n",
    "\n",
    "# 训练\n",
    "train_loss, train_acc, test_loss, test_acc = fit(epochs, model, train_dl, test_dl, loss_fn, opt)"
   ]
  },
  {
   "cell_type": "markdown",
   "metadata": {},
   "source": [
    "## 可视化训练结果"
   ]
  },
  {
   "cell_type": "code",
   "execution_count": 7,
   "metadata": {},
   "outputs": [
    {
     "data": {
      "text/plain": [
       "<matplotlib.legend.Legend at 0x24130a11fd0>"
      ]
     },
     "execution_count": 7,
     "metadata": {},
     "output_type": "execute_result"
    },
    {
     "data": {
      "image/png": "[encoded data removed]",
      "text/plain": [
       "<Figure size 640x480 with 1 Axes>"
      ]
     },
     "metadata": {},
     "output_type": "display_data"
    }
   ],
   "source": [
    "plt.plot(range(1, epochs+1), train_loss, label='train_loss')\n",
    "plt.plot(range(1, epochs+1), test_loss, label='test_loss')\n",
    "plt.legend()"
   ]
  },
  {
   "cell_type": "code",
   "execution_count": 8,
   "metadata": {},
   "outputs": [
    {
     "data": {
      "text/plain": [
       "<matplotlib.legend.Legend at 0x24130a6ac70>"
      ]
     },
     "execution_count": 8,
     "metadata": {},
     "output_type": "execute_result"
    },
    {
     "data": {
      "image/png": "[encoded data removed]",
      "text/plain": [
       "<Figure size 640x480 with 1 Axes>"
      ]
     },
     "metadata": {},
     "output_type": "display_data"
    }
   ],
   "source": [
    "plt.plot(range(1, epochs+1), train_acc, label='train_acc')\n",
    "plt.plot(range(1, epochs+1), test_acc, label='test_acc')\n",
    "plt.legend()"
   ]
  },
  {
   "cell_type": "markdown",
   "metadata": {},
   "source": [
    "## 保存和加载模型"
   ]
  },
  {
   "cell_type": "code",
   "execution_count": 9,
   "metadata": {},
   "outputs": [],
   "source": [
    "# 保存模型\n",
    "model_path = './model/custom_model_for_4weather.pth'\n",
    "torch.save(model.state_dict(), model_path) # 保存模型参数"
   ]
  },
  {
   "cell_type": "code",
   "execution_count": 10,
   "metadata": {},
   "outputs": [
    {
     "data": {
      "text/plain": [
       "Model(\n",
       "  (conv1): Conv2d(3, 16, kernel_size=(3, 3), stride=(1, 1))\n",
       "  (bn1): BatchNorm2d(16, eps=1e-05, momentum=0.1, affine=True, track_running_stats=True)\n",
       "  (conv2): Conv2d(16, 32, kernel_size=(3, 3), stride=(1, 1))\n",
       "  (bn2): BatchNorm2d(32, eps=1e-05, momentum=0.1, affine=True, track_running_stats=True)\n",
       "  (conv3): Conv2d(32, 64, kernel_size=(3, 3), stride=(1, 1))\n",
       "  (bn3): BatchNorm2d(64, eps=1e-05, momentum=0.1, affine=True, track_running_stats=True)\n",
       "  (pool): MaxPool2d(kernel_size=2, stride=2, padding=0, dilation=1, ceil_mode=False)\n",
       "  (drop): Dropout(p=0.3, inplace=False)\n",
       "  (fc1): Linear(in_features=6400, out_features=1024, bias=True)\n",
       "  (bn_fc1): BatchNorm1d(1024, eps=1e-05, momentum=0.1, affine=True, track_running_stats=True)\n",
       "  (fc2): Linear(in_features=1024, out_features=256, bias=True)\n",
       "  (bn_fc2): BatchNorm1d(256, eps=1e-05, momentum=0.1, affine=True, track_running_stats=True)\n",
       "  (fc3): Linear(in_features=256, out_features=4, bias=True)\n",
       ")"
      ]
     },
     "execution_count": 10,
     "metadata": {},
     "output_type": "execute_result"
    }
   ],
   "source": [
    "# 加载模型\n",
    "device = torch.device('cuda' if torch.cuda.is_available() else 'cpu') # 判断是否有GPU，如果有则使用GPU，否则使用CPU\n",
    "load_model = Model()\n",
    "# load_model.load_state_dict(torch.load(model_path)) # 加载模型参数\n",
    "load_model.load_state_dict(torch.load(model_path, map_location=device)) # 跨设备加载模型参数，map_location参数指定加载模型参数的设备，如'cpu'或'cuda'\n",
    "load_model.to(device) # 将模型移动到GPU上"
   ]
  },
  {
   "cell_type": "code",
   "execution_count": 11,
   "metadata": {},
   "outputs": [
    {
     "name": "stdout",
     "output_type": "stream",
     "text": [
      "0.8666666666666667\n"
     ]
    }
   ],
   "source": [
    "# 测试载入的模型\n",
    "test_correct = 0\n",
    "test_total = 0\n",
    "\n",
    "load_model.eval()\n",
    "\n",
    "with torch.no_grad():\n",
    "    for x, y in test_dl:\n",
    "        x, y = x.to(device), y.to(device) # 将数据移动到GPU上\n",
    "        y_pred = load_model(x)\n",
    "        y_pred = torch.argmax(y_pred, dim=1)\n",
    "        test_correct += (y_pred == y).sum().item()\n",
    "        test_total += y.size(0)\n",
    "    \n",
    "epoch_test_acc = test_correct / test_total\n",
    "print(epoch_test_acc)"
   ]
  },
  {
   "cell_type": "markdown",
   "metadata": {},
   "source": [
    "## 训练过程中保存模型最优参数"
   ]
  },
  {
   "cell_type": "code",
   "execution_count": 12,
   "metadata": {},
   "outputs": [
    {
     "name": "stdout",
     "output_type": "stream",
     "text": [
      "Epoch: 0, Train Loss: 0.8313, Train Acc: 68.11%, Test Loss: 0.9326, Test Acc: 56.89%\n",
      "Epoch: 1, Train Loss: 0.6427, Train Acc: 76.00%, Test Loss: 0.4403, Test Acc: 82.22%\n",
      "Epoch: 2, Train Loss: 0.5431, Train Acc: 79.22%, Test Loss: 0.3678, Test Acc: 84.44%\n",
      "Epoch: 3, Train Loss: 0.4670, Train Acc: 81.78%, Test Loss: 0.3085, Test Acc: 86.22%\n",
      "Epoch: 4, Train Loss: 0.5066, Train Acc: 81.89%, Test Loss: 0.3421, Test Acc: 86.67%\n",
      "Epoch: 5, Train Loss: 0.4625, Train Acc: 82.67%, Test Loss: 0.2855, Test Acc: 88.44%\n",
      "Epoch: 6, Train Loss: 0.3857, Train Acc: 85.67%, Test Loss: 0.2356, Test Acc: 90.67%\n",
      "Epoch: 7, Train Loss: 0.5134, Train Acc: 81.78%, Test Loss: 0.2550, Test Acc: 90.67%\n",
      "Epoch: 8, Train Loss: 0.3671, Train Acc: 85.89%, Test Loss: 0.2463, Test Acc: 88.89%\n",
      "Epoch: 9, Train Loss: 0.3998, Train Acc: 85.89%, Test Loss: 0.3293, Test Acc: 88.44%\n"
     ]
    }
   ],
   "source": [
    "import copy\n",
    "\n",
    "new_model = Model().to(device)\n",
    "opt = torch.optim.Adam(new_model.parameters(), lr=0.001) # 优化器，Adam优化器，学习率为0.001\n",
    "\n",
    "\n",
    "# 训练函数\n",
    "def fit(epochs, model, train_dl, test_dl, loss_fn, opt):\n",
    "    train_loss = []\n",
    "    train_acc = []\n",
    "    test_loss = []\n",
    "    test_acc = []\n",
    "\n",
    "    best_acc = 0.0\n",
    "    best_model_weight = copy.deepcopy(new_model.state_dict())\n",
    "\n",
    "    print_template = 'Epoch: {}, Train Loss: {:.4f}, Train Acc: {:.2f}%, Test Loss: {:.4f}, Test Acc: {:.2f}%'\n",
    "\n",
    "\n",
    "    for epoch in range(epochs):\n",
    "        model.train() # 设置模型为训练模式，启用dropout层\n",
    "        epoch_train_loss, epoch_train_acc = train(train_dl, model, loss_fn, opt)\n",
    "        model.eval() # 设置模型为评估预测模式，禁用dropout层\n",
    "        epoch_test_loss, epoch_test_acc = test(test_dl, model, loss_fn)\n",
    "\n",
    "        train_loss.append(epoch_train_loss)\n",
    "        train_acc.append(epoch_train_acc)\n",
    "        test_loss.append(epoch_test_loss)\n",
    "        test_acc.append(epoch_test_acc)\n",
    "\n",
    "        print(print_template.format(epoch, epoch_train_loss, epoch_train_acc * 100, epoch_test_loss, epoch_test_acc * 100))\n",
    "\n",
    "        if epoch_test_acc > best_acc:\n",
    "            best_acc = epoch_test_acc\n",
    "            best_model_weight = copy.deepcopy(model.state_dict())\n",
    "\n",
    "    return best_model_weight, train_loss, train_acc, test_loss, test_acc\n",
    "\n",
    "# 训练\n",
    "best_model_weight, train_loss, train_acc, test_loss, test_acc = fit(epochs, new_model, train_dl, test_dl, loss_fn, opt)"
   ]
  },
  {
   "cell_type": "code",
   "execution_count": 13,
   "metadata": {},
   "outputs": [
    {
     "name": "stdout",
     "output_type": "stream",
     "text": [
      "0.9066666666666666\n"
     ]
    }
   ],
   "source": [
    "# 将参数赋值给模型\n",
    "new_model.load_state_dict(best_model_weight) # 加载模型参数\n",
    "new_model.eval() # 设置模型为评估预测模式，便于后续使用\n",
    "\n",
    "# 测试训练后的的模型\n",
    "test_correct = 0\n",
    "test_total = 0\n",
    "\n",
    "with torch.no_grad():\n",
    "    for x, y in test_dl:\n",
    "        x, y = x.to(device), y.to(device) # 将数据移动到GPU上\n",
    "        y_pred = new_model(x)\n",
    "        y_pred = torch.argmax(y_pred, dim=1)\n",
    "        test_correct += (y_pred == y).sum().item()\n",
    "        test_total += y.size(0)\n",
    "    \n",
    "epoch_test_acc = test_correct / test_total\n",
    "print(epoch_test_acc)"
   ]
  }
 ],
 "metadata": {
  "kernelspec": {
   "display_name": "pytorch2.2.2",
   "language": "python",
   "name": "python3"
  },
  "language_info": {
   "codemirror_mode": {
    "name": "ipython",
    "version": 3
   },
   "file_extension": ".py",
   "mimetype": "text/x-python",
   "name": "python",
   "nbconvert_exporter": "python",
   "pygments_lexer": "ipython3",
   "version": "3.9.21"
  }
 },
 "nbformat": 4,
 "nbformat_minor": 4
}
