{
 "cells": [
  {
   "cell_type": "markdown",
   "metadata": {},
   "source": [
    "# 张量和数据类型"
   ]
  },
  {
   "cell_type": "code",
   "execution_count": 1,
   "metadata": {},
   "outputs": [],
   "source": [
    "import torch\n",
    "import numpy as np"
   ]
  },
  {
   "cell_type": "markdown",
   "metadata": {},
   "source": [
    "## 初始化张量"
   ]
  },
  {
   "cell_type": "markdown",
   "metadata": {},
   "source": [
    "### 从Python列表初始化张量"
   ]
  },
  {
   "cell_type": "code",
   "execution_count": 2,
   "metadata": {},
   "outputs": [
    {
     "name": "stdout",
     "output_type": "stream",
     "text": [
      "tensor([1, 2, 3])\n",
      "torch.int64\n"
     ]
    }
   ],
   "source": [
    "t = torch.tensor([1, 2, 3])\n",
    "print(t)\n",
    "print(t.dtype)"
   ]
  },
  {
   "cell_type": "code",
   "execution_count": 3,
   "metadata": {},
   "outputs": [
    {
     "name": "stdout",
     "output_type": "stream",
     "text": [
      "tensor([1., 2., 3.])\n",
      "torch.float32\n"
     ]
    }
   ],
   "source": [
    "t = torch.tensor([1., 2., 3.])\n",
    "print(t)\n",
    "print(t.dtype)"
   ]
  },
  {
   "cell_type": "code",
   "execution_count": 4,
   "metadata": {},
   "outputs": [
    {
     "name": "stdout",
     "output_type": "stream",
     "text": [
      "tensor([1., 2., 3.])\n",
      "torch.float32\n"
     ]
    }
   ],
   "source": [
    "t = torch.FloatTensor([1, 2, 3])\n",
    "print(t)\n",
    "print(t.dtype)"
   ]
  },
  {
   "cell_type": "code",
   "execution_count": 5,
   "metadata": {},
   "outputs": [
    {
     "name": "stdout",
     "output_type": "stream",
     "text": [
      "tensor([1, 2, 3])\n",
      "torch.int64\n"
     ]
    }
   ],
   "source": [
    "t = torch.LongTensor([1, 2, 3])\n",
    "print(t)\n",
    "print(t.dtype)"
   ]
  },
  {
   "cell_type": "markdown",
   "metadata": {},
   "source": [
    "### 从numpy的ndarray初始化"
   ]
  },
  {
   "cell_type": "code",
   "execution_count": 6,
   "metadata": {},
   "outputs": [
    {
     "data": {
      "text/plain": [
       "array([[ 0,  1,  2,  3],\n",
       "       [ 4,  5,  6,  7],\n",
       "       [ 8,  9, 10, 11]])"
      ]
     },
     "execution_count": 6,
     "metadata": {},
     "output_type": "execute_result"
    }
   ],
   "source": [
    "np_array = np.arange(12).reshape(3, 4)\n",
    "np_array"
   ]
  },
  {
   "cell_type": "code",
   "execution_count": 7,
   "metadata": {},
   "outputs": [
    {
     "name": "stdout",
     "output_type": "stream",
     "text": [
      "tensor([[ 0,  1,  2,  3],\n",
      "        [ 4,  5,  6,  7],\n",
      "        [ 8,  9, 10, 11]], dtype=torch.int32)\n",
      "torch.int32\n"
     ]
    }
   ],
   "source": [
    "t = torch.from_numpy(np_array)\n",
    "# 也可以使用下面的方式\n",
    "# t = torch.tensor(np_array)\n",
    "print(t)\n",
    "print(t.dtype)"
   ]
  },
  {
   "cell_type": "markdown",
   "metadata": {},
   "source": [
    "***"
   ]
  },
  {
   "cell_type": "markdown",
   "metadata": {},
   "source": [
    "## 张量（Tensor）基本数据类型"
   ]
  },
  {
   "cell_type": "markdown",
   "metadata": {},
   "source": [
    "* 32位浮点型：torch.float32 / torch.float\n",
    "* 64位浮点型：torch.float64\n",
    "* 64位整型： torch.int64 / torch.long\n",
    "* 32位整型： torch.int32\n",
    "* 16位整型： torch.int16"
   ]
  },
  {
   "cell_type": "code",
   "execution_count": 8,
   "metadata": {},
   "outputs": [
    {
     "name": "stdout",
     "output_type": "stream",
     "text": [
      "tensor([1., 2., 3.])\n",
      "torch.float32\n"
     ]
    }
   ],
   "source": [
    "t = torch.tensor([1, 2, 3], dtype=torch.float32)\n",
    "print(t)\n",
    "print(t.dtype)"
   ]
  },
  {
   "cell_type": "code",
   "execution_count": 9,
   "metadata": {},
   "outputs": [
    {
     "name": "stdout",
     "output_type": "stream",
     "text": [
      "tensor([1., 2., 3.])\n",
      "torch.float32\n"
     ]
    }
   ],
   "source": [
    "t = torch.tensor([1, 2, 3], dtype=torch.float)\n",
    "print(t)\n",
    "print(t.dtype)"
   ]
  },
  {
   "cell_type": "code",
   "execution_count": 10,
   "metadata": {},
   "outputs": [
    {
     "name": "stdout",
     "output_type": "stream",
     "text": [
      "tensor([1, 2, 3])\n",
      "torch.int64\n"
     ]
    }
   ],
   "source": [
    "t = torch.tensor([1, 2, 3], dtype=torch.long)\n",
    "print(t)\n",
    "print(t.dtype)"
   ]
  },
  {
   "cell_type": "markdown",
   "metadata": {},
   "source": [
    "***"
   ]
  },
  {
   "cell_type": "markdown",
   "metadata": {},
   "source": [
    "## 创建随机值张量"
   ]
  },
  {
   "cell_type": "code",
   "execution_count": 11,
   "metadata": {},
   "outputs": [
    {
     "name": "stdout",
     "output_type": "stream",
     "text": [
      "tensor([[0.2842, 0.3396, 0.6993, 0.1519],\n",
      "        [0.9724, 0.8568, 0.2587, 0.1435],\n",
      "        [0.1248, 0.6224, 0.6081, 0.9475]])\n",
      "torch.float32\n",
      "torch.Size([3, 4])\n"
     ]
    }
   ],
   "source": [
    "# 创建（0，1）之间均匀分布的随机数\n",
    "t = torch.rand(3, 4)\n",
    "print(t)\n",
    "print(t.dtype)\n",
    "print(t.shape)"
   ]
  },
  {
   "cell_type": "code",
   "execution_count": 12,
   "metadata": {},
   "outputs": [
    {
     "name": "stdout",
     "output_type": "stream",
     "text": [
      "tensor([[ 0.9144,  1.2348,  0.9430,  0.3681],\n",
      "        [ 1.1816, -0.9288, -0.7011, -0.7610],\n",
      "        [ 0.9570,  0.5369,  1.4253, -1.7843]])\n",
      "torch.float32\n",
      "torch.Size([3, 4])\n"
     ]
    }
   ],
   "source": [
    "# 创建标准正态分布的随机数\n",
    "t = torch.randn(3, 4)\n",
    "print(t)\n",
    "print(t.dtype)\n",
    "print(t.shape)"
   ]
  },
  {
   "cell_type": "code",
   "execution_count": 13,
   "metadata": {},
   "outputs": [
    {
     "name": "stdout",
     "output_type": "stream",
     "text": [
      "tensor([[0., 0., 0., 0.],\n",
      "        [0., 0., 0., 0.],\n",
      "        [0., 0., 0., 0.]])\n",
      "torch.float32\n",
      "torch.Size([3, 4])\n"
     ]
    }
   ],
   "source": [
    "# 创建全0的张量\n",
    "t = torch.zeros(3, 4)\n",
    "print(t)\n",
    "print(t.dtype)\n",
    "print(t.shape)"
   ]
  },
  {
   "cell_type": "code",
   "execution_count": 14,
   "metadata": {},
   "outputs": [
    {
     "name": "stdout",
     "output_type": "stream",
     "text": [
      "tensor([[1., 1., 1., 1.],\n",
      "        [1., 1., 1., 1.],\n",
      "        [1., 1., 1., 1.]])\n",
      "torch.float32\n",
      "torch.Size([3, 4])\n"
     ]
    }
   ],
   "source": [
    "# 创建全1的张量\n",
    "t = torch.ones(3, 4)\n",
    "print(t)\n",
    "print(t.dtype)\n",
    "print(t.shape)"
   ]
  },
  {
   "cell_type": "code",
   "execution_count": 15,
   "metadata": {},
   "outputs": [
    {
     "name": "stdout",
     "output_type": "stream",
     "text": [
      "tensor([[ 0.6723, -0.5992,  0.8991,  1.6448],\n",
      "        [ 1.1502, -0.6241,  0.5018, -0.2875],\n",
      "        [ 0.2762,  1.1672, -0.3976,  2.4684]])\n",
      "torch.float32\n",
      "torch.Size([3, 4])\n"
     ]
    }
   ],
   "source": [
    "# 创建一个与t形状相同的张量，但是值是正态分布的随机数\n",
    "t = torch.randn_like(t)\n",
    "print(t)\n",
    "print(t.dtype)\n",
    "print(t.shape)"
   ]
  },
  {
   "cell_type": "markdown",
   "metadata": {},
   "source": [
    "***"
   ]
  },
  {
   "cell_type": "markdown",
   "metadata": {},
   "source": [
    "## 张量的属性"
   ]
  },
  {
   "cell_type": "code",
   "execution_count": 16,
   "metadata": {},
   "outputs": [
    {
     "name": "stdout",
     "output_type": "stream",
     "text": [
      "tensor([[0.8124, 0.0219, 0.2118, 0.8947],\n",
      "        [0.8083, 0.0802, 0.4819, 0.0896],\n",
      "        [0.7054, 0.5777, 0.1773, 0.6074]])\n",
      "torch.float32\n",
      "torch.Size([3, 4])\n",
      "size = torch.Size([3, 4])\n",
      "dim = 2\n",
      "size(0) = 3\n",
      "size(1) = 4\n",
      "numel= 12\n"
     ]
    }
   ],
   "source": [
    "# 创建一个与t形状相同的张量，但是值是在（0，1）均匀分布的随机数\n",
    "t = torch.rand_like(t)\n",
    "print(t)\n",
    "# 返回张量的数据类型\n",
    "print(t.dtype)\n",
    "# 返回张量的形状\n",
    "print(t.shape)\n",
    "print(\"size = \" + str(t.size()))\n",
    "# 返回张量的维度\n",
    "print(\"dim = \" + str(t.dim()))\n",
    "# 返回张量第一个维度的长度\n",
    "print(\"size(0) = \" + str(t.size(0)))\n",
    "# 返回张量第二个维度的长度\n",
    "print(\"size(1) = \" + str(t.size(1)))\n",
    "# 返回张量的元素个数\n",
    "print(\"numel= \" + str(t.numel()))\n"
   ]
  },
  {
   "cell_type": "markdown",
   "metadata": {},
   "source": [
    "***"
   ]
  },
  {
   "cell_type": "markdown",
   "metadata": {},
   "source": [
    "## 张量存储设备及其转移"
   ]
  },
  {
   "cell_type": "code",
   "execution_count": 17,
   "metadata": {},
   "outputs": [
    {
     "name": "stdout",
     "output_type": "stream",
     "text": [
      "device = cpu\n",
      "torch.cuda.is_available() = True\n",
      "device = cuda:0\n"
     ]
    }
   ],
   "source": [
    "# 返回张量的存储设备\n",
    "print(\"device = \" + str(t.device))\n",
    "print(\"torch.cuda.is_available() = \" + str(torch.cuda.is_available()))\n",
    "# 将张量转移到GPU\n",
    "if torch.cuda.is_available():\n",
    "    t = t.to('cuda')\n",
    "    print(\"device = \" + str(t.device))"
   ]
  },
  {
   "cell_type": "code",
   "execution_count": 18,
   "metadata": {},
   "outputs": [
    {
     "name": "stdout",
     "output_type": "stream",
     "text": [
      "device = cpu\n"
     ]
    }
   ],
   "source": [
    "# 将张量转移到CPU\n",
    "t = t.to('cpu')\n",
    "print(\"device = \" + str(t.device))"
   ]
  },
  {
   "cell_type": "markdown",
   "metadata": {},
   "source": [
    "***"
   ]
  },
  {
   "cell_type": "markdown",
   "metadata": {},
   "source": [
    "## 张量数据类型的转换"
   ]
  },
  {
   "cell_type": "code",
   "execution_count": 19,
   "metadata": {},
   "outputs": [
    {
     "name": "stdout",
     "output_type": "stream",
     "text": [
      "tensor([1., 2., 3.])\n",
      "torch.float32\n",
      "----------------\n",
      "tensor([1., 2., 3.], dtype=torch.float64)\n",
      "torch.float64\n",
      "----------------\n",
      "tensor([1, 2, 3])\n",
      "torch.int64\n"
     ]
    }
   ],
   "source": [
    "# 对张量进行数据类型转换\n",
    "t = torch.tensor([1, 2, 3], dtype=torch.float32)\n",
    "print(t)\n",
    "print(t.dtype)\n",
    "print(\"----------------\")\n",
    "t = t.type(torch.float64)\n",
    "print(t)\n",
    "print(t.dtype)\n",
    "print(\"----------------\")\n",
    "t = t.type(torch.int64)\n",
    "print(t)\n",
    "print(t.dtype)\n"
   ]
  },
  {
   "cell_type": "code",
   "execution_count": 20,
   "metadata": {},
   "outputs": [
    {
     "name": "stdout",
     "output_type": "stream",
     "text": [
      "tensor([[-0.2655, -0.3575,  0.8830,  0.0955],\n",
      "        [ 0.1939, -0.5710,  1.3606, -0.2213],\n",
      "        [ 1.1910,  0.2361, -0.4279,  0.5251]])\n",
      "torch.float32\n",
      "----------------\n",
      "tensor([[0, 0, 0, 0],\n",
      "        [0, 0, 1, 0],\n",
      "        [1, 0, 0, 0]])\n",
      "torch.int64\n",
      "----------------\n",
      "tensor([[0., 0., 0., 0.],\n",
      "        [0., 0., 1., 0.],\n",
      "        [1., 0., 0., 0.]])\n",
      "torch.float32\n",
      "----------------\n"
     ]
    }
   ],
   "source": [
    "t = torch.randn(3, 4)\n",
    "print(t)\n",
    "print(t.dtype)\n",
    "print(\"----------------\")\n",
    "# .long()方法可以将张量转换为64位整型，即int64，与t.type(torch.int64)等价\n",
    "t = t.long()\n",
    "print(t)\n",
    "print(t.dtype)\n",
    "print(\"----------------\")\n",
    "# .int()方法可以将张量转换为32位整型\n",
    "# .short()方法可以将张量转换为16位整型\n",
    "# .char()方法可以将张量转换为8位整型\n",
    "# .byte()方法可以将张量转换为8位无符号整型\n",
    "\n",
    "# .double()方法可以将张量转换为64位浮点型\n",
    "# .float()方法可以将张量转换为32位浮点型\n",
    "t = t.float()\n",
    "print(t)\n",
    "print(t.dtype)\n",
    "print(\"----------------\")\n",
    "# .half()方法可以将张量转换为16位浮点型\n",
    "\n",
    "# .bool()方法可以将张量转换为布尔型"
   ]
  },
  {
   "cell_type": "markdown",
   "metadata": {},
   "source": [
    "***"
   ]
  },
  {
   "cell_type": "markdown",
   "metadata": {},
   "source": [
    "## 张量运算"
   ]
  },
  {
   "cell_type": "code",
   "execution_count": 21,
   "metadata": {},
   "outputs": [
    {
     "name": "stdout",
     "output_type": "stream",
     "text": [
      "tensor([[ 1.2043, -0.6727,  0.8901,  0.1895],\n",
      "        [ 0.0866, -0.2690,  1.1998,  0.2302],\n",
      "        [-0.0633,  0.0155, -0.9118, -1.3493]])\n",
      "tensor([[4.2043, 2.3273, 3.8901, 3.1895],\n",
      "        [3.0866, 2.7310, 4.1998, 3.2302],\n",
      "        [2.9367, 3.0155, 2.0882, 1.6507]])\n",
      "----------------\n",
      "tensor([[-1.4831, -0.1382,  1.2668,  1.2941],\n",
      "        [ 1.2917, -0.8616,  0.5389, -0.6363],\n",
      "        [ 0.8621, -0.4392,  0.5837, -0.0272]])\n",
      "tensor([[-0.2787, -0.8109,  2.1568,  1.4836],\n",
      "        [ 1.3783, -1.1307,  1.7387, -0.4061],\n",
      "        [ 0.7988, -0.4237, -0.3281, -1.3765]])\n",
      "----------------\n",
      "tensor([[ 1.2043, -0.6727,  0.8901,  0.1895],\n",
      "        [ 0.0866, -0.2690,  1.1998,  0.2302],\n",
      "        [-0.0633,  0.0155, -0.9118, -1.3493]])\n",
      "tensor([[-0.2787, -0.8109,  2.1568,  1.4836],\n",
      "        [ 1.3783, -1.1307,  1.7387, -0.4061],\n",
      "        [ 0.7988, -0.4237, -0.3281, -1.3765]])\n",
      "tensor([[-0.2787, -0.8109,  2.1568,  1.4836],\n",
      "        [ 1.3783, -1.1307,  1.7387, -0.4061],\n",
      "        [ 0.7988, -0.4237, -0.3281, -1.3765]])\n",
      "----------------\n"
     ]
    }
   ],
   "source": [
    "# 加法：广播原则\n",
    "t1 = torch.randn(3, 4)\n",
    "print(t1)\n",
    "# 数值与t1相加，每个元素加3\n",
    "print(t1 + 3)\n",
    "print(\"----------------\")\n",
    "# 与相同形状的张量相加,对应元素相加；与不同形状的张量相加，会报错\n",
    "t2 = torch.randn(3, 4)\n",
    "print(t2)\n",
    "# print(t1 + t2)\n",
    "# print(torch.add(t1, t2))\n",
    "#等同于\n",
    "print(t1.add(t2))   # t1的值不变\n",
    "print(\"----------------\")\n",
    "print(t1)\n",
    "print(t1.add_(t2))      # t1 = t1 + t2\n",
    "# t1的值改变\n",
    "print(t1)\n",
    "print(\"----------------\")\n",
    "# 方法后面带下划线的方法会改变调用者的值\n",
    "# 类似的方法还有sub（减法）、mul（乘法）、div（除法）、pow（幂运算）、sqrt（开方）\n",
    "# log（对数运算）、exp（指数运算）、abs（绝对值）、neg（取负数）、reciprocal（取倒数）\n",
    "# mean（求均值）、std（求标准差）、var（求方差）、norm（求范数）\n",
    "# max（求最大值）、min（求最小值）、argmax（求最大值索引）、argmin（求最小值索引）\n",
    "# sum（求和）、prod（求积）、cumsum（求累加和）、cumprod（求累乘积）\n",
    "# round（四舍五入）、floor（向下取整）、ceil（向上取整）、trunc（取整数部分）、frac（取小数部分）等"
   ]
  },
  {
   "cell_type": "code",
   "execution_count": 22,
   "metadata": {},
   "outputs": [
    {
     "name": "stdout",
     "output_type": "stream",
     "text": [
      "tensor([[-0.1099,  1.5865, -0.0832, -0.9344],\n",
      "        [-1.1482,  0.0420, -0.5706, -0.1047],\n",
      "        [-0.7832, -1.3121, -0.5980, -0.1246]])\n",
      "tensor([[-0.1099, -1.1482, -0.7832],\n",
      "        [ 1.5865,  0.0420, -1.3121],\n",
      "        [-0.0832, -0.5706, -0.5980],\n",
      "        [-0.9344, -0.1047, -0.1246]])\n",
      "tensor([[ 3.4090,  0.3380, -1.8293],\n",
      "        [ 0.3380,  1.6566,  1.1985],\n",
      "        [-1.8293,  1.1985,  2.7080]])\n"
     ]
    }
   ],
   "source": [
    "# matmul（矩阵乘法）、@（矩阵乘法）、T（转置）、transpose（转置）、permute（维度交换）、reshape（形状变换）、view（形状变换）\n",
    "t1 = torch.randn(3, 4)\n",
    "print(t1)\n",
    "print(t1.T)\n",
    "print(t1.matmul(t1.T))"
   ]
  },
  {
   "cell_type": "markdown",
   "metadata": {},
   "source": [
    "***"
   ]
  },
  {
   "cell_type": "markdown",
   "metadata": {},
   "source": [
    "## 从张量转换为python和numpy的数据类型"
   ]
  },
  {
   "cell_type": "code",
   "execution_count": 23,
   "metadata": {},
   "outputs": [
    {
     "name": "stdout",
     "output_type": "stream",
     "text": [
      "tensor(-4.1404)\n",
      "-4.140439987182617\n",
      "[[-0.10986185073852539, 1.5864835977554321, -0.08321221172809601, -0.9343912601470947], [-1.148163914680481, 0.04196036979556084, -0.570621132850647, -0.10472740978002548], [-0.7831873297691345, -1.3120564222335815, -0.5980182886123657, -0.12464436888694763]]\n",
      "tensor(-0.3450)\n",
      "-0.34503665566444397\n"
     ]
    }
   ],
   "source": [
    "# 转换为Python数据类型\n",
    "t2 = t1.sum()\n",
    "print(t2)\n",
    "print(t2.item())        # 将张量的值转换为Python数值\n",
    "print(t1.tolist())      # 将张量的值转换为Python列表\n",
    "result = t1.mean()      # 求均值\n",
    "print(result)           # 返回一个张量\n",
    "print(result.item())    # 返回一个Python数值"
   ]
  },
  {
   "cell_type": "code",
   "execution_count": 24,
   "metadata": {},
   "outputs": [
    {
     "name": "stdout",
     "output_type": "stream",
     "text": [
      "[[-1.77654325  0.91412871 -0.08365033  0.68929413]\n",
      " [-0.22986805 -0.21233439 -1.42526056  1.33462006]\n",
      " [-0.19253394  0.20843638  0.23951911 -0.23536488]]\n",
      "tensor([[-1.7765,  0.9141, -0.0837,  0.6893],\n",
      "        [-0.2299, -0.2123, -1.4253,  1.3346],\n",
      "        [-0.1925,  0.2084,  0.2395, -0.2354]], dtype=torch.float64)\n",
      "[[-1.77654325  0.91412871 -0.08365033  0.68929413]\n",
      " [-0.22986805 -0.21233439 -1.42526056  1.33462006]\n",
      " [-0.19253394  0.20843638  0.23951911 -0.23536488]]\n"
     ]
    }
   ],
   "source": [
    "# 转换为Numpy数据类型\n",
    "# 从Numpy数组创建张量\n",
    "np_array = np.random.randn(3, 4)\n",
    "print(np_array)\n",
    "t = torch.from_numpy(np_array)\n",
    "print(t)\n",
    "# 将张量转换为Numpy数组\n",
    "# .numpy()方法可以将张量转换为Numpy数组\n",
    "np_array = t.numpy()\n",
    "print(np_array)\n"
   ]
  },
  {
   "cell_type": "markdown",
   "metadata": {},
   "source": [
    "***"
   ]
  },
  {
   "cell_type": "markdown",
   "metadata": {},
   "source": [
    "## 张量的变形"
   ]
  },
  {
   "cell_type": "code",
   "execution_count": 25,
   "metadata": {},
   "outputs": [
    {
     "name": "stdout",
     "output_type": "stream",
     "text": [
      "tensor([[ 0.9548,  1.0537, -1.3611, -0.0043],\n",
      "        [-1.7687,  0.6500,  2.1519,  0.3830],\n",
      "        [-0.4163,  0.9507, -1.1007,  3.2486]])\n",
      "torch.Size([3, 4])\n",
      "tensor([[ 0.9548,  1.0537, -1.3611],\n",
      "        [-0.0043, -1.7687,  0.6500],\n",
      "        [ 2.1519,  0.3830, -0.4163],\n",
      "        [ 0.9507, -1.1007,  3.2486]])\n",
      "torch.Size([4, 3])\n"
     ]
    }
   ],
   "source": [
    "t = torch.randn(3, 4)\n",
    "print(t)\n",
    "print(t.shape)\n",
    "# .view()方法可以改变张量的形状，但是张量的元素个数不能改变\n",
    "t1 = t.view(4, 3)\n",
    "print(t1)\n",
    "print(t1.shape)\n",
    "# .reshape()方法与.view()方法功能相同"
   ]
  },
  {
   "cell_type": "code",
   "execution_count": 26,
   "metadata": {},
   "outputs": [
    {
     "name": "stdout",
     "output_type": "stream",
     "text": [
      "tensor([[-0.7189, -0.9602, -0.9092,  0.2134],\n",
      "        [ 0.2214,  1.3995, -0.0514,  0.5768],\n",
      "        [-0.8315,  0.7172, -0.7900, -0.9001]])\n",
      "torch.Size([3, 4])\n",
      "tensor([[-0.7189],\n",
      "        [-0.9602],\n",
      "        [-0.9092],\n",
      "        [ 0.2134],\n",
      "        [ 0.2214],\n",
      "        [ 1.3995],\n",
      "        [-0.0514],\n",
      "        [ 0.5768],\n",
      "        [-0.8315],\n",
      "        [ 0.7172],\n",
      "        [-0.7900],\n",
      "        [-0.9001]])\n",
      "torch.Size([12, 1])\n",
      "torch.Size([12, 3, 4, 4])\n",
      "torch.Size([12, 48])\n"
     ]
    }
   ],
   "source": [
    "# 常用于展平张量\n",
    "t = torch.randn(3, 4)\n",
    "print(t)\n",
    "print(t.shape)\n",
    "# 转换为第二维度为1的张量，-1表示自动计算\n",
    "t1 = t.view(-1, 1)  #即将t展平为 24 * 1 的张量\n",
    "print(t1)\n",
    "print(t1.shape)\n",
    "# 例如\n",
    "t = torch.randn(12, 3, 4, 4)\n",
    "print(t.shape)\n",
    "# 将t展平为 12 * 48 的张量\n",
    "t1 = t.view(12, -1)\n",
    "# 也可写为\n",
    "t1 = t.view(12, 48)  # 12 * 3 * 4 * 4 = 12 * 48\n",
    "print(t1.shape)"
   ]
  },
  {
   "cell_type": "code",
   "execution_count": 27,
   "metadata": {},
   "outputs": [
    {
     "name": "stdout",
     "output_type": "stream",
     "text": [
      "tensor([[-0.2284,  0.8852,  0.7281,  0.4910],\n",
      "        [-0.8244,  1.5591,  0.9337,  0.2384],\n",
      "        [ 1.7139,  0.3170,  0.2344, -0.1537]])\n",
      "torch.Size([3, 4])\n",
      "tensor([[[-0.2284,  0.8852,  0.7281,  0.4910],\n",
      "         [-0.8244,  1.5591,  0.9337,  0.2384],\n",
      "         [ 1.7139,  0.3170,  0.2344, -0.1537]]])\n",
      "torch.Size([1, 3, 4])\n",
      "tensor([[-0.2284,  0.8852,  0.7281,  0.4910],\n",
      "        [-0.8244,  1.5591,  0.9337,  0.2384],\n",
      "        [ 1.7139,  0.3170,  0.2344, -0.1537]])\n",
      "torch.Size([3, 4])\n"
     ]
    }
   ],
   "source": [
    "# 给张量增加一个维度，例如将形状为(3, 4)的张量增加一个维度，形状变为(1, 3, 4)\n",
    "t = torch.randn(3, 4)\n",
    "print(t)\n",
    "print(t.shape)\n",
    "# .unsqueeze()方法可以增加张量为1的维度\n",
    "t1 = t.unsqueeze(0) # 在第0维度增加一个维度\n",
    "print(t1)\n",
    "print(t1.shape)\n",
    "# 也可以写为\n",
    "# t1 = t.view(1, 3, 4)\n",
    "# print(t1)\n",
    "# print(t1.shape)\n",
    "\n",
    "# 给张量减少一个维度\n",
    "# .squeeze()方法可以减少张量为1的维度\n",
    "t2 = t1.squeeze()\n",
    "print(t2)\n",
    "print(t2.shape)"
   ]
  },
  {
   "cell_type": "markdown",
   "metadata": {},
   "source": [
    "***"
   ]
  },
  {
   "cell_type": "markdown",
   "metadata": {},
   "source": [
    "## 张量的自动微分"
   ]
  },
  {
   "cell_type": "code",
   "execution_count": 28,
   "metadata": {},
   "outputs": [
    {
     "name": "stdout",
     "output_type": "stream",
     "text": [
      "False\n",
      "True\n"
     ]
    }
   ],
   "source": [
    "t = torch.randn(3, 4)\n",
    "print(t.requires_grad) # tensor的requires_grad属性默认为False， 表示不需要Pytorch自动跟踪\n",
    "t.requires_grad = True # 设置requires_grad属性为True，Pytorch将开始跟踪对此张量的所有操作\n",
    "print(t.requires_grad) "
   ]
  },
  {
   "cell_type": "markdown",
   "metadata": {},
   "source": [
    "1. 将`Torch.Tensor`属性`.requires_grad`设置为`True`，Pytorch将开始跟踪对此张量的所有操作。\n",
    "\n",
    "2. 完成计算后，可以调用`.backward()`并自动计算所有梯度，该张量的梯度将累加到`.grad`属性中。"
   ]
  },
  {
   "cell_type": "code",
   "execution_count": 29,
   "metadata": {},
   "outputs": [
    {
     "name": "stdout",
     "output_type": "stream",
     "text": [
      "tensor([[1., 1., 1., 1.],\n",
      "        [1., 1., 1., 1.],\n",
      "        [1., 1., 1., 1.]], requires_grad=True)\n",
      "True\n",
      "tensor([[6., 6., 6., 6.],\n",
      "        [6., 6., 6., 6.],\n",
      "        [6., 6., 6., 6.]], grad_fn=<AddBackward0>)\n",
      "<AddBackward0 object at 0x000002B6091AB2B0>\n",
      "True\n",
      "tensor([[12., 12., 12., 12.],\n",
      "        [12., 12., 12., 12.],\n",
      "        [12., 12., 12., 12.]], grad_fn=<MulBackward0>)\n",
      "<MulBackward0 object at 0x000002B6091AB2B0>\n",
      "True\n",
      "tensor(12., grad_fn=<MeanBackward0>)\n",
      "<MeanBackward0 object at 0x000002B6091AB2B0>\n",
      "True\n",
      "tensor([[0.1667, 0.1667, 0.1667, 0.1667],\n",
      "        [0.1667, 0.1667, 0.1667, 0.1667],\n",
      "        [0.1667, 0.1667, 0.1667, 0.1667]])\n",
      "None\n",
      "<MeanBackward0 object at 0x000002B6091ABE80>\n"
     ]
    }
   ],
   "source": [
    "t = torch.ones(3, 4, requires_grad=True) # 创建一个requires_grad属性为True的张量\n",
    "print(t)\n",
    "print(t.requires_grad)\n",
    "x = t + 5\n",
    "print(x)\n",
    "print(x.grad_fn)        # grad_fn属性表示张量的创建方式，x是通过加法操作创建的\n",
    "print(x.requires_grad)  # x会继承t的requires_grad属性\n",
    "y = x * 2\n",
    "print(y)\n",
    "print(y.grad_fn)        # y是通过乘法操作创建的\n",
    "print(y.requires_grad)  # y会继承x的requires_grad属性\n",
    "z = y.mean()            # 求y的均值, z是一个标量值，维度为0\n",
    "print(z)\n",
    "print(z.grad_fn)        # z是通过mean操作创建的\n",
    "print(z.requires_grad)  # z会继承y的requires_grad属性\n",
    "z.backward()        # 反向传播，自动微分运算，计算梯度\n",
    "print(t.grad)       # t.grad属性保存了t的梯度，dz/dt = 1/12\n",
    "print(t.grad_fn)    # t.grad_fn属性为None，因为t是用户创建的张量，不是通过操作创建的\n",
    "print(z.grad_fn)    # z.grad_fn属性为MeanBackward0，表示z是通过mean操作创建的\n"
   ]
  },
  {
   "cell_type": "markdown",
   "metadata": {},
   "source": [
    "### 处理不需要跟踪计算的操作"
   ]
  },
  {
   "cell_type": "markdown",
   "metadata": {},
   "source": [
    "* 当张量的`requires_grad`属性为`True`时，Pytorch会一直跟踪记录此张量的运算\n",
    "* 当不需要跟踪计算时，可以通过将代码块包装在`with torch.no_grad():`上下文中"
   ]
  },
  {
   "cell_type": "code",
   "execution_count": 30,
   "metadata": {},
   "outputs": [
    {
     "name": "stdout",
     "output_type": "stream",
     "text": [
      "False\n",
      "True\n",
      "False\n",
      "False\n"
     ]
    }
   ],
   "source": [
    "t = torch.ones(3, 4, requires_grad=True)\n",
    "# 使用torch.no_grad()上下文管理器，可以临时关闭自动微分\n",
    "with torch.no_grad():\n",
    "    x = t + 5\n",
    "    print(x.requires_grad)  # x则不会继承t的requires_grad属性\n",
    "y = t * 2\n",
    "print(y.requires_grad)  # y会继承t的requires_grad属性\n",
    "\n",
    "# 或者设置requires_grad属性为False，直接关闭自动微分\n",
    "t.requires_grad_(False) # 设置t的requires_grad属性为False\n",
    "z = t.mean()\n",
    "print(z.requires_grad)  # y的requires_grad属性为False\n",
    "\n",
    "# 使用detach()方法，可以将张量从计算图中分离，不再跟踪\n",
    "t = torch.ones(3, 4, requires_grad=True)\n",
    "x = t.detach()\n",
    "print(x.requires_grad)  # x的requires_grad属性为False"
   ]
  },
  {
   "cell_type": "markdown",
   "metadata": {},
   "source": [
    "***"
   ]
  }
 ],
 "metadata": {
  "kernelspec": {
   "display_name": "pytorch2.2.2",
   "language": "python",
   "name": "python3"
  },
  "language_info": {
   "codemirror_mode": {
    "name": "ipython",
    "version": 3
   },
   "file_extension": ".py",
   "mimetype": "text/x-python",
   "name": "python",
   "nbconvert_exporter": "python",
   "pygments_lexer": "ipython3",
   "version": "3.9.21"
  }
 },
 "nbformat": 4,
 "nbformat_minor": 4
}
