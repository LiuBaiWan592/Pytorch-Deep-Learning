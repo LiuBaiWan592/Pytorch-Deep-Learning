{
 "cells": [
  {
   "cell_type": "markdown",
   "metadata": {},
   "source": [
    "# 四种天气图片的分类和预训练网络VGG16"
   ]
  },
  {
   "cell_type": "markdown",
   "metadata": {},
   "source": [
    "**预训练网络：**\n",
    "预训练网络是使用大型数据集（如ImageNet）训练的神经网络，这些数据集包含数百万个图像和标签。预训练网络已经学习到了许多有用的特征，这些特征可以用于各种计算机视觉任务，如分类、检测和分割。 \n",
    "如果原始数据集足够大且足够通用，那么预训练网络学到的特征的空间层次可以作为有效的提取视觉世界特征的模型，可以很好地泛化到新的任务上。  \n",
    "即使新问题和新任务与原始任务不同，模型学习到的特征在不同的问题之间是可迁移的。  "
   ]
  },
  {
   "cell_type": "markdown",
   "metadata": {},
   "source": [
    "**VGG：**\n",
    "VGG网络是由牛津大学的Visual Geometry Group提出的，是一种基于卷积神经网络的深度学习模型。VGG网络的特点是使用了小尺寸的卷积核和较深的网络结构，从而在保持计算效率的同时提高了模型的性能。VGG网络在ImageNet数据集上的表现非常出色，是当时最先进的模型之一。\n",
    "**VGG16：**\n",
    "VGG16网络是VGG网络的一个变体，它使用了16层的卷积神经网络结构。VGG16网络的结构非常简单，只使用了3x3的卷积核和2x2的最大池化层，这使得VGG16网络在保持计算效率的同时，也具有很好的性能。\n",
    "**VGG16网络结构：**\n",
    "VGG16网络的结构如下：\n",
    "- 输入层：输入图像的大小为224x224x3。\n",
    "- 卷积层1：使用64个3x3的卷积核，步长为1，填充为1，输出特征图的大小为224x224x64。\n",
    "- 卷积层2：使用64个3x3的卷积核，步长为1，填充为1，输出特征图的大小为224x224x64。\n",
    "- 池化层1：使用2x2的最大池化层，步长为2，输出特征图的大小为112x112x64。\n",
    "- 卷积层3：使用128个3x3的卷积核，步长为1，填充为1，输出特征图的大小为112x112x128。\n",
    "- 卷积层4：使用128个3x3的卷积核，步长为1，填充为1，输出特征图的大小为112x112x128。\n",
    "- 池化层2：使用2x2的最大池化层，步长为2，输出特征图的大小为56x56x128。\n",
    "- 卷积层5：使用256个3x3的卷积核，步长为1，填充为1，输出特征图的大小为56x56x256。\n",
    "- 卷积层6：使用256个3x3的卷积核，步长为1，填充为1，输出特征图的大小为56x56x256。\n",
    "- 卷积层7：使用256个3x3的卷积核，步长为1，填充为1，输出特征图的大小为56x56x256。\n",
    "- 池化层3：使用2x2的最大池化层，步长为2，输出特征图的大小为28x28x256。\n",
    "- 卷积层8：使用512个3x3的卷积核，步长为1，填充为1，输出特征图的大小为28x28x512。\n",
    "- 卷积层9：使用512个3x3的卷积核，步长为1，填充为1，输出特征图的大小为28x28x512。\n",
    "- 卷积层10：使用512个3x3的卷积核，步长为1，填充为1，输出特征图的大小为28x28x512。\n",
    "- 池化层4：使用2x2的最大池化层，步长为2，输出特征图的大小为14x14x512。\n",
    "- 卷积层11：使用512个3x3的卷积核，步长为1，填充为1，输出特征图的大小为14x14x512。\n",
    "- 卷积层12：使用512个3x3的卷积核，步长为1，填充为1，输出特征图的大小为14x14x512。\n",
    "- 卷积层13：使用512个3x3的卷积核，步长为1，填充为1，输出特征图的大小为14x14x512。\n",
    "- 池化层5：使用2x2的最大池化层，步长为2，输出特征图的大小为7x7x512。\n",
    "- 全连接层1：使用4096个神经元，输出特征图的大小为4096。\n",
    "- 全连接层2：使用4096个神经元，输出特征图的大小为4096。\n",
    "- 全连接层3：使用1000个神经元，输出特征图的大小为1000，对应ImageNet数据集的1000个类别。\n",
    "- 输出层：使用softmax函数进行分类，输出每个类别的概率。\n",
    "\n",
    "![VGG16.png](./imgs/VGG16.png)\n",
    "\n",
    "------"
   ]
  },
  {
   "cell_type": "code",
   "execution_count": 1,
   "metadata": {},
   "outputs": [],
   "source": [
    "import torch\n",
    "import torch.nn as nn\n",
    "import torch.nn.functional as F\n",
    "import torch.optim as optim\n",
    "import numpy as np\n",
    "import matplotlib.pyplot as plt\n",
    "%matplotlib inline\n",
    "import torchvision\n",
    "import os"
   ]
  },
  {
   "cell_type": "markdown",
   "metadata": {},
   "source": [
    "## 读取图片"
   ]
  },
  {
   "cell_type": "code",
   "execution_count": 2,
   "metadata": {},
   "outputs": [],
   "source": [
    "base_dir = r'./dataset/4weather'\n",
    "train_dir = os.path.join(base_dir , 'train')\n",
    "test_dir = os.path.join(base_dir , 'test')\n",
    "\n",
    "from torchvision import transforms\n",
    "transform = transforms.Compose([\n",
    "    transforms.Resize((192, 192)),                # 将图片缩放到192, 192（VGG卷积深度较深，输入图片大小不能过小）\n",
    "    transforms.ToTensor(),                        # 将图片转换为张量\n",
    "    transforms.Normalize(mean=[0.5, 0.5, 0.5],\n",
    "                        std=[0.5, 0.5, 0.5])      # 将图片的每个通道的像素值减去均值，再除以标准差，使像素值均值为0，标准差为1\n",
    "])"
   ]
  },
  {
   "cell_type": "code",
   "execution_count": 3,
   "metadata": {},
   "outputs": [],
   "source": [
    "# 读取训练集和测试集的图片\n",
    "train_ds = torchvision.datasets.ImageFolder(\n",
    "               train_dir,\n",
    "               transform=transform\n",
    ")\n",
    "test_ds = torchvision.datasets.ImageFolder(\n",
    "               test_dir,\n",
    "               transform=transform\n",
    ")"
   ]
  },
  {
   "cell_type": "markdown",
   "metadata": {},
   "source": [
    "## 加载和查看数据"
   ]
  },
  {
   "cell_type": "code",
   "execution_count": 4,
   "metadata": {},
   "outputs": [],
   "source": [
    "# 加载数据集，划分批次\n",
    "BATCHSIZE = 16\n",
    "train_dl = torch.utils.data.DataLoader(\n",
    "                                       train_ds,\n",
    "                                       batch_size=BATCHSIZE,\n",
    "                                       shuffle=True\n",
    ")\n",
    "test_dl = torch.utils.data.DataLoader(\n",
    "                                       test_ds,\n",
    "                                       batch_size=BATCHSIZE,\n",
    ")"
   ]
  },
  {
   "cell_type": "markdown",
   "metadata": {},
   "source": [
    "## 实例化VGG16模型"
   ]
  },
  {
   "cell_type": "code",
   "execution_count": 5,
   "metadata": {},
   "outputs": [
    {
     "data": {
      "text/plain": [
       "VGG(\n",
       "  (features): Sequential(\n",
       "    (0): Conv2d(3, 64, kernel_size=(3, 3), stride=(1, 1), padding=(1, 1))\n",
       "    (1): ReLU(inplace=True)\n",
       "    (2): Conv2d(64, 64, kernel_size=(3, 3), stride=(1, 1), padding=(1, 1))\n",
       "    (3): ReLU(inplace=True)\n",
       "    (4): MaxPool2d(kernel_size=2, stride=2, padding=0, dilation=1, ceil_mode=False)\n",
       "    (5): Conv2d(64, 128, kernel_size=(3, 3), stride=(1, 1), padding=(1, 1))\n",
       "    (6): ReLU(inplace=True)\n",
       "    (7): Conv2d(128, 128, kernel_size=(3, 3), stride=(1, 1), padding=(1, 1))\n",
       "    (8): ReLU(inplace=True)\n",
       "    (9): MaxPool2d(kernel_size=2, stride=2, padding=0, dilation=1, ceil_mode=False)\n",
       "    (10): Conv2d(128, 256, kernel_size=(3, 3), stride=(1, 1), padding=(1, 1))\n",
       "    (11): ReLU(inplace=True)\n",
       "    (12): Conv2d(256, 256, kernel_size=(3, 3), stride=(1, 1), padding=(1, 1))\n",
       "    (13): ReLU(inplace=True)\n",
       "    (14): Conv2d(256, 256, kernel_size=(3, 3), stride=(1, 1), padding=(1, 1))\n",
       "    (15): ReLU(inplace=True)\n",
       "    (16): MaxPool2d(kernel_size=2, stride=2, padding=0, dilation=1, ceil_mode=False)\n",
       "    (17): Conv2d(256, 512, kernel_size=(3, 3), stride=(1, 1), padding=(1, 1))\n",
       "    (18): ReLU(inplace=True)\n",
       "    (19): Conv2d(512, 512, kernel_size=(3, 3), stride=(1, 1), padding=(1, 1))\n",
       "    (20): ReLU(inplace=True)\n",
       "    (21): Conv2d(512, 512, kernel_size=(3, 3), stride=(1, 1), padding=(1, 1))\n",
       "    (22): ReLU(inplace=True)\n",
       "    (23): MaxPool2d(kernel_size=2, stride=2, padding=0, dilation=1, ceil_mode=False)\n",
       "    (24): Conv2d(512, 512, kernel_size=(3, 3), stride=(1, 1), padding=(1, 1))\n",
       "    (25): ReLU(inplace=True)\n",
       "    (26): Conv2d(512, 512, kernel_size=(3, 3), stride=(1, 1), padding=(1, 1))\n",
       "    (27): ReLU(inplace=True)\n",
       "    (28): Conv2d(512, 512, kernel_size=(3, 3), stride=(1, 1), padding=(1, 1))\n",
       "    (29): ReLU(inplace=True)\n",
       "    (30): MaxPool2d(kernel_size=2, stride=2, padding=0, dilation=1, ceil_mode=False)\n",
       "  )\n",
       "  (avgpool): AdaptiveAvgPool2d(output_size=(7, 7))\n",
       "  (classifier): Sequential(\n",
       "    (0): Linear(in_features=25088, out_features=4096, bias=True)\n",
       "    (1): ReLU(inplace=True)\n",
       "    (2): Dropout(p=0.5, inplace=False)\n",
       "    (3): Linear(in_features=4096, out_features=4096, bias=True)\n",
       "    (4): ReLU(inplace=True)\n",
       "    (5): Dropout(p=0.5, inplace=False)\n",
       "    (6): Linear(in_features=4096, out_features=1000, bias=True)\n",
       "  )\n",
       ")"
      ]
     },
     "execution_count": 5,
     "metadata": {},
     "output_type": "execute_result"
    }
   ],
   "source": [
    "# model = torchvision.models.vgg16(pretrained=True) # 加载预训练模型，并设置权重的旧版本方法\n",
    "model = torchvision.models.vgg16(weights=\"IMAGENET1K_V1\") # 加载预训练模型，并设置权重为ImageNet1K_V1\n",
    "model"
   ]
  },
  {
   "cell_type": "code",
   "execution_count": 6,
   "metadata": {},
   "outputs": [],
   "source": [
    "# 冻结卷积层\n",
    "for param in model.features.parameters():\n",
    "    param.requires_grad = False\n",
    "\n",
    "# 修改全连接层\n",
    "model.classifier[-1].out_features = 4\n",
    "\n",
    "# 替换全连接层\n",
    "# model.classifier[6] = nn.Linear(4096, 4) # 修改全连接层的输出层，输出4个类别"
   ]
  },
  {
   "cell_type": "markdown",
   "metadata": {},
   "source": [
    "## 训练模型"
   ]
  },
  {
   "cell_type": "code",
   "execution_count": 7,
   "metadata": {},
   "outputs": [
    {
     "name": "stdout",
     "output_type": "stream",
     "text": [
      "Epoch: 0, Train Loss: 0.9732, Train Acc: 77.89%, Test Loss: 0.1948, Test Acc: 94.67%\n",
      "Epoch: 1, Train Loss: 0.0693, Train Acc: 97.89%, Test Loss: 0.2048, Test Acc: 93.78%\n",
      "Epoch: 2, Train Loss: 0.0322, Train Acc: 99.00%, Test Loss: 0.1686, Test Acc: 96.00%\n",
      "Epoch: 3, Train Loss: 0.0231, Train Acc: 99.11%, Test Loss: 0.1935, Test Acc: 93.78%\n",
      "Epoch: 4, Train Loss: 0.0200, Train Acc: 99.44%, Test Loss: 0.2186, Test Acc: 95.11%\n",
      "Epoch: 5, Train Loss: 0.0071, Train Acc: 99.89%, Test Loss: 0.2371, Test Acc: 95.56%\n",
      "Epoch: 6, Train Loss: 0.0028, Train Acc: 100.00%, Test Loss: 0.2358, Test Acc: 94.22%\n",
      "Epoch: 7, Train Loss: 0.0007, Train Acc: 100.00%, Test Loss: 0.2331, Test Acc: 94.22%\n",
      "Epoch: 8, Train Loss: 0.0038, Train Acc: 99.89%, Test Loss: 0.2793, Test Acc: 93.78%\n",
      "Epoch: 9, Train Loss: 0.0023, Train Acc: 100.00%, Test Loss: 0.2873, Test Acc: 93.78%\n",
      "Epoch: 10, Train Loss: 0.0027, Train Acc: 99.89%, Test Loss: 0.3106, Test Acc: 95.11%\n",
      "Epoch: 11, Train Loss: 0.0015, Train Acc: 100.00%, Test Loss: 0.2984, Test Acc: 94.67%\n",
      "Epoch: 12, Train Loss: 0.0003, Train Acc: 100.00%, Test Loss: 0.2993, Test Acc: 95.11%\n",
      "Epoch: 13, Train Loss: 0.0069, Train Acc: 99.67%, Test Loss: 0.2955, Test Acc: 94.67%\n",
      "Epoch: 14, Train Loss: 0.0584, Train Acc: 98.67%, Test Loss: 0.4751, Test Acc: 91.11%\n",
      "Epoch: 15, Train Loss: 0.1514, Train Acc: 95.33%, Test Loss: 0.5019, Test Acc: 93.33%\n",
      "Epoch: 16, Train Loss: 0.1162, Train Acc: 97.78%, Test Loss: 0.9687, Test Acc: 88.44%\n",
      "Epoch: 17, Train Loss: 0.0407, Train Acc: 98.89%, Test Loss: 0.4527, Test Acc: 94.22%\n",
      "Epoch: 18, Train Loss: 0.0232, Train Acc: 99.22%, Test Loss: 0.3619, Test Acc: 95.56%\n",
      "Epoch: 19, Train Loss: 0.0221, Train Acc: 99.44%, Test Loss: 0.4231, Test Acc: 96.00%\n"
     ]
    }
   ],
   "source": [
    "# 训练前准备，定义模型、损失函数、优化器\n",
    "device = torch.device('cuda' if torch.cuda.is_available() else 'cpu') # 判断是否有GPU，如果有则使用GPU，否则使用CPU\n",
    "model.to(device) # 将已实例化的模型移动到GPU上\n",
    "\n",
    "loss_fn = torch.nn.CrossEntropyLoss()  # 损失函数，交叉熵损失函数，使用未激活的输出作为输入，内置了softmax函数为激活函数，输出为每个类别的概率\n",
    "opt = torch.optim.Adam(model.classifier.parameters(), lr=0.0001) # 优化器，Adam优化器，学习率为0.0001\n",
    "epochs = 20\n",
    "\n",
    "# 通用训练模板，输入模型、训练数据、测试数据，返回loss和acc变化\n",
    "# 训练函数\n",
    "def train(train_dl, model, loss_fn, opt):\n",
    "    size = len(train_dl.dataset) # 获取数据集的大小\n",
    "    num_batches = len(train_dl) # 获取数据集的批次数量\n",
    "\n",
    "    train_loss = 0.0 # 训练集损失\n",
    "    train_acc = 0.0 # 训练集准确率\n",
    "\n",
    "    for x, y in train_dl: # 遍历数据集\n",
    "        x, y = x.to(device), y.to(device) # 将数据移动到GPU上\n",
    "\n",
    "        pred = model(x) # 前向传播\n",
    "        loss = loss_fn(pred, y) # 计算损失\n",
    "\n",
    "        opt.zero_grad() # 梯度清零\n",
    "        loss.backward() # 反向传播\n",
    "        opt.step() # 更新参数\n",
    "\n",
    "        with torch.no_grad(): # 不计算梯度\n",
    "            train_loss += loss.item() # 计算损失\n",
    "            train_acc += (pred.argmax(dim=1) == y).type(torch.float).sum().item() # 计算准确率\n",
    "\n",
    "    train_loss /= num_batches # 计算平均损失\n",
    "    train_acc /= size # 计算平均准确率\n",
    "\n",
    "    return train_loss, train_acc\n",
    "\n",
    "# 测试函数\n",
    "def test(test_dl, model, loss_fn):\n",
    "    size = len(test_dl.dataset) # 获取数据集的大小\n",
    "    num_batches = len(test_dl) # 获取数据集的批次数量\n",
    "\n",
    "    test_loss = 0.0 # 测试集损失\n",
    "    test_acc = 0.0 # 测试集准确率\n",
    "\n",
    "    with torch.no_grad(): # 不计算梯度\n",
    "        for x, y in test_dl: # 遍历数据集\n",
    "            x, y = x.to(device), y.to(device) # 将数据移动到GPU上\n",
    "\n",
    "            pred = model(x) # 前向传播\n",
    "            loss = loss_fn(pred, y) # 计算损失\n",
    "            test_loss += loss.item() # 计算损失\n",
    "            test_acc += (pred.argmax(dim=1) == y).type(torch.float).sum().item() # 计算准确率\n",
    "\n",
    "    test_loss /= num_batches # 计算平均损失\n",
    "    test_acc /= size # 计算平均准确率\n",
    "\n",
    "    return test_loss, test_acc\n",
    "\n",
    "# 训练函数\n",
    "def fit(epochs, model, train_dl, test_dl, loss_fn, opt):\n",
    "    train_loss = []\n",
    "    train_acc = []\n",
    "    test_loss = []\n",
    "    test_acc = []\n",
    "\n",
    "    print_template = 'Epoch: {}, Train Loss: {:.4f}, Train Acc: {:.2f}%, Test Loss: {:.4f}, Test Acc: {:.2f}%'\n",
    "\n",
    "\n",
    "    for epoch in range(epochs):\n",
    "        model.train() # 设置模型为训练模式，启用dropout层\n",
    "        epoch_train_loss, epoch_train_acc = train(train_dl, model, loss_fn, opt)\n",
    "        model.eval() # 设置模型为评估预测模式，禁用dropout层\n",
    "        epoch_test_loss, epoch_test_acc = test(test_dl, model, loss_fn)\n",
    "\n",
    "        train_loss.append(epoch_train_loss)\n",
    "        train_acc.append(epoch_train_acc)\n",
    "        test_loss.append(epoch_test_loss)\n",
    "        test_acc.append(epoch_test_acc)\n",
    "\n",
    "        print(print_template.format(epoch, epoch_train_loss, epoch_train_acc * 100, epoch_test_loss, epoch_test_acc * 100))\n",
    "\n",
    "    return train_loss, train_acc, test_loss, test_acc\n",
    "\n",
    "# 训练\n",
    "train_loss, train_acc, test_loss, test_acc = fit(epochs, model, train_dl, test_dl, loss_fn, opt)"
   ]
  },
  {
   "cell_type": "markdown",
   "metadata": {},
   "source": [
    "## 可视化训练结果"
   ]
  },
  {
   "cell_type": "code",
   "execution_count": 8,
   "metadata": {},
   "outputs": [
    {
     "data": {
      "text/plain": [
       "<matplotlib.legend.Legend at 0x2a01ca24c70>"
      ]
     },
     "execution_count": 8,
     "metadata": {},
     "output_type": "execute_result"
    },
    {
     "data": {
      "image/png": "[encoded data removed]",
      "text/plain": [
       "<Figure size 640x480 with 1 Axes>"
      ]
     },
     "metadata": {},
     "output_type": "display_data"
    }
   ],
   "source": [
    "plt.plot(range(1, epochs+1), train_loss, label='train_loss')\n",
    "plt.plot(range(1, epochs+1), test_loss, label='test_loss')\n",
    "plt.legend()"
   ]
  },
  {
   "cell_type": "code",
   "execution_count": 9,
   "metadata": {},
   "outputs": [
    {
     "data": {
      "text/plain": [
       "<matplotlib.legend.Legend at 0x2a05d059280>"
      ]
     },
     "execution_count": 9,
     "metadata": {},
     "output_type": "execute_result"
    },
    {
     "data": {
      "image/png": "[encoded data removed]",
      "text/plain": [
       "<Figure size 640x480 with 1 Axes>"
      ]
     },
     "metadata": {},
     "output_type": "display_data"
    }
   ],
   "source": [
    "plt.plot(range(1, epochs+1), train_acc, label='train_acc')\n",
    "plt.plot(range(1, epochs+1), test_acc, label='test_acc')\n",
    "plt.legend()"
   ]
  }
 ],
 "metadata": {
  "kernelspec": {
   "display_name": "pytorch2.2.2",
   "language": "python",
   "name": "pytorch2.2.2"
  },
  "language_info": {
   "codemirror_mode": {
    "name": "ipython",
    "version": 3
   },
   "file_extension": ".py",
   "mimetype": "text/x-python",
   "name": "python",
   "nbconvert_exporter": "python",
   "pygments_lexer": "ipython3",
   "version": "3.9.21"
  }
 },
 "nbformat": 4,
 "nbformat_minor": 4
}
