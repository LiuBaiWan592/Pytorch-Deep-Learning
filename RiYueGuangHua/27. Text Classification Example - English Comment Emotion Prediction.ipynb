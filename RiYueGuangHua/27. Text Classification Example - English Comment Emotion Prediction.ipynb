{
 "cells": [
  {
   "cell_type": "markdown",
   "metadata": {},
   "source": [
    "# 文本分类实例-英文评论情感预测（Text Classification Example - English Comment Emotion Prediction）"
   ]
  },
  {
   "cell_type": "code",
   "execution_count": 1,
   "metadata": {},
   "outputs": [],
   "source": [
    "import torch\n",
    "import torch.nn as nn\n",
    "import torch.nn.functional as F\n",
    "import numpy as np\n",
    "import pandas as pd\n",
    "import matplotlib.pyplot as plt\n",
    "%matplotlib inline"
   ]
  },
  {
   "cell_type": "markdown",
   "metadata": {},
   "source": [
    "## 数据读取和观察"
   ]
  },
  {
   "cell_type": "code",
   "execution_count": 2,
   "metadata": {},
   "outputs": [
    {
     "data": {
      "application/vnd.microsoft.datawrangler.viewer.v0+json": {
       "columns": [
        {
         "name": "index",
         "rawType": "int64",
         "type": "integer"
        },
        {
         "name": "tweet_id",
         "rawType": "int64",
         "type": "integer"
        },
        {
         "name": "airline_sentiment",
         "rawType": "object",
         "type": "string"
        },
        {
         "name": "airline_sentiment_confidence",
         "rawType": "float64",
         "type": "float"
        },
        {
         "name": "negativereason",
         "rawType": "object",
         "type": "string"
        },
        {
         "name": "negativereason_confidence",
         "rawType": "float64",
         "type": "float"
        },
        {
         "name": "airline",
         "rawType": "object",
         "type": "string"
        },
        {
         "name": "airline_sentiment_gold",
         "rawType": "object",
         "type": "string"
        },
        {
         "name": "name",
         "rawType": "object",
         "type": "string"
        },
        {
         "name": "negativereason_gold",
         "rawType": "object",
         "type": "string"
        },
        {
         "name": "retweet_count",
         "rawType": "int64",
         "type": "integer"
        },
        {
         "name": "text",
         "rawType": "object",
         "type": "string"
        },
        {
         "name": "tweet_coord",
         "rawType": "object",
         "type": "string"
        },
        {
         "name": "tweet_created",
         "rawType": "object",
         "type": "string"
        },
        {
         "name": "tweet_location",
         "rawType": "object",
         "type": "string"
        },
        {
         "name": "user_timezone",
         "rawType": "object",
         "type": "string"
        }
       ],
       "ref": "d79d73b7-2abd-4c16-a797-9e65be4b643c",
       "rows": [
        [
         "0",
         "570306133677760513",
         "neutral",
         "1.0",
         null,
         null,
         "Virgin America",
         null,
         "cairdin",
         null,
         "0",
         "@VirginAmerica What @dhepburn said.",
         null,
         "2015-02-24 11:35:52 -0800",
         null,
         "Eastern Time (US & Canada)"
        ],
        [
         "1",
         "570301130888122368",
         "positive",
         "0.3486",
         null,
         "0.0",
         "Virgin America",
         null,
         "jnardino",
         null,
         "0",
         "@VirginAmerica plus you've added commercials to the experience... tacky.",
         null,
         "2015-02-24 11:15:59 -0800",
         null,
         "Pacific Time (US & Canada)"
        ],
        [
         "2",
         "570301083672813571",
         "neutral",
         "0.6837",
         null,
         null,
         "Virgin America",
         null,
         "yvonnalynn",
         null,
         "0",
         "@VirginAmerica I didn't today... Must mean I need to take another trip!",
         null,
         "2015-02-24 11:15:48 -0800",
         "Lets Play",
         "Central Time (US & Canada)"
        ],
        [
         "3",
         "570301031407624196",
         "negative",
         "1.0",
         "Bad Flight",
         "0.7033",
         "Virgin America",
         null,
         "jnardino",
         null,
         "0",
         "@VirginAmerica it's really aggressive to blast obnoxious \"entertainment\" in your guests' faces &amp; they have little recourse",
         null,
         "2015-02-24 11:15:36 -0800",
         null,
         "Pacific Time (US & Canada)"
        ],
        [
         "4",
         "570300817074462722",
         "negative",
         "1.0",
         "Can't Tell",
         "1.0",
         "Virgin America",
         null,
         "jnardino",
         null,
         "0",
         "@VirginAmerica and it's a really big bad thing about it",
         null,
         "2015-02-24 11:14:45 -0800",
         null,
         "Pacific Time (US & Canada)"
        ]
       ],
       "shape": {
        "columns": 15,
        "rows": 5
       }
      },
      "text/html": [
       "<div>\n",
       "<style scoped>\n",
       "    .dataframe tbody tr th:only-of-type {\n",
       "        vertical-align: middle;\n",
       "    }\n",
       "\n",
       "    .dataframe tbody tr th {\n",
       "        vertical-align: top;\n",
       "    }\n",
       "\n",
       "    .dataframe thead th {\n",
       "        text-align: right;\n",
       "    }\n",
       "</style>\n",
       "<table border=\"1\" class=\"dataframe\">\n",
       "  <thead>\n",
       "    <tr style=\"text-align: right;\">\n",
       "      <th></th>\n",
       "      <th>tweet_id</th>\n",
       "      <th>airline_sentiment</th>\n",
       "      <th>airline_sentiment_confidence</th>\n",
       "      <th>negativereason</th>\n",
       "      <th>negativereason_confidence</th>\n",
       "      <th>airline</th>\n",
       "      <th>airline_sentiment_gold</th>\n",
       "      <th>name</th>\n",
       "      <th>negativereason_gold</th>\n",
       "      <th>retweet_count</th>\n",
       "      <th>text</th>\n",
       "      <th>tweet_coord</th>\n",
       "      <th>tweet_created</th>\n",
       "      <th>tweet_location</th>\n",
       "      <th>user_timezone</th>\n",
       "    </tr>\n",
       "  </thead>\n",
       "  <tbody>\n",
       "    <tr>\n",
       "      <th>0</th>\n",
       "      <td>570306133677760513</td>\n",
       "      <td>neutral</td>\n",
       "      <td>1.0000</td>\n",
       "      <td>NaN</td>\n",
       "      <td>NaN</td>\n",
       "      <td>Virgin America</td>\n",
       "      <td>NaN</td>\n",
       "      <td>cairdin</td>\n",
       "      <td>NaN</td>\n",
       "      <td>0</td>\n",
       "      <td>@VirginAmerica What @dhepburn said.</td>\n",
       "      <td>NaN</td>\n",
       "      <td>2015-02-24 11:35:52 -0800</td>\n",
       "      <td>NaN</td>\n",
       "      <td>Eastern Time (US &amp; Canada)</td>\n",
       "    </tr>\n",
       "    <tr>\n",
       "      <th>1</th>\n",
       "      <td>570301130888122368</td>\n",
       "      <td>positive</td>\n",
       "      <td>0.3486</td>\n",
       "      <td>NaN</td>\n",
       "      <td>0.0000</td>\n",
       "      <td>Virgin America</td>\n",
       "      <td>NaN</td>\n",
       "      <td>jnardino</td>\n",
       "      <td>NaN</td>\n",
       "      <td>0</td>\n",
       "      <td>@VirginAmerica plus you've added commercials t...</td>\n",
       "      <td>NaN</td>\n",
       "      <td>2015-02-24 11:15:59 -0800</td>\n",
       "      <td>NaN</td>\n",
       "      <td>Pacific Time (US &amp; Canada)</td>\n",
       "    </tr>\n",
       "    <tr>\n",
       "      <th>2</th>\n",
       "      <td>570301083672813571</td>\n",
       "      <td>neutral</td>\n",
       "      <td>0.6837</td>\n",
       "      <td>NaN</td>\n",
       "      <td>NaN</td>\n",
       "      <td>Virgin America</td>\n",
       "      <td>NaN</td>\n",
       "      <td>yvonnalynn</td>\n",
       "      <td>NaN</td>\n",
       "      <td>0</td>\n",
       "      <td>@VirginAmerica I didn't today... Must mean I n...</td>\n",
       "      <td>NaN</td>\n",
       "      <td>2015-02-24 11:15:48 -0800</td>\n",
       "      <td>Lets Play</td>\n",
       "      <td>Central Time (US &amp; Canada)</td>\n",
       "    </tr>\n",
       "    <tr>\n",
       "      <th>3</th>\n",
       "      <td>570301031407624196</td>\n",
       "      <td>negative</td>\n",
       "      <td>1.0000</td>\n",
       "      <td>Bad Flight</td>\n",
       "      <td>0.7033</td>\n",
       "      <td>Virgin America</td>\n",
       "      <td>NaN</td>\n",
       "      <td>jnardino</td>\n",
       "      <td>NaN</td>\n",
       "      <td>0</td>\n",
       "      <td>@VirginAmerica it's really aggressive to blast...</td>\n",
       "      <td>NaN</td>\n",
       "      <td>2015-02-24 11:15:36 -0800</td>\n",
       "      <td>NaN</td>\n",
       "      <td>Pacific Time (US &amp; Canada)</td>\n",
       "    </tr>\n",
       "    <tr>\n",
       "      <th>4</th>\n",
       "      <td>570300817074462722</td>\n",
       "      <td>negative</td>\n",
       "      <td>1.0000</td>\n",
       "      <td>Can't Tell</td>\n",
       "      <td>1.0000</td>\n",
       "      <td>Virgin America</td>\n",
       "      <td>NaN</td>\n",
       "      <td>jnardino</td>\n",
       "      <td>NaN</td>\n",
       "      <td>0</td>\n",
       "      <td>@VirginAmerica and it's a really big bad thing...</td>\n",
       "      <td>NaN</td>\n",
       "      <td>2015-02-24 11:14:45 -0800</td>\n",
       "      <td>NaN</td>\n",
       "      <td>Pacific Time (US &amp; Canada)</td>\n",
       "    </tr>\n",
       "  </tbody>\n",
       "</table>\n",
       "</div>"
      ],
      "text/plain": [
       "             tweet_id airline_sentiment  airline_sentiment_confidence  \\\n",
       "0  570306133677760513           neutral                        1.0000   \n",
       "1  570301130888122368          positive                        0.3486   \n",
       "2  570301083672813571           neutral                        0.6837   \n",
       "3  570301031407624196          negative                        1.0000   \n",
       "4  570300817074462722          negative                        1.0000   \n",
       "\n",
       "  negativereason  negativereason_confidence         airline  \\\n",
       "0            NaN                        NaN  Virgin America   \n",
       "1            NaN                     0.0000  Virgin America   \n",
       "2            NaN                        NaN  Virgin America   \n",
       "3     Bad Flight                     0.7033  Virgin America   \n",
       "4     Can't Tell                     1.0000  Virgin America   \n",
       "\n",
       "  airline_sentiment_gold        name negativereason_gold  retweet_count  \\\n",
       "0                    NaN     cairdin                 NaN              0   \n",
       "1                    NaN    jnardino                 NaN              0   \n",
       "2                    NaN  yvonnalynn                 NaN              0   \n",
       "3                    NaN    jnardino                 NaN              0   \n",
       "4                    NaN    jnardino                 NaN              0   \n",
       "\n",
       "                                                text tweet_coord  \\\n",
       "0                @VirginAmerica What @dhepburn said.         NaN   \n",
       "1  @VirginAmerica plus you've added commercials t...         NaN   \n",
       "2  @VirginAmerica I didn't today... Must mean I n...         NaN   \n",
       "3  @VirginAmerica it's really aggressive to blast...         NaN   \n",
       "4  @VirginAmerica and it's a really big bad thing...         NaN   \n",
       "\n",
       "               tweet_created tweet_location               user_timezone  \n",
       "0  2015-02-24 11:35:52 -0800            NaN  Eastern Time (US & Canada)  \n",
       "1  2015-02-24 11:15:59 -0800            NaN  Pacific Time (US & Canada)  \n",
       "2  2015-02-24 11:15:48 -0800      Lets Play  Central Time (US & Canada)  \n",
       "3  2015-02-24 11:15:36 -0800            NaN  Pacific Time (US & Canada)  \n",
       "4  2015-02-24 11:14:45 -0800            NaN  Pacific Time (US & Canada)  "
      ]
     },
     "execution_count": 2,
     "metadata": {},
     "output_type": "execute_result"
    }
   ],
   "source": [
    "# 使用pandas打开csv文件\n",
    "data = pd.read_csv('./dataset/Tweets.csv')\n",
    "# 查看数据\n",
    "data.head()"
   ]
  },
  {
   "cell_type": "code",
   "execution_count": 3,
   "metadata": {},
   "outputs": [
    {
     "name": "stdout",
     "output_type": "stream",
     "text": [
      "<class 'pandas.core.frame.DataFrame'>\n",
      "RangeIndex: 14640 entries, 0 to 14639\n",
      "Data columns (total 2 columns):\n",
      " #   Column             Non-Null Count  Dtype \n",
      "---  ------             --------------  ----- \n",
      " 0   airline_sentiment  14640 non-null  object\n",
      " 1   text               14640 non-null  object\n",
      "dtypes: object(2)\n",
      "memory usage: 228.9+ KB\n",
      "Rebeated rows:  188\n",
      "Rebeated rows after drop:  0\n"
     ]
    }
   ],
   "source": [
    "# 分离评价内容和对应的情感标签\n",
    "data = data[['airline_sentiment', 'text']]\n",
    "# 查看数据信息\n",
    "data.info()\n",
    "# 查看是否有重复值\n",
    "print(\"Rebeated rows: \", data.duplicated().sum())\n",
    "# 除去数据中的重复值\n",
    "data.drop_duplicates(inplace=True)\n",
    "# 查看重复值是否去除\n",
    "print(\"Rebeated rows after drop: \", data.duplicated().sum())"
   ]
  },
  {
   "cell_type": "code",
   "execution_count": 4,
   "metadata": {},
   "outputs": [
    {
     "name": "stdout",
     "output_type": "stream",
     "text": [
      "['neutral' 'positive' 'negative']\n"
     ]
    },
    {
     "data": {
      "application/vnd.microsoft.datawrangler.viewer.v0+json": {
       "columns": [
        {
         "name": "index",
         "rawType": "object",
         "type": "string"
        },
        {
         "name": "airline_sentiment",
         "rawType": "int64",
         "type": "integer"
        }
       ],
       "ref": "a950ee50-51a9-4bc8-9a2d-045ab002cf56",
       "rows": [
        [
         "negative",
         "9087"
        ],
        [
         "neutral",
         "3067"
        ],
        [
         "positive",
         "2298"
        ]
       ],
       "shape": {
        "columns": 1,
        "rows": 3
       }
      },
      "text/plain": [
       "negative    9087\n",
       "neutral     3067\n",
       "positive    2298\n",
       "Name: airline_sentiment, dtype: int64"
      ]
     },
     "execution_count": 4,
     "metadata": {},
     "output_type": "execute_result"
    }
   ],
   "source": [
    "# 查看情感标签\n",
    "print(data.airline_sentiment.unique())\n",
    "# 查看情感标签的分布是否均衡\n",
    "data.airline_sentiment.value_counts()"
   ]
  },
  {
   "cell_type": "code",
   "execution_count": 5,
   "metadata": {},
   "outputs": [
    {
     "data": {
      "application/vnd.microsoft.datawrangler.viewer.v0+json": {
       "columns": [
        {
         "name": "index",
         "rawType": "int64",
         "type": "integer"
        },
        {
         "name": "airline_sentiment",
         "rawType": "object",
         "type": "string"
        },
        {
         "name": "text",
         "rawType": "object",
         "type": "string"
        }
       ],
       "ref": "0393eb3d-e523-45d1-a067-33d193154751",
       "rows": [
        [
         "0",
         "neutral",
         "@VirginAmerica What @dhepburn said."
        ],
        [
         "1",
         "positive",
         "@VirginAmerica plus you've added commercials to the experience... tacky."
        ],
        [
         "2",
         "neutral",
         "@VirginAmerica I didn't today... Must mean I need to take another trip!"
        ],
        [
         "3",
         "negative",
         "@VirginAmerica it's really aggressive to blast obnoxious \"entertainment\" in your guests' faces &amp; they have little recourse"
        ],
        [
         "4",
         "negative",
         "@VirginAmerica and it's a really big bad thing about it"
        ]
       ],
       "shape": {
        "columns": 2,
        "rows": 5
       }
      },
      "text/html": [
       "<div>\n",
       "<style scoped>\n",
       "    .dataframe tbody tr th:only-of-type {\n",
       "        vertical-align: middle;\n",
       "    }\n",
       "\n",
       "    .dataframe tbody tr th {\n",
       "        vertical-align: top;\n",
       "    }\n",
       "\n",
       "    .dataframe thead th {\n",
       "        text-align: right;\n",
       "    }\n",
       "</style>\n",
       "<table border=\"1\" class=\"dataframe\">\n",
       "  <thead>\n",
       "    <tr style=\"text-align: right;\">\n",
       "      <th></th>\n",
       "      <th>airline_sentiment</th>\n",
       "      <th>text</th>\n",
       "    </tr>\n",
       "  </thead>\n",
       "  <tbody>\n",
       "    <tr>\n",
       "      <th>0</th>\n",
       "      <td>neutral</td>\n",
       "      <td>@VirginAmerica What @dhepburn said.</td>\n",
       "    </tr>\n",
       "    <tr>\n",
       "      <th>1</th>\n",
       "      <td>positive</td>\n",
       "      <td>@VirginAmerica plus you've added commercials t...</td>\n",
       "    </tr>\n",
       "    <tr>\n",
       "      <th>2</th>\n",
       "      <td>neutral</td>\n",
       "      <td>@VirginAmerica I didn't today... Must mean I n...</td>\n",
       "    </tr>\n",
       "    <tr>\n",
       "      <th>3</th>\n",
       "      <td>negative</td>\n",
       "      <td>@VirginAmerica it's really aggressive to blast...</td>\n",
       "    </tr>\n",
       "    <tr>\n",
       "      <th>4</th>\n",
       "      <td>negative</td>\n",
       "      <td>@VirginAmerica and it's a really big bad thing...</td>\n",
       "    </tr>\n",
       "  </tbody>\n",
       "</table>\n",
       "</div>"
      ],
      "text/plain": [
       "  airline_sentiment                                               text\n",
       "0           neutral                @VirginAmerica What @dhepburn said.\n",
       "1          positive  @VirginAmerica plus you've added commercials t...\n",
       "2           neutral  @VirginAmerica I didn't today... Must mean I n...\n",
       "3          negative  @VirginAmerica it's really aggressive to blast...\n",
       "4          negative  @VirginAmerica and it's a really big bad thing..."
      ]
     },
     "execution_count": 5,
     "metadata": {},
     "output_type": "execute_result"
    }
   ],
   "source": [
    "# 查看当前处理后的数据\n",
    "data.head()"
   ]
  },
  {
   "cell_type": "code",
   "execution_count": 6,
   "metadata": {},
   "outputs": [
    {
     "data": {
      "application/vnd.microsoft.datawrangler.viewer.v0+json": {
       "columns": [
        {
         "name": "index",
         "rawType": "int64",
         "type": "integer"
        },
        {
         "name": "text",
         "rawType": "object",
         "type": "string"
        },
        {
         "name": "review",
         "rawType": "int64",
         "type": "integer"
        }
       ],
       "ref": "3c8594e5-0d58-47c3-9062-da88c45158d8",
       "rows": [
        [
         "0",
         "@VirginAmerica What @dhepburn said.",
         "0"
        ],
        [
         "1",
         "@VirginAmerica plus you've added commercials to the experience... tacky.",
         "1"
        ],
        [
         "2",
         "@VirginAmerica I didn't today... Must mean I need to take another trip!",
         "0"
        ],
        [
         "3",
         "@VirginAmerica it's really aggressive to blast obnoxious \"entertainment\" in your guests' faces &amp; they have little recourse",
         "2"
        ],
        [
         "4",
         "@VirginAmerica and it's a really big bad thing about it",
         "2"
        ]
       ],
       "shape": {
        "columns": 2,
        "rows": 5
       }
      },
      "text/html": [
       "<div>\n",
       "<style scoped>\n",
       "    .dataframe tbody tr th:only-of-type {\n",
       "        vertical-align: middle;\n",
       "    }\n",
       "\n",
       "    .dataframe tbody tr th {\n",
       "        vertical-align: top;\n",
       "    }\n",
       "\n",
       "    .dataframe thead th {\n",
       "        text-align: right;\n",
       "    }\n",
       "</style>\n",
       "<table border=\"1\" class=\"dataframe\">\n",
       "  <thead>\n",
       "    <tr style=\"text-align: right;\">\n",
       "      <th></th>\n",
       "      <th>text</th>\n",
       "      <th>review</th>\n",
       "    </tr>\n",
       "  </thead>\n",
       "  <tbody>\n",
       "    <tr>\n",
       "      <th>0</th>\n",
       "      <td>@VirginAmerica What @dhepburn said.</td>\n",
       "      <td>0</td>\n",
       "    </tr>\n",
       "    <tr>\n",
       "      <th>1</th>\n",
       "      <td>@VirginAmerica plus you've added commercials t...</td>\n",
       "      <td>1</td>\n",
       "    </tr>\n",
       "    <tr>\n",
       "      <th>2</th>\n",
       "      <td>@VirginAmerica I didn't today... Must mean I n...</td>\n",
       "      <td>0</td>\n",
       "    </tr>\n",
       "    <tr>\n",
       "      <th>3</th>\n",
       "      <td>@VirginAmerica it's really aggressive to blast...</td>\n",
       "      <td>2</td>\n",
       "    </tr>\n",
       "    <tr>\n",
       "      <th>4</th>\n",
       "      <td>@VirginAmerica and it's a really big bad thing...</td>\n",
       "      <td>2</td>\n",
       "    </tr>\n",
       "  </tbody>\n",
       "</table>\n",
       "</div>"
      ],
      "text/plain": [
       "                                                text  review\n",
       "0                @VirginAmerica What @dhepburn said.       0\n",
       "1  @VirginAmerica plus you've added commercials t...       1\n",
       "2  @VirginAmerica I didn't today... Must mean I n...       0\n",
       "3  @VirginAmerica it's really aggressive to blast...       2\n",
       "4  @VirginAmerica and it's a really big bad thing...       2"
      ]
     },
     "execution_count": 6,
     "metadata": {},
     "output_type": "execute_result"
    }
   ],
   "source": [
    "# 标签的处理\n",
    "# 将情感标签转换为数字\n",
    "data['review'] = pd.factorize(data.airline_sentiment)[0]\n",
    "# 删除情感标签列\n",
    "del data['airline_sentiment']\n",
    "# 查看当前处理后的数据\n",
    "data.head()"
   ]
  },
  {
   "cell_type": "code",
   "execution_count": 7,
   "metadata": {},
   "outputs": [
    {
     "data": {
      "application/vnd.microsoft.datawrangler.viewer.v0+json": {
       "columns": [
        {
         "name": "index",
         "rawType": "int64",
         "type": "integer"
        },
        {
         "name": "text",
         "rawType": "object",
         "type": "string"
        },
        {
         "name": "review",
         "rawType": "int64",
         "type": "integer"
        }
       ],
       "ref": "1adde204-7308-4480-b44d-059445a6344f",
       "rows": [
        [
         "0",
         "['virginamerica', 'what', 'dhepburn', 'said', '.']",
         "0"
        ],
        [
         "1",
         "['virginamerica', 'plus', 'you', 've', 'added', 'commercials', 'to', 'the', 'experience', '.', '.', '.', 'tacky', '.']",
         "1"
        ],
        [
         "2",
         "['virginamerica', 'i', 'didn', 't', 'today', '.', '.', '.', 'must', 'mean', 'i', 'need', 'to', 'take', 'another', 'trip', '!']",
         "0"
        ],
        [
         "3",
         "['virginamerica', 'it', 's', 'really', 'aggressive', 'to', 'blast', 'obnoxious', 'entertainment', 'in', 'your', 'guests', 'faces', 'amp', 'they', 'have', 'little', 'recourse']",
         "2"
        ],
        [
         "4",
         "['virginamerica', 'and', 'it', 's', 'a', 'really', 'big', 'bad', 'thing', 'about', 'it']",
         "2"
        ]
       ],
       "shape": {
        "columns": 2,
        "rows": 5
       }
      },
      "text/html": [
       "<div>\n",
       "<style scoped>\n",
       "    .dataframe tbody tr th:only-of-type {\n",
       "        vertical-align: middle;\n",
       "    }\n",
       "\n",
       "    .dataframe tbody tr th {\n",
       "        vertical-align: top;\n",
       "    }\n",
       "\n",
       "    .dataframe thead th {\n",
       "        text-align: right;\n",
       "    }\n",
       "</style>\n",
       "<table border=\"1\" class=\"dataframe\">\n",
       "  <thead>\n",
       "    <tr style=\"text-align: right;\">\n",
       "      <th></th>\n",
       "      <th>text</th>\n",
       "      <th>review</th>\n",
       "    </tr>\n",
       "  </thead>\n",
       "  <tbody>\n",
       "    <tr>\n",
       "      <th>0</th>\n",
       "      <td>[virginamerica, what, dhepburn, said, .]</td>\n",
       "      <td>0</td>\n",
       "    </tr>\n",
       "    <tr>\n",
       "      <th>1</th>\n",
       "      <td>[virginamerica, plus, you, ve, added, commerci...</td>\n",
       "      <td>1</td>\n",
       "    </tr>\n",
       "    <tr>\n",
       "      <th>2</th>\n",
       "      <td>[virginamerica, i, didn, t, today, ., ., ., mu...</td>\n",
       "      <td>0</td>\n",
       "    </tr>\n",
       "    <tr>\n",
       "      <th>3</th>\n",
       "      <td>[virginamerica, it, s, really, aggressive, to,...</td>\n",
       "      <td>2</td>\n",
       "    </tr>\n",
       "    <tr>\n",
       "      <th>4</th>\n",
       "      <td>[virginamerica, and, it, s, a, really, big, ba...</td>\n",
       "      <td>2</td>\n",
       "    </tr>\n",
       "  </tbody>\n",
       "</table>\n",
       "</div>"
      ],
      "text/plain": [
       "                                                text  review\n",
       "0           [virginamerica, what, dhepburn, said, .]       0\n",
       "1  [virginamerica, plus, you, ve, added, commerci...       1\n",
       "2  [virginamerica, i, didn, t, today, ., ., ., mu...       0\n",
       "3  [virginamerica, it, s, really, aggressive, to,...       2\n",
       "4  [virginamerica, and, it, s, a, really, big, ba...       2"
      ]
     },
     "execution_count": 7,
     "metadata": {},
     "output_type": "execute_result"
    }
   ],
   "source": [
    "# 文本的处理\n",
    "import re\n",
    "# 定义一个正则表达式，用于匹配文本中的单词和标点符号\n",
    "token = re.compile('[A-Za-z]+|[!?,.()]')\n",
    "# 文本处理函数\n",
    "def reg_text(text):\n",
    "    new_text = token.findall(text)\n",
    "    new_text = [word.lower() for word in new_text]\n",
    "    return new_text\n",
    "# 处理文本\n",
    "data['text'] = data.text.apply(reg_text)\n",
    "# 查看处理后的文本\n",
    "data.head()"
   ]
  },
  {
   "cell_type": "markdown",
   "metadata": {},
   "source": [
    "## 创建词表（vocab）"
   ]
  },
  {
   "cell_type": "code",
   "execution_count": 8,
   "metadata": {},
   "outputs": [
    {
     "name": "stdout",
     "output_type": "stream",
     "text": [
      "13668\n"
     ]
    }
   ],
   "source": [
    "# 初始化空集合\n",
    "word_set = set()\n",
    "# 遍历数据集中的所有文本，将每个单词添加到集合中\n",
    "for text in data.text:\n",
    "    for word in text:\n",
    "        word_set.add(word)\n",
    "# 打印集合的大小，即词汇表的大小\n",
    "max_word = len(word_set) + 1\n",
    "print(max_word)"
   ]
  },
  {
   "cell_type": "code",
   "execution_count": 9,
   "metadata": {},
   "outputs": [
    {
     "data": {
      "text/plain": [
       "10075"
      ]
     },
     "execution_count": 9,
     "metadata": {},
     "output_type": "execute_result"
    }
   ],
   "source": [
    "# 将集合转换为列表\n",
    "word_list = list(word_set)\n",
    "# 查找单词在列表中的索引\n",
    "word_list.index('spending')"
   ]
  },
  {
   "cell_type": "code",
   "execution_count": 10,
   "metadata": {},
   "outputs": [
    {
     "data": {
      "text/plain": [
       "{'hid': 1,\n",
       " 'hated': 2,\n",
       " 'involve': 3,\n",
       " 'yr': 4,\n",
       " 'usatodaytravel': 5,\n",
       " 'bundle': 6,\n",
       " 'rated': 7,\n",
       " 'threehourslate': 8,\n",
       " 'mypompanobeach': 9,\n",
       " 'evennotified': 10,\n",
       " 'pseudo': 11,\n",
       " 'extraordinaire': 12,\n",
       " 'offloading': 13,\n",
       " 'comms': 14,\n",
       " 'ufyxxkisa': 15,\n",
       " 'decorum': 16,\n",
       " 'tug': 17,\n",
       " 'whyairtravelsucks': 18,\n",
       " 'whenever': 19,\n",
       " 'carmen': 20,\n",
       " 'rising': 21,\n",
       " 'garcia': 22,\n",
       " 'reality': 23,\n",
       " 'iidrblnoox': 24,\n",
       " 'flypdx': 25,\n",
       " 'jockeying': 26,\n",
       " 'lpalumbo': 27,\n",
       " 'tnyctrb': 28,\n",
       " 'compare': 29,\n",
       " 'reinstate': 30,\n",
       " 'century': 31,\n",
       " 'hellobrittney': 32,\n",
       " 'directly': 33,\n",
       " 'now': 34,\n",
       " 'orbitz': 35,\n",
       " 'avrtowtyzk': 36,\n",
       " 'up': 37,\n",
       " 'hunt': 38,\n",
       " 'rocked': 39,\n",
       " 'glance': 40,\n",
       " 'frontier': 41,\n",
       " 'maxfitgirl': 42,\n",
       " 'unproductive': 43,\n",
       " 'quickie': 44,\n",
       " 'whoooo': 45,\n",
       " 'smoothest': 46,\n",
       " 'bestinclasssocial': 47,\n",
       " 'issued': 48,\n",
       " 'texting': 49,\n",
       " 'flyingitforward': 50,\n",
       " 'beta': 51,\n",
       " 'kevolt': 52,\n",
       " 'every': 53,\n",
       " 'living': 54,\n",
       " 'hmcrjchb': 55,\n",
       " '!': 56,\n",
       " 'filmcrew': 57,\n",
       " 'favoriteairline': 58,\n",
       " 'synch': 59,\n",
       " 'nyvv': 60,\n",
       " 'upset': 61,\n",
       " 'formally': 62,\n",
       " 'separated': 63,\n",
       " 'bttgmyn': 64,\n",
       " 'secure': 65,\n",
       " 'mrerickv': 66,\n",
       " 'hurts': 67,\n",
       " 'cinnabon': 68,\n",
       " 'bp': 69,\n",
       " 'fulmh': 70,\n",
       " 'agree': 71,\n",
       " 'responds': 72,\n",
       " 'preventing': 73,\n",
       " 'taxes': 74,\n",
       " 'panic': 75,\n",
       " 'jwa': 76,\n",
       " 'virginamerica': 77,\n",
       " 'firevan': 78,\n",
       " 'lpvfhky': 79,\n",
       " 'grandmothers': 80,\n",
       " 'everyone': 81,\n",
       " 'secured': 82,\n",
       " 'claiming': 83,\n",
       " 'ahah': 84,\n",
       " 'enroll': 85,\n",
       " 'backwards': 86,\n",
       " 'evr': 87,\n",
       " 'didn': 88,\n",
       " 'luvin': 89,\n",
       " 'ak': 90,\n",
       " 'hopkins': 91,\n",
       " 'rudeness': 92,\n",
       " 'idiots': 93,\n",
       " 'smattering': 94,\n",
       " 'credentials': 95,\n",
       " 'wbhbljjks': 96,\n",
       " 'gates': 97,\n",
       " 'epic': 98,\n",
       " 'consult': 99,\n",
       " 'its': 100,\n",
       " 'part': 101,\n",
       " 'eould': 102,\n",
       " 'biggie': 103,\n",
       " 'gear': 104,\n",
       " 'cnxns': 105,\n",
       " 'mother': 106,\n",
       " 'cascino': 107,\n",
       " 'replane': 108,\n",
       " 'uso': 109,\n",
       " 'cwh': 110,\n",
       " 'accountability': 111,\n",
       " 'flydelta': 112,\n",
       " 'thre': 113,\n",
       " 'yourselves': 114,\n",
       " 'confirmations': 115,\n",
       " 'venture': 116,\n",
       " 'personnel': 117,\n",
       " 'adress': 118,\n",
       " 'angeles': 119,\n",
       " 'peeved': 120,\n",
       " 'vn': 121,\n",
       " 'montereyregionalairport': 122,\n",
       " 'bgtjfmneot': 123,\n",
       " 'severally': 124,\n",
       " 'bjwgoap': 125,\n",
       " 'landed': 126,\n",
       " 'hdsportsguy': 127,\n",
       " 'frontrunner': 128,\n",
       " 'geeks': 129,\n",
       " 'waltdisneyworld': 130,\n",
       " 'avatars': 131,\n",
       " 'laguardiaair': 132,\n",
       " 'kfuyyokufv': 133,\n",
       " 'xm': 134,\n",
       " 'booted': 135,\n",
       " 'advisories': 136,\n",
       " 'arminrosen': 137,\n",
       " 'oversized': 138,\n",
       " 'becky': 139,\n",
       " 'dcobokn': 140,\n",
       " 'mbcehcszx': 141,\n",
       " 'saysorrychris': 142,\n",
       " 'lfulcbq': 143,\n",
       " 'seanmfmadden': 144,\n",
       " 'lednocdqee': 145,\n",
       " 'takers': 146,\n",
       " 'spf': 147,\n",
       " 'rcdh': 148,\n",
       " 'stock': 149,\n",
       " 'kravitz': 150,\n",
       " 'donuts': 151,\n",
       " 'thus': 152,\n",
       " 'bicycle': 153,\n",
       " 'xz': 154,\n",
       " 'rushed': 155,\n",
       " 'mdnw': 156,\n",
       " 'uezh': 157,\n",
       " 'dlh': 158,\n",
       " 'begun': 159,\n",
       " 'overtime': 160,\n",
       " 'dissatisfied': 161,\n",
       " 'zf': 162,\n",
       " 'becuz': 163,\n",
       " 'uxwpadugs': 164,\n",
       " 'platinum': 165,\n",
       " 'fantasy': 166,\n",
       " 'prison': 167,\n",
       " 'annnnnd': 168,\n",
       " 'zfqmpgxvs': 169,\n",
       " 'tqhyn': 170,\n",
       " 'slcairport': 171,\n",
       " 'cbarrows': 172,\n",
       " 'snvkiem': 173,\n",
       " 'helped': 174,\n",
       " 'at': 175,\n",
       " 'rffhmcv': 176,\n",
       " 'moines': 177,\n",
       " 'onboad': 178,\n",
       " 'crfrwpc': 179,\n",
       " 'higherandhigher': 180,\n",
       " 'lavatory': 181,\n",
       " 'uniform': 182,\n",
       " 'inner': 183,\n",
       " 'nanceebing': 184,\n",
       " 'chef': 185,\n",
       " 'sh': 186,\n",
       " 'change': 187,\n",
       " 'unu': 188,\n",
       " 'assisting': 189,\n",
       " 'kdhruf': 190,\n",
       " 'slammed': 191,\n",
       " 'iosphm': 192,\n",
       " 'imqzlg': 193,\n",
       " 'misbehavior': 194,\n",
       " 'bday': 195,\n",
       " 'sympathy': 196,\n",
       " 'qbrzd': 197,\n",
       " 'rescheduling': 198,\n",
       " 'flt': 199,\n",
       " 'cbr': 200,\n",
       " 'seatback': 201,\n",
       " 'washingtondc': 202,\n",
       " 'upc': 203,\n",
       " 'flightation': 204,\n",
       " 'earthquake': 205,\n",
       " 'sweetingr': 206,\n",
       " 'comfort': 207,\n",
       " 'impaired': 208,\n",
       " 'tasha': 209,\n",
       " 'guilty': 210,\n",
       " 'positive': 211,\n",
       " 'retrain': 212,\n",
       " 'oversize': 213,\n",
       " 'willie': 214,\n",
       " 'flies': 215,\n",
       " 'cheers': 216,\n",
       " 'course': 217,\n",
       " 'hr': 218,\n",
       " 'legit': 219,\n",
       " 'sx': 220,\n",
       " 'pref': 221,\n",
       " 'doua': 222,\n",
       " 'signup': 223,\n",
       " 'successful': 224,\n",
       " 'fy': 225,\n",
       " 'xzrk': 226,\n",
       " 'imh': 227,\n",
       " 'bowl': 228,\n",
       " 'discovergrenada': 229,\n",
       " 'role': 230,\n",
       " 'house': 231,\n",
       " 'toll': 232,\n",
       " 'moms': 233,\n",
       " 'leading': 234,\n",
       " 'loaned': 235,\n",
       " 'nancy': 236,\n",
       " 'exits': 237,\n",
       " 'vomited': 238,\n",
       " 'yv': 239,\n",
       " 'mwflg': 240,\n",
       " 'understand': 241,\n",
       " 'terrybrokebad': 242,\n",
       " 'cjg': 243,\n",
       " 'seriousness': 244,\n",
       " 'thanksunited': 245,\n",
       " 'impossibly': 246,\n",
       " 'syb': 247,\n",
       " 'walks': 248,\n",
       " 'east': 249,\n",
       " 'golden': 250,\n",
       " 'hanged': 251,\n",
       " 'pop': 252,\n",
       " 'unempathetic': 253,\n",
       " 'art': 254,\n",
       " 'caroline': 255,\n",
       " 'aj': 256,\n",
       " 'split': 257,\n",
       " 'fares': 258,\n",
       " 'accident': 259,\n",
       " 'fulfill': 260,\n",
       " 'fnz': 261,\n",
       " 'youcandobetter': 262,\n",
       " 'anyone': 263,\n",
       " 'renting': 264,\n",
       " 'court': 265,\n",
       " 'nippon': 266,\n",
       " 'cellphone': 267,\n",
       " 'yponthebeat': 268,\n",
       " 'jjdosfyibm': 269,\n",
       " 'wqrklw': 270,\n",
       " 'vz': 271,\n",
       " 'celebrate': 272,\n",
       " 'stillnotonmyflight': 273,\n",
       " 'european': 274,\n",
       " 'setup': 275,\n",
       " 'unanticipated': 276,\n",
       " 'subscription': 277,\n",
       " 'convo': 278,\n",
       " 'f': 279,\n",
       " 'pleased': 280,\n",
       " 'ir': 281,\n",
       " 'type': 282,\n",
       " 'rk': 283,\n",
       " 'humiliated': 284,\n",
       " 'lsuquinlanduhon': 285,\n",
       " 'lusaka': 286,\n",
       " 'cowboycerrone': 287,\n",
       " 'safetyconcerns': 288,\n",
       " 'diverged': 289,\n",
       " 'narrow': 290,\n",
       " 'dude': 291,\n",
       " 'chemistry': 292,\n",
       " 'rainy': 293,\n",
       " 'connecting': 294,\n",
       " 'pair': 295,\n",
       " 'bring': 296,\n",
       " 'killin': 297,\n",
       " 'ensuring': 298,\n",
       " 'ef': 299,\n",
       " 'landing': 300,\n",
       " 'signs': 301,\n",
       " 'imtired': 302,\n",
       " 'emailing': 303,\n",
       " 'embossed': 304,\n",
       " 'eu': 305,\n",
       " 'oahu': 306,\n",
       " 'puj': 307,\n",
       " 'nj': 308,\n",
       " 'closed': 309,\n",
       " 'asleep': 310,\n",
       " 'leigh': 311,\n",
       " 'annamarie': 312,\n",
       " 'boots': 313,\n",
       " 'dobetter': 314,\n",
       " 'major': 315,\n",
       " 'adopting': 316,\n",
       " 'ex': 317,\n",
       " 'bae': 318,\n",
       " 'ox': 319,\n",
       " 'lizautter': 320,\n",
       " 'zukes': 321,\n",
       " 'download': 322,\n",
       " 'misjudging': 323,\n",
       " 'accommodating': 324,\n",
       " 'medium': 325,\n",
       " 'avgeek': 326,\n",
       " 'jnqnbk': 327,\n",
       " 'decent': 328,\n",
       " 'onfleek': 329,\n",
       " 'cbssoxfan': 330,\n",
       " 'wheeze': 331,\n",
       " 'supported': 332,\n",
       " 'expectations': 333,\n",
       " 'cldnt': 334,\n",
       " 'divadapouch': 335,\n",
       " 'aftr': 336,\n",
       " 'manage': 337,\n",
       " 'universalorl': 338,\n",
       " 'sorting': 339,\n",
       " 'wave': 340,\n",
       " 'distressed': 341,\n",
       " 'nothanks': 342,\n",
       " 'arrives': 343,\n",
       " 'paper': 344,\n",
       " 'adapted': 345,\n",
       " 'noexcuses': 346,\n",
       " 'nooooo': 347,\n",
       " 'jutcdrljl': 348,\n",
       " 'nofood': 349,\n",
       " 'unavoidable': 350,\n",
       " 'fwhei': 351,\n",
       " 'yourairlinesucks': 352,\n",
       " 'jenniferwalshpr': 353,\n",
       " 'vbmbs': 354,\n",
       " 'ninadavuluri': 355,\n",
       " 'tab': 356,\n",
       " 'missingtheoscars': 357,\n",
       " 'dresparkles': 358,\n",
       " 'cultural': 359,\n",
       " 'rights': 360,\n",
       " 'taller': 361,\n",
       " 'rotten': 362,\n",
       " 'acpt': 363,\n",
       " 'worstservice': 364,\n",
       " 'sets': 365,\n",
       " 'bostonlogan': 366,\n",
       " 'targeting': 367,\n",
       " 'considerable': 368,\n",
       " 'woman': 369,\n",
       " 'wishing': 370,\n",
       " 'nhl': 371,\n",
       " 'naming': 372,\n",
       " 'internships': 373,\n",
       " 'dest': 374,\n",
       " 'greeted': 375,\n",
       " 'oktukjy': 376,\n",
       " 'ripme': 377,\n",
       " 'urzvbpjko': 378,\n",
       " 'awful': 379,\n",
       " 'vetr': 380,\n",
       " 'tsvibtvt': 381,\n",
       " 'envoy': 382,\n",
       " 'engadget': 383,\n",
       " 'weeks': 384,\n",
       " 'rcvd': 385,\n",
       " 'waste': 386,\n",
       " 'barrel': 387,\n",
       " 'newarkliberty': 388,\n",
       " 'taking': 389,\n",
       " 'entry': 390,\n",
       " 'mot': 391,\n",
       " 'sections': 392,\n",
       " 'operation': 393,\n",
       " 'notion': 394,\n",
       " 'freaking': 395,\n",
       " 'linked': 396,\n",
       " 'rkorhvr': 397,\n",
       " 'return': 398,\n",
       " 'tp': 399,\n",
       " 'noltnancy': 400,\n",
       " 'year': 401,\n",
       " 'aren': 402,\n",
       " 'unmoving': 403,\n",
       " 'benefit': 404,\n",
       " 'ooh': 405,\n",
       " 'worthy': 406,\n",
       " 'big': 407,\n",
       " 'offer': 408,\n",
       " 'entitled': 409,\n",
       " 'rate': 410,\n",
       " 'proceed': 411,\n",
       " 'head': 412,\n",
       " 'sundays': 413,\n",
       " 'takeoff': 414,\n",
       " 'loanr': 415,\n",
       " 'gis': 416,\n",
       " 'flyer': 417,\n",
       " 'transfer': 418,\n",
       " 'property': 419,\n",
       " 'qualifies': 420,\n",
       " 'briughy': 421,\n",
       " 'helps': 422,\n",
       " 'functionally': 423,\n",
       " 'listing': 424,\n",
       " 'mccarran': 425,\n",
       " 'lan': 426,\n",
       " 'zfv': 427,\n",
       " 'americanairlinesfail': 428,\n",
       " 'perk': 429,\n",
       " 'chd': 430,\n",
       " 'sickcrew': 431,\n",
       " 'whrsthecoach': 432,\n",
       " 'nbr': 433,\n",
       " 'saw': 434,\n",
       " 'silicon': 435,\n",
       " 'annoyed': 436,\n",
       " 'doi': 437,\n",
       " 'tickt': 438,\n",
       " 'rifle': 439,\n",
       " 'assign': 440,\n",
       " 'youd': 441,\n",
       " 'shit': 442,\n",
       " 'bgm': 443,\n",
       " 'horse': 444,\n",
       " 'measles': 445,\n",
       " 'murdock': 446,\n",
       " 'knock': 447,\n",
       " 'justwantmybed': 448,\n",
       " 'handles': 449,\n",
       " 'abandonment': 450,\n",
       " 'pounding': 451,\n",
       " 'center': 452,\n",
       " 'incurring': 453,\n",
       " 'fraud': 454,\n",
       " 'lucycat': 455,\n",
       " 'allegiantair': 456,\n",
       " 'austin': 457,\n",
       " 'promos': 458,\n",
       " 'reinforcements': 459,\n",
       " 'cjsvssqf': 460,\n",
       " 'backroads': 461,\n",
       " 'ons': 462,\n",
       " 'contradictory': 463,\n",
       " 'amateur': 464,\n",
       " 'condo': 465,\n",
       " 'legal': 466,\n",
       " 'footage': 467,\n",
       " 'peak': 468,\n",
       " 'hugely': 469,\n",
       " 'jokesonus': 470,\n",
       " 'dietcoke': 471,\n",
       " 'pyalebgkjt': 472,\n",
       " 'innovation': 473,\n",
       " 'cyd': 474,\n",
       " 'otis': 475,\n",
       " 'swb': 476,\n",
       " 'letsgo': 477,\n",
       " 'inebriated': 478,\n",
       " 'contacted': 479,\n",
       " 'isabelle': 480,\n",
       " 'geekandahalf': 481,\n",
       " 'unexplained': 482,\n",
       " 'os': 483,\n",
       " 'whagpknnlf': 484,\n",
       " 'comp': 485,\n",
       " 'sure': 486,\n",
       " 'department': 487,\n",
       " 'usairsucks': 488,\n",
       " 'solid': 489,\n",
       " 'pieces': 490,\n",
       " 'offices': 491,\n",
       " 'harder': 492,\n",
       " 'cxrzhcdtvz': 493,\n",
       " 'carts': 494,\n",
       " 'mine': 495,\n",
       " 'vague': 496,\n",
       " 'mtg': 497,\n",
       " 'pqd': 498,\n",
       " 'burley': 499,\n",
       " 'stewart': 500,\n",
       " 'resch': 501,\n",
       " 'processes': 502,\n",
       " 'sma': 503,\n",
       " 'roxydigital': 504,\n",
       " 'beingsuckontarmacsucks': 505,\n",
       " 'clueless': 506,\n",
       " 'sleep': 507,\n",
       " 'dualcam': 508,\n",
       " 'galaxy': 509,\n",
       " 'performing': 510,\n",
       " 'kanne': 511,\n",
       " 'spurs': 512,\n",
       " 'systemwide': 513,\n",
       " 'overbook': 514,\n",
       " 'waa': 515,\n",
       " 'ignores': 516,\n",
       " 'vdi': 517,\n",
       " 'attempts': 518,\n",
       " 'int': 519,\n",
       " 'bug': 520,\n",
       " 'dread': 521,\n",
       " 'kit': 522,\n",
       " 'des': 523,\n",
       " 'belligerent': 524,\n",
       " 'acc': 525,\n",
       " 'garywerk': 526,\n",
       " 'tbt': 527,\n",
       " 'inclement': 528,\n",
       " 'hmmm': 529,\n",
       " 'qygxgmd': 530,\n",
       " 'tny': 531,\n",
       " 'miriam': 532,\n",
       " 'glitchy': 533,\n",
       " 'biz': 534,\n",
       " 'finals': 535,\n",
       " 'ystrdy': 536,\n",
       " 'truebluelove': 537,\n",
       " 'wxowzhpgfl': 538,\n",
       " 'spk': 539,\n",
       " 'bikes': 540,\n",
       " 'each': 541,\n",
       " 'true': 542,\n",
       " 'eliza': 543,\n",
       " 'interest': 544,\n",
       " 'await': 545,\n",
       " 'luvisbetter': 546,\n",
       " 'hlngbtx': 547,\n",
       " 'lazy': 548,\n",
       " 'ch': 549,\n",
       " 'chatted': 550,\n",
       " 'stand': 551,\n",
       " 'fefhpmfple': 552,\n",
       " 'ceo': 553,\n",
       " 'failure': 554,\n",
       " 'issuing': 555,\n",
       " 'americans': 556,\n",
       " 'energy': 557,\n",
       " 'crystal': 558,\n",
       " 'dpt': 559,\n",
       " 'miamore': 560,\n",
       " 'conflict': 561,\n",
       " 'subpar': 562,\n",
       " 'token': 563,\n",
       " 'qsqmm': 564,\n",
       " 'drfaoq': 565,\n",
       " 'loses': 566,\n",
       " 'zik': 567,\n",
       " 'reactive': 568,\n",
       " 'gala': 569,\n",
       " 'uncontrollably': 570,\n",
       " 'sfotobos': 571,\n",
       " 'milestone': 572,\n",
       " 'lruns': 573,\n",
       " 'yx': 574,\n",
       " 'dmjhiw': 575,\n",
       " 'dog': 576,\n",
       " 'lightly': 577,\n",
       " 'werin': 578,\n",
       " 'choices': 579,\n",
       " 'paso': 580,\n",
       " 'useless': 581,\n",
       " 'barclaycardus': 582,\n",
       " 'exhibited': 583,\n",
       " 'passenger': 584,\n",
       " 'goodspeed': 585,\n",
       " 'mailing': 586,\n",
       " 'condolences': 587,\n",
       " 'misguided': 588,\n",
       " 'crated': 589,\n",
       " 'americanairsucks': 590,\n",
       " 'guarantee': 591,\n",
       " 'dis': 592,\n",
       " 'nochill': 593,\n",
       " 'hotel': 594,\n",
       " 'adjacent': 595,\n",
       " 'zq': 596,\n",
       " 'asuwx': 597,\n",
       " 'infinite': 598,\n",
       " 'oy': 599,\n",
       " 'though': 600,\n",
       " 'outside': 601,\n",
       " 'ztua': 602,\n",
       " 'nose': 603,\n",
       " 'uygew': 604,\n",
       " 'revue': 605,\n",
       " 'apple': 606,\n",
       " 'continuous': 607,\n",
       " 'cyberattack': 608,\n",
       " 'forget': 609,\n",
       " 'soooo': 610,\n",
       " 'unfollowing': 611,\n",
       " 'usairwaysfailscustomers': 612,\n",
       " 'colours': 613,\n",
       " 'eye': 614,\n",
       " 'incomprehensible': 615,\n",
       " 'hsv': 616,\n",
       " 'nny': 617,\n",
       " 'german': 618,\n",
       " 'cough': 619,\n",
       " 'sell': 620,\n",
       " 'pvphmtzc': 621,\n",
       " 'escorted': 622,\n",
       " 'benefits': 623,\n",
       " 'participate': 624,\n",
       " 'directional': 625,\n",
       " 'fitbit': 626,\n",
       " ',': 627,\n",
       " 'violation': 628,\n",
       " 'caribbejan': 629,\n",
       " 'flood': 630,\n",
       " 'prerecorded': 631,\n",
       " 'ran': 632,\n",
       " 'travelingwithsmallkids': 633,\n",
       " 'clean': 634,\n",
       " 'fleek': 635,\n",
       " 'germs': 636,\n",
       " 'whyyy': 637,\n",
       " 'jameswester': 638,\n",
       " 'um': 639,\n",
       " 'whitterbug': 640,\n",
       " 'kp': 641,\n",
       " 'low': 642,\n",
       " 'iitojhuikh': 643,\n",
       " 'city': 644,\n",
       " 'elizabeth': 645,\n",
       " 'inclemental': 646,\n",
       " 'trains': 647,\n",
       " 'staffed': 648,\n",
       " 'math': 649,\n",
       " 'kin': 650,\n",
       " 'appointments': 651,\n",
       " 'burlington': 652,\n",
       " 'kcddod': 653,\n",
       " 'misplace': 654,\n",
       " 'which': 655,\n",
       " 'freezing': 656,\n",
       " 'frghglmkqf': 657,\n",
       " 'slow': 658,\n",
       " 'vacatinn': 659,\n",
       " 'nakedmeetings': 660,\n",
       " 'albuquer': 661,\n",
       " 'stall': 662,\n",
       " 'scr': 663,\n",
       " 'treacherous': 664,\n",
       " 'foolish': 665,\n",
       " 'stillbagless': 666,\n",
       " 'rlz': 667,\n",
       " 'lhwfbkfyni': 668,\n",
       " 'sill': 669,\n",
       " 'rabgn': 670,\n",
       " 'beatz': 671,\n",
       " 'forecasts': 672,\n",
       " 'relaxing': 673,\n",
       " 'soundofmusic': 674,\n",
       " 'intended': 675,\n",
       " 'ecuador': 676,\n",
       " 'ifthe': 677,\n",
       " 'moveup': 678,\n",
       " 'oaflfr': 679,\n",
       " 'packing': 680,\n",
       " 'securing': 681,\n",
       " 'super': 682,\n",
       " 'mbas': 683,\n",
       " 'spotting': 684,\n",
       " 'miss': 685,\n",
       " 'blindsided': 686,\n",
       " 'bloombergnews': 687,\n",
       " 'picks': 688,\n",
       " 'tuesday': 689,\n",
       " 'rcm': 690,\n",
       " 'laguardia': 691,\n",
       " 'shouldwearmasks': 692,\n",
       " 'flightations': 693,\n",
       " 'centre': 694,\n",
       " 'workforce': 695,\n",
       " 'useful': 696,\n",
       " 'fispahani': 697,\n",
       " 'fans': 698,\n",
       " 'december': 699,\n",
       " 'staffer': 700,\n",
       " 'certificate': 701,\n",
       " 'kentuckymbb': 702,\n",
       " 'cvgairport': 703,\n",
       " 'giants': 704,\n",
       " 'spaghetti': 705,\n",
       " 'robot': 706,\n",
       " 'ack': 707,\n",
       " 'sent': 708,\n",
       " 'unmet': 709,\n",
       " 'specialist': 710,\n",
       " 'unprofessionally': 711,\n",
       " 'bags': 712,\n",
       " 'carry': 713,\n",
       " 'iy': 714,\n",
       " 'karajusto': 715,\n",
       " 'detroit': 716,\n",
       " 'agents': 717,\n",
       " 'costa': 718,\n",
       " 'zippers': 719,\n",
       " 'fold': 720,\n",
       " 'one': 721,\n",
       " 'starryeyes': 722,\n",
       " 'funeral': 723,\n",
       " 'sac': 724,\n",
       " 'horrendous': 725,\n",
       " 'harris': 726,\n",
       " 'freecomedyshow': 727,\n",
       " 'retain': 728,\n",
       " 'write': 729,\n",
       " 'theflight': 730,\n",
       " 'vglx': 731,\n",
       " 'sozldj': 732,\n",
       " 'relations': 733,\n",
       " 'rocking': 734,\n",
       " 'watched': 735,\n",
       " 'amiga': 736,\n",
       " 'wanted': 737,\n",
       " 'lagging': 738,\n",
       " 'sdq': 739,\n",
       " 'logout': 740,\n",
       " 'sched': 741,\n",
       " 'lostinlove': 742,\n",
       " 'forever': 743,\n",
       " 'breaks': 744,\n",
       " 'necessities': 745,\n",
       " 'discnct': 746,\n",
       " 'els': 747,\n",
       " 'failed': 748,\n",
       " 'catch': 749,\n",
       " 'lrw': 750,\n",
       " 'phf': 751,\n",
       " 'professor': 752,\n",
       " 'flyfi': 753,\n",
       " 'livewelltraveled': 754,\n",
       " 'portsmouth': 755,\n",
       " 'yphk': 756,\n",
       " 'bt': 757,\n",
       " 'overzealous': 758,\n",
       " 'fella': 759,\n",
       " 'appropriately': 760,\n",
       " 'splits': 761,\n",
       " 'usnavy': 762,\n",
       " 'lasttweetaboutthis': 763,\n",
       " 'approximate': 764,\n",
       " 'wvq': 765,\n",
       " 'nl': 766,\n",
       " 'gmvd': 767,\n",
       " 'baggagelost': 768,\n",
       " 'tvida': 769,\n",
       " 'discomfort': 770,\n",
       " 'abprg': 771,\n",
       " 'pointing': 772,\n",
       " 'mwpg': 773,\n",
       " 'fxmk': 774,\n",
       " 'etc': 775,\n",
       " 'sg': 776,\n",
       " 'authorize': 777,\n",
       " 'finishes': 778,\n",
       " 'shipping': 779,\n",
       " 'freeze': 780,\n",
       " 'flight': 781,\n",
       " 'arpt': 782,\n",
       " 'abxrq': 783,\n",
       " 'secrets': 784,\n",
       " 'misunderstood': 785,\n",
       " 'fwkj': 786,\n",
       " 'mails': 787,\n",
       " 'swallowed': 788,\n",
       " 'bold': 789,\n",
       " 'investigated': 790,\n",
       " 'john': 791,\n",
       " 'community': 792,\n",
       " 'frequently': 793,\n",
       " 'mm': 794,\n",
       " 'makestoomuchsense': 795,\n",
       " 'knoxville': 796,\n",
       " 'shannonwoodward': 797,\n",
       " 'reserv': 798,\n",
       " 'downright': 799,\n",
       " 'ud': 800,\n",
       " 'screencap': 801,\n",
       " 'local': 802,\n",
       " 'user': 803,\n",
       " 'transaction': 804,\n",
       " 'terminal': 805,\n",
       " 'efz': 806,\n",
       " 'inquiry': 807,\n",
       " 'cash': 808,\n",
       " 'ty': 809,\n",
       " 'next': 810,\n",
       " 'wht': 811,\n",
       " 'evenmoreview': 812,\n",
       " 'uaicfjrms': 813,\n",
       " 'businesstravel': 814,\n",
       " 'takemeback': 815,\n",
       " 'considered': 816,\n",
       " 'have': 817,\n",
       " 'timezones': 818,\n",
       " 'bro': 819,\n",
       " 'randomactsofcorporategreed': 820,\n",
       " 'isn': 821,\n",
       " 'company': 822,\n",
       " 'moving': 823,\n",
       " 'nawww': 824,\n",
       " 'sanitizer': 825,\n",
       " 'sre': 826,\n",
       " 'flh': 827,\n",
       " 'own': 828,\n",
       " 'barzegar': 829,\n",
       " 'hbsj': 830,\n",
       " 'icecream': 831,\n",
       " 'mobay': 832,\n",
       " 'gloves': 833,\n",
       " 'lip': 834,\n",
       " 'flwmgdahxu': 835,\n",
       " 'maryella': 836,\n",
       " 'sharp': 837,\n",
       " 'activate': 838,\n",
       " 'zj': 839,\n",
       " 'waiver': 840,\n",
       " 'newborns': 841,\n",
       " 'nonstop': 842,\n",
       " 'yow': 843,\n",
       " 'smusportmgt': 844,\n",
       " 'mha': 845,\n",
       " 'projects': 846,\n",
       " 'waitingsince': 847,\n",
       " 'omg': 848,\n",
       " 'timbennettg': 849,\n",
       " 'departs': 850,\n",
       " 'kps': 851,\n",
       " 'positions': 852,\n",
       " 'hella': 853,\n",
       " 'vebeen': 854,\n",
       " 'oneworld': 855,\n",
       " 'bcz': 856,\n",
       " 'vpqem': 857,\n",
       " 'preferably': 858,\n",
       " 'aiyc': 859,\n",
       " 'sahvx': 860,\n",
       " 'sitting': 861,\n",
       " 'filed': 862,\n",
       " 'nottrue': 863,\n",
       " 'bijlxat': 864,\n",
       " 'skys': 865,\n",
       " 'applies': 866,\n",
       " 'off': 867,\n",
       " 'shaky': 868,\n",
       " 'tsvgbrl': 869,\n",
       " 'scollegelondon': 870,\n",
       " 'marry': 871,\n",
       " 'achieving': 872,\n",
       " 'zsvzurlw': 873,\n",
       " 'friendlyskies': 874,\n",
       " 'bear': 875,\n",
       " 'tisk': 876,\n",
       " 'diamond': 877,\n",
       " 'regina': 878,\n",
       " 'texts': 879,\n",
       " 'loeco': 880,\n",
       " 'sabe': 881,\n",
       " 'saves': 882,\n",
       " 'ummmm': 883,\n",
       " 'represents': 884,\n",
       " 'ff': 885,\n",
       " 'hgw': 886,\n",
       " 'mint': 887,\n",
       " 'combined': 888,\n",
       " 'dmangen': 889,\n",
       " 'thinking': 890,\n",
       " 'janet': 891,\n",
       " 'dragons': 892,\n",
       " 'ah': 893,\n",
       " 'rather': 894,\n",
       " 'denise': 895,\n",
       " 'answerthis': 896,\n",
       " 'kirkwoodtiger': 897,\n",
       " 'zkoe': 898,\n",
       " 'cstsvc': 899,\n",
       " 'trvl': 900,\n",
       " 'kickin': 901,\n",
       " 'liars': 902,\n",
       " 'mandarinjourney': 903,\n",
       " 'dontmakemegooutside': 904,\n",
       " 'queue': 905,\n",
       " 'hsmgy': 906,\n",
       " 'worried': 907,\n",
       " 'dealt': 908,\n",
       " 'unfriendly': 909,\n",
       " 'nbaakxh': 910,\n",
       " 'replace': 911,\n",
       " 'ohioprobz': 912,\n",
       " 'qualification': 913,\n",
       " 'vacations': 914,\n",
       " 'nwf': 915,\n",
       " 'advisory': 916,\n",
       " 'hahah': 917,\n",
       " 'segments': 918,\n",
       " 'agfd': 919,\n",
       " 'poc': 920,\n",
       " 'cake': 921,\n",
       " 'locally': 922,\n",
       " 'bucketobolts': 923,\n",
       " 'nonetheless': 924,\n",
       " 'ourselves': 925,\n",
       " 'flightr': 926,\n",
       " 'faves': 927,\n",
       " 'extortion': 928,\n",
       " 'stay': 929,\n",
       " 'getyouracttogether': 930,\n",
       " 'dart': 931,\n",
       " 'friendliest': 932,\n",
       " 'guessweflyingdelta': 933,\n",
       " 'alwayshappensthere': 934,\n",
       " 'cartagena': 935,\n",
       " 'budget': 936,\n",
       " 'overseas': 937,\n",
       " 'amazings': 938,\n",
       " 'aging': 939,\n",
       " 'tom': 940,\n",
       " 'num': 941,\n",
       " 'cushions': 942,\n",
       " 'daytona': 943,\n",
       " 'manager': 944,\n",
       " 'sponsor': 945,\n",
       " 'recordings': 946,\n",
       " 'lay': 947,\n",
       " 'evaluate': 948,\n",
       " 'abuse': 949,\n",
       " 'swapping': 950,\n",
       " 'claudia': 951,\n",
       " 'chi': 952,\n",
       " 'blxs': 953,\n",
       " 'averted': 954,\n",
       " 'winston': 955,\n",
       " 'hmmqczkcf': 956,\n",
       " 'attendents': 957,\n",
       " 'nikon': 958,\n",
       " 'discovered': 959,\n",
       " 'thanks': 960,\n",
       " 'relax': 961,\n",
       " 'bushleague': 962,\n",
       " 'nobackup': 963,\n",
       " 'accomplish': 964,\n",
       " 'controllable': 965,\n",
       " 'smooth': 966,\n",
       " 'lighting': 967,\n",
       " 'worstcustomerserviceever': 968,\n",
       " 'compounding': 969,\n",
       " 'nickeled': 970,\n",
       " 'qgmfcb': 971,\n",
       " 'farce': 972,\n",
       " 'pw': 973,\n",
       " 'heat': 974,\n",
       " 'you': 975,\n",
       " 'mzzfgqfhu': 976,\n",
       " 'repeated': 977,\n",
       " 'resolving': 978,\n",
       " 'locating': 979,\n",
       " 'eyt': 980,\n",
       " 'exps': 981,\n",
       " 'doorstep': 982,\n",
       " 'legalizes': 983,\n",
       " 'methods': 984,\n",
       " 'stone': 985,\n",
       " 'fake': 986,\n",
       " 'deemed': 987,\n",
       " 'cell': 988,\n",
       " 'yln': 989,\n",
       " 'adding': 990,\n",
       " 'promise': 991,\n",
       " 'westchester': 992,\n",
       " 'johnwayneair': 993,\n",
       " 'disappointing': 994,\n",
       " 'whybeaaff': 995,\n",
       " 'constant': 996,\n",
       " 'https': 997,\n",
       " 'welfare': 998,\n",
       " 'simplify': 999,\n",
       " 'stow': 1000,\n",
       " ...}"
      ]
     },
     "execution_count": 10,
     "metadata": {},
     "output_type": "execute_result"
    }
   ],
   "source": [
    "# 从列表构建字典\n",
    "word_index =  dict((word, word_list.index(word) + 1) for word in word_list)\n",
    "word_index"
   ]
  },
  {
   "cell_type": "markdown",
   "metadata": {},
   "source": [
    "## 文本数据预处理"
   ]
  },
  {
   "cell_type": "code",
   "execution_count": 11,
   "metadata": {},
   "outputs": [
    {
     "data": {
      "application/vnd.microsoft.datawrangler.viewer.v0+json": {
       "columns": [
        {
         "name": "index",
         "rawType": "int64",
         "type": "integer"
        },
        {
         "name": "text",
         "rawType": "object",
         "type": "string"
        }
       ],
       "ref": "c4ee72a1-8bed-46e5-b66f-3bd3de8b785f",
       "rows": [
        [
         "0",
         "['virginamerica', 'what', 'dhepburn', 'said', '.']"
        ],
        [
         "1",
         "['virginamerica', 'plus', 'you', 've', 'added', 'commercials', 'to', 'the', 'experience', '.', '.', '.', 'tacky', '.']"
        ],
        [
         "2",
         "['virginamerica', 'i', 'didn', 't', 'today', '.', '.', '.', 'must', 'mean', 'i', 'need', 'to', 'take', 'another', 'trip', '!']"
        ],
        [
         "3",
         "['virginamerica', 'it', 's', 'really', 'aggressive', 'to', 'blast', 'obnoxious', 'entertainment', 'in', 'your', 'guests', 'faces', 'amp', 'they', 'have', 'little', 'recourse']"
        ],
        [
         "4",
         "['virginamerica', 'and', 'it', 's', 'a', 'really', 'big', 'bad', 'thing', 'about', 'it']"
        ],
        [
         "5",
         "['virginamerica', 'seriously', 'would', 'pay', 'a', 'flight', 'for', 'seats', 'that', 'didn', 't', 'have', 'this', 'playing', '.', 'it', 's', 'really', 'the', 'only', 'bad', 'thing', 'about', 'flying', 'va']"
        ],
        [
         "6",
         "['virginamerica', 'yes', ',', 'nearly', 'every', 'time', 'i', 'fly', 'vx', 'this', 'ear', 'worm', 'won', 't', 'go', 'away', ')']"
        ],
        [
         "7",
         "['virginamerica', 'really', 'missed', 'a', 'prime', 'opportunity', 'for', 'men', 'without', 'hats', 'parody', ',', 'there', '.', 'https', 't', '.', 'co', 'mwpg', 'grezp']"
        ],
        [
         "8",
         "['virginamerica', 'well', ',', 'i', 'didn', 't', 'but', 'now', 'i', 'do', '!', 'd']"
        ],
        [
         "9",
         "['virginamerica', 'it', 'was', 'amazing', ',', 'and', 'arrived', 'an', 'hour', 'early', '.', 'you', 're', 'too', 'good', 'to', 'me', '.']"
        ],
        [
         "10",
         "['virginamerica', 'did', 'you', 'know', 'that', 'suicide', 'is', 'the', 'second', 'leading', 'cause', 'of', 'death', 'among', 'teens']"
        ],
        [
         "11",
         "['virginamerica', 'i', 'lt', 'pretty', 'graphics', '.', 'so', 'much', 'better', 'than', 'minimal', 'iconography', '.', 'd']"
        ],
        [
         "12",
         "['virginamerica', 'this', 'is', 'such', 'a', 'great', 'deal', '!', 'already', 'thinking', 'about', 'my', 'nd', 'trip', 'to', 'australia', 'amp', 'i', 'haven', 't', 'even', 'gone', 'on', 'my', 'st', 'trip', 'yet', '!', 'p']"
        ],
        [
         "13",
         "['virginamerica', 'virginmedia', 'i', 'm', 'flying', 'your', 'fabulous', 'seductive', 'skies', 'again', '!', 'u', 'take', 'all', 'the', 'stress', 'away', 'from', 'travel', 'http', 't', '.', 'co', 'ahlxhhkiyn']"
        ],
        [
         "14",
         "['virginamerica', 'thanks', '!']"
        ],
        [
         "15",
         "['virginamerica', 'sfo', 'pdx', 'schedule', 'is', 'still', 'mia', '.']"
        ],
        [
         "16",
         "['virginamerica', 'so', 'excited', 'for', 'my', 'first', 'cross', 'country', 'flight', 'lax', 'to', 'mco', 'i', 've', 'heard', 'nothing', 'but', 'great', 'things', 'about', 'virgin', 'america', '.', 'daystogo']"
        ],
        [
         "17",
         "['virginamerica', 'i', 'flew', 'from', 'nyc', 'to', 'sfo', 'last', 'week', 'and', 'couldn', 't', 'fully', 'sit', 'in', 'my', 'seat', 'due', 'to', 'two', 'large', 'gentleman', 'on', 'either', 'side', 'of', 'me', '.', 'help', '!']"
        ],
        [
         "18",
         "['i', 'flying', 'virginamerica', '.']"
        ],
        [
         "19",
         "['virginamerica', 'you', 'know', 'what', 'would', 'be', 'amazingly', 'awesome', '?', 'bos', 'fll', 'please', '!', '!', '!', '!', '!', '!', '!', 'i', 'want', 'to', 'fly', 'with', 'only', 'you', '.']"
        ],
        [
         "20",
         "['virginamerica', 'why', 'are', 'your', 'first', 'fares', 'in', 'may', 'over', 'three', 'times', 'more', 'than', 'other', 'carriers', 'when', 'all', 'seats', 'are', 'available', 'to', 'select', '?', '?', '?']"
        ],
        [
         "21",
         "['virginamerica', 'i', 'love', 'this', 'graphic', '.', 'http', 't', '.', 'co', 'ut', 'grrwaaa']"
        ],
        [
         "22",
         "['virginamerica', 'i', 'love', 'the', 'hipster', 'innovation', '.', 'you', 'are', 'a', 'feel', 'good', 'brand', '.']"
        ],
        [
         "23",
         "['virginamerica', 'will', 'you', 'be', 'making', 'bos', 'gt', 'las', 'non', 'stop', 'permanently', 'anytime', 'soon', '?']"
        ],
        [
         "24",
         "['virginamerica', 'you', 'guys', 'messed', 'up', 'my', 'seating', '.', '.', 'i', 'reserved', 'seating', 'with', 'my', 'friends', 'and', 'you', 'guys', 'gave', 'my', 'seat', 'away', '.', '.', '.', 'i', 'want', 'free', 'internet']"
        ],
        [
         "25",
         "['virginamerica', 'status', 'match', 'program', '.', 'i', 'applied', 'and', 'it', 's', 'been', 'three', 'weeks', '.', 'called', 'and', 'emailed', 'with', 'no', 'response', '.']"
        ],
        [
         "26",
         "['virginamerica', 'what', 'happened', 'ur', 'vegan', 'food', 'options', '?', '!', 'at', 'least', 'say', 'on', 'ur', 'site', 'so', 'i', 'know', 'i', 'won', 't', 'be', 'able', 'eat', 'anything', 'for', 'next', 'hrs', 'fail']"
        ],
        [
         "27",
         "['virginamerica', 'do', 'you', 'miss', 'me', '?', 'don', 't', 'worry', 'we', 'll', 'be', 'together', 'very', 'soon', '.']"
        ],
        [
         "28",
         "['virginamerica', 'amazing', 'to', 'me', 'that', 'we', 'can', 't', 'get', 'any', 'cold', 'air', 'from', 'the', 'vents', '.', 'vx', 'noair', 'worstflightever', 'roasted', 'sfotobos']"
        ],
        [
         "29",
         "['virginamerica', 'lax', 'to', 'ewr', 'middle', 'seat', 'on', 'a', 'red', 'eye', '.', 'such', 'a', 'noob', 'maneuver', '.', 'sendambien', 'andchexmix']"
        ],
        [
         "30",
         "['virginamerica', 'hi', '!', 'i', 'just', 'bked', 'a', 'cool', 'birthday', 'trip', 'with', 'you', ',', 'but', 'i', 'can', 't', 'add', 'my', 'elevate', 'no', '.', 'cause', 'i', 'entered', 'my', 'middle', 'name', 'during', 'flight', 'booking', 'problems']"
        ],
        [
         "31",
         "['virginamerica', 'are', 'the', 'hours', 'of', 'operation', 'for', 'the', 'club', 'at', 'sfo', 'that', 'are', 'posted', 'online', 'current', '?']"
        ],
        [
         "32",
         "['virginamerica', 'help', ',', 'left', 'expensive', 'headphones', 'on', 'flight', 'iad', 'to', 'lax', 'today', '.', 'seat', 'a', '.', 'no', 'one', 'answering', 'l', 'amp', 'f', 'number', 'at', 'lax', '!']"
        ],
        [
         "33",
         "['virginamerica', 'awaiting', 'my', 'return', 'phone', 'call', ',', 'just', 'would', 'prefer', 'to', 'use', 'your', 'online', 'self', 'service', 'option', '(']"
        ],
        [
         "34",
         "['virginamerica', 'this', 'is', 'great', 'news', '!', 'america', 'could', 'start', 'flights', 'to', 'hawaii', 'by', 'end', 'of', 'year', 'http', 't', '.', 'co', 'r', 'p', 'zy', 'fe', 'via', 'pacificbiznews']"
        ],
        [
         "35",
         "['nice', 'rt', 'virginamerica', 'vibe', 'with', 'the', 'moodlight', 'from', 'takeoff', 'to', 'touchdown', '.', 'moodlitmonday', 'sciencebehindtheexperience', 'http', 't', '.', 'co', 'y', 'o', 'unxtqp']"
        ],
        [
         "36",
         "['virginamerica', 'moodlighting', 'is', 'the', 'only', 'way', 'to', 'fly', '!', 'best', 'experience', 'ever', '!', 'cool', 'and', 'calming', '.', 'moodlitmonday']"
        ],
        [
         "37",
         "['virginamerica', 'freddieawards', 'done', 'and', 'done', '!', 'best', 'airline', 'around', ',', 'hands', 'down', '!']"
        ],
        [
         "38",
         "['virginamerica', 'when', 'can', 'i', 'book', 'my', 'flight', 'to', 'hawaii', '?', '?']"
        ],
        [
         "39",
         "['virginamerica', 'your', 'chat', 'support', 'is', 'not', 'working', 'on', 'your', 'site', 'http', 't', '.', 'co', 'vhp', 'gtdwpk']"
        ],
        [
         "40",
         "['virginamerica', 'view', 'of', 'downtown', 'los', 'angeles', ',', 'the', 'hollywood', 'sign', ',', 'and', 'beyond', 'that', 'rain', 'in', 'the', 'mountains', '!', 'http', 't', '.', 'co', 'dw', 'nf', 'ibtr']"
        ],
        [
         "41",
         "['virginamerica', 'hey', ',', 'first', 'time', 'flyer', 'next', 'week', 'excited', '!', 'but', 'i', 'm', 'having', 'a', 'hard', 'time', 'getting', 'my', 'flights', 'added', 'to', 'my', 'elevate', 'account', '.', 'help', '?']"
        ],
        [
         "42",
         "['virginamerica', 'plz', 'help', 'me', 'win', 'my', 'bid', 'upgrade', 'for', 'my', 'flight', 'lax', 'gt', 'sea', '!', '!', '!']"
        ],
        [
         "43",
         "['virginamerica', 'i', 'have', 'an', 'unused', 'ticket', 'but', 'moved', 'to', 'a', 'new', 'city', 'where', 'you', 'don', 't', 'fly', '.', 'how', 'can', 'i', 'fly', 'with', 'you', 'before', 'it', 'expires', '?', 'travelhelp']"
        ],
        [
         "44",
         "['virginamerica', 'are', 'flights', 'leaving', 'dallas', 'for', 'seattle', 'on', 'time', 'feb', '?']"
        ],
        [
         "45",
         "['virginamerica', 'i', 'm', 'elevategold', 'for', 'a', 'good', 'reason', 'you', 'rock', '!', '!']"
        ],
        [
         "46",
         "['virginamerica', 'dream', 'http', 't', '.', 'co', 'oa', 'drfaoq', 'http', 't', '.', 'co', 'lwwdac', 'khx']"
        ],
        [
         "47",
         "['virginamerica', 'wow', 'this', 'just', 'blew', 'my', 'mind']"
        ],
        [
         "48",
         "['virginamerica', 'ladygaga', 'carrieunderwood', 'after', 'last', 'night', 'tribute', 'soundofmusic', 'oscars', 'ladygaga', '!', 'i', 'think', 'carrieunderwood', 'agree']"
        ],
        [
         "49",
         "['virginamerica', 'ladygaga', 'carrieunderwood', 'all', 'were', 'entertaining']"
        ]
       ],
       "shape": {
        "columns": 1,
        "rows": 14452
       }
      },
      "text/plain": [
       "0                 [virginamerica, what, dhepburn, said, .]\n",
       "1        [virginamerica, plus, you, ve, added, commerci...\n",
       "2        [virginamerica, i, didn, t, today, ., ., ., mu...\n",
       "3        [virginamerica, it, s, really, aggressive, to,...\n",
       "4        [virginamerica, and, it, s, a, really, big, ba...\n",
       "                               ...                        \n",
       "14635    [americanair, thank, you, we, got, on, a, diff...\n",
       "14636    [americanair, leaving, over, minutes, late, fl...\n",
       "14637    [americanair, please, bring, american, airline...\n",
       "14638    [americanair, you, have, my, money, ,, you, ch...\n",
       "14639    [americanair, we, have, ppl, so, we, need, kno...\n",
       "Name: text, Length: 14452, dtype: object"
      ]
     },
     "execution_count": 11,
     "metadata": {},
     "output_type": "execute_result"
    }
   ],
   "source": [
    "# 查看数据文本\n",
    "data.text"
   ]
  },
  {
   "cell_type": "code",
   "execution_count": 12,
   "metadata": {},
   "outputs": [
    {
     "data": {
      "application/vnd.microsoft.datawrangler.viewer.v0+json": {
       "columns": [
        {
         "name": "index",
         "rawType": "int64",
         "type": "integer"
        },
        {
         "name": "text",
         "rawType": "object",
         "type": "string"
        }
       ],
       "ref": "2519f320-7b16-49a8-9b8a-70d1cd7da88f",
       "rows": [
        [
         "0",
         "[77, 5705, 4821, 9826, 11651]"
        ],
        [
         "1",
         "[77, 3489, 975, 11398, 4103, 2825, 2671, 10667, 7595, 11651, 11651, 11651, 1502, 11651]"
        ],
        [
         "2",
         "[77, 1945, 88, 13362, 3045, 11651, 11651, 11651, 4613, 3007, 1945, 4647, 2671, 4107, 3234, 2630, 56]"
        ],
        [
         "3",
         "[77, 4182, 7530, 11789, 5607, 2671, 1785, 5152, 2611, 2989, 10507, 9011, 1570, 10277, 5083, 817, 3786, 11644]"
        ],
        [
         "4",
         "[77, 3343, 4182, 7530, 4200, 11789, 407, 1707, 13017, 2861, 4182]"
        ],
        [
         "5",
         "[77, 4122, 10484, 6163, 4200, 781, 2735, 8189, 2038, 88, 13362, 817, 9815, 11016, 11651, 4182, 7530, 11789, 10667, 6853, 1707, 13017, 2861, 8595, 11273]"
        ],
        [
         "6",
         "[77, 12888, 627, 1202, 53, 12740, 1945, 2600, 4311, 9815, 1657, 13259, 2358, 13362, 8764, 1762, 11260]"
        ],
        [
         "7",
         "[77, 11789, 11541, 4200, 5769, 5278, 2735, 6913, 3592, 1565, 4105, 627, 6168, 11651, 997, 13362, 11651, 1461, 773, 9801]"
        ],
        [
         "8",
         "[77, 3843, 627, 1945, 88, 13362, 11110, 34, 1945, 13436, 56, 8805]"
        ],
        [
         "9",
         "[77, 4182, 8401, 4120, 627, 3343, 2361, 11897, 4929, 3753, 11651, 975, 1203, 8527, 2306, 2671, 9567, 11651]"
        ],
        [
         "10",
         "[77, 3623, 975, 2251, 2038, 1855, 2856, 10667, 2288, 234, 1011, 3326, 2139, 5686, 2408]"
        ],
        [
         "11",
         "[77, 1945, 4091, 5366, 1473, 11651, 8065, 9616, 1331, 7733, 3528, 4467, 11651, 8805]"
        ],
        [
         "12",
         "[77, 9815, 2856, 1198, 4200, 10444, 4382, 56, 6492, 890, 2861, 9690, 5003, 2630, 2671, 12877, 10277, 1945, 7365, 13362, 6681, 8344, 3391, 9690, 8390, 2630, 13532, 56, 4061]"
        ],
        [
         "13",
         "[77, 10685, 1945, 8716, 8595, 10507, 11225, 12002, 11205, 3270, 56, 3026, 4107, 7450, 10667, 6676, 1762, 6988, 1401, 2216, 13362, 11651, 1461, 13381]"
        ],
        [
         "14",
         "[77, 960, 56]"
        ],
        [
         "15",
         "[77, 2672, 13161, 10742, 2856, 1805, 6225, 11651]"
        ],
        [
         "16",
         "[77, 8065, 8904, 2735, 9690, 9697, 8655, 12415, 781, 1651, 2671, 13557, 1945, 11398, 10636, 6547, 11110, 10444, 10172, 2861, 9338, 2393, 11651, 9531]"
        ],
        [
         "17",
         "[77, 1945, 2985, 6988, 12341, 2671, 2672, 5669, 2787, 3343, 7527, 13362, 4433, 1740, 2989, 9690, 3648, 3274, 2671, 7295, 2712, 2071, 3391, 5946, 2579, 3326, 9567, 11651, 3589, 56]"
        ],
        [
         "18",
         "[1945, 8595, 77, 11651]"
        ],
        [
         "19",
         "[77, 975, 2251, 5705, 10484, 7771, 13066, 2495, 8542, 11154, 4982, 3001, 56, 56, 56, 56, 56, 56, 56, 1945, 2404, 2671, 2600, 6738, 6853, 975, 11651]"
        ],
        [
         "20",
         "[77, 12285, 10062, 10507, 9697, 258, 2989, 1952, 12138, 8327, 7836, 8933, 7733, 2226, 11703, 5574, 7450, 8189, 10062, 11781, 2671, 13545, 8542, 8542, 8542]"
        ],
        [
         "21",
         "[77, 1945, 10734, 9815, 6991, 11651, 2216, 13362, 11651, 1461, 4951, 6810]"
        ],
        [
         "22",
         "[77, 1945, 10734, 10667, 6455, 473, 11651, 975, 10062, 4200, 2303, 2306, 13317, 11651]"
        ],
        [
         "23",
         "[77, 6570, 975, 7771, 10916, 11154, 10053, 8143, 4237, 6353, 12021, 11479, 7552, 8542]"
        ],
        [
         "24",
         "[77, 975, 3925, 5604, 37, 9690, 7754, 11651, 11651, 1945, 10103, 7754, 6738, 9690, 10004, 3343, 975, 3925, 10222, 9690, 3648, 1762, 11651, 11651, 11651, 1945, 2404, 9189, 11919]"
        ],
        [
         "25",
         "[77, 4057, 9349, 3108, 11651, 1945, 8195, 3343, 4182, 7530, 6665, 8327, 384, 11651, 5552, 3343, 12901, 6738, 8918, 6099, 11651]"
        ],
        [
         "26",
         "[77, 5705, 11189, 9886, 11676, 2439, 6500, 8542, 56, 175, 13067, 9942, 3391, 9886, 9224, 8065, 1945, 2251, 1945, 2358, 13362, 7771, 6443, 3633, 3717, 2735, 810, 8246, 2758]"
        ],
        [
         "27",
         "[77, 13436, 975, 685, 9567, 8542, 10044, 13362, 8509, 7395, 4770, 7771, 12013, 4308, 7552, 11651]"
        ],
        [
         "28",
         "[77, 4120, 2671, 9567, 2038, 7395, 7307, 13362, 13147, 9438, 11383, 5166, 6988, 10667, 5623, 11651, 4311, 10849, 12392, 4768, 571]"
        ],
        [
         "29",
         "[77, 1651, 2671, 1103, 2382, 3648, 3391, 4200, 2025, 614, 11651, 1198, 4200, 4340, 5815, 11651, 12816, 13347]"
        ],
        [
         "30",
         "[77, 13527, 56, 1945, 13439, 4927, 4200, 6914, 9251, 2630, 6738, 975, 627, 11110, 1945, 7307, 13362, 9930, 9690, 12756, 8918, 11651, 1011, 1945, 2656, 9690, 2382, 2179, 10262, 781, 10883, 4218]"
        ],
        [
         "31",
         "[77, 10062, 10667, 10691, 3326, 393, 2735, 10667, 12311, 175, 2672, 2038, 10062, 7914, 3113, 5731, 8542]"
        ],
        [
         "32",
         "[77, 3589, 627, 7019, 3037, 2873, 3391, 781, 3382, 2671, 1651, 3045, 11651, 3648, 4200, 11651, 8918, 721, 3858, 6294, 10277, 279, 5057, 175, 1651, 56]"
        ],
        [
         "33",
         "[77, 2631, 9690, 398, 3689, 7649, 627, 13439, 10484, 12424, 2671, 2865, 10507, 3113, 12631, 8380, 11531, 9730]"
        ],
        [
         "34",
         "[77, 9815, 2856, 10444, 10835, 56, 2393, 9749, 11267, 5104, 2671, 6176, 13306, 1747, 3326, 401, 2216, 13362, 11651, 1461, 1374, 4061, 13119, 3571, 3198, 6685]"
        ],
        [
         "35",
         "[13609, 2778, 77, 10075, 6738, 10667, 6926, 6988, 414, 2671, 1344, 11651, 1902, 6251, 2216, 13362, 11651, 1461, 8972, 7750, 5524]"
        ],
        [
         "36",
         "[77, 10433, 2856, 10667, 6853, 4354, 2671, 2600, 56, 3731, 7595, 12725, 56, 6914, 3343, 10614, 11651, 1902]"
        ],
        [
         "37",
         "[77, 13222, 2571, 3343, 2571, 56, 3731, 5514, 5796, 627, 7343, 11307, 56]"
        ],
        [
         "38",
         "[77, 5574, 7307, 1945, 5718, 9690, 781, 2671, 6176, 8542, 8542]"
        ],
        [
         "39",
         "[77, 10507, 5017, 5701, 2856, 3659, 10684, 3391, 10507, 9224, 2216, 13362, 11651, 1461, 7123, 4070]"
        ],
        [
         "40",
         "[77, 1560, 3326, 2050, 8106, 119, 627, 10667, 13071, 12680, 627, 3343, 10625, 2038, 10678, 2989, 10667, 1726, 56, 2216, 13362, 11651, 1461, 7838, 11790, 4752]"
        ],
        [
         "41",
         "[77, 3812, 627, 9697, 12740, 417, 810, 2787, 8904, 56, 11110, 1945, 8716, 1245, 4200, 2958, 12740, 9186, 9690, 5104, 4103, 2671, 9690, 12756, 11596, 11651, 3589, 8542]"
        ],
        [
         "42",
         "[77, 8340, 3589, 9567, 10182, 9690, 11753, 12136, 2735, 9690, 781, 1651, 10053, 6940, 56, 56, 56]"
        ],
        [
         "43",
         "[77, 1945, 817, 11897, 3657, 11553, 11110, 11806, 2671, 4200, 13666, 644, 13181, 975, 10044, 13362, 2600, 11651, 5379, 7307, 1945, 2600, 6738, 975, 5488, 4182, 11125, 8542, 10672]"
        ],
        [
         "44",
         "[77, 10062, 5104, 2817, 2796, 2735, 4459, 3391, 12740, 6363, 8542]"
        ],
        [
         "45",
         "[77, 1945, 8716, 9180, 2735, 4200, 2306, 5793, 975, 7774, 56, 56]"
        ],
        [
         "46",
         "[77, 3926, 2216, 13362, 11651, 1461, 8583, 565, 2216, 13362, 11651, 1461, 2167, 2452]"
        ],
        [
         "47",
         "[77, 10615, 9815, 13439, 7409, 9690, 8193]"
        ],
        [
         "48",
         "[77, 1063, 4757, 9646, 5669, 7429, 6237, 674, 10290, 1063, 56, 1945, 10045, 4757, 71]"
        ],
        [
         "49",
         "[77, 1063, 4757, 7450, 4477, 1094]"
        ]
       ],
       "shape": {
        "columns": 1,
        "rows": 14452
       }
      },
      "text/plain": [
       "0                            [77, 5705, 4821, 9826, 11651]\n",
       "1        [77, 3489, 975, 11398, 4103, 2825, 2671, 10667...\n",
       "2        [77, 1945, 88, 13362, 3045, 11651, 11651, 1165...\n",
       "3        [77, 4182, 7530, 11789, 5607, 2671, 1785, 5152...\n",
       "4        [77, 3343, 4182, 7530, 4200, 11789, 407, 1707,...\n",
       "                               ...                        \n",
       "14635    [9084, 2525, 975, 7395, 12867, 3391, 4200, 608...\n",
       "14636    [9084, 2817, 12138, 11555, 4765, 781, 11651, 8...\n",
       "14637           [9084, 3001, 296, 3392, 5453, 2671, 10715]\n",
       "14638    [9084, 975, 817, 9690, 11742, 627, 975, 187, 9...\n",
       "14639    [9084, 7395, 817, 1826, 8065, 7395, 4647, 2251...\n",
       "Name: text, Length: 14452, dtype: object"
      ]
     },
     "execution_count": 12,
     "metadata": {},
     "output_type": "execute_result"
    }
   ],
   "source": [
    "# 将单词使用词表进行编码\n",
    "text = data.text.apply(lambda x: [word_index.get(word, 0) for word in x])\n",
    "# 查看编码后的数据\n",
    "text"
   ]
  },
  {
   "cell_type": "code",
   "execution_count": 13,
   "metadata": {},
   "outputs": [
    {
     "name": "stdout",
     "output_type": "stream",
     "text": [
      "Max length:  40\n",
      "pad_text.shape:  (14452, 40)\n"
     ]
    },
    {
     "data": {
      "text/plain": [
       "array([[   77,  5705,  4821,  9826, 11651,     0,     0,     0,     0,\n",
       "            0,     0,     0,     0,     0,     0,     0,     0,     0,\n",
       "            0,     0,     0,     0,     0,     0,     0,     0,     0,\n",
       "            0,     0,     0,     0,     0,     0,     0,     0,     0,\n",
       "            0,     0,     0,     0],\n",
       "       [   77,  3489,   975, 11398,  4103,  2825,  2671, 10667,  7595,\n",
       "        11651, 11651, 11651,  1502, 11651,     0,     0,     0,     0,\n",
       "            0,     0,     0,     0,     0,     0,     0,     0,     0,\n",
       "            0,     0,     0,     0,     0,     0,     0,     0,     0,\n",
       "            0,     0,     0,     0],\n",
       "       [   77,  1945,    88, 13362,  3045, 11651, 11651, 11651,  4613,\n",
       "         3007,  1945,  4647,  2671,  4107,  3234,  2630,    56,     0,\n",
       "            0,     0,     0,     0,     0,     0,     0,     0,     0,\n",
       "            0,     0,     0,     0,     0,     0,     0,     0,     0,\n",
       "            0,     0,     0,     0],\n",
       "       [   77,  4182,  7530, 11789,  5607,  2671,  1785,  5152,  2611,\n",
       "         2989, 10507,  9011,  1570, 10277,  5083,   817,  3786, 11644,\n",
       "            0,     0,     0,     0,     0,     0,     0,     0,     0,\n",
       "            0,     0,     0,     0,     0,     0,     0,     0,     0,\n",
       "            0,     0,     0,     0],\n",
       "       [   77,  3343,  4182,  7530,  4200, 11789,   407,  1707, 13017,\n",
       "         2861,  4182,     0,     0,     0,     0,     0,     0,     0,\n",
       "            0,     0,     0,     0,     0,     0,     0,     0,     0,\n",
       "            0,     0,     0,     0,     0,     0,     0,     0,     0,\n",
       "            0,     0,     0,     0]])"
      ]
     },
     "execution_count": 13,
     "metadata": {},
     "output_type": "execute_result"
    }
   ],
   "source": [
    "# 获取最大评论长度\n",
    "maxlen = max(len(x) for x in text)\n",
    "print(\"Max length: \", maxlen)\n",
    "# 将评论填充到最大长度\n",
    "pad_text = [l + (maxlen-len(l))*[0] for l in text]\n",
    "# 转化为numpy数组\n",
    "pad_text = np.array(pad_text)\n",
    "# 查看填充后的数据形状\n",
    "print(\"pad_text.shape: \", pad_text.shape)\n",
    "# 查看填充后的数据\n",
    "pad_text[:5]"
   ]
  },
  {
   "cell_type": "markdown",
   "metadata": {},
   "source": [
    "## 标签数据预处理"
   ]
  },
  {
   "cell_type": "code",
   "execution_count": 14,
   "metadata": {},
   "outputs": [
    {
     "name": "stdout",
     "output_type": "stream",
     "text": [
      "labels.shape:  (14452,)\n"
     ]
    }
   ],
   "source": [
    "# 获取标签数据\n",
    "labels = data.review.values\n",
    "# 查看标签数据形状\n",
    "print(\"labels.shape: \", labels.shape)"
   ]
  },
  {
   "cell_type": "markdown",
   "metadata": {},
   "source": [
    "## 划分数据集"
   ]
  },
  {
   "cell_type": "code",
   "execution_count": 15,
   "metadata": {},
   "outputs": [
    {
     "data": {
      "text/plain": [
       "((10839, 40), (3613, 40), (10839,))"
      ]
     },
     "execution_count": 15,
     "metadata": {},
     "output_type": "execute_result"
    }
   ],
   "source": [
    "from sklearn.model_selection import train_test_split\n",
    "# 划分数据集，使用默认的划分比例7.5：2.5\n",
    "x_train, x_test, y_train, y_test = train_test_split(pad_text, labels)\n",
    "x_train.shape, x_test.shape, y_train.shape"
   ]
  },
  {
   "cell_type": "markdown",
   "metadata": {},
   "source": [
    "## 创建Dataset"
   ]
  },
  {
   "cell_type": "code",
   "execution_count": 16,
   "metadata": {},
   "outputs": [],
   "source": [
    "# 定义一个自定义的数据集类\n",
    "class Tweets_dataset(torch.utils.data.Dataset):\n",
    "    def __init__(self, text_list, label_list):\n",
    "        self.text_list = text_list\n",
    "        self.label_list = label_list\n",
    "        \n",
    "    def __getitem__(self, index):\n",
    "        text = torch.LongTensor(self.text_list[index])\n",
    "        label = self.label_list[index]\n",
    "        return text, label\n",
    "\n",
    "    def __len__(self):\n",
    "        return len(self.text_list)"
   ]
  },
  {
   "cell_type": "code",
   "execution_count": 17,
   "metadata": {},
   "outputs": [],
   "source": [
    "# 创建训练集和测试集\n",
    "train_ds = Tweets_dataset(x_train, y_train)\n",
    "test_ds = Tweets_dataset(x_test, y_test)"
   ]
  },
  {
   "cell_type": "code",
   "execution_count": 18,
   "metadata": {},
   "outputs": [],
   "source": [
    "# 创建数据加载器\n",
    "BTACH_SIZE = 32\n",
    "\n",
    "train_dl = torch.utils.data.DataLoader(\n",
    "                                       train_ds,\n",
    "                                       batch_size=BTACH_SIZE,\n",
    "                                       shuffle=True\n",
    ")\n",
    "\n",
    "test_dl = torch.utils.data.DataLoader(\n",
    "                                       test_ds,\n",
    "                                       batch_size=BTACH_SIZE\n",
    ")"
   ]
  },
  {
   "cell_type": "markdown",
   "metadata": {},
   "source": [
    "## 模型构建"
   ]
  },
  {
   "cell_type": "code",
   "execution_count": 19,
   "metadata": {},
   "outputs": [],
   "source": [
    "class Net(nn.Module):\n",
    "    def __init__(self):\n",
    "        super(Net, self).__init__()\n",
    "        # Embedding 把文本映射为一个密集向量，将每一个单词映射为一个100维的向量\n",
    "        self.em = nn.Embedding(max_word, 100)   # 输出：batch*maxlen*100\n",
    "        self.fc1 = nn.Linear(maxlen*100, 1024)\n",
    "        self.fc2 = nn.Linear(1024, 3)\n",
    "\n",
    "    def forward(self, x):\n",
    "        x = self.em(x)\n",
    "        x = x.view(x.size(0), -1)\n",
    "        x = F.relu(self.fc1(x))\n",
    "        x = self.fc2(x)\n",
    "        return x"
   ]
  },
  {
   "cell_type": "code",
   "execution_count": 20,
   "metadata": {},
   "outputs": [
    {
     "name": "stdout",
     "output_type": "stream",
     "text": [
      "Epoch: 0, Train Loss: 0.8031, Train Acc: 66.83%, Test Loss: 0.7092, Test Acc: 69.89%\n",
      "Epoch: 1, Train Loss: 0.5918, Train Acc: 75.27%, Test Loss: 0.7032, Test Acc: 69.53%\n",
      "Epoch: 2, Train Loss: 0.4235, Train Acc: 82.61%, Test Loss: 0.7862, Test Acc: 71.30%\n",
      "Epoch: 3, Train Loss: 0.2919, Train Acc: 88.11%, Test Loss: 0.8152, Test Acc: 72.60%\n",
      "Epoch: 4, Train Loss: 0.1999, Train Acc: 92.37%, Test Loss: 0.9307, Test Acc: 71.35%\n",
      "Epoch: 5, Train Loss: 0.1440, Train Acc: 94.40%, Test Loss: 1.1854, Test Acc: 72.29%\n",
      "Epoch: 6, Train Loss: 0.1106, Train Acc: 96.03%, Test Loss: 1.2654, Test Acc: 73.12%\n",
      "Epoch: 7, Train Loss: 0.0824, Train Acc: 97.17%, Test Loss: 1.3913, Test Acc: 72.93%\n",
      "Epoch: 8, Train Loss: 0.0628, Train Acc: 98.03%, Test Loss: 1.5643, Test Acc: 73.07%\n",
      "Epoch: 9, Train Loss: 0.0525, Train Acc: 98.37%, Test Loss: 1.5449, Test Acc: 73.65%\n",
      "Epoch: 10, Train Loss: 0.0442, Train Acc: 98.61%, Test Loss: 1.5982, Test Acc: 71.77%\n",
      "Epoch: 11, Train Loss: 0.0489, Train Acc: 98.55%, Test Loss: 1.6076, Test Acc: 70.99%\n",
      "Epoch: 12, Train Loss: 0.0590, Train Acc: 98.27%, Test Loss: 1.7492, Test Acc: 69.72%\n",
      "Epoch: 13, Train Loss: 0.0388, Train Acc: 98.82%, Test Loss: 1.9531, Test Acc: 73.32%\n",
      "Epoch: 14, Train Loss: 0.0262, Train Acc: 99.33%, Test Loss: 1.8803, Test Acc: 72.41%\n",
      "Epoch: 15, Train Loss: 0.0210, Train Acc: 99.38%, Test Loss: 1.9534, Test Acc: 72.63%\n",
      "Epoch: 16, Train Loss: 0.0167, Train Acc: 99.46%, Test Loss: 2.0283, Test Acc: 72.38%\n",
      "Epoch: 17, Train Loss: 0.0170, Train Acc: 99.50%, Test Loss: 2.0371, Test Acc: 71.99%\n",
      "Epoch: 18, Train Loss: 0.0154, Train Acc: 99.51%, Test Loss: 2.1405, Test Acc: 72.85%\n",
      "Epoch: 19, Train Loss: 0.0162, Train Acc: 99.50%, Test Loss: 2.2248, Test Acc: 72.82%\n"
     ]
    }
   ],
   "source": [
    "# 参数整理\n",
    "model = Net()\n",
    "learn_rate = 0.001\n",
    "epochs = 20\n",
    "train_dl = train_dl\n",
    "test_dl = test_dl\n",
    "\n",
    "# 训练前准备，定义模型、损失函数、优化器\n",
    "device = torch.device('cuda' if torch.cuda.is_available() else 'cpu') # 判断是否有GPU，如果有则使用GPU，否则使用CPU\n",
    "model.to(device) # 将已实例化的模型移动到GPU上\n",
    "\n",
    "loss_fn = torch.nn.CrossEntropyLoss()  # 损失函数，交叉熵损失函数，使用未激活的输出作为输入，内置了softmax函数为激活函数，输出为每个类别的概率\n",
    "opt = torch.optim.Adam(model.parameters(), lr=learn_rate) # 优化器，Adam优化器\n",
    "\n",
    "# 通用训练模板，输入模型、训练数据、测试数据，返回loss和acc变化\n",
    "# 训练函数\n",
    "def train(train_dl, model, loss_fn, opt):\n",
    "    size = len(train_dl.dataset) # 获取数据集的大小\n",
    "    num_batches = len(train_dl) # 获取数据集的批次数量\n",
    "\n",
    "    train_loss = 0.0 # 训练集损失\n",
    "    train_acc = 0.0 # 训练集准确率\n",
    "\n",
    "    for x, y in train_dl: # 遍历数据集\n",
    "        y = y.long()      # 将标签转换为long类型\n",
    "        x, y = x.to(device), y.to(device) # 将数据移动到GPU上\n",
    "\n",
    "        pred = model(x) # 前向传播\n",
    "        loss = loss_fn(pred, y) # 计算损失\n",
    "\n",
    "        opt.zero_grad() # 梯度清零\n",
    "        loss.backward() # 反向传播\n",
    "        opt.step() # 更新参数\n",
    "\n",
    "        with torch.no_grad(): # 不计算梯度\n",
    "            train_loss += loss.item() # 计算损失\n",
    "            train_acc += (pred.argmax(dim=1) == y).type(torch.float).sum().item() # 计算准确率\n",
    "\n",
    "    train_loss /= num_batches # 计算平均损失\n",
    "    train_acc /= size # 计算平均准确率\n",
    "\n",
    "    return train_loss, train_acc\n",
    "\n",
    "# 测试函数\n",
    "def test(test_dl, model, loss_fn):\n",
    "    size = len(test_dl.dataset) # 获取数据集的大小\n",
    "    num_batches = len(test_dl) # 获取数据集的批次数量\n",
    "\n",
    "    test_loss = 0.0 # 测试集损失\n",
    "    test_acc = 0.0 # 测试集准确率\n",
    "\n",
    "    with torch.no_grad(): # 不计算梯度\n",
    "        for x, y in test_dl:  # 遍历数据集\n",
    "            y = y.long()      # 将标签转换为long类型\n",
    "            x, y = x.to(device), y.to(device) # 将数据移动到GPU上\n",
    "\n",
    "            pred = model(x) # 前向传播\n",
    "            loss = loss_fn(pred, y) # 计算损失\n",
    "            test_loss += loss.item() # 计算损失\n",
    "            test_acc += (pred.argmax(dim=1) == y).type(torch.float).sum().item() # 计算准确率\n",
    "\n",
    "    test_loss /= num_batches # 计算平均损失\n",
    "    test_acc /= size # 计算平均准确率\n",
    "\n",
    "    return test_loss, test_acc\n",
    "\n",
    "# 训练函数\n",
    "def fit(epochs, model, train_dl, test_dl, loss_fn, opt):\n",
    "    train_loss = []\n",
    "    train_acc = []\n",
    "    test_loss = []\n",
    "    test_acc = []\n",
    "\n",
    "    print_template = 'Epoch: {}, Train Loss: {:.4f}, Train Acc: {:.2f}%, Test Loss: {:.4f}, Test Acc: {:.2f}%'\n",
    "\n",
    "\n",
    "    for epoch in range(epochs):\n",
    "        model.train() # 设置模型为训练模式，启用dropout层\n",
    "        epoch_train_loss, epoch_train_acc = train(train_dl, model, loss_fn, opt)\n",
    "        model.eval() # 设置模型为评估预测模式，禁用dropout层\n",
    "        epoch_test_loss, epoch_test_acc = test(test_dl, model, loss_fn)\n",
    "\n",
    "        train_loss.append(epoch_train_loss)\n",
    "        train_acc.append(epoch_train_acc)\n",
    "        test_loss.append(epoch_test_loss)\n",
    "        test_acc.append(epoch_test_acc)\n",
    "\n",
    "        print(print_template.format(epoch, epoch_train_loss, epoch_train_acc * 100, epoch_test_loss, epoch_test_acc * 100))\n",
    "\n",
    "    return train_loss, train_acc, test_loss, test_acc\n",
    "\n",
    "# 训练\n",
    "train_loss, train_acc, test_loss, test_acc = fit(epochs, model, train_dl, test_dl, loss_fn, opt)"
   ]
  },
  {
   "cell_type": "code",
   "execution_count": 21,
   "metadata": {},
   "outputs": [
    {
     "data": {
      "text/plain": [
       "<matplotlib.legend.Legend at 0x23907eeea30>"
      ]
     },
     "execution_count": 21,
     "metadata": {},
     "output_type": "execute_result"
    },
    {
     "data": {
      "image/png": "[encoded data removed]",
      "text/plain": [
       "<Figure size 640x480 with 1 Axes>"
      ]
     },
     "metadata": {},
     "output_type": "display_data"
    }
   ],
   "source": [
    "plt.plot(range(epochs), train_acc, c='r', label='train_acc')\n",
    "plt.plot(range(epochs), test_acc, c='b', label='test_loss')\n",
    "plt.legend()"
   ]
  },
  {
   "cell_type": "code",
   "execution_count": 22,
   "metadata": {},
   "outputs": [
    {
     "data": {
      "text/plain": [
       "<matplotlib.legend.Legend at 0x2390ab65040>"
      ]
     },
     "execution_count": 22,
     "metadata": {},
     "output_type": "execute_result"
    },
    {
     "data": {
      "image/png": "[encoded data removed]",
      "text/plain": [
       "<Figure size 640x480 with 1 Axes>"
      ]
     },
     "metadata": {},
     "output_type": "display_data"
    }
   ],
   "source": [
    "plt.plot(range(epochs), train_loss, c='r', label='train_loss')\n",
    "plt.plot(range(epochs), test_loss, c='b', label='test_loss')\n",
    "plt.legend()"
   ]
  },
  {
   "cell_type": "markdown",
   "metadata": {},
   "source": [
    "# 使用LSTM"
   ]
  },
  {
   "cell_type": "code",
   "execution_count": 23,
   "metadata": {},
   "outputs": [],
   "source": [
    "\n",
    "class LSTM_Net(nn.Module):\n",
    "    def __init__(self):\n",
    "        super(LSTM_Net, self).__init__()\n",
    "        self.em = nn.Embedding(max_word, 100)   # batch*maxlen*100\n",
    "        self.lstm = nn.LSTM(100, 200, batch_first=True)\n",
    "        self.fc1 = nn.Linear(200, 256)\n",
    "        self.fc2 = nn.Linear(256, 3)\n",
    "\n",
    "    def forward(self, x):\n",
    "        x = self.em(x)\n",
    "        x, _ = self.lstm(x)\n",
    "        x = F.relu(self.fc1(x[:, -1, :]))\n",
    "        x = self.fc2(x)\n",
    "        return x"
   ]
  },
  {
   "cell_type": "code",
   "execution_count": null,
   "metadata": {},
   "outputs": [
    {
     "name": "stdout",
     "output_type": "stream",
     "text": [
      "Epoch: 0, Train Loss: 0.9182, Train Acc: 62.86%, Test Loss: 0.9171, Test Acc: 62.94%\n",
      "Epoch: 1, Train Loss: 0.9158, Train Acc: 62.86%, Test Loss: 0.9217, Test Acc: 62.94%\n",
      "Epoch: 2, Train Loss: 0.9154, Train Acc: 62.87%, Test Loss: 0.9153, Test Acc: 62.94%\n",
      "Epoch: 3, Train Loss: 0.9147, Train Acc: 62.87%, Test Loss: 0.9212, Test Acc: 62.94%\n",
      "Epoch: 4, Train Loss: 0.9140, Train Acc: 62.87%, Test Loss: 0.9152, Test Acc: 62.94%\n",
      "Epoch: 5, Train Loss: 0.9142, Train Acc: 62.87%, Test Loss: 0.9171, Test Acc: 62.94%\n",
      "Epoch: 6, Train Loss: 0.9141, Train Acc: 62.87%, Test Loss: 0.9167, Test Acc: 62.94%\n",
      "Epoch: 7, Train Loss: 0.8833, Train Acc: 62.86%, Test Loss: 0.8547, Test Acc: 62.94%\n",
      "Epoch: 8, Train Loss: 0.8427, Train Acc: 63.34%, Test Loss: 0.8307, Test Acc: 62.94%\n",
      "Epoch: 9, Train Loss: 0.8127, Train Acc: 64.88%, Test Loss: 0.8095, Test Acc: 64.49%\n",
      "Epoch: 10, Train Loss: 0.7569, Train Acc: 67.30%, Test Loss: 0.7932, Test Acc: 67.23%\n",
      "Epoch: 11, Train Loss: 0.6707, Train Acc: 71.53%, Test Loss: 0.7473, Test Acc: 69.42%\n",
      "Epoch: 12, Train Loss: 0.5895, Train Acc: 74.91%, Test Loss: 0.7007, Test Acc: 71.22%\n",
      "Epoch: 13, Train Loss: 0.5261, Train Acc: 77.74%, Test Loss: 0.6954, Test Acc: 71.35%\n",
      "Epoch: 14, Train Loss: 0.4565, Train Acc: 81.57%, Test Loss: 0.7340, Test Acc: 72.24%\n",
      "Epoch: 15, Train Loss: 0.3861, Train Acc: 85.28%, Test Loss: 0.7778, Test Acc: 72.52%\n",
      "Epoch: 16, Train Loss: 0.3136, Train Acc: 88.74%, Test Loss: 0.8337, Test Acc: 73.71%\n",
      "Epoch: 17, Train Loss: 0.2502, Train Acc: 91.89%, Test Loss: 0.9335, Test Acc: 73.48%\n",
      "Epoch: 18, Train Loss: 0.1934, Train Acc: 93.76%, Test Loss: 1.0814, Test Acc: 73.37%\n",
      "Epoch: 19, Train Loss: 0.1893, Train Acc: 94.27%, Test Loss: 1.0707, Test Acc: 73.21%\n"
     ]
    }
   ],
   "source": [
    "# 参数整理\n",
    "model = LSTM_Net()\n",
    "learn_rate = 0.001\n",
    "epochs = 20\n",
    "train_dl = train_dl\n",
    "test_dl = test_dl\n",
    "\n",
    "# 训练前准备，定义模型、损失函数、优化器\n",
    "device = torch.device('cuda' if torch.cuda.is_available() else 'cpu') # 判断是否有GPU，如果有则使用GPU，否则使用CPU\n",
    "model.to(device) # 将已实例化的模型移动到GPU上\n",
    "\n",
    "loss_fn = torch.nn.CrossEntropyLoss()  # 损失函数，交叉熵损失函数，使用未激活的输出作为输入，内置了softmax函数为激活函数，输出为每个类别的概率\n",
    "opt = torch.optim.Adam(model.parameters(), lr=learn_rate) # 优化器，Adam优化器\n",
    "\n",
    "# 通用训练模板，输入模型、训练数据、测试数据，返回loss和acc变化\n",
    "# 训练函数\n",
    "def train(train_dl, model, loss_fn, opt):\n",
    "    size = len(train_dl.dataset) # 获取数据集的大小\n",
    "    num_batches = len(train_dl) # 获取数据集的批次数量\n",
    "\n",
    "    train_loss = 0.0 # 训练集损失\n",
    "    train_acc = 0.0 # 训练集准确率\n",
    "\n",
    "    for x, y in train_dl: # 遍历数据集\n",
    "        y = y.long()      # 将标签转换为long类型\n",
    "        x, y = x.to(device), y.to(device) # 将数据移动到GPU上\n",
    "\n",
    "        pred = model(x) # 前向传播\n",
    "        loss = loss_fn(pred, y) # 计算损失\n",
    "\n",
    "        opt.zero_grad() # 梯度清零\n",
    "        loss.backward() # 反向传播\n",
    "        opt.step() # 更新参数\n",
    "\n",
    "        with torch.no_grad(): # 不计算梯度\n",
    "            train_loss += loss.item() # 计算损失\n",
    "            train_acc += (pred.argmax(dim=1) == y).type(torch.float).sum().item() # 计算准确率\n",
    "\n",
    "    train_loss /= num_batches # 计算平均损失\n",
    "    train_acc /= size # 计算平均准确率\n",
    "\n",
    "    return train_loss, train_acc\n",
    "\n",
    "# 测试函数\n",
    "def test(test_dl, model, loss_fn):\n",
    "    size = len(test_dl.dataset) # 获取数据集的大小\n",
    "    num_batches = len(test_dl) # 获取数据集的批次数量\n",
    "\n",
    "    test_loss = 0.0 # 测试集损失\n",
    "    test_acc = 0.0 # 测试集准确率\n",
    "\n",
    "    with torch.no_grad(): # 不计算梯度\n",
    "        for x, y in test_dl:  # 遍历数据集\n",
    "            y = y.long()      # 将标签转换为long类型\n",
    "            x, y = x.to(device), y.to(device) # 将数据移动到GPU上\n",
    "\n",
    "            pred = model(x) # 前向传播\n",
    "            loss = loss_fn(pred, y) # 计算损失\n",
    "            test_loss += loss.item() # 计算损失\n",
    "            test_acc += (pred.argmax(dim=1) == y).type(torch.float).sum().item() # 计算准确率\n",
    "\n",
    "    test_loss /= num_batches # 计算平均损失\n",
    "    test_acc /= size # 计算平均准确率\n",
    "\n",
    "    return test_loss, test_acc\n",
    "\n",
    "# 训练函数\n",
    "def fit(epochs, model, train_dl, test_dl, loss_fn, opt):\n",
    "    train_loss = []\n",
    "    train_acc = []\n",
    "    test_loss = []\n",
    "    test_acc = []\n",
    "\n",
    "    print_template = 'Epoch: {}, Train Loss: {:.4f}, Train Acc: {:.2f}%, Test Loss: {:.4f}, Test Acc: {:.2f}%'\n",
    "\n",
    "\n",
    "    for epoch in range(epochs):\n",
    "        model.train() # 设置模型为训练模式，启用dropout层\n",
    "        epoch_train_loss, epoch_train_acc = train(train_dl, model, loss_fn, opt)\n",
    "        model.eval() # 设置模型为评估预测模式，禁用dropout层\n",
    "        epoch_test_loss, epoch_test_acc = test(test_dl, model, loss_fn)\n",
    "\n",
    "        train_loss.append(epoch_train_loss)\n",
    "        train_acc.append(epoch_train_acc)\n",
    "        test_loss.append(epoch_test_loss)\n",
    "        test_acc.append(epoch_test_acc)\n",
    "\n",
    "        print(print_template.format(epoch, epoch_train_loss, epoch_train_acc * 100, epoch_test_loss, epoch_test_acc * 100))\n",
    "\n",
    "    return train_loss, train_acc, test_loss, test_acc\n",
    "\n",
    "# 训练\n",
    "train_loss, train_acc, test_loss, test_acc = fit(epochs, model, train_dl, test_dl, loss_fn, opt)"
   ]
  },
  {
   "cell_type": "code",
   "execution_count": null,
   "metadata": {},
   "outputs": [
    {
     "data": {
      "text/plain": [
       "<matplotlib.legend.Legend at 0x23992479190>"
      ]
     },
     "metadata": {},
     "output_type": "display_data"
    },
    {
     "data": {
      "image/png": "[encoded data removed]",
      "text/plain": [
       "<Figure size 640x480 with 1 Axes>"
      ]
     },
     "metadata": {},
     "output_type": "display_data"
    }
   ],
   "source": [
    "plt.plot(range(epochs), train_acc, c='r', label='train_acc')\n",
    "plt.plot(range(epochs), test_acc, c='b', label='test_loss')\n",
    "plt.legend()"
   ]
  },
  {
   "cell_type": "code",
   "execution_count": null,
   "metadata": {},
   "outputs": [
    {
     "data": {
      "text/plain": [
       "<matplotlib.legend.Legend at 0x239924f6520>"
      ]
     },
     "metadata": {},
     "output_type": "display_data"
    },
    {
     "data": {
      "image/png": "[encoded data removed]",
      "text/plain": [
       "<Figure size 640x480 with 1 Axes>"
      ]
     },
     "metadata": {},
     "output_type": "display_data"
    }
   ],
   "source": [
    "plt.plot(range(epochs), train_loss, c='r', label='train_loss')\n",
    "plt.plot(range(epochs), test_loss, c='b', label='test_loss')\n",
    "plt.legend()"
   ]
  }
 ],
 "metadata": {
  "kernelspec": {
   "display_name": "pytorch1.7.1",
   "language": "python",
   "name": "pytorch1.7.1"
  },
  "language_info": {
   "codemirror_mode": {
    "name": "ipython",
    "version": 3
   },
   "file_extension": ".py",
   "mimetype": "text/x-python",
   "name": "python",
   "nbconvert_exporter": "python",
   "pygments_lexer": "ipython3",
   "version": "3.8.18"
  }
 },
 "nbformat": 4,
 "nbformat_minor": 2
}
