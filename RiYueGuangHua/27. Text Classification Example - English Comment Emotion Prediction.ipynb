{
 "cells": [
  {
   "cell_type": "markdown",
   "metadata": {},
   "source": [
    "# 文本分类实例-英文评论情感预测（Text Classification Example - English Comment Emotion Prediction）"
   ]
  },
  {
   "cell_type": "code",
   "execution_count": 1,
   "metadata": {},
   "outputs": [],
   "source": [
    "import torch\n",
    "import torch.nn as nn\n",
    "import torch.nn.functional as F\n",
    "import numpy as np\n",
    "import pandas as pd\n",
    "import matplotlib.pyplot as plt\n",
    "%matplotlib inline"
   ]
  },
  {
   "cell_type": "markdown",
   "metadata": {},
   "source": [
    "## 数据读取和观察"
   ]
  },
  {
   "cell_type": "code",
   "execution_count": 2,
   "metadata": {},
   "outputs": [
    {
     "data": {
      "application/vnd.microsoft.datawrangler.viewer.v0+json": {
       "columns": [
        {
         "name": "index",
         "rawType": "int64",
         "type": "integer"
        },
        {
         "name": "tweet_id",
         "rawType": "int64",
         "type": "integer"
        },
        {
         "name": "airline_sentiment",
         "rawType": "object",
         "type": "string"
        },
        {
         "name": "airline_sentiment_confidence",
         "rawType": "float64",
         "type": "float"
        },
        {
         "name": "negativereason",
         "rawType": "object",
         "type": "string"
        },
        {
         "name": "negativereason_confidence",
         "rawType": "float64",
         "type": "float"
        },
        {
         "name": "airline",
         "rawType": "object",
         "type": "string"
        },
        {
         "name": "airline_sentiment_gold",
         "rawType": "object",
         "type": "string"
        },
        {
         "name": "name",
         "rawType": "object",
         "type": "string"
        },
        {
         "name": "negativereason_gold",
         "rawType": "object",
         "type": "string"
        },
        {
         "name": "retweet_count",
         "rawType": "int64",
         "type": "integer"
        },
        {
         "name": "text",
         "rawType": "object",
         "type": "string"
        },
        {
         "name": "tweet_coord",
         "rawType": "object",
         "type": "string"
        },
        {
         "name": "tweet_created",
         "rawType": "object",
         "type": "string"
        },
        {
         "name": "tweet_location",
         "rawType": "object",
         "type": "string"
        },
        {
         "name": "user_timezone",
         "rawType": "object",
         "type": "string"
        }
       ],
       "ref": "2a2913cb-6f7c-4a50-8332-0bc223e7f70c",
       "rows": [
        [
         "0",
         "570306133677760513",
         "neutral",
         "1.0",
         null,
         null,
         "Virgin America",
         null,
         "cairdin",
         null,
         "0",
         "@VirginAmerica What @dhepburn said.",
         null,
         "2015-02-24 11:35:52 -0800",
         null,
         "Eastern Time (US & Canada)"
        ],
        [
         "1",
         "570301130888122368",
         "positive",
         "0.3486",
         null,
         "0.0",
         "Virgin America",
         null,
         "jnardino",
         null,
         "0",
         "@VirginAmerica plus you've added commercials to the experience... tacky.",
         null,
         "2015-02-24 11:15:59 -0800",
         null,
         "Pacific Time (US & Canada)"
        ],
        [
         "2",
         "570301083672813571",
         "neutral",
         "0.6837",
         null,
         null,
         "Virgin America",
         null,
         "yvonnalynn",
         null,
         "0",
         "@VirginAmerica I didn't today... Must mean I need to take another trip!",
         null,
         "2015-02-24 11:15:48 -0800",
         "Lets Play",
         "Central Time (US & Canada)"
        ],
        [
         "3",
         "570301031407624196",
         "negative",
         "1.0",
         "Bad Flight",
         "0.7033",
         "Virgin America",
         null,
         "jnardino",
         null,
         "0",
         "@VirginAmerica it's really aggressive to blast obnoxious \"entertainment\" in your guests' faces &amp; they have little recourse",
         null,
         "2015-02-24 11:15:36 -0800",
         null,
         "Pacific Time (US & Canada)"
        ],
        [
         "4",
         "570300817074462722",
         "negative",
         "1.0",
         "Can't Tell",
         "1.0",
         "Virgin America",
         null,
         "jnardino",
         null,
         "0",
         "@VirginAmerica and it's a really big bad thing about it",
         null,
         "2015-02-24 11:14:45 -0800",
         null,
         "Pacific Time (US & Canada)"
        ]
       ],
       "shape": {
        "columns": 15,
        "rows": 5
       }
      },
      "text/html": [
       "<div>\n",
       "<style scoped>\n",
       "    .dataframe tbody tr th:only-of-type {\n",
       "        vertical-align: middle;\n",
       "    }\n",
       "\n",
       "    .dataframe tbody tr th {\n",
       "        vertical-align: top;\n",
       "    }\n",
       "\n",
       "    .dataframe thead th {\n",
       "        text-align: right;\n",
       "    }\n",
       "</style>\n",
       "<table border=\"1\" class=\"dataframe\">\n",
       "  <thead>\n",
       "    <tr style=\"text-align: right;\">\n",
       "      <th></th>\n",
       "      <th>tweet_id</th>\n",
       "      <th>airline_sentiment</th>\n",
       "      <th>airline_sentiment_confidence</th>\n",
       "      <th>negativereason</th>\n",
       "      <th>negativereason_confidence</th>\n",
       "      <th>airline</th>\n",
       "      <th>airline_sentiment_gold</th>\n",
       "      <th>name</th>\n",
       "      <th>negativereason_gold</th>\n",
       "      <th>retweet_count</th>\n",
       "      <th>text</th>\n",
       "      <th>tweet_coord</th>\n",
       "      <th>tweet_created</th>\n",
       "      <th>tweet_location</th>\n",
       "      <th>user_timezone</th>\n",
       "    </tr>\n",
       "  </thead>\n",
       "  <tbody>\n",
       "    <tr>\n",
       "      <th>0</th>\n",
       "      <td>570306133677760513</td>\n",
       "      <td>neutral</td>\n",
       "      <td>1.0000</td>\n",
       "      <td>NaN</td>\n",
       "      <td>NaN</td>\n",
       "      <td>Virgin America</td>\n",
       "      <td>NaN</td>\n",
       "      <td>cairdin</td>\n",
       "      <td>NaN</td>\n",
       "      <td>0</td>\n",
       "      <td>@VirginAmerica What @dhepburn said.</td>\n",
       "      <td>NaN</td>\n",
       "      <td>2015-02-24 11:35:52 -0800</td>\n",
       "      <td>NaN</td>\n",
       "      <td>Eastern Time (US &amp; Canada)</td>\n",
       "    </tr>\n",
       "    <tr>\n",
       "      <th>1</th>\n",
       "      <td>570301130888122368</td>\n",
       "      <td>positive</td>\n",
       "      <td>0.3486</td>\n",
       "      <td>NaN</td>\n",
       "      <td>0.0000</td>\n",
       "      <td>Virgin America</td>\n",
       "      <td>NaN</td>\n",
       "      <td>jnardino</td>\n",
       "      <td>NaN</td>\n",
       "      <td>0</td>\n",
       "      <td>@VirginAmerica plus you've added commercials t...</td>\n",
       "      <td>NaN</td>\n",
       "      <td>2015-02-24 11:15:59 -0800</td>\n",
       "      <td>NaN</td>\n",
       "      <td>Pacific Time (US &amp; Canada)</td>\n",
       "    </tr>\n",
       "    <tr>\n",
       "      <th>2</th>\n",
       "      <td>570301083672813571</td>\n",
       "      <td>neutral</td>\n",
       "      <td>0.6837</td>\n",
       "      <td>NaN</td>\n",
       "      <td>NaN</td>\n",
       "      <td>Virgin America</td>\n",
       "      <td>NaN</td>\n",
       "      <td>yvonnalynn</td>\n",
       "      <td>NaN</td>\n",
       "      <td>0</td>\n",
       "      <td>@VirginAmerica I didn't today... Must mean I n...</td>\n",
       "      <td>NaN</td>\n",
       "      <td>2015-02-24 11:15:48 -0800</td>\n",
       "      <td>Lets Play</td>\n",
       "      <td>Central Time (US &amp; Canada)</td>\n",
       "    </tr>\n",
       "    <tr>\n",
       "      <th>3</th>\n",
       "      <td>570301031407624196</td>\n",
       "      <td>negative</td>\n",
       "      <td>1.0000</td>\n",
       "      <td>Bad Flight</td>\n",
       "      <td>0.7033</td>\n",
       "      <td>Virgin America</td>\n",
       "      <td>NaN</td>\n",
       "      <td>jnardino</td>\n",
       "      <td>NaN</td>\n",
       "      <td>0</td>\n",
       "      <td>@VirginAmerica it's really aggressive to blast...</td>\n",
       "      <td>NaN</td>\n",
       "      <td>2015-02-24 11:15:36 -0800</td>\n",
       "      <td>NaN</td>\n",
       "      <td>Pacific Time (US &amp; Canada)</td>\n",
       "    </tr>\n",
       "    <tr>\n",
       "      <th>4</th>\n",
       "      <td>570300817074462722</td>\n",
       "      <td>negative</td>\n",
       "      <td>1.0000</td>\n",
       "      <td>Can't Tell</td>\n",
       "      <td>1.0000</td>\n",
       "      <td>Virgin America</td>\n",
       "      <td>NaN</td>\n",
       "      <td>jnardino</td>\n",
       "      <td>NaN</td>\n",
       "      <td>0</td>\n",
       "      <td>@VirginAmerica and it's a really big bad thing...</td>\n",
       "      <td>NaN</td>\n",
       "      <td>2015-02-24 11:14:45 -0800</td>\n",
       "      <td>NaN</td>\n",
       "      <td>Pacific Time (US &amp; Canada)</td>\n",
       "    </tr>\n",
       "  </tbody>\n",
       "</table>\n",
       "</div>"
      ],
      "text/plain": [
       "             tweet_id airline_sentiment  airline_sentiment_confidence  \\\n",
       "0  570306133677760513           neutral                        1.0000   \n",
       "1  570301130888122368          positive                        0.3486   \n",
       "2  570301083672813571           neutral                        0.6837   \n",
       "3  570301031407624196          negative                        1.0000   \n",
       "4  570300817074462722          negative                        1.0000   \n",
       "\n",
       "  negativereason  negativereason_confidence         airline  \\\n",
       "0            NaN                        NaN  Virgin America   \n",
       "1            NaN                     0.0000  Virgin America   \n",
       "2            NaN                        NaN  Virgin America   \n",
       "3     Bad Flight                     0.7033  Virgin America   \n",
       "4     Can't Tell                     1.0000  Virgin America   \n",
       "\n",
       "  airline_sentiment_gold        name negativereason_gold  retweet_count  \\\n",
       "0                    NaN     cairdin                 NaN              0   \n",
       "1                    NaN    jnardino                 NaN              0   \n",
       "2                    NaN  yvonnalynn                 NaN              0   \n",
       "3                    NaN    jnardino                 NaN              0   \n",
       "4                    NaN    jnardino                 NaN              0   \n",
       "\n",
       "                                                text tweet_coord  \\\n",
       "0                @VirginAmerica What @dhepburn said.         NaN   \n",
       "1  @VirginAmerica plus you've added commercials t...         NaN   \n",
       "2  @VirginAmerica I didn't today... Must mean I n...         NaN   \n",
       "3  @VirginAmerica it's really aggressive to blast...         NaN   \n",
       "4  @VirginAmerica and it's a really big bad thing...         NaN   \n",
       "\n",
       "               tweet_created tweet_location               user_timezone  \n",
       "0  2015-02-24 11:35:52 -0800            NaN  Eastern Time (US & Canada)  \n",
       "1  2015-02-24 11:15:59 -0800            NaN  Pacific Time (US & Canada)  \n",
       "2  2015-02-24 11:15:48 -0800      Lets Play  Central Time (US & Canada)  \n",
       "3  2015-02-24 11:15:36 -0800            NaN  Pacific Time (US & Canada)  \n",
       "4  2015-02-24 11:14:45 -0800            NaN  Pacific Time (US & Canada)  "
      ]
     },
     "execution_count": 2,
     "metadata": {},
     "output_type": "execute_result"
    }
   ],
   "source": [
    "# 使用pandas打开csv文件\n",
    "data = pd.read_csv('./dataset/Tweets.csv')\n",
    "# 查看数据\n",
    "data.head()"
   ]
  },
  {
   "cell_type": "code",
   "execution_count": 3,
   "metadata": {},
   "outputs": [
    {
     "name": "stdout",
     "output_type": "stream",
     "text": [
      "<class 'pandas.core.frame.DataFrame'>\n",
      "RangeIndex: 14640 entries, 0 to 14639\n",
      "Data columns (total 2 columns):\n",
      " #   Column             Non-Null Count  Dtype \n",
      "---  ------             --------------  ----- \n",
      " 0   airline_sentiment  14640 non-null  object\n",
      " 1   text               14640 non-null  object\n",
      "dtypes: object(2)\n",
      "memory usage: 228.9+ KB\n",
      "Rebeated rows:  188\n",
      "Rebeated rows after drop:  0\n"
     ]
    }
   ],
   "source": [
    "# 分离评价内容和对应的情感标签\n",
    "data = data[['airline_sentiment', 'text']]\n",
    "# 查看数据信息\n",
    "data.info()\n",
    "# 查看是否有重复值\n",
    "print(\"Rebeated rows: \", data.duplicated().sum())\n",
    "# 除去数据中的重复值\n",
    "data.drop_duplicates(inplace=True)\n",
    "# 查看重复值是否去除\n",
    "print(\"Rebeated rows after drop: \", data.duplicated().sum())"
   ]
  },
  {
   "cell_type": "code",
   "execution_count": 4,
   "metadata": {},
   "outputs": [
    {
     "name": "stdout",
     "output_type": "stream",
     "text": [
      "['neutral' 'positive' 'negative']\n"
     ]
    },
    {
     "data": {
      "application/vnd.microsoft.datawrangler.viewer.v0+json": {
       "columns": [
        {
         "name": "index",
         "rawType": "object",
         "type": "string"
        },
        {
         "name": "airline_sentiment",
         "rawType": "int64",
         "type": "integer"
        }
       ],
       "ref": "df37a6a7-6017-4f37-a840-582d85bcad88",
       "rows": [
        [
         "negative",
         "9087"
        ],
        [
         "neutral",
         "3067"
        ],
        [
         "positive",
         "2298"
        ]
       ],
       "shape": {
        "columns": 1,
        "rows": 3
       }
      },
      "text/plain": [
       "negative    9087\n",
       "neutral     3067\n",
       "positive    2298\n",
       "Name: airline_sentiment, dtype: int64"
      ]
     },
     "execution_count": 4,
     "metadata": {},
     "output_type": "execute_result"
    }
   ],
   "source": [
    "# 查看情感标签\n",
    "print(data.airline_sentiment.unique())\n",
    "# 查看情感标签的分布是否均衡\n",
    "data.airline_sentiment.value_counts()"
   ]
  },
  {
   "cell_type": "code",
   "execution_count": 5,
   "metadata": {},
   "outputs": [
    {
     "data": {
      "application/vnd.microsoft.datawrangler.viewer.v0+json": {
       "columns": [
        {
         "name": "index",
         "rawType": "int64",
         "type": "integer"
        },
        {
         "name": "airline_sentiment",
         "rawType": "object",
         "type": "string"
        },
        {
         "name": "text",
         "rawType": "object",
         "type": "string"
        }
       ],
       "ref": "6796a81f-5c91-4943-9a03-27b64d7c30e8",
       "rows": [
        [
         "0",
         "neutral",
         "@VirginAmerica What @dhepburn said."
        ],
        [
         "1",
         "positive",
         "@VirginAmerica plus you've added commercials to the experience... tacky."
        ],
        [
         "2",
         "neutral",
         "@VirginAmerica I didn't today... Must mean I need to take another trip!"
        ],
        [
         "3",
         "negative",
         "@VirginAmerica it's really aggressive to blast obnoxious \"entertainment\" in your guests' faces &amp; they have little recourse"
        ],
        [
         "4",
         "negative",
         "@VirginAmerica and it's a really big bad thing about it"
        ]
       ],
       "shape": {
        "columns": 2,
        "rows": 5
       }
      },
      "text/html": [
       "<div>\n",
       "<style scoped>\n",
       "    .dataframe tbody tr th:only-of-type {\n",
       "        vertical-align: middle;\n",
       "    }\n",
       "\n",
       "    .dataframe tbody tr th {\n",
       "        vertical-align: top;\n",
       "    }\n",
       "\n",
       "    .dataframe thead th {\n",
       "        text-align: right;\n",
       "    }\n",
       "</style>\n",
       "<table border=\"1\" class=\"dataframe\">\n",
       "  <thead>\n",
       "    <tr style=\"text-align: right;\">\n",
       "      <th></th>\n",
       "      <th>airline_sentiment</th>\n",
       "      <th>text</th>\n",
       "    </tr>\n",
       "  </thead>\n",
       "  <tbody>\n",
       "    <tr>\n",
       "      <th>0</th>\n",
       "      <td>neutral</td>\n",
       "      <td>@VirginAmerica What @dhepburn said.</td>\n",
       "    </tr>\n",
       "    <tr>\n",
       "      <th>1</th>\n",
       "      <td>positive</td>\n",
       "      <td>@VirginAmerica plus you've added commercials t...</td>\n",
       "    </tr>\n",
       "    <tr>\n",
       "      <th>2</th>\n",
       "      <td>neutral</td>\n",
       "      <td>@VirginAmerica I didn't today... Must mean I n...</td>\n",
       "    </tr>\n",
       "    <tr>\n",
       "      <th>3</th>\n",
       "      <td>negative</td>\n",
       "      <td>@VirginAmerica it's really aggressive to blast...</td>\n",
       "    </tr>\n",
       "    <tr>\n",
       "      <th>4</th>\n",
       "      <td>negative</td>\n",
       "      <td>@VirginAmerica and it's a really big bad thing...</td>\n",
       "    </tr>\n",
       "  </tbody>\n",
       "</table>\n",
       "</div>"
      ],
      "text/plain": [
       "  airline_sentiment                                               text\n",
       "0           neutral                @VirginAmerica What @dhepburn said.\n",
       "1          positive  @VirginAmerica plus you've added commercials t...\n",
       "2           neutral  @VirginAmerica I didn't today... Must mean I n...\n",
       "3          negative  @VirginAmerica it's really aggressive to blast...\n",
       "4          negative  @VirginAmerica and it's a really big bad thing..."
      ]
     },
     "execution_count": 5,
     "metadata": {},
     "output_type": "execute_result"
    }
   ],
   "source": [
    "# 查看当前处理后的数据\n",
    "data.head()"
   ]
  },
  {
   "cell_type": "code",
   "execution_count": 6,
   "metadata": {},
   "outputs": [
    {
     "data": {
      "application/vnd.microsoft.datawrangler.viewer.v0+json": {
       "columns": [
        {
         "name": "index",
         "rawType": "int64",
         "type": "integer"
        },
        {
         "name": "text",
         "rawType": "object",
         "type": "string"
        },
        {
         "name": "review",
         "rawType": "int64",
         "type": "integer"
        }
       ],
       "ref": "9bce12e0-8542-4d7f-8e2e-5ffb34609abc",
       "rows": [
        [
         "0",
         "@VirginAmerica What @dhepburn said.",
         "0"
        ],
        [
         "1",
         "@VirginAmerica plus you've added commercials to the experience... tacky.",
         "1"
        ],
        [
         "2",
         "@VirginAmerica I didn't today... Must mean I need to take another trip!",
         "0"
        ],
        [
         "3",
         "@VirginAmerica it's really aggressive to blast obnoxious \"entertainment\" in your guests' faces &amp; they have little recourse",
         "2"
        ],
        [
         "4",
         "@VirginAmerica and it's a really big bad thing about it",
         "2"
        ]
       ],
       "shape": {
        "columns": 2,
        "rows": 5
       }
      },
      "text/html": [
       "<div>\n",
       "<style scoped>\n",
       "    .dataframe tbody tr th:only-of-type {\n",
       "        vertical-align: middle;\n",
       "    }\n",
       "\n",
       "    .dataframe tbody tr th {\n",
       "        vertical-align: top;\n",
       "    }\n",
       "\n",
       "    .dataframe thead th {\n",
       "        text-align: right;\n",
       "    }\n",
       "</style>\n",
       "<table border=\"1\" class=\"dataframe\">\n",
       "  <thead>\n",
       "    <tr style=\"text-align: right;\">\n",
       "      <th></th>\n",
       "      <th>text</th>\n",
       "      <th>review</th>\n",
       "    </tr>\n",
       "  </thead>\n",
       "  <tbody>\n",
       "    <tr>\n",
       "      <th>0</th>\n",
       "      <td>@VirginAmerica What @dhepburn said.</td>\n",
       "      <td>0</td>\n",
       "    </tr>\n",
       "    <tr>\n",
       "      <th>1</th>\n",
       "      <td>@VirginAmerica plus you've added commercials t...</td>\n",
       "      <td>1</td>\n",
       "    </tr>\n",
       "    <tr>\n",
       "      <th>2</th>\n",
       "      <td>@VirginAmerica I didn't today... Must mean I n...</td>\n",
       "      <td>0</td>\n",
       "    </tr>\n",
       "    <tr>\n",
       "      <th>3</th>\n",
       "      <td>@VirginAmerica it's really aggressive to blast...</td>\n",
       "      <td>2</td>\n",
       "    </tr>\n",
       "    <tr>\n",
       "      <th>4</th>\n",
       "      <td>@VirginAmerica and it's a really big bad thing...</td>\n",
       "      <td>2</td>\n",
       "    </tr>\n",
       "  </tbody>\n",
       "</table>\n",
       "</div>"
      ],
      "text/plain": [
       "                                                text  review\n",
       "0                @VirginAmerica What @dhepburn said.       0\n",
       "1  @VirginAmerica plus you've added commercials t...       1\n",
       "2  @VirginAmerica I didn't today... Must mean I n...       0\n",
       "3  @VirginAmerica it's really aggressive to blast...       2\n",
       "4  @VirginAmerica and it's a really big bad thing...       2"
      ]
     },
     "execution_count": 6,
     "metadata": {},
     "output_type": "execute_result"
    }
   ],
   "source": [
    "# 标签的处理\n",
    "# 将情感标签转换为数字\n",
    "data['review'] = pd.factorize(data.airline_sentiment)[0]\n",
    "# 删除情感标签列\n",
    "del data['airline_sentiment']\n",
    "# 查看当前处理后的数据\n",
    "data.head()"
   ]
  },
  {
   "cell_type": "code",
   "execution_count": 7,
   "metadata": {},
   "outputs": [
    {
     "data": {
      "application/vnd.microsoft.datawrangler.viewer.v0+json": {
       "columns": [
        {
         "name": "index",
         "rawType": "int64",
         "type": "integer"
        },
        {
         "name": "text",
         "rawType": "object",
         "type": "string"
        },
        {
         "name": "review",
         "rawType": "int64",
         "type": "integer"
        }
       ],
       "ref": "b1a8b029-9a27-4a13-93f2-32ad134e16a6",
       "rows": [
        [
         "0",
         "['virginamerica', 'what', 'dhepburn', 'said', '.']",
         "0"
        ],
        [
         "1",
         "['virginamerica', 'plus', 'you', 've', 'added', 'commercials', 'to', 'the', 'experience', '.', '.', '.', 'tacky', '.']",
         "1"
        ],
        [
         "2",
         "['virginamerica', 'i', 'didn', 't', 'today', '.', '.', '.', 'must', 'mean', 'i', 'need', 'to', 'take', 'another', 'trip', '!']",
         "0"
        ],
        [
         "3",
         "['virginamerica', 'it', 's', 'really', 'aggressive', 'to', 'blast', 'obnoxious', 'entertainment', 'in', 'your', 'guests', 'faces', 'amp', 'they', 'have', 'little', 'recourse']",
         "2"
        ],
        [
         "4",
         "['virginamerica', 'and', 'it', 's', 'a', 'really', 'big', 'bad', 'thing', 'about', 'it']",
         "2"
        ]
       ],
       "shape": {
        "columns": 2,
        "rows": 5
       }
      },
      "text/html": [
       "<div>\n",
       "<style scoped>\n",
       "    .dataframe tbody tr th:only-of-type {\n",
       "        vertical-align: middle;\n",
       "    }\n",
       "\n",
       "    .dataframe tbody tr th {\n",
       "        vertical-align: top;\n",
       "    }\n",
       "\n",
       "    .dataframe thead th {\n",
       "        text-align: right;\n",
       "    }\n",
       "</style>\n",
       "<table border=\"1\" class=\"dataframe\">\n",
       "  <thead>\n",
       "    <tr style=\"text-align: right;\">\n",
       "      <th></th>\n",
       "      <th>text</th>\n",
       "      <th>review</th>\n",
       "    </tr>\n",
       "  </thead>\n",
       "  <tbody>\n",
       "    <tr>\n",
       "      <th>0</th>\n",
       "      <td>[virginamerica, what, dhepburn, said, .]</td>\n",
       "      <td>0</td>\n",
       "    </tr>\n",
       "    <tr>\n",
       "      <th>1</th>\n",
       "      <td>[virginamerica, plus, you, ve, added, commerci...</td>\n",
       "      <td>1</td>\n",
       "    </tr>\n",
       "    <tr>\n",
       "      <th>2</th>\n",
       "      <td>[virginamerica, i, didn, t, today, ., ., ., mu...</td>\n",
       "      <td>0</td>\n",
       "    </tr>\n",
       "    <tr>\n",
       "      <th>3</th>\n",
       "      <td>[virginamerica, it, s, really, aggressive, to,...</td>\n",
       "      <td>2</td>\n",
       "    </tr>\n",
       "    <tr>\n",
       "      <th>4</th>\n",
       "      <td>[virginamerica, and, it, s, a, really, big, ba...</td>\n",
       "      <td>2</td>\n",
       "    </tr>\n",
       "  </tbody>\n",
       "</table>\n",
       "</div>"
      ],
      "text/plain": [
       "                                                text  review\n",
       "0           [virginamerica, what, dhepburn, said, .]       0\n",
       "1  [virginamerica, plus, you, ve, added, commerci...       1\n",
       "2  [virginamerica, i, didn, t, today, ., ., ., mu...       0\n",
       "3  [virginamerica, it, s, really, aggressive, to,...       2\n",
       "4  [virginamerica, and, it, s, a, really, big, ba...       2"
      ]
     },
     "execution_count": 7,
     "metadata": {},
     "output_type": "execute_result"
    }
   ],
   "source": [
    "# 文本的处理\n",
    "import re\n",
    "# 定义一个正则表达式，用于匹配文本中的单词和标点符号\n",
    "token = re.compile('[A-Za-z]+|[!?,.()]')\n",
    "# 文本处理函数\n",
    "def reg_text(text):\n",
    "    new_text = token.findall(text)\n",
    "    new_text = [word.lower() for word in new_text]\n",
    "    return new_text\n",
    "# 处理文本\n",
    "data['text'] = data.text.apply(reg_text)\n",
    "# 查看处理后的文本\n",
    "data.head()"
   ]
  },
  {
   "cell_type": "markdown",
   "metadata": {},
   "source": [
    "## 创建词表（vocab）"
   ]
  },
  {
   "cell_type": "code",
   "execution_count": 8,
   "metadata": {},
   "outputs": [
    {
     "name": "stdout",
     "output_type": "stream",
     "text": [
      "13668\n"
     ]
    }
   ],
   "source": [
    "# 初始化空集合\n",
    "word_set = set()\n",
    "# 遍历数据集中的所有文本，将每个单词添加到集合中\n",
    "for text in data.text:\n",
    "    for word in text:\n",
    "        word_set.add(word)\n",
    "# 打印集合的大小，即词汇表的大小\n",
    "max_word = len(word_set) + 1\n",
    "print(max_word)"
   ]
  },
  {
   "cell_type": "code",
   "execution_count": 9,
   "metadata": {},
   "outputs": [
    {
     "data": {
      "text/plain": [
       "10434"
      ]
     },
     "execution_count": 9,
     "metadata": {},
     "output_type": "execute_result"
    }
   ],
   "source": [
    "# 将集合转换为列表\n",
    "word_list = list(word_set)\n",
    "# 查找单词在列表中的索引\n",
    "word_list.index('spending')"
   ]
  },
  {
   "cell_type": "code",
   "execution_count": 10,
   "metadata": {},
   "outputs": [
    {
     "data": {
      "text/plain": [
       "{'cmfat': 1,\n",
       " 'patiently': 2,\n",
       " 'retrieve': 3,\n",
       " 'shipped': 4,\n",
       " 'ella': 5,\n",
       " 'kbtzvju': 6,\n",
       " 'roo': 7,\n",
       " 'sapphire': 8,\n",
       " 'glassdoor': 9,\n",
       " 'driving': 10,\n",
       " 'laguardia': 11,\n",
       " 'hfho': 12,\n",
       " 'porn': 13,\n",
       " 'fell': 14,\n",
       " 'clob': 15,\n",
       " 'suree': 16,\n",
       " 'pto': 17,\n",
       " 'montana': 18,\n",
       " 'vincenzolandino': 19,\n",
       " 'davis': 20,\n",
       " 'crewe': 21,\n",
       " 'ndward': 22,\n",
       " 'sh': 23,\n",
       " 'ffstatusdontmatter': 24,\n",
       " 'sweaty': 25,\n",
       " 'anxious': 26,\n",
       " 'nt': 27,\n",
       " 'staffers': 28,\n",
       " 'yuck': 29,\n",
       " 'shitty': 30,\n",
       " 'deceiving': 31,\n",
       " 'iced': 32,\n",
       " 'poorly': 33,\n",
       " 'shower': 34,\n",
       " 'discontinued': 35,\n",
       " 'hb': 36,\n",
       " 'overseas': 37,\n",
       " 'hair': 38,\n",
       " 'loveisintheair': 39,\n",
       " 'flown': 40,\n",
       " 'entire': 41,\n",
       " 'ac': 42,\n",
       " 'waterbury': 43,\n",
       " 'butnot': 44,\n",
       " 'jetblueanyone': 45,\n",
       " 'firstworldproblems': 46,\n",
       " 'peterpiatetsky': 47,\n",
       " 'doctors': 48,\n",
       " 'ticketed': 49,\n",
       " 'appreciated': 50,\n",
       " 'signs': 51,\n",
       " 'church': 52,\n",
       " 'rinzysk': 53,\n",
       " 'ongoing': 54,\n",
       " 'imo': 55,\n",
       " 'pigs': 56,\n",
       " 'repaid': 57,\n",
       " 'kwuek': 58,\n",
       " 'grandkids': 59,\n",
       " 'cabcelled': 60,\n",
       " 'terribly': 61,\n",
       " 'sacintlairport': 62,\n",
       " 'phil': 63,\n",
       " 'toyingwithouremotions': 64,\n",
       " 'diversion': 65,\n",
       " 'agree': 66,\n",
       " 'tryagain': 67,\n",
       " 'rang': 68,\n",
       " 'br': 69,\n",
       " 'mka': 70,\n",
       " 'keepitmovin': 71,\n",
       " 'feelingtheluv': 72,\n",
       " 'paymytab': 73,\n",
       " 'yucki': 74,\n",
       " 'dcobokn': 75,\n",
       " 'fax': 76,\n",
       " 'zcbjyo': 77,\n",
       " 'screens': 78,\n",
       " 'aren': 79,\n",
       " 'unusable': 80,\n",
       " 'throne': 81,\n",
       " 'mejia': 82,\n",
       " 'fella': 83,\n",
       " 'proportion': 84,\n",
       " 'situations': 85,\n",
       " 'topqmvqnjp': 86,\n",
       " 'othr': 87,\n",
       " 'dumas': 88,\n",
       " 'woo': 89,\n",
       " 'notch': 90,\n",
       " 'weighed': 91,\n",
       " 'selects': 92,\n",
       " 'improved': 93,\n",
       " 'entrusted': 94,\n",
       " 'snaps': 95,\n",
       " 'whatfrozenpipes': 96,\n",
       " 'doublestandards': 97,\n",
       " 'aisles': 98,\n",
       " 'caring': 99,\n",
       " 'substandard': 100,\n",
       " 'pdmgif': 101,\n",
       " 'retracted': 102,\n",
       " 'gerne': 103,\n",
       " 'aisle': 104,\n",
       " 'onlyblue': 105,\n",
       " 'nz': 106,\n",
       " 'worstservice': 107,\n",
       " 'pretty': 108,\n",
       " 'discontinue': 109,\n",
       " 'ji': 110,\n",
       " 'brushing': 111,\n",
       " 'interviewed': 112,\n",
       " 'laiggef': 113,\n",
       " 'need': 114,\n",
       " 'hh': 115,\n",
       " 'wbhbljjks': 116,\n",
       " 'ambassador': 117,\n",
       " 'pennypincher': 118,\n",
       " 'ugfckermrw': 119,\n",
       " 'jt': 120,\n",
       " 'aurorabiz': 121,\n",
       " 'gold': 122,\n",
       " 'wguk': 123,\n",
       " 'rsvagijn': 124,\n",
       " 'ege': 125,\n",
       " 'tmthvfdc': 126,\n",
       " 'done': 127,\n",
       " 'zpz': 128,\n",
       " 'dql': 129,\n",
       " 'emotional': 130,\n",
       " 'round': 131,\n",
       " 'cleaning': 132,\n",
       " 'skilled': 133,\n",
       " 'afternoon': 134,\n",
       " 'recouping': 135,\n",
       " 'melaniespring': 136,\n",
       " 'pacify': 137,\n",
       " 'russelneiss': 138,\n",
       " 'whats': 139,\n",
       " 'exasperating': 140,\n",
       " 'affiliate': 141,\n",
       " 'meggersrocks': 142,\n",
       " 'dlewis': 143,\n",
       " 'wondered': 144,\n",
       " 'investors': 145,\n",
       " 'cf': 146,\n",
       " 'afraid': 147,\n",
       " 'upload': 148,\n",
       " 'throug': 149,\n",
       " 'annebevi': 150,\n",
       " 'technical': 151,\n",
       " 'bone': 152,\n",
       " 'emv': 153,\n",
       " 'detail': 154,\n",
       " 'essence': 155,\n",
       " 'filling': 156,\n",
       " 'waa': 157,\n",
       " 'sr': 158,\n",
       " 'leinenkugels': 159,\n",
       " 'boyfriend': 160,\n",
       " 'confused': 161,\n",
       " 'feels': 162,\n",
       " 'pound': 163,\n",
       " 'rectified': 164,\n",
       " 'kristie': 165,\n",
       " 'planet': 166,\n",
       " 'page': 167,\n",
       " 'assign': 168,\n",
       " 'nooooo': 169,\n",
       " 'course': 170,\n",
       " 'cbssoxfan': 171,\n",
       " 'metars': 172,\n",
       " 'pays': 173,\n",
       " 'adopted': 174,\n",
       " 'spontaneously': 175,\n",
       " 'pit': 176,\n",
       " 'skrlyrz': 177,\n",
       " 'xd': 178,\n",
       " 'imrlau': 179,\n",
       " 'pax': 180,\n",
       " 'anyway': 181,\n",
       " 'iflyoakland': 182,\n",
       " 'gcy': 183,\n",
       " 'themselves': 184,\n",
       " 'neveryamind': 185,\n",
       " 'wondering': 186,\n",
       " 'alert': 187,\n",
       " 'obcepp': 188,\n",
       " 'aviation': 189,\n",
       " 'transferred': 190,\n",
       " 'tampa': 191,\n",
       " 'deice': 192,\n",
       " 'tonight': 193,\n",
       " 'dw': 194,\n",
       " 'insider': 195,\n",
       " 'fsluxegw': 196,\n",
       " 'nashville': 197,\n",
       " 'half': 198,\n",
       " 'malpensa': 199,\n",
       " 'megelizabeth': 200,\n",
       " 'starving': 201,\n",
       " 'settle': 202,\n",
       " 'celebration': 203,\n",
       " 'curt': 204,\n",
       " 'foot': 205,\n",
       " 'messaging': 206,\n",
       " 'subsequent': 207,\n",
       " 'latinamerican': 208,\n",
       " 'swaculture': 209,\n",
       " 'alcohol': 210,\n",
       " 'preflight': 211,\n",
       " 'ride': 212,\n",
       " 'tab': 213,\n",
       " 'try': 214,\n",
       " 'xjvun': 215,\n",
       " 'cheatcustomers': 216,\n",
       " 'hmcrjchb': 217,\n",
       " 'boldflavors': 218,\n",
       " 'insulted': 219,\n",
       " 'sucking': 220,\n",
       " 'carolinas': 221,\n",
       " 'synonymous': 222,\n",
       " 'pek': 223,\n",
       " 'nxt': 224,\n",
       " 'earning': 225,\n",
       " 'loeco': 226,\n",
       " 'iy': 227,\n",
       " 'wait': 228,\n",
       " 'vge': 229,\n",
       " 'gloves': 230,\n",
       " 'ga': 231,\n",
       " 'clarita': 232,\n",
       " 'sunkist': 233,\n",
       " 'experiencing': 234,\n",
       " 'nxzhbbmt': 235,\n",
       " 'buddy': 236,\n",
       " 'nonprofit': 237,\n",
       " 'friendly': 238,\n",
       " 'brt': 239,\n",
       " 'subpar': 240,\n",
       " 'valentine': 241,\n",
       " 'overzealous': 242,\n",
       " 'retaining': 243,\n",
       " 'charge': 244,\n",
       " 'medicalissue': 245,\n",
       " 'lifesaver': 246,\n",
       " 'tr': 247,\n",
       " 'pattern': 248,\n",
       " 'too': 249,\n",
       " 'internationally': 250,\n",
       " 'hand': 251,\n",
       " 'et': 252,\n",
       " 'sir': 253,\n",
       " 'wamo': 254,\n",
       " 'ebhset': 255,\n",
       " 'sfjduahx': 256,\n",
       " 'stillnotonmyflight': 257,\n",
       " 'joy': 258,\n",
       " 'reassign': 259,\n",
       " 'arrangements': 260,\n",
       " 'juliasinton': 261,\n",
       " 'virtually': 262,\n",
       " 'understanding': 263,\n",
       " 'ecom': 264,\n",
       " 'comes': 265,\n",
       " 'visors': 266,\n",
       " 'kci': 267,\n",
       " 'also': 268,\n",
       " 'swimsuits': 269,\n",
       " 'bullshit': 270,\n",
       " 'topnews': 271,\n",
       " 'uggh': 272,\n",
       " 'abassinet': 273,\n",
       " 'advertise': 274,\n",
       " 'honor': 275,\n",
       " 'equals': 276,\n",
       " 'airborne': 277,\n",
       " 'andrewfallis': 278,\n",
       " 'tags': 279,\n",
       " 'kitchen': 280,\n",
       " 'sounding': 281,\n",
       " 'tz': 282,\n",
       " 'zsdgzydnde': 283,\n",
       " 'begin': 284,\n",
       " 'estimated': 285,\n",
       " 'ukb': 286,\n",
       " 'temporary': 287,\n",
       " 'thre': 288,\n",
       " 'yeseniahernandez': 289,\n",
       " 'unhappytraveler': 290,\n",
       " 'maverick': 291,\n",
       " 'pgh': 292,\n",
       " 'thks': 293,\n",
       " 'smoothly': 294,\n",
       " 'fedexed': 295,\n",
       " 'wqzztiemx': 296,\n",
       " 'natprodexpo': 297,\n",
       " 'unprofessionalism': 298,\n",
       " 'saved': 299,\n",
       " 'mcdonnell': 300,\n",
       " 'nc': 301,\n",
       " 'underserved': 302,\n",
       " 'qn': 303,\n",
       " 'despicable': 304,\n",
       " 'kdcsxu': 305,\n",
       " 'madness': 306,\n",
       " 'killing': 307,\n",
       " 'missedflight': 308,\n",
       " 'cabaret': 309,\n",
       " 'shittydeal': 310,\n",
       " 'gun': 311,\n",
       " '.': 312,\n",
       " 'superyan': 313,\n",
       " 'lsusoftball': 314,\n",
       " 'gidcfa': 315,\n",
       " 'wanted': 316,\n",
       " 'nippon': 317,\n",
       " 'duh': 318,\n",
       " 'thingsyoucantmakeup': 319,\n",
       " 'happier': 320,\n",
       " 'spruce': 321,\n",
       " 'courtsey': 322,\n",
       " 'receipt': 323,\n",
       " 'approve': 324,\n",
       " 'mktg': 325,\n",
       " 'efficiency': 326,\n",
       " 'versa': 327,\n",
       " 'headache': 328,\n",
       " 'kicking': 329,\n",
       " 'julian': 330,\n",
       " 'off': 331,\n",
       " 'haqc': 332,\n",
       " 'margo': 333,\n",
       " 'raise': 334,\n",
       " 'rescue': 335,\n",
       " 'xfhq': 336,\n",
       " 'blanc': 337,\n",
       " 'sneaky': 338,\n",
       " 'touch': 339,\n",
       " 'terri': 340,\n",
       " 'consumers': 341,\n",
       " 'gfi': 342,\n",
       " 'eudlczg': 343,\n",
       " 'ia': 344,\n",
       " 'footage': 345,\n",
       " 'interviews': 346,\n",
       " 'nerves': 347,\n",
       " 'gal': 348,\n",
       " 'cherry': 349,\n",
       " 'blackish': 350,\n",
       " 'norahm': 351,\n",
       " 'filthy': 352,\n",
       " 'frowny': 353,\n",
       " 'tpdkqulm': 354,\n",
       " 'los': 355,\n",
       " 'wtw': 356,\n",
       " 'screakjmf': 357,\n",
       " 'nny': 358,\n",
       " 'interns': 359,\n",
       " 'platinumeventually': 360,\n",
       " 'gouzrdt': 361,\n",
       " 'wilmington': 362,\n",
       " 'sp': 363,\n",
       " 'initial': 364,\n",
       " 'awkward': 365,\n",
       " 'thrower': 366,\n",
       " 'feeltheheat': 367,\n",
       " 'version': 368,\n",
       " 'expired': 369,\n",
       " 'demand': 370,\n",
       " 'everyone': 371,\n",
       " 'chillycvz': 372,\n",
       " 'waited': 373,\n",
       " 'pooling': 374,\n",
       " 'post': 375,\n",
       " 'zabsonre': 376,\n",
       " 'helps': 377,\n",
       " 'unaccpetable': 378,\n",
       " 'degreesathome': 379,\n",
       " 'oldplanes': 380,\n",
       " 'opposed': 381,\n",
       " 'extended': 382,\n",
       " 'scollegelondon': 383,\n",
       " 'impatience': 384,\n",
       " 'elm': 385,\n",
       " 'quote': 386,\n",
       " 'rollaboard': 387,\n",
       " 'jchb': 388,\n",
       " 'actions': 389,\n",
       " 'attentive': 390,\n",
       " 'ringling': 391,\n",
       " 'elbows': 392,\n",
       " 'tasha': 393,\n",
       " 'notcool': 394,\n",
       " 'bm': 395,\n",
       " 'dca': 396,\n",
       " 'southwestoliver': 397,\n",
       " 'sotelo': 398,\n",
       " 'carsl': 399,\n",
       " 'dogbuckeye': 400,\n",
       " 'numerous': 401,\n",
       " 'suggestions': 402,\n",
       " 'captive': 403,\n",
       " 'reverted': 404,\n",
       " 'bpb': 405,\n",
       " 'tempting': 406,\n",
       " 'malik': 407,\n",
       " 'cathy': 408,\n",
       " 'overheard': 409,\n",
       " 'unitedsucksdick': 410,\n",
       " 'produced': 411,\n",
       " 'prchase': 412,\n",
       " 'tracker': 413,\n",
       " 'emailing': 414,\n",
       " 'apr': 415,\n",
       " 'states': 416,\n",
       " 'orleans': 417,\n",
       " 'benjaminokeefe': 418,\n",
       " 'jlittle': 419,\n",
       " 'reopen': 420,\n",
       " 'servicefail': 421,\n",
       " 'idiot': 422,\n",
       " 'jacked': 423,\n",
       " 'xelbon': 424,\n",
       " 'basic': 425,\n",
       " 'costs': 426,\n",
       " 'blame': 427,\n",
       " 'grezp': 428,\n",
       " 'silly': 429,\n",
       " 'hime': 430,\n",
       " 'transportation': 431,\n",
       " 'employeerelations': 432,\n",
       " 'recorded': 433,\n",
       " 'mke': 434,\n",
       " 'storms': 435,\n",
       " 'ubotmr': 436,\n",
       " 'buenos': 437,\n",
       " 'occupy': 438,\n",
       " 'replane': 439,\n",
       " 'designated': 440,\n",
       " 'andrews': 441,\n",
       " 'fruit': 442,\n",
       " 'inner': 443,\n",
       " 'restriction': 444,\n",
       " 'bench': 445,\n",
       " 'twist': 446,\n",
       " 'waives': 447,\n",
       " 'priceless': 448,\n",
       " 'nbsnewsr': 449,\n",
       " 'any': 450,\n",
       " 'lot': 451,\n",
       " 'cutoff': 452,\n",
       " 'ec': 453,\n",
       " 'disorganization': 454,\n",
       " 'walton': 455,\n",
       " 'equivalent': 456,\n",
       " 'exceptions': 457,\n",
       " 'applaud': 458,\n",
       " 'clean': 459,\n",
       " 'pdntgbxc': 460,\n",
       " 'excess': 461,\n",
       " 'searched': 462,\n",
       " 'regardless': 463,\n",
       " 'opsec': 464,\n",
       " 'cali': 465,\n",
       " 'kind': 466,\n",
       " 'uncool': 467,\n",
       " 'carousel': 468,\n",
       " 'airlinegeeks': 469,\n",
       " 'needlessly': 470,\n",
       " 'short': 471,\n",
       " 'protection': 472,\n",
       " 'prime': 473,\n",
       " 'jeff': 474,\n",
       " 'heattrap': 475,\n",
       " 'upgd': 476,\n",
       " 'woulda': 477,\n",
       " 'continues': 478,\n",
       " 'uncertainty': 479,\n",
       " 'explain': 480,\n",
       " 'doesn': 481,\n",
       " 'accept': 482,\n",
       " 'dis': 483,\n",
       " 'seasonal': 484,\n",
       " 'system': 485,\n",
       " 'oficial': 486,\n",
       " 'oxsa': 487,\n",
       " 'reserve': 488,\n",
       " 'apathetic': 489,\n",
       " 'anymore': 490,\n",
       " 'dirt': 491,\n",
       " 'whatstheholdup': 492,\n",
       " 'prohibits': 493,\n",
       " 'smallest': 494,\n",
       " 'froschtravel': 495,\n",
       " 'bom': 496,\n",
       " 'seductive': 497,\n",
       " 'mdt': 498,\n",
       " 'warmest': 499,\n",
       " 'metal': 500,\n",
       " 'providenciales': 501,\n",
       " 'opposite': 502,\n",
       " 'flightlanding': 503,\n",
       " 'saveface': 504,\n",
       " 'sign': 505,\n",
       " 'kmanldqbh': 506,\n",
       " 'ceeenj': 507,\n",
       " 'entrees': 508,\n",
       " 'applies': 509,\n",
       " 'odds': 510,\n",
       " 'hope': 511,\n",
       " 'abi': 512,\n",
       " 'peeled': 513,\n",
       " 'bloody': 514,\n",
       " 'vv': 515,\n",
       " 'billed': 516,\n",
       " 'badairline': 517,\n",
       " 'trust': 518,\n",
       " 'entirely': 519,\n",
       " 'secs': 520,\n",
       " 'kncpf': 521,\n",
       " 'reports': 522,\n",
       " 'heading': 523,\n",
       " 'over': 524,\n",
       " 'danihampton': 525,\n",
       " 'auto': 526,\n",
       " 'interest': 527,\n",
       " 'uczzp': 528,\n",
       " 'fxmk': 529,\n",
       " 'promotion': 530,\n",
       " 'goingforgreatnessfail': 531,\n",
       " 'austin': 532,\n",
       " 'ers': 533,\n",
       " 'supposedly': 534,\n",
       " 'fv': 535,\n",
       " 'insulting': 536,\n",
       " 'q': 537,\n",
       " 'depending': 538,\n",
       " 'nvr': 539,\n",
       " 'nxqijcojnj': 540,\n",
       " 'raleigh': 541,\n",
       " 'relayed': 542,\n",
       " 'tht': 543,\n",
       " 'elliott': 544,\n",
       " 'notion': 545,\n",
       " 'caused': 546,\n",
       " 'agian': 547,\n",
       " 'aunts': 548,\n",
       " 'eight': 549,\n",
       " 'sobbed': 550,\n",
       " 'boardingpass': 551,\n",
       " 'cud': 552,\n",
       " 'dale': 553,\n",
       " 'upc': 554,\n",
       " 'ar': 555,\n",
       " 'seanmfmadden': 556,\n",
       " 'sunday': 557,\n",
       " 'easter': 558,\n",
       " 'ibqr': 559,\n",
       " 'natca': 560,\n",
       " 'unfortunate': 561,\n",
       " 'proficient': 562,\n",
       " 'homm': 563,\n",
       " 'destin': 564,\n",
       " 'atlanta': 565,\n",
       " 'upocmmulun': 566,\n",
       " 'iest': 567,\n",
       " 'unfortunately': 568,\n",
       " 'authorize': 569,\n",
       " 'beatz': 570,\n",
       " 'bernhardtjh': 571,\n",
       " 'grrrr': 572,\n",
       " 'waldorf': 573,\n",
       " 'forward': 574,\n",
       " 'ciscojimfrench': 575,\n",
       " 'mosaicmecrazy': 576,\n",
       " 'flawless': 577,\n",
       " 'clientnothappy': 578,\n",
       " 'chiberia': 579,\n",
       " 'terra': 580,\n",
       " 'dallaslovefield': 581,\n",
       " 'leatherseats': 582,\n",
       " 'ybmbgs': 583,\n",
       " 'shavon': 584,\n",
       " ')': 585,\n",
       " 'polite': 586,\n",
       " 'aha': 587,\n",
       " 'posted': 588,\n",
       " 'arbitrary': 589,\n",
       " 'gqebfk': 590,\n",
       " 'shitshow': 591,\n",
       " 'creditcardsales': 592,\n",
       " 'tt': 593,\n",
       " 'minssss': 594,\n",
       " 'com': 595,\n",
       " 'insulin': 596,\n",
       " 'southwestverity': 597,\n",
       " 'losing': 598,\n",
       " 'captiveaudience': 599,\n",
       " 'thnk': 600,\n",
       " 'whyjeff': 601,\n",
       " 'ilo': 602,\n",
       " 'ktawbiuuro': 603,\n",
       " 'mellani': 604,\n",
       " 'reroute': 605,\n",
       " 'kravitz': 606,\n",
       " 'professional': 607,\n",
       " 'sass': 608,\n",
       " 'initiated': 609,\n",
       " 'solves': 610,\n",
       " 'jqhg': 611,\n",
       " 'lcqlp': 612,\n",
       " 'indeed': 613,\n",
       " 'bmk': 614,\n",
       " 'ruined': 615,\n",
       " 'green': 616,\n",
       " 'newsvp': 617,\n",
       " 'robertdwyer': 618,\n",
       " 'substitutes': 619,\n",
       " 'limits': 620,\n",
       " 'allright': 621,\n",
       " 'painless': 622,\n",
       " 'thickens': 623,\n",
       " 'lmaooo': 624,\n",
       " 'afford': 625,\n",
       " 'walkway': 626,\n",
       " 'speedy': 627,\n",
       " 'intuit': 628,\n",
       " 'bags': 629,\n",
       " 'wway': 630,\n",
       " 'hstg': 631,\n",
       " 'csm': 632,\n",
       " 'ser': 633,\n",
       " 'uppp': 634,\n",
       " 'nothin': 635,\n",
       " 'dxicoyioxf': 636,\n",
       " 'tad': 637,\n",
       " 'tkt': 638,\n",
       " 'reinvest': 639,\n",
       " 'kaej': 640,\n",
       " 'irritated': 641,\n",
       " 'ptfo': 642,\n",
       " 'discover': 643,\n",
       " 'thebachelor': 644,\n",
       " 'yuma': 645,\n",
       " 'caexhibitions': 646,\n",
       " 'aircrft': 647,\n",
       " 'chkin': 648,\n",
       " 'jerk': 649,\n",
       " 'glitch': 650,\n",
       " 'arrival': 651,\n",
       " 'dosequis': 652,\n",
       " 'tbsjquw': 653,\n",
       " 'reschedulemyflight': 654,\n",
       " 'lio': 655,\n",
       " 'velour': 656,\n",
       " 'thomas': 657,\n",
       " 'understandable': 658,\n",
       " 'goose': 659,\n",
       " 'fraction': 660,\n",
       " 'approval': 661,\n",
       " 'reveal': 662,\n",
       " 'usual': 663,\n",
       " 'aircanada': 664,\n",
       " 'nathankillam': 665,\n",
       " 'tke': 666,\n",
       " 'desition': 667,\n",
       " 'okcdirects': 668,\n",
       " 'franks': 669,\n",
       " 'renewed': 670,\n",
       " 'flydelta': 671,\n",
       " 'opens': 672,\n",
       " 'pounds': 673,\n",
       " 'appropriately': 674,\n",
       " 'colo': 675,\n",
       " 'boost': 676,\n",
       " 'nicole': 677,\n",
       " 'rectify': 678,\n",
       " 'rule': 679,\n",
       " 'giennyqn': 680,\n",
       " 'preventative': 681,\n",
       " 'ms': 682,\n",
       " 'whyyounoloveme': 683,\n",
       " 'unitedairlinessucks': 684,\n",
       " 'norma': 685,\n",
       " 'relations': 686,\n",
       " 'exhausting': 687,\n",
       " 'shampoo': 688,\n",
       " 'work': 689,\n",
       " 'electrical': 690,\n",
       " 'yln': 691,\n",
       " 'hqez': 692,\n",
       " 'memorial': 693,\n",
       " 'hjxkp': 694,\n",
       " 'engaging': 695,\n",
       " 'itdn': 696,\n",
       " 'worrying': 697,\n",
       " 'onboad': 698,\n",
       " 'rkvczbpdce': 699,\n",
       " 'noworstairline': 700,\n",
       " 'privileges': 701,\n",
       " 'customer': 702,\n",
       " 'bailey': 703,\n",
       " 'america': 704,\n",
       " 'told': 705,\n",
       " 'rndtrp': 706,\n",
       " 'dresparkles': 707,\n",
       " 'center': 708,\n",
       " 'vainglorygame': 709,\n",
       " 'worlds': 710,\n",
       " 'canld': 711,\n",
       " 'surgeries': 712,\n",
       " 'permission': 713,\n",
       " 'against': 714,\n",
       " 'probablynot': 715,\n",
       " 'amexserve': 716,\n",
       " 'zagging': 717,\n",
       " 'stinks': 718,\n",
       " 'hardest': 719,\n",
       " 'nwwqf': 720,\n",
       " 'impression': 721,\n",
       " 'nehnsdckty': 722,\n",
       " 'wc': 723,\n",
       " 'potentially': 724,\n",
       " 'dmoukdarath': 725,\n",
       " 'sold': 726,\n",
       " 'promotions': 727,\n",
       " 'wyoming': 728,\n",
       " 'amypoehler': 729,\n",
       " 'l': 730,\n",
       " 'measurements': 731,\n",
       " 'qjc': 732,\n",
       " 'frghglmkqf': 733,\n",
       " 'aucsykfuhd': 734,\n",
       " 'comenity': 735,\n",
       " 'failback': 736,\n",
       " 'inch': 737,\n",
       " 'entry': 738,\n",
       " 'cafe': 739,\n",
       " 'amateur': 740,\n",
       " 'taller': 741,\n",
       " 'returns': 742,\n",
       " 'battery': 743,\n",
       " 'should': 744,\n",
       " 'ord': 745,\n",
       " 'graduate': 746,\n",
       " 'hint': 747,\n",
       " 'jh': 748,\n",
       " 'fas': 749,\n",
       " 'giving': 750,\n",
       " 'safety': 751,\n",
       " 'jaskyplwt': 752,\n",
       " 'mjkpgvxmpc': 753,\n",
       " 'sarcastically': 754,\n",
       " 'grassy': 755,\n",
       " 'enrolled': 756,\n",
       " 'suck': 757,\n",
       " 'headphones': 758,\n",
       " 'fearing': 759,\n",
       " 'fll': 760,\n",
       " 'mama': 761,\n",
       " 'attend': 762,\n",
       " 'commend': 763,\n",
       " 'flighting': 764,\n",
       " 'olive': 765,\n",
       " 'platter': 766,\n",
       " 'served': 767,\n",
       " 'nada': 768,\n",
       " 'dinosaur': 769,\n",
       " 'rdtimethishashappened': 770,\n",
       " 'wny': 771,\n",
       " 'miatoiah': 772,\n",
       " 'combat': 773,\n",
       " 'sy': 774,\n",
       " 'tucson': 775,\n",
       " 'survive': 776,\n",
       " 'cheapest': 777,\n",
       " 'sauna': 778,\n",
       " 'rumor': 779,\n",
       " 'murphyjulie': 780,\n",
       " 'comfortable': 781,\n",
       " 'courtesy': 782,\n",
       " 'prom': 783,\n",
       " 'dxn': 784,\n",
       " 'bdtldx': 785,\n",
       " 'facing': 786,\n",
       " 'travel': 787,\n",
       " 'qoazo': 788,\n",
       " 'consumermarketing': 789,\n",
       " 'skillful': 790,\n",
       " 'otis': 791,\n",
       " 'smart': 792,\n",
       " 'let': 793,\n",
       " 'uff': 794,\n",
       " 'needtogethome': 795,\n",
       " 'rica': 796,\n",
       " 'plague': 797,\n",
       " 'ymftw': 798,\n",
       " 'brutal': 799,\n",
       " 'belongings': 800,\n",
       " 'lea': 801,\n",
       " 'english': 802,\n",
       " 'expedia': 803,\n",
       " 'surfboard': 804,\n",
       " 'fpcgrej': 805,\n",
       " 'shouldn': 806,\n",
       " 'detailed': 807,\n",
       " 'bein': 808,\n",
       " 'allergy': 809,\n",
       " 'hsv': 810,\n",
       " 'fianc': 811,\n",
       " 'student': 812,\n",
       " 'town': 813,\n",
       " 'albanyairport': 814,\n",
       " 'mgr': 815,\n",
       " 'rqbxw': 816,\n",
       " 'furious': 817,\n",
       " 'flydeltanexttime': 818,\n",
       " 'girlsweekend': 819,\n",
       " 'importantflight': 820,\n",
       " 'saianel': 821,\n",
       " 'evennotified': 822,\n",
       " 'nobaggagefees': 823,\n",
       " 'estimate': 824,\n",
       " 'alwayslate': 825,\n",
       " 'sets': 826,\n",
       " 'midnite': 827,\n",
       " 'bin': 828,\n",
       " 'lly': 829,\n",
       " 'personable': 830,\n",
       " 'jetsetter': 831,\n",
       " 'unpredictable': 832,\n",
       " 'screen': 833,\n",
       " 'crowd': 834,\n",
       " 'villages': 835,\n",
       " 'totaled': 836,\n",
       " 'peter': 837,\n",
       " 'sdytt': 838,\n",
       " 'disability': 839,\n",
       " 'jacquie': 840,\n",
       " 'solved': 841,\n",
       " 'incompetent': 842,\n",
       " 'worries': 843,\n",
       " 'fairway': 844,\n",
       " 'boundless': 845,\n",
       " 'pjs': 846,\n",
       " 'animal': 847,\n",
       " 'customerservice': 848,\n",
       " 'frigid': 849,\n",
       " 'northern': 850,\n",
       " 'sport': 851,\n",
       " 'ialiceh': 852,\n",
       " 'twitterhug': 853,\n",
       " 'oz': 854,\n",
       " 'businesstrip': 855,\n",
       " 'banning': 856,\n",
       " 'distance': 857,\n",
       " 'enemy': 858,\n",
       " 'dealings': 859,\n",
       " 'ionlyflyblue': 860,\n",
       " 'note': 861,\n",
       " 'utdallas': 862,\n",
       " 'pray': 863,\n",
       " 'neverchange': 864,\n",
       " 'disupdates': 865,\n",
       " 'rubs': 866,\n",
       " 'telephones': 867,\n",
       " 'senseless': 868,\n",
       " 'sloooowresponses': 869,\n",
       " 'allergic': 870,\n",
       " 'amazed': 871,\n",
       " 'regards': 872,\n",
       " 'fucked': 873,\n",
       " 'hillaconlin': 874,\n",
       " 'tmj': 875,\n",
       " 'praise': 876,\n",
       " 'spurs': 877,\n",
       " 'interferes': 878,\n",
       " 'poker': 879,\n",
       " 'yaayy': 880,\n",
       " 'embarrassed': 881,\n",
       " 'stewart': 882,\n",
       " 'eservice': 883,\n",
       " 'temperature': 884,\n",
       " 'bdng': 885,\n",
       " 'homeandreadyfornexttrip': 886,\n",
       " 'induce': 887,\n",
       " 'nasdaq': 888,\n",
       " 'turnaround': 889,\n",
       " 'childrens': 890,\n",
       " 'poop': 891,\n",
       " 'expensive': 892,\n",
       " 'judas': 893,\n",
       " 'expects': 894,\n",
       " 'lanes': 895,\n",
       " 'dhi': 896,\n",
       " 'jua': 897,\n",
       " 'overflight': 898,\n",
       " 'gtdwpk': 899,\n",
       " 'suite': 900,\n",
       " 'commute': 901,\n",
       " 'flamethrowers': 902,\n",
       " 'military': 903,\n",
       " 'parizad': 904,\n",
       " 'gorgeous': 905,\n",
       " 'ordered': 906,\n",
       " 'outright': 907,\n",
       " 'jacqueline': 908,\n",
       " 'gru': 909,\n",
       " 'ltx': 910,\n",
       " 'shuffle': 911,\n",
       " 'zrh': 912,\n",
       " 'boys': 913,\n",
       " 'zf': 914,\n",
       " 'quzvmk': 915,\n",
       " 'bergstrom': 916,\n",
       " 'ds': 917,\n",
       " 'seeing': 918,\n",
       " 'ppvq': 919,\n",
       " 'responsible': 920,\n",
       " 'rylietolbert': 921,\n",
       " 'sundown': 922,\n",
       " 'uipha': 923,\n",
       " 'drawing': 924,\n",
       " 'bounce': 925,\n",
       " 'admirals': 926,\n",
       " 'tfanxbh': 927,\n",
       " 'ok': 928,\n",
       " 'gopro': 929,\n",
       " 'seriously': 930,\n",
       " 'yokkhhqcmp': 931,\n",
       " 'app': 932,\n",
       " 'flightations': 933,\n",
       " 'karren': 934,\n",
       " 'beqotlnugc': 935,\n",
       " 'attained': 936,\n",
       " 'van': 937,\n",
       " 'noooooooooooooooooo': 938,\n",
       " 'deicer': 939,\n",
       " 'dkyde': 940,\n",
       " 'proud': 941,\n",
       " 'expires': 942,\n",
       " 'weighs': 943,\n",
       " 'wind': 944,\n",
       " 'diligent': 945,\n",
       " 'oaj': 946,\n",
       " 'outoftouchwithreality': 947,\n",
       " 'thxu': 948,\n",
       " 'guess': 949,\n",
       " 'def': 950,\n",
       " 'nuts': 951,\n",
       " 'pending': 952,\n",
       " 'cases': 953,\n",
       " 'cattle': 954,\n",
       " 'tools': 955,\n",
       " 'untrue': 956,\n",
       " 'avrtowtyzk': 957,\n",
       " 'emailmailto': 958,\n",
       " 'servicedog': 959,\n",
       " 'poeon': 960,\n",
       " 'waive': 961,\n",
       " 'unitedsucks': 962,\n",
       " 'ntgl': 963,\n",
       " 'fear': 964,\n",
       " 'wudda': 965,\n",
       " 'closing': 966,\n",
       " 'embraersa': 967,\n",
       " 'peak': 968,\n",
       " 'flightlations': 969,\n",
       " 'wi': 970,\n",
       " 'forces': 971,\n",
       " 'ipad': 972,\n",
       " 'cgwe': 973,\n",
       " 'tonic': 974,\n",
       " 'grief': 975,\n",
       " 'gqp': 976,\n",
       " 'finalstretch': 977,\n",
       " 'qdxft': 978,\n",
       " 'cw': 979,\n",
       " 'flyyow': 980,\n",
       " 'waitinginphilly': 981,\n",
       " 'daycare': 982,\n",
       " 'emrubu': 983,\n",
       " 'negative': 984,\n",
       " 'obf': 985,\n",
       " 'terrible': 986,\n",
       " 'southworst': 987,\n",
       " 'finleybklyncfs': 988,\n",
       " 'remains': 989,\n",
       " 'pilots': 990,\n",
       " 'hurry': 991,\n",
       " 'rizzilient': 992,\n",
       " 'jetway': 993,\n",
       " 'opt': 994,\n",
       " 'mqf': 995,\n",
       " 'stat': 996,\n",
       " 'unwilling': 997,\n",
       " 'reassigned': 998,\n",
       " 'u': 999,\n",
       " 'directly': 1000,\n",
       " ...}"
      ]
     },
     "execution_count": 10,
     "metadata": {},
     "output_type": "execute_result"
    }
   ],
   "source": [
    "# 从列表构建字典\n",
    "word_index =  dict((word, word_list.index(word) + 1) for word in word_list)\n",
    "word_index"
   ]
  },
  {
   "cell_type": "markdown",
   "metadata": {},
   "source": [
    "## 文本数据预处理"
   ]
  },
  {
   "cell_type": "code",
   "execution_count": 11,
   "metadata": {},
   "outputs": [
    {
     "data": {
      "application/vnd.microsoft.datawrangler.viewer.v0+json": {
       "columns": [
        {
         "name": "index",
         "rawType": "int64",
         "type": "integer"
        },
        {
         "name": "text",
         "rawType": "object",
         "type": "string"
        }
       ],
       "ref": "3eca3b7a-1af3-422a-9e31-5910c3f5e9af",
       "rows": [
        [
         "0",
         "['virginamerica', 'what', 'dhepburn', 'said', '.']"
        ],
        [
         "1",
         "['virginamerica', 'plus', 'you', 've', 'added', 'commercials', 'to', 'the', 'experience', '.', '.', '.', 'tacky', '.']"
        ],
        [
         "2",
         "['virginamerica', 'i', 'didn', 't', 'today', '.', '.', '.', 'must', 'mean', 'i', 'need', 'to', 'take', 'another', 'trip', '!']"
        ],
        [
         "3",
         "['virginamerica', 'it', 's', 'really', 'aggressive', 'to', 'blast', 'obnoxious', 'entertainment', 'in', 'your', 'guests', 'faces', 'amp', 'they', 'have', 'little', 'recourse']"
        ],
        [
         "4",
         "['virginamerica', 'and', 'it', 's', 'a', 'really', 'big', 'bad', 'thing', 'about', 'it']"
        ],
        [
         "5",
         "['virginamerica', 'seriously', 'would', 'pay', 'a', 'flight', 'for', 'seats', 'that', 'didn', 't', 'have', 'this', 'playing', '.', 'it', 's', 'really', 'the', 'only', 'bad', 'thing', 'about', 'flying', 'va']"
        ],
        [
         "6",
         "['virginamerica', 'yes', ',', 'nearly', 'every', 'time', 'i', 'fly', 'vx', 'this', 'ear', 'worm', 'won', 't', 'go', 'away', ')']"
        ],
        [
         "7",
         "['virginamerica', 'really', 'missed', 'a', 'prime', 'opportunity', 'for', 'men', 'without', 'hats', 'parody', ',', 'there', '.', 'https', 't', '.', 'co', 'mwpg', 'grezp']"
        ],
        [
         "8",
         "['virginamerica', 'well', ',', 'i', 'didn', 't', 'but', 'now', 'i', 'do', '!', 'd']"
        ],
        [
         "9",
         "['virginamerica', 'it', 'was', 'amazing', ',', 'and', 'arrived', 'an', 'hour', 'early', '.', 'you', 're', 'too', 'good', 'to', 'me', '.']"
        ],
        [
         "10",
         "['virginamerica', 'did', 'you', 'know', 'that', 'suicide', 'is', 'the', 'second', 'leading', 'cause', 'of', 'death', 'among', 'teens']"
        ],
        [
         "11",
         "['virginamerica', 'i', 'lt', 'pretty', 'graphics', '.', 'so', 'much', 'better', 'than', 'minimal', 'iconography', '.', 'd']"
        ],
        [
         "12",
         "['virginamerica', 'this', 'is', 'such', 'a', 'great', 'deal', '!', 'already', 'thinking', 'about', 'my', 'nd', 'trip', 'to', 'australia', 'amp', 'i', 'haven', 't', 'even', 'gone', 'on', 'my', 'st', 'trip', 'yet', '!', 'p']"
        ],
        [
         "13",
         "['virginamerica', 'virginmedia', 'i', 'm', 'flying', 'your', 'fabulous', 'seductive', 'skies', 'again', '!', 'u', 'take', 'all', 'the', 'stress', 'away', 'from', 'travel', 'http', 't', '.', 'co', 'ahlxhhkiyn']"
        ],
        [
         "14",
         "['virginamerica', 'thanks', '!']"
        ],
        [
         "15",
         "['virginamerica', 'sfo', 'pdx', 'schedule', 'is', 'still', 'mia', '.']"
        ],
        [
         "16",
         "['virginamerica', 'so', 'excited', 'for', 'my', 'first', 'cross', 'country', 'flight', 'lax', 'to', 'mco', 'i', 've', 'heard', 'nothing', 'but', 'great', 'things', 'about', 'virgin', 'america', '.', 'daystogo']"
        ],
        [
         "17",
         "['virginamerica', 'i', 'flew', 'from', 'nyc', 'to', 'sfo', 'last', 'week', 'and', 'couldn', 't', 'fully', 'sit', 'in', 'my', 'seat', 'due', 'to', 'two', 'large', 'gentleman', 'on', 'either', 'side', 'of', 'me', '.', 'help', '!']"
        ],
        [
         "18",
         "['i', 'flying', 'virginamerica', '.']"
        ],
        [
         "19",
         "['virginamerica', 'you', 'know', 'what', 'would', 'be', 'amazingly', 'awesome', '?', 'bos', 'fll', 'please', '!', '!', '!', '!', '!', '!', '!', 'i', 'want', 'to', 'fly', 'with', 'only', 'you', '.']"
        ],
        [
         "20",
         "['virginamerica', 'why', 'are', 'your', 'first', 'fares', 'in', 'may', 'over', 'three', 'times', 'more', 'than', 'other', 'carriers', 'when', 'all', 'seats', 'are', 'available', 'to', 'select', '?', '?', '?']"
        ],
        [
         "21",
         "['virginamerica', 'i', 'love', 'this', 'graphic', '.', 'http', 't', '.', 'co', 'ut', 'grrwaaa']"
        ],
        [
         "22",
         "['virginamerica', 'i', 'love', 'the', 'hipster', 'innovation', '.', 'you', 'are', 'a', 'feel', 'good', 'brand', '.']"
        ],
        [
         "23",
         "['virginamerica', 'will', 'you', 'be', 'making', 'bos', 'gt', 'las', 'non', 'stop', 'permanently', 'anytime', 'soon', '?']"
        ],
        [
         "24",
         "['virginamerica', 'you', 'guys', 'messed', 'up', 'my', 'seating', '.', '.', 'i', 'reserved', 'seating', 'with', 'my', 'friends', 'and', 'you', 'guys', 'gave', 'my', 'seat', 'away', '.', '.', '.', 'i', 'want', 'free', 'internet']"
        ],
        [
         "25",
         "['virginamerica', 'status', 'match', 'program', '.', 'i', 'applied', 'and', 'it', 's', 'been', 'three', 'weeks', '.', 'called', 'and', 'emailed', 'with', 'no', 'response', '.']"
        ],
        [
         "26",
         "['virginamerica', 'what', 'happened', 'ur', 'vegan', 'food', 'options', '?', '!', 'at', 'least', 'say', 'on', 'ur', 'site', 'so', 'i', 'know', 'i', 'won', 't', 'be', 'able', 'eat', 'anything', 'for', 'next', 'hrs', 'fail']"
        ],
        [
         "27",
         "['virginamerica', 'do', 'you', 'miss', 'me', '?', 'don', 't', 'worry', 'we', 'll', 'be', 'together', 'very', 'soon', '.']"
        ],
        [
         "28",
         "['virginamerica', 'amazing', 'to', 'me', 'that', 'we', 'can', 't', 'get', 'any', 'cold', 'air', 'from', 'the', 'vents', '.', 'vx', 'noair', 'worstflightever', 'roasted', 'sfotobos']"
        ],
        [
         "29",
         "['virginamerica', 'lax', 'to', 'ewr', 'middle', 'seat', 'on', 'a', 'red', 'eye', '.', 'such', 'a', 'noob', 'maneuver', '.', 'sendambien', 'andchexmix']"
        ],
        [
         "30",
         "['virginamerica', 'hi', '!', 'i', 'just', 'bked', 'a', 'cool', 'birthday', 'trip', 'with', 'you', ',', 'but', 'i', 'can', 't', 'add', 'my', 'elevate', 'no', '.', 'cause', 'i', 'entered', 'my', 'middle', 'name', 'during', 'flight', 'booking', 'problems']"
        ],
        [
         "31",
         "['virginamerica', 'are', 'the', 'hours', 'of', 'operation', 'for', 'the', 'club', 'at', 'sfo', 'that', 'are', 'posted', 'online', 'current', '?']"
        ],
        [
         "32",
         "['virginamerica', 'help', ',', 'left', 'expensive', 'headphones', 'on', 'flight', 'iad', 'to', 'lax', 'today', '.', 'seat', 'a', '.', 'no', 'one', 'answering', 'l', 'amp', 'f', 'number', 'at', 'lax', '!']"
        ],
        [
         "33",
         "['virginamerica', 'awaiting', 'my', 'return', 'phone', 'call', ',', 'just', 'would', 'prefer', 'to', 'use', 'your', 'online', 'self', 'service', 'option', '(']"
        ],
        [
         "34",
         "['virginamerica', 'this', 'is', 'great', 'news', '!', 'america', 'could', 'start', 'flights', 'to', 'hawaii', 'by', 'end', 'of', 'year', 'http', 't', '.', 'co', 'r', 'p', 'zy', 'fe', 'via', 'pacificbiznews']"
        ],
        [
         "35",
         "['nice', 'rt', 'virginamerica', 'vibe', 'with', 'the', 'moodlight', 'from', 'takeoff', 'to', 'touchdown', '.', 'moodlitmonday', 'sciencebehindtheexperience', 'http', 't', '.', 'co', 'y', 'o', 'unxtqp']"
        ],
        [
         "36",
         "['virginamerica', 'moodlighting', 'is', 'the', 'only', 'way', 'to', 'fly', '!', 'best', 'experience', 'ever', '!', 'cool', 'and', 'calming', '.', 'moodlitmonday']"
        ],
        [
         "37",
         "['virginamerica', 'freddieawards', 'done', 'and', 'done', '!', 'best', 'airline', 'around', ',', 'hands', 'down', '!']"
        ],
        [
         "38",
         "['virginamerica', 'when', 'can', 'i', 'book', 'my', 'flight', 'to', 'hawaii', '?', '?']"
        ],
        [
         "39",
         "['virginamerica', 'your', 'chat', 'support', 'is', 'not', 'working', 'on', 'your', 'site', 'http', 't', '.', 'co', 'vhp', 'gtdwpk']"
        ],
        [
         "40",
         "['virginamerica', 'view', 'of', 'downtown', 'los', 'angeles', ',', 'the', 'hollywood', 'sign', ',', 'and', 'beyond', 'that', 'rain', 'in', 'the', 'mountains', '!', 'http', 't', '.', 'co', 'dw', 'nf', 'ibtr']"
        ],
        [
         "41",
         "['virginamerica', 'hey', ',', 'first', 'time', 'flyer', 'next', 'week', 'excited', '!', 'but', 'i', 'm', 'having', 'a', 'hard', 'time', 'getting', 'my', 'flights', 'added', 'to', 'my', 'elevate', 'account', '.', 'help', '?']"
        ],
        [
         "42",
         "['virginamerica', 'plz', 'help', 'me', 'win', 'my', 'bid', 'upgrade', 'for', 'my', 'flight', 'lax', 'gt', 'sea', '!', '!', '!']"
        ],
        [
         "43",
         "['virginamerica', 'i', 'have', 'an', 'unused', 'ticket', 'but', 'moved', 'to', 'a', 'new', 'city', 'where', 'you', 'don', 't', 'fly', '.', 'how', 'can', 'i', 'fly', 'with', 'you', 'before', 'it', 'expires', '?', 'travelhelp']"
        ],
        [
         "44",
         "['virginamerica', 'are', 'flights', 'leaving', 'dallas', 'for', 'seattle', 'on', 'time', 'feb', '?']"
        ],
        [
         "45",
         "['virginamerica', 'i', 'm', 'elevategold', 'for', 'a', 'good', 'reason', 'you', 'rock', '!', '!']"
        ],
        [
         "46",
         "['virginamerica', 'dream', 'http', 't', '.', 'co', 'oa', 'drfaoq', 'http', 't', '.', 'co', 'lwwdac', 'khx']"
        ],
        [
         "47",
         "['virginamerica', 'wow', 'this', 'just', 'blew', 'my', 'mind']"
        ],
        [
         "48",
         "['virginamerica', 'ladygaga', 'carrieunderwood', 'after', 'last', 'night', 'tribute', 'soundofmusic', 'oscars', 'ladygaga', '!', 'i', 'think', 'carrieunderwood', 'agree']"
        ],
        [
         "49",
         "['virginamerica', 'ladygaga', 'carrieunderwood', 'all', 'were', 'entertaining']"
        ]
       ],
       "shape": {
        "columns": 1,
        "rows": 14452
       }
      },
      "text/plain": [
       "0                 [virginamerica, what, dhepburn, said, .]\n",
       "1        [virginamerica, plus, you, ve, added, commerci...\n",
       "2        [virginamerica, i, didn, t, today, ., ., ., mu...\n",
       "3        [virginamerica, it, s, really, aggressive, to,...\n",
       "4        [virginamerica, and, it, s, a, really, big, ba...\n",
       "                               ...                        \n",
       "14635    [americanair, thank, you, we, got, on, a, diff...\n",
       "14636    [americanair, leaving, over, minutes, late, fl...\n",
       "14637    [americanair, please, bring, american, airline...\n",
       "14638    [americanair, you, have, my, money, ,, you, ch...\n",
       "14639    [americanair, we, have, ppl, so, we, need, kno...\n",
       "Name: text, Length: 14452, dtype: object"
      ]
     },
     "execution_count": 11,
     "metadata": {},
     "output_type": "execute_result"
    }
   ],
   "source": [
    "# 查看数据文本\n",
    "data.text"
   ]
  },
  {
   "cell_type": "code",
   "execution_count": 12,
   "metadata": {},
   "outputs": [
    {
     "data": {
      "application/vnd.microsoft.datawrangler.viewer.v0+json": {
       "columns": [
        {
         "name": "index",
         "rawType": "int64",
         "type": "integer"
        },
        {
         "name": "text",
         "rawType": "object",
         "type": "string"
        }
       ],
       "ref": "9b036795-808e-4c61-a5fa-a8d93a7ba7ce",
       "rows": [
        [
         "0",
         "[7788, 11314, 3592, 8918, 312]"
        ],
        [
         "1",
         "[7788, 13294, 4607, 1315, 4381, 7956, 8680, 1359, 4058, 312, 312, 312, 2965, 312]"
        ],
        [
         "2",
         "[7788, 1248, 5172, 13177, 2782, 312, 312, 312, 5321, 8055, 1248, 114, 8680, 12997, 1083, 9043, 9545]"
        ],
        [
         "3",
         "[7788, 8737, 3296, 9739, 1634, 8680, 12936, 7701, 5799, 6568, 5594, 7662, 8917, 12102, 9138, 11797, 8633, 9509]"
        ],
        [
         "4",
         "[7788, 9806, 8737, 3296, 5954, 9739, 6119, 2493, 7397, 5469, 8737]"
        ],
        [
         "5",
         "[7788, 930, 4115, 13140, 5954, 13595, 8307, 5869, 3762, 5172, 13177, 11797, 3149, 2948, 312, 8737, 3296, 9739, 1359, 8246, 2493, 7397, 5469, 7221, 4569]"
        ],
        [
         "6",
         "[7788, 2194, 1625, 1412, 5947, 4465, 1248, 1691, 7272, 3149, 9060, 12512, 13456, 13177, 8171, 9108, 585]"
        ],
        [
         "7",
         "[7788, 9739, 3693, 5954, 473, 12315, 8307, 1293, 6582, 10731, 10557, 1625, 7781, 312, 12972, 13177, 312, 7222, 4805, 428]"
        ],
        [
         "8",
         "[7788, 5639, 1625, 1248, 5172, 13177, 9442, 10568, 1248, 2021, 9545, 10636]"
        ],
        [
         "9",
         "[7788, 8737, 11602, 1684, 1625, 9806, 2718, 4181, 12205, 1460, 312, 4607, 7274, 249, 6256, 8680, 8377, 312]"
        ],
        [
         "10",
         "[7788, 6573, 4607, 2980, 3762, 3872, 13238, 1359, 9582, 2082, 6784, 7229, 8449, 12861, 11591]"
        ],
        [
         "11",
         "[7788, 1248, 2479, 108, 1443, 312, 2819, 9611, 11197, 4811, 10140, 11709, 312, 10636]"
        ],
        [
         "12",
         "[7788, 3149, 13238, 4533, 5954, 11100, 1506, 9545, 7184, 2100, 5469, 9916, 1095, 9043, 8680, 2630, 12102, 1248, 8987, 13177, 9853, 3105, 8475, 9916, 11537, 9043, 11884, 9545, 5886]"
        ],
        [
         "13",
         "[7788, 8459, 1248, 10925, 7221, 5594, 5603, 497, 4011, 7023, 9545, 999, 12997, 1772, 1359, 12825, 9108, 1368, 787, 5866, 13177, 312, 7222, 1195]"
        ],
        [
         "14",
         "[7788, 5528, 9545]"
        ],
        [
         "15",
         "[7788, 10147, 9789, 7856, 13238, 4419, 7245, 312]"
        ],
        [
         "16",
         "[7788, 2819, 4970, 8307, 9916, 6825, 8289, 5937, 13595, 11984, 8680, 6315, 1248, 1315, 10654, 8487, 9442, 11100, 5581, 5469, 11632, 704, 312, 10275]"
        ],
        [
         "17",
         "[7788, 1248, 8628, 1368, 11221, 8680, 10147, 1006, 5773, 9806, 12079, 13177, 6019, 6759, 6568, 9916, 5004, 13084, 8680, 9877, 4816, 5312, 8475, 8441, 2140, 7229, 8377, 312, 11614, 9545]"
        ],
        [
         "18",
         "[1248, 7221, 7788, 312]"
        ],
        [
         "19",
         "[7788, 4607, 2980, 11314, 4115, 3243, 1829, 13318, 7504, 1702, 760, 3174, 9545, 9545, 9545, 9545, 9545, 9545, 9545, 1248, 11648, 8680, 1691, 3943, 8246, 4607, 312]"
        ],
        [
         "20",
         "[7788, 12276, 10073, 5594, 6825, 6656, 6568, 10629, 524, 2612, 4149, 4254, 4811, 4995, 9180, 7945, 1772, 5869, 10073, 7219, 8680, 13074, 7504, 7504, 7504]"
        ],
        [
         "21",
         "[7788, 1248, 9480, 3149, 7084, 312, 5866, 13177, 312, 7222, 11127, 5489]"
        ],
        [
         "22",
         "[7788, 1248, 9480, 1359, 6664, 10182, 312, 4607, 10073, 5954, 9342, 6256, 1729, 312]"
        ],
        [
         "23",
         "[7788, 3088, 4607, 3243, 4948, 1702, 11669, 5964, 3046, 9176, 9189, 12438, 7908, 7504]"
        ],
        [
         "24",
         "[7788, 4607, 11203, 11554, 8542, 9916, 6796, 312, 312, 1248, 11816, 6796, 3943, 9916, 11048, 9806, 4607, 11203, 3949, 9916, 5004, 9108, 312, 312, 312, 1248, 11648, 12590, 7999]"
        ],
        [
         "25",
         "[7788, 9150, 12238, 4890, 312, 1248, 12135, 9806, 8737, 3296, 4640, 2612, 5992, 312, 6205, 9806, 1192, 3943, 9736, 8414, 312]"
        ],
        [
         "26",
         "[7788, 11314, 5779, 8689, 13381, 12762, 9985, 7504, 9545, 1515, 11907, 11812, 8475, 8689, 1469, 2819, 1248, 2980, 1248, 13456, 13177, 3243, 3827, 7542, 12458, 8307, 7170, 10245, 8543]"
        ],
        [
         "27",
         "[7788, 2021, 4607, 6972, 8377, 7504, 3848, 13177, 6443, 7141, 4338, 3243, 3615, 3621, 7908, 312]"
        ],
        [
         "28",
         "[7788, 1684, 8680, 8377, 3762, 7141, 2026, 13177, 5480, 450, 9944, 6948, 1368, 1359, 11049, 312, 7272, 11374, 12127, 9421, 7460]"
        ],
        [
         "29",
         "[7788, 11984, 8680, 10105, 11740, 5004, 8475, 5954, 9880, 10960, 312, 4533, 5954, 3062, 2802, 312, 5577, 7423]"
        ],
        [
         "30",
         "[7788, 4990, 9545, 1248, 11761, 5401, 5954, 8028, 11489, 9043, 3943, 4607, 1625, 9442, 1248, 2026, 13177, 10593, 9916, 4738, 9736, 312, 6784, 1248, 5879, 9916, 11740, 8056, 11506, 13595, 6714, 6267]"
        ],
        [
         "31",
         "[7788, 10073, 1359, 8176, 7229, 10984, 8307, 1359, 2169, 1515, 10147, 3762, 10073, 588, 12206, 12708, 7504]"
        ],
        [
         "32",
         "[7788, 11614, 1625, 3075, 892, 758, 8475, 13595, 9594, 8680, 11984, 2782, 312, 5004, 5954, 312, 9736, 1043, 5185, 730, 12102, 7588, 2708, 1515, 11984, 9545]"
        ],
        [
         "33",
         "[7788, 1439, 9916, 6251, 3832, 4785, 1625, 11761, 4115, 9855, 8680, 5407, 5594, 12206, 5749, 8423, 2077, 3311]"
        ],
        [
         "34",
         "[7788, 3149, 13238, 11100, 4249, 9545, 704, 4059, 5967, 1007, 8680, 5179, 2095, 4142, 7229, 1762, 5866, 13177, 312, 7222, 8709, 5886, 2967, 9812, 12036, 1176]"
        ],
        [
         "35",
         "[10238, 8927, 7788, 2039, 3943, 1359, 2527, 1368, 4809, 8680, 9040, 312, 3092, 2114, 5866, 13177, 312, 7222, 9489, 9234, 9310]"
        ],
        [
         "36",
         "[7788, 12964, 13238, 1359, 8246, 1722, 8680, 1691, 9545, 3755, 4058, 3339, 9545, 8028, 9806, 5646, 312, 3092]"
        ],
        [
         "37",
         "[7788, 5247, 127, 9806, 127, 9545, 3755, 6390, 11800, 1625, 6384, 12513, 9545]"
        ],
        [
         "38",
         "[7788, 7945, 2026, 1248, 11436, 9916, 13595, 8680, 5179, 7504, 7504]"
        ],
        [
         "39",
         "[7788, 5594, 10532, 4004, 13238, 7056, 4959, 8475, 5594, 1469, 5866, 13177, 312, 7222, 5541, 899]"
        ],
        [
         "40",
         "[7788, 12160, 7229, 3656, 355, 11447, 1625, 1359, 9048, 505, 1625, 9806, 10306, 3762, 9279, 6568, 1359, 3039, 9545, 5866, 13177, 312, 7222, 194, 6021, 2204]"
        ],
        [
         "41",
         "[7788, 9884, 1625, 6825, 4465, 3581, 7170, 5773, 4970, 9545, 9442, 1248, 10925, 7418, 5954, 12222, 4465, 11324, 9916, 1007, 4381, 8680, 9916, 4738, 7305, 312, 11614, 7504]"
        ],
        [
         "42",
         "[7788, 5910, 11614, 8377, 5267, 9916, 10127, 2419, 8307, 9916, 13595, 11984, 11669, 5917, 9545, 9545, 9545]"
        ],
        [
         "43",
         "[7788, 1248, 11797, 4181, 2136, 9361, 9442, 5154, 8680, 5954, 11456, 10336, 2319, 4607, 3848, 13177, 1691, 312, 11656, 2026, 1248, 1691, 3943, 4607, 7932, 8737, 942, 7504, 12266]"
        ],
        [
         "44",
         "[7788, 10073, 1007, 7048, 6852, 8307, 9198, 8475, 4465, 8169, 7504]"
        ],
        [
         "45",
         "[7788, 1248, 10925, 4760, 8307, 5954, 6256, 3412, 4607, 13214, 9545, 9545]"
        ],
        [
         "46",
         "[7788, 13453, 5866, 13177, 312, 7222, 12148, 3763, 5866, 13177, 312, 7222, 9096, 10723]"
        ],
        [
         "47",
         "[7788, 9256, 3149, 11761, 7525, 9916, 13527]"
        ],
        [
         "48",
         "[7788, 3338, 7437, 3157, 1006, 11886, 7001, 13180, 5008, 3338, 9545, 1248, 4592, 7437, 66]"
        ],
        [
         "49",
         "[7788, 3338, 7437, 1772, 6541, 7353]"
        ]
       ],
       "shape": {
        "columns": 1,
        "rows": 14452
       }
      },
      "text/plain": [
       "0                           [7788, 11314, 3592, 8918, 312]\n",
       "1        [7788, 13294, 4607, 1315, 4381, 7956, 8680, 13...\n",
       "2        [7788, 1248, 5172, 13177, 2782, 312, 312, 312,...\n",
       "3        [7788, 8737, 3296, 9739, 1634, 8680, 12936, 77...\n",
       "4        [7788, 9806, 8737, 3296, 5954, 9739, 6119, 249...\n",
       "                               ...                        \n",
       "14635    [1920, 2094, 4607, 7141, 4420, 8475, 5954, 113...\n",
       "14636    [1920, 7048, 524, 3409, 11663, 13595, 312, 973...\n",
       "14637         [1920, 3174, 5764, 11854, 12797, 8680, 5302]\n",
       "14638    [1920, 4607, 11797, 9916, 3449, 1625, 4607, 84...\n",
       "14639    [1920, 7141, 11797, 5115, 2819, 7141, 114, 298...\n",
       "Name: text, Length: 14452, dtype: object"
      ]
     },
     "execution_count": 12,
     "metadata": {},
     "output_type": "execute_result"
    }
   ],
   "source": [
    "# 将单词使用词表进行编码\n",
    "text = data.text.apply(lambda x: [word_index.get(word, 0) for word in x])\n",
    "# 查看编码后的数据\n",
    "text"
   ]
  },
  {
   "cell_type": "code",
   "execution_count": 13,
   "metadata": {},
   "outputs": [
    {
     "name": "stdout",
     "output_type": "stream",
     "text": [
      "Max length:  40\n",
      "pad_text.shape:  (14452, 40)\n"
     ]
    },
    {
     "data": {
      "text/plain": [
       "array([[ 7788, 11314,  3592,  8918,   312,     0,     0,     0,     0,\n",
       "            0,     0,     0,     0,     0,     0,     0,     0,     0,\n",
       "            0,     0,     0,     0,     0,     0,     0,     0,     0,\n",
       "            0,     0,     0,     0,     0,     0,     0,     0,     0,\n",
       "            0,     0,     0,     0],\n",
       "       [ 7788, 13294,  4607,  1315,  4381,  7956,  8680,  1359,  4058,\n",
       "          312,   312,   312,  2965,   312,     0,     0,     0,     0,\n",
       "            0,     0,     0,     0,     0,     0,     0,     0,     0,\n",
       "            0,     0,     0,     0,     0,     0,     0,     0,     0,\n",
       "            0,     0,     0,     0],\n",
       "       [ 7788,  1248,  5172, 13177,  2782,   312,   312,   312,  5321,\n",
       "         8055,  1248,   114,  8680, 12997,  1083,  9043,  9545,     0,\n",
       "            0,     0,     0,     0,     0,     0,     0,     0,     0,\n",
       "            0,     0,     0,     0,     0,     0,     0,     0,     0,\n",
       "            0,     0,     0,     0],\n",
       "       [ 7788,  8737,  3296,  9739,  1634,  8680, 12936,  7701,  5799,\n",
       "         6568,  5594,  7662,  8917, 12102,  9138, 11797,  8633,  9509,\n",
       "            0,     0,     0,     0,     0,     0,     0,     0,     0,\n",
       "            0,     0,     0,     0,     0,     0,     0,     0,     0,\n",
       "            0,     0,     0,     0],\n",
       "       [ 7788,  9806,  8737,  3296,  5954,  9739,  6119,  2493,  7397,\n",
       "         5469,  8737,     0,     0,     0,     0,     0,     0,     0,\n",
       "            0,     0,     0,     0,     0,     0,     0,     0,     0,\n",
       "            0,     0,     0,     0,     0,     0,     0,     0,     0,\n",
       "            0,     0,     0,     0]])"
      ]
     },
     "execution_count": 13,
     "metadata": {},
     "output_type": "execute_result"
    }
   ],
   "source": [
    "# 获取最大评论长度\n",
    "maxlen = max(len(x) for x in text)\n",
    "print(\"Max length: \", maxlen)\n",
    "# 将评论填充到最大长度\n",
    "pad_text = [l + (maxlen-len(l))*[0] for l in text]\n",
    "# 转化为numpy数组\n",
    "pad_text = np.array(pad_text)\n",
    "# 查看填充后的数据形状\n",
    "print(\"pad_text.shape: \", pad_text.shape)\n",
    "# 查看填充后的数据\n",
    "pad_text[:5]"
   ]
  },
  {
   "cell_type": "markdown",
   "metadata": {},
   "source": [
    "## 标签数据预处理"
   ]
  },
  {
   "cell_type": "code",
   "execution_count": 14,
   "metadata": {},
   "outputs": [
    {
     "name": "stdout",
     "output_type": "stream",
     "text": [
      "labels.shape:  (14452,)\n"
     ]
    }
   ],
   "source": [
    "# 获取标签数据\n",
    "labels = data.review.values\n",
    "# 查看标签数据形状\n",
    "print(\"labels.shape: \", labels.shape)"
   ]
  },
  {
   "cell_type": "markdown",
   "metadata": {},
   "source": [
    "## 划分数据集"
   ]
  },
  {
   "cell_type": "code",
   "execution_count": 15,
   "metadata": {},
   "outputs": [
    {
     "data": {
      "text/plain": [
       "((10839, 40), (3613, 40), (10839,))"
      ]
     },
     "execution_count": 15,
     "metadata": {},
     "output_type": "execute_result"
    }
   ],
   "source": [
    "from sklearn.model_selection import train_test_split\n",
    "# 划分数据集，使用默认的划分比例7.5：2.5\n",
    "x_train, x_test, y_train, y_test = train_test_split(pad_text, labels)\n",
    "x_train.shape, x_test.shape, y_train.shape"
   ]
  },
  {
   "cell_type": "markdown",
   "metadata": {},
   "source": [
    "## 创建Dataset"
   ]
  },
  {
   "cell_type": "code",
   "execution_count": 16,
   "metadata": {},
   "outputs": [],
   "source": [
    "# 定义一个自定义的数据集类\n",
    "class Tweets_dataset(torch.utils.data.Dataset):\n",
    "    def __init__(self, text_list, label_list):\n",
    "        self.text_list = text_list\n",
    "        self.label_list = label_list\n",
    "        \n",
    "    def __getitem__(self, index):\n",
    "        text = torch.LongTensor(self.text_list[index])\n",
    "        label = self.label_list[index]\n",
    "        return text, label\n",
    "\n",
    "    def __len__(self):\n",
    "        return len(self.text_list)"
   ]
  },
  {
   "cell_type": "code",
   "execution_count": 17,
   "metadata": {},
   "outputs": [],
   "source": [
    "# 创建训练集和测试集\n",
    "train_ds = Tweets_dataset(x_train, y_train)\n",
    "test_ds = Tweets_dataset(x_test, y_test)"
   ]
  },
  {
   "cell_type": "code",
   "execution_count": 18,
   "metadata": {},
   "outputs": [],
   "source": [
    "# 创建数据加载器\n",
    "BTACH_SIZE = 32\n",
    "\n",
    "train_dl = torch.utils.data.DataLoader(\n",
    "                                       train_ds,\n",
    "                                       batch_size=BTACH_SIZE,\n",
    "                                       shuffle=True\n",
    ")\n",
    "\n",
    "test_dl = torch.utils.data.DataLoader(\n",
    "                                       test_ds,\n",
    "                                       batch_size=BTACH_SIZE\n",
    ")"
   ]
  },
  {
   "cell_type": "markdown",
   "metadata": {},
   "source": [
    "## 模型构建"
   ]
  },
  {
   "cell_type": "code",
   "execution_count": 19,
   "metadata": {},
   "outputs": [],
   "source": [
    "class Net(nn.Module):\n",
    "    def __init__(self):\n",
    "        super(Net, self).__init__()\n",
    "        # Embedding 把文本映射为一个密集向量，将每一个单词映射为一个100维的向量\n",
    "        self.em = nn.Embedding(max_word, 100)   # 输出：batch*maxlen*100\n",
    "        self.fc1 = nn.Linear(maxlen*100, 1024)\n",
    "        self.fc2 = nn.Linear(1024, 3)\n",
    "\n",
    "    def forward(self, x):\n",
    "        x = self.em(x)\n",
    "        x = x.view(x.size(0), -1)\n",
    "        x = F.relu(self.fc1(x))\n",
    "        x = self.fc2(x)\n",
    "        return x"
   ]
  },
  {
   "cell_type": "code",
   "execution_count": 20,
   "metadata": {},
   "outputs": [
    {
     "name": "stdout",
     "output_type": "stream",
     "text": [
      "Epoch: 0, Train Loss: 0.8208, Train Acc: 66.21%, Test Loss: 0.7777, Test Acc: 68.86%\n",
      "Epoch: 1, Train Loss: 0.6045, Train Acc: 74.87%, Test Loss: 0.7489, Test Acc: 67.28%\n",
      "Epoch: 2, Train Loss: 0.4521, Train Acc: 81.62%, Test Loss: 0.7850, Test Acc: 69.31%\n",
      "Epoch: 3, Train Loss: 0.3145, Train Acc: 87.58%, Test Loss: 0.8418, Test Acc: 69.91%\n",
      "Epoch: 4, Train Loss: 0.2214, Train Acc: 91.85%, Test Loss: 1.1173, Test Acc: 71.85%\n",
      "Epoch: 5, Train Loss: 0.1506, Train Acc: 94.59%, Test Loss: 1.0584, Test Acc: 70.58%\n",
      "Epoch: 6, Train Loss: 0.1125, Train Acc: 95.96%, Test Loss: 1.1707, Test Acc: 71.85%\n",
      "Epoch: 7, Train Loss: 0.0885, Train Acc: 96.94%, Test Loss: 1.3045, Test Acc: 71.93%\n",
      "Epoch: 8, Train Loss: 0.0710, Train Acc: 97.88%, Test Loss: 1.4587, Test Acc: 72.96%\n",
      "Epoch: 9, Train Loss: 0.0540, Train Acc: 98.50%, Test Loss: 1.5013, Test Acc: 72.79%\n",
      "Epoch: 10, Train Loss: 0.0427, Train Acc: 98.69%, Test Loss: 1.6639, Test Acc: 73.04%\n",
      "Epoch: 11, Train Loss: 0.0380, Train Acc: 99.06%, Test Loss: 1.7210, Test Acc: 72.05%\n",
      "Epoch: 12, Train Loss: 0.0356, Train Acc: 99.00%, Test Loss: 1.9372, Test Acc: 70.69%\n",
      "Epoch: 13, Train Loss: 0.0502, Train Acc: 98.49%, Test Loss: 1.8615, Test Acc: 72.46%\n",
      "Epoch: 14, Train Loss: 0.0392, Train Acc: 98.90%, Test Loss: 1.8952, Test Acc: 72.65%\n",
      "Epoch: 15, Train Loss: 0.0296, Train Acc: 99.27%, Test Loss: 1.9311, Test Acc: 71.02%\n",
      "Epoch: 16, Train Loss: 0.0264, Train Acc: 99.27%, Test Loss: 2.0722, Test Acc: 70.38%\n",
      "Epoch: 17, Train Loss: 0.0234, Train Acc: 99.46%, Test Loss: 2.0392, Test Acc: 72.41%\n",
      "Epoch: 18, Train Loss: 0.0205, Train Acc: 99.49%, Test Loss: 2.1417, Test Acc: 72.60%\n",
      "Epoch: 19, Train Loss: 0.0192, Train Acc: 99.36%, Test Loss: 2.0870, Test Acc: 72.96%\n"
     ]
    }
   ],
   "source": [
    "# 参数整理\n",
    "model = Net()\n",
    "learn_rate = 0.001\n",
    "epochs = 20\n",
    "train_dl = train_dl\n",
    "test_dl = test_dl\n",
    "\n",
    "# 训练前准备，定义模型、损失函数、优化器\n",
    "device = torch.device('cuda' if torch.cuda.is_available() else 'cpu') # 判断是否有GPU，如果有则使用GPU，否则使用CPU\n",
    "model.to(device) # 将已实例化的模型移动到GPU上\n",
    "\n",
    "loss_fn = torch.nn.CrossEntropyLoss()  # 损失函数，交叉熵损失函数，使用未激活的输出作为输入，内置了softmax函数为激活函数，输出为每个类别的概率\n",
    "opt = torch.optim.Adam(model.parameters(), lr=learn_rate) # 优化器，Adam优化器\n",
    "\n",
    "# 通用训练模板，输入模型、训练数据、测试数据，返回loss和acc变化\n",
    "# 训练函数\n",
    "def train(train_dl, model, loss_fn, opt):\n",
    "    size = len(train_dl.dataset) # 获取数据集的大小\n",
    "    num_batches = len(train_dl) # 获取数据集的批次数量\n",
    "\n",
    "    train_loss = 0.0 # 训练集损失\n",
    "    train_acc = 0.0 # 训练集准确率\n",
    "\n",
    "    for x, y in train_dl: # 遍历数据集\n",
    "        y = y.long()      # 将标签转换为long类型\n",
    "        x, y = x.to(device), y.to(device) # 将数据移动到GPU上\n",
    "\n",
    "        pred = model(x) # 前向传播\n",
    "        loss = loss_fn(pred, y) # 计算损失\n",
    "\n",
    "        opt.zero_grad() # 梯度清零\n",
    "        loss.backward() # 反向传播\n",
    "        opt.step() # 更新参数\n",
    "\n",
    "        with torch.no_grad(): # 不计算梯度\n",
    "            train_loss += loss.item() # 计算损失\n",
    "            train_acc += (pred.argmax(dim=1) == y).type(torch.float).sum().item() # 计算准确率\n",
    "\n",
    "    train_loss /= num_batches # 计算平均损失\n",
    "    train_acc /= size # 计算平均准确率\n",
    "\n",
    "    return train_loss, train_acc\n",
    "\n",
    "# 测试函数\n",
    "def test(test_dl, model, loss_fn):\n",
    "    size = len(test_dl.dataset) # 获取数据集的大小\n",
    "    num_batches = len(test_dl) # 获取数据集的批次数量\n",
    "\n",
    "    test_loss = 0.0 # 测试集损失\n",
    "    test_acc = 0.0 # 测试集准确率\n",
    "\n",
    "    with torch.no_grad(): # 不计算梯度\n",
    "        for x, y in test_dl:  # 遍历数据集\n",
    "            y = y.long()      # 将标签转换为long类型\n",
    "            x, y = x.to(device), y.to(device) # 将数据移动到GPU上\n",
    "\n",
    "            pred = model(x) # 前向传播\n",
    "            loss = loss_fn(pred, y) # 计算损失\n",
    "            test_loss += loss.item() # 计算损失\n",
    "            test_acc += (pred.argmax(dim=1) == y).type(torch.float).sum().item() # 计算准确率\n",
    "\n",
    "    test_loss /= num_batches # 计算平均损失\n",
    "    test_acc /= size # 计算平均准确率\n",
    "\n",
    "    return test_loss, test_acc\n",
    "\n",
    "# 训练函数\n",
    "def fit(epochs, model, train_dl, test_dl, loss_fn, opt):\n",
    "    train_loss = []\n",
    "    train_acc = []\n",
    "    test_loss = []\n",
    "    test_acc = []\n",
    "\n",
    "    print_template = 'Epoch: {}, Train Loss: {:.4f}, Train Acc: {:.2f}%, Test Loss: {:.4f}, Test Acc: {:.2f}%'\n",
    "\n",
    "\n",
    "    for epoch in range(epochs):\n",
    "        model.train() # 设置模型为训练模式，启用dropout层\n",
    "        epoch_train_loss, epoch_train_acc = train(train_dl, model, loss_fn, opt)\n",
    "        model.eval() # 设置模型为评估预测模式，禁用dropout层\n",
    "        epoch_test_loss, epoch_test_acc = test(test_dl, model, loss_fn)\n",
    "\n",
    "        train_loss.append(epoch_train_loss)\n",
    "        train_acc.append(epoch_train_acc)\n",
    "        test_loss.append(epoch_test_loss)\n",
    "        test_acc.append(epoch_test_acc)\n",
    "\n",
    "        print(print_template.format(epoch, epoch_train_loss, epoch_train_acc * 100, epoch_test_loss, epoch_test_acc * 100))\n",
    "\n",
    "    return train_loss, train_acc, test_loss, test_acc\n",
    "\n",
    "# 训练\n",
    "train_loss, train_acc, test_loss, test_acc = fit(epochs, model, train_dl, test_dl, loss_fn, opt)"
   ]
  },
  {
   "cell_type": "code",
   "execution_count": 21,
   "metadata": {},
   "outputs": [
    {
     "data": {
      "text/plain": [
       "<matplotlib.legend.Legend at 0x1d102fe0a00>"
      ]
     },
     "execution_count": 21,
     "metadata": {},
     "output_type": "execute_result"
    },
    {
     "data": {
      "image/png": "[encoded data removed]",
      "text/plain": [
       "<Figure size 640x480 with 1 Axes>"
      ]
     },
     "metadata": {},
     "output_type": "display_data"
    }
   ],
   "source": [
    "plt.plot(range(epochs), train_acc, c='r', label='train_acc')\n",
    "plt.plot(range(epochs), test_acc, c='b', label='test_loss')\n",
    "plt.legend()"
   ]
  },
  {
   "cell_type": "code",
   "execution_count": 22,
   "metadata": {},
   "outputs": [
    {
     "data": {
      "text/plain": [
       "<matplotlib.legend.Legend at 0x1d103036790>"
      ]
     },
     "execution_count": 22,
     "metadata": {},
     "output_type": "execute_result"
    },
    {
     "data": {
      "image/png": "[encoded data removed]",
      "text/plain": [
       "<Figure size 640x480 with 1 Axes>"
      ]
     },
     "metadata": {},
     "output_type": "display_data"
    }
   ],
   "source": [
    "plt.plot(range(epochs), train_loss, c='r', label='train_loss')\n",
    "plt.plot(range(epochs), test_loss, c='b', label='test_loss')\n",
    "plt.legend()"
   ]
  },
  {
   "cell_type": "markdown",
   "metadata": {},
   "source": [
    "# 使用LSTM"
   ]
  },
  {
   "cell_type": "code",
   "execution_count": 23,
   "metadata": {},
   "outputs": [],
   "source": [
    "\n",
    "class Net(nn.Module):\n",
    "    def __init__(self):\n",
    "        super(Net, self).__init__()\n",
    "        self.em = nn.Embedding(max_word, 100)   # batch*maxlen*100\n",
    "        self.lstm = nn.LSTM(100, 200, batch_first=True)\n",
    "        self.fc1 = nn.Linear(200, 256)\n",
    "        self.fc2 = nn.Linear(256, 3)\n",
    "\n",
    "    def forward(self, x):\n",
    "        x = self.em(x)\n",
    "        x, _ = self.lstm(x)\n",
    "        x = F.relu(self.fc1(x[:, -1, :]))\n",
    "        x = self.fc2(x)\n",
    "        return x"
   ]
  },
  {
   "cell_type": "code",
   "execution_count": null,
   "metadata": {},
   "outputs": [],
   "source": [
    "model = Net().to(device)"
   ]
  },
  {
   "cell_type": "code",
   "execution_count": null,
   "metadata": {},
   "outputs": [],
   "source": [
    "loss_fn = nn.CrossEntropyLoss()\n",
    "optimizer = torch.optim.Adam(model.parameters(), lr=0.001)"
   ]
  },
  {
   "cell_type": "code",
   "execution_count": null,
   "metadata": {},
   "outputs": [],
   "source": [
    "epochs = 20"
   ]
  },
  {
   "cell_type": "code",
   "execution_count": null,
   "metadata": {},
   "outputs": [
    {
     "name": "stdout",
     "output_type": "stream",
     "text": [
      "epoch:  0 loss：  0.058 accuracy: 0.627 test_loss：  0.057 test_accuracy: 0.625\n",
      "epoch:  1 loss：  0.053 accuracy: 0.638 test_loss：  0.05 test_accuracy: 0.659\n",
      "epoch:  2 loss：  0.045 accuracy: 0.689 test_loss：  0.044 test_accuracy: 0.681\n",
      "epoch:  3 loss：  0.037 accuracy: 0.752 test_loss：  0.041 test_accuracy: 0.706\n",
      "epoch:  4 loss：  0.03 accuracy: 0.813 test_loss：  0.039 test_accuracy: 0.763\n",
      "epoch:  5 loss：  0.024 accuracy: 0.855 test_loss：  0.038 test_accuracy: 0.757\n",
      "epoch:  6 loss：  0.019 accuracy: 0.892 test_loss：  0.043 test_accuracy: 0.755\n",
      "epoch:  7 loss：  0.015 accuracy: 0.917 test_loss：  0.045 test_accuracy: 0.755\n",
      "epoch:  8 loss：  0.012 accuracy: 0.939 test_loss：  0.048 test_accuracy: 0.752\n",
      "epoch:  9 loss：  0.009 accuracy: 0.958 test_loss：  0.055 test_accuracy: 0.756\n",
      "epoch:  10 loss：  0.007 accuracy: 0.969 test_loss：  0.062 test_accuracy: 0.747\n",
      "epoch:  11 loss：  0.005 accuracy: 0.978 test_loss：  0.062 test_accuracy: 0.746\n",
      "epoch:  12 loss：  0.004 accuracy: 0.983 test_loss：  0.075 test_accuracy: 0.749\n",
      "epoch:  13 loss：  0.003 accuracy: 0.985 test_loss：  0.074 test_accuracy: 0.739\n",
      "epoch:  14 loss：  0.003 accuracy: 0.988 test_loss：  0.087 test_accuracy: 0.745\n",
      "epoch:  15 loss：  0.002 accuracy: 0.989 test_loss：  0.091 test_accuracy: 0.747\n",
      "epoch:  16 loss：  0.002 accuracy: 0.993 test_loss：  0.096 test_accuracy: 0.734\n",
      "epoch:  17 loss：  0.001 accuracy: 0.993 test_loss：  0.097 test_accuracy: 0.747\n",
      "epoch:  18 loss：  0.001 accuracy: 0.994 test_loss：  0.103 test_accuracy: 0.745\n",
      "epoch:  19 loss：  0.001 accuracy: 0.996 test_loss：  0.115 test_accuracy: 0.739\n"
     ]
    }
   ],
   "source": [
    "train_loss = []\n",
    "train_acc = []\n",
    "test_loss = []\n",
    "test_acc = []\n",
    "\n",
    "for epoch in range(epochs):\n",
    "    epoch_loss, epoch_acc, epoch_test_loss, epoch_test_acc = fit(epoch,\n",
    "                                                                 model,\n",
    "                                                                 train_dl,\n",
    "                                                                 test_dl)\n",
    "    train_loss.append(epoch_loss)\n",
    "    train_acc.append(epoch_acc)\n",
    "    test_loss.append(epoch_test_loss)\n",
    "    test_acc.append(epoch_test_acc)"
   ]
  },
  {
   "cell_type": "code",
   "execution_count": null,
   "metadata": {},
   "outputs": [
    {
     "data": {
      "text/plain": [
       "<matplotlib.legend.Legend at 0x1828c9bbdf0>"
      ]
     },
     "metadata": {},
     "output_type": "display_data"
    },
    {
     "data": {
      "image/png": "[encoded data removed]",
      "text/plain": [
       "<Figure size 640x480 with 1 Axes>"
      ]
     },
     "metadata": {},
     "output_type": "display_data"
    }
   ],
   "source": [
    "plt.plot(range(epochs), train_acc, c='r', label='train_acc')\n",
    "plt.plot(range(epochs), test_acc, c='b', label='test_loss')\n",
    "plt.legend()"
   ]
  },
  {
   "cell_type": "code",
   "execution_count": null,
   "metadata": {},
   "outputs": [
    {
     "data": {
      "text/plain": [
       "<matplotlib.legend.Legend at 0x182f7030d30>"
      ]
     },
     "metadata": {},
     "output_type": "display_data"
    },
    {
     "data": {
      "image/png": "[encoded data removed]",
      "text/plain": [
       "<Figure size 640x480 with 1 Axes>"
      ]
     },
     "metadata": {},
     "output_type": "display_data"
    }
   ],
   "source": [
    "plt.plot(range(epochs), train_loss, c='r', label='train_loss')\n",
    "plt.plot(range(epochs), test_loss, c='b', label='test_loss')\n",
    "plt.legend()"
   ]
  }
 ],
 "metadata": {
  "kernelspec": {
   "display_name": "pytorch1.7.1",
   "language": "python",
   "name": "pytorch1.7.1"
  },
  "language_info": {
   "codemirror_mode": {
    "name": "ipython",
    "version": 3
   },
   "file_extension": ".py",
   "mimetype": "text/x-python",
   "name": "python",
   "nbconvert_exporter": "python",
   "pygments_lexer": "ipython3",
   "version": "3.8.18"
  }
 },
 "nbformat": 4,
 "nbformat_minor": 2
}
