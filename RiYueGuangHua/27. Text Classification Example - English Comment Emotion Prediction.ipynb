{
 "cells": [
  {
   "cell_type": "markdown",
   "metadata": {},
   "source": [
    "# 文本分类实例-英文评论情感预测（Text Classification Example - English Comment Emotion Prediction）"
   ]
  },
  {
   "cell_type": "code",
   "execution_count": 1,
   "metadata": {},
   "outputs": [],
   "source": [
    "import torch\n",
    "import torch.nn as nn\n",
    "import torch.nn.functional as F\n",
    "import numpy as np\n",
    "import pandas as pd\n",
    "import matplotlib.pyplot as plt\n",
    "%matplotlib inline"
   ]
  },
  {
   "cell_type": "code",
   "execution_count": 2,
   "metadata": {},
   "outputs": [],
   "source": [
    "device = torch.device(\"cuda\" if torch.cuda.is_available() else \"cpu\")"
   ]
  },
  {
   "cell_type": "markdown",
   "metadata": {},
   "source": [
    "## 数据读取和观察"
   ]
  },
  {
   "cell_type": "code",
   "execution_count": 3,
   "metadata": {},
   "outputs": [
    {
     "data": {
      "application/vnd.microsoft.datawrangler.viewer.v0+json": {
       "columns": [
        {
         "name": "index",
         "rawType": "int64",
         "type": "integer"
        },
        {
         "name": "tweet_id",
         "rawType": "int64",
         "type": "integer"
        },
        {
         "name": "airline_sentiment",
         "rawType": "object",
         "type": "string"
        },
        {
         "name": "airline_sentiment_confidence",
         "rawType": "float64",
         "type": "float"
        },
        {
         "name": "negativereason",
         "rawType": "object",
         "type": "string"
        },
        {
         "name": "negativereason_confidence",
         "rawType": "float64",
         "type": "float"
        },
        {
         "name": "airline",
         "rawType": "object",
         "type": "string"
        },
        {
         "name": "airline_sentiment_gold",
         "rawType": "object",
         "type": "string"
        },
        {
         "name": "name",
         "rawType": "object",
         "type": "string"
        },
        {
         "name": "negativereason_gold",
         "rawType": "object",
         "type": "string"
        },
        {
         "name": "retweet_count",
         "rawType": "int64",
         "type": "integer"
        },
        {
         "name": "text",
         "rawType": "object",
         "type": "string"
        },
        {
         "name": "tweet_coord",
         "rawType": "object",
         "type": "string"
        },
        {
         "name": "tweet_created",
         "rawType": "object",
         "type": "string"
        },
        {
         "name": "tweet_location",
         "rawType": "object",
         "type": "string"
        },
        {
         "name": "user_timezone",
         "rawType": "object",
         "type": "string"
        }
       ],
       "ref": "f913891c-74cb-49f9-88b9-4db074926df6",
       "rows": [
        [
         "0",
         "570306133677760513",
         "neutral",
         "1.0",
         null,
         null,
         "Virgin America",
         null,
         "cairdin",
         null,
         "0",
         "@VirginAmerica What @dhepburn said.",
         null,
         "2015-02-24 11:35:52 -0800",
         null,
         "Eastern Time (US & Canada)"
        ],
        [
         "1",
         "570301130888122368",
         "positive",
         "0.3486",
         null,
         "0.0",
         "Virgin America",
         null,
         "jnardino",
         null,
         "0",
         "@VirginAmerica plus you've added commercials to the experience... tacky.",
         null,
         "2015-02-24 11:15:59 -0800",
         null,
         "Pacific Time (US & Canada)"
        ],
        [
         "2",
         "570301083672813571",
         "neutral",
         "0.6837",
         null,
         null,
         "Virgin America",
         null,
         "yvonnalynn",
         null,
         "0",
         "@VirginAmerica I didn't today... Must mean I need to take another trip!",
         null,
         "2015-02-24 11:15:48 -0800",
         "Lets Play",
         "Central Time (US & Canada)"
        ],
        [
         "3",
         "570301031407624196",
         "negative",
         "1.0",
         "Bad Flight",
         "0.7033",
         "Virgin America",
         null,
         "jnardino",
         null,
         "0",
         "@VirginAmerica it's really aggressive to blast obnoxious \"entertainment\" in your guests' faces &amp; they have little recourse",
         null,
         "2015-02-24 11:15:36 -0800",
         null,
         "Pacific Time (US & Canada)"
        ],
        [
         "4",
         "570300817074462722",
         "negative",
         "1.0",
         "Can't Tell",
         "1.0",
         "Virgin America",
         null,
         "jnardino",
         null,
         "0",
         "@VirginAmerica and it's a really big bad thing about it",
         null,
         "2015-02-24 11:14:45 -0800",
         null,
         "Pacific Time (US & Canada)"
        ]
       ],
       "shape": {
        "columns": 15,
        "rows": 5
       }
      },
      "text/html": [
       "<div>\n",
       "<style scoped>\n",
       "    .dataframe tbody tr th:only-of-type {\n",
       "        vertical-align: middle;\n",
       "    }\n",
       "\n",
       "    .dataframe tbody tr th {\n",
       "        vertical-align: top;\n",
       "    }\n",
       "\n",
       "    .dataframe thead th {\n",
       "        text-align: right;\n",
       "    }\n",
       "</style>\n",
       "<table border=\"1\" class=\"dataframe\">\n",
       "  <thead>\n",
       "    <tr style=\"text-align: right;\">\n",
       "      <th></th>\n",
       "      <th>tweet_id</th>\n",
       "      <th>airline_sentiment</th>\n",
       "      <th>airline_sentiment_confidence</th>\n",
       "      <th>negativereason</th>\n",
       "      <th>negativereason_confidence</th>\n",
       "      <th>airline</th>\n",
       "      <th>airline_sentiment_gold</th>\n",
       "      <th>name</th>\n",
       "      <th>negativereason_gold</th>\n",
       "      <th>retweet_count</th>\n",
       "      <th>text</th>\n",
       "      <th>tweet_coord</th>\n",
       "      <th>tweet_created</th>\n",
       "      <th>tweet_location</th>\n",
       "      <th>user_timezone</th>\n",
       "    </tr>\n",
       "  </thead>\n",
       "  <tbody>\n",
       "    <tr>\n",
       "      <th>0</th>\n",
       "      <td>570306133677760513</td>\n",
       "      <td>neutral</td>\n",
       "      <td>1.0000</td>\n",
       "      <td>NaN</td>\n",
       "      <td>NaN</td>\n",
       "      <td>Virgin America</td>\n",
       "      <td>NaN</td>\n",
       "      <td>cairdin</td>\n",
       "      <td>NaN</td>\n",
       "      <td>0</td>\n",
       "      <td>@VirginAmerica What @dhepburn said.</td>\n",
       "      <td>NaN</td>\n",
       "      <td>2015-02-24 11:35:52 -0800</td>\n",
       "      <td>NaN</td>\n",
       "      <td>Eastern Time (US &amp; Canada)</td>\n",
       "    </tr>\n",
       "    <tr>\n",
       "      <th>1</th>\n",
       "      <td>570301130888122368</td>\n",
       "      <td>positive</td>\n",
       "      <td>0.3486</td>\n",
       "      <td>NaN</td>\n",
       "      <td>0.0000</td>\n",
       "      <td>Virgin America</td>\n",
       "      <td>NaN</td>\n",
       "      <td>jnardino</td>\n",
       "      <td>NaN</td>\n",
       "      <td>0</td>\n",
       "      <td>@VirginAmerica plus you've added commercials t...</td>\n",
       "      <td>NaN</td>\n",
       "      <td>2015-02-24 11:15:59 -0800</td>\n",
       "      <td>NaN</td>\n",
       "      <td>Pacific Time (US &amp; Canada)</td>\n",
       "    </tr>\n",
       "    <tr>\n",
       "      <th>2</th>\n",
       "      <td>570301083672813571</td>\n",
       "      <td>neutral</td>\n",
       "      <td>0.6837</td>\n",
       "      <td>NaN</td>\n",
       "      <td>NaN</td>\n",
       "      <td>Virgin America</td>\n",
       "      <td>NaN</td>\n",
       "      <td>yvonnalynn</td>\n",
       "      <td>NaN</td>\n",
       "      <td>0</td>\n",
       "      <td>@VirginAmerica I didn't today... Must mean I n...</td>\n",
       "      <td>NaN</td>\n",
       "      <td>2015-02-24 11:15:48 -0800</td>\n",
       "      <td>Lets Play</td>\n",
       "      <td>Central Time (US &amp; Canada)</td>\n",
       "    </tr>\n",
       "    <tr>\n",
       "      <th>3</th>\n",
       "      <td>570301031407624196</td>\n",
       "      <td>negative</td>\n",
       "      <td>1.0000</td>\n",
       "      <td>Bad Flight</td>\n",
       "      <td>0.7033</td>\n",
       "      <td>Virgin America</td>\n",
       "      <td>NaN</td>\n",
       "      <td>jnardino</td>\n",
       "      <td>NaN</td>\n",
       "      <td>0</td>\n",
       "      <td>@VirginAmerica it's really aggressive to blast...</td>\n",
       "      <td>NaN</td>\n",
       "      <td>2015-02-24 11:15:36 -0800</td>\n",
       "      <td>NaN</td>\n",
       "      <td>Pacific Time (US &amp; Canada)</td>\n",
       "    </tr>\n",
       "    <tr>\n",
       "      <th>4</th>\n",
       "      <td>570300817074462722</td>\n",
       "      <td>negative</td>\n",
       "      <td>1.0000</td>\n",
       "      <td>Can't Tell</td>\n",
       "      <td>1.0000</td>\n",
       "      <td>Virgin America</td>\n",
       "      <td>NaN</td>\n",
       "      <td>jnardino</td>\n",
       "      <td>NaN</td>\n",
       "      <td>0</td>\n",
       "      <td>@VirginAmerica and it's a really big bad thing...</td>\n",
       "      <td>NaN</td>\n",
       "      <td>2015-02-24 11:14:45 -0800</td>\n",
       "      <td>NaN</td>\n",
       "      <td>Pacific Time (US &amp; Canada)</td>\n",
       "    </tr>\n",
       "  </tbody>\n",
       "</table>\n",
       "</div>"
      ],
      "text/plain": [
       "             tweet_id airline_sentiment  airline_sentiment_confidence  \\\n",
       "0  570306133677760513           neutral                        1.0000   \n",
       "1  570301130888122368          positive                        0.3486   \n",
       "2  570301083672813571           neutral                        0.6837   \n",
       "3  570301031407624196          negative                        1.0000   \n",
       "4  570300817074462722          negative                        1.0000   \n",
       "\n",
       "  negativereason  negativereason_confidence         airline  \\\n",
       "0            NaN                        NaN  Virgin America   \n",
       "1            NaN                     0.0000  Virgin America   \n",
       "2            NaN                        NaN  Virgin America   \n",
       "3     Bad Flight                     0.7033  Virgin America   \n",
       "4     Can't Tell                     1.0000  Virgin America   \n",
       "\n",
       "  airline_sentiment_gold        name negativereason_gold  retweet_count  \\\n",
       "0                    NaN     cairdin                 NaN              0   \n",
       "1                    NaN    jnardino                 NaN              0   \n",
       "2                    NaN  yvonnalynn                 NaN              0   \n",
       "3                    NaN    jnardino                 NaN              0   \n",
       "4                    NaN    jnardino                 NaN              0   \n",
       "\n",
       "                                                text tweet_coord  \\\n",
       "0                @VirginAmerica What @dhepburn said.         NaN   \n",
       "1  @VirginAmerica plus you've added commercials t...         NaN   \n",
       "2  @VirginAmerica I didn't today... Must mean I n...         NaN   \n",
       "3  @VirginAmerica it's really aggressive to blast...         NaN   \n",
       "4  @VirginAmerica and it's a really big bad thing...         NaN   \n",
       "\n",
       "               tweet_created tweet_location               user_timezone  \n",
       "0  2015-02-24 11:35:52 -0800            NaN  Eastern Time (US & Canada)  \n",
       "1  2015-02-24 11:15:59 -0800            NaN  Pacific Time (US & Canada)  \n",
       "2  2015-02-24 11:15:48 -0800      Lets Play  Central Time (US & Canada)  \n",
       "3  2015-02-24 11:15:36 -0800            NaN  Pacific Time (US & Canada)  \n",
       "4  2015-02-24 11:14:45 -0800            NaN  Pacific Time (US & Canada)  "
      ]
     },
     "execution_count": 3,
     "metadata": {},
     "output_type": "execute_result"
    }
   ],
   "source": [
    "# 使用pandas打开csv文件\n",
    "data = pd.read_csv('./dataset/Tweets.csv')\n",
    "# 查看数据\n",
    "data.head()"
   ]
  },
  {
   "cell_type": "code",
   "execution_count": 4,
   "metadata": {},
   "outputs": [
    {
     "name": "stdout",
     "output_type": "stream",
     "text": [
      "<class 'pandas.core.frame.DataFrame'>\n",
      "RangeIndex: 14640 entries, 0 to 14639\n",
      "Data columns (total 2 columns):\n",
      " #   Column             Non-Null Count  Dtype \n",
      "---  ------             --------------  ----- \n",
      " 0   airline_sentiment  14640 non-null  object\n",
      " 1   text               14640 non-null  object\n",
      "dtypes: object(2)\n",
      "memory usage: 228.9+ KB\n",
      "Rebeated rows:  188\n",
      "Rebeated rows after drop:  0\n"
     ]
    }
   ],
   "source": [
    "# 分离评价内容和对应的情感标签\n",
    "data = data[['airline_sentiment', 'text']]\n",
    "# 查看数据信息\n",
    "data.info()\n",
    "# 查看是否有重复值\n",
    "print(\"Rebeated rows: \", data.duplicated().sum())\n",
    "# 除去数据中的重复值\n",
    "data.drop_duplicates(inplace=True)\n",
    "# 查看重复值是否去除\n",
    "print(\"Rebeated rows after drop: \", data.duplicated().sum())"
   ]
  },
  {
   "cell_type": "code",
   "execution_count": 5,
   "metadata": {},
   "outputs": [
    {
     "name": "stdout",
     "output_type": "stream",
     "text": [
      "['neutral' 'positive' 'negative']\n"
     ]
    },
    {
     "data": {
      "application/vnd.microsoft.datawrangler.viewer.v0+json": {
       "columns": [
        {
         "name": "index",
         "rawType": "object",
         "type": "string"
        },
        {
         "name": "airline_sentiment",
         "rawType": "int64",
         "type": "integer"
        }
       ],
       "ref": "616edf65-3f59-4542-ba06-3a23b27a00c3",
       "rows": [
        [
         "negative",
         "9087"
        ],
        [
         "neutral",
         "3067"
        ],
        [
         "positive",
         "2298"
        ]
       ],
       "shape": {
        "columns": 1,
        "rows": 3
       }
      },
      "text/plain": [
       "negative    9087\n",
       "neutral     3067\n",
       "positive    2298\n",
       "Name: airline_sentiment, dtype: int64"
      ]
     },
     "execution_count": 5,
     "metadata": {},
     "output_type": "execute_result"
    }
   ],
   "source": [
    "# 查看情感标签\n",
    "print(data.airline_sentiment.unique())\n",
    "# 查看情感标签的分布是否均衡\n",
    "data.airline_sentiment.value_counts()"
   ]
  },
  {
   "cell_type": "code",
   "execution_count": 6,
   "metadata": {},
   "outputs": [
    {
     "data": {
      "application/vnd.microsoft.datawrangler.viewer.v0+json": {
       "columns": [
        {
         "name": "index",
         "rawType": "int64",
         "type": "integer"
        },
        {
         "name": "airline_sentiment",
         "rawType": "object",
         "type": "string"
        },
        {
         "name": "text",
         "rawType": "object",
         "type": "string"
        }
       ],
       "ref": "2720ef49-03ac-40ee-b773-3ea314b81e6f",
       "rows": [
        [
         "0",
         "neutral",
         "@VirginAmerica What @dhepburn said."
        ],
        [
         "1",
         "positive",
         "@VirginAmerica plus you've added commercials to the experience... tacky."
        ],
        [
         "2",
         "neutral",
         "@VirginAmerica I didn't today... Must mean I need to take another trip!"
        ],
        [
         "3",
         "negative",
         "@VirginAmerica it's really aggressive to blast obnoxious \"entertainment\" in your guests' faces &amp; they have little recourse"
        ],
        [
         "4",
         "negative",
         "@VirginAmerica and it's a really big bad thing about it"
        ]
       ],
       "shape": {
        "columns": 2,
        "rows": 5
       }
      },
      "text/html": [
       "<div>\n",
       "<style scoped>\n",
       "    .dataframe tbody tr th:only-of-type {\n",
       "        vertical-align: middle;\n",
       "    }\n",
       "\n",
       "    .dataframe tbody tr th {\n",
       "        vertical-align: top;\n",
       "    }\n",
       "\n",
       "    .dataframe thead th {\n",
       "        text-align: right;\n",
       "    }\n",
       "</style>\n",
       "<table border=\"1\" class=\"dataframe\">\n",
       "  <thead>\n",
       "    <tr style=\"text-align: right;\">\n",
       "      <th></th>\n",
       "      <th>airline_sentiment</th>\n",
       "      <th>text</th>\n",
       "    </tr>\n",
       "  </thead>\n",
       "  <tbody>\n",
       "    <tr>\n",
       "      <th>0</th>\n",
       "      <td>neutral</td>\n",
       "      <td>@VirginAmerica What @dhepburn said.</td>\n",
       "    </tr>\n",
       "    <tr>\n",
       "      <th>1</th>\n",
       "      <td>positive</td>\n",
       "      <td>@VirginAmerica plus you've added commercials t...</td>\n",
       "    </tr>\n",
       "    <tr>\n",
       "      <th>2</th>\n",
       "      <td>neutral</td>\n",
       "      <td>@VirginAmerica I didn't today... Must mean I n...</td>\n",
       "    </tr>\n",
       "    <tr>\n",
       "      <th>3</th>\n",
       "      <td>negative</td>\n",
       "      <td>@VirginAmerica it's really aggressive to blast...</td>\n",
       "    </tr>\n",
       "    <tr>\n",
       "      <th>4</th>\n",
       "      <td>negative</td>\n",
       "      <td>@VirginAmerica and it's a really big bad thing...</td>\n",
       "    </tr>\n",
       "  </tbody>\n",
       "</table>\n",
       "</div>"
      ],
      "text/plain": [
       "  airline_sentiment                                               text\n",
       "0           neutral                @VirginAmerica What @dhepburn said.\n",
       "1          positive  @VirginAmerica plus you've added commercials t...\n",
       "2           neutral  @VirginAmerica I didn't today... Must mean I n...\n",
       "3          negative  @VirginAmerica it's really aggressive to blast...\n",
       "4          negative  @VirginAmerica and it's a really big bad thing..."
      ]
     },
     "execution_count": 6,
     "metadata": {},
     "output_type": "execute_result"
    }
   ],
   "source": [
    "# 查看当前处理后的数据\n",
    "data.head()"
   ]
  },
  {
   "cell_type": "code",
   "execution_count": 7,
   "metadata": {},
   "outputs": [
    {
     "data": {
      "application/vnd.microsoft.datawrangler.viewer.v0+json": {
       "columns": [
        {
         "name": "index",
         "rawType": "int64",
         "type": "integer"
        },
        {
         "name": "text",
         "rawType": "object",
         "type": "string"
        },
        {
         "name": "review",
         "rawType": "int64",
         "type": "integer"
        }
       ],
       "ref": "1fb70fd1-468f-44a4-854c-455c0edb3d5a",
       "rows": [
        [
         "0",
         "@VirginAmerica What @dhepburn said.",
         "0"
        ],
        [
         "1",
         "@VirginAmerica plus you've added commercials to the experience... tacky.",
         "1"
        ],
        [
         "2",
         "@VirginAmerica I didn't today... Must mean I need to take another trip!",
         "0"
        ],
        [
         "3",
         "@VirginAmerica it's really aggressive to blast obnoxious \"entertainment\" in your guests' faces &amp; they have little recourse",
         "2"
        ],
        [
         "4",
         "@VirginAmerica and it's a really big bad thing about it",
         "2"
        ]
       ],
       "shape": {
        "columns": 2,
        "rows": 5
       }
      },
      "text/html": [
       "<div>\n",
       "<style scoped>\n",
       "    .dataframe tbody tr th:only-of-type {\n",
       "        vertical-align: middle;\n",
       "    }\n",
       "\n",
       "    .dataframe tbody tr th {\n",
       "        vertical-align: top;\n",
       "    }\n",
       "\n",
       "    .dataframe thead th {\n",
       "        text-align: right;\n",
       "    }\n",
       "</style>\n",
       "<table border=\"1\" class=\"dataframe\">\n",
       "  <thead>\n",
       "    <tr style=\"text-align: right;\">\n",
       "      <th></th>\n",
       "      <th>text</th>\n",
       "      <th>review</th>\n",
       "    </tr>\n",
       "  </thead>\n",
       "  <tbody>\n",
       "    <tr>\n",
       "      <th>0</th>\n",
       "      <td>@VirginAmerica What @dhepburn said.</td>\n",
       "      <td>0</td>\n",
       "    </tr>\n",
       "    <tr>\n",
       "      <th>1</th>\n",
       "      <td>@VirginAmerica plus you've added commercials t...</td>\n",
       "      <td>1</td>\n",
       "    </tr>\n",
       "    <tr>\n",
       "      <th>2</th>\n",
       "      <td>@VirginAmerica I didn't today... Must mean I n...</td>\n",
       "      <td>0</td>\n",
       "    </tr>\n",
       "    <tr>\n",
       "      <th>3</th>\n",
       "      <td>@VirginAmerica it's really aggressive to blast...</td>\n",
       "      <td>2</td>\n",
       "    </tr>\n",
       "    <tr>\n",
       "      <th>4</th>\n",
       "      <td>@VirginAmerica and it's a really big bad thing...</td>\n",
       "      <td>2</td>\n",
       "    </tr>\n",
       "  </tbody>\n",
       "</table>\n",
       "</div>"
      ],
      "text/plain": [
       "                                                text  review\n",
       "0                @VirginAmerica What @dhepburn said.       0\n",
       "1  @VirginAmerica plus you've added commercials t...       1\n",
       "2  @VirginAmerica I didn't today... Must mean I n...       0\n",
       "3  @VirginAmerica it's really aggressive to blast...       2\n",
       "4  @VirginAmerica and it's a really big bad thing...       2"
      ]
     },
     "execution_count": 7,
     "metadata": {},
     "output_type": "execute_result"
    }
   ],
   "source": [
    "# 标签的处理\n",
    "# 将情感标签转换为数字\n",
    "data['review'] = pd.factorize(data.airline_sentiment)[0]\n",
    "# 删除情感标签列\n",
    "del data['airline_sentiment']\n",
    "# 查看当前处理后的数据\n",
    "data.head()"
   ]
  },
  {
   "cell_type": "code",
   "execution_count": 8,
   "metadata": {},
   "outputs": [
    {
     "data": {
      "application/vnd.microsoft.datawrangler.viewer.v0+json": {
       "columns": [
        {
         "name": "index",
         "rawType": "int64",
         "type": "integer"
        },
        {
         "name": "text",
         "rawType": "object",
         "type": "string"
        },
        {
         "name": "review",
         "rawType": "int64",
         "type": "integer"
        }
       ],
       "ref": "d422c639-0271-4f92-8ddf-2afeec94a002",
       "rows": [
        [
         "0",
         "['virginamerica', 'what', 'dhepburn', 'said', '.']",
         "0"
        ],
        [
         "1",
         "['virginamerica', 'plus', 'you', 've', 'added', 'commercials', 'to', 'the', 'experience', '.', '.', '.', 'tacky', '.']",
         "1"
        ],
        [
         "2",
         "['virginamerica', 'i', 'didn', 't', 'today', '.', '.', '.', 'must', 'mean', 'i', 'need', 'to', 'take', 'another', 'trip', '!']",
         "0"
        ],
        [
         "3",
         "['virginamerica', 'it', 's', 'really', 'aggressive', 'to', 'blast', 'obnoxious', 'entertainment', 'in', 'your', 'guests', 'faces', 'amp', 'they', 'have', 'little', 'recourse']",
         "2"
        ],
        [
         "4",
         "['virginamerica', 'and', 'it', 's', 'a', 'really', 'big', 'bad', 'thing', 'about', 'it']",
         "2"
        ]
       ],
       "shape": {
        "columns": 2,
        "rows": 5
       }
      },
      "text/html": [
       "<div>\n",
       "<style scoped>\n",
       "    .dataframe tbody tr th:only-of-type {\n",
       "        vertical-align: middle;\n",
       "    }\n",
       "\n",
       "    .dataframe tbody tr th {\n",
       "        vertical-align: top;\n",
       "    }\n",
       "\n",
       "    .dataframe thead th {\n",
       "        text-align: right;\n",
       "    }\n",
       "</style>\n",
       "<table border=\"1\" class=\"dataframe\">\n",
       "  <thead>\n",
       "    <tr style=\"text-align: right;\">\n",
       "      <th></th>\n",
       "      <th>text</th>\n",
       "      <th>review</th>\n",
       "    </tr>\n",
       "  </thead>\n",
       "  <tbody>\n",
       "    <tr>\n",
       "      <th>0</th>\n",
       "      <td>[virginamerica, what, dhepburn, said, .]</td>\n",
       "      <td>0</td>\n",
       "    </tr>\n",
       "    <tr>\n",
       "      <th>1</th>\n",
       "      <td>[virginamerica, plus, you, ve, added, commerci...</td>\n",
       "      <td>1</td>\n",
       "    </tr>\n",
       "    <tr>\n",
       "      <th>2</th>\n",
       "      <td>[virginamerica, i, didn, t, today, ., ., ., mu...</td>\n",
       "      <td>0</td>\n",
       "    </tr>\n",
       "    <tr>\n",
       "      <th>3</th>\n",
       "      <td>[virginamerica, it, s, really, aggressive, to,...</td>\n",
       "      <td>2</td>\n",
       "    </tr>\n",
       "    <tr>\n",
       "      <th>4</th>\n",
       "      <td>[virginamerica, and, it, s, a, really, big, ba...</td>\n",
       "      <td>2</td>\n",
       "    </tr>\n",
       "  </tbody>\n",
       "</table>\n",
       "</div>"
      ],
      "text/plain": [
       "                                                text  review\n",
       "0           [virginamerica, what, dhepburn, said, .]       0\n",
       "1  [virginamerica, plus, you, ve, added, commerci...       1\n",
       "2  [virginamerica, i, didn, t, today, ., ., ., mu...       0\n",
       "3  [virginamerica, it, s, really, aggressive, to,...       2\n",
       "4  [virginamerica, and, it, s, a, really, big, ba...       2"
      ]
     },
     "execution_count": 8,
     "metadata": {},
     "output_type": "execute_result"
    }
   ],
   "source": [
    "# 文本的处理\n",
    "import re\n",
    "# 定义一个正则表达式，用于匹配文本中的单词和标点符号\n",
    "token = re.compile('[A-Za-z]+|[!?,.()]')\n",
    "# 文本处理函数\n",
    "def reg_text(text):\n",
    "    new_text = token.findall(text)\n",
    "    new_text = [word.lower() for word in new_text]\n",
    "    return new_text\n",
    "# 处理文本\n",
    "data['text'] = data.text.apply(reg_text)\n",
    "# 查看处理后的文本\n",
    "data.head()"
   ]
  },
  {
   "cell_type": "markdown",
   "metadata": {},
   "source": [
    "## 创建词表（vocab）"
   ]
  },
  {
   "cell_type": "code",
   "execution_count": 9,
   "metadata": {},
   "outputs": [
    {
     "name": "stdout",
     "output_type": "stream",
     "text": [
      "13668\n"
     ]
    }
   ],
   "source": [
    "# 初始化空集合\n",
    "word_set = set()\n",
    "# 遍历数据集中的所有文本，将每个单词添加到集合中\n",
    "for text in data.text:\n",
    "    for word in text:\n",
    "        word_set.add(word)\n",
    "# 打印集合的大小，即词汇表的大小\n",
    "max_word = len(word_set) + 1\n",
    "print(max_word)"
   ]
  },
  {
   "cell_type": "code",
   "execution_count": 10,
   "metadata": {},
   "outputs": [
    {
     "data": {
      "text/plain": [
       "557"
      ]
     },
     "execution_count": 10,
     "metadata": {},
     "output_type": "execute_result"
    }
   ],
   "source": [
    "# 将集合转换为列表\n",
    "word_list = list(word_set)\n",
    "# 查找单词在列表中的索引\n",
    "word_list.index('spending')"
   ]
  },
  {
   "cell_type": "code",
   "execution_count": 11,
   "metadata": {},
   "outputs": [
    {
     "data": {
      "text/plain": [
       "{'transatlantic': 1,\n",
       " 'whose': 2,\n",
       " 'ljzdthd': 3,\n",
       " 'gb': 4,\n",
       " 'memory': 5,\n",
       " 'onholdfordays': 6,\n",
       " 'ellen': 7,\n",
       " 'brendanpshannon': 8,\n",
       " 'ttno': 9,\n",
       " 'damper': 10,\n",
       " 'yoga': 11,\n",
       " 'st': 12,\n",
       " 'parachuteguy': 13,\n",
       " 'mystery': 14,\n",
       " 'upocmmulun': 15,\n",
       " 'superhero': 16,\n",
       " 'impediment': 17,\n",
       " 'ordered': 18,\n",
       " 'hello': 19,\n",
       " 'fri': 20,\n",
       " 'boh': 21,\n",
       " 'agfd': 22,\n",
       " 'faa': 23,\n",
       " 'bape': 24,\n",
       " 'taylor': 25,\n",
       " 'oq': 26,\n",
       " 'jimtrotter': 27,\n",
       " 'suite': 28,\n",
       " 'bloody': 29,\n",
       " 'toiletries': 30,\n",
       " 'relief': 31,\n",
       " 'brandssayingbae': 32,\n",
       " 'full': 33,\n",
       " 'willl': 34,\n",
       " 'pk': 35,\n",
       " 'nada': 36,\n",
       " 'jockeying': 37,\n",
       " 'clouds': 38,\n",
       " 'irixaifjjx': 39,\n",
       " 'deplorable': 40,\n",
       " 'nghmie': 41,\n",
       " 'org': 42,\n",
       " 'okcprofessionals': 43,\n",
       " 'fool': 44,\n",
       " 'fuel': 45,\n",
       " 'xs': 46,\n",
       " 'sundayfunday': 47,\n",
       " 'siczx': 48,\n",
       " 'robert': 49,\n",
       " 'guc': 50,\n",
       " 'analytics': 51,\n",
       " 'taxies': 52,\n",
       " 'chasefoster': 53,\n",
       " 'hurts': 54,\n",
       " 'colors': 55,\n",
       " 'messed': 56,\n",
       " 'skillful': 57,\n",
       " 'continuing': 58,\n",
       " 'take': 59,\n",
       " 'appreciation': 60,\n",
       " 'easy': 61,\n",
       " 'resort': 62,\n",
       " 'beautiful': 63,\n",
       " 'rdtimethishashappened': 64,\n",
       " 'saturday': 65,\n",
       " 'mmq': 66,\n",
       " 'werenotincalianymore': 67,\n",
       " 'km': 68,\n",
       " 'worries': 69,\n",
       " 'columbia': 70,\n",
       " 'enough': 71,\n",
       " 'albuquerque': 72,\n",
       " 'upgd': 73,\n",
       " 'mayweather': 74,\n",
       " 'confidence': 75,\n",
       " 'ineedcoffee': 76,\n",
       " 'aircrafts': 77,\n",
       " 'lqjt': 78,\n",
       " 'biz': 79,\n",
       " 'circles': 80,\n",
       " 'smisek': 81,\n",
       " 'hut': 82,\n",
       " 'tsa': 83,\n",
       " 'pittsburg': 84,\n",
       " 'hsnlgie': 85,\n",
       " 'bible': 86,\n",
       " 'feck': 87,\n",
       " 'workhard': 88,\n",
       " 'skype': 89,\n",
       " 'departments': 90,\n",
       " 'tnkixxrxhb': 91,\n",
       " 'continentalair': 92,\n",
       " 'honeymoon': 93,\n",
       " 'melting': 94,\n",
       " 'intelligence': 95,\n",
       " 'fill': 96,\n",
       " 'initiative': 97,\n",
       " 'heyo': 98,\n",
       " 'legit': 99,\n",
       " 'avoiding': 100,\n",
       " 'rwg': 101,\n",
       " 'assumed': 102,\n",
       " 'unemployment': 103,\n",
       " 'sre': 104,\n",
       " 'whereisthelove': 105,\n",
       " 'spends': 106,\n",
       " 'department': 107,\n",
       " 'cutest': 108,\n",
       " 'dobetter': 109,\n",
       " 'acy': 110,\n",
       " 'rows': 111,\n",
       " 'fliers': 112,\n",
       " 'zxzn': 113,\n",
       " 'liza': 114,\n",
       " 'airstairs': 115,\n",
       " 'nosedived': 116,\n",
       " 'im': 117,\n",
       " 'vabeatsjblue': 118,\n",
       " 'intuitlife': 119,\n",
       " 'badge': 120,\n",
       " 'rather': 121,\n",
       " 'wwr': 122,\n",
       " 'bruh': 123,\n",
       " 'pos': 124,\n",
       " 'cheat': 125,\n",
       " 'situations': 126,\n",
       " 'poisoning': 127,\n",
       " 'flightlations': 128,\n",
       " 'whyfly': 129,\n",
       " 'iflyoakland': 130,\n",
       " 'takemehome': 131,\n",
       " 'cheer': 132,\n",
       " 'yiwlhqhzgp': 133,\n",
       " 'lasalle': 134,\n",
       " 'cents': 135,\n",
       " 'packingayak': 136,\n",
       " 'godfaknb': 137,\n",
       " 'itineraries': 138,\n",
       " 'vpdrplxj': 139,\n",
       " 'run': 140,\n",
       " 'vein': 141,\n",
       " 'benefit': 142,\n",
       " 'exchange': 143,\n",
       " 'rubbish': 144,\n",
       " 'westpalmbeach': 145,\n",
       " 'igqjn': 146,\n",
       " 'trial': 147,\n",
       " 'proceed': 148,\n",
       " 'wi': 149,\n",
       " 'chicagosmayor': 150,\n",
       " 'nonupgrade': 151,\n",
       " 'invalid': 152,\n",
       " 'nanceebing': 153,\n",
       " 'eef': 154,\n",
       " 'ilookyoung': 155,\n",
       " 'css': 156,\n",
       " 'delighted': 157,\n",
       " 'conditioning': 158,\n",
       " 'cascino': 159,\n",
       " 'twins': 160,\n",
       " 'zrqm': 161,\n",
       " 'nonstops': 162,\n",
       " 'th': 163,\n",
       " 'getmartyhome': 164,\n",
       " 'dark': 165,\n",
       " 'nerd': 166,\n",
       " 'harass': 167,\n",
       " 'hxsdp': 168,\n",
       " 'btw': 169,\n",
       " 'addition': 170,\n",
       " 'overweight': 171,\n",
       " 'nk': 172,\n",
       " 'whatever': 173,\n",
       " 'reduced': 174,\n",
       " 'cracker': 175,\n",
       " 'tank': 176,\n",
       " 'shittydeal': 177,\n",
       " 'disrupted': 178,\n",
       " 'downgrading': 179,\n",
       " 'silicon': 180,\n",
       " 'local': 181,\n",
       " 'upgrades': 182,\n",
       " 'choice': 183,\n",
       " 'land': 184,\n",
       " 'worsttraveldayever': 185,\n",
       " 'barklays': 186,\n",
       " 'announcer': 187,\n",
       " 'description': 188,\n",
       " 'hlngbtx': 189,\n",
       " 'got': 190,\n",
       " 'dressed': 191,\n",
       " 'oh': 192,\n",
       " 'wondering': 193,\n",
       " 'murdock': 194,\n",
       " 'tagged': 195,\n",
       " 'ymz': 196,\n",
       " 'aurn': 197,\n",
       " 'srsly': 198,\n",
       " 'obmr': 199,\n",
       " 'daughters': 200,\n",
       " 'ilm': 201,\n",
       " 'difference': 202,\n",
       " 'alarm': 203,\n",
       " 'listing': 204,\n",
       " 'save': 205,\n",
       " 'zambia': 206,\n",
       " 'accountability': 207,\n",
       " 'able': 208,\n",
       " 'companion': 209,\n",
       " 'yrxa': 210,\n",
       " 'cities': 211,\n",
       " 'assignment': 212,\n",
       " 'sauna': 213,\n",
       " 'nuhplnxriq': 214,\n",
       " 'pamper': 215,\n",
       " 'form': 216,\n",
       " 'unitedsucks': 217,\n",
       " 'zksx': 218,\n",
       " 'nosecuritylines': 219,\n",
       " 'boarded': 220,\n",
       " 'at': 221,\n",
       " 'location': 222,\n",
       " 'eqyahfvz': 223,\n",
       " 'woody': 224,\n",
       " 'bucketobolts': 225,\n",
       " 'villages': 226,\n",
       " 'wnd': 227,\n",
       " 'gluten': 228,\n",
       " 'un': 229,\n",
       " 'unsettling': 230,\n",
       " 'humour': 231,\n",
       " 'agpb': 232,\n",
       " 'wilco': 233,\n",
       " 'helps': 234,\n",
       " 'interrogated': 235,\n",
       " 'wiar': 236,\n",
       " 'providenciales': 237,\n",
       " 'apart': 238,\n",
       " 'scratching': 239,\n",
       " 'governor': 240,\n",
       " 'batteries': 241,\n",
       " 'plow': 242,\n",
       " 'learnt': 243,\n",
       " 'happyflier': 244,\n",
       " 'magical': 245,\n",
       " 'flow': 246,\n",
       " 'consumermarketing': 247,\n",
       " 'ours': 248,\n",
       " 'anythin': 249,\n",
       " 'farce': 250,\n",
       " 'inop': 251,\n",
       " 'mexico': 252,\n",
       " 'city': 253,\n",
       " 'overbook': 254,\n",
       " 'pad': 255,\n",
       " 'bonsinthesky': 256,\n",
       " 'replicate': 257,\n",
       " 'nrosenb': 258,\n",
       " 'stand': 259,\n",
       " 'skrlyrz': 260,\n",
       " 'expedient': 261,\n",
       " 'low': 262,\n",
       " 'erickofiejones': 263,\n",
       " 'baking': 264,\n",
       " 'sunshine': 265,\n",
       " 'coworkers': 266,\n",
       " 'neveryamind': 267,\n",
       " 'saying': 268,\n",
       " 'fwhei': 269,\n",
       " 'tourists': 270,\n",
       " 'tld': 271,\n",
       " 'reward': 272,\n",
       " 'loooooong': 273,\n",
       " 'kc': 274,\n",
       " 'milestone': 275,\n",
       " 'appropriate': 276,\n",
       " 'colours': 277,\n",
       " 'luz': 278,\n",
       " 'resume': 279,\n",
       " 'dtheyofxrb': 280,\n",
       " 'lizaapproved': 281,\n",
       " 'redreserve': 282,\n",
       " 'brrr': 283,\n",
       " 'dewithpew': 284,\n",
       " 'forecasts': 285,\n",
       " 'stopped': 286,\n",
       " 'ella': 287,\n",
       " 'displeased': 288,\n",
       " 'overhead': 289,\n",
       " 'trbl': 290,\n",
       " 'rcvd': 291,\n",
       " 'ikbp': 292,\n",
       " 'arent': 293,\n",
       " 'cable': 294,\n",
       " 'blade': 295,\n",
       " 'oxvo': 296,\n",
       " 'travelzoo': 297,\n",
       " 'security': 298,\n",
       " 'harder': 299,\n",
       " 'looked': 300,\n",
       " 'mmmubb': 301,\n",
       " 'christinebpc': 302,\n",
       " 'daaa': 303,\n",
       " 'sw': 304,\n",
       " 'smelled': 305,\n",
       " 'cutting': 306,\n",
       " 'honey': 307,\n",
       " 'nodrinks': 308,\n",
       " 'noloveforsurfers': 309,\n",
       " 'ystday': 310,\n",
       " 'sweatshirt': 311,\n",
       " 'comeon': 312,\n",
       " 'reset': 313,\n",
       " 'seatback': 314,\n",
       " 'gong': 315,\n",
       " 'pepperidge': 316,\n",
       " 'help': 317,\n",
       " 'witty': 318,\n",
       " 'isthisreal': 319,\n",
       " 'yourock': 320,\n",
       " 'leanin': 321,\n",
       " 'tip': 322,\n",
       " 'midland': 323,\n",
       " 'potus': 324,\n",
       " 'son': 325,\n",
       " 'flowers': 326,\n",
       " 'mi': 327,\n",
       " 'ms': 328,\n",
       " 'thanksamericanairlines': 329,\n",
       " 'friend': 330,\n",
       " 'passive': 331,\n",
       " 'birthdays': 332,\n",
       " 'robotweeting': 333,\n",
       " 'approaching': 334,\n",
       " 'aye': 335,\n",
       " 'authoritative': 336,\n",
       " 'jindalcmc': 337,\n",
       " 'vouufrn': 338,\n",
       " 'college': 339,\n",
       " 'shower': 340,\n",
       " 'commercials': 341,\n",
       " 'texas': 342,\n",
       " 'things': 343,\n",
       " 'life': 344,\n",
       " 'engagement': 345,\n",
       " 'twenty': 346,\n",
       " 'broken': 347,\n",
       " 'resources': 348,\n",
       " 'movement': 349,\n",
       " 'nonrefundable': 350,\n",
       " 'internjohnradio': 351,\n",
       " 'departs': 352,\n",
       " 'finnair': 353,\n",
       " 'fw': 354,\n",
       " 'heavy': 355,\n",
       " 'tia': 356,\n",
       " 'mouth': 357,\n",
       " 'tzz': 358,\n",
       " 'worried': 359,\n",
       " 'fine': 360,\n",
       " 'ptw': 361,\n",
       " 'readded': 362,\n",
       " 'conference': 363,\n",
       " 'disneyworld': 364,\n",
       " 'alternatively': 365,\n",
       " 'trapped': 366,\n",
       " 'waitingagain': 367,\n",
       " 'begun': 368,\n",
       " 'applause': 369,\n",
       " 'serenitynow': 370,\n",
       " 'raft': 371,\n",
       " 'tasha': 372,\n",
       " 'booo': 373,\n",
       " 'death': 374,\n",
       " 'incidentals': 375,\n",
       " 'bite': 376,\n",
       " 'but': 377,\n",
       " 'zfroinpszi': 378,\n",
       " 'vitaminwater': 379,\n",
       " 'wxb': 380,\n",
       " 'bothered': 381,\n",
       " 'amsterdam': 382,\n",
       " 'men': 383,\n",
       " 'wings': 384,\n",
       " 'yeniettelswood': 385,\n",
       " 'lusaka': 386,\n",
       " 'wxqqr': 387,\n",
       " 'badbusiness': 388,\n",
       " 'las': 389,\n",
       " 'arrives': 390,\n",
       " 'expeditious': 391,\n",
       " 'roundtrip': 392,\n",
       " 'gift': 393,\n",
       " 'grateful': 394,\n",
       " 'tpa': 395,\n",
       " 'grief': 396,\n",
       " 'undetermined': 397,\n",
       " 'kravitz': 398,\n",
       " 'swiss': 399,\n",
       " 'cbsnews': 400,\n",
       " 'muc': 401,\n",
       " 'aires': 402,\n",
       " 'alan': 403,\n",
       " 'blueheros': 404,\n",
       " 'intend': 405,\n",
       " 'xbo': 406,\n",
       " 'bailey': 407,\n",
       " 'terrific': 408,\n",
       " 'silverairwsys': 409,\n",
       " 'gala': 410,\n",
       " 'kgonzales': 411,\n",
       " 'queuing': 412,\n",
       " 'lpalumbo': 413,\n",
       " 'bye': 414,\n",
       " 'deaffriendly': 415,\n",
       " 'leaving': 416,\n",
       " 'mobility': 417,\n",
       " 'exper': 418,\n",
       " 'birmingham': 419,\n",
       " 'wayne': 420,\n",
       " 'hayden': 421,\n",
       " 'jan': 422,\n",
       " 'qjlzrywfj': 423,\n",
       " 'nyc': 424,\n",
       " 'bed': 425,\n",
       " 'kak': 426,\n",
       " 'gregwallace': 427,\n",
       " 'southwestoliver': 428,\n",
       " 'sht': 429,\n",
       " 'lovesouthwestair': 430,\n",
       " 'travel': 431,\n",
       " 'sjqemdtqma': 432,\n",
       " 'soon': 433,\n",
       " 'americant': 434,\n",
       " 'cpus': 435,\n",
       " 'purchased': 436,\n",
       " 'advised': 437,\n",
       " 'wemosaictogether': 438,\n",
       " 'belief': 439,\n",
       " 'meetthefleet': 440,\n",
       " 'substitute': 441,\n",
       " 'concerns': 442,\n",
       " 'smitten': 443,\n",
       " 'palm': 444,\n",
       " 'groups': 445,\n",
       " 'exacerbates': 446,\n",
       " 'spam': 447,\n",
       " 'improvements': 448,\n",
       " 'competitors': 449,\n",
       " 'sentimental': 450,\n",
       " 'deficiency': 451,\n",
       " 'reload': 452,\n",
       " 'dozens': 453,\n",
       " 'fornpf': 454,\n",
       " 'ohno': 455,\n",
       " 'amiw': 456,\n",
       " 'frustrated': 457,\n",
       " 'forgets': 458,\n",
       " 'flagging': 459,\n",
       " 'spent': 460,\n",
       " 'scheduling': 461,\n",
       " 'aircargo': 462,\n",
       " 'right': 463,\n",
       " 'ijustwanttobeinboston': 464,\n",
       " 'messes': 465,\n",
       " 'deter': 466,\n",
       " 'woase': 467,\n",
       " 'qsffu': 468,\n",
       " 'extraordinaire': 469,\n",
       " 'planes': 470,\n",
       " 'mga': 471,\n",
       " 'insight': 472,\n",
       " 'predict': 473,\n",
       " 'emerging': 474,\n",
       " 'advan': 475,\n",
       " 'airbus': 476,\n",
       " 'newsbayarea': 477,\n",
       " 'begrudgingly': 478,\n",
       " 'uczzp': 479,\n",
       " 'ltx': 480,\n",
       " 'parking': 481,\n",
       " 'price': 482,\n",
       " 'equals': 483,\n",
       " 'whenever': 484,\n",
       " 'bridges': 485,\n",
       " 'delayua': 486,\n",
       " 'witness': 487,\n",
       " 'zcc': 488,\n",
       " 'baseball': 489,\n",
       " 'imtired': 490,\n",
       " 'homeward': 491,\n",
       " ')': 492,\n",
       " 'notnice': 493,\n",
       " 'savr': 494,\n",
       " 'sys': 495,\n",
       " 'refund': 496,\n",
       " 'norfolk': 497,\n",
       " 'isabelle': 498,\n",
       " 'plt': 499,\n",
       " 'airplane': 500,\n",
       " 'repeat': 501,\n",
       " 'spook': 502,\n",
       " 'vomited': 503,\n",
       " 'docmvotwti': 504,\n",
       " 'browsers': 505,\n",
       " 'lenses': 506,\n",
       " 'hsmpbsf': 507,\n",
       " 'avrtowtyzk': 508,\n",
       " 'dpted': 509,\n",
       " 'helacohlc': 510,\n",
       " 'employeerelations': 511,\n",
       " 'marinadomine': 512,\n",
       " 'dinosaurs': 513,\n",
       " 'information': 514,\n",
       " 'dmd': 515,\n",
       " 'bvl': 516,\n",
       " 'lulgnweffh': 517,\n",
       " 'uw': 518,\n",
       " 'worldwide': 519,\n",
       " 'hadn': 520,\n",
       " 'wamo': 521,\n",
       " 'ams': 522,\n",
       " 'uhuh': 523,\n",
       " 'assisted': 524,\n",
       " 'jjje': 525,\n",
       " 'forcedovernight': 526,\n",
       " 'treacherous': 527,\n",
       " 'freezes': 528,\n",
       " 'ionlyflyblue': 529,\n",
       " 'awesome': 530,\n",
       " 'ordeal': 531,\n",
       " 'off': 532,\n",
       " 'erieairport': 533,\n",
       " 'mitchsunderland': 534,\n",
       " 'jvmchat': 535,\n",
       " 'hectic': 536,\n",
       " 'w': 537,\n",
       " 'earth': 538,\n",
       " 'beautifully': 539,\n",
       " 'oct': 540,\n",
       " 'woohoo': 541,\n",
       " 'extending': 542,\n",
       " 'lock': 543,\n",
       " 'offload': 544,\n",
       " 'power': 545,\n",
       " 'hemisphere': 546,\n",
       " 'bogot': 547,\n",
       " 'remember': 548,\n",
       " 'kys': 549,\n",
       " 'closet': 550,\n",
       " 'beqotlnugc': 551,\n",
       " 'zhnnrh': 552,\n",
       " 'resulting': 553,\n",
       " 'brother': 554,\n",
       " 'ifeeldumb': 555,\n",
       " 'essence': 556,\n",
       " 'him': 557,\n",
       " 'spending': 558,\n",
       " 'urged': 559,\n",
       " 'deane': 560,\n",
       " 'alamo': 561,\n",
       " 'ocean': 562,\n",
       " 'measly': 563,\n",
       " 'double': 564,\n",
       " 'hhagerty': 565,\n",
       " 'pbpinftworth': 566,\n",
       " 'shirt': 567,\n",
       " 'trips': 568,\n",
       " 'nathankillam': 569,\n",
       " 'del': 570,\n",
       " 'slht': 571,\n",
       " 'fttfyfmvco': 572,\n",
       " 'seen': 573,\n",
       " 'odds': 574,\n",
       " 'are': 575,\n",
       " 'dgruber': 576,\n",
       " 'laws': 577,\n",
       " 'gratitude': 578,\n",
       " 'cgjase': 579,\n",
       " 'adapted': 580,\n",
       " 'uoaryq': 581,\n",
       " 'scqujbvsta': 582,\n",
       " 'statement': 583,\n",
       " 'sjd': 584,\n",
       " 'zurich': 585,\n",
       " 'chg': 586,\n",
       " 'shuttles': 587,\n",
       " 'killing': 588,\n",
       " 'throwing': 589,\n",
       " 'disputed': 590,\n",
       " 'president': 591,\n",
       " 'considerable': 592,\n",
       " 'jide': 593,\n",
       " 'noluv': 594,\n",
       " 'qc': 595,\n",
       " 'internships': 596,\n",
       " 'proceeded': 597,\n",
       " 'vary': 598,\n",
       " 'ranging': 599,\n",
       " 'ketr': 600,\n",
       " 'testing': 601,\n",
       " 'curbside': 602,\n",
       " 'badbadbad': 603,\n",
       " 'swfan': 604,\n",
       " 'minonhold': 605,\n",
       " 'luved': 606,\n",
       " 'public': 607,\n",
       " 'psa': 608,\n",
       " 'radykep': 609,\n",
       " 'airtran': 610,\n",
       " 'fwkj': 611,\n",
       " 'cooper': 612,\n",
       " 'rnd': 613,\n",
       " 'hellobrittney': 614,\n",
       " 'divided': 615,\n",
       " 'olsi': 616,\n",
       " 'purchase': 617,\n",
       " 'slc': 618,\n",
       " 'showed': 619,\n",
       " 'robprice': 620,\n",
       " 'sizer': 621,\n",
       " 'flydelta': 622,\n",
       " 'area': 623,\n",
       " 'daughter': 624,\n",
       " 'retired': 625,\n",
       " 'ravioli': 626,\n",
       " 'hurz': 627,\n",
       " 'susan': 628,\n",
       " 'disneyland': 629,\n",
       " 'breakfast': 630,\n",
       " 'syd': 631,\n",
       " 'disappearing': 632,\n",
       " 'rinzysk': 633,\n",
       " 'could': 634,\n",
       " 'dqbai': 635,\n",
       " 'kmdw': 636,\n",
       " 'noanswer': 637,\n",
       " 'qxteqzm': 638,\n",
       " 'punished': 639,\n",
       " 'tiks': 640,\n",
       " 'eb': 641,\n",
       " 'dissatisfied': 642,\n",
       " 'gerri': 643,\n",
       " 'ohare': 644,\n",
       " 'narrower': 645,\n",
       " 'sat': 646,\n",
       " 'imdetermined': 647,\n",
       " 'scandal': 648,\n",
       " 'drops': 649,\n",
       " 'sbgbn': 650,\n",
       " 'exceptional': 651,\n",
       " 'octaviannightmare': 652,\n",
       " 'letsgoalready': 653,\n",
       " 'lt': 654,\n",
       " 'likes': 655,\n",
       " 'movements': 656,\n",
       " 'ttzejv': 657,\n",
       " 'superiors': 658,\n",
       " 'squawked': 659,\n",
       " 'expressing': 660,\n",
       " 'problems': 661,\n",
       " 'passenger': 662,\n",
       " 'waldorf': 663,\n",
       " 'wishmyflightwaslonger': 664,\n",
       " 'mfps': 665,\n",
       " 'expowest': 666,\n",
       " 'clothes': 667,\n",
       " 'toronto': 668,\n",
       " 'enemy': 669,\n",
       " 'difficulty': 670,\n",
       " 'rechecked': 671,\n",
       " 'streamline': 672,\n",
       " 'mdw': 673,\n",
       " 'attitudy': 674,\n",
       " 'incoming': 675,\n",
       " 'chatted': 676,\n",
       " 'suggest': 677,\n",
       " 'cookie': 678,\n",
       " 'aaaand': 679,\n",
       " 'giggled': 680,\n",
       " 'flite': 681,\n",
       " 'wishing': 682,\n",
       " 'work': 683,\n",
       " 'poc': 684,\n",
       " 'slept': 685,\n",
       " 'directv': 686,\n",
       " 'length': 687,\n",
       " 'thankfully': 688,\n",
       " 'resolution': 689,\n",
       " 'safari': 690,\n",
       " 'unitedfirst': 691,\n",
       " 'value': 692,\n",
       " 'bzwgp': 693,\n",
       " 'slew': 694,\n",
       " 'drinks': 695,\n",
       " 'argueing': 696,\n",
       " 'auf': 697,\n",
       " 'yt': 698,\n",
       " 'teen': 699,\n",
       " 'abq': 700,\n",
       " 'ocqk': 701,\n",
       " 'pedro': 702,\n",
       " 'sdurbu': 703,\n",
       " 'duecto': 704,\n",
       " 'ugfckermrw': 705,\n",
       " 'george': 706,\n",
       " 'aadelay': 707,\n",
       " 'dictionary': 708,\n",
       " 'informs': 709,\n",
       " 'terra': 710,\n",
       " 'atleast': 711,\n",
       " 'mkt': 712,\n",
       " 'mrrenevendez': 713,\n",
       " 'jokerunning': 714,\n",
       " 'tones': 715,\n",
       " 'incompetent': 716,\n",
       " 'guilty': 717,\n",
       " 'airnzusa': 718,\n",
       " 'misbehavior': 719,\n",
       " 'sweetingr': 720,\n",
       " 'pointsme': 721,\n",
       " 'plain': 722,\n",
       " 'inspiring': 723,\n",
       " 'how': 724,\n",
       " 'intrusive': 725,\n",
       " 'yosjhzmc': 726,\n",
       " 'sev': 727,\n",
       " 'developers': 728,\n",
       " 'cut': 729,\n",
       " 'word': 730,\n",
       " 'sprinted': 731,\n",
       " 'housing': 732,\n",
       " 'georgia': 733,\n",
       " 'milwaukee': 734,\n",
       " 'australia': 735,\n",
       " 'solve': 736,\n",
       " 'fsz': 737,\n",
       " 'searched': 738,\n",
       " 'fedexed': 739,\n",
       " 'foreverrrrrr': 740,\n",
       " 'irreplaceable': 741,\n",
       " 'anotherfail': 742,\n",
       " 'phf': 743,\n",
       " 'findurgrip': 744,\n",
       " 'stclass': 745,\n",
       " 'prof': 746,\n",
       " 'trouble': 747,\n",
       " 'celebrate': 748,\n",
       " 'brianregancomic': 749,\n",
       " 'breaker': 750,\n",
       " 'delyd': 751,\n",
       " 'bin': 752,\n",
       " 'pacificbiznews': 753,\n",
       " 'adve': 754,\n",
       " 'areas': 755,\n",
       " 'rf': 756,\n",
       " 'boavxy': 757,\n",
       " 'fav': 758,\n",
       " 'alstdi': 759,\n",
       " 'named': 760,\n",
       " 'steaming': 761,\n",
       " 'graduation': 762,\n",
       " 'portcolumbuscmh': 763,\n",
       " 'sg': 764,\n",
       " 'ppl': 765,\n",
       " 'wheels': 766,\n",
       " 'woven': 767,\n",
       " 'missing': 768,\n",
       " 'le': 769,\n",
       " 'iatanbul': 770,\n",
       " 'married': 771,\n",
       " 'diabetic': 772,\n",
       " 'qgtcao': 773,\n",
       " 'raleigh': 774,\n",
       " 'brave': 775,\n",
       " 'paymytab': 776,\n",
       " 'donkey': 777,\n",
       " 'dime': 778,\n",
       " 'towns': 779,\n",
       " 'performance': 780,\n",
       " 'gxvfumn': 781,\n",
       " 'leathery': 782,\n",
       " 'xf': 783,\n",
       " 'cleaned': 784,\n",
       " 'lfulcbq': 785,\n",
       " 'dayjustgotworse': 786,\n",
       " 'luxurious': 787,\n",
       " 'southwestsucks': 788,\n",
       " 'twa': 789,\n",
       " 'sales': 790,\n",
       " 'osjz': 791,\n",
       " 'outta': 792,\n",
       " 'regards': 793,\n",
       " 'nofg': 794,\n",
       " 'jameswester': 795,\n",
       " 'advise': 796,\n",
       " 'truebluemember': 797,\n",
       " 'flyfrontier': 798,\n",
       " 'skin': 799,\n",
       " 'august': 800,\n",
       " 'ellahenderson': 801,\n",
       " 'colleagues': 802,\n",
       " 'statusmatch': 803,\n",
       " 'fails': 804,\n",
       " 'prefference': 805,\n",
       " 'bestairline': 806,\n",
       " 'iqu': 807,\n",
       " 'yourphonesystemsucks': 808,\n",
       " 'communicationfail': 809,\n",
       " 'difficult': 810,\n",
       " 'project': 811,\n",
       " 'aypyaduy': 812,\n",
       " 'cushy': 813,\n",
       " 'nexttime': 814,\n",
       " 'repair': 815,\n",
       " 'older': 816,\n",
       " 'explore': 817,\n",
       " 'davuy': 818,\n",
       " 'sche': 819,\n",
       " 'ladan': 820,\n",
       " 'froschtravel': 821,\n",
       " 'picking': 822,\n",
       " 'position': 823,\n",
       " 'tarmack': 824,\n",
       " 'ann': 825,\n",
       " 'foresight': 826,\n",
       " 'seem': 827,\n",
       " 'chase': 828,\n",
       " 'pleaseeeeee': 829,\n",
       " 'gcwvfuopl': 830,\n",
       " 'hidden': 831,\n",
       " 'openskies': 832,\n",
       " 'usatodaytravel': 833,\n",
       " 'restrictions': 834,\n",
       " 'internet': 835,\n",
       " 'scott': 836,\n",
       " 'cityandsand': 837,\n",
       " 'unxqotzik': 838,\n",
       " 'formed': 839,\n",
       " 'iceg': 840,\n",
       " 'audio': 841,\n",
       " 'rldelahunty': 842,\n",
       " 'thatisall': 843,\n",
       " 'nfl': 844,\n",
       " 'uno': 845,\n",
       " 'peas': 846,\n",
       " 'ht': 847,\n",
       " 'discovergrenada': 848,\n",
       " 'carseat': 849,\n",
       " 'mybday': 850,\n",
       " 'wasnt': 851,\n",
       " 'indicated': 852,\n",
       " 'honors': 853,\n",
       " 'badwebsite': 854,\n",
       " 'nocoatcloset': 855,\n",
       " 'mosiac': 856,\n",
       " 'beginning': 857,\n",
       " 'lol': 858,\n",
       " 'stolen': 859,\n",
       " 'mindset': 860,\n",
       " 'puppy': 861,\n",
       " 'dpdfpp': 862,\n",
       " 'sadly': 863,\n",
       " 'memories': 864,\n",
       " 'tanked': 865,\n",
       " 'grand': 866,\n",
       " 'orleans': 867,\n",
       " 'ctr': 868,\n",
       " 'wannagohome': 869,\n",
       " 'beaches': 870,\n",
       " 'missedflight': 871,\n",
       " 'released': 872,\n",
       " 'usairwayssuck': 873,\n",
       " 'usage': 874,\n",
       " 'tvr': 875,\n",
       " 'texted': 876,\n",
       " 'fucking': 877,\n",
       " 'tabitha': 878,\n",
       " 'maddening': 879,\n",
       " 'lister': 880,\n",
       " 'cldnt': 881,\n",
       " 'qavvlaxlkl': 882,\n",
       " 'leak': 883,\n",
       " 'container': 884,\n",
       " 'of': 885,\n",
       " 'rehman': 886,\n",
       " 'hnl': 887,\n",
       " 'replace': 888,\n",
       " 'chairmans': 889,\n",
       " 'kcqnwixucm': 890,\n",
       " 'fml': 891,\n",
       " 'donate': 892,\n",
       " 'various': 893,\n",
       " 'unable': 894,\n",
       " 'emaleesugano': 895,\n",
       " 'fs': 896,\n",
       " 'hughes': 897,\n",
       " 'cometoaustin': 898,\n",
       " 'ghjbp': 899,\n",
       " 'driving': 900,\n",
       " 'fernheinig': 901,\n",
       " 'inbox': 902,\n",
       " 'kangaroos': 903,\n",
       " 'zgw': 904,\n",
       " 'replaced': 905,\n",
       " 'doesn': 906,\n",
       " 'usaw': 907,\n",
       " 'brain': 908,\n",
       " 'pacify': 909,\n",
       " 'train': 910,\n",
       " 'rocked': 911,\n",
       " 'canister': 912,\n",
       " 'qjbcv': 913,\n",
       " 'product': 914,\n",
       " 'stilling': 915,\n",
       " 'apt': 916,\n",
       " 'wreck': 917,\n",
       " 'qualified': 918,\n",
       " 'reinstate': 919,\n",
       " 'interviews': 920,\n",
       " 'pull': 921,\n",
       " 'needtocatchmynextflight': 922,\n",
       " 'pln': 923,\n",
       " 'flashlight': 924,\n",
       " 'goodcustomerservice': 925,\n",
       " 'pigeon': 926,\n",
       " 'outsourced': 927,\n",
       " 'dads': 928,\n",
       " 'shocked': 929,\n",
       " 'fwa': 930,\n",
       " 'fgjbex': 931,\n",
       " 'beneficial': 932,\n",
       " 'clue': 933,\n",
       " 'stamp': 934,\n",
       " 'copay': 935,\n",
       " 'working': 936,\n",
       " 'kthxbai': 937,\n",
       " 'spotify': 938,\n",
       " 'aggravating': 939,\n",
       " 'unaware': 940,\n",
       " 'rams': 941,\n",
       " 'cabs': 942,\n",
       " 'oveur': 943,\n",
       " 'dia': 944,\n",
       " 'yourselves': 945,\n",
       " 'yxe': 946,\n",
       " 'yall': 947,\n",
       " 'continuous': 948,\n",
       " 'onlyinamerica': 949,\n",
       " 'island': 950,\n",
       " 'smooth': 951,\n",
       " 'wjere': 952,\n",
       " 'fwy': 953,\n",
       " 'bike': 954,\n",
       " 'china': 955,\n",
       " 'rethink': 956,\n",
       " 'yy': 957,\n",
       " 'announcements': 958,\n",
       " 'unanswered': 959,\n",
       " 'outcome': 960,\n",
       " 'irony': 961,\n",
       " 'cobedien': 962,\n",
       " 'convinced': 963,\n",
       " 'lacking': 964,\n",
       " 'remembering': 965,\n",
       " 'greetingz': 966,\n",
       " 'edit': 967,\n",
       " 'suiip': 968,\n",
       " 'purpose': 969,\n",
       " 'aqjn': 970,\n",
       " 'worthy': 971,\n",
       " 'dualcam': 972,\n",
       " 'waaaaaaiting': 973,\n",
       " 'tjdzamhpew': 974,\n",
       " 'greatcustomerservice': 975,\n",
       " 'dad': 976,\n",
       " 'grant': 977,\n",
       " 'amtrak': 978,\n",
       " 'checkers': 979,\n",
       " 'zq': 980,\n",
       " 'yards': 981,\n",
       " 'promos': 982,\n",
       " 'coma': 983,\n",
       " 'syastem': 984,\n",
       " 'dhn': 985,\n",
       " 'professionalism': 986,\n",
       " 'duty': 987,\n",
       " 'desperate': 988,\n",
       " 'shavon': 989,\n",
       " 'pool': 990,\n",
       " 'pe': 991,\n",
       " 'citi': 992,\n",
       " 'achieving': 993,\n",
       " 'automatically': 994,\n",
       " 'igkogywksr': 995,\n",
       " 'cyndi': 996,\n",
       " 'allergies': 997,\n",
       " 'any': 998,\n",
       " 'intra': 999,\n",
       " 'becky': 1000,\n",
       " ...}"
      ]
     },
     "execution_count": 11,
     "metadata": {},
     "output_type": "execute_result"
    }
   ],
   "source": [
    "# 从列表构建字典\n",
    "word_index =  dict((word, word_list.index(word) + 1) for word in word_list)\n",
    "word_index"
   ]
  },
  {
   "cell_type": "markdown",
   "metadata": {},
   "source": [
    "## 文本数据预处理"
   ]
  },
  {
   "cell_type": "code",
   "execution_count": 12,
   "metadata": {},
   "outputs": [
    {
     "data": {
      "application/vnd.microsoft.datawrangler.viewer.v0+json": {
       "columns": [
        {
         "name": "index",
         "rawType": "int64",
         "type": "integer"
        },
        {
         "name": "text",
         "rawType": "object",
         "type": "string"
        }
       ],
       "ref": "68e0403a-6ca7-4a03-b989-7ff18919742c",
       "rows": [
        [
         "0",
         "['virginamerica', 'what', 'dhepburn', 'said', '.']"
        ],
        [
         "1",
         "['virginamerica', 'plus', 'you', 've', 'added', 'commercials', 'to', 'the', 'experience', '.', '.', '.', 'tacky', '.']"
        ],
        [
         "2",
         "['virginamerica', 'i', 'didn', 't', 'today', '.', '.', '.', 'must', 'mean', 'i', 'need', 'to', 'take', 'another', 'trip', '!']"
        ],
        [
         "3",
         "['virginamerica', 'it', 's', 'really', 'aggressive', 'to', 'blast', 'obnoxious', 'entertainment', 'in', 'your', 'guests', 'faces', 'amp', 'they', 'have', 'little', 'recourse']"
        ],
        [
         "4",
         "['virginamerica', 'and', 'it', 's', 'a', 'really', 'big', 'bad', 'thing', 'about', 'it']"
        ],
        [
         "5",
         "['virginamerica', 'seriously', 'would', 'pay', 'a', 'flight', 'for', 'seats', 'that', 'didn', 't', 'have', 'this', 'playing', '.', 'it', 's', 'really', 'the', 'only', 'bad', 'thing', 'about', 'flying', 'va']"
        ],
        [
         "6",
         "['virginamerica', 'yes', ',', 'nearly', 'every', 'time', 'i', 'fly', 'vx', 'this', 'ear', 'worm', 'won', 't', 'go', 'away', ')']"
        ],
        [
         "7",
         "['virginamerica', 'really', 'missed', 'a', 'prime', 'opportunity', 'for', 'men', 'without', 'hats', 'parody', ',', 'there', '.', 'https', 't', '.', 'co', 'mwpg', 'grezp']"
        ],
        [
         "8",
         "['virginamerica', 'well', ',', 'i', 'didn', 't', 'but', 'now', 'i', 'do', '!', 'd']"
        ],
        [
         "9",
         "['virginamerica', 'it', 'was', 'amazing', ',', 'and', 'arrived', 'an', 'hour', 'early', '.', 'you', 're', 'too', 'good', 'to', 'me', '.']"
        ],
        [
         "10",
         "['virginamerica', 'did', 'you', 'know', 'that', 'suicide', 'is', 'the', 'second', 'leading', 'cause', 'of', 'death', 'among', 'teens']"
        ],
        [
         "11",
         "['virginamerica', 'i', 'lt', 'pretty', 'graphics', '.', 'so', 'much', 'better', 'than', 'minimal', 'iconography', '.', 'd']"
        ],
        [
         "12",
         "['virginamerica', 'this', 'is', 'such', 'a', 'great', 'deal', '!', 'already', 'thinking', 'about', 'my', 'nd', 'trip', 'to', 'australia', 'amp', 'i', 'haven', 't', 'even', 'gone', 'on', 'my', 'st', 'trip', 'yet', '!', 'p']"
        ],
        [
         "13",
         "['virginamerica', 'virginmedia', 'i', 'm', 'flying', 'your', 'fabulous', 'seductive', 'skies', 'again', '!', 'u', 'take', 'all', 'the', 'stress', 'away', 'from', 'travel', 'http', 't', '.', 'co', 'ahlxhhkiyn']"
        ],
        [
         "14",
         "['virginamerica', 'thanks', '!']"
        ],
        [
         "15",
         "['virginamerica', 'sfo', 'pdx', 'schedule', 'is', 'still', 'mia', '.']"
        ],
        [
         "16",
         "['virginamerica', 'so', 'excited', 'for', 'my', 'first', 'cross', 'country', 'flight', 'lax', 'to', 'mco', 'i', 've', 'heard', 'nothing', 'but', 'great', 'things', 'about', 'virgin', 'america', '.', 'daystogo']"
        ],
        [
         "17",
         "['virginamerica', 'i', 'flew', 'from', 'nyc', 'to', 'sfo', 'last', 'week', 'and', 'couldn', 't', 'fully', 'sit', 'in', 'my', 'seat', 'due', 'to', 'two', 'large', 'gentleman', 'on', 'either', 'side', 'of', 'me', '.', 'help', '!']"
        ],
        [
         "18",
         "['i', 'flying', 'virginamerica', '.']"
        ],
        [
         "19",
         "['virginamerica', 'you', 'know', 'what', 'would', 'be', 'amazingly', 'awesome', '?', 'bos', 'fll', 'please', '!', '!', '!', '!', '!', '!', '!', 'i', 'want', 'to', 'fly', 'with', 'only', 'you', '.']"
        ],
        [
         "20",
         "['virginamerica', 'why', 'are', 'your', 'first', 'fares', 'in', 'may', 'over', 'three', 'times', 'more', 'than', 'other', 'carriers', 'when', 'all', 'seats', 'are', 'available', 'to', 'select', '?', '?', '?']"
        ],
        [
         "21",
         "['virginamerica', 'i', 'love', 'this', 'graphic', '.', 'http', 't', '.', 'co', 'ut', 'grrwaaa']"
        ],
        [
         "22",
         "['virginamerica', 'i', 'love', 'the', 'hipster', 'innovation', '.', 'you', 'are', 'a', 'feel', 'good', 'brand', '.']"
        ],
        [
         "23",
         "['virginamerica', 'will', 'you', 'be', 'making', 'bos', 'gt', 'las', 'non', 'stop', 'permanently', 'anytime', 'soon', '?']"
        ],
        [
         "24",
         "['virginamerica', 'you', 'guys', 'messed', 'up', 'my', 'seating', '.', '.', 'i', 'reserved', 'seating', 'with', 'my', 'friends', 'and', 'you', 'guys', 'gave', 'my', 'seat', 'away', '.', '.', '.', 'i', 'want', 'free', 'internet']"
        ],
        [
         "25",
         "['virginamerica', 'status', 'match', 'program', '.', 'i', 'applied', 'and', 'it', 's', 'been', 'three', 'weeks', '.', 'called', 'and', 'emailed', 'with', 'no', 'response', '.']"
        ],
        [
         "26",
         "['virginamerica', 'what', 'happened', 'ur', 'vegan', 'food', 'options', '?', '!', 'at', 'least', 'say', 'on', 'ur', 'site', 'so', 'i', 'know', 'i', 'won', 't', 'be', 'able', 'eat', 'anything', 'for', 'next', 'hrs', 'fail']"
        ],
        [
         "27",
         "['virginamerica', 'do', 'you', 'miss', 'me', '?', 'don', 't', 'worry', 'we', 'll', 'be', 'together', 'very', 'soon', '.']"
        ],
        [
         "28",
         "['virginamerica', 'amazing', 'to', 'me', 'that', 'we', 'can', 't', 'get', 'any', 'cold', 'air', 'from', 'the', 'vents', '.', 'vx', 'noair', 'worstflightever', 'roasted', 'sfotobos']"
        ],
        [
         "29",
         "['virginamerica', 'lax', 'to', 'ewr', 'middle', 'seat', 'on', 'a', 'red', 'eye', '.', 'such', 'a', 'noob', 'maneuver', '.', 'sendambien', 'andchexmix']"
        ],
        [
         "30",
         "['virginamerica', 'hi', '!', 'i', 'just', 'bked', 'a', 'cool', 'birthday', 'trip', 'with', 'you', ',', 'but', 'i', 'can', 't', 'add', 'my', 'elevate', 'no', '.', 'cause', 'i', 'entered', 'my', 'middle', 'name', 'during', 'flight', 'booking', 'problems']"
        ],
        [
         "31",
         "['virginamerica', 'are', 'the', 'hours', 'of', 'operation', 'for', 'the', 'club', 'at', 'sfo', 'that', 'are', 'posted', 'online', 'current', '?']"
        ],
        [
         "32",
         "['virginamerica', 'help', ',', 'left', 'expensive', 'headphones', 'on', 'flight', 'iad', 'to', 'lax', 'today', '.', 'seat', 'a', '.', 'no', 'one', 'answering', 'l', 'amp', 'f', 'number', 'at', 'lax', '!']"
        ],
        [
         "33",
         "['virginamerica', 'awaiting', 'my', 'return', 'phone', 'call', ',', 'just', 'would', 'prefer', 'to', 'use', 'your', 'online', 'self', 'service', 'option', '(']"
        ],
        [
         "34",
         "['virginamerica', 'this', 'is', 'great', 'news', '!', 'america', 'could', 'start', 'flights', 'to', 'hawaii', 'by', 'end', 'of', 'year', 'http', 't', '.', 'co', 'r', 'p', 'zy', 'fe', 'via', 'pacificbiznews']"
        ],
        [
         "35",
         "['nice', 'rt', 'virginamerica', 'vibe', 'with', 'the', 'moodlight', 'from', 'takeoff', 'to', 'touchdown', '.', 'moodlitmonday', 'sciencebehindtheexperience', 'http', 't', '.', 'co', 'y', 'o', 'unxtqp']"
        ],
        [
         "36",
         "['virginamerica', 'moodlighting', 'is', 'the', 'only', 'way', 'to', 'fly', '!', 'best', 'experience', 'ever', '!', 'cool', 'and', 'calming', '.', 'moodlitmonday']"
        ],
        [
         "37",
         "['virginamerica', 'freddieawards', 'done', 'and', 'done', '!', 'best', 'airline', 'around', ',', 'hands', 'down', '!']"
        ],
        [
         "38",
         "['virginamerica', 'when', 'can', 'i', 'book', 'my', 'flight', 'to', 'hawaii', '?', '?']"
        ],
        [
         "39",
         "['virginamerica', 'your', 'chat', 'support', 'is', 'not', 'working', 'on', 'your', 'site', 'http', 't', '.', 'co', 'vhp', 'gtdwpk']"
        ],
        [
         "40",
         "['virginamerica', 'view', 'of', 'downtown', 'los', 'angeles', ',', 'the', 'hollywood', 'sign', ',', 'and', 'beyond', 'that', 'rain', 'in', 'the', 'mountains', '!', 'http', 't', '.', 'co', 'dw', 'nf', 'ibtr']"
        ],
        [
         "41",
         "['virginamerica', 'hey', ',', 'first', 'time', 'flyer', 'next', 'week', 'excited', '!', 'but', 'i', 'm', 'having', 'a', 'hard', 'time', 'getting', 'my', 'flights', 'added', 'to', 'my', 'elevate', 'account', '.', 'help', '?']"
        ],
        [
         "42",
         "['virginamerica', 'plz', 'help', 'me', 'win', 'my', 'bid', 'upgrade', 'for', 'my', 'flight', 'lax', 'gt', 'sea', '!', '!', '!']"
        ],
        [
         "43",
         "['virginamerica', 'i', 'have', 'an', 'unused', 'ticket', 'but', 'moved', 'to', 'a', 'new', 'city', 'where', 'you', 'don', 't', 'fly', '.', 'how', 'can', 'i', 'fly', 'with', 'you', 'before', 'it', 'expires', '?', 'travelhelp']"
        ],
        [
         "44",
         "['virginamerica', 'are', 'flights', 'leaving', 'dallas', 'for', 'seattle', 'on', 'time', 'feb', '?']"
        ],
        [
         "45",
         "['virginamerica', 'i', 'm', 'elevategold', 'for', 'a', 'good', 'reason', 'you', 'rock', '!', '!']"
        ],
        [
         "46",
         "['virginamerica', 'dream', 'http', 't', '.', 'co', 'oa', 'drfaoq', 'http', 't', '.', 'co', 'lwwdac', 'khx']"
        ],
        [
         "47",
         "['virginamerica', 'wow', 'this', 'just', 'blew', 'my', 'mind']"
        ],
        [
         "48",
         "['virginamerica', 'ladygaga', 'carrieunderwood', 'after', 'last', 'night', 'tribute', 'soundofmusic', 'oscars', 'ladygaga', '!', 'i', 'think', 'carrieunderwood', 'agree']"
        ],
        [
         "49",
         "['virginamerica', 'ladygaga', 'carrieunderwood', 'all', 'were', 'entertaining']"
        ]
       ],
       "shape": {
        "columns": 1,
        "rows": 14452
       }
      },
      "text/plain": [
       "0                 [virginamerica, what, dhepburn, said, .]\n",
       "1        [virginamerica, plus, you, ve, added, commerci...\n",
       "2        [virginamerica, i, didn, t, today, ., ., ., mu...\n",
       "3        [virginamerica, it, s, really, aggressive, to,...\n",
       "4        [virginamerica, and, it, s, a, really, big, ba...\n",
       "                               ...                        \n",
       "14635    [americanair, thank, you, we, got, on, a, diff...\n",
       "14636    [americanair, leaving, over, minutes, late, fl...\n",
       "14637    [americanair, please, bring, american, airline...\n",
       "14638    [americanair, you, have, my, money, ,, you, ch...\n",
       "14639    [americanair, we, have, ppl, so, we, need, kno...\n",
       "Name: text, Length: 14452, dtype: object"
      ]
     },
     "execution_count": 12,
     "metadata": {},
     "output_type": "execute_result"
    }
   ],
   "source": [
    "# 查看数据文本\n",
    "data.text"
   ]
  },
  {
   "cell_type": "code",
   "execution_count": 13,
   "metadata": {},
   "outputs": [
    {
     "data": {
      "application/vnd.microsoft.datawrangler.viewer.v0+json": {
       "columns": [
        {
         "name": "index",
         "rawType": "int64",
         "type": "integer"
        },
        {
         "name": "text",
         "rawType": "object",
         "type": "string"
        }
       ],
       "ref": "9613b6d2-29ee-43ea-b945-199ea367fd6b",
       "rows": [
        [
         "0",
         "[8748, 12676, 7483, 12638, 6789]"
        ],
        [
         "1",
         "[8748, 5555, 8987, 1267, 7916, 341, 3247, 11344, 6036, 6789, 6789, 6789, 10398, 6789]"
        ],
        [
         "2",
         "[8748, 2548, 12380, 8927, 10317, 6789, 6789, 6789, 7355, 9994, 2548, 5902, 3247, 59, 5190, 11453, 10181]"
        ],
        [
         "3",
         "[8748, 7460, 9564, 11686, 8472, 3247, 11185, 9129, 6706, 3969, 8965, 7021, 7501, 5599, 6375, 6981, 9965, 7879]"
        ],
        [
         "4",
         "[8748, 10491, 7460, 9564, 2052, 11686, 3139, 13072, 13239, 3502, 7460]"
        ],
        [
         "5",
         "[8748, 5755, 9435, 1222, 2052, 1433, 13502, 13134, 8056, 12380, 8927, 6981, 4753, 12739, 6789, 7460, 9564, 11686, 11344, 11399, 13072, 13239, 3502, 5718, 11565]"
        ],
        [
         "6",
         "[8748, 7971, 12520, 7452, 9046, 1862, 2548, 4391, 10016, 4753, 6732, 7652, 4435, 8927, 13201, 4504, 492]"
        ],
        [
         "7",
         "[8748, 11686, 7060, 2052, 2672, 4329, 13502, 383, 5660, 8139, 8145, 12520, 5288, 6789, 5612, 8927, 6789, 4849, 7694, 6226]"
        ],
        [
         "8",
         "[8748, 5864, 12520, 2548, 12380, 8927, 377, 12139, 2548, 6605, 10181, 6503]"
        ],
        [
         "9",
         "[8748, 7460, 12902, 2758, 12520, 10491, 11765, 5097, 1086, 9639, 6789, 8987, 12561, 9767, 5224, 3247, 1388, 6789]"
        ],
        [
         "10",
         "[8748, 9348, 8987, 11759, 8056, 5712, 2205, 11344, 4371, 6641, 5989, 885, 374, 10416, 2375]"
        ],
        [
         "11",
         "[8748, 2548, 654, 1543, 1665, 6789, 4648, 9922, 10632, 10480, 9084, 5204, 6789, 6503]"
        ],
        [
         "12",
         "[8748, 4753, 2205, 2923, 2052, 2754, 12348, 10181, 1766, 7924, 3502, 4718, 13405, 11453, 3247, 735, 5599, 2548, 7430, 8927, 7974, 7728, 1334, 4718, 12, 11453, 9272, 10181, 3019]"
        ],
        [
         "13",
         "[8748, 10354, 2548, 12347, 5718, 8965, 6692, 5979, 5365, 5542, 10181, 9371, 59, 6228, 11344, 1366, 4504, 8495, 431, 6831, 8927, 6789, 4849, 1441]"
        ],
        [
         "14",
         "[8748, 5031, 10181]"
        ],
        [
         "15",
         "[8748, 9928, 11557, 4747, 2205, 4461, 7054, 6789]"
        ],
        [
         "16",
         "[8748, 4648, 4147, 13502, 4718, 9821, 13335, 2679, 1433, 6746, 3247, 11292, 2548, 1267, 10979, 4458, 377, 2754, 343, 3502, 13054, 8886, 6789, 6439]"
        ],
        [
         "17",
         "[8748, 2548, 10103, 8495, 424, 3247, 9928, 9733, 8494, 10491, 7693, 8927, 2352, 2116, 3969, 4718, 10949, 7120, 3247, 3529, 9854, 3965, 1334, 6606, 3115, 885, 1388, 6789, 317, 10181]"
        ],
        [
         "18",
         "[2548, 5718, 8748, 6789]"
        ],
        [
         "19",
         "[8748, 8987, 11759, 12676, 9435, 2759, 11166, 530, 6802, 12051, 6943, 13656, 10181, 10181, 10181, 10181, 10181, 10181, 10181, 2548, 5223, 3247, 4391, 11589, 11399, 8987, 6789]"
        ],
        [
         "20",
         "[8748, 4967, 575, 8965, 9821, 4354, 3969, 1100, 10618, 7759, 6950, 10145, 10480, 3645, 4420, 11944, 6228, 13134, 575, 7517, 3247, 8704, 6802, 6802, 6802]"
        ],
        [
         "21",
         "[8748, 2548, 7093, 4753, 5863, 6789, 6831, 8927, 6789, 4849, 2495, 7363]"
        ],
        [
         "22",
         "[8748, 2548, 7093, 11344, 3386, 6323, 6789, 8987, 575, 2052, 12503, 5224, 13410, 6789]"
        ],
        [
         "23",
         "[8748, 11338, 8987, 2759, 10664, 12051, 6490, 389, 9072, 9425, 10350, 5985, 433, 6802]"
        ],
        [
         "24",
         "[8748, 8987, 1965, 56, 8654, 4718, 9750, 6789, 6789, 2548, 12272, 9750, 11589, 4718, 4585, 10491, 8987, 1965, 5206, 4718, 10949, 4504, 6789, 6789, 6789, 2548, 5223, 8233, 835]"
        ],
        [
         "25",
         "[8748, 10782, 10478, 13284, 6789, 2548, 9282, 10491, 7460, 9564, 3178, 7759, 4846, 6789, 10885, 10491, 3208, 11589, 1317, 12341, 6789]"
        ],
        [
         "26",
         "[8748, 12676, 2594, 4498, 13142, 4392, 2633, 6802, 10181, 221, 6189, 2912, 1334, 4498, 11940, 4648, 2548, 11759, 2548, 4435, 8927, 2759, 208, 13068, 12661, 13502, 8831, 5869, 1089]"
        ],
        [
         "27",
         "[8748, 6605, 8987, 9497, 1388, 6802, 1708, 8927, 8767, 10895, 1456, 2759, 10194, 4798, 433, 6789]"
        ],
        [
         "28",
         "[8748, 2758, 3247, 1388, 8056, 10895, 4028, 8927, 7618, 998, 5634, 1715, 8495, 11344, 13203, 6789, 10016, 4187, 8429, 12610, 12776]"
        ],
        [
         "29",
         "[8748, 6746, 3247, 12174, 8939, 10949, 1334, 2052, 1738, 7071, 6789, 2923, 2052, 9810, 6198, 6789, 2475, 9873]"
        ],
        [
         "30",
         "[8748, 13287, 10181, 2548, 10185, 10661, 2052, 8792, 13514, 11453, 11589, 8987, 12520, 377, 2548, 4028, 8927, 3815, 4718, 3104, 1317, 6789, 5989, 2548, 7712, 4718, 8939, 3995, 6953, 1433, 2117, 661]"
        ],
        [
         "31",
         "[8748, 575, 11344, 7220, 885, 5272, 13502, 11344, 12657, 221, 9928, 8056, 575, 6488, 9290, 5626, 6802]"
        ],
        [
         "32",
         "[8748, 317, 12520, 9480, 11186, 13604, 1334, 1433, 12859, 3247, 6746, 10317, 6789, 10949, 2052, 6789, 1317, 5964, 3013, 11732, 5599, 11408, 11428, 221, 6746, 10181]"
        ],
        [
         "33",
         "[8748, 4043, 4718, 2901, 6719, 11112, 12520, 10185, 9435, 7172, 3247, 11367, 8965, 9290, 11692, 4780, 6523, 4724]"
        ],
        [
         "34",
         "[8748, 4753, 2205, 2754, 7163, 10181, 8886, 634, 2123, 10206, 3247, 9482, 1337, 7663, 885, 4905, 6831, 8927, 6789, 4849, 3387, 3019, 4157, 10902, 10470, 753]"
        ],
        [
         "35",
         "[5499, 11577, 8748, 7139, 11589, 11344, 7828, 8495, 12513, 3247, 6013, 6789, 3346, 1241, 6831, 8927, 6789, 4849, 6699, 6537, 6409]"
        ],
        [
         "36",
         "[8748, 5646, 2205, 11344, 11399, 7797, 3247, 4391, 10181, 2880, 6036, 2217, 10181, 8792, 10491, 10282, 6789, 3346]"
        ],
        [
         "37",
         "[8748, 1940, 12896, 10491, 12896, 10181, 2880, 4883, 9798, 12520, 13375, 2513, 10181]"
        ],
        [
         "38",
         "[8748, 11944, 4028, 2548, 8244, 4718, 1433, 3247, 9482, 6802, 6802]"
        ],
        [
         "39",
         "[8748, 8965, 3260, 6751, 2205, 8392, 936, 1334, 8965, 11940, 6831, 8927, 6789, 4849, 6271, 9981]"
        ],
        [
         "40",
         "[8748, 6220, 885, 4301, 8561, 12954, 12520, 11344, 8686, 12407, 12520, 10491, 1935, 8056, 2932, 3969, 11344, 7461, 10181, 6831, 8927, 6789, 4849, 7218, 3840, 9638]"
        ],
        [
         "41",
         "[8748, 7177, 12520, 9821, 1862, 5121, 8831, 8494, 4147, 10181, 377, 2548, 12347, 6078, 2052, 5289, 1862, 13056, 4718, 10206, 7916, 3247, 4718, 3104, 4558, 6789, 317, 6802]"
        ],
        [
         "42",
         "[8748, 2514, 317, 1388, 10205, 4718, 8665, 1331, 13502, 4718, 1433, 6746, 6490, 5547, 10181, 10181, 10181]"
        ],
        [
         "43",
         "[8748, 2548, 6981, 5097, 7992, 1282, 377, 5078, 3247, 2052, 3554, 253, 8606, 8987, 1708, 8927, 4391, 6789, 724, 4028, 2548, 4391, 11589, 8987, 5708, 7460, 7409, 6802, 3172]"
        ],
        [
         "44",
         "[8748, 575, 10206, 416, 10948, 13502, 5386, 1334, 1862, 5994, 6802]"
        ],
        [
         "45",
         "[8748, 2548, 12347, 13029, 13502, 2052, 5224, 12498, 8987, 4047, 10181, 10181]"
        ],
        [
         "46",
         "[8748, 8434, 6831, 8927, 6789, 4849, 6866, 2586, 6831, 8927, 6789, 4849, 4007, 11932]"
        ],
        [
         "47",
         "[8748, 6833, 4753, 10185, 6910, 4718, 13479]"
        ],
        [
         "48",
         "[8748, 1660, 13515, 10010, 9733, 7439, 11697, 10262, 4105, 1660, 10181, 2548, 10678, 13515, 4965]"
        ],
        [
         "49",
         "[8748, 1660, 13515, 6228, 3934, 8919]"
        ]
       ],
       "shape": {
        "columns": 1,
        "rows": 14452
       }
      },
      "text/plain": [
       "0                         [8748, 12676, 7483, 12638, 6789]\n",
       "1        [8748, 5555, 8987, 1267, 7916, 341, 3247, 1134...\n",
       "2        [8748, 2548, 12380, 8927, 10317, 6789, 6789, 6...\n",
       "3        [8748, 7460, 9564, 11686, 8472, 3247, 11185, 9...\n",
       "4        [8748, 10491, 7460, 9564, 2052, 11686, 3139, 1...\n",
       "                               ...                        \n",
       "14635    [6500, 6125, 8987, 10895, 190, 1334, 2052, 127...\n",
       "14636    [6500, 416, 10618, 8389, 8102, 1433, 6789, 131...\n",
       "14637         [6500, 13656, 10665, 4479, 1901, 3247, 8756]\n",
       "14638    [6500, 8987, 6981, 4718, 4427, 12520, 8987, 32...\n",
       "14639    [6500, 10895, 6981, 765, 4648, 10895, 5902, 11...\n",
       "Name: text, Length: 14452, dtype: object"
      ]
     },
     "execution_count": 13,
     "metadata": {},
     "output_type": "execute_result"
    }
   ],
   "source": [
    "# 将单词使用词表进行编码\n",
    "text = data.text.apply(lambda x: [word_index.get(word, 0) for word in x])\n",
    "# 查看编码后的数据\n",
    "text"
   ]
  },
  {
   "cell_type": "code",
   "execution_count": 14,
   "metadata": {},
   "outputs": [
    {
     "name": "stdout",
     "output_type": "stream",
     "text": [
      "Max length:  40\n",
      "pad_text.shape:  (14452, 40)\n"
     ]
    },
    {
     "data": {
      "text/plain": [
       "array([[ 8748, 12676,  7483, 12638,  6789,     0,     0,     0,     0,\n",
       "            0,     0,     0,     0,     0,     0,     0,     0,     0,\n",
       "            0,     0,     0,     0,     0,     0,     0,     0,     0,\n",
       "            0,     0,     0,     0,     0,     0,     0,     0,     0,\n",
       "            0,     0,     0,     0],\n",
       "       [ 8748,  5555,  8987,  1267,  7916,   341,  3247, 11344,  6036,\n",
       "         6789,  6789,  6789, 10398,  6789,     0,     0,     0,     0,\n",
       "            0,     0,     0,     0,     0,     0,     0,     0,     0,\n",
       "            0,     0,     0,     0,     0,     0,     0,     0,     0,\n",
       "            0,     0,     0,     0],\n",
       "       [ 8748,  2548, 12380,  8927, 10317,  6789,  6789,  6789,  7355,\n",
       "         9994,  2548,  5902,  3247,    59,  5190, 11453, 10181,     0,\n",
       "            0,     0,     0,     0,     0,     0,     0,     0,     0,\n",
       "            0,     0,     0,     0,     0,     0,     0,     0,     0,\n",
       "            0,     0,     0,     0],\n",
       "       [ 8748,  7460,  9564, 11686,  8472,  3247, 11185,  9129,  6706,\n",
       "         3969,  8965,  7021,  7501,  5599,  6375,  6981,  9965,  7879,\n",
       "            0,     0,     0,     0,     0,     0,     0,     0,     0,\n",
       "            0,     0,     0,     0,     0,     0,     0,     0,     0,\n",
       "            0,     0,     0,     0],\n",
       "       [ 8748, 10491,  7460,  9564,  2052, 11686,  3139, 13072, 13239,\n",
       "         3502,  7460,     0,     0,     0,     0,     0,     0,     0,\n",
       "            0,     0,     0,     0,     0,     0,     0,     0,     0,\n",
       "            0,     0,     0,     0,     0,     0,     0,     0,     0,\n",
       "            0,     0,     0,     0]])"
      ]
     },
     "execution_count": 14,
     "metadata": {},
     "output_type": "execute_result"
    }
   ],
   "source": [
    "# 获取最大评论长度\n",
    "maxlen = max(len(x) for x in text)\n",
    "print(\"Max length: \", maxlen)\n",
    "# 将评论填充到最大长度\n",
    "pad_text = [l + (maxlen-len(l))*[0] for l in text]\n",
    "# 转化为numpy数组\n",
    "pad_text = np.array(pad_text)\n",
    "# 查看填充后的数据形状\n",
    "print(\"pad_text.shape: \", pad_text.shape)\n",
    "# 查看填充后的数据\n",
    "pad_text[:5]"
   ]
  },
  {
   "cell_type": "markdown",
   "metadata": {},
   "source": [
    "## 标签数据预处理"
   ]
  },
  {
   "cell_type": "code",
   "execution_count": 15,
   "metadata": {},
   "outputs": [
    {
     "name": "stdout",
     "output_type": "stream",
     "text": [
      "labels.shape:  (14452,)\n"
     ]
    }
   ],
   "source": [
    "# 获取标签数据\n",
    "labels = data.review.values\n",
    "# 查看标签数据形状\n",
    "print(\"labels.shape: \", labels.shape)"
   ]
  },
  {
   "cell_type": "markdown",
   "metadata": {},
   "source": [
    "## 划分数据集"
   ]
  },
  {
   "cell_type": "code",
   "execution_count": 16,
   "metadata": {},
   "outputs": [
    {
     "data": {
      "text/plain": [
       "((10839, 40), (3613, 40), (10839,))"
      ]
     },
     "execution_count": 16,
     "metadata": {},
     "output_type": "execute_result"
    }
   ],
   "source": [
    "from sklearn.model_selection import train_test_split\n",
    "# 划分数据集，使用默认的划分比例7.5：2.5\n",
    "x_train, x_test, y_train, y_test = train_test_split(pad_text, labels)\n",
    "x_train.shape, x_test.shape, y_train.shape"
   ]
  },
  {
   "cell_type": "markdown",
   "metadata": {},
   "source": [
    "创建 dataset"
   ]
  },
  {
   "cell_type": "code",
   "execution_count": null,
   "metadata": {},
   "outputs": [],
   "source": [
    "class Mydataset(torch.utils.data.Dataset):\n",
    "    def __init__(self, text_list, label_list):\n",
    "        self.text_list = text_list\n",
    "        self.label_list = label_list\n",
    "        \n",
    "    def __getitem__(self, index):\n",
    "        text = torch.LongTensor(self.text_list[index])\n",
    "        label = self.label_list[index]\n",
    "        return text, label\n",
    "\n",
    "    def __len__(self):\n",
    "        return len(self.text_list)"
   ]
  },
  {
   "cell_type": "code",
   "execution_count": null,
   "metadata": {},
   "outputs": [],
   "source": [
    "train_ds = Mydataset(x_train, y_train)\n",
    "test_ds = Mydataset(x_test, y_test)"
   ]
  },
  {
   "cell_type": "code",
   "execution_count": null,
   "metadata": {},
   "outputs": [],
   "source": [
    "BTACH_SIZE = 16"
   ]
  },
  {
   "cell_type": "code",
   "execution_count": null,
   "metadata": {},
   "outputs": [],
   "source": [
    "train_dl = torch.utils.data.DataLoader(\n",
    "                                       train_ds,\n",
    "                                       batch_size=BTACH_SIZE,\n",
    "                                       shuffle=True\n",
    ")"
   ]
  },
  {
   "cell_type": "code",
   "execution_count": null,
   "metadata": {},
   "outputs": [],
   "source": [
    "test_dl = torch.utils.data.DataLoader(\n",
    "                                       test_ds,\n",
    "                                       batch_size=BTACH_SIZE\n",
    ")"
   ]
  },
  {
   "cell_type": "markdown",
   "metadata": {},
   "source": [
    "Embeding : 把文本映射为一个密集向量"
   ]
  },
  {
   "cell_type": "code",
   "execution_count": null,
   "metadata": {},
   "outputs": [],
   "source": [
    "class Net(nn.Module):\n",
    "    def __init__(self):\n",
    "        super(Net, self).__init__()\n",
    "        self.em = nn.Embedding(max_word, 100)   # batch*maxlen*100\n",
    "        self.fc1 = nn.Linear(maxlen*100, 1024)\n",
    "        self.fc2 = nn.Linear(1024, 3)\n",
    "\n",
    "    def forward(self, x):\n",
    "        x = self.em(x)\n",
    "        x = x.view(x.size(0), -1)\n",
    "        x = F.relu(self.fc1(x))\n",
    "        x = self.fc2(x)\n",
    "        return x"
   ]
  },
  {
   "cell_type": "code",
   "execution_count": null,
   "metadata": {},
   "outputs": [],
   "source": [
    "model = Net().to(device)"
   ]
  },
  {
   "cell_type": "code",
   "execution_count": null,
   "metadata": {},
   "outputs": [],
   "source": [
    "loss_fn = nn.CrossEntropyLoss()\n",
    "optimizer = torch.optim.Adam(model.parameters(), lr=0.001)"
   ]
  },
  {
   "cell_type": "code",
   "execution_count": null,
   "metadata": {},
   "outputs": [],
   "source": [
    "def fit(epoch, model, trainloader, testloader):\n",
    "    correct = 0\n",
    "    total = 0\n",
    "    running_loss = 0\n",
    "    \n",
    "    model.train()\n",
    "    for x, y in trainloader:\n",
    "        if torch.cuda.is_available():\n",
    "                x, y = x.to('cuda'), y.to('cuda')\n",
    "        # x, y = x.to(device), y.to(device)\n",
    "        y_pred = model(x)\n",
    "        loss = loss_fn(y_pred, y)\n",
    "        optimizer.zero_grad()\n",
    "        loss.backward()\n",
    "        optimizer.step()\n",
    "        with torch.no_grad():\n",
    "            y_pred = torch.argmax(y_pred, dim=1)\n",
    "            correct += (y_pred == y).sum().item()\n",
    "            total += y.size(0)\n",
    "            running_loss += loss.item()\n",
    "#    exp_lr_scheduler.step()\n",
    "    epoch_loss = running_loss / len(trainloader.dataset)\n",
    "    epoch_acc = correct / total\n",
    "        \n",
    "        \n",
    "    test_correct = 0\n",
    "    test_total = 0\n",
    "    test_running_loss = 0 \n",
    "    \n",
    "    model.eval()\n",
    "    with torch.no_grad():\n",
    "        for x, y in testloader:\n",
    "            x, y = x.to(device), y.to(device)\n",
    "            y_pred = model(x)\n",
    "            loss = loss_fn(y_pred, y)\n",
    "            y_pred = torch.argmax(y_pred, dim=1)\n",
    "            test_correct += (y_pred == y).sum().item()\n",
    "            test_total += y.size(0)\n",
    "            test_running_loss += loss.item()\n",
    "    \n",
    "    epoch_test_loss = test_running_loss / len(testloader.dataset)\n",
    "    epoch_test_acc = test_correct / test_total\n",
    "    \n",
    "        \n",
    "    print('epoch: ', epoch, \n",
    "          'loss： ', round(epoch_loss, 3),\n",
    "          'accuracy:', round(epoch_acc, 3),\n",
    "          'test_loss： ', round(epoch_test_loss, 3),\n",
    "          'test_accuracy:', round(epoch_test_acc, 3)\n",
    "             )\n",
    "        \n",
    "    return epoch_loss, epoch_acc, epoch_test_loss, epoch_test_acc"
   ]
  },
  {
   "cell_type": "code",
   "execution_count": null,
   "metadata": {},
   "outputs": [],
   "source": [
    "epochs = 10"
   ]
  },
  {
   "cell_type": "code",
   "execution_count": null,
   "metadata": {},
   "outputs": [
    {
     "name": "stdout",
     "output_type": "stream",
     "text": [
      "epoch:  0 loss：  0.051 accuracy: 0.67 test_loss：  0.046 test_accuracy: 0.686\n",
      "epoch:  1 loss：  0.037 accuracy: 0.749 test_loss：  0.044 test_accuracy: 0.733\n",
      "epoch:  2 loss：  0.025 accuracy: 0.835 test_loss：  0.045 test_accuracy: 0.742\n",
      "epoch:  3 loss：  0.017 accuracy: 0.891 test_loss：  0.056 test_accuracy: 0.737\n",
      "epoch:  4 loss：  0.011 accuracy: 0.931 test_loss：  0.062 test_accuracy: 0.735\n",
      "epoch:  5 loss：  0.008 accuracy: 0.956 test_loss：  0.074 test_accuracy: 0.723\n",
      "epoch:  6 loss：  0.006 accuracy: 0.965 test_loss：  0.09 test_accuracy: 0.729\n",
      "epoch:  7 loss：  0.004 accuracy: 0.976 test_loss：  0.108 test_accuracy: 0.714\n",
      "epoch:  8 loss：  0.004 accuracy: 0.982 test_loss：  0.104 test_accuracy: 0.714\n",
      "epoch:  9 loss：  0.003 accuracy: 0.981 test_loss：  0.121 test_accuracy: 0.722\n"
     ]
    }
   ],
   "source": [
    "train_loss = []\n",
    "train_acc = []\n",
    "test_loss = []\n",
    "test_acc = []\n",
    "\n",
    "for epoch in range(epochs):\n",
    "    epoch_loss, epoch_acc, epoch_test_loss, epoch_test_acc = fit(epoch,\n",
    "                                                                 model,\n",
    "                                                                 train_dl,\n",
    "                                                                 test_dl)\n",
    "    train_loss.append(epoch_loss)\n",
    "    train_acc.append(epoch_acc)\n",
    "    test_loss.append(epoch_test_loss)\n",
    "    test_acc.append(epoch_test_acc)"
   ]
  },
  {
   "cell_type": "code",
   "execution_count": null,
   "metadata": {},
   "outputs": [
    {
     "data": {
      "text/plain": [
       "<matplotlib.legend.Legend at 0x1828c4039a0>"
      ]
     },
     "metadata": {},
     "output_type": "display_data"
    },
    {
     "data": {
      "image/png": "[encoded data removed]",
      "text/plain": [
       "<Figure size 640x480 with 1 Axes>"
      ]
     },
     "metadata": {},
     "output_type": "display_data"
    }
   ],
   "source": [
    "plt.plot(range(epochs), train_acc, c='r', label='train_acc')\n",
    "plt.plot(range(epochs), test_acc, c='b', label='test_loss')\n",
    "plt.legend()"
   ]
  },
  {
   "cell_type": "code",
   "execution_count": null,
   "metadata": {},
   "outputs": [
    {
     "data": {
      "text/plain": [
       "<matplotlib.legend.Legend at 0x1828c46af10>"
      ]
     },
     "metadata": {},
     "output_type": "display_data"
    },
    {
     "data": {
      "image/png": "[encoded data removed]",
      "text/plain": [
       "<Figure size 640x480 with 1 Axes>"
      ]
     },
     "metadata": {},
     "output_type": "display_data"
    }
   ],
   "source": [
    "plt.plot(range(epochs), train_loss, c='r', label='train_loss')\n",
    "plt.plot(range(epochs), test_loss, c='b', label='test_loss')\n",
    "plt.legend()"
   ]
  },
  {
   "cell_type": "markdown",
   "metadata": {},
   "source": [
    "# 使用LSTM"
   ]
  },
  {
   "cell_type": "code",
   "execution_count": null,
   "metadata": {},
   "outputs": [],
   "source": [
    "class Net(nn.Module):\n",
    "    def __init__(self):\n",
    "        super(Net, self).__init__()\n",
    "        self.em = nn.Embedding(max_word, 100)   # batch*maxlen*100\n",
    "        self.lstm = nn.LSTM(100, 200, batch_first=True)\n",
    "        self.fc1 = nn.Linear(200, 256)\n",
    "        self.fc2 = nn.Linear(256, 3)\n",
    "\n",
    "    def forward(self, x):\n",
    "        x = self.em(x)\n",
    "        x, _ = self.lstm(x)\n",
    "        x = F.relu(self.fc1(x[:, -1, :]))\n",
    "        x = self.fc2(x)\n",
    "        return x"
   ]
  },
  {
   "cell_type": "code",
   "execution_count": null,
   "metadata": {},
   "outputs": [],
   "source": [
    "model = Net().to(device)"
   ]
  },
  {
   "cell_type": "code",
   "execution_count": null,
   "metadata": {},
   "outputs": [],
   "source": [
    "loss_fn = nn.CrossEntropyLoss()\n",
    "optimizer = torch.optim.Adam(model.parameters(), lr=0.001)"
   ]
  },
  {
   "cell_type": "code",
   "execution_count": null,
   "metadata": {},
   "outputs": [],
   "source": [
    "epochs = 20"
   ]
  },
  {
   "cell_type": "code",
   "execution_count": null,
   "metadata": {},
   "outputs": [
    {
     "name": "stdout",
     "output_type": "stream",
     "text": [
      "epoch:  0 loss：  0.058 accuracy: 0.627 test_loss：  0.057 test_accuracy: 0.625\n",
      "epoch:  1 loss：  0.053 accuracy: 0.638 test_loss：  0.05 test_accuracy: 0.659\n",
      "epoch:  2 loss：  0.045 accuracy: 0.689 test_loss：  0.044 test_accuracy: 0.681\n",
      "epoch:  3 loss：  0.037 accuracy: 0.752 test_loss：  0.041 test_accuracy: 0.706\n",
      "epoch:  4 loss：  0.03 accuracy: 0.813 test_loss：  0.039 test_accuracy: 0.763\n",
      "epoch:  5 loss：  0.024 accuracy: 0.855 test_loss：  0.038 test_accuracy: 0.757\n",
      "epoch:  6 loss：  0.019 accuracy: 0.892 test_loss：  0.043 test_accuracy: 0.755\n",
      "epoch:  7 loss：  0.015 accuracy: 0.917 test_loss：  0.045 test_accuracy: 0.755\n",
      "epoch:  8 loss：  0.012 accuracy: 0.939 test_loss：  0.048 test_accuracy: 0.752\n",
      "epoch:  9 loss：  0.009 accuracy: 0.958 test_loss：  0.055 test_accuracy: 0.756\n",
      "epoch:  10 loss：  0.007 accuracy: 0.969 test_loss：  0.062 test_accuracy: 0.747\n",
      "epoch:  11 loss：  0.005 accuracy: 0.978 test_loss：  0.062 test_accuracy: 0.746\n",
      "epoch:  12 loss：  0.004 accuracy: 0.983 test_loss：  0.075 test_accuracy: 0.749\n",
      "epoch:  13 loss：  0.003 accuracy: 0.985 test_loss：  0.074 test_accuracy: 0.739\n",
      "epoch:  14 loss：  0.003 accuracy: 0.988 test_loss：  0.087 test_accuracy: 0.745\n",
      "epoch:  15 loss：  0.002 accuracy: 0.989 test_loss：  0.091 test_accuracy: 0.747\n",
      "epoch:  16 loss：  0.002 accuracy: 0.993 test_loss：  0.096 test_accuracy: 0.734\n",
      "epoch:  17 loss：  0.001 accuracy: 0.993 test_loss：  0.097 test_accuracy: 0.747\n",
      "epoch:  18 loss：  0.001 accuracy: 0.994 test_loss：  0.103 test_accuracy: 0.745\n",
      "epoch:  19 loss：  0.001 accuracy: 0.996 test_loss：  0.115 test_accuracy: 0.739\n"
     ]
    }
   ],
   "source": [
    "train_loss = []\n",
    "train_acc = []\n",
    "test_loss = []\n",
    "test_acc = []\n",
    "\n",
    "for epoch in range(epochs):\n",
    "    epoch_loss, epoch_acc, epoch_test_loss, epoch_test_acc = fit(epoch,\n",
    "                                                                 model,\n",
    "                                                                 train_dl,\n",
    "                                                                 test_dl)\n",
    "    train_loss.append(epoch_loss)\n",
    "    train_acc.append(epoch_acc)\n",
    "    test_loss.append(epoch_test_loss)\n",
    "    test_acc.append(epoch_test_acc)"
   ]
  },
  {
   "cell_type": "code",
   "execution_count": null,
   "metadata": {},
   "outputs": [
    {
     "data": {
      "text/plain": [
       "<matplotlib.legend.Legend at 0x1828c9bbdf0>"
      ]
     },
     "metadata": {},
     "output_type": "display_data"
    },
    {
     "data": {
      "image/png": "[encoded data removed]",
      "text/plain": [
       "<Figure size 640x480 with 1 Axes>"
      ]
     },
     "metadata": {},
     "output_type": "display_data"
    }
   ],
   "source": [
    "plt.plot(range(epochs), train_acc, c='r', label='train_acc')\n",
    "plt.plot(range(epochs), test_acc, c='b', label='test_loss')\n",
    "plt.legend()"
   ]
  },
  {
   "cell_type": "code",
   "execution_count": null,
   "metadata": {},
   "outputs": [
    {
     "data": {
      "text/plain": [
       "<matplotlib.legend.Legend at 0x182f7030d30>"
      ]
     },
     "metadata": {},
     "output_type": "display_data"
    },
    {
     "data": {
      "image/png": "[encoded data removed]",
      "text/plain": [
       "<Figure size 640x480 with 1 Axes>"
      ]
     },
     "metadata": {},
     "output_type": "display_data"
    }
   ],
   "source": [
    "plt.plot(range(epochs), train_loss, c='r', label='train_loss')\n",
    "plt.plot(range(epochs), test_loss, c='b', label='test_loss')\n",
    "plt.legend()"
   ]
  }
 ],
 "metadata": {
  "kernelspec": {
   "display_name": "pytorch1.7.1",
   "language": "python",
   "name": "pytorch1.7.1"
  },
  "language_info": {
   "codemirror_mode": {
    "name": "ipython",
    "version": 3
   },
   "file_extension": ".py",
   "mimetype": "text/x-python",
   "name": "python",
   "nbconvert_exporter": "python",
   "pygments_lexer": "ipython3",
   "version": "3.8.18"
  }
 },
 "nbformat": 4,
 "nbformat_minor": 2
}
