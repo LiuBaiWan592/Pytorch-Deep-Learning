{
 "cells": [
  {
   "cell_type": "markdown",
   "metadata": {},
   "source": [
    "# 简单文本分类（Simple Text Classification）"
   ]
  },
  {
   "cell_type": "code",
   "execution_count": 1,
   "metadata": {},
   "outputs": [],
   "source": [
    "import torch\n",
    "import torch.nn as nn\n",
    "from torch.utils.data import DataLoader\n",
    "from torchtext.datasets import IMDB\n",
    "from torchtext.data.utils import get_tokenizer\n",
    "from torchtext.vocab import build_vocab_from_iterator"
   ]
  },
  {
   "cell_type": "code",
   "execution_count": 2,
   "metadata": {},
   "outputs": [],
   "source": [
    "# 获取IMDB数据集的训练集和测试集迭代器\n",
    "train_iter = IMDB(split='train')    # 下载IMDB数据集训练集\n",
    "test_iter = IMDB(split='test')"
   ]
  },
  {
   "cell_type": "code",
   "execution_count": 3,
   "metadata": {},
   "outputs": [
    {
     "name": "stdout",
     "output_type": "stream",
     "text": [
      "Label distribution in training set: Counter({1: 12500, 2: 12500})\n"
     ]
    }
   ],
   "source": [
    "# 查看数据集\n",
    "from collections import Counter\n",
    "\n",
    "label_counter = Counter()\n",
    "for label, _ in train_iter:\n",
    "    label_counter[label] += 1\n",
    "\n",
    "print(\"Label distribution in training set:\", label_counter)"
   ]
  },
  {
   "cell_type": "code",
   "execution_count": 4,
   "metadata": {},
   "outputs": [],
   "source": [
    "tokenizer = get_tokenizer('basic_english')  # 分割器\n",
    "def yield_tokens(data_iter):\n",
    "    for _, text in data_iter:\n",
    "        yield tokenizer(text)"
   ]
  },
  {
   "cell_type": "code",
   "execution_count": 5,
   "metadata": {},
   "outputs": [
    {
     "name": "stdout",
     "output_type": "stream",
     "text": [
      "[132, 10, 41, 465]\n"
     ]
    }
   ],
   "source": [
    "# 构建词汇表，并添加未知词元 (<unk>) 和填充词元 (<pad>)\n",
    "vocab = build_vocab_from_iterator(yield_tokens(train_iter),\n",
    "                                  min_freq=5,  # 过滤掉出现次数少于5的词\n",
    "                                  specials=[\"<unk>\", \"<pad>\"],\n",
    "                                  max_tokens=10002)\n",
    "vocab.set_default_index(vocab[\"<unk>\"])  # 设置默认的未知词元索引\n",
    "\n",
    "print(vocab(['here', 'is', 'an', 'example']))"
   ]
  }
 ],
 "metadata": {
  "kernelspec": {
   "display_name": "pytorch2.2.2",
   "language": "python",
   "name": "python3"
  },
  "language_info": {
   "codemirror_mode": {
    "name": "ipython",
    "version": 3
   },
   "file_extension": ".py",
   "mimetype": "text/x-python",
   "name": "python",
   "nbconvert_exporter": "python",
   "pygments_lexer": "ipython3",
   "version": "3.9.21"
  }
 },
 "nbformat": 4,
 "nbformat_minor": 4
}
