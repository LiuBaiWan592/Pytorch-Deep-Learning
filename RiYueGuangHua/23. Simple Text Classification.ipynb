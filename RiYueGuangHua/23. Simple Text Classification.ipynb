{
 "cells": [
  {
   "cell_type": "markdown",
   "metadata": {},
   "source": [
    "# 简单文本分类（Simple Text Classification）"
   ]
  },
  {
   "cell_type": "code",
   "execution_count": 1,
   "metadata": {},
   "outputs": [],
   "source": [
    "import time\n",
    "import torch\n",
    "import torch.nn as nn\n",
    "from torch.utils.data import DataLoader\n",
    "from torchtext.datasets import IMDB\n",
    "from torchtext.data.utils import get_tokenizer\n",
    "from torchtext.vocab import build_vocab_from_iterator"
   ]
  },
  {
   "cell_type": "code",
   "execution_count": 2,
   "metadata": {},
   "outputs": [],
   "source": [
    "# 获取IMDB数据集的训练集和测试集迭代器\n",
    "train_iter = IMDB(split='train')    # 下载IMDB数据集训练集\n",
    "test_iter = IMDB(split='test')"
   ]
  },
  {
   "cell_type": "code",
   "execution_count": 3,
   "metadata": {},
   "outputs": [
    {
     "name": "stdout",
     "output_type": "stream",
     "text": [
      "Label distribution in training set: Counter({1: 12500, 2: 12500})\n"
     ]
    }
   ],
   "source": [
    "# 查看数据集\n",
    "from collections import Counter\n",
    "\n",
    "label_counter = Counter()\n",
    "for label, _ in train_iter:\n",
    "    label_counter[label] += 1\n",
    "\n",
    "print(\"Label distribution in training set:\", label_counter)"
   ]
  },
  {
   "cell_type": "code",
   "execution_count": 4,
   "metadata": {},
   "outputs": [],
   "source": [
    "tokenizer = get_tokenizer('basic_english')  # 分割器\n",
    "def yield_tokens(data_iter):\n",
    "    for _, text in data_iter:\n",
    "        yield tokenizer(text)"
   ]
  },
  {
   "cell_type": "code",
   "execution_count": 5,
   "metadata": {},
   "outputs": [
    {
     "name": "stdout",
     "output_type": "stream",
     "text": [
      "[132, 10, 41, 465]\n"
     ]
    }
   ],
   "source": [
    "# 构建词汇表，并添加未知词元 (<unk>) 和填充词元 (<pad>)\n",
    "vocab = build_vocab_from_iterator(yield_tokens(train_iter),\n",
    "                                  min_freq=5,  # 过滤掉出现次数少于5的词\n",
    "                                  specials=[\"<unk>\", \"<pad>\"],\n",
    "                                  max_tokens=10002)\n",
    "vocab.set_default_index(vocab[\"<unk>\"])  # 设置默认的未知词元索引\n",
    "\n",
    "print(vocab(['here', 'is', 'an', 'example']))"
   ]
  },
  {
   "cell_type": "code",
   "execution_count": 6,
   "metadata": {},
   "outputs": [],
   "source": [
    "text_pipeline = lambda x: vocab(tokenizer(x))  # 处理文本的管道\n",
    "label_pipeline = lambda x: int(x) - 1  # 处理label的管道"
   ]
  },
  {
   "cell_type": "code",
   "execution_count": 7,
   "metadata": {},
   "outputs": [],
   "source": [
    "device = torch.device(\"cuda:0\" if torch.cuda.is_available() else \"cpu\")\n",
    "\n",
    "def collate_batch(batch):\n",
    "    label_list, text_list, offsets = [], [], [0]\n",
    "    for (_label, _text) in batch:\n",
    "        label_list.append(label_pipeline(_label))\n",
    "        processed_text = torch.tensor(text_pipeline(_text), dtype=torch.int64)\n",
    "        text_list.append(processed_text)\n",
    "        offsets.append(processed_text.size(0))\n",
    "    label_list = torch.tensor(label_list, dtype=torch.int64)\n",
    "    offsets = torch.tensor(offsets[:-1]).cumsum(dim=0)\n",
    "    text_list = torch.cat(text_list)\n",
    "    return label_list.to(device), text_list.to(device), offsets.to(device)"
   ]
  },
  {
   "cell_type": "code",
   "execution_count": 8,
   "metadata": {},
   "outputs": [],
   "source": [
    "class TextClassificationModel(nn.Module):  # 分类模型\n",
    "\n",
    "    def __init__(self, vocab_size, embed_dim, num_class):\n",
    "        super(TextClassificationModel, self).__init__()\n",
    "        self.embedding = nn.EmbeddingBag(vocab_size, embed_dim, sparse=False)\n",
    "        self.fc = nn.Linear(embed_dim, num_class)\n",
    "        self.init_weights()\n",
    "\n",
    "    def init_weights(self):\n",
    "        initrange = 0.5\n",
    "        self.embedding.weight.data.uniform_(-initrange, initrange)\n",
    "        self.fc.weight.data.uniform_(-initrange, initrange)\n",
    "        self.fc.bias.data.zero_()\n",
    "\n",
    "    def forward(self, text, offsets):\n",
    "        embedded = self.embedding(text, offsets)\n",
    "        return self.fc(embedded)"
   ]
  },
  {
   "cell_type": "code",
   "execution_count": 9,
   "metadata": {},
   "outputs": [],
   "source": [
    "num_class = len(set([label for (label, text) in train_iter]))\n",
    "vocab_size = len(vocab)\n",
    "emsize = 64\n",
    "model = TextClassificationModel(vocab_size, emsize, num_class).to(device)"
   ]
  },
  {
   "cell_type": "code",
   "execution_count": 10,
   "metadata": {},
   "outputs": [],
   "source": [
    "def train(dataloader, optimizer, criterion, epoch):  # 训练函数\n",
    "    model.train()\n",
    "    total_acc, total_count = 0, 0\n",
    "    log_interval = 50\n",
    "    start_time = time.time()\n",
    "\n",
    "    for idx, (label, text, offsets) in enumerate(dataloader):\n",
    "        optimizer.zero_grad()\n",
    "        predicted_label = model(text, offsets)\n",
    "        loss = criterion(predicted_label, label)\n",
    "        loss.backward()\n",
    "        torch.nn.utils.clip_grad_norm_(model.parameters(), 0.1)\n",
    "        optimizer.step()\n",
    "        total_acc += (predicted_label.argmax(1) == label).sum().item()\n",
    "        total_count += label.size(0)\n",
    "        if idx % log_interval == 0 and idx > 0:\n",
    "            elapsed = time.time() - start_time\n",
    "            print('| epoch {:3d} | {:5d}/{:5d} batches '\n",
    "                  '| accuracy {:8.3f}'.format(epoch, idx, len(dataloader),\n",
    "                                              total_acc / total_count))\n",
    "            total_acc, total_count = 0, 0\n",
    "            start_time = time.time()"
   ]
  },
  {
   "cell_type": "code",
   "execution_count": 11,
   "metadata": {},
   "outputs": [],
   "source": [
    "def evaluate(dataloader):  # 评价函数\n",
    "    model.eval()\n",
    "    total_acc, total_count = 0, 0\n",
    "\n",
    "    with torch.no_grad():\n",
    "        for idx, (label, text, offsets) in enumerate(dataloader):\n",
    "            predicted_label = model(text, offsets)\n",
    "            total_acc += (predicted_label.argmax(1) == label).sum().item()\n",
    "            total_count += label.size(0)\n",
    "    return total_acc / total_count"
   ]
  },
  {
   "cell_type": "code",
   "execution_count": 12,
   "metadata": {},
   "outputs": [],
   "source": [
    "# 超参\n",
    "EPOCHS = 10  # epoch\n",
    "LR = 5  # 学习率\n",
    "BATCH_SIZE = 64  # batch大小\n",
    "\n",
    "criterion = torch.nn.CrossEntropyLoss()  # 这里也可以二分类损失\n",
    "optimizer = torch.optim.SGD(model.parameters(), lr=LR)  # 这里也可以定义Adam优化\n",
    "scheduler = torch.optim.lr_scheduler.StepLR(optimizer, 1.0, gamma=0.1)\n",
    "total_accu = None"
   ]
  },
  {
   "cell_type": "code",
   "execution_count": 13,
   "metadata": {},
   "outputs": [],
   "source": [
    "from torch.utils.data.dataset import random_split\n",
    "from torchtext.data.functional import to_map_style_dataset\n",
    "\n",
    "train_iter, test_iter = IMDB()  # IMDB训练集测试集都下载\n",
    "train_dataset = to_map_style_dataset(train_iter)\n",
    "test_dataset = to_map_style_dataset(test_iter)\n",
    "num_train = int(len(train_dataset) * 0.95)\n",
    "split_train_, split_valid_ = \\\n",
    "    random_split(train_dataset, [num_train, len(train_dataset) - num_train])\n",
    "\n",
    "train_dataloader = DataLoader(split_train_, batch_size=BATCH_SIZE,\n",
    "                              shuffle=True, collate_fn=collate_batch)\n",
    "valid_dataloader = DataLoader(split_valid_, batch_size=BATCH_SIZE,\n",
    "                              shuffle=True, collate_fn=collate_batch)\n",
    "test_dataloader = DataLoader(test_dataset, batch_size=BATCH_SIZE,\n",
    "                             shuffle=True, collate_fn=collate_batch)"
   ]
  },
  {
   "cell_type": "code",
   "execution_count": 14,
   "metadata": {},
   "outputs": [
    {
     "name": "stdout",
     "output_type": "stream",
     "text": [
      "| epoch   1 |    50/  372 batches | accuracy    0.538\n",
      "| epoch   1 |   100/  372 batches | accuracy    0.572\n",
      "| epoch   1 |   150/  372 batches | accuracy    0.624\n",
      "| epoch   1 |   200/  372 batches | accuracy    0.668\n",
      "| epoch   1 |   250/  372 batches | accuracy    0.684\n",
      "| epoch   1 |   300/  372 batches | accuracy    0.705\n",
      "| epoch   1 |   350/  372 batches | accuracy    0.725\n",
      "-----------------------------------------------------------\n",
      "| end of epoch   1 | time:  6.10s | valid accuracy    0.746 \n",
      "-----------------------------------------------------------\n",
      "| epoch   2 |    50/  372 batches | accuracy    0.737\n",
      "| epoch   2 |   100/  372 batches | accuracy    0.763\n",
      "| epoch   2 |   150/  372 batches | accuracy    0.749\n",
      "| epoch   2 |   200/  372 batches | accuracy    0.755\n",
      "| epoch   2 |   250/  372 batches | accuracy    0.788\n",
      "| epoch   2 |   300/  372 batches | accuracy    0.779\n",
      "| epoch   2 |   350/  372 batches | accuracy    0.780\n",
      "-----------------------------------------------------------\n",
      "| end of epoch   2 | time:  5.18s | valid accuracy    0.649 \n",
      "-----------------------------------------------------------\n",
      "| epoch   3 |    50/  372 batches | accuracy    0.797\n",
      "| epoch   3 |   100/  372 batches | accuracy    0.833\n",
      "| epoch   3 |   150/  372 batches | accuracy    0.828\n",
      "| epoch   3 |   200/  372 batches | accuracy    0.825\n",
      "| epoch   3 |   250/  372 batches | accuracy    0.831\n",
      "| epoch   3 |   300/  372 batches | accuracy    0.832\n",
      "| epoch   3 |   350/  372 batches | accuracy    0.827\n",
      "-----------------------------------------------------------\n",
      "| end of epoch   3 | time:  5.23s | valid accuracy    0.812 \n",
      "-----------------------------------------------------------\n",
      "| epoch   4 |    50/  372 batches | accuracy    0.828\n",
      "| epoch   4 |   100/  372 batches | accuracy    0.828\n",
      "| epoch   4 |   150/  372 batches | accuracy    0.834\n",
      "| epoch   4 |   200/  372 batches | accuracy    0.839\n",
      "| epoch   4 |   250/  372 batches | accuracy    0.834\n",
      "| epoch   4 |   300/  372 batches | accuracy    0.831\n",
      "| epoch   4 |   350/  372 batches | accuracy    0.843\n",
      "-----------------------------------------------------------\n",
      "| end of epoch   4 | time:  5.08s | valid accuracy    0.814 \n",
      "-----------------------------------------------------------\n",
      "| epoch   5 |    50/  372 batches | accuracy    0.838\n",
      "| epoch   5 |   100/  372 batches | accuracy    0.842\n",
      "| epoch   5 |   150/  372 batches | accuracy    0.848\n",
      "| epoch   5 |   200/  372 batches | accuracy    0.846\n",
      "| epoch   5 |   250/  372 batches | accuracy    0.840\n",
      "| epoch   5 |   300/  372 batches | accuracy    0.837\n",
      "| epoch   5 |   350/  372 batches | accuracy    0.840\n",
      "-----------------------------------------------------------\n",
      "| end of epoch   5 | time:  4.55s | valid accuracy    0.821 \n",
      "-----------------------------------------------------------\n",
      "| epoch   6 |    50/  372 batches | accuracy    0.849\n",
      "| epoch   6 |   100/  372 batches | accuracy    0.850\n",
      "| epoch   6 |   150/  372 batches | accuracy    0.844\n",
      "| epoch   6 |   200/  372 batches | accuracy    0.828\n",
      "| epoch   6 |   250/  372 batches | accuracy    0.844\n",
      "| epoch   6 |   300/  372 batches | accuracy    0.847\n",
      "| epoch   6 |   350/  372 batches | accuracy    0.840\n",
      "-----------------------------------------------------------\n",
      "| end of epoch   6 | time:  4.27s | valid accuracy    0.821 \n",
      "-----------------------------------------------------------\n",
      "| epoch   7 |    50/  372 batches | accuracy    0.848\n",
      "| epoch   7 |   100/  372 batches | accuracy    0.839\n",
      "| epoch   7 |   150/  372 batches | accuracy    0.843\n",
      "| epoch   7 |   200/  372 batches | accuracy    0.845\n",
      "| epoch   7 |   250/  372 batches | accuracy    0.853\n",
      "| epoch   7 |   300/  372 batches | accuracy    0.847\n",
      "| epoch   7 |   350/  372 batches | accuracy    0.851\n",
      "-----------------------------------------------------------\n",
      "| end of epoch   7 | time:  4.32s | valid accuracy    0.827 \n",
      "-----------------------------------------------------------\n",
      "| epoch   8 |    50/  372 batches | accuracy    0.856\n",
      "| epoch   8 |   100/  372 batches | accuracy    0.850\n",
      "| epoch   8 |   150/  372 batches | accuracy    0.852\n",
      "| epoch   8 |   200/  372 batches | accuracy    0.847\n",
      "| epoch   8 |   250/  372 batches | accuracy    0.842\n",
      "| epoch   8 |   300/  372 batches | accuracy    0.851\n",
      "| epoch   8 |   350/  372 batches | accuracy    0.849\n",
      "-----------------------------------------------------------\n",
      "| end of epoch   8 | time:  4.25s | valid accuracy    0.829 \n",
      "-----------------------------------------------------------\n",
      "| epoch   9 |    50/  372 batches | accuracy    0.864\n",
      "| epoch   9 |   100/  372 batches | accuracy    0.852\n",
      "| epoch   9 |   150/  372 batches | accuracy    0.850\n",
      "| epoch   9 |   200/  372 batches | accuracy    0.849\n",
      "| epoch   9 |   250/  372 batches | accuracy    0.852\n",
      "| epoch   9 |   300/  372 batches | accuracy    0.851\n",
      "| epoch   9 |   350/  372 batches | accuracy    0.853\n",
      "-----------------------------------------------------------\n",
      "| end of epoch   9 | time:  4.26s | valid accuracy    0.833 \n",
      "-----------------------------------------------------------\n",
      "| epoch  10 |    50/  372 batches | accuracy    0.852\n",
      "| epoch  10 |   100/  372 batches | accuracy    0.860\n",
      "| epoch  10 |   150/  372 batches | accuracy    0.857\n",
      "| epoch  10 |   200/  372 batches | accuracy    0.858\n",
      "| epoch  10 |   250/  372 batches | accuracy    0.854\n",
      "| epoch  10 |   300/  372 batches | accuracy    0.853\n",
      "| epoch  10 |   350/  372 batches | accuracy    0.866\n",
      "-----------------------------------------------------------\n",
      "| end of epoch  10 | time:  4.33s | valid accuracy    0.834 \n",
      "-----------------------------------------------------------\n"
     ]
    }
   ],
   "source": [
    "# 训练\n",
    "for epoch in range(1, EPOCHS + 1):\n",
    "    epoch_start_time = time.time()\n",
    "    train(train_dataloader, optimizer, criterion, epoch)\n",
    "    accu_val = evaluate(valid_dataloader)\n",
    "    if total_accu is not None and total_accu > accu_val:\n",
    "        scheduler.step()\n",
    "    else:\n",
    "        total_accu = accu_val\n",
    "    print('-' * 59)\n",
    "    print('| end of epoch {:3d} | time: {:5.2f}s | '\n",
    "          'valid accuracy {:8.3f} '.format(epoch,\n",
    "                                           time.time() - epoch_start_time,\n",
    "                                           accu_val))\n",
    "    print('-' * 59)"
   ]
  }
 ],
 "metadata": {
  "kernelspec": {
   "display_name": "pytorch2.2.2",
   "language": "python",
   "name": "python3"
  },
  "language_info": {
   "codemirror_mode": {
    "name": "ipython",
    "version": 3
   },
   "file_extension": ".py",
   "mimetype": "text/x-python",
   "name": "python",
   "nbconvert_exporter": "python",
   "pygments_lexer": "ipython3",
   "version": "3.9.21"
  }
 },
 "nbformat": 4,
 "nbformat_minor": 4
}
