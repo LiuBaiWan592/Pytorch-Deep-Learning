{
 "cells": [
  {
   "cell_type": "markdown",
   "metadata": {},
   "source": [
    "# 入门实例-线性回归模型"
   ]
  },
  {
   "cell_type": "code",
   "execution_count": 1,
   "metadata": {},
   "outputs": [
    {
     "data": {
      "text/plain": [
       "'2.2.2'"
      ]
     },
     "execution_count": 1,
     "metadata": {},
     "output_type": "execute_result"
    }
   ],
   "source": [
    "import torch\n",
    "import pandas as pd\n",
    "import numpy as np\n",
    "import matplotlib.pyplot as plt\n",
    "# 打印torch版本\n",
    "torch.__version__"
   ]
  },
  {
   "cell_type": "code",
   "execution_count": 2,
   "metadata": {},
   "outputs": [
    {
     "data": {
      "text/html": [
       "<div>\n",
       "<style scoped>\n",
       "    .dataframe tbody tr th:only-of-type {\n",
       "        vertical-align: middle;\n",
       "    }\n",
       "\n",
       "    .dataframe tbody tr th {\n",
       "        vertical-align: top;\n",
       "    }\n",
       "\n",
       "    .dataframe thead th {\n",
       "        text-align: right;\n",
       "    }\n",
       "</style>\n",
       "<table border=\"1\" class=\"dataframe\">\n",
       "  <thead>\n",
       "    <tr style=\"text-align: right;\">\n",
       "      <th></th>\n",
       "      <th>Unnamed: 0</th>\n",
       "      <th>Education</th>\n",
       "      <th>Income</th>\n",
       "    </tr>\n",
       "  </thead>\n",
       "  <tbody>\n",
       "    <tr>\n",
       "      <th>0</th>\n",
       "      <td>1</td>\n",
       "      <td>10.000000</td>\n",
       "      <td>26.658839</td>\n",
       "    </tr>\n",
       "    <tr>\n",
       "      <th>1</th>\n",
       "      <td>2</td>\n",
       "      <td>10.401338</td>\n",
       "      <td>27.306435</td>\n",
       "    </tr>\n",
       "    <tr>\n",
       "      <th>2</th>\n",
       "      <td>3</td>\n",
       "      <td>10.842809</td>\n",
       "      <td>22.132410</td>\n",
       "    </tr>\n",
       "    <tr>\n",
       "      <th>3</th>\n",
       "      <td>4</td>\n",
       "      <td>11.244147</td>\n",
       "      <td>21.169841</td>\n",
       "    </tr>\n",
       "    <tr>\n",
       "      <th>4</th>\n",
       "      <td>5</td>\n",
       "      <td>11.645485</td>\n",
       "      <td>15.192634</td>\n",
       "    </tr>\n",
       "  </tbody>\n",
       "</table>\n",
       "</div>"
      ],
      "text/plain": [
       "   Unnamed: 0  Education     Income\n",
       "0           1  10.000000  26.658839\n",
       "1           2  10.401338  27.306435\n",
       "2           3  10.842809  22.132410\n",
       "3           4  11.244147  21.169841\n",
       "4           5  11.645485  15.192634"
      ]
     },
     "execution_count": 2,
     "metadata": {},
     "output_type": "execute_result"
    }
   ],
   "source": [
    "# 使用pandas读取csv文件\n",
    "data = pd.read_csv('./dataset/Income.csv')\n",
    "# 打印数据的前5行\n",
    "data.head()\n",
    "# 打印完整数据\n",
    "# data"
   ]
  },
  {
   "cell_type": "code",
   "execution_count": 3,
   "metadata": {},
   "outputs": [
    {
     "name": "stdout",
     "output_type": "stream",
     "text": [
      "<class 'pandas.core.frame.DataFrame'>\n",
      "RangeIndex: 30 entries, 0 to 29\n",
      "Data columns (total 3 columns):\n",
      " #   Column      Non-Null Count  Dtype  \n",
      "---  ------      --------------  -----  \n",
      " 0   Unnamed: 0  30 non-null     int64  \n",
      " 1   Education   30 non-null     float64\n",
      " 2   Income      30 non-null     float64\n",
      "dtypes: float64(2), int64(1)\n",
      "memory usage: 848.0 bytes\n"
     ]
    }
   ],
   "source": [
    "# 打印数据的基本信息\n",
    "data.info()"
   ]
  },
  {
   "cell_type": "code",
   "execution_count": 4,
   "metadata": {},
   "outputs": [
    {
     "data": {
      "text/plain": [
       "Text(0, 0.5, 'Income')"
      ]
     },
     "execution_count": 4,
     "metadata": {},
     "output_type": "execute_result"
    },
    {
     "data": {
      "image/png": "[encoded data removed]",
      "text/plain": [
       "<Figure size 640x480 with 1 Axes>"
      ]
     },
     "metadata": {},
     "output_type": "display_data"
    }
   ],
   "source": [
    "# 绘制数据集的散点图\n",
    "plt.scatter(data.Education, data.Income)\n",
    "plt.xlabel('Education')\n",
    "plt.ylabel('Income')"
   ]
  },
  {
   "cell_type": "code",
   "execution_count": 5,
   "metadata": {},
   "outputs": [
    {
     "data": {
      "text/plain": [
       "(torch.Size([30, 1]), torch.Size([30, 1]))"
      ]
     },
     "execution_count": 5,
     "metadata": {},
     "output_type": "execute_result"
    }
   ],
   "source": [
    "# 将数据转换为张量（Tensor）\n",
    "X = torch.from_numpy(data.Education.values.reshape(-1, 1)).type(torch.FloatTensor)\n",
    "Y = torch.from_numpy(data.Income.values.reshape(-1, 1)).type(torch.FloatTensor)\n",
    "# 打印张量的形状\n",
    "X.shape, Y.shape"
   ]
  },
  {
   "cell_type": "markdown",
   "metadata": {},
   "source": [
    "## 使用nn框架"
   ]
  },
  {
   "cell_type": "code",
   "execution_count": 6,
   "metadata": {},
   "outputs": [],
   "source": [
    "from torch import nn\n",
    "# 定义线性回归模型 y = w * x + b\n",
    "# 必须继承nn.Module类\n",
    "class LinearRegression(nn.Module):\n",
    "    # 初始化模型\n",
    "    def __init__(self):\n",
    "        # 调用父类的初始化方法，继承父类的属性\n",
    "        super(LinearRegression, self).__init__()\n",
    "        # 定义线性模型 y = w * x + b\n",
    "        # 初始化linear为一个线性层，输入长度为1，输出长度为1\n",
    "        self.linear = nn.Linear(1, 1)\n",
    "    # 定义前向传播，self为类的实例，input为输入数据（即x）\n",
    "    def forward(self, input):\n",
    "        # 返回模型的输出\n",
    "        return self.linear(input)"
   ]
  },
  {
   "cell_type": "code",
   "execution_count": 7,
   "metadata": {},
   "outputs": [
    {
     "data": {
      "text/plain": [
       "LinearRegression(\n",
       "  (linear): Linear(in_features=1, out_features=1, bias=True)\n",
       ")"
      ]
     },
     "execution_count": 7,
     "metadata": {},
     "output_type": "execute_result"
    }
   ],
   "source": [
    "# 实例化模型\n",
    "model = LinearRegression()\n",
    "model\n",
    "# bias：偏置\n",
    "# 或者直接使用model = nn.Linear(1, 1)，不用自定义模型"
   ]
  },
  {
   "cell_type": "code",
   "execution_count": 8,
   "metadata": {},
   "outputs": [],
   "source": [
    "# 定义损失函数\n",
    "loss_fn = nn.MSELoss() # 均方误差\n",
    "# loss_fn?"
   ]
  },
  {
   "cell_type": "code",
   "execution_count": 9,
   "metadata": {},
   "outputs": [],
   "source": [
    "# 定义优化器\n",
    "# 使用随机梯度下降优化器(SGD)\n",
    "# model.parameters()：模型的参数, lr：学习率\n",
    "optimizer = torch.optim.SGD(model.parameters(), lr=0.0001)"
   ]
  },
  {
   "cell_type": "code",
   "execution_count": 10,
   "metadata": {},
   "outputs": [
    {
     "name": "stdout",
     "output_type": "stream",
     "text": [
      "Epoch[1000/5000], loss: 9.881744\n",
      "Epoch[2000/5000], loss: 2.790041\n",
      "Epoch[3000/5000], loss: 0.311848\n",
      "Epoch[4000/5000], loss: 0.078819\n",
      "Epoch[5000/5000], loss: 0.835552\n"
     ]
    }
   ],
   "source": [
    "# 训练模型，迭代5000次\n",
    "for epoch in range(5000):\n",
    "    for x, y in zip(X, Y):\n",
    "        # 前向传播，计算模型输出\n",
    "        y_pred = model(x)\n",
    "        # 计算损失，即真实值与预测值之间的均方误差\n",
    "        loss = loss_fn(y_pred, y)\n",
    "        # 梯度清零\n",
    "        optimizer.zero_grad()\n",
    "        # 反向传播，计算梯度\n",
    "        loss.backward()\n",
    "        # 更新参数，使参数沿着梯度的反方向移动，从而使损失最小\n",
    "        optimizer.step()\n",
    "    if (epoch+1) % 1000 == 0:\n",
    "        print('Epoch[{}/{}], loss: {:.6f}'.format(epoch+1, 5000, loss.item()))\n",
    "        "
   ]
  },
  {
   "cell_type": "code",
   "execution_count": 11,
   "metadata": {},
   "outputs": [
    {
     "data": {
      "text/plain": [
       "[('linear.weight',\n",
       "  Parameter containing:\n",
       "  tensor([[4.9789]], requires_grad=True)),\n",
       " ('linear.bias',\n",
       "  Parameter containing:\n",
       "  tensor([-28.4489], requires_grad=True))]"
      ]
     },
     "execution_count": 11,
     "metadata": {},
     "output_type": "execute_result"
    }
   ],
   "source": [
    "# 查看模型的参数，即w和b\n",
    "list(model.named_parameters())"
   ]
  },
  {
   "cell_type": "code",
   "execution_count": 12,
   "metadata": {},
   "outputs": [
    {
     "data": {
      "text/plain": [
       "[<matplotlib.lines.Line2D at 0x1bd1b613bb0>]"
      ]
     },
     "execution_count": 12,
     "metadata": {},
     "output_type": "execute_result"
    },
    {
     "data": {
      "image/png": "[encoded data removed]",
      "text/plain": [
       "<Figure size 640x480 with 1 Axes>"
      ]
     },
     "metadata": {},
     "output_type": "display_data"
    }
   ],
   "source": [
    "# 绘制拟合曲线\n",
    "plt.scatter(data.Education, data.Income)\n",
    "plt.xlabel('Education')\n",
    "plt.ylabel('Income')\n",
    "plt.plot(X, model(X).data.numpy(), color='red')"
   ]
  },
  {
   "cell_type": "markdown",
   "metadata": {},
   "source": [
    "***"
   ]
  },
  {
   "cell_type": "markdown",
   "metadata": {},
   "source": [
    "## 分解写法"
   ]
  },
  {
   "cell_type": "code",
   "execution_count": 13,
   "metadata": {},
   "outputs": [
    {
     "name": "stdout",
     "output_type": "stream",
     "text": [
      "tensor([0.5789], requires_grad=True)\n",
      "tensor([0.], requires_grad=True)\n"
     ]
    }
   ],
   "source": [
    "# 初始化参数w(权重)和b(偏置)\n",
    "w = torch.randn(1, requires_grad=True)\n",
    "b = torch.zeros(1, requires_grad=True)\n",
    "print(w)\n",
    "print(b)"
   ]
  },
  {
   "cell_type": "markdown",
   "metadata": {},
   "source": [
    "模型公式：`Y = w * X + b`"
   ]
  },
  {
   "cell_type": "code",
   "execution_count": 14,
   "metadata": {},
   "outputs": [
    {
     "name": "stdout",
     "output_type": "stream",
     "text": [
      "Epoch[1000/5000], loss: 10.189896\n",
      "Epoch[2000/5000], loss: 2.913956\n",
      "Epoch[3000/5000], loss: 0.343582\n",
      "Epoch[4000/5000], loss: 0.067506\n",
      "Epoch[5000/5000], loss: 0.806971\n"
     ]
    }
   ],
   "source": [
    "learning_rate = 0.0001 # 学习率\n",
    "for epoch in range(5000):\n",
    "    for x, y in zip(X, Y):\n",
    "        # 前向传播，计算模型输出\n",
    "        y_pred = torch.matmul(x, w) + b # torch.matmul()表示矩阵乘法\n",
    "        # 计算损失，即真实值与预测值之间的均方误差\n",
    "        loss = (y - y_pred).pow(2).mean() # .pow(2)表示平方，.mean()表示求均值\n",
    "        # 梯度清零\n",
    "        if w.grad is not None:\n",
    "            w.grad.data.zero_()\n",
    "        if b.grad is not None:\n",
    "            b.grad.data.zero_()\n",
    "        # 反向传播，计算梯度\n",
    "        loss.backward()\n",
    "        # 更新参数，使参数沿着梯度的反方向移动，从而使损失最小\n",
    "        with torch.no_grad():\n",
    "            w.data -= learning_rate * w.grad.data\n",
    "            b.data -= learning_rate * b.grad.data\n",
    "    if (epoch+1) % 1000 == 0:\n",
    "        print('Epoch[{}/{}], loss: {:.6f}'.format(epoch+1, 5000, loss.item()))"
   ]
  },
  {
   "cell_type": "code",
   "execution_count": 15,
   "metadata": {},
   "outputs": [
    {
     "name": "stdout",
     "output_type": "stream",
     "text": [
      "tensor([4.9748], requires_grad=True) tensor([-28.3745], requires_grad=True)\n"
     ]
    }
   ],
   "source": [
    "# 查看模型的参数，即w和b\n",
    "print(w, b)"
   ]
  },
  {
   "cell_type": "code",
   "execution_count": 16,
   "metadata": {},
   "outputs": [
    {
     "data": {
      "text/plain": [
       "[<matplotlib.lines.Line2D at 0x1bd21cb1d30>]"
      ]
     },
     "execution_count": 16,
     "metadata": {},
     "output_type": "execute_result"
    },
    {
     "data": {
      "image/png": "[encoded data removed]",
      "text/plain": [
       "<Figure size 640x480 with 1 Axes>"
      ]
     },
     "metadata": {},
     "output_type": "display_data"
    }
   ],
   "source": [
    "# 绘制拟合曲线\n",
    "plt.scatter(data.Education, data.Income)\n",
    "plt.xlabel('Education')\n",
    "plt.ylabel('Income')\n",
    "plt.plot(X.numpy(), (w*X + b).data.numpy(), color='red')"
   ]
  }
 ],
 "metadata": {
  "kernelspec": {
   "display_name": "pytorch2.2.2",
   "language": "python",
   "name": "python3"
  },
  "language_info": {
   "codemirror_mode": {
    "name": "ipython",
    "version": 3
   },
   "file_extension": ".py",
   "mimetype": "text/x-python",
   "name": "python",
   "nbconvert_exporter": "python",
   "pygments_lexer": "ipython3",
   "version": "3.9.21"
  }
 },
 "nbformat": 4,
 "nbformat_minor": 4
}
